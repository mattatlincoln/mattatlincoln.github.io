{
 "cells": [
  {
   "cell_type": "markdown",
   "metadata": {},
   "source": [
    "# Game of life\n",
    "\n",
    "The universe of the [Game of Life](https://en.wikipedia.org/wiki/Conway%27s_Game_of_Life) ([or](http://conwaylife.com/)) is an infinite two-dimensional orthogonal grid of square cells, each of which is in one of two possible states, alive or dead, or \"populated\" or \"unpopulated\" (the difference may seem minor, except when viewing it as an early model of human/urban behavior simulation or how one views a blank space on a grid). Every cell interacts with its eight neighbours, which are the cells that are horizontally, vertically, or diagonally adjacent. At each step in time, the following transitions occur:\n",
    "\n",
    "1. Any live cell with fewer than two live neighbours dies, as if caused by under-population.\n",
    "2. Any live cell with two or three live neighbours lives on to the next generation.\n",
    "3. Any live cell with more than three live neighbours dies, as if by over-population.\n",
    "4. Any dead cell with exactly three live neighbours becomes a live cell, as if by reproduction.\n",
    "\n",
    "Let's see how this works."
   ]
  },
  {
   "cell_type": "markdown",
   "metadata": {},
   "source": [
    "\n",
    "For example these structures, called a block and a boat, are stable\n",
    "![](https://upload.wikimedia.org/wikipedia/commons/thumb/9/96/Game_of_life_block_with_border.svg/66px-Game_of_life_block_with_border.svg.png)\n",
    "![](https://upload.wikimedia.org/wikipedia/commons/thumb/7/7f/Game_of_life_boat.svg/82px-Game_of_life_boat.svg.png)"
   ]
  },
  {
   "cell_type": "markdown",
   "metadata": {},
   "source": [
    "Whilst, this guy (blinker) oscillates\n",
    "\n",
    "![](https://upload.wikimedia.org/wikipedia/commons/9/95/Game_of_life_blinker.gif)\n"
   ]
  },
  {
   "cell_type": "markdown",
   "metadata": {},
   "source": [
    "and some things will even move across the grid\n",
    "\n",
    "![](https://upload.wikimedia.org/wikipedia/commons/3/37/Game_of_life_animated_LWSS.gif)\n",
    "\n"
   ]
  },
  {
   "cell_type": "markdown",
   "metadata": {},
   "source": [
    "\n",
    "Here is a (very inefficient) implementation of the Game of Life. \n",
    "\n",
    "The only new concept it uses is a 2D array to keep track of which sites on the grid are occupied.\n",
    "\n",
    "Unfortunately, there is no simple way to exit the simulation, just restart the kernel if you want to interrupt.\n",
    "\n",
    "The final cell actually runs the simulation. The others are functions that are used to run it, and you need to run them first."
   ]
  },
  {
   "cell_type": "markdown",
   "metadata": {},
   "source": [
    "**How should we break down the problem of makeing a simulation of the Game of Life?**\n",
    "\n",
    "- \n",
    "-\n",
    "-\n",
    "-"
   ]
  },
  {
   "cell_type": "code",
   "execution_count": 18,
   "metadata": {},
   "outputs": [],
   "source": [
    "def initial_state(ttl,wn,number_of_blobs,nx,ny,color,scale,blobmap):\n",
    "    \"\"\"\n",
    "    randomly occupies some points\n",
    "    \"\"\"\n",
    "    wn.tracer(0,0)\n",
    "    for i in range(number_of_blobs):\n",
    "        col = random.randint(0,nx-1)\n",
    "        row = random.randint(0,ny-1)\n",
    "        if blobmap[col,row] == 1: \n",
    "            fill_square(ttl,wn,col,row,'White',scale)\n",
    "            blobmap[col,row] = 0\n",
    "        else:\n",
    "            fill_square(ttl,wn,col,row,color,scale)\n",
    "            blobmap[col,row] = 1\n",
    "    wn.update()"
   ]
  },
  {
   "cell_type": "code",
   "execution_count": 19,
   "metadata": {},
   "outputs": [],
   "source": [
    "def notTerminated(iteration,blobmap,blobmap_old):\n",
    "    if iteration > 10:\n",
    "        if np.array_equal(blobmap,blobmap_old):\n",
    "            print(\"blobmaps the same?!?\")\n",
    "            return False\n",
    "        blobmap_old = np.copy(blobmap)\n",
    "    if iteration > 500:\n",
    "        return False\n",
    "    return True"
   ]
  },
  {
   "cell_type": "code",
   "execution_count": 20,
   "metadata": {
    "collapsed": true
   },
   "outputs": [],
   "source": [
    "def draw_grid(ttl,wn,nx,ny,scale):\n",
    "    \"\"\"\n",
    "    Draw in our grid\n",
    "    \"\"\"\n",
    "    ttl.color('black')\n",
    "    wn.tracer(0,0)\n",
    "    #draw vertical grid\n",
    "    for i in range(nx+1):\n",
    "        ttl.penup()\n",
    "        ttl.goto(scale*i,0)\n",
    "        ttl.pendown()\n",
    "        ttl.goto(scale*i,scale*ny)\n",
    "        ttl.penup()\n",
    "    \n",
    "    #draw horizontal grid\n",
    "    for j in range(ny+1):\n",
    "        ttl.penup()\n",
    "        ttl.goto(0,scale*j)\n",
    "        ttl.pendown()\n",
    "        ttl.goto(scale*nx,scale*j)            \n",
    "        ttl.penup()\n",
    "    wn.update()"
   ]
  },
  {
   "cell_type": "code",
   "execution_count": 21,
   "metadata": {
    "collapsed": true
   },
   "outputs": [],
   "source": [
    "def fill_square(ttl,wn,col,row,color,scale):\n",
    "    \"\"\"\n",
    "    colours a grid square(col,row) with colour 'color'\n",
    "    \"\"\"\n",
    "    ttl.color(color)\n",
    "    ttl.penup()\n",
    "    ttl.begin_fill()\n",
    "    ttl.goto(scale*col+1,scale*row+1)\n",
    "    ttl.pendown()\n",
    "    ttl.goto(    scale*col+1,scale*(row+1)-1)\n",
    "    ttl.goto(scale*(col+1)-1,scale*(row+1)-1)\n",
    "    ttl.goto(scale*(col+1)-1,    scale*row+1)\n",
    "    ttl.goto(    scale*col+1,    scale*row+1)\n",
    "    ttl.end_fill()\n",
    "    ttl.penup()"
   ]
  },
  {
   "cell_type": "code",
   "execution_count": 22,
   "metadata": {},
   "outputs": [],
   "source": [
    "def main_loop(ttl,wn,nx,ny,color,scale,blobmap):\n",
    "    \"\"\"\n",
    "    drives the main loop\n",
    "    \"\"\"\n",
    "    neighbour_list = np.zeros(nx*ny).reshape(nx,ny)\n",
    "    \n",
    "    update_neighbour_list(nx,ny,blobmap,neighbour_list)\n",
    "    update_grid(ttl,nx,ny,blobmap,neighbour_list,color,scale)\n",
    "    "
   ]
  },
  {
   "cell_type": "code",
   "execution_count": 23,
   "metadata": {
    "collapsed": true
   },
   "outputs": [],
   "source": [
    "def update_neighbour_list(nx,ny,blobmap,neighbour_list):\n",
    "    \"\"\"\n",
    "    Counts neighbours of a cell\n",
    "    Uses periodic boundary conditions - i.e. wraps cells over the edges\n",
    "    like pacman\n",
    "    \"\"\"\n",
    "    for col in range(nx):\n",
    "        for row in range(ny):\n",
    "            for dx in [-1,0,1]:\n",
    "                for dy in [-1,0,1]:\n",
    "                    neighbour_x = col+dx\n",
    "                    neighbour_y = row+dy\n",
    "                    \n",
    "                    if neighbour_x > nx - 1:\n",
    "                        neighbour_x -= nx\n",
    "                    elif neighbour_x < 0:\n",
    "                        neighbour_x += nx\n",
    "                    if neighbour_y > ny - 1:\n",
    "                        neighbour_y -= ny\n",
    "                    elif neighbour_y < 0:\n",
    "                        neighbour_y += ny\n",
    "                    \n",
    "                    neighbour_list[col,row] += blobmap[neighbour_x,neighbour_y]\n",
    "            \n",
    "            neighbour_list[col,row] = neighbour_list[col,row] - blobmap[col,row]\n"
   ]
  },
  {
   "cell_type": "code",
   "execution_count": 24,
   "metadata": {
    "collapsed": true
   },
   "outputs": [],
   "source": [
    "def update_grid(ttl,nx,ny,blobmap,neighbour_list,color,scale):\n",
    "    \"\"\"\n",
    "    updates the simulation based on the neighbour list\n",
    "    \"\"\"\n",
    "    wn.tracer(0,0)\n",
    "    for col in range(nx):\n",
    "        for row in range(ny):\n",
    "            if blobmap[col,row] == 1:\n",
    "                if neighbour_list[col,row] < 2:\n",
    "                    blobmap[col,row] = 0\n",
    "                    fill_square(ttl,wn,col,row,'White',scale)\n",
    "                elif neighbour_list[col,row] > 3:\n",
    "                    blobmap[col,row] = 0\n",
    "                    fill_square(ttl,wn,col,row,'White',scale)\n",
    "            else:\n",
    "                if neighbour_list[col,row] == 3:\n",
    "                    blobmap[col,row] = 1\n",
    "                    fill_square(ttl,wn,col,row,color,scale)\n",
    "    wn.update()"
   ]
  },
  {
   "cell_type": "code",
   "execution_count": 26,
   "metadata": {},
   "outputs": [
    {
     "ename": "TurtleGraphicsError",
     "evalue": "bad color string: Pink",
     "output_type": "error",
     "traceback": [
      "\u001b[0;31m---------------------------------------------------------------------------\u001b[0m",
      "\u001b[0;31mTurtleGraphicsError\u001b[0m                       Traceback (most recent call last)",
      "\u001b[0;32m<ipython-input-26-677a551ed84b>\u001b[0m in \u001b[0;36m<module>\u001b[0;34m()\u001b[0m\n\u001b[1;32m     31\u001b[0m \u001b[0;31m# run the game\u001b[0m\u001b[0;34m\u001b[0m\u001b[0;34m\u001b[0m\u001b[0m\n\u001b[1;32m     32\u001b[0m \u001b[0;32mwhile\u001b[0m \u001b[0mnotTerminated\u001b[0m\u001b[0;34m(\u001b[0m\u001b[0miteration\u001b[0m\u001b[0;34m,\u001b[0m\u001b[0mblobmap\u001b[0m\u001b[0;34m,\u001b[0m\u001b[0mblobmap_old\u001b[0m\u001b[0;34m)\u001b[0m\u001b[0;34m:\u001b[0m\u001b[0;34m\u001b[0m\u001b[0m\n\u001b[0;32m---> 33\u001b[0;31m     \u001b[0mmain_loop\u001b[0m\u001b[0;34m(\u001b[0m\u001b[0mttl\u001b[0m\u001b[0;34m,\u001b[0m\u001b[0mwn\u001b[0m\u001b[0;34m,\u001b[0m\u001b[0mnx\u001b[0m\u001b[0;34m,\u001b[0m\u001b[0mny\u001b[0m\u001b[0;34m,\u001b[0m\u001b[0mcolor\u001b[0m\u001b[0;34m,\u001b[0m\u001b[0mscale\u001b[0m\u001b[0;34m,\u001b[0m\u001b[0mblobmap\u001b[0m\u001b[0;34m)\u001b[0m\u001b[0;34m\u001b[0m\u001b[0m\n\u001b[0m\u001b[1;32m     34\u001b[0m     \u001b[0miteration\u001b[0m \u001b[0;34m+=\u001b[0m \u001b[0;36m1\u001b[0m\u001b[0;34m\u001b[0m\u001b[0m\n\u001b[1;32m     35\u001b[0m \u001b[0;34m\u001b[0m\u001b[0m\n",
      "\u001b[0;32m<ipython-input-22-e66b82282e06>\u001b[0m in \u001b[0;36mmain_loop\u001b[0;34m(ttl, wn, nx, ny, color, scale, blobmap)\u001b[0m\n\u001b[1;32m      6\u001b[0m \u001b[0;34m\u001b[0m\u001b[0m\n\u001b[1;32m      7\u001b[0m     \u001b[0mupdate_neighbour_list\u001b[0m\u001b[0;34m(\u001b[0m\u001b[0mnx\u001b[0m\u001b[0;34m,\u001b[0m\u001b[0mny\u001b[0m\u001b[0;34m,\u001b[0m\u001b[0mblobmap\u001b[0m\u001b[0;34m,\u001b[0m\u001b[0mneighbour_list\u001b[0m\u001b[0;34m)\u001b[0m\u001b[0;34m\u001b[0m\u001b[0m\n\u001b[0;32m----> 8\u001b[0;31m     \u001b[0mupdate_grid\u001b[0m\u001b[0;34m(\u001b[0m\u001b[0mttl\u001b[0m\u001b[0;34m,\u001b[0m\u001b[0mnx\u001b[0m\u001b[0;34m,\u001b[0m\u001b[0mny\u001b[0m\u001b[0;34m,\u001b[0m\u001b[0mblobmap\u001b[0m\u001b[0;34m,\u001b[0m\u001b[0mneighbour_list\u001b[0m\u001b[0;34m,\u001b[0m\u001b[0mcolor\u001b[0m\u001b[0;34m,\u001b[0m\u001b[0mscale\u001b[0m\u001b[0;34m)\u001b[0m\u001b[0;34m\u001b[0m\u001b[0m\n\u001b[0m\u001b[1;32m      9\u001b[0m \u001b[0;34m\u001b[0m\u001b[0m\n",
      "\u001b[0;32m<ipython-input-24-fcff8c458c28>\u001b[0m in \u001b[0;36mupdate_grid\u001b[0;34m(ttl, nx, ny, blobmap, neighbour_list, color, scale)\u001b[0m\n\u001b[1;32m     16\u001b[0m                 \u001b[0;32mif\u001b[0m \u001b[0mneighbour_list\u001b[0m\u001b[0;34m[\u001b[0m\u001b[0mcol\u001b[0m\u001b[0;34m,\u001b[0m\u001b[0mrow\u001b[0m\u001b[0;34m]\u001b[0m \u001b[0;34m==\u001b[0m \u001b[0;36m3\u001b[0m\u001b[0;34m:\u001b[0m\u001b[0;34m\u001b[0m\u001b[0m\n\u001b[1;32m     17\u001b[0m                     \u001b[0mblobmap\u001b[0m\u001b[0;34m[\u001b[0m\u001b[0mcol\u001b[0m\u001b[0;34m,\u001b[0m\u001b[0mrow\u001b[0m\u001b[0;34m]\u001b[0m \u001b[0;34m=\u001b[0m \u001b[0;36m1\u001b[0m\u001b[0;34m\u001b[0m\u001b[0m\n\u001b[0;32m---> 18\u001b[0;31m                     \u001b[0mfill_square\u001b[0m\u001b[0;34m(\u001b[0m\u001b[0mttl\u001b[0m\u001b[0;34m,\u001b[0m\u001b[0mwn\u001b[0m\u001b[0;34m,\u001b[0m\u001b[0mcol\u001b[0m\u001b[0;34m,\u001b[0m\u001b[0mrow\u001b[0m\u001b[0;34m,\u001b[0m\u001b[0mcolor\u001b[0m\u001b[0;34m,\u001b[0m\u001b[0mscale\u001b[0m\u001b[0;34m)\u001b[0m\u001b[0;34m\u001b[0m\u001b[0m\n\u001b[0m\u001b[1;32m     19\u001b[0m     \u001b[0mwn\u001b[0m\u001b[0;34m.\u001b[0m\u001b[0mupdate\u001b[0m\u001b[0;34m(\u001b[0m\u001b[0;34m)\u001b[0m\u001b[0;34m\u001b[0m\u001b[0m\n",
      "\u001b[0;32m<ipython-input-21-dee1fce41625>\u001b[0m in \u001b[0;36mfill_square\u001b[0;34m(ttl, wn, col, row, color, scale)\u001b[0m\n\u001b[1;32m      3\u001b[0m     \u001b[0mcolours\u001b[0m \u001b[0ma\u001b[0m \u001b[0mgrid\u001b[0m \u001b[0msquare\u001b[0m\u001b[0;34m(\u001b[0m\u001b[0mcol\u001b[0m\u001b[0;34m,\u001b[0m\u001b[0mrow\u001b[0m\u001b[0;34m)\u001b[0m \u001b[0;32mwith\u001b[0m \u001b[0mcolour\u001b[0m \u001b[0;34m'color'\u001b[0m\u001b[0;34m\u001b[0m\u001b[0m\n\u001b[1;32m      4\u001b[0m     \"\"\"\n\u001b[0;32m----> 5\u001b[0;31m     \u001b[0mttl\u001b[0m\u001b[0;34m.\u001b[0m\u001b[0mcolor\u001b[0m\u001b[0;34m(\u001b[0m\u001b[0mcolor\u001b[0m\u001b[0;34m)\u001b[0m\u001b[0;34m\u001b[0m\u001b[0m\n\u001b[0m\u001b[1;32m      6\u001b[0m     \u001b[0mttl\u001b[0m\u001b[0;34m.\u001b[0m\u001b[0mpenup\u001b[0m\u001b[0;34m(\u001b[0m\u001b[0;34m)\u001b[0m\u001b[0;34m\u001b[0m\u001b[0m\n\u001b[1;32m      7\u001b[0m     \u001b[0mttl\u001b[0m\u001b[0;34m.\u001b[0m\u001b[0mbegin_fill\u001b[0m\u001b[0;34m(\u001b[0m\u001b[0;34m)\u001b[0m\u001b[0;34m\u001b[0m\u001b[0m\n",
      "\u001b[0;32m~/anaconda3/lib/python3.5/turtle.py\u001b[0m in \u001b[0;36mcolor\u001b[0;34m(self, *args)\u001b[0m\n\u001b[1;32m   2214\u001b[0m             \u001b[0;32melif\u001b[0m \u001b[0ml\u001b[0m \u001b[0;34m==\u001b[0m \u001b[0;36m3\u001b[0m\u001b[0;34m:\u001b[0m\u001b[0;34m\u001b[0m\u001b[0m\n\u001b[1;32m   2215\u001b[0m                 \u001b[0mpcolor\u001b[0m \u001b[0;34m=\u001b[0m \u001b[0mfcolor\u001b[0m \u001b[0;34m=\u001b[0m \u001b[0margs\u001b[0m\u001b[0;34m\u001b[0m\u001b[0m\n\u001b[0;32m-> 2216\u001b[0;31m             \u001b[0mpcolor\u001b[0m \u001b[0;34m=\u001b[0m \u001b[0mself\u001b[0m\u001b[0;34m.\u001b[0m\u001b[0m_colorstr\u001b[0m\u001b[0;34m(\u001b[0m\u001b[0mpcolor\u001b[0m\u001b[0;34m)\u001b[0m\u001b[0;34m\u001b[0m\u001b[0m\n\u001b[0m\u001b[1;32m   2217\u001b[0m             \u001b[0mfcolor\u001b[0m \u001b[0;34m=\u001b[0m \u001b[0mself\u001b[0m\u001b[0;34m.\u001b[0m\u001b[0m_colorstr\u001b[0m\u001b[0;34m(\u001b[0m\u001b[0mfcolor\u001b[0m\u001b[0;34m)\u001b[0m\u001b[0;34m\u001b[0m\u001b[0m\n\u001b[1;32m   2218\u001b[0m             \u001b[0mself\u001b[0m\u001b[0;34m.\u001b[0m\u001b[0mpen\u001b[0m\u001b[0;34m(\u001b[0m\u001b[0mpencolor\u001b[0m\u001b[0;34m=\u001b[0m\u001b[0mpcolor\u001b[0m\u001b[0;34m,\u001b[0m \u001b[0mfillcolor\u001b[0m\u001b[0;34m=\u001b[0m\u001b[0mfcolor\u001b[0m\u001b[0;34m)\u001b[0m\u001b[0;34m\u001b[0m\u001b[0m\n",
      "\u001b[0;32m~/anaconda3/lib/python3.5/turtle.py\u001b[0m in \u001b[0;36m_colorstr\u001b[0;34m(self, args)\u001b[0m\n\u001b[1;32m   2694\u001b[0m \u001b[0;34m\u001b[0m\u001b[0m\n\u001b[1;32m   2695\u001b[0m     \u001b[0;32mdef\u001b[0m \u001b[0m_colorstr\u001b[0m\u001b[0;34m(\u001b[0m\u001b[0mself\u001b[0m\u001b[0;34m,\u001b[0m \u001b[0margs\u001b[0m\u001b[0;34m)\u001b[0m\u001b[0;34m:\u001b[0m\u001b[0;34m\u001b[0m\u001b[0m\n\u001b[0;32m-> 2696\u001b[0;31m         \u001b[0;32mreturn\u001b[0m \u001b[0mself\u001b[0m\u001b[0;34m.\u001b[0m\u001b[0mscreen\u001b[0m\u001b[0;34m.\u001b[0m\u001b[0m_colorstr\u001b[0m\u001b[0;34m(\u001b[0m\u001b[0margs\u001b[0m\u001b[0;34m)\u001b[0m\u001b[0;34m\u001b[0m\u001b[0m\n\u001b[0m\u001b[1;32m   2697\u001b[0m \u001b[0;34m\u001b[0m\u001b[0m\n\u001b[1;32m   2698\u001b[0m     \u001b[0;32mdef\u001b[0m \u001b[0m_cc\u001b[0m\u001b[0;34m(\u001b[0m\u001b[0mself\u001b[0m\u001b[0;34m,\u001b[0m \u001b[0margs\u001b[0m\u001b[0;34m)\u001b[0m\u001b[0;34m:\u001b[0m\u001b[0;34m\u001b[0m\u001b[0m\n",
      "\u001b[0;32m~/anaconda3/lib/python3.5/turtle.py\u001b[0m in \u001b[0;36m_colorstr\u001b[0;34m(self, color)\u001b[0m\n\u001b[1;32m   1156\u001b[0m                 \u001b[0;32mreturn\u001b[0m \u001b[0mcolor\u001b[0m\u001b[0;34m\u001b[0m\u001b[0m\n\u001b[1;32m   1157\u001b[0m             \u001b[0;32melse\u001b[0m\u001b[0;34m:\u001b[0m\u001b[0;34m\u001b[0m\u001b[0m\n\u001b[0;32m-> 1158\u001b[0;31m                 \u001b[0;32mraise\u001b[0m \u001b[0mTurtleGraphicsError\u001b[0m\u001b[0;34m(\u001b[0m\u001b[0;34m\"bad color string: %s\"\u001b[0m \u001b[0;34m%\u001b[0m \u001b[0mstr\u001b[0m\u001b[0;34m(\u001b[0m\u001b[0mcolor\u001b[0m\u001b[0;34m)\u001b[0m\u001b[0;34m)\u001b[0m\u001b[0;34m\u001b[0m\u001b[0m\n\u001b[0m\u001b[1;32m   1159\u001b[0m         \u001b[0;32mtry\u001b[0m\u001b[0;34m:\u001b[0m\u001b[0;34m\u001b[0m\u001b[0m\n\u001b[1;32m   1160\u001b[0m             \u001b[0mr\u001b[0m\u001b[0;34m,\u001b[0m \u001b[0mg\u001b[0m\u001b[0;34m,\u001b[0m \u001b[0mb\u001b[0m \u001b[0;34m=\u001b[0m \u001b[0mcolor\u001b[0m\u001b[0;34m\u001b[0m\u001b[0m\n",
      "\u001b[0;31mTurtleGraphicsError\u001b[0m: bad color string: Pink"
     ]
    }
   ],
   "source": [
    "# this actually runs the simulation\n",
    "\n",
    "import turtle as t\n",
    "import random\n",
    "import numpy as np\n",
    "\n",
    "wn = t.Screen() # creates a new window for the turtle to work in\n",
    "ttl = t.Turtle()\n",
    "#print(wn.canvwidth,wn.canvheight)\n",
    "ttl.hideturtle()\n",
    "ttl.speed(0)\n",
    "# parameters and setup\n",
    "nx = 50\n",
    "ny = 30\n",
    "# make an array of zeros, reshape them into a 2D array\n",
    "blobmap = np.zeros(nx*ny).reshape(nx,ny) \n",
    "blobmap_old = np.copy(blobmap)\n",
    "color = 'pink'\n",
    "\n",
    "# set scale for the turtle (size of the grid blocks)\n",
    "scalex = int(wn.canvwidth/(nx))\n",
    "scaley = int(wn.canvheight/(ny))\n",
    "scale = min(scalex,scaley)\n",
    "draw_grid(ttl,wn,nx,ny,scale)\n",
    "\n",
    "# initial population of the grid\n",
    "number_of_blobs = int(nx*ny/5)\n",
    "initial_state(ttl,wn,number_of_blobs,nx,ny,color,scale,blobmap)\n",
    "\n",
    "iteration = 1\n",
    "# run the game\n",
    "while notTerminated(iteration,blobmap,blobmap_old):\n",
    "    main_loop(ttl,wn,nx,ny,color,scale,blobmap)\n",
    "    iteration += 1\n",
    "\n",
    "print(\"done\")\n",
    "wn.exitonclick() # exit when mouse is clicked\n",
    "# protect against errors when exiting\n",
    "try:\n",
    "    t.bye()\n",
    "except:\n",
    "    print(\"the turtle is dead\")"
   ]
  },
  {
   "cell_type": "code",
   "execution_count": null,
   "metadata": {
    "collapsed": true
   },
   "outputs": [],
   "source": []
  }
 ],
 "metadata": {
  "kernelspec": {
   "display_name": "Python 3",
   "language": "python",
   "name": "python3"
  },
  "language_info": {
   "codemirror_mode": {
    "name": "ipython",
    "version": 3
   },
   "file_extension": ".py",
   "mimetype": "text/x-python",
   "name": "python",
   "nbconvert_exporter": "python",
   "pygments_lexer": "ipython3",
   "version": "3.5.3"
  }
 },
 "nbformat": 4,
 "nbformat_minor": 1
}
