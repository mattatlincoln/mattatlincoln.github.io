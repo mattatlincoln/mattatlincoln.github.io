{
 "cells": [
  {
   "cell_type": "markdown",
   "metadata": {},
   "source": [
    "# 04-Exercises\n",
    "\n",
    "The main task is to try and understand the overall structure of the Projectile Motion code.\n",
    "\n",
    "This might also involve going back over yesterdays materials too.\n",
    "\n",
    "Now you are more experienced, reading back over the ''How to Think Like a Computer Scientist' chapters (1-7) would be a good thing to do.\n",
    "\n",
    "**Exercise**\n",
    "\n",
    "Change the angle launch angle (from horizontal) of the turtle\n",
    "- to $30^o$\n",
    "- to $45^o$\n",
    "- to $90^o$"
   ]
  },
  {
   "cell_type": "markdown",
   "metadata": {},
   "source": [
    "**Exercise**\n",
    "\n",
    "alter the loop so that you can record the highest point that the turtle reaches.\n",
    "*Hint* add a new variable, and update it if the new height is larger than the previous highest."
   ]
  },
  {
   "cell_type": "markdown",
   "metadata": {},
   "source": [
    "**Exercise**\n",
    "\n",
    "If the turtle's initial speed is 30 (m/s), what is the furthest distance it can go?"
   ]
  },
  {
   "cell_type": "code",
   "execution_count": 11,
   "metadata": {
    "collapsed": false
   },
   "outputs": [
    {
     "name": "stdout",
     "output_type": "stream",
     "text": [
      "25.98076211353316 14.999999999999998\n"
     ]
    }
   ],
   "source": [
    "# hint the code below might be helpful\n",
    "import math\n",
    "\n",
    "def degree_to_radian(angle):\n",
    "    \"\"\"\n",
    "    convert degrees to radians\n",
    "    \"\"\"\n",
    "    return angle/360*2*math.pi\n",
    "\n",
    "angle= degree_to_radian(30)\n",
    "speed = 30\n",
    "vx0 = speed*math.cos(angle)\n",
    "vy0 = speed*math.sin(angle)\n",
    "print(vx0,vy0)"
   ]
  },
  {
   "cell_type": "markdown",
   "metadata": {},
   "source": [
    "**Exercise**\n",
    "\n",
    "In the notebook I write the condition that the turtle has hit the ground using\n",
    "\n",
    "```python\n",
    "while notLanded:\n",
    "```\n",
    "\n",
    "what does this do? And why write it like this?"
   ]
  },
  {
   "cell_type": "markdown",
   "metadata": {},
   "source": [
    "**Exercise**\n",
    "\n",
    "Customize the animation to your taste.\n",
    "- try and add a new background.\n",
    "- try to change the turtle to something of your choice (This might need a little image manipulation).\n",
    "\n",
    "e.g. try setting it in space and turning gravity upside down"
   ]
  },
  {
   "cell_type": "markdown",
   "metadata": {},
   "source": [
    "**Exercise**\n",
    "\n",
    "Add an air resistance term proportional to the velocity to the simulation. \n",
    "\n",
    "Change the constant of proportianality and see how it affects your results."
   ]
  },
  {
   "cell_type": "markdown",
   "metadata": {},
   "source": [
    "**Exercise**\n",
    "\n",
    "What would be needed to make this into a game?"
   ]
  }
 ],
 "metadata": {
  "kernelspec": {
   "display_name": "Python 3",
   "language": "python",
   "name": "python3"
  },
  "language_info": {
   "codemirror_mode": {
    "name": "ipython",
    "version": 3
   },
   "file_extension": ".py",
   "mimetype": "text/x-python",
   "name": "python",
   "nbconvert_exporter": "python",
   "pygments_lexer": "ipython3",
   "version": "3.5.1"
  }
 },
 "nbformat": 4,
 "nbformat_minor": 0
}
