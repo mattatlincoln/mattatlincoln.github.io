{
 "cells": [
  {
   "cell_type": "markdown",
   "metadata": {},
   "source": [
    "# Some actual Maths and Physics\n",
    "\n",
    "We'll use our functions, loops and turtle graphics to perform numerical integration. \n",
    "\n",
    "Being able to do numerical integration will allow us to do some mechanics.\n",
    "\n",
    "Being able to do mechanics and draw graphics with turtles allows us to make (rather primitive, but come on) games!\n",
    "\n",
    "*We're going to do something pretty complicated - **but** - and this is the thing about programming - each little bit is very easy.*"
   ]
  },
  {
   "cell_type": "markdown",
   "metadata": {},
   "source": [
    "## Numerical integration\n",
    "\n",
    "we're going to start of by integrating a very simple function using numerical integration ([Trapezium Rule](https://en.wikipedia.org/wiki/Trapezoidal_rule)).\n",
    "\n",
    "Lets take as our function\n",
    "\n",
    "$$\n",
    "f(x) = -\\frac{1}{4}x^2 + x + 4, x \\in \\{-\\infty, \\infty\\}\n",
    "$$\n",
    "<br><br>\n",
    "\n",
    "<div style=\"background-color: Thistle; margin-left: 20px; margin-right: 20px; padding-bottom: 8px; padding-left: 8px; padding-right: 8px; padding-top: 8px;\">\n",
    "**Problem** \n",
    "<br><br>\n",
    "calculate the definite integral, $I$, of $f(x)$:\n",
    "$$\n",
    "I = \\int_{x=1}^{x=5}f(x)\\text{d}x\n",
    "$$\n",
    "</div>\n"
   ]
  },
  {
   "cell_type": "code",
   "execution_count": 1,
   "metadata": {
    "collapsed": true
   },
   "outputs": [],
   "source": [
    "# the function to be integrated\n",
    "def func(x):\n",
    "    \"\"\"\n",
    "    returns the y value of our function at a point x\n",
    "    \"\"\"\n",
    "    return -0.25*x**2 + x + 4"
   ]
  },
  {
   "cell_type": "code",
   "execution_count": 2,
   "metadata": {},
   "outputs": [
    {
     "name": "stdout",
     "output_type": "stream",
     "text": [
      "-7.25\n"
     ]
    }
   ],
   "source": [
    "# we can now get the y value at any point x like this\n",
    "x = -5\n",
    "print(func(x))"
   ]
  },
  {
   "cell_type": "markdown",
   "metadata": {},
   "source": [
    "## Plotting the function\n",
    "\n",
    "Lets look at this function using a turtle. First we import the library functions we'll need (more on this later). It just means that we can access the turtle and ways of drawing with it."
   ]
  },
  {
   "cell_type": "code",
   "execution_count": 3,
   "metadata": {},
   "outputs": [],
   "source": [
    "import turtle as t # import the turtle library, but keep it short\n",
    "import grid_functions as gf # some functions to draw axes on graphs with a turtle"
   ]
  },
  {
   "cell_type": "markdown",
   "metadata": {},
   "source": [
    "The main way of plotting the function will be to repeatedly call the following function, `drawLine`. It takes five arguments - at turtle, and the coordinates of two points between which it will draw a straight line.\n",
    "\n",
    "```python\n",
    "def drawLine (ttl, x1, y1, x2, y2):\n",
    "    \"\"\"\n",
    "    turtle ttl draws a line between the points (x0,y0) and (x1,y1)\n",
    "    \"\"\"\n",
    "    ttl.penup()\n",
    "    ttl.goto (x1, y1)\n",
    "    ttl.pendown()\n",
    "    ttl.goto (x2, y2)\n",
    "    ttl.penup()\n",
    "```\n",
    "It uses methods (functions) of the turtle library. Can you see what they are doing?\n",
    "\n",
    "So our algorithm for plotting our function is:\n",
    "<br><br>\n",
    "<div style=\"background-color:LightGoldenRodYellow; margin-left: 20px; margin-right: 20px; padding-bottom: 8px; padding-left: 8px; padding-right: 8px; padding-top: 8px;\">\n",
    "<ol>\n",
    "<li>choose an initial $x$ and calculate its corresponding $y$ value, $f(x)$, using the `func` function.\n",
    "</li>\n",
    "<li> move a small distance along the $x$ axis $\\delta x$ and calculate the $y$ value there, $f(x + \\delta x)$.\n",
    "</li>\n",
    "<li> then draw a line between those two points\n",
    "</li>\n",
    "<li> the new point now becomes our initial point \n",
    "and we repeat until we've gone far enough along $x$.\n",
    "</li>\n",
    "</div>"
   ]
  },
  {
   "cell_type": "markdown",
   "metadata": {},
   "source": [
    "In actual Python code it looks like this:"
   ]
  },
  {
   "cell_type": "code",
   "execution_count": 4,
   "metadata": {
    "collapsed": true
   },
   "outputs": [],
   "source": [
    "# define variables for plotting\n",
    "a = -5         # left boundary of area\n",
    "b = 10.          # right boundary of area\n",
    "dx = 1          # width of the trapezoids\n",
    "\n",
    "# calculate the number of points\n",
    "n = int((b - a) / dx)"
   ]
  },
  {
   "cell_type": "code",
   "execution_count": 6,
   "metadata": {},
   "outputs": [
    {
     "name": "stdout",
     "output_type": "stream",
     "text": [
      "the turtle is dead\n"
     ]
    }
   ],
   "source": [
    "wn = t.Screen() # creates a new window for the turtle to work in\n",
    "ttl = t.Turtle() # creates a turtle\n",
    "ttl.speed(8) # makes the plotting as quick as possible\n",
    "\n",
    "# turtles work in pixels - to make things more viewable we scale by this factor\n",
    "scale = 50 \n",
    "gf.drawGridScaled(ttl,scale) # a fancy method to draw in the axes\n",
    "\n",
    "for i in range(1, n+1):\n",
    "    #the x locations of the left and right side of each trapezpoid\n",
    "    x0 = a+(i-1)*dx\n",
    "    x1 = a+i*dx\n",
    "    gf.drawLine(ttl,scale*x0,scale*func(x0),scale*x1,scale*func(x1))\n",
    "    \n",
    "wn.exitonclick() # \n",
    "\n",
    "try:\n",
    "    t.bye()\n",
    "except:\n",
    "    print(\"the turtle is dead\")"
   ]
  },
  {
   "cell_type": "markdown",
   "metadata": {},
   "source": [
    "## Now we do the numerical integration.\n",
    "\n",
    "When we plotted the function we actually calculated all the things that we need for the integration using the Trapezium rule.\n",
    "\n",
    "![](http://wwwf.imperial.ac.uk/metric/metric_public/numerical_methods/integration/numerical_integration_im1.png)\n",
    "\n",
    "$$\n",
    "I_n = \\frac{\\delta x}{2} (y_0 + 2y_1 + 2y_2 + \\ldots 2y_{n-2} + 2y_{n-1} + y_n)\n",
    "$$\n",
    "\n",
    "which we get from summing up the areas of our $n$ trapeziums, which have areas\n",
    "\n",
    "$$\n",
    " \\frac{\\delta x}{2} (y_i + y_{i+1})\n",
    "$$\n",
    "\n",
    "The way we will solve it is to use a loop and accumulate the result of adding each of the trapeziums together. \n",
    "<br><br>\n",
    "\n",
    "<div style=\"background-color: Aquamarine; margin-left: 20px; margin-right: 20px; padding-bottom: 8px; padding-left: 8px; padding-right: 8px; padding-top: 8px;\">\n",
    "This is exactly the same structure that we used to calculate the sum of the first 20 multiples of 41983 last week (02-exercises.ipynb). Also see section 6.4 of [Thinking like a Computer Scientist](http://interactivepython.org/runestone/static/thinkcspy/Functions/TheAccumulatorPattern.html).\n",
    "</div>\n",
    "\n",
    "Here it is - we reuse our `func` function:"
   ]
  },
  {
   "cell_type": "code",
   "execution_count": 10,
   "metadata": {},
   "outputs": [
    {
     "name": "stdout",
     "output_type": "stream",
     "text": [
      "Area =  17.625\n"
     ]
    }
   ],
   "source": [
    "# define variables\n",
    "a = 1.          # left boundary of integral\n",
    "b = 5.          # right boundary of integral\n",
    "dx = 0.5          # width of the trapezoids\n",
    "\n",
    "# calculate the number of trapezoids\n",
    "n = int((b - a) / dx)\n",
    "\n",
    "# define the variable for area\n",
    "Area = 0\n",
    "\n",
    "# loop to calculate the area of each trapezoid and sum.\n",
    "for i in range(1, n+1):\n",
    "    #the x locations of the left and right side of each trapezpoid\n",
    "    x0 = a+(i-1)*dx\n",
    "    x1 = a+i*dx\n",
    "\n",
    "    #the area of each trapezoid\n",
    "    Ai = dx * (func(x0) + func(x1))/ 2.\n",
    "\n",
    "    # cumulatively sum the areas\n",
    "    Area = Area + Ai\n",
    "\n",
    "#print out the result.\n",
    "print(\"Area = \", Area)"
   ]
  },
  {
   "cell_type": "markdown",
   "metadata": {},
   "source": [
    "<div style=\"background-color: Thistle; margin-left: 20px; margin-right: 20px; padding-bottom: 8px; padding-left: 8px; padding-right: 8px; padding-top: 8px;\">\n",
    "</a><b>*How close is this to the actual answer?*</b><br/>\n",
    "You can calculate the exact definite integral analytically and compare it to your numerical result.\n",
    "<br>\n",
    "*Does it depend on the parameter dx?*\n",
    "</div>"
   ]
  },
  {
   "cell_type": "markdown",
   "metadata": {},
   "source": [
    "## Visualizing the algorithm \n",
    "\n",
    "It is quite nice to really see this graphically.\n",
    "\n",
    "We can modify our code to draw each of the trapeziums onto our graph of the function.\n",
    "\n",
    "First we'll make a little convenience function called `drawTrapezium`."
   ]
  },
  {
   "cell_type": "code",
   "execution_count": 7,
   "metadata": {
    "collapsed": true
   },
   "outputs": [],
   "source": [
    "def drawTrapezium (ttl, x1, y1, x2, y2):\n",
    "    \"\"\"\n",
    "    turtle ttl draws a trapezium defined by (x0,y0) and (x1,y1)\n",
    "    \"\"\"\n",
    "    # move to the first vertex (corner)\n",
    "    ttl.penup()\n",
    "    ttl.goto (x1, 0)\n",
    "    ttl.pendown()\n",
    "\n",
    "    #draw the 4 sides of the trapezium\n",
    "    ttl.goto (x1, y1)\n",
    "    ttl.goto (x2, y2)\n",
    "    ttl.goto (x2, 0)\n",
    "    ttl.goto (x1, 0)\n",
    "\n",
    "    ttl.penup()"
   ]
  },
  {
   "cell_type": "code",
   "execution_count": 11,
   "metadata": {},
   "outputs": [
    {
     "name": "stdout",
     "output_type": "stream",
     "text": [
      "the turtle is dead\n"
     ]
    }
   ],
   "source": [
    "wn = t.Screen()\n",
    "ttl = t.Turtle()\n",
    "ttl.speed(0)\n",
    "\n",
    "# turtles work in pixels - to make things more viewable we scale by this factor\n",
    "scale = 50 \n",
    "gf.drawGridScaled(ttl,scale)\n",
    "\n",
    "# define variables for graphing\n",
    "a = -5.          # left boundary of area\n",
    "b = 7.          # right boundary of area\n",
    "dx = 0.1           # resolution\n",
    "\n",
    "# calculate the number of points\n",
    "n = int((b - a) / dx)\n",
    "\n",
    "for i in range(1, n+1):\n",
    "    #the x locations of the left and right side of each trapezpoid\n",
    "    x0 = a+(i-1)*dx\n",
    "    x1 = a+i*dx\n",
    "    gf.drawLine(ttl,scale*x0,scale*func(x0),scale*x1,scale*func(x1))\n",
    "\n",
    "# redefine our variables for integration\n",
    "a = -5.          # left boundary of area\n",
    "b = 5.          # right boundary of area\n",
    "dx = 1.0          # width of the trapezoids\n",
    "\n",
    "# calculate the number of trapezoids\n",
    "n = int((b - a) / dx)\n",
    "\n",
    "# make the turtle draw in red\n",
    "ttl.color(\"red\")\n",
    "\n",
    "# draw the trapeziums whose areas are summed to approximate the integral\n",
    "for i in range(1, n+1):\n",
    "    #the x locations of the left and right side of each trapezpoid\n",
    "    x0 = a+(i-1)*dx\n",
    "    x1 = a+i*dx\n",
    "    drawTrapezium(ttl,scale*x0,scale*func(x0),scale*x1,scale*func(x1))\n",
    "\n",
    "# tell the turtle screen to close when there is a mouse click on the window\n",
    "wn.exitonclick()\n",
    "\n",
    "# Advanced thing, don't worry about it, just copy it\n",
    "# catch any errors that come when the window shuts down\n",
    "try:\n",
    "    t.bye()\n",
    "except:\n",
    "    print(\"the turtle is dead\")"
   ]
  },
  {
   "cell_type": "markdown",
   "metadata": {},
   "source": [
    "<div style=\"background-color: Thistle; margin-left: 20px; margin-right: 20px; padding-bottom: 8px; padding-left: 8px; padding-right: 8px; padding-top: 8px;\">\n",
    "</a><b>*Will our calculation be too large or too small in this case?*</b><br/>\n",
    "Would your answer have been the same for \n",
    "$$\n",
    "f(x) = \\frac{1}{4}x^2 + x + 4, x \\in \\{-\\infty, \\infty\\}\n",
    "$$\n",
    "</div>"
   ]
  },
  {
   "cell_type": "markdown",
   "metadata": {},
   "source": [
    "# Libraries\n",
    "\n",
    "We used a library called grid_functions. This is one I created using the code in the following cell.\n",
    "\n",
    "It follows the strategies we talked about of breaking the problem into small solvable problems. Here each separate part becomes a function.\n",
    "\n",
    "The library is just a collection of functions that become available by using the `import` syntax."
   ]
  },
  {
   "cell_type": "code",
   "execution_count": null,
   "metadata": {},
   "outputs": [],
   "source": [
    "%%file grid_functions.py\n",
    "\n",
    "#fancy stuff - but you can understand most of it already!\n",
    "def drawGridMark (ttl, x, y, isVertical):\n",
    "    if isVertical :\n",
    "        drawLine (ttl, x, y + 5, x, y - 5)\n",
    "    else:\n",
    "        drawLine (ttl, x - 5, y, x + 5, y)\n",
    "\n",
    "def labelGridPoint (ttl, x, y, isVertical, text):\n",
    "    if isVertical:\n",
    "        labelPoint (ttl, x - 20, y - 20, text)\n",
    "    else:\n",
    "        labelPoint (ttl, x + 20, y, text)\n",
    "\n",
    "def labelPoint (ttl, x, y, label):\n",
    "    ttl.penup()\n",
    "    ttl.goto (x, y)\n",
    "    ttl.pendown()\n",
    "    ttl.write (label)\n",
    "    ttl.penup()\n",
    "\n",
    "def drawGridScaled (ttl,scale):\n",
    "    # draw the axes\n",
    "    drawLine (ttl, -400, 0, 400, 0)\n",
    "    drawLine (ttl, 0, 400, 0, -400)\n",
    "\n",
    "    # label the x axis\n",
    "    for x in [-300, -200, -100, 100, 200, 300]:\n",
    "        drawGridMark (ttl, x, 0, True)\n",
    "        labelGridPoint (ttl, x, 0, True, (x/scale, 0))\n",
    "\n",
    "    # label the y axis\n",
    "    for y in [-300, -200, -100, 100, 200, 300]:\n",
    "        drawGridMark (ttl, 0, y, False)\n",
    "        labelGridPoint (ttl, 0, y, False, (0, y/scale))\n",
    "        \n",
    "def drawLine (ttl, x1, y1, x2, y2):\n",
    "    \"\"\"\n",
    "    turtle ttl draws a line between the points (x1,y1) and (x2,y2)\n",
    "    \"\"\"\n",
    "    ttl.penup()\n",
    "    ttl.goto (x1, y1)\n",
    "    ttl.pendown()\n",
    "    ttl.goto (x2, y2)\n",
    "    ttl.penup()"
   ]
  },
  {
   "cell_type": "markdown",
   "metadata": {},
   "source": [
    "### Importing\n",
    "\n",
    "If we use\n",
    "\n",
    "```python\n",
    "import grid_functions\n",
    "``` \n",
    "we can access the functions in the library by first giving the library name, then a dot (period), then the name of the function in the library. So we would draw a line between the points (x1,y1) and (x2,y2) with a turtle called `ttl` as\n",
    "```\n",
    "grid_functions.drawLine(ttl,x1,y1,x2,y2)\n",
    "```\n",
    "If we decide it is too much typing to have to put `grid_functions` before every call we can import the library with another name that we define using the `as` command\n",
    "```python\n",
    "import grid_functions as gf\n",
    "```\n",
    "Then we would call drawLine like this instead.\n",
    "```python\n",
    "gf.drawLine(ttl,x1,y1,x2,y2)\n",
    "```"
   ]
  },
  {
   "cell_type": "markdown",
   "metadata": {},
   "source": [
    "<div style=\"background-color: OrangeRed  ; margin-left: 20px; margin-right: 20px; padding-bottom: 8px; padding-left: 8px; padding-right: 8px; padding-top: 8px;\">\n",
    "<font color=\"NavajoWhite\">\n",
    "<b>Bad way of importing libraries</b><br/>\n",
    "There is another way of importing libraries, but I don't recommend it as it makes it hard to see which functions you are using are from which library\n",
    "It looks like this\n",
    "<code class=\"language-python\">\n",
    "from grid_functions import *\n",
    "</code>\n",
    "then we can just call drawLine directly\n",
    "<code class=\"language-python\">\n",
    "drawLine(ttl,x1,y1,x2,y2)\n",
    "</code>\n",
    "but now there is no indication which library it comes from, so it makes understanding and reusing code harder.\n",
    "</font>\n",
    "</div>"
   ]
  },
  {
   "cell_type": "markdown",
   "metadata": {},
   "source": [
    "# Roundup\n",
    "\n",
    "Now we can do a huge amount of things using small variants of this code. \n",
    "\n",
    "- We can plot functions\n",
    "- and integrate them.\n",
    "\n",
    "This is enough to make a basic 'Physics engine' and create a simple Angry Birds type game."
   ]
  }
 ],
 "metadata": {
  "anaconda-cloud": {},
  "kernelspec": {
   "display_name": "Python 3",
   "language": "python",
   "name": "python3"
  },
  "language_info": {
   "codemirror_mode": {
    "name": "ipython",
    "version": 3
   },
   "file_extension": ".py",
   "mimetype": "text/x-python",
   "name": "python",
   "nbconvert_exporter": "python",
   "pygments_lexer": "ipython3",
   "version": "3.5.3"
  }
 },
 "nbformat": 4,
 "nbformat_minor": 1
}
