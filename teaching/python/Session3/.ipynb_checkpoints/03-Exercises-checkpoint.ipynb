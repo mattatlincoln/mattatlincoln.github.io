{
 "cells": [
  {
   "cell_type": "markdown",
   "metadata": {},
   "source": [
    "# Excercises for Session 3\n",
    "\n",
    "In this session you'll continue to work with loops and logic.\n",
    "\n",
    "But in this session we'll add in the idea of functions, and start to use a few libraries too.\n",
    "\n",
    "It would be a good idea to read Chapters 5 and 6 of [How to Think Like a Computer Scientist](http://interactivepython.org/runestone/static/thinkcspy/index.html) at this point.\n",
    "\n",
    "But you can dive in too."
   ]
  },
  {
   "cell_type": "markdown",
   "metadata": {},
   "source": [
    "## Part 1 - Functions\n",
    "\n",
    "These exercises aim to make you comfortable using functions. [Chapter 6](http://interactivepython.org/runestone/static/thinkcspy/Functions/toctree.html) is a good resource too.\n",
    "\n",
    "Functions have a structure similar to loops and if statements\n",
    "\n",
    "```python\n",
    "def my_nice_function(x):\n",
    "    the_variable_I_passed_in = x\n",
    "    return 2*the_variable_I_passed_in\n",
    "    \n",
    "my_x = 1\n",
    "twice_my_x = my_nice_function(my_x)\n",
    "```\n",
    "\n",
    "<div style=\"background-color: Aquamarine; margin-left: 20px; margin-right: 20px; padding-bottom: 8px; padding-left: 8px; padding-right: 8px; padding-top: 8px;\">\n",
    "<li>The `def` tells python it is a function.</li>\n",
    "<li>The `:` and indentation say which bits are the function.</li>\n",
    "<li>The `(x)` is the variable you pass into the function. More generally, it can be a list separated by commas.</li>\n",
    "<li>You can do all the normal things you've learnt inside the function.</li>\n",
    "<li>A `return` statement sends the program back to where the function was called, with a value or variable that follows the `return`</li>\n",
    "<li>You run the code by 'calling' it with the name of the function, then brackets with a list of values that correspond to those in the definition of the function.\n",
    "</div>\n",
    "\n",
    "Now try the exercises."
   ]
  },
  {
   "cell_type": "markdown",
   "metadata": {},
   "source": [
    "**Excercise**\n",
    "\n",
    "fill in the missing code to make a function that `returns` the square of a number"
   ]
  },
  {
   "cell_type": "code",
   "execution_count": 1,
   "metadata": {
    "collapsed": false
   },
   "outputs": [
    {
     "name": "stdout",
     "output_type": "stream",
     "text": [
      "type in a number to square: 2\n",
      "2.0 squared is 4.0\n"
     ]
    }
   ],
   "source": [
    "def square(x):\n",
    "    return x**2\n",
    "\n",
    "my_x = float(input(\"type in a number to square: \"))\n",
    "x_squared = square(my_x)\n",
    "print(my_x, \"squared is\", x_squared)"
   ]
  },
  {
   "cell_type": "markdown",
   "metadata": {},
   "source": [
    "**Exercise**\n",
    "\n",
    "generalise your previous function to be able to calculate other powers"
   ]
  },
  {
   "cell_type": "code",
   "execution_count": 3,
   "metadata": {
    "collapsed": false
   },
   "outputs": [
    {
     "name": "stdout",
     "output_type": "stream",
     "text": [
      "type in a number to raise to a power: 4\n",
      "type in the power: 2\n",
      "4.0 to the power 2.0 is 16.0\n"
     ]
    }
   ],
   "source": [
    "def power(x,n):\n",
    "    return x**n\n",
    "\n",
    "my_x = float(input(\"type in a number to raise to a power: \"))\n",
    "my_n = float(input(\"type in the power: \"))\n",
    "\n",
    "print(my_x, \"to the power\", my_n, \"is\",power(my_x,my_n))"
   ]
  },
  {
   "cell_type": "markdown",
   "metadata": {},
   "source": [
    "**Exercise**\n",
    "\n",
    "Write a function that will calculate an arithmetic progression with $N$ terms in it.\n",
    "\n",
    "*Hint: you did most of this last session in calculating the sum of the multiples of 41893.*"
   ]
  },
  {
   "cell_type": "code",
   "execution_count": null,
   "metadata": {
    "collapsed": true
   },
   "outputs": [],
   "source": [
    "# See 01-exercises"
   ]
  },
  {
   "cell_type": "markdown",
   "metadata": {},
   "source": [
    "**Exercise**\n",
    "\n",
    "Write a function that will calculate the sum of a geometric series to $n$ terms\n",
    "\n",
    "$$\n",
    "s_n = a + ar + ar^2 + ar^3 + \\cdots + ar^n\n",
    "$$\n",
    "\n",
    "where the user can enter $a$, $r$ and $n$.\n",
    "\n",
    "You should reuse your `power()` function."
   ]
  },
  {
   "cell_type": "code",
   "execution_count": 7,
   "metadata": {
    "collapsed": false
   },
   "outputs": [
    {
     "name": "stdout",
     "output_type": "stream",
     "text": [
      "9.99976094741001\n"
     ]
    }
   ],
   "source": [
    "def geo_series(a,r,n):\n",
    "    total = a # we'll deal with first term, 'a', separately\n",
    "    for i in range(1,n+1): # start from 1 rather than 0 \n",
    "        total = total + a*power(r,i) # use our power function\n",
    "    return total\n",
    "\n",
    "a = 1\n",
    "r = 0.9\n",
    "n = 100\n",
    "print(geo_series(a,r,n))"
   ]
  },
  {
   "cell_type": "markdown",
   "metadata": {},
   "source": [
    "**Exercise**\n",
    "\n",
    "Write a function that will calculate the infinite sum of a geometric series\n",
    "\n",
    "$$\n",
    "s_n = a + ar + ar^2 + ar^3 + \\cdots + ar^n\n",
    "$$\n",
    "\n",
    "where the user can enter $a$ and $r$.\n",
    "\n",
    "*hint the formula for the infinite sum is*\n",
    "\n",
    "$$\n",
    "s_{\\infty} = a\\frac{1}{1-r}\n",
    "$$"
   ]
  },
  {
   "cell_type": "code",
   "execution_count": 9,
   "metadata": {
    "collapsed": false
   },
   "outputs": [
    {
     "name": "stdout",
     "output_type": "stream",
     "text": [
      "10.000000000000002\n"
     ]
    }
   ],
   "source": [
    "def inf_geo_series(a,r,n):\n",
    "    return a/(1-r)\n",
    "\n",
    "print(inf_geo_series(a,r,n)) # note that this is the same you get when running the previous example with large n"
   ]
  },
  {
   "cell_type": "markdown",
   "metadata": {},
   "source": [
    "**Exercise**\n",
    "\n",
    "What happens in the previous exercise if the user enters 1 as the value of r? \n",
    "- Modify your code for the infinite geometric series to reject bad values of $r$ that the user enters."
   ]
  },
  {
   "cell_type": "code",
   "execution_count": 12,
   "metadata": {
    "collapsed": false
   },
   "outputs": [
    {
     "name": "stdout",
     "output_type": "stream",
     "text": [
      "10.000000000000002\n",
      "nonsense\n"
     ]
    }
   ],
   "source": [
    "def inf_geo_series(a,r,n):\n",
    "    if r > 0.0 and r < 1.0 :\n",
    "        return a/(1-r)\n",
    "    else :\n",
    "        return \"nonsense\"\n",
    "    \n",
    "print(inf_geo_series(a,r,n)) # note that this is the same you get when running the previous example with large n\n",
    "print(inf_geo_series(a,1,n)) # note that this is the same you get when running the previous example with large n"
   ]
  },
  {
   "cell_type": "markdown",
   "metadata": {},
   "source": [
    "### Libraries\n",
    "\n",
    "Libraries, which I'll use as a synonym of module, are [collections of functions that you can call](http://wiki.lspace.org/mediawiki/Lies-To-Children). We'll only use a few, but they are very useful. There is a bit more information in the [other notebook ](https://blackboard.lincoln.ac.uk/bbcswebdav/pid-1499976-dt-content-rid-2619155_2/xid-2619155_2) and [Chapter 5](http://interactivepython.org/runestone/static/thinkcspy/PythonModules/toctree.html) of 'How to Think Like a Computer Scientist.\n",
    "\n",
    "To use a library you need to import it (borrowing a book from a library or something)."
   ]
  },
  {
   "cell_type": "code",
   "execution_count": null,
   "metadata": {
    "collapsed": false
   },
   "outputs": [],
   "source": [
    "import math\n",
    "\n",
    "print(math.cos(0))"
   ]
  },
  {
   "cell_type": "markdown",
   "metadata": {},
   "source": [
    "Now you can use any function in the `math` library (after the `import` statement) just the same as one of your functions, but with the `math.` bit at the front.\n",
    "\n",
    "Look at the examples http://interactivepython.org/runestone/static/thinkcspy/PythonModules/toctree.html.\n",
    "\n",
    "There is another file on blackboard [grid_functions.py](https://blackboard.lincoln.ac.uk/bbcswebdav/pid-1499976-dt-content-rid-2620339_2/xid-2620339_2). If you have it in the current directory we can import it"
   ]
  },
  {
   "cell_type": "code",
   "execution_count": null,
   "metadata": {
    "collapsed": false
   },
   "outputs": [],
   "source": [
    "import grid_functions"
   ]
  },
  {
   "cell_type": "markdown",
   "metadata": {},
   "source": [
    "**Exercise**\n",
    "\n",
    "Open grid_functions.py in a new jupyter window (click on it in the Jupyter file browser). Don't worry about it for now, but see that it is just functions written in python."
   ]
  },
  {
   "cell_type": "markdown",
   "metadata": {},
   "source": [
    "**Exercise**\n",
    "\n",
    "Make a library of functions for yourself. \n",
    "- In the Jupyter file browser, select 'New' and the 'Text file' from the top-right of the menu bar.\n",
    "- Rename it 'my_library.py' (or any name you like ending in .py).\n",
    "- Write some valid functions into your library file (change their names so they do not have the same names as any functions in this notebook).\n",
    "- Save the file.\n",
    "- Now import the library using an 'import' statement. Don't include the `.py`.\n",
    "- Use one of the functions by calling the function as normal, but with a `my_library.` in front of it."
   ]
  },
  {
   "cell_type": "code",
   "execution_count": null,
   "metadata": {
    "collapsed": false
   },
   "outputs": [],
   "source": [
    "import my_library\n",
    "\n",
    "my_library.my_function()"
   ]
  },
  {
   "cell_type": "markdown",
   "metadata": {},
   "source": [
    "## Part 2 - Numerical Integration\n",
    "\n",
    "About half way through I'll stop and talk through the notebook [03 - Numerical integration](https://blackboard.lincoln.ac.uk/bbcswebdav/pid-1499976-dt-content-rid-2619155_2/xid-2619155_2)"
   ]
  },
  {
   "cell_type": "markdown",
   "metadata": {},
   "source": [
    "**Exercise**\n",
    "\n",
    "Look at the code in '03 - Numerical integration' and try and understand what it does.\n",
    "\n",
    "I'd suggest making a new notebook for this. Go to the Jupyter file browser, and select the 'New' dropdown menu and then Python.\n",
    "\n",
    "Place the important bits of the '03 - Numerical integration' there. Rename the file by clicking on the title at the top near to Jupyter logo.\n",
    "\n",
    "- check it still works\n",
    "- change the function plotted to something else\n",
    "- change the integration range\n",
    "- change the line widths / colours etc. to improve the appearance of the graph (you will probably have to look at the documentation of the turtle module)."
   ]
  },
  {
   "cell_type": "markdown",
   "metadata": {},
   "source": [
    "**Exercise**\n",
    "\n",
    "*This is harder*. Change the plotting routine itself into a function.\n",
    "\n",
    "```python\n",
    "def plot_func(dummy_func,a,b,dx):\n",
    "```\n",
    "\n",
    "Accepting arguments like shown. Now you should be able to tell it which function to call with something like.\n",
    "\n",
    "```python\n",
    "plot_func(my_function,-1,1,0.1)\n",
    "plot_func(my_other_function,-2,2,0.1)\n",
    "```"
   ]
  },
  {
   "cell_type": "markdown",
   "metadata": {},
   "source": [
    "**Exercise**\n",
    "\n",
    "- Make a function will a numerically integrate a function you pass it.\n",
    "- Improve your new function to make an estimate of the error, by reducing the stepsize, dx, until the value of the integral is consistent."
   ]
  }
 ],
 "metadata": {
  "kernelspec": {
   "display_name": "Python 3",
   "language": "python",
   "name": "python3"
  },
  "language_info": {
   "codemirror_mode": {
    "name": "ipython",
    "version": 3
   },
   "file_extension": ".py",
   "mimetype": "text/x-python",
   "name": "python",
   "nbconvert_exporter": "python",
   "pygments_lexer": "ipython3",
   "version": "3.5.1"
  }
 },
 "nbformat": 4,
 "nbformat_minor": 0
}
