{
 "cells": [
  {
   "cell_type": "markdown",
   "metadata": {},
   "source": [
    "# 05-Loopy Loops\n",
    "\n",
    "sometimes one loop isn't enough.\n",
    "\n",
    "Many objects we want to work with are more than 1D.\n",
    "\n",
    "- The cells in an Excel spreadsheet, which have row and column coordinates.\n",
    "- Digital images are most easily described similarly in terms of the row and column pixel indexes\n",
    "\n",
    "Sometimes we need to save more than one value in an object - then we use things called arrays, tuples or lists."
   ]
  },
  {
   "cell_type": "markdown",
   "metadata": {},
   "source": [
    "# Arrays, Lists, Tuples\n",
    "\n",
    "When you want to store several things together python gives several options. The most important thing is that when we have an object like this we can get at the ith member using an `[i]` after the object name.\n",
    "(You may have seen vectors in matlab already)."
   ]
  },
  {
   "cell_type": "code",
   "execution_count": 1,
   "metadata": {},
   "outputs": [
    {
     "name": "stdout",
     "output_type": "stream",
     "text": [
      "3\n",
      "5\n"
     ]
    }
   ],
   "source": [
    "my_array = [5,4,3,2]\n",
    "print(my_array[2]) # numbering starts from [0]\n",
    "print(my_array[0])"
   ]
  },
  {
   "cell_type": "markdown",
   "metadata": {},
   "source": [
    "Actually text ('strings') are lists too, and you can get the ith letter using the same [] syntax."
   ]
  },
  {
   "cell_type": "code",
   "execution_count": 2,
   "metadata": {},
   "outputs": [
    {
     "name": "stdout",
     "output_type": "stream",
     "text": [
      "t\n",
      "o\n",
      "r\n",
      "r\n",
      "a\n",
      "P\n",
      " \n",
      "d\n",
      "a\n",
      "e\n",
      "D\n"
     ]
    }
   ],
   "source": [
    "my_parrot = 'Dead Parrot'\n",
    "\n",
    "letter_number = len(my_parrot) # len function returns the length of a list\n",
    "while letter_number > 0:\n",
    "    letter_number = letter_number -1\n",
    "    print(my_parrot[letter_number])"
   ]
  },
  {
   "cell_type": "markdown",
   "metadata": {},
   "source": [
    "## Nested Loops\n",
    "\n",
    "we have briefly mentioned `for` loops. They look like this:"
   ]
  },
  {
   "cell_type": "code",
   "execution_count": 3,
   "metadata": {},
   "outputs": [
    {
     "name": "stdout",
     "output_type": "stream",
     "text": [
      "0\n",
      "1\n",
      "2\n",
      "3\n",
      "4\n",
      "5\n",
      "6\n",
      "7\n",
      "8\n",
      "9\n"
     ]
    }
   ],
   "source": [
    "for i in range(10):\n",
    "    print(i)"
   ]
  },
  {
   "cell_type": "markdown",
   "metadata": {},
   "source": [
    "*Check you understand the range(function).*"
   ]
  },
  {
   "cell_type": "code",
   "execution_count": 4,
   "metadata": {
    "collapsed": true
   },
   "outputs": [],
   "source": [
    "? range"
   ]
  },
  {
   "cell_type": "markdown",
   "metadata": {},
   "source": [
    "What happens if we put a loop inside another loop?"
   ]
  },
  {
   "cell_type": "code",
   "execution_count": 5,
   "metadata": {},
   "outputs": [
    {
     "name": "stdout",
     "output_type": "stream",
     "text": [
      "i is 0 and j is 0\n",
      "i is 0 and j is 1\n",
      "i is 0 and j is 2\n",
      "i is 0 and j is 3\n",
      "i is 0 and j is 4\n",
      "i is 1 and j is 0\n",
      "i is 1 and j is 1\n",
      "i is 1 and j is 2\n",
      "i is 1 and j is 3\n",
      "i is 1 and j is 4\n",
      "i is 2 and j is 0\n",
      "i is 2 and j is 1\n",
      "i is 2 and j is 2\n",
      "i is 2 and j is 3\n",
      "i is 2 and j is 4\n",
      "i is 3 and j is 0\n",
      "i is 3 and j is 1\n",
      "i is 3 and j is 2\n",
      "i is 3 and j is 3\n",
      "i is 3 and j is 4\n",
      "i is 4 and j is 0\n",
      "i is 4 and j is 1\n",
      "i is 4 and j is 2\n",
      "i is 4 and j is 3\n",
      "i is 4 and j is 4\n"
     ]
    }
   ],
   "source": [
    "for i in range(5):\n",
    "    for j in range(5):\n",
    "        print(\"i is\", i, \"and j is\", j)"
   ]
  },
  {
   "cell_type": "markdown",
   "metadata": {},
   "source": [
    "you can see the inner loop (j here) goes through its values quickly, then when it has gone through all possible values the outer loop increments (i here).\n",
    "\n",
    "Lets try these constructs out using an image."
   ]
  },
  {
   "cell_type": "markdown",
   "metadata": {},
   "source": [
    "## Image manipulation\n",
    "\n",
    "Lets take a stock photo from the [University of Lincoln image library](http://ulimages.thirdlight.com/viewcontainer.tlx?containerid=128959&home=1). \n",
    "\n",
    "I've downloaded one (and reduced its file size) and saved it as 'architecture.jpg'. Make sure it is in the same directory that you are working in.\n",
    "\n",
    "We'll use the Python Image Library for this. Don't worry about the exact commands involving the image library, they just open the file and import its data."
   ]
  },
  {
   "cell_type": "code",
   "execution_count": 4,
   "metadata": {},
   "outputs": [],
   "source": [
    "from PIL import Image, ImageDraw\n",
    "\n",
    "img = Image.open('architecture.jpg')\n",
    "img = img.convert('RGB')\n",
    "pixelMap = img.load()\n",
    "\n",
    "img.show()"
   ]
  },
  {
   "cell_type": "markdown",
   "metadata": {},
   "source": [
    "Now lets try making a negative of this image. \n",
    "\n",
    "First we use our double loop to go over all the pixels in the image. We can use a method (function attached to the image) of the image we've created `image.size` to find the number of pixels in `x` and `y`, or columns and rows.\n",
    "\n",
    "Then we change the colour values at that pixel location."
   ]
  },
  {
   "cell_type": "code",
   "execution_count": 3,
   "metadata": {},
   "outputs": [],
   "source": [
    "for row in range(img.size[0]):\n",
    "    for col in range(img.size[1]):\n",
    "        rgb = pixelMap[row,col]\n",
    "        pixelMap[row,col] = (255-rgb[0],255-rgb[1],255-rgb[2])\n",
    "\n",
    "img.show()"
   ]
  },
  {
   "cell_type": "markdown",
   "metadata": {},
   "source": [
    "You need to understand that each pixel has three values - Red Green Blue, which can each have values between 0 and 255. 0 is none of the colour, and 255 the max. They are stored as a thing called a tuple, but basically a list separated by commas (and in round brackets). For instance brightest red is\n",
    "\n",
    "```python\n",
    "(255,0,0)\n",
    "```\n",
    "or green\n",
    "\n",
    "```python\n",
    "(0,255,0)\n",
    "```\n",
    "\n",
    "black is 0 for all three channels, whilst white is 255 for each\n",
    "```python\n",
    "(0,0,0) # black\n",
    "(255,255,255) # white\n",
    "\n",
    "```\n",
    "To make the negative image we store the old values for each pixel at a time in an object we call `rgb`, then subtract the old values from 255. The `rgb` is one of these multiple data objects mentioned at the beginning, it has three values we can access with the square brackets.\n",
    "```\n",
    "        rgb = pixelMap[row,col]\n",
    "        pixelMap[row,col] = (255-rgb[0],255-rgb[1],255-rgb[2])\n",
    "```\n",
    "For a given row and column we save the old values to rgb. Then we write a new value for the pixel as 255 - the old value."
   ]
  },
  {
   "cell_type": "markdown",
   "metadata": {},
   "source": [
    "Lets try changing the colours in another image:\n",
    "\n",
    "![](Su.jpg)\n",
    "<br><br>\n",
    "**Suppose I wanted the Red thing to be bright greeen?**\n",
    "\n",
    "Again we loop over all the pixels in the image, but now we need to use some logic to try and select the bright red areas.\n",
    "\n",
    "```\n",
    "        rgb = pixelMap[row,col]\n",
    "        if rgb[0] > 200 and rgb[1] < 50 and rgb[2] < 50 :\n",
    "            pixelMap[row,col] = (0,255,0)\n",
    "```\n",
    "\n",
    "We save the RGB values for the pixel to the tuple rgb. The elements of `rgb[i]`, where `i = 0,1,2` hold the values of red, green and blue for that pixel.\n",
    "\n",
    "So we say if the red value (`rbg[0]`) is greater than 200 *and* there isn't much green (`rgb[1]<50`) *and* there isn't much blue (`rgb[2]<50`), we will change the pixel to green."
   ]
  },
  {
   "cell_type": "code",
   "execution_count": 11,
   "metadata": {},
   "outputs": [],
   "source": [
    "from PIL import Image, ImageDraw\n",
    "\n",
    "def redFilter(row,col):\n",
    "    rgb = pixelMap[row,col]\n",
    "    if rgb[0] > 200 and rgb[1] < 50 and rgb[2] < 50 :\n",
    "        pixelMap[row,col] = (0,255,255)\n",
    "\n",
    "\n",
    "img = Image.open('SU.jpg')\n",
    "img = img.convert('RGB')\n",
    "pixelMap = img.load()\n",
    "\n",
    "for row in range(img.size[0]):\n",
    "    for col in range(img.size[1]):\n",
    "        redFilter(row,col)\n",
    "\n",
    "img.show()"
   ]
  },
  {
   "cell_type": "markdown",
   "metadata": {},
   "source": [
    "See what you can do along these lines. \n",
    "\n",
    "Can you make it yellow? This [website might be handy](http://www.colorpicker.com/)."
   ]
  },
  {
   "cell_type": "markdown",
   "metadata": {},
   "source": [
    "# 15 minutes of fame"
   ]
  },
  {
   "cell_type": "code",
   "execution_count": 12,
   "metadata": {},
   "outputs": [],
   "source": [
    "from PIL import Image, ImageDraw\n",
    "\n",
    "img = Image.open('UoL-logo.jpg')\n",
    "img = img.convert('RGB')\n",
    "pixelMap = img.load()\n",
    "\n",
    "for row in range(img.size[0]):\n",
    "    for col in range(img.size[1]):\n",
    "        rgb = pixelMap[row,col]\n",
    "        if rgb[0] > 200 and rgb[1] > 200 and rgb[2] > 200 :\n",
    "            pixelMap[row,col] = (0,255,0)\n",
    "        if rgb[0] < 200 and rgb[1] < 200 and rgb[2] < 200 :\n",
    "            pixelMap[row,col] = (255,208,100)\n",
    "img.show()"
   ]
  },
  {
   "cell_type": "markdown",
   "metadata": {},
   "source": [
    "Can you create your own Warhol? Find a politician / musician / actor / lecturer etc and give it a go. \n",
    "\n",
    "![Warhol like effort](https://c1.staticflickr.com/7/6205/6052311678_9441f2cff0_b.jpg)\n",
    "\n",
    "You might also need to resize any image you choose. Paint will do if you don't have anything better.\n",
    "\n",
    "Here's my effort:"
   ]
  },
  {
   "cell_type": "code",
   "execution_count": 15,
   "metadata": {
    "collapsed": true
   },
   "outputs": [],
   "source": [
    "from PIL import Image, ImageDraw\n",
    "\n",
    "img = Image.open('UoL-logo.jpg')\n",
    "img = img.convert('RGB')\n",
    "pixelMap = img.load()\n",
    "\n",
    "for row in range(img.size[0]):\n",
    "    for col in range(img.size[1]):\n",
    "        rgb = pixelMap[row,col]\n",
    "        if rgb[0] > 200 and rgb[1] > 200 and rgb[2] > 200 :\n",
    "            pixelMap[row,col] = (0,255,0)\n",
    "        if rgb[0] < 200 and rgb[1] < 200 and rgb[2] < 200 :\n",
    "            pixelMap[row,col] = (255,208,100)"
   ]
  },
  {
   "cell_type": "code",
   "execution_count": 14,
   "metadata": {
    "collapsed": true
   },
   "outputs": [],
   "source": [
    "#make a big empty image\n",
    "imagesx = 6\n",
    "imagesy = 6\n",
    "my_collage = Image.new(\"RGB\", (img.size[0]*imagesy, img.size[1]*imagesx), \"white\")\n",
    "pixelMapCollage = my_collage.load()\n",
    "\n",
    "#fill the empty image with replicas of the original image\n",
    "for ximages in range(imagesx):\n",
    "    for yimages in range(imagesy):\n",
    "        #print(ximages,yimages)\n",
    "        for row in range(img.size[0]):\n",
    "            for col in range(img.size[1]):\n",
    "                collagex = img.size[1]*(ximages)+col\n",
    "                collagey = img.size[0]*(yimages)+row\n",
    "                pixelMapCollage[collagey,collagex] =  pixelMap[row,col]\n",
    "                \n",
    "my_collage.show()"
   ]
  },
  {
   "cell_type": "markdown",
   "metadata": {},
   "source": [
    "Of course the cloning of the image should be made into a function to make things more portable and readable."
   ]
  },
  {
   "cell_type": "markdown",
   "metadata": {},
   "source": [
    "# The end\n",
    "\n",
    "Hopefully this gives you a small idea of some places that using arrays and tuples might be useful.\n",
    "\n",
    "- also graphing\n",
    "- visualization\n",
    "- gaming\n",
    "- anywhere where we use matrices and linear algebra\n",
    "\n",
    "We saw that we can *nest* loops and logic to make powerful constructs."
   ]
  }
 ],
 "metadata": {
  "kernelspec": {
   "display_name": "Python 3",
   "language": "python",
   "name": "python3"
  },
  "language_info": {
   "codemirror_mode": {
    "name": "ipython",
    "version": 3
   },
   "file_extension": ".py",
   "mimetype": "text/x-python",
   "name": "python",
   "nbconvert_exporter": "python",
   "pygments_lexer": "ipython3",
   "version": "3.5.4"
  }
 },
 "nbformat": 4,
 "nbformat_minor": 1
}
