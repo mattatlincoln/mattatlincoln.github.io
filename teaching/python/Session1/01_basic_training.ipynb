{
 "cells": [
  {
   "cell_type": "code",
   "execution_count": null,
   "metadata": {
    "collapsed": true,
    "slideshow": {
     "slide_type": "skip"
    }
   },
   "outputs": [],
   "source": [
    "# This notebook was put together by Jake Vanderplas for UW's Astro 599 course. \n",
    "# Source and licensing info is on GitHub.\n",
    "\n",
    "# Matt W modified it for UL's short python course as part of Professional Skills module in year 1"
   ]
  },
  {
   "cell_type": "markdown",
   "metadata": {
    "slideshow": {
     "slide_type": "slide"
    }
   },
   "source": [
    "# Basic Training\n",
    "\n",
    "![](http://bit.ly/2dZ2hXK)\n",
    "\n",
    "Much of this material thanks to [python boot camp](http://www.pythonbootcamp.info)\n"
   ]
  },
  {
   "cell_type": "markdown",
   "metadata": {
    "slideshow": {
     "slide_type": "slide"
    }
   },
   "source": [
    "# Outline\n",
    "\n",
    "- Python is easy!  Hello world revisited\n",
    "- Calculator / basic math\n",
    "- Strings\n",
    "- Variables\n",
    "- Basic control statements (indentation!)"
   ]
  },
  {
   "cell_type": "markdown",
   "metadata": {
    "slideshow": {
     "slide_type": "slide"
    }
   },
   "source": [
    "# Hello World!\n",
    "\n",
    "We saw before how easy a hello world script is to create in Python:"
   ]
  },
  {
   "cell_type": "code",
   "execution_count": 1,
   "metadata": {
    "slideshow": {
     "slide_type": "fragment"
    }
   },
   "outputs": [
    {
     "name": "stdout",
     "output_type": "stream",
     "text": [
      "Hello World!\n"
     ]
    }
   ],
   "source": [
    "print(\"Hello World!\")"
   ]
  },
  {
   "cell_type": "markdown",
   "metadata": {
    "slideshow": {
     "slide_type": "fragment"
    }
   },
   "source": [
    "if that was a good indicator of language quality Python would do pretty well"
   ]
  },
  {
   "cell_type": "markdown",
   "metadata": {
    "slideshow": {
     "slide_type": "slide"
    }
   },
   "source": [
    "## Some other languages...\n",
    "[http://www.roesler-ac.de/wolfram/hello.htm](http://www.roesler-ac.de/wolfram/hello.htm)\n",
    "\n",
    "### Python\n",
    "file: ``hello.py``\n",
    "\n",
    "```\n",
    "print(\"Hello World!\")\n",
    "```\n",
    "---\n",
    "```\n",
    "[~]> python hello.py\n",
    "Hello World!\n",
    "```\n",
    "---\n",
    "\n",
    "### Java\n",
    "file: ``hello.java``\n",
    "```\n",
    "class HelloWorld {\n",
    "  static public void main( String args[] ) {\n",
    "    System.out.println( \"Hello World!\" );\n",
    "  }\n",
    "}\n",
    "```\n",
    "\n",
    "---\n",
    "\n",
    "```\n",
    "[~]> javac hello.java\n",
    "[~]> java HelloWorld\n",
    "Hello World!\n",
    "```\n",
    "\n",
    "---\n",
    "\n",
    "### C++\n",
    "file: ``hello.cpp``\n",
    "```\n",
    "#include <iostream>\n",
    "int main()\n",
    "{\n",
    "  std::cout << \"Hello World!\" << std::endl;\n",
    "}\n",
    "```\n",
    "\n",
    "---\n",
    "\n",
    "```\n",
    "[~]> g++ -o hello hello.cpp\n",
    "[~]> ./hello\n",
    "Hello World!\n",
    "```\n",
    "---\n",
    "\n",
    "### Fortran\n",
    "file: ``hello.f``\n",
    "```\n",
    "    PROGRAM HELLO\n",
    "    WRITE (*,100)\n",
    "    STOP\n",
    "100 FORMAT (' Hello World! ' /)\n",
    "    END\n",
    "```\n",
    "---\n",
    "```\n",
    "[~]> g77 -o hello hello.f\n",
    "[~]> ./hello\n",
    "Hello World!\n",
    "```\n",
    "---"
   ]
  },
  {
   "cell_type": "markdown",
   "metadata": {
    "slideshow": {
     "slide_type": "slide"
    }
   },
   "source": [
    "## Types and Operations: Python as a Calculator\n",
    "\n",
    "### We'll talk about a few types here:\n",
    "\n",
    "- ``int``: integer\n",
    "- ``float``: floating point (decimal)\n",
    "- ``long``: long integer\n",
    "- ``complex``: complex number (decimal, not integer)\n",
    "\n",
    "### We'll also introduce the basic arithmetic operations\n",
    "\n",
    "- ``+`` : addition\n",
    "- ``-``: subtraction\n",
    "- ``/``: division\n",
    "- ``*``: multiplication\n",
    "- ``%``: modulus (remainder)\n",
    "- ``**``: exponentiation\n",
    "\n",
    "As we go through this, note carefully how these operations interact with various types"
   ]
  },
  {
   "cell_type": "code",
   "execution_count": 2,
   "metadata": {
    "slideshow": {
     "slide_type": "fragment"
    }
   },
   "outputs": [
    {
     "name": "stdout",
     "output_type": "stream",
     "text": [
      "4\n"
     ]
    }
   ],
   "source": [
    "print(2 + 2)"
   ]
  },
  {
   "cell_type": "code",
   "execution_count": 3,
   "metadata": {
    "slideshow": {
     "slide_type": "fragment"
    }
   },
   "outputs": [
    {
     "data": {
      "text/plain": [
       "4"
      ]
     },
     "execution_count": 3,
     "metadata": {},
     "output_type": "execute_result"
    }
   ],
   "source": [
    "2 + 2"
   ]
  },
  {
   "cell_type": "code",
   "execution_count": null,
   "metadata": {
    "slideshow": {
     "slide_type": "fragment"
    }
   },
   "outputs": [],
   "source": [
    "print(2.1 + 2)"
   ]
  },
  {
   "cell_type": "markdown",
   "metadata": {
    "slideshow": {
     "slide_type": "slide"
    }
   },
   "source": [
    "Careful: floats are limited by their 16-bit representation (same as in other languages)"
   ]
  },
  {
   "cell_type": "code",
   "execution_count": null,
   "metadata": {
    "slideshow": {
     "slide_type": "fragment"
    }
   },
   "outputs": [],
   "source": [
    "print(4.0999999999999995)"
   ]
  },
  {
   "cell_type": "code",
   "execution_count": null,
   "metadata": {
    "slideshow": {
     "slide_type": "fragment"
    }
   },
   "outputs": [],
   "source": [
    "2.1 + 2 == 4.0999999999999995"
   ]
  },
  {
   "cell_type": "code",
   "execution_count": null,
   "metadata": {
    "slideshow": {
     "slide_type": "fragment"
    }
   },
   "outputs": [],
   "source": [
    "4 * 2"
   ]
  },
  {
   "cell_type": "code",
   "execution_count": null,
   "metadata": {
    "slideshow": {
     "slide_type": "fragment"
    }
   },
   "outputs": [],
   "source": [
    "4 / 2"
   ]
  },
  {
   "cell_type": "code",
   "execution_count": null,
   "metadata": {
    "slideshow": {
     "slide_type": "fragment"
    }
   },
   "outputs": [],
   "source": [
    "5 / 2"
   ]
  },
  {
   "cell_type": "code",
   "execution_count": null,
   "metadata": {
    "slideshow": {
     "slide_type": "fragment"
    }
   },
   "outputs": [],
   "source": [
    "5 // 2"
   ]
  },
  {
   "cell_type": "markdown",
   "metadata": {
    "slideshow": {
     "slide_type": "fragment"
    }
   },
   "source": [
    "Integer operations result in integers in Python 2.x, but floats in Python 3.x."
   ]
  },
  {
   "cell_type": "code",
   "execution_count": null,
   "metadata": {
    "slideshow": {
     "slide_type": "fragment"
    }
   },
   "outputs": [],
   "source": [
    "5 % 2  # modulus (remainder after division)"
   ]
  },
  {
   "cell_type": "code",
   "execution_count": null,
   "metadata": {
    "slideshow": {
     "slide_type": "fragment"
    }
   },
   "outputs": [],
   "source": [
    "5 ** 2"
   ]
  },
  {
   "cell_type": "code",
   "execution_count": null,
   "metadata": {
    "slideshow": {
     "slide_type": "fragment"
    }
   },
   "outputs": [],
   "source": [
    "# or you can use the pow() function\n",
    "pow(5, 2)"
   ]
  },
  {
   "cell_type": "markdown",
   "metadata": {
    "slideshow": {
     "slide_type": "slide"
    }
   },
   "source": [
    "### Indentation Matters!"
   ]
  },
  {
   "cell_type": "code",
   "execution_count": null,
   "metadata": {
    "slideshow": {
     "slide_type": "fragment"
    }
   },
   "outputs": [],
   "source": [
    "print(2 + 2)\n",
    "   3 + 3"
   ]
  },
  {
   "cell_type": "markdown",
   "metadata": {
    "slideshow": {
     "slide_type": "slide"
    }
   },
   "source": [
    "### Use ``#`` for comments\n",
    "\n",
    "- Everything after the ``#`` will be ignored"
   ]
  },
  {
   "cell_type": "code",
   "execution_count": null,
   "metadata": {
    "slideshow": {
     "slide_type": "fragment"
    }
   },
   "outputs": [],
   "source": [
    "print(1 + 1)  # easy arithmetic"
   ]
  },
  {
   "cell_type": "markdown",
   "metadata": {
    "slideshow": {
     "slide_type": "slide"
    }
   },
   "source": [
    "### Complex types ###"
   ]
  },
  {
   "cell_type": "code",
   "execution_count": null,
   "metadata": {
    "slideshow": {
     "slide_type": "fragment"
    }
   },
   "outputs": [],
   "source": [
    "complex(1,2)"
   ]
  },
  {
   "cell_type": "code",
   "execution_count": null,
   "metadata": {
    "slideshow": {
     "slide_type": "fragment"
    }
   },
   "outputs": [],
   "source": [
    "1+2j"
   ]
  },
  {
   "cell_type": "code",
   "execution_count": null,
   "metadata": {
    "slideshow": {
     "slide_type": "fragment"
    }
   },
   "outputs": [],
   "source": [
    "1 + 2j - 2j"
   ]
  },
  {
   "cell_type": "code",
   "execution_count": null,
   "metadata": {
    "slideshow": {
     "slide_type": "fragment"
    }
   },
   "outputs": [],
   "source": [
    "(3.0*10.0 - 25.0)/5.0"
   ]
  },
  {
   "cell_type": "code",
   "execution_count": null,
   "metadata": {
    "slideshow": {
     "slide_type": "fragment"
    }
   },
   "outputs": [],
   "source": [
    "print(3.085e18 * 1e6)  # this is a Megaparsec in units of cm!"
   ]
  },
  {
   "cell_type": "markdown",
   "metadata": {
    "slideshow": {
     "slide_type": "slide"
    }
   },
   "source": [
    "### Assigning variables"
   ]
  },
  {
   "cell_type": "code",
   "execution_count": 4,
   "metadata": {
    "slideshow": {
     "slide_type": "fragment"
    }
   },
   "outputs": [
    {
     "name": "stdout",
     "output_type": "stream",
     "text": [
      "4.9\n"
     ]
    }
   ],
   "source": [
    "t = 1.0  # declare a variable t (time)\n",
    "accel = 9.8  # acceleration in units of m/s^2\n",
    "\n",
    "# distance travelled in time t seconds is 1/2 a*t**2\n",
    "dist = 0.5*accel*t*t\n",
    "print(dist) # this is the distance in meters"
   ]
  },
  {
   "cell_type": "code",
   "execution_count": null,
   "metadata": {
    "slideshow": {
     "slide_type": "fragment"
    }
   },
   "outputs": [],
   "source": [
    "dist1 = accel*(t**2)/2\n",
    "print(dist1)"
   ]
  },
  {
   "cell_type": "code",
   "execution_count": null,
   "metadata": {
    "slideshow": {
     "slide_type": "fragment"
    }
   },
   "outputs": [],
   "source": [
    "dist2 = 0.5*accel*pow(t,2)\n",
    "print(dist2)"
   ]
  },
  {
   "cell_type": "markdown",
   "metadata": {
    "slideshow": {
     "slide_type": "fragment"
    }
   },
   "source": [
    "Each operator has an operate-and-assign version"
   ]
  },
  {
   "cell_type": "code",
   "execution_count": null,
   "metadata": {
    "slideshow": {
     "slide_type": "fragment"
    }
   },
   "outputs": [],
   "source": [
    "x = 4\n",
    "x += 8  # same as x = x + 8\n",
    "print(x)"
   ]
  },
  {
   "cell_type": "code",
   "execution_count": null,
   "metadata": {
    "slideshow": {
     "slide_type": "fragment"
    }
   },
   "outputs": [],
   "source": [
    "x *= 0.2  # x is upgraded to a float!\n",
    "print(x)"
   ]
  },
  {
   "cell_type": "code",
   "execution_count": null,
   "metadata": {
    "slideshow": {
     "slide_type": "fragment"
    }
   },
   "outputs": [],
   "source": [
    "x %= 1\n",
    "print(x)"
   ]
  },
  {
   "cell_type": "code",
   "execution_count": null,
   "metadata": {
    "slideshow": {
     "slide_type": "fragment"
    }
   },
   "outputs": [],
   "source": [
    "x = 4.3\n",
    "x %= 3\n",
    "print(x)"
   ]
  },
  {
   "cell_type": "markdown",
   "metadata": {
    "slideshow": {
     "slide_type": "slide"
    }
   },
   "source": [
    "### Comparison operators\n",
    "\n",
    "- ``==``, ``!=``: equal, not equal\n",
    "- ``<``, ``<=``: less than, less than or equal\n",
    "- ``>``, ``>=``: greater than, greater than or equal"
   ]
  },
  {
   "cell_type": "code",
   "execution_count": null,
   "metadata": {
    "slideshow": {
     "slide_type": "fragment"
    }
   },
   "outputs": [],
   "source": [
    "2 < 4"
   ]
  },
  {
   "cell_type": "code",
   "execution_count": null,
   "metadata": {
    "slideshow": {
     "slide_type": "fragment"
    }
   },
   "outputs": [],
   "source": [
    "3 >= 3"
   ]
  },
  {
   "cell_type": "code",
   "execution_count": null,
   "metadata": {
    "slideshow": {
     "slide_type": "fragment"
    }
   },
   "outputs": [],
   "source": [
    "5 == 4"
   ]
  },
  {
   "cell_type": "code",
   "execution_count": null,
   "metadata": {
    "slideshow": {
     "slide_type": "fragment"
    }
   },
   "outputs": [],
   "source": [
    "5 != 4"
   ]
  },
  {
   "cell_type": "code",
   "execution_count": null,
   "metadata": {
    "slideshow": {
     "slide_type": "fragment"
    }
   },
   "outputs": [],
   "source": [
    "5 < 2 + 4j"
   ]
  },
  {
   "cell_type": "markdown",
   "metadata": {
    "slideshow": {
     "slide_type": "fragment"
    }
   },
   "source": [
    "Comparisons can also be strung together and behave as expected:"
   ]
  },
  {
   "cell_type": "code",
   "execution_count": null,
   "metadata": {
    "slideshow": {
     "slide_type": "fragment"
    }
   },
   "outputs": [],
   "source": [
    "x = 4\n",
    "y = 6\n",
    "print(2 < x <= 4)\n",
    "print(2 < y <= 4)"
   ]
  },
  {
   "cell_type": "code",
   "execution_count": null,
   "metadata": {
    "slideshow": {
     "slide_type": "fragment"
    }
   },
   "outputs": [],
   "source": [
    "# This allows strange/confusion expressions\n",
    "# don't do things like this!\n",
    "8 > x <= 5"
   ]
  },
  {
   "cell_type": "markdown",
   "metadata": {
    "slideshow": {
     "slide_type": "slide"
    }
   },
   "source": [
    "#### Warning about Floating Point Equality\n",
    "Precision issues can lead to seemingly strange results (again, this is the same in any modern programming language)"
   ]
  },
  {
   "cell_type": "code",
   "execution_count": null,
   "metadata": {
    "slideshow": {
     "slide_type": "fragment"
    }
   },
   "outputs": [],
   "source": [
    "0.1 + 0.2 == 0.3"
   ]
  },
  {
   "cell_type": "code",
   "execution_count": null,
   "metadata": {
    "slideshow": {
     "slide_type": "fragment"
    }
   },
   "outputs": [],
   "source": [
    "# this is a string formatting command (we'll cover this later)\n",
    "# it says to print 20 places after the decimal\n",
    "print(\"{0:.20f}\".format(0.1 + 0.2))\n",
    "print(\"{0:.20f}\".format(0.3))"
   ]
  },
  {
   "cell_type": "markdown",
   "metadata": {
    "slideshow": {
     "slide_type": "fragment"
    }
   },
   "source": [
    "Moral of the story: in any language you use, be careful using equality comparisons on floating point! \n",
    "\n",
    "The final example looks at the smallest number that python can easily represent on a computer."
   ]
  },
  {
   "cell_type": "markdown",
   "metadata": {
    "slideshow": {
     "slide_type": "slide"
    }
   },
   "source": [
    "## Boolean variables and logical operations\n",
    "\n",
    "Python has two built-in boolean values, ``True`` and ``False`` which we've seen above.\n",
    "\n",
    "There are also built-in logical operations to test these\n",
    "\n",
    "- ``A or B`` : ``True`` if either ``A`` or ``B`` or both are ``True``\n",
    "- ``A and B`` : ``True`` only if both ``A`` and ``B`` are ``True``\n",
    "- ``not A``: ``True`` only if ``A`` is ``False``"
   ]
  },
  {
   "cell_type": "code",
   "execution_count": null,
   "metadata": {
    "slideshow": {
     "slide_type": "fragment"
    }
   },
   "outputs": [],
   "source": [
    "x = 4\n",
    "(x > 2) and (x < 10)"
   ]
  },
  {
   "cell_type": "code",
   "execution_count": null,
   "metadata": {
    "slideshow": {
     "slide_type": "fragment"
    }
   },
   "outputs": [],
   "source": [
    "(x <= 4) or not (x > 10)"
   ]
  },
  {
   "cell_type": "markdown",
   "metadata": {
    "slideshow": {
     "slide_type": "slide"
    }
   },
   "source": [
    "## Strings"
   ]
  },
  {
   "cell_type": "code",
   "execution_count": null,
   "metadata": {
    "slideshow": {
     "slide_type": "fragment"
    }
   },
   "outputs": [],
   "source": [
    "x = \"spam\" ; type(x)"
   ]
  },
  {
   "cell_type": "code",
   "execution_count": null,
   "metadata": {
    "slideshow": {
     "slide_type": "fragment"
    }
   },
   "outputs": [],
   "source": [
    "print(\"hello!\\n...my sire.\")"
   ]
  },
  {
   "cell_type": "code",
   "execution_count": null,
   "metadata": {
    "slideshow": {
     "slide_type": "fragment"
    }
   },
   "outputs": [],
   "source": [
    "\"hello!\\n...my sire.\""
   ]
  },
  {
   "cell_type": "code",
   "execution_count": null,
   "metadata": {
    "slideshow": {
     "slide_type": "fragment"
    }
   },
   "outputs": [],
   "source": [
    "\"wah?!\" == 'wah?!'"
   ]
  },
  {
   "cell_type": "code",
   "execution_count": null,
   "metadata": {
    "slideshow": {
     "slide_type": "fragment"
    }
   },
   "outputs": [],
   "source": [
    "print(\"'wah?!' said the student\")"
   ]
  },
  {
   "cell_type": "code",
   "execution_count": null,
   "metadata": {
    "slideshow": {
     "slide_type": "fragment"
    }
   },
   "outputs": [],
   "source": [
    "print(\"\\\"wah?!\\\" said the student\")"
   ]
  },
  {
   "cell_type": "markdown",
   "metadata": {
    "slideshow": {
     "slide_type": "fragment"
    }
   },
   "source": [
    "backslashes (`\\`) start special (escape) characters:\n",
    "\n",
    "     \\n   = newline  (\\r = return)\n",
    "     \\t   = tab\n",
    "     \\a   = bell\n",
    "\n",
    "string literals are defined with double quotes or quotes.\n",
    "the outermost quote type cannot be used inside the string (unless it's escaped with a backslash)"
   ]
  },
  {
   "cell_type": "code",
   "execution_count": null,
   "metadata": {
    "slideshow": {
     "slide_type": "fragment"
    }
   },
   "outputs": [],
   "source": [
    "# Triple quotes are dead handy for multiple line strings\n",
    "y = \"\"\"Mr Praline: 'E's not pinin'! 'E's passed on! \n",
    "This parrot is no more! He has ceased to be! \n",
    "'E's expired and gone to meet 'is maker!\n",
    "'E's a stiff! Bereft of life, 'e rests in peace! \n",
    "If you hadn't nailed 'im to the perch 'e'd be pushing up the daisies! \n",
    "'Is metabolic processes are now 'istory! 'E's off the twig!\n",
    "'E's kicked the bucket, 'e's shuffled off 'is mortal coil, run down the curtain and joined\n",
    "the bleedin' choir invisible!! THIS IS AN EX-PARROT!!'\"\"\"\n",
    "print(y)"
   ]
  },
  {
   "cell_type": "markdown",
   "metadata": {
    "slideshow": {
     "slide_type": "slide"
    }
   },
   "source": [
    "### Arithmetic with Strings"
   ]
  },
  {
   "cell_type": "code",
   "execution_count": 5,
   "metadata": {
    "slideshow": {
     "slide_type": "fragment"
    }
   },
   "outputs": [
    {
     "name": "stdout",
     "output_type": "stream",
     "text": [
      "spameggs\n"
     ]
    }
   ],
   "source": [
    "s = \"spam\" ; e = \"eggs\"\n",
    "print(s + e)"
   ]
  },
  {
   "cell_type": "code",
   "execution_count": 6,
   "metadata": {
    "slideshow": {
     "slide_type": "fragment"
    }
   },
   "outputs": [
    {
     "name": "stdout",
     "output_type": "stream",
     "text": [
      "spam and eggs\n"
     ]
    }
   ],
   "source": [
    "print(s + \" and \" + e)"
   ]
  },
  {
   "cell_type": "code",
   "execution_count": null,
   "metadata": {
    "slideshow": {
     "slide_type": "fragment"
    }
   },
   "outputs": [],
   "source": [
    "print(\"green \" + e + \" and\\n \" + s)"
   ]
  },
  {
   "cell_type": "code",
   "execution_count": 7,
   "metadata": {
    "slideshow": {
     "slide_type": "fragment"
    }
   },
   "outputs": [
    {
     "name": "stdout",
     "output_type": "stream",
     "text": [
      "spamspamspameggs\n"
     ]
    }
   ],
   "source": [
    "print(s*3 + e)"
   ]
  },
  {
   "cell_type": "code",
   "execution_count": null,
   "metadata": {
    "slideshow": {
     "slide_type": "fragment"
    }
   },
   "outputs": [],
   "source": [
    "print(\"*\" * 50)"
   ]
  },
  {
   "cell_type": "code",
   "execution_count": null,
   "metadata": {
    "slideshow": {
     "slide_type": "fragment"
    }
   },
   "outputs": [],
   "source": [
    "print(\"spam\" == \"good\"); print(\"spam\" == \"spam\")"
   ]
  },
  {
   "cell_type": "code",
   "execution_count": 8,
   "metadata": {
    "slideshow": {
     "slide_type": "fragment"
    }
   },
   "outputs": [
    {
     "data": {
      "text/plain": [
       "True"
      ]
     },
     "execution_count": 8,
     "metadata": {},
     "output_type": "execute_result"
    }
   ],
   "source": [
    "\"spam\" < \"zoo\""
   ]
  },
  {
   "cell_type": "code",
   "execution_count": 9,
   "metadata": {
    "slideshow": {
     "slide_type": "fragment"
    }
   },
   "outputs": [
    {
     "data": {
      "text/plain": [
       "True"
      ]
     },
     "execution_count": 9,
     "metadata": {},
     "output_type": "execute_result"
    }
   ],
   "source": [
    "\"s\" < \"spam\""
   ]
  },
  {
   "cell_type": "code",
   "execution_count": 11,
   "metadata": {},
   "outputs": [
    {
     "data": {
      "text/plain": [
       "False"
      ]
     },
     "execution_count": 11,
     "metadata": {},
     "output_type": "execute_result"
    }
   ],
   "source": [
    "\"soo\"<\"so\""
   ]
  },
  {
   "cell_type": "markdown",
   "metadata": {
    "slideshow": {
     "slide_type": "slide"
    }
   },
   "source": [
    "* you can concatenate strings with `+` sign\n",
    "* you can do multiple concatenations with the `*` sign\n",
    "* strings can be compared"
   ]
  },
  {
   "cell_type": "markdown",
   "metadata": {
    "slideshow": {
     "slide_type": "fragment"
    }
   },
   "source": [
    "But you can't add strings and integers:"
   ]
  },
  {
   "cell_type": "code",
   "execution_count": null,
   "metadata": {
    "slideshow": {
     "slide_type": "fragment"
    }
   },
   "outputs": [],
   "source": [
    "print('I want' + 3 + ' eggs and no ' + s)"
   ]
  },
  {
   "cell_type": "code",
   "execution_count": null,
   "metadata": {
    "slideshow": {
     "slide_type": "fragment"
    }
   },
   "outputs": [],
   "source": [
    "print('I want ' + str(3) + ' eggs and no ' + s)"
   ]
  },
  {
   "cell_type": "code",
   "execution_count": null,
   "metadata": {
    "slideshow": {
     "slide_type": "fragment"
    }
   },
   "outputs": [],
   "source": [
    "pi = 3.14159\n",
    "print('I want ' + str(pi) + ' eggs and no ' + s)"
   ]
  },
  {
   "cell_type": "code",
   "execution_count": null,
   "metadata": {
    "slideshow": {
     "slide_type": "fragment"
    }
   },
   "outputs": [],
   "source": [
    "print(str(True) + \":\" + ' I want ' + str(pi) + ' eggs and no ' + s)"
   ]
  },
  {
   "cell_type": "markdown",
   "metadata": {
    "slideshow": {
     "slide_type": "fragment"
    }
   },
   "source": [
    "you must concatenate only strings, coercing (\"casting\") \n",
    "other variable types to `str`"
   ]
  },
  {
   "cell_type": "markdown",
   "metadata": {
    "slideshow": {
     "slide_type": "slide"
    }
   },
   "source": [
    "## Flow control: conditionals and loops"
   ]
  },
  {
   "cell_type": "code",
   "execution_count": 14,
   "metadata": {
    "slideshow": {
     "slide_type": "fragment"
    }
   },
   "outputs": [
    {
     "ename": "IndentationError",
     "evalue": "expected an indented block (<ipython-input-14-259ee72a8657>, line 3)",
     "output_type": "error",
     "traceback": [
      "\u001b[0;36m  File \u001b[0;32m\"<ipython-input-14-259ee72a8657>\"\u001b[0;36m, line \u001b[0;32m3\u001b[0m\n\u001b[0;31m    print(\"yo\")\u001b[0m\n\u001b[0m        ^\u001b[0m\n\u001b[0;31mIndentationError\u001b[0m\u001b[0;31m:\u001b[0m expected an indented block\n"
     ]
    }
   ],
   "source": [
    "x = 1\n",
    "if x > 0:\n",
    "    print(\"yo\")\n",
    "else:\n",
    "    print(\"dude\")"
   ]
  },
  {
   "cell_type": "markdown",
   "metadata": {
    "slideshow": {
     "slide_type": "fragment"
    }
   },
   "source": [
    "One liners"
   ]
  },
  {
   "cell_type": "code",
   "execution_count": null,
   "metadata": {
    "slideshow": {
     "slide_type": "fragment"
    }
   },
   "outputs": [],
   "source": [
    "\"yo\" if x > 0 else \"dude\""
   ]
  },
  {
   "cell_type": "code",
   "execution_count": 15,
   "metadata": {
    "slideshow": {
     "slide_type": "fragment"
    }
   },
   "outputs": [
    {
     "name": "stdout",
     "output_type": "stream",
     "text": [
      "yo\n",
      "dude\n",
      "yo\n",
      "dude\n",
      "yo\n",
      "dude\n",
      "yo\n",
      "dude\n",
      "yo\n",
      "dude\n"
     ]
    }
   ],
   "source": [
    "x = 1\n",
    "y = 0\n",
    "while y < 10:\n",
    "    print(\"yo\" if x > 0 else \"dude\")\n",
    "    x *= -1\n",
    "    y += 1"
   ]
  },
  {
   "cell_type": "code",
   "execution_count": null,
   "metadata": {
    "slideshow": {
     "slide_type": "fragment"
    }
   },
   "outputs": [],
   "source": [
    "# Could also do this with a break statement\n",
    "x = 1\n",
    "y = 0\n",
    "while True:\n",
    "    print(\"yo\" if x > 0 else \"dude\")\n",
    "    x *= -1\n",
    "    y += 1\n",
    "    if y >= 10:\n",
    "        break"
   ]
  },
  {
   "cell_type": "markdown",
   "metadata": {
    "slideshow": {
     "slide_type": "fragment"
    }
   },
   "source": [
    "case statements can be constructed with \n",
    "just a bunch of `if`, `elif`,...`else`"
   ]
  },
  {
   "cell_type": "code",
   "execution_count": null,
   "metadata": {
    "slideshow": {
     "slide_type": "fragment"
    }
   },
   "outputs": [],
   "source": [
    "if x < 1:\n",
    "    print(\"t\")\n",
    "elif x > 100:\n",
    "    print(\"yo\")\n",
    "elif x == 42:\n",
    "    print(\"bingo\")\n",
    "else:\n",
    "    print(\"dude\")"
   ]
  },
  {
   "cell_type": "markdown",
   "metadata": {
    "slideshow": {
     "slide_type": "fragment"
    }
   },
   "source": [
    "Note: ordering matters. The first block of `True` in an if/elif gets executed then everything else does not."
   ]
  },
  {
   "cell_type": "markdown",
   "metadata": {
    "slideshow": {
     "slide_type": "slide"
    }
   },
   "source": [
    "`for` loops are also very useful the standard syntax if\n",
    "\n",
    "```\n",
    "for my_things in list_of_my_things:\n",
    "    do stuff\n",
    "```\n",
    "heres an example using the turtle graphics described in [chapter 4 of 'Thinking Like a Computer Scientist'](http://interactivepython.org/runestone/static/thinkcspy/PythonTurtle/toctree.html)"
   ]
  },
  {
   "cell_type": "code",
   "execution_count": 16,
   "metadata": {
    "slideshow": {
     "slide_type": "slide"
    }
   },
   "outputs": [],
   "source": [
    "# stolen from turtledemo\n",
    "\n",
    "import turtle\n",
    "\n",
    "peacecolors = (\"red3\",  \"orange\", \"yellow\",\n",
    "                   \"seagreen4\", \"orchid4\",\n",
    "                   \"royalblue1\", \"dodgerblue4\")\n",
    "\n",
    "turtle.reset()\n",
    "turtle.Screen()\n",
    "turtle.up()\n",
    "turtle.goto(-320,-195)\n",
    "turtle.width(70)\n",
    "\n",
    "for pcolor in peacecolors:\n",
    "    turtle.color(pcolor)\n",
    "    turtle.down()\n",
    "    turtle.forward(640)\n",
    "    turtle.up()\n",
    "    turtle.backward(640)\n",
    "    turtle.left(90)\n",
    "    turtle.forward(66)\n",
    "    turtle.right(90)\n",
    "\n",
    "turtle.width(25)\n",
    "turtle.color(\"white\")\n",
    "turtle.goto(0,-170)\n",
    "turtle.down()\n",
    "\n",
    "turtle.circle(170)\n",
    "turtle.left(90)\n",
    "turtle.forward(340)\n",
    "turtle.up()\n",
    "turtle.left(180)\n",
    "turtle.forward(170)\n",
    "turtle.right(45)\n",
    "turtle.down()\n",
    "turtle.forward(170)\n",
    "turtle.up()\n",
    "turtle.backward(170)\n",
    "turtle.left(90)\n",
    "turtle.down()\n",
    "turtle.forward(170)\n",
    "turtle.up()\n",
    "\n",
    "turtle.goto(0,300) # vanish if hideturtle() is not available ;-)\n",
    "turtle.bye()"
   ]
  },
  {
   "cell_type": "markdown",
   "metadata": {
    "slideshow": {
     "slide_type": "slide"
    }
   },
   "source": [
    "we make a list of colours and loop over them. We'll talk about lists later. \n",
    "\n",
    "The most common for loop is probably using the `range(n)` function - note it by default returns a list of numbers from $0$ to $n-1$, when called as `range(n)`"
   ]
  },
  {
   "cell_type": "code",
   "execution_count": null,
   "metadata": {
    "slideshow": {
     "slide_type": "subslide"
    }
   },
   "outputs": [],
   "source": [
    "for i in range(10):\n",
    "    print(i)"
   ]
  },
  {
   "cell_type": "markdown",
   "metadata": {
    "slideshow": {
     "slide_type": "slide"
    }
   },
   "source": [
    "### Blocks cannot be empty!"
   ]
  },
  {
   "cell_type": "code",
   "execution_count": null,
   "metadata": {
    "slideshow": {
     "slide_type": "fragment"
    }
   },
   "outputs": [],
   "source": [
    "x = \"fried goldfish\"\n",
    "if x == \"spam for dinner\":\n",
    "    print(\"I will destroy the universe\")\n",
    "else:\n",
    "    # I'm fine with that. I'll do nothing"
   ]
  },
  {
   "cell_type": "code",
   "execution_count": null,
   "metadata": {
    "collapsed": true,
    "slideshow": {
     "slide_type": "fragment"
    }
   },
   "outputs": [],
   "source": [
    "x = \"fried goldfish\"\n",
    "if x == \"spam for dinner\":\n",
    "    print(\"I will destroy the universe\")\n",
    "else:\n",
    "    # I'm fine with that. I'll do nothing\n",
    "    pass"
   ]
  },
  {
   "cell_type": "markdown",
   "metadata": {
    "slideshow": {
     "slide_type": "fragment"
    }
   },
   "source": [
    "`pass` is a \"do nothing\"/NOP statement"
   ]
  },
  {
   "cell_type": "markdown",
   "metadata": {
    "slideshow": {
     "slide_type": "slide"
    }
   },
   "source": [
    "## Example: putting it all together\n",
    "\n",
    "heres an example can you see what it does"
   ]
  },
  {
   "cell_type": "code",
   "execution_count": null,
   "metadata": {
    "slideshow": {
     "slide_type": "fragment"
    }
   },
   "outputs": [],
   "source": [
    "#look for the smallest number larger than 1 python will give us (epsilon)\n",
    "\n",
    "epsilon = 1.0\n",
    "iter = 1\n",
    "\n",
    "while (1.0 + 0.5*epsilon) > 1.0 :\n",
    "    epsilon = 0.5*epsilon \n",
    "    print(\"iteration number {} epsilon {:.20f}\".format(iter, epsilon))\n",
    "    iter += 1\n",
    "print(\"epsilon is\" + \" \" + str(epsilon))"
   ]
  },
  {
   "cell_type": "markdown",
   "metadata": {
    "slideshow": {
     "slide_type": "subslide"
    }
   },
   "source": [
    "- why do I use a `while` loop rather than a `for` loop?\n",
    "- how does the test condition in the `while` loop terminate?"
   ]
  }
 ],
 "metadata": {
  "anaconda-cloud": {},
  "celltoolbar": "Slideshow",
  "kernelspec": {
   "display_name": "Python 3",
   "language": "python",
   "name": "python3"
  },
  "language_info": {
   "codemirror_mode": {
    "name": "ipython",
    "version": 3
   },
   "file_extension": ".py",
   "mimetype": "text/x-python",
   "name": "python",
   "nbconvert_exporter": "python",
   "pygments_lexer": "ipython3",
   "version": "3.5.4"
  }
 },
 "nbformat": 4,
 "nbformat_minor": 1
}
