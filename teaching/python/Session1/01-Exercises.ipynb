{
 "cells": [
  {
   "cell_type": "markdown",
   "metadata": {},
   "source": [
    "## Babylonian algorithm\n",
    "\n",
    "is a method of finding square roots. Let's have a go at coding up the [Babylonian method](https://en.wikipedia.org/wiki/Methods_of_computing_square_roots), and [more details here](http://personal.bgsu.edu/~carother/babylon/Babylon1.html). A respectable source suggests [it probably was Babylonian](http://www.maa.org/press/periodicals/convergence/the-best-known-old-babylonian-tablet). You can do it with a few adjustments to the previous example for finding epsilon.\n",
    "\n",
    "Let $x$ and $a$ be positive integers. The sequence $x_{n+1} = \\frac{1}{2}(x_{n} + a/x_{n})$ should converge to $\\sqrt{a}$. \n",
    "\n",
    "So you need your target, $a$, an initial guess for $x_{1}$ and a loop that generates new values of $x_{n}$. Define a stopping criteria - convenient to take the difference (or square of the difference) of the new value of $x_{n+1}$ and the old value $x_{n}$.  "
   ]
  },
  {
   "cell_type": "code",
   "execution_count": null,
   "metadata": {
    "collapsed": false
   },
   "outputs": [],
   "source": [
    "import numpy as np # math library that provides square root function\n",
    "\n",
    "a = float(input(\"find square root of \"))\n",
    "x = 500000\n",
    "epsilon = 50000\n",
    "delta = 0.01 # our stopping criteria\n",
    "\n",
    "while epsilon > delta:\n",
    "    x = 0.5*(x + a/x)\n",
    "    print(x) # print every step for debugging\n",
    "    epsilon = abs(x) - np.sqrt(a)\n",
    "\n",
    "print(\"final estimate of square root\", a, \"is\", x)"
   ]
  },
  {
   "cell_type": "markdown",
   "metadata": {},
   "source": [
    "## Fizz Buzz (a classic)\n",
    "\n",
    "Write a program that prints the numbers from 1 to 100. But for multiples of three print “Fizz” instead of the number and for the multiples of five print “Buzz”. For numbers which are multiples of both three and five print “FizzBuzz”.\n",
    "\n",
    "If you finish quickly... see how **few** characters you can write this program in (this is known as \"code golf\": going for the fewest key strokes)."
   ]
  },
  {
   "cell_type": "code",
   "execution_count": null,
   "metadata": {
    "collapsed": false
   },
   "outputs": [],
   "source": [
    "icount = 1\n",
    "while icount < 101:\n",
    "    if icount % 15 == 0 :\n",
    "        print(\"FizzBuzz\")\n",
    "    elif icount % 5 == 0 :\n",
    "        print(\"Buzz\")\n",
    "    elif icount % 3 == 0 :\n",
    "        print(\"Fizz\")\n",
    "    else:\n",
    "        print(icount)\n",
    "    icount += 1\n",
    "print(\"done\")"
   ]
  },
  {
   "cell_type": "markdown",
   "metadata": {},
   "source": [
    "## Turtle Power\n",
    "\n",
    "Have an experiment with the turtle graphics. What geometric shapes can you draw come up with. Here's one\n"
   ]
  },
  {
   "cell_type": "code",
   "execution_count": 9,
   "metadata": {
    "collapsed": false
   },
   "outputs": [
    {
     "name": "stdout",
     "output_type": "stream",
     "text": [
      "cleaning up\n"
     ]
    }
   ],
   "source": [
    "import turtle as t # import our library\n",
    "wn = t.Screen() # creates a new window for the turtle to work in\n",
    "\n",
    "t.speed(0)\n",
    "t.color(\"red\")\n",
    "for angle in range(0, 360, 15):\n",
    "    t.seth(angle)\n",
    "    t.circle(100)\n",
    "\n",
    "wn.exitonclick() # exit when mouse is clicked\n",
    "# protect against errors when exiting\n",
    "try:\n",
    "    t.bye()\n",
    "except:\n",
    "    print(\"cleaning up\")"
   ]
  },
  {
   "cell_type": "markdown",
   "metadata": {},
   "source": [
    "Note that the graphics window is a little bit funny within a notebook environment. The funny bit at the bottom just tidies up and tries to make sure the window doesn't get stuck.\n",
    "\n",
    "If it seems to get stuck try rerunning the main cell a few times, and if that doesn't work restart the kernel (drop down menu at the top)."
   ]
  }
 ],
 "metadata": {
  "kernelspec": {
   "display_name": "Python 3",
   "language": "python",
   "name": "python3"
  },
  "language_info": {
   "codemirror_mode": {
    "name": "ipython",
    "version": 3
   },
   "file_extension": ".py",
   "mimetype": "text/x-python",
   "name": "python",
   "nbconvert_exporter": "python",
   "pygments_lexer": "ipython3",
   "version": "3.5.1"
  }
 },
 "nbformat": 4,
 "nbformat_minor": 0
}
