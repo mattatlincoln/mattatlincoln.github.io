{
 "cells": [
  {
   "cell_type": "markdown",
   "metadata": {},
   "source": [
    "$$\n",
    "0 \\leq (\\sqrt{a}-\\sqrt{b})^2 \\\\\n",
    "\\Rightarrow\n",
    "0 \\leq a - 2\\sqrt{ab} + b \\\\\n",
    "\\Rightarrow\n",
    "\\sqrt{ab} \\leq \\frac{1}{2} (a + b)\n",
    "$$"
   ]
  },
  {
   "cell_type": "markdown",
   "metadata": {},
   "source": [
    "Consider $x$ and $a^2/x$, particularly their arithmetic (AM) and geometric (GM) means:\n",
    "AM = $\\frac{1}{2} (x + a/x)$ and GM = $a$\n"
   ]
  },
  {
   "cell_type": "markdown",
   "metadata": {},
   "source": [
    "If $x_{n+1} = \\frac{1}{2}(x_{n} + a^2/x_{n})$ we know that $x_{n+1} \\geq a$ because $x_{n+1}$ is defined as the AM of $x$ and $a^2/x$, which we have just seen is smaller than the GM, $a$. "
   ]
  },
  {
   "cell_type": "markdown",
   "metadata": {},
   "source": [
    "How to show $x_{n+1}$ is smaller than $x_{n}$?"
   ]
  },
  {
   "cell_type": "code",
   "execution_count": null,
   "metadata": {
    "collapsed": true
   },
   "outputs": [],
   "source": []
  }
 ],
 "metadata": {
  "kernelspec": {
   "display_name": "Python 3",
   "language": "python",
   "name": "python3"
  },
  "language_info": {
   "codemirror_mode": {
    "name": "ipython",
    "version": 3
   },
   "file_extension": ".py",
   "mimetype": "text/x-python",
   "name": "python",
   "nbconvert_exporter": "python",
   "pygments_lexer": "ipython3",
   "version": "3.4.3"
  }
 },
 "nbformat": 4,
 "nbformat_minor": 0
}
