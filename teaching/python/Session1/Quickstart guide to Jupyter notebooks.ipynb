{
 "cells": [
  {
   "cell_type": "markdown",
   "metadata": {},
   "source": [
    "# Jupyter notebooks\n",
    "\n",
    "This is an ipython notebook (the name is changing to Jupyter notebook). Notebooks are made up of cells which can contain a superset of python. \n",
    "\n",
    "To see a cell double click on it with your mouse.\n",
    "\n",
    "To 'compile' a cell you've been looking at / working on use `CTRL+ENTER` or `SHIFT+ENTER` - meaning hold down both a `shift` key and an `enter` key.\n",
    "\n",
    "You can save your file from the file menu in the top left.\n",
    "\n",
    "---\n",
    "\n",
    "## Why notebooks?\n",
    "\n",
    "We can mix text and calculations.\n",
    "\n",
    "The main types of cells are:"
   ]
  },
  {
   "cell_type": "markdown",
   "metadata": {},
   "source": [
    "### I'm a markdown cell - double click on me\n",
    "\n",
    "1 - Markdown - this displays as text - double click on me to see the actual text and to edit.\n",
    "\n",
    "- Some, nice things are that we can add math using Latex notation $P(A) = \\bigcup_{i=1}^n P(A E_i)$.\n",
    "- We can easily add weblinks to [whatever](http://nbviewer.jupyter.org/).\n",
    "- It exports to pdf, latex source, html and it can be used as slides for presentations.\n",
    "\n",
    "To 'compile' this cell use `CTRL+ENTER` or `SHIFT+ENTER` - meaning hold down both a `shift` key and an `enter` key.\n",
    "\n",
    "---"
   ]
  },
  {
   "cell_type": "code",
   "execution_count": 12,
   "metadata": {
    "collapsed": false
   },
   "outputs": [
    {
     "name": "stdout",
     "output_type": "stream",
     "text": [
      "this should run OK if saved it as a print_this.py program and ran it\n"
     ]
    }
   ],
   "source": [
    "# I'm a code cell - use CTRL+ENTER to run the code in the cell\n",
    "#\n",
    "# 2. code cells - these hold actual python commands. They need to be valid python syntax.\n",
    "# Comments in python follow a # - the computer ignores them, so they can be used to pass messages to anyone \n",
    "# who reads your code (note - probably you, so make them understandable).\n",
    "\n",
    "print(\"this should run OK if saved it as a print_this.py program and ran it\")"
   ]
  },
  {
   "cell_type": "markdown",
   "metadata": {},
   "source": [
    "Commands in code cells can be directly run as a python program - as you did using the spyder editor last term.\n",
    "\n",
    "The last output of a code cell will be shown below it when the cell is run, in the above cell it prints the stuff in \"\"s.\n",
    "\n",
    "Even though it looks a bit different, the notebook is still a program, and runs from top to bottom. This means that variables need to be defined (assigned) before you use them, and libraries you want to use need to be imported."
   ]
  },
  {
   "cell_type": "code",
   "execution_count": 9,
   "metadata": {
    "collapsed": false
   },
   "outputs": [
    {
     "ename": "SyntaxError",
     "evalue": "invalid syntax (<ipython-input-9-3e7703c2c4d6>, line 1)",
     "output_type": "error",
     "traceback": [
      "\u001b[1;36m  File \u001b[1;32m\"<ipython-input-9-3e7703c2c4d6>\"\u001b[1;36m, line \u001b[1;32m1\u001b[0m\n\u001b[1;33m    If I put text into a code cell it will complain\u001b[0m\n\u001b[1;37m       ^\u001b[0m\n\u001b[1;31mSyntaxError\u001b[0m\u001b[1;31m:\u001b[0m invalid syntax\n"
     ]
    }
   ],
   "source": [
    "If I put text into a code cell it will complain"
   ]
  },
  {
   "cell_type": "markdown",
   "metadata": {},
   "source": [
    "The menu bar at the top of the screen allows you to work with the notebook. The + button in the menu bar adds a cell. A dropdown box switches between code and markdown. The other menus allow various things to be done.\n",
    "\n",
    "- Add a couple of cells below this one - one code and one markdown.\n",
    "- Run them using `CRTL+ENTER` or `SHIFT+ENTER` (what is the difference?)."
   ]
  },
  {
   "cell_type": "markdown",
   "metadata": {},
   "source": [
    "## Code cells run individually\n",
    "\n",
    "So to get the full program to run you need to run them in sequence. Normally this would be from the top to the bottom (there is a run all command in the menu)"
   ]
  },
  {
   "cell_type": "code",
   "execution_count": null,
   "metadata": {
    "collapsed": false
   },
   "outputs": [],
   "source": [
    "# If i run this cell I will get an error message saying that 'a' is not defined\n",
    "print(a)"
   ]
  },
  {
   "cell_type": "code",
   "execution_count": null,
   "metadata": {
    "collapsed": true
   },
   "outputs": [],
   "source": [
    "#lets define a\n",
    "a =1"
   ]
  },
  {
   "cell_type": "code",
   "execution_count": 13,
   "metadata": {
    "collapsed": false
   },
   "outputs": [
    {
     "ename": "NameError",
     "evalue": "name 'a' is not defined",
     "output_type": "error",
     "traceback": [
      "\u001b[1;31m---------------------------------------------------------------------------\u001b[0m",
      "\u001b[1;31mNameError\u001b[0m                                 Traceback (most recent call last)",
      "\u001b[1;32m<ipython-input-13-c5a4f3535135>\u001b[0m in \u001b[0;36m<module>\u001b[1;34m()\u001b[0m\n\u001b[1;32m----> 1\u001b[1;33m \u001b[0mprint\u001b[0m\u001b[1;33m(\u001b[0m\u001b[0ma\u001b[0m\u001b[1;33m)\u001b[0m\u001b[1;33m\u001b[0m\u001b[0m\n\u001b[0m",
      "\u001b[1;31mNameError\u001b[0m: name 'a' is not defined"
     ]
    }
   ],
   "source": [
    "# now it works\n",
    "print(a)"
   ]
  },
  {
   "cell_type": "markdown",
   "metadata": {},
   "source": [
    "actually the original cell will work too now we've defined a."
   ]
  }
 ],
 "metadata": {
  "kernelspec": {
   "display_name": "Python 3",
   "language": "python",
   "name": "python3"
  },
  "language_info": {
   "codemirror_mode": {
    "name": "ipython",
    "version": 3
   },
   "file_extension": ".py",
   "mimetype": "text/x-python",
   "name": "python",
   "nbconvert_exporter": "python",
   "pygments_lexer": "ipython3",
   "version": "3.5.1"
  }
 },
 "nbformat": 4,
 "nbformat_minor": 0
}
