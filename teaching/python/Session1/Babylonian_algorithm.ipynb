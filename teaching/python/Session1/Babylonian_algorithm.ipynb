{
 "cells": [
  {
   "cell_type": "markdown",
   "metadata": {},
   "source": [
    "Finding square roots. Let's have a go at the [Babylonian method](https://en.wikipedia.org/wiki/Methods_of_computing_square_roots), and [more details here](http://personal.bgsu.edu/~carother/babylon/Babylon1.html). A respectable source suggests [it probably was Babylonian](http://www.maa.org/press/periodicals/convergence/the-best-known-old-babylonian-tablet)."
   ]
  },
  {
   "cell_type": "code",
   "execution_count": 3,
   "metadata": {
    "collapsed": false
   },
   "outputs": [
    {
     "name": "stdout",
     "output_type": "stream",
     "text": [
      "1.4142135625249321\n"
     ]
    }
   ],
   "source": [
    "from math import sqrt\n",
    "\n",
    "old_x = 500.0\n",
    "new_x = 4.0\n",
    "target = 2\n",
    "\n",
    "while sqrt((new_x - old_x)**2) > 0.001:\n",
    "    old_x = new_x\n",
    "    new_x = 0.5*(old_x + target / old_x)\n",
    "    \n",
    "print(new_x)"
   ]
  },
  {
   "cell_type": "code",
   "execution_count": 2,
   "metadata": {
    "collapsed": false
   },
   "outputs": [
    {
     "name": "stdout",
     "output_type": "stream",
     "text": [
      "1.4142135623730951\n"
     ]
    }
   ],
   "source": [
    "print(sqrt(2))"
   ]
  },
  {
   "cell_type": "code",
   "execution_count": 4,
   "metadata": {
    "collapsed": true
   },
   "outputs": [],
   "source": [
    "def find_root(n):\n",
    "    old_x = 500.0\n",
    "    new_x = 4.0\n",
    "    target = n\n",
    "    \n",
    "    while sqrt((new_x - old_x)**2) > 0.001:\n",
    "        old_x = new_x\n",
    "        new_x = 0.5*(old_x + target / old_x)\n",
    "    #print(new_x)\n",
    "    return new_x"
   ]
  },
  {
   "cell_type": "code",
   "execution_count": 7,
   "metadata": {
    "collapsed": false
   },
   "outputs": [
    {
     "name": "stdout",
     "output_type": "stream",
     "text": [
      "1.414213562373095\n"
     ]
    }
   ],
   "source": [
    "print(find_root(2))"
   ]
  },
  {
   "cell_type": "code",
   "execution_count": 5,
   "metadata": {
    "collapsed": false
   },
   "outputs": [
    {
     "name": "stdout",
     "output_type": "stream",
     "text": [
      "1.732050807569328\n"
     ]
    }
   ],
   "source": [
    "print(find_root(3))"
   ]
  },
  {
   "cell_type": "code",
   "execution_count": 7,
   "metadata": {
    "collapsed": true
   },
   "outputs": [],
   "source": [
    "def find_root_with_history(n):\n",
    "    old_x = 500.0\n",
    "    new_x = 4.0\n",
    "    target = n\n",
    "    history = []\n",
    "    \n",
    "    while sqrt((new_x - old_x)**2) > 0.001:\n",
    "        old_x = new_x\n",
    "        new_x = 0.5*(old_x + target / old_x)\n",
    "        history.append(new_x)\n",
    "    #print(new_x)\n",
    "    return history"
   ]
  },
  {
   "cell_type": "code",
   "execution_count": 11,
   "metadata": {
    "collapsed": false
   },
   "outputs": [
    {
     "name": "stdout",
     "output_type": "stream",
     "text": [
      "[2.625, 2.2648809523809526, 2.2362512514861397, 2.2360679850099823]\n"
     ]
    }
   ],
   "source": [
    "import matplotlib.pyplot as plt\n",
    "print(find_root_with_history(5))"
   ]
  },
  {
   "cell_type": "code",
   "execution_count": 12,
   "metadata": {
    "collapsed": true
   },
   "outputs": [],
   "source": [
    "%matplotlib inline"
   ]
  },
  {
   "cell_type": "code",
   "execution_count": 13,
   "metadata": {
    "collapsed": false
   },
   "outputs": [
    {
     "data": {
      "text/plain": [
       "[<matplotlib.lines.Line2D at 0x7fb9044ffe10>]"
      ]
     },
     "execution_count": 13,
     "metadata": {},
     "output_type": "execute_result"
    },
    {
     "data": {
      "image/png": "[encoded data removed]",
      "text/plain": [
       "<matplotlib.figure.Figure at 0x7fb904520ef0>"
      ]
     },
     "metadata": {},
     "output_type": "display_data"
    }
   ],
   "source": [
    "plt.plot(find_root_with_history(5))"
   ]
  },
  {
   "cell_type": "code",
   "execution_count": 14,
   "metadata": {
    "collapsed": false
   },
   "outputs": [
    {
     "data": {
      "text/plain": [
       "[<matplotlib.lines.Line2D at 0x7fb904465080>]"
      ]
     },
     "execution_count": 14,
     "metadata": {},
     "output_type": "execute_result"
    },
    {
     "data": {
      "image/png": "[encoded data removed]",
      "text/plain": [
       "<matplotlib.figure.Figure at 0x7fb90451fb00>"
      ]
     },
     "metadata": {},
     "output_type": "display_data"
    }
   ],
   "source": [
    "plt.plot(find_root_with_history(28569))"
   ]
  },
  {
   "cell_type": "code",
   "execution_count": 18,
   "metadata": {
    "collapsed": false
   },
   "outputs": [
    {
     "name": "stdout",
     "output_type": "stream",
     "text": [
      "169.02366698187564\n"
     ]
    }
   ],
   "source": [
    "print((sqrt(28569)))"
   ]
  },
  {
   "cell_type": "code",
   "execution_count": 49,
   "metadata": {
    "collapsed": true
   },
   "outputs": [],
   "source": [
    "def find_epsilon():\n",
    "    epsilon = 1.0\n",
    "    history = []\n",
    "    \n",
    "    while (1.0 + 0.5*epsilon) > 1.0 :\n",
    "        epsilon = 0.5*epsilon \n",
    "        history.append(epsilon)\n",
    "    print(epsilon)\n",
    "    return history"
   ]
  },
  {
   "cell_type": "code",
   "execution_count": 50,
   "metadata": {
    "collapsed": false
   },
   "outputs": [
    {
     "name": "stdout",
     "output_type": "stream",
     "text": [
      "2.220446049250313e-16\n"
     ]
    },
    {
     "data": {
      "text/plain": [
       "[<matplotlib.lines.Line2D at 0x7fb903ff51d0>]"
      ]
     },
     "execution_count": 50,
     "metadata": {},
     "output_type": "execute_result"
    },
    {
     "data": {
      "image/png": "[encoded data removed]",
      "text/plain": [
       "<matplotlib.figure.Figure at 0x7fb9040ddd68>"
      ]
     },
     "metadata": {},
     "output_type": "display_data"
    }
   ],
   "source": [
    "plt.plot(find_epsilon())"
   ]
  },
  {
   "cell_type": "code",
   "execution_count": 151,
   "metadata": {
    "collapsed": false
   },
   "outputs": [],
   "source": [
    "def find_epsilon_n(n):\n",
    "    epsilon = 1.0\n",
    "    n = float(n)\n",
    "    history = []\n",
    "    \n",
    "    while (n + 0.5*epsilon) > n :\n",
    "        epsilon = 0.5*epsilon \n",
    "        #print (n, n + 0.5*epsilon, epsilon)\n",
    "    return epsilon"
   ]
  },
  {
   "cell_type": "code",
   "execution_count": 156,
   "metadata": {
    "collapsed": false
   },
   "outputs": [
    {
     "data": {
      "text/plain": [
       "2.220446049250313e-16"
      ]
     },
     "execution_count": 156,
     "metadata": {},
     "output_type": "execute_result"
    }
   ],
   "source": [
    "find_epsilon_n(1)"
   ]
  },
  {
   "cell_type": "code",
   "execution_count": 86,
   "metadata": {
    "collapsed": false
   },
   "outputs": [
    {
     "data": {
      "text/plain": [
       "[<matplotlib.lines.Line2D at 0x7fb903409710>]"
      ]
     },
     "execution_count": 86,
     "metadata": {},
     "output_type": "execute_result"
    },
    {
     "data": {
      "image/png": "[encoded data removed]",
      "text/plain": [
       "<matplotlib.figure.Figure at 0x7fb903a0e5c0>"
      ]
     },
     "metadata": {},
     "output_type": "display_data"
    }
   ],
   "source": [
    "epsilon = []\n",
    "for i in range(250000):\n",
    "    epsilon.append(find_epsilon_n(i))\n",
    "plt.plot(epsilon)"
   ]
  },
  {
   "cell_type": "code",
   "execution_count": 83,
   "metadata": {
    "collapsed": false
   },
   "outputs": [
    {
     "name": "stdout",
     "output_type": "stream",
     "text": [
      "1249.0\n"
     ]
    }
   ],
   "source": [
    "print(1249.0)"
   ]
  },
  {
   "cell_type": "code",
   "execution_count": 153,
   "metadata": {
    "collapsed": true
   },
   "outputs": [],
   "source": [
    "def find_epsilon_n_long(n):\n",
    "    epsilon = np.longdouble(1.0) \n",
    "    n = np.longdouble(n) \n",
    "    history = []\n",
    "    \n",
    "    while (n + 0.5*epsilon) > n :\n",
    "        epsilon = 0.5*epsilon \n",
    "        print (n, n + 0.5*epsilon, epsilon)\n",
    "    return epsilon"
   ]
  },
  {
   "cell_type": "code",
   "execution_count": 109,
   "metadata": {
    "collapsed": false
   },
   "outputs": [
    {
     "data": {
      "image/png": "[encoded data removed]",
      "text/plain": [
       "<matplotlib.figure.Figure at 0x7fb90366e8d0>"
      ]
     },
     "metadata": {},
     "output_type": "display_data"
    }
   ],
   "source": [
    "epsilon = []\n",
    "epsilon_long = []\n",
    "import numpy as np\n",
    "for i in range(250000):\n",
    "    epsilon_long.append(find_epsilon_n_long(i))\n",
    "    epsilon.append(find_epsilon_n(i))\n",
    "fig = plt.figure()\n",
    "ax = fig.add_subplot(2,1,1)\n",
    "line, = ax.plot(epsilon, color='blue', lw=2)\n",
    "line, = ax.plot(epsilon_long, color='red', lw=2)\n",
    "#ax.set_yscale(\"log\")"
   ]
  },
  {
   "cell_type": "code",
   "execution_count": 162,
   "metadata": {
    "collapsed": false
   },
   "outputs": [
    {
     "name": "stdout",
     "output_type": "stream",
     "text": [
      "10000000000.0 10000000000.2 0.5\n",
      "10000000000.0 10000000000.1 0.25\n",
      "10000000000.0 10000000000.1 0.125\n",
      "10000000000.0 10000000000.0 0.0625\n",
      "10000000000.0 10000000000.0 0.03125\n",
      "10000000000.0 10000000000.0 0.015625\n",
      "10000000000.0 10000000000.0 0.0078125\n",
      "10000000000.0 10000000000.0 0.00390625\n",
      "10000000000.0 10000000000.0 0.001953125\n",
      "10000000000.0 10000000000.0 0.0009765625\n",
      "10000000000.0 10000000000.0 0.00048828125\n",
      "10000000000.0 10000000000.0 0.000244140625\n",
      "10000000000.0 10000000000.0 0.0001220703125\n",
      "10000000000.0 10000000000.0 6.103515625e-05\n",
      "10000000000.0 10000000000.0 3.0517578125e-05\n",
      "10000000000.0 10000000000.0 1.52587890625e-05\n",
      "10000000000.0 10000000000.0 7.62939453125e-06\n",
      "10000000000.0 10000000000.0 3.81469726562e-06\n",
      "10000000000.0 10000000000.0 1.90734863281e-06\n",
      "10000000000.0 10000000000.0 9.53674316406e-07\n",
      "10000000000.0 10000000000.0 4.76837158203e-07\n",
      "10000000000.0 10000000000.0 2.38418579102e-07\n",
      "10000000000.0 10000000000.0 1.19209289551e-07\n",
      "10000000000.0 10000000000.0 5.96046447754e-08\n",
      "10000000000.0 10000000000.0 2.98023223877e-08\n",
      "10000000000.0 10000000000.0 1.49011611938e-08\n",
      "10000000000.0 10000000000.0 7.45058059692e-09\n",
      "10000000000.0 10000000000.0 3.72529029846e-09\n",
      "10000000000.0 10000000000.0 1.86264514923e-09\n",
      "10000000000.0 10000000000.0 9.31322574615e-10\n"
     ]
    },
    {
     "data": {
      "text/plain": [
       "9.3132257461547851562e-10"
      ]
     },
     "execution_count": 162,
     "metadata": {},
     "output_type": "execute_result"
    }
   ],
   "source": [
    "find_epsilon_n_long(1E10)"
   ]
  },
  {
   "cell_type": "code",
   "execution_count": 113,
   "metadata": {
    "collapsed": false
   },
   "outputs": [
    {
     "name": "stdout",
     "output_type": "stream",
     "text": [
      "250000.000000000000000\n"
     ]
    }
   ],
   "source": [
    "print('{0:.15f}'.format(250000.0))"
   ]
  }
 ],
 "metadata": {
  "kernelspec": {
   "display_name": "Python 3",
   "language": "python",
   "name": "python3"
  },
  "language_info": {
   "codemirror_mode": {
    "name": "ipython",
    "version": 3
   },
   "file_extension": ".py",
   "mimetype": "text/x-python",
   "name": "python",
   "nbconvert_exporter": "python",
   "pygments_lexer": "ipython3",
   "version": "3.4.3"
  }
 },
 "nbformat": 4,
 "nbformat_minor": 0
}
