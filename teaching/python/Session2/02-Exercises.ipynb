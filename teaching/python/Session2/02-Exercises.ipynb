{
 "cells": [
  {
   "cell_type": "markdown",
   "metadata": {},
   "source": [
    "# Exercises for Session 2"
   ]
  },
  {
   "cell_type": "markdown",
   "metadata": {},
   "source": [
    "## Task \n",
    "\n",
    "- Check that you can do the Fizz Buzz problem now"
   ]
  },
  {
   "cell_type": "code",
   "execution_count": null,
   "metadata": {
    "collapsed": true
   },
   "outputs": [],
   "source": [
    "# See 01-exercises"
   ]
  },
  {
   "cell_type": "markdown",
   "metadata": {},
   "source": [
    "## Task\n",
    "\n",
    "Find the sum of the first 20 multiples of 41893.\n",
    "\n",
    "*Hint* \n",
    "- you'll need an extra variable to keep track of the running total."
   ]
  },
  {
   "cell_type": "code",
   "execution_count": 3,
   "metadata": {
    "collapsed": false
   },
   "outputs": [
    {
     "name": "stdout",
     "output_type": "stream",
     "text": [
      "9677283\n"
     ]
    }
   ],
   "source": [
    "#solve this with an accumulator. Could also note that it is an arithmetic series\n",
    "\n",
    "counter = 0\n",
    "total = 0\n",
    "while counter < 21:# note, one bigger than the target number\n",
    "    counter = counter +1 # add one to our counter immediately\n",
    "    total = total + 41893*counter\n",
    "\n",
    "print(total)"
   ]
  },
  {
   "cell_type": "markdown",
   "metadata": {},
   "source": [
    "## Task\n",
    "\n",
    "- write a brute force code to check whether a number, $N$, is a prime number.\n",
    "- why does this get harder and harder to do as $N$ gets larger?\n",
    "\n",
    "*Hint*\n",
    "\n",
    "- the very simplest version would use a double loop (one loop inside another) and something similar to the Fizz Buzz problem."
   ]
  },
  {
   "cell_type": "code",
   "execution_count": 6,
   "metadata": {
    "collapsed": false
   },
   "outputs": [
    {
     "name": "stdout",
     "output_type": "stream",
     "text": [
      "integer to test for 'primeness' 9\n",
      "False\n"
     ]
    }
   ],
   "source": [
    "my_possible_prime = int(input(\"integer to test for 'primeness' \"))\n",
    "\n",
    "is_prime = True # lets be charitable, and assume it is prime to start with\n",
    "for itest in range(2,my_possible_prime): # we'll test all integers bigger than 1 and smaller than our number\n",
    "    if my_possible_prime % itest == 0 : # if it exactly divides by a number, it is not prime\n",
    "        is_prime = False\n",
    "    \n",
    "print(is_prime)    "
   ]
  },
  {
   "cell_type": "markdown",
   "metadata": {},
   "source": [
    "## Task \n",
    "\n",
    "- Write a small script to convert a temperature in Farenheit to the Celsius scale.\n",
    "- Alter your program so it reads in a temperature input by the user.\n",
    "\n",
    "*Hints* \n",
    "\n",
    "- use the input() function. \n",
    "- The input read in is taken to be a string - you can test this by using the type() function on your input. \n",
    "    - Use the `float()` function to convert the `str` to a number that you can use."
   ]
  },
  {
   "cell_type": "code",
   "execution_count": 8,
   "metadata": {
    "collapsed": false
   },
   "outputs": [
    {
     "name": "stdout",
     "output_type": "stream",
     "text": [
      "enter temperature in Farenheit: 33\n",
      "Temp in degrees C is 0.5555555555555556\n"
     ]
    }
   ],
   "source": [
    "temp_in_F = float(input(\"enter temperature in Farenheit: \"))\n",
    "print(\"Temp in degrees C is\", (temp_in_F-32)*5/9)"
   ]
  },
  {
   "cell_type": "markdown",
   "metadata": {},
   "source": [
    "## Task\n",
    "\n",
    "combining loops and functions you can get surprisingly impressive results from Turtle graphics.\n",
    "\n",
    "- draw a turtle polygon\n",
    "- check you can draw a circle\n",
    "- can you square a circle?\n",
    "- can you draw [polar graph paper](https://goo.gl/EZva3W) (remember there are up and down methods to stop the turtle drawing)\n",
    "- try adding in a simple design and colours / fills\n",
    "- go crazy"
   ]
  },
  {
   "cell_type": "markdown",
   "metadata": {},
   "source": [
    "*Hints*\n",
    "\n",
    "- You'll want to look at [chapter 4](http://interactivepython.org/runestone/static/thinkcspy/PythonTurtle/toctree.html) on Turtle graphics in \"How To Think Like a Computer Scientist\", and the extensions up to [Finally a Circle](http://interactivepython.org/runestone/static/thinkcspy/Labs/lab04_01a.html#finally-a-circle)\n",
    "- You'll need to build up slowly and make sure once you see how a step works \n",
    "- you can use loops and functions to keep things clear and simple and make really rather complex patterns\n",
    "\n",
    "Here's an example to work from / play with:"
   ]
  },
  {
   "cell_type": "code",
   "execution_count": 7,
   "metadata": {
    "collapsed": false
   },
   "outputs": [
    {
     "name": "stdout",
     "output_type": "stream",
     "text": [
      "cleaning up\n"
     ]
    }
   ],
   "source": [
    "import turtle # we'll cover libraries next week, this makes the Turtle functions available\n",
    "wn = turtle.Screen() # this creates a new window that the turtle will draw on\n",
    "\n",
    "# and example that draws a kind of spiral\n",
    "turtle1 = turtle.Turtle() # creates a turtle\n",
    "turtle1.color('red') # makes its 'slime' red\n",
    "turtle1.speed(0.5) # try playing with this\n",
    "\n",
    "for i in range(100):\n",
    "    turtle1.left(45)\n",
    "    turtle1.forward(1 + i)\n",
    "    \n",
    "wn.exitonclick() # exit when mouse is clicked\n",
    "# protect against errors when exiting\n",
    "try:\n",
    "    t.bye()\n",
    "except:\n",
    "    print(\"cleaning up\")"
   ]
  }
 ],
 "metadata": {
  "anaconda-cloud": {},
  "kernelspec": {
   "display_name": "Python 3",
   "language": "python",
   "name": "python3"
  },
  "language_info": {
   "codemirror_mode": {
    "name": "ipython",
    "version": 3
   },
   "file_extension": ".py",
   "mimetype": "text/x-python",
   "name": "python",
   "nbconvert_exporter": "python",
   "pygments_lexer": "ipython3",
   "version": "3.5.1"
  }
 },
 "nbformat": 4,
 "nbformat_minor": 0
}
