{
 "cells": [
  {
   "cell_type": "markdown",
   "metadata": {},
   "source": [
    "# Lorentzian fit to your data\n",
    "\n",
    "this notebook performs a non-linear least squares fit of a Lorentzian function to your data.\n",
    "\n",
    "*If you are looking at this notebook on Github you can download it to your machine by right-clicking on the 'Raw' button above and selecting 'save link as'.*\n",
    "\n",
    "Remember these notebooks run from top to bottom and you need to execute the code in a cell for python to know about it.\n",
    "\n",
    "If you need help interacting with this notebook - see [here](https://mybinder.org/v2/gh/mattatlincoln/python/master?filepath=Quickstart%20guide%20to%20Jupyter%20notebooks.ipynb).\n",
    "\n",
    "### Some house keeping\n",
    "\n",
    "First, we import some libraries that we will need to perform our data analyis."
   ]
  },
  {
   "cell_type": "code",
   "execution_count": 1,
   "metadata": {},
   "outputs": [],
   "source": [
    "import numpy as np\n",
    "import pandas as pandas\n",
    "import matplotlib.pyplot as plt\n",
    "from scipy import optimize"
   ]
  },
  {
   "cell_type": "markdown",
   "metadata": {},
   "source": [
    "## Getting our data into python\n",
    "\n",
    "The pandas library is used for data analysis - it is kind of a mix of the functionality of a database and a spreadsheet. \n",
    "\n",
    "You can load in an Excel file that is in the same directory as the notebook like this. \n",
    "\n",
    "It will be loaded into a pandas datatype called a dataframe."
   ]
  },
  {
   "cell_type": "code",
   "execution_count": 2,
   "metadata": {},
   "outputs": [],
   "source": [
    "df = pandas.read_excel('Example data for RLC.xlsx')"
   ]
  },
  {
   "cell_type": "markdown",
   "metadata": {},
   "source": [
    "If your file is called a different name - change the file name in the argument of the ``read_excel method``.\n",
    "\n",
    "Let's check the data has imported OK. The head() method of the dataframe displays the column titles and the first 5 data rows."
   ]
  },
  {
   "cell_type": "code",
   "execution_count": 3,
   "metadata": {},
   "outputs": [
    {
     "data": {
      "text/html": [
       "<div>\n",
       "<style scoped>\n",
       "    .dataframe tbody tr th:only-of-type {\n",
       "        vertical-align: middle;\n",
       "    }\n",
       "\n",
       "    .dataframe tbody tr th {\n",
       "        vertical-align: top;\n",
       "    }\n",
       "\n",
       "    .dataframe thead th {\n",
       "        text-align: right;\n",
       "    }\n",
       "</style>\n",
       "<table border=\"1\" class=\"dataframe\">\n",
       "  <thead>\n",
       "    <tr style=\"text-align: right;\">\n",
       "      <th></th>\n",
       "      <th>frequency, Hz</th>\n",
       "      <th>Current, mA</th>\n",
       "      <th>Voltage, V</th>\n",
       "      <th>Impedance (Z)</th>\n",
       "      <th>1/Z</th>\n",
       "    </tr>\n",
       "  </thead>\n",
       "  <tbody>\n",
       "    <tr>\n",
       "      <th>0</th>\n",
       "      <td>0.5</td>\n",
       "      <td>0.5</td>\n",
       "      <td>1.6</td>\n",
       "      <td>3.200000</td>\n",
       "      <td>0.3125</td>\n",
       "    </tr>\n",
       "    <tr>\n",
       "      <th>1</th>\n",
       "      <td>1.0</td>\n",
       "      <td>1.0</td>\n",
       "      <td>1.6</td>\n",
       "      <td>1.600000</td>\n",
       "      <td>0.6250</td>\n",
       "    </tr>\n",
       "    <tr>\n",
       "      <th>2</th>\n",
       "      <td>1.5</td>\n",
       "      <td>2.0</td>\n",
       "      <td>1.6</td>\n",
       "      <td>0.800000</td>\n",
       "      <td>1.2500</td>\n",
       "    </tr>\n",
       "    <tr>\n",
       "      <th>3</th>\n",
       "      <td>2.0</td>\n",
       "      <td>3.0</td>\n",
       "      <td>1.6</td>\n",
       "      <td>0.533333</td>\n",
       "      <td>1.8750</td>\n",
       "    </tr>\n",
       "    <tr>\n",
       "      <th>4</th>\n",
       "      <td>2.2</td>\n",
       "      <td>4.0</td>\n",
       "      <td>1.6</td>\n",
       "      <td>0.400000</td>\n",
       "      <td>2.5000</td>\n",
       "    </tr>\n",
       "  </tbody>\n",
       "</table>\n",
       "</div>"
      ],
      "text/plain": [
       "   frequency, Hz  Current, mA  Voltage, V  Impedance (Z)     1/Z\n",
       "0            0.5          0.5         1.6       3.200000  0.3125\n",
       "1            1.0          1.0         1.6       1.600000  0.6250\n",
       "2            1.5          2.0         1.6       0.800000  1.2500\n",
       "3            2.0          3.0         1.6       0.533333  1.8750\n",
       "4            2.2          4.0         1.6       0.400000  2.5000"
      ]
     },
     "execution_count": 3,
     "metadata": {},
     "output_type": "execute_result"
    }
   ],
   "source": [
    "df.head()"
   ]
  },
  {
   "cell_type": "markdown",
   "metadata": {},
   "source": [
    "To access a column of data we can use ``df['name_of_the_column'[:]]``. We copy them into some new arrays to avoid having to type all those strange square brackets etc. "
   ]
  },
  {
   "cell_type": "code",
   "execution_count": 4,
   "metadata": {},
   "outputs": [],
   "source": [
    "freq = df['frequency, Hz'[:]]\n",
    "oneOverZ = df['1/Z'[:]]"
   ]
  },
  {
   "cell_type": "markdown",
   "metadata": {},
   "source": [
    "## Plotting our data\n",
    "\n",
    "Now we can use the matplotlib library (which we called plt for short) to visualize our data."
   ]
  },
  {
   "cell_type": "code",
   "execution_count": 5,
   "metadata": {},
   "outputs": [
    {
     "data": {
      "image/png": "[encoded data removed]",
      "text/plain": [
       "<Figure size 432x288 with 1 Axes>"
      ]
     },
     "metadata": {
      "needs_background": "light"
     },
     "output_type": "display_data"
    }
   ],
   "source": [
    "plt.scatter(freq,oneOverZ)\n",
    "plt.xlabel('freq [Hz]')\n",
    "plt.ylabel('1/Z');"
   ]
  },
  {
   "cell_type": "markdown",
   "metadata": {},
   "source": [
    "## Specifying the function to fit\n",
    "\n",
    "Now we define our fitting function. Here we pass it the x (freq) value we want and it returns the value of a lorentzian at that point. We can also pass x0 the peak of the function, gamma the width parameter of the function,  and the area under the function. \n",
    "\n",
    "We are going to fit a Lorentzian\n",
    "$$\n",
    "L = \\frac{ A \\Gamma}{2\\pi} \\left( \\frac{1}{(x-x_0)^2 + (\\frac{1}{2}\\Gamma)^2} \\right)\n",
    "$$"
   ]
  },
  {
   "cell_type": "code",
   "execution_count": 6,
   "metadata": {},
   "outputs": [],
   "source": [
    "\"\"\"\n",
    "function that returns the value of a Lorentzian with parameters x0, gamma and scale.\n",
    "x0, gamma and scale default to values 3.5, 1.0 and 1.0 if not explicitly given.\n",
    "\"\"\"\n",
    "def lorentzian(x, x0=3.5, gamma=1, A=1):\n",
    "    pi = np.pi\n",
    "    L = 1/pi * A * 0.5* gamma * (1/((x-x0)**2 + (0.5*gamma)**2))\n",
    "    return L"
   ]
  },
  {
   "cell_type": "code",
   "execution_count": 7,
   "metadata": {},
   "outputs": [
    {
     "data": {
      "text/plain": [
       "0.12732395447351627"
      ]
     },
     "execution_count": 7,
     "metadata": {},
     "output_type": "execute_result"
    }
   ],
   "source": [
    "# if I call the function with a single value it returns\n",
    "# the value of the lorentizan with the default parameters x0 =3.5, gamma=1 and scale = 1\n",
    "lorentzian(2.5)"
   ]
  },
  {
   "cell_type": "code",
   "execution_count": 8,
   "metadata": {},
   "outputs": [
    {
     "data": {
      "image/png": "[encoded data removed]",
      "text/plain": [
       "<Figure size 432x288 with 1 Axes>"
      ]
     },
     "metadata": {
      "needs_background": "light"
     },
     "output_type": "display_data"
    }
   ],
   "source": [
    "plt.plot(freq,lorentzian(freq));"
   ]
  },
  {
   "cell_type": "markdown",
   "metadata": {},
   "source": [
    "## Performing the fit\n",
    "\n",
    "Here is the fancy bit that actually does the fitting i.e. finds the best values of $x_0, \\Gamma$ and $A$\n",
    "\n",
    "We are using the optimize function from the scipy library. We give the function our function to fit (lorentzian), our data (freq and oneOverZ) and p0 which contains intitial values of the parameters in our fitting function: 3 in this case x0, gamma and A."
   ]
  },
  {
   "cell_type": "code",
   "execution_count": 9,
   "metadata": {},
   "outputs": [
    {
     "name": "stdout",
     "output_type": "stream",
     "text": [
      "[ 3.40303835  0.20603319 24.72121445]\n"
     ]
    }
   ],
   "source": [
    "params, params_covariance = optimize.curve_fit(lorentzian, freq, oneOverZ, p0=[3.5, 1, 70])\n",
    "print(params)"
   ]
  },
  {
   "cell_type": "markdown",
   "metadata": {},
   "source": [
    "It returns the least squared values of the parameters in our model as the array params. So here the first value returned in the params array is the first parameter in our fitting function. If we look at the fitting function definition we see that it is x0\n",
    "\n",
    "``def lorentzian(x, x0=3.5, gamma=1, scale=1):``\n",
    "\n",
    "A value of 3.40 makes sense looking at the data. The next to values are the width parameter, gamma $\\Gamma$, and the area that scales the curve.\n",
    "\n",
    "It also returns the covariance matrix of those parameters, which can be used for statistical analysis of the quality of the fit."
   ]
  },
  {
   "cell_type": "code",
   "execution_count": 10,
   "metadata": {},
   "outputs": [
    {
     "data": {
      "text/plain": [
       "array([[ 2.90292127e-05, -3.44648476e-06, -1.36340132e-04],\n",
       "       [-3.44648476e-06,  1.35210127e-04,  9.18782373e-03],\n",
       "       [-1.36340132e-04,  9.18782373e-03,  1.23279823e+00]])"
      ]
     },
     "execution_count": 10,
     "metadata": {},
     "output_type": "execute_result"
    }
   ],
   "source": [
    "params_covariance"
   ]
  },
  {
   "cell_type": "markdown",
   "metadata": {},
   "source": [
    "# Examining our fit\n",
    "\n",
    "we can plot our data and the fit to it like this:"
   ]
  },
  {
   "cell_type": "code",
   "execution_count": 11,
   "metadata": {},
   "outputs": [
    {
     "data": {
      "image/png": "[encoded data removed]",
      "text/plain": [
       "<Figure size 432x288 with 1 Axes>"
      ]
     },
     "metadata": {
      "needs_background": "light"
     },
     "output_type": "display_data"
    }
   ],
   "source": [
    "plt.plot(freq,lorentzian(freq, params[0], params[1], params[2]))\n",
    "plt.scatter(freq,oneOverZ);"
   ]
  },
  {
   "cell_type": "markdown",
   "metadata": {},
   "source": [
    "## Fitting other functions\n",
    "\n",
    "To fit other functions you need to change the fitting function and the number of parameters passed in the optimization routine - you could try fitting your data to a Gaussian instead."
   ]
  }
 ],
 "metadata": {
  "kernelspec": {
   "display_name": "Python 3",
   "language": "python",
   "name": "python3"
  },
  "language_info": {
   "codemirror_mode": {
    "name": "ipython",
    "version": 3
   },
   "file_extension": ".py",
   "mimetype": "text/x-python",
   "name": "python",
   "nbconvert_exporter": "python",
   "pygments_lexer": "ipython3",
   "version": "3.7.7"
  }
 },
 "nbformat": 4,
 "nbformat_minor": 4
}
