{
 "cells": [
  {
   "cell_type": "code",
   "execution_count": 5,
   "metadata": {
    "collapsed": true,
    "deletable": true,
    "editable": true,
    "slideshow": {
     "slide_type": "skip"
    }
   },
   "outputs": [],
   "source": [
    "# Slides for Probability and Statistics module, 2016-2017\n",
    "# Matt Watkins, University of Lincoln"
   ]
  },
  {
   "cell_type": "code",
   "execution_count": 9,
   "metadata": {
    "collapsed": true,
    "deletable": true,
    "editable": true,
    "slideshow": {
     "slide_type": "skip"
    }
   },
   "outputs": [],
   "source": [
    "import numpy as np\n",
    "import scipy.stats as stats\n",
    "import matplotlib.pyplot as plt\n",
    "%matplotlib inline"
   ]
  },
  {
   "cell_type": "markdown",
   "metadata": {
    "deletable": true,
    "editable": true,
    "slideshow": {
     "slide_type": "slide"
    }
   },
   "source": [
    "# Confidence Intervals\n",
    "\n",
    "Learning objectives:\n",
    "\n",
    "<div style=\"background-color:Gold; margin-left: 20px; margin-right: 20px; padding-bottom: 8px; padding-left: 8px; padding-right: 8px; padding-top: 8px; border-radius: 25px;\">\n",
    "\n",
    "<ul>\n",
    "    <li> how to estimate the expected value of the sample mean\n",
    "    <ul>\n",
    "        <li>if the population variance is known - normal distribution</li>\n",
    "        <li> if the population variance is not known - t distribution</li>\n",
    "    </ul>\n",
    "    </li>\n",
    "    <li> how to estimate the expected value of the sample variance</li>\n",
    "    <li> understand the origin of the central limit theorem</li>\n",
    "</ul>\n",
    "</div>"
   ]
  },
  {
   "cell_type": "markdown",
   "metadata": {
    "collapsed": true,
    "deletable": true,
    "editable": true,
    "slideshow": {
     "slide_type": "slide"
    }
   },
   "source": [
    "## Statistical inference or estimation \n",
    "\n",
    "If we don't have all the information about a population we have to $\\textbf{estimate}$ population parameters from sample statistics. This is also referred to as $\\textbf{inference}$.\n",
    "\n",
    "Last week we talked a little about sampling - what happens if we make repeated measurements from a distribution."
   ]
  },
  {
   "cell_type": "markdown",
   "metadata": {
    "deletable": true,
    "editable": true,
    "slideshow": {
     "slide_type": "slide"
    }
   },
   "source": [
    "## Using confidence intervals\n",
    "\n",
    "there are two situations that commonly come up. We've taken a sample and"
   ]
  },
  {
   "cell_type": "markdown",
   "metadata": {
    "deletable": true,
    "editable": true,
    "slideshow": {
     "slide_type": "fragment"
    }
   },
   "source": [
    "- we want to estimate the mean, and we know the variance (this is pretty artificial really),\n"
   ]
  },
  {
   "cell_type": "markdown",
   "metadata": {
    "deletable": true,
    "editable": true,
    "slideshow": {
     "slide_type": "fragment"
    }
   },
   "source": [
    "- we want to estimate the mean, and we don't know the variance."
   ]
  },
  {
   "cell_type": "markdown",
   "metadata": {
    "deletable": true,
    "editable": true,
    "slideshow": {
     "slide_type": "slide"
    }
   },
   "source": [
    "### Estimating the mean when the variance is known\n",
    "\n",
    "If we take a samples in an independent trials process of size $n$ then we saw last week that the expectation of the sample mean, $\\bar{X}$, should be a good point estimator of the population mean, $\\mu$.\n",
    "\n",
    "$$\\text{E}(\\bar{X}) = \\mu$$\n",
    "\n",
    "The sample mean (random variable) should have a variance that is the population variance divided by the size of the sample.\n",
    "\n",
    "$$\\text{var}(\\bar{X}) = \\frac{\\sigma^2}{n}$$"
   ]
  },
  {
   "cell_type": "markdown",
   "metadata": {
    "deletable": true,
    "editable": true,
    "slideshow": {
     "slide_type": "subslide"
    }
   },
   "source": [
    "If we know nothing else then the best we could do would be to use Chebychev's inequality to provide some loose limits how accurate our estimate of the mean is.\n",
    "\n",
    "If  $n>30$ we can additionally use the Central Limit Theorem: $\\bar{X}$ should be normally distributed, with parameters $\\text{E}(\\bar{X}) = \\mu$, and $\\sigma^2/n$ the population variance divided by the sample size.\n",
    "\n",
    "\n",
    "#### Central limit Theorem\n",
    "\n",
    "Let $S_n = X_1 + X_2 + X_3 + \\ldots + X_n$ be the sum of $n$ independent continuous random variables with common probability density function $f$ with expectation $\\mu$ and variance $\\sigma^2$. Let $S_N^* = \\frac{(S_n - n \\mu)}{\\sigma \\sqrt{n}}$. Then we have, for all $a \\lt b$,\n",
    "\n",
    "$$\n",
    "\\lim_{n \\to \\infty} P(a \\lt S_n^* \\lt b) = \\frac{1}{\\sqrt{2 \\pi}} \\int_a^b e^{-\\frac{x^2}{2}} \\text{d}x\n",
    "$$\n",
    "\n",
    "applied to our case we expect the random variable $\\bar{X}$ is distributed normally with parameters $\\mu,\\sigma^2/n$.\n",
    "\n",
    "$$\n",
    "f_{\\bar{X}}(\\bar{x}) = n(\\mu,\\sigma^2/n) = \\frac{1}{(\\sigma/\\sqrt{n}) \\sqrt{2 \\pi}} \\exp\\Big\\{-\\frac{(\\bar{x} -\\mu)^2}{2(\\sigma^2/n)}\\Big\\}\n",
    "$$"
   ]
  },
  {
   "cell_type": "markdown",
   "metadata": {
    "deletable": true,
    "editable": true,
    "slideshow": {
     "slide_type": "fragment"
    }
   },
   "source": [
    "#### Standardise\n",
    "\n",
    "it is sometimes easier to work with the standard normal distribution: We define a new varaible by subtracting the mean and dividing by the standard deviation\n",
    "\n",
    "$$\n",
    "z = \\frac{\\bar{x} - \\mu}{\\sigma/\\sqrt{n}},\n",
    "$$\n",
    "\n",
    "where $\\bar{x}$ is the value of the sample mean obtained. \n",
    "\n",
    "This variable should have a standard normal distribution.\n",
    "\n",
    "$$\n",
    "f_Z(z) = \\frac{1}{\\sqrt{2 \\pi}} e^{-\\frac{z^2}{2}}\n",
    "$$"
   ]
  },
  {
   "cell_type": "markdown",
   "metadata": {
    "deletable": true,
    "editable": true,
    "slideshow": {
     "slide_type": "subslide"
    }
   },
   "source": [
    "#### Confidence limits: use quantiles to place limits on the value of $\\mu$\n",
    "\n",
    "The confidence interval is the the probability that our random sampling gives the interval that contains $\\mu$. \n",
    "\n",
    "$$\n",
    "P\\Bigg(-z_c \\cdot \\frac{\\sigma}{\\sqrt{n}} \\lt \\bar{x} - \\mu \\lt z_c \\cdot \\frac{\\sigma}{\\sqrt{n}} \\Bigg) = c\n",
    "$$\n",
    "\n",
    "This states that the probability is $c$ that our point estimate ($\\bar{x}$) is within a distance $\\pm z_c (\\frac{\\sigma}{\\sqrt{n}})$ of the population mean $\\mu$. We call this interval a $c$ confidence interval for $\\mu$.\n"
   ]
  },
  {
   "cell_type": "markdown",
   "metadata": {
    "deletable": true,
    "editable": true,
    "slideshow": {
     "slide_type": "subslide"
    }
   },
   "source": [
    "We can rearrange our interval \n",
    "\n",
    "$$\n",
    "P\\Bigg(-z_c \\cdot \\frac{\\sigma}{\\sqrt{n}} \\lt \\bar{x} - \\mu \\lt z_c \\cdot \\frac{\\sigma}{\\sqrt{n}} \\Bigg) = c\n",
    "$$\n",
    "\n",
    "to give\n",
    "\n",
    "$$\n",
    "P\\Bigg(-z_c \\lt \\frac{\\bar{x} - \\mu}{\\sigma/\\sqrt{n}} \\lt z_c\\Bigg) = c\n",
    "$$\n",
    "\n",
    "which gives us a $c \\cdot 100 \\%$ confidence limit for $\\mu$. We can find it using quantiles of the standard normal distribution.\n",
    "\n",
    "$z_c$ is the value of the $\\textbf{cumulative distribution function}$ of the standard normal distribution ($N$) which contains $c$ of the probability density, so\n",
    "\n",
    "$$\n",
    "N(z_c) - N(-z_c) = c\n",
    "$$\n",
    "\n",
    "For the standard normal distribution, we can note that $N(-x) = 1 - N(x)$"
   ]
  },
  {
   "cell_type": "code",
   "execution_count": 5,
   "metadata": {
    "collapsed": false,
    "deletable": true,
    "editable": true,
    "slideshow": {
     "slide_type": "fragment"
    }
   },
   "outputs": [
    {
     "data": {
      "image/png": "[encoded data removed]",
      "text/plain": [
       "<matplotlib.figure.Figure at 0x7f161e96ca58>"
      ]
     },
     "metadata": {},
     "output_type": "display_data"
    }
   ],
   "source": [
    "mu = 0 # mean \n",
    "sigma = 1 # standard deviation\n",
    "\n",
    "# fancy code to set x limits\n",
    "x = np.linspace(int(stats.norm.ppf(0.001)),\n",
    "                int(stats.norm.ppf(0.999)),\n",
    "                (int(stats.norm.ppf(0.999) - int(stats.norm.ppf(0.001))))*10+1)\n",
    "\n",
    "# plot pdf\n",
    "plt.plot(x, stats.norm.pdf(x,loc = mu, scale = sigma), 'k-', label='normal pdf');\n",
    "\n",
    "# colour in the area below -zc and above zc\n",
    "section = np.arange(stats.norm.ppf(0.975), stats.norm.ppf(0.999), 0.1)\n",
    "plt.fill_between(section,stats.norm.pdf(section), color='r');\n",
    "plt.fill_between(-section,stats.norm.pdf(section), color='r');\n",
    "\n",
    "# colour in the area between -zc and zc\n",
    "section = np.arange(stats.norm.ppf(0.025), stats.norm.ppf(0.975), 0.1)\n",
    "plt.fill_between(section,stats.norm.pdf(section), color='b');"
   ]
  },
  {
   "cell_type": "markdown",
   "metadata": {
    "deletable": true,
    "editable": true,
    "slideshow": {
     "slide_type": "slide"
    }
   },
   "source": [
    "The blue area is contains has area $c$. The borders between red and blue occur at $\\pm z_c$. In this particular case $c = 0.95$\n",
    "\n",
    "Because $N(z_c) - N(-z_c) = c$ and $N(-x) = 1 - N(x)$ we can find the value of $z_c$ from the inverse of the cumulative distribution function, using tables or computer.\n"
   ]
  },
  {
   "cell_type": "markdown",
   "metadata": {
    "deletable": true,
    "editable": true,
    "slideshow": {
     "slide_type": "subslide"
    }
   },
   "source": [
    "### Critical values\n",
    "\n",
    "The critical values can be obtained from the  ppf (percentage point function) of the python scipy.stats library, or tables"
   ]
  },
  {
   "cell_type": "code",
   "execution_count": 11,
   "metadata": {
    "collapsed": false,
    "deletable": true,
    "editable": true,
    "slideshow": {
     "slide_type": "fragment"
    }
   },
   "outputs": [
    {
     "name": "stdout",
     "output_type": "stream",
     "text": [
      "critical value for 70% confidence 1.04\n",
      "critical value for 80% confidence 1.28\n",
      "critical value for 90% confidence 1.64\n",
      "critical value for 95% confidence 1.96\n",
      "critical value for 99% confidence 2.58\n"
     ]
    }
   ],
   "source": [
    "for conflevel in [70,80,90,95,99]:\n",
    "    ppt = 1 -(100 - conflevel)/200\n",
    "    print(\"critical value for {}% confidence {:.3}\".format(conflevel,stats.norm.ppf(ppt)))"
   ]
  },
  {
   "cell_type": "markdown",
   "metadata": {
    "deletable": true,
    "editable": true,
    "slideshow": {
     "slide_type": "subslide"
    }
   },
   "source": [
    "#### Random interval\n",
    "\n",
    "Note that in classical statistics $\\bar{X}$ is the random variable and $\\mu$ is assumed to be well defined. \n",
    "\n",
    "Every time we were to take a different sample we would get a different confidence interval - however, the law of large numbers would say that in the long run the proportion of confidence intervals that contained $\\mu$ would be $c$. \n"
   ]
  },
  {
   "cell_type": "markdown",
   "metadata": {
    "deletable": true,
    "editable": true,
    "slideshow": {
     "slide_type": "subslide"
    }
   },
   "source": [
    "#### Example \n",
    "\n",
    "Suppose we wish to estimate the average wait for a webpage to load. We think that the wait times are normally distributed with variance of $\\sigma^2 = 4$ seconds. If we take a sample of size 9, and obtain a particular value of the sample mean as 5 seconds, what is a 95% confidence interval for the load times.\n",
    "\n",
    "---"
   ]
  },
  {
   "cell_type": "markdown",
   "metadata": {
    "deletable": true,
    "editable": true,
    "slideshow": {
     "slide_type": "fragment"
    }
   },
   "source": [
    "#### Solution  \n",
    "\n",
    "We need the critical value for a symmetric 95% confidence interval of a standard normal distibution. We can find $z_c = 1.96$.  \n",
    "\n",
    "```\n",
    "stats.norm.ppf(0.975)\n",
    "1.959963984540054\n",
    "```\n",
    "\n",
    "We use 0.975, because that means that 2.5% of the probability is above that value, there will be another 2.5% at the bottom, so 95% in the central region.\n",
    "\n",
    "A 95 percent interval for the unknown mean based on a sample size of size $n$ is between $\\bar{x} - 1.96\\frac{\\sigma}{\\sqrt{n}}$ and $\\bar{x} + 1.96\\frac{\\sigma}{\\sqrt{n}}$.  \n",
    "\n",
    "Or in our case\n",
    "\n",
    "$[5 - \\frac{1.96 \\times 2}{3},5 + \\frac{1.96 \\times 2}{3}] = [3.69,6.31]$\n",
    "\n",
    "The length of the interval is $3.92\\sqrt{\\frac{4}{9}} = 2.61$. "
   ]
  },
  {
   "cell_type": "markdown",
   "metadata": {
    "deletable": true,
    "editable": true,
    "slideshow": {
     "slide_type": "subslide"
    }
   },
   "source": [
    "#### Example - estimating sample size required\n",
    "\n",
    "Suppose we wish to estimate the average wait for a webpage to load, so that we can assert with 95% confidence that the estimated value is within 0.5 seconds of the true value. \n",
    "\n",
    "We think that the wait times are normally distributed with variance of $\\sigma^2 = 2.25$ seconds - how large a random sample is needed?\n",
    "\n",
    "---"
   ]
  },
  {
   "cell_type": "markdown",
   "metadata": {
    "deletable": true,
    "editable": true,
    "slideshow": {
     "slide_type": "fragment"
    }
   },
   "source": [
    "#### Solution  \n",
    "\n",
    "We need the critical value for a symmetric 95% confidence interval of a standard normal distibution. We can find $z_c = 1.96$.  \n",
    "\n",
    "A 95 percent interval for the unknown mean based on a sample size of size $n$ is between $\\bar{x} - 1.96\\frac{\\sigma}{\\sqrt{n}}$ and $\\bar{x} + 1.96\\frac{\\sigma}{\\sqrt{n}}$.  \n",
    "\n",
    "The length of the interval is $3.92\\sqrt{\\frac{2.25}{n}}$. This interval should be equal to $0.5$ $\\implies n = 138.298$. We cannot do a fractional number of experiments, so we should perform $n = 139$, going on the safe side."
   ]
  },
  {
   "cell_type": "markdown",
   "metadata": {
    "deletable": true,
    "editable": true,
    "slideshow": {
     "slide_type": "slide"
    }
   },
   "source": [
    "# Estimating the mean when the variance is *not* known\n",
    "\n",
    "If we take a samples in an independent trials process of size $n$ then we saw last week that the expectation of the sample mean, $\\bar{X}$, should be a good point estimator of the population mean, $\\mu$.\n",
    "\n",
    "$$\\text{E}(\\bar{X}) = \\mu$$\n",
    "\n",
    "\n",
    "If we are interested in the sample mean (random variable) then it should have a variance that is the population variance divided by the size of the sample. \n",
    "\n",
    "$$\\text{var}(\\bar{X}) = \\frac{\\sigma^2}{n}$$\n",
    "\n",
    "As we don't know the variance *a priori* we replace population variance with the sample variance - we showed that this was an unbiased estimator for the population variance last week.\n",
    "\n",
    "$$\n",
    "\\text{E}[S^2] =\\sigma^2\n",
    "$$\n",
    "\n",
    "But the sample variance is a random variable too. So we are now not dealing with a sum of i.i.d random variables like in the case when the variance was assumed known. Instead have something coming about from the quotient of two random variables.\n"
   ]
  },
  {
   "cell_type": "markdown",
   "metadata": {
    "deletable": true,
    "editable": true,
    "slideshow": {
     "slide_type": "subslide"
    }
   },
   "source": [
    "We define a new random variable as\n",
    "\n",
    "$$\n",
    "\\frac{\\bar{x} - \\mu}{\\sqrt{S^2}}\n",
    "$$\n",
    "\n",
    "where $S^2$ is the sample variance\n",
    "\n",
    "$$\n",
    "S^2 = \\sum_{i=1}^n \\frac{ (X_i - \\bar{X})^2}{n-1}\n",
    "$$\n",
    "\n",
    "Intuitively we might expect $S^2$ to be distributed a bit like the square of a normal distribution as we expect the values of $X$ to be normally distributed around the sample mean (for large samples). \n",
    "\n",
    "This is more or less the case (called a $\\chi^2$ distribution).\n",
    "\n"
   ]
  },
  {
   "cell_type": "markdown",
   "metadata": {
    "deletable": true,
    "editable": true,
    "slideshow": {
     "slide_type": "subslide"
    }
   },
   "source": [
    "### Sampling distribution of the variance - $\\chi^2$ distribution\n",
    "\n",
    "In general the distribution of the sample variance is quite complicated. \n",
    "\n",
    "$\\textbf{If all the samples come from a normal distribution}$, then the sample statisic $\\frac{n-1}{\\sigma^2}S^2$ can be shown to have a $\\chi^2$ distribution. \n",
    "\n",
    "It has a single parameter, often referred to as the number of degrees of freedom, $\\nu$. The number of degrees of freedom will be $n-1$.\n",
    "\n",
    "So\n",
    "\n",
    "$$\n",
    "\\frac{n-1}{\\sigma^2}S^2 \\sim \\chi^2(n-1)\n",
    "$$\n"
   ]
  },
  {
   "cell_type": "markdown",
   "metadata": {
    "deletable": true,
    "editable": true,
    "slideshow": {
     "slide_type": "subslide"
    }
   },
   "source": [
    "### $\\chi^2$ distribution\n",
    "\n",
    "You will mainly come across $\\chi^2$ in this case and in the analysis of errors (they also have the sum of squared terms). \n",
    "\n",
    "Some properties of the $\\chi^2$ family are\n",
    "\n",
    "- If a random variable $Y \\sim N(0,1)$ then $Y^2 \\sim \\chi^2(1)$\n",
    "- If $X_1$ and $X_2$ are independent and distributed $\\chi^2(\\nu_1)$ and $\\chi^2(\\nu_2)$ respectively, then $X_1 + X_2 \\sim \\chi^2(\\nu_1 + \\nu_2)$\n",
    "- If $X \\sim \\chi^2(\\nu)$ then $\\text{E[$X$]}= \\nu$ and $\\text{var}(X)= 2 \\nu$"
   ]
  },
  {
   "cell_type": "markdown",
   "metadata": {
    "deletable": true,
    "editable": true,
    "slideshow": {
     "slide_type": "subslide"
    }
   },
   "source": [
    "#### Technical aside\n",
    "\n",
    "We can get an idea where the distribution arises from by considering\n",
    "\n",
    "$$\n",
    "\\begin{align}\n",
    "\\frac{n-1}{\\sigma^2}S^2 & = \\frac{n-1}{\\sigma^2} \\sum_{i=1}^n \\frac{ (X_i - \\bar{X})^2}{n-1} \\\\\n",
    "                        & = \\frac{1}{\\sigma^2} \\sum_{i=1}^n (X_i - \\bar{X})^2\n",
    "\\end{align}\n",
    "$$\n",
    "\n",
    "now $\\sum_{i=1}^n (X_i - \\bar{X})^2$ can be rewritten as \n",
    "\n",
    "$$\n",
    "\\frac{1}{\\sigma^2} \\sum_{i=1}^{n} (X_i - \\bar{X})^2 = \\frac{1}{\\sigma^2} \\sum_{i=1}^{n} (X_i - \\mu)^2 - n \\frac{1}{\\sigma^2} (\\bar{X} - \\mu)^2\n",
    "$$\n",
    "\n",
    "or, rearranging\n",
    "\n",
    "$$\n",
    "\\begin{align}\n",
    "\\frac{1}{\\sigma^2} \\sum_{i=1}^{n} (X_i - \\mu)^2  & =  \\frac{1}{\\sigma^2} \\sum_{i=1}^{n} (X_i - \\bar{X})^2 + n \\frac{1}{\\sigma^2}(\\bar{X} - \\mu)^2 \\\\\n",
    "\\implies  \\sum_{i=1}^{n} \\Big(\\frac{X_i - \\mu} {\\sigma} \\Big)^2 &  =  \\frac{1}{\\sigma^2} \\sum_{i=1}^{n} (X_i - \\bar{X})^2 + n \\Big( \\frac{\\bar{X} - \\mu}{\\sigma}\\Big)^2\n",
    "\\end{align}\n",
    "$$\n",
    "\n",
    "the thing on the left hand side is the sum of the square $n$ independent random variables distributed as $N(0,1)$ - it follows that the lhs is distributed as $\\chi^2(n)$. \n",
    "\n",
    "The last term on the right hand side is distributed $\\chi^2(1)$. \n",
    "\n",
    "From the second property we gave of the $\\chi^2$ distribution ($X_1$ and $X_2$ are independent and distributed $\\chi^2(\\nu_1)$ and $\\chi^2(\\nu_2)$ respectively, then $X_1 + X_2 \\sim \\chi^2(\\nu_1 + \\nu_2)$) we can argue that it is reasonable that $\\frac{1}{\\sigma^2} \\sum_{i=1}^{n} (X_i - \\bar{X})^2$ is $\\chi^2(n-1)$. \n",
    "\n",
    "But a full proof is quite involved."
   ]
  },
  {
   "cell_type": "markdown",
   "metadata": {
    "deletable": true,
    "editable": true,
    "slideshow": {
     "slide_type": "slide"
    }
   },
   "source": [
    "**example**\n",
    "\n",
    "We can check that our data on your heights fits this distribution."
   ]
  },
  {
   "cell_type": "code",
   "execution_count": 6,
   "metadata": {
    "collapsed": false,
    "deletable": true,
    "editable": true,
    "slideshow": {
     "slide_type": "subslide"
    }
   },
   "outputs": [
    {
     "name": "stdout",
     "output_type": "stream",
     "text": [
      "Population size = 25,\n",
      "Population mean = 175.4,\n",
      "Population variance = 79.04\n"
     ]
    }
   ],
   "source": [
    "heights = np.array([174, 179, 171, 178, 190, \n",
    "                    182, 168, 163, 168, 168, 182, 185,\n",
    "                    175, 175, 183, 182, 168, 159, 154, 179,\n",
    "                   180, 190, 182, 170, 180])\n",
    "\n",
    "population_size = len(heights)\n",
    "print(\"Population size = {},\\nPopulation mean = {:.5},\\nPopulation variance = {:.5}\".format(\n",
    "        population_size, np.mean(heights), np.var(heights)))"
   ]
  },
  {
   "cell_type": "code",
   "execution_count": 7,
   "metadata": {
    "collapsed": true,
    "deletable": true,
    "editable": true,
    "slideshow": {
     "slide_type": "fragment"
    }
   },
   "outputs": [],
   "source": [
    "def sample_var(sample_size):\n",
    "    sample_items = []\n",
    "    for i in np.random.randint(0,population_size,sample_size):\n",
    "        sample_items.append(heights[i])\n",
    "    return np.var(sample_items)*sample_size/(sample_size-1)"
   ]
  },
  {
   "cell_type": "code",
   "execution_count": 8,
   "metadata": {
    "collapsed": false,
    "deletable": true,
    "editable": true,
    "slideshow": {
     "slide_type": "fragment"
    }
   },
   "outputs": [
    {
     "name": "stdout",
     "output_type": "stream",
     "text": [
      "Sample var = 79.339\n",
      "\n"
     ]
    },
    {
     "data": {
      "image/png": "[encoded data removed]",
      "text/plain": [
       "<matplotlib.figure.Figure at 0x7f1cf3e17ba8>"
      ]
     },
     "metadata": {},
     "output_type": "display_data"
    }
   ],
   "source": [
    "sample_size = 9\n",
    "number_of_samples = 20000\n",
    "my_sample_var = []\n",
    "\n",
    "for my_sample in range(1,number_of_samples+1):\n",
    "    my_sample_var.append(sample_var(sample_size))\n",
    "        \n",
    "print(\"Sample var = {:.5}\\n\".format(\n",
    "        np.mean(my_sample_var)))\n",
    "prefactor = (sample_size-1)/np.var(heights)\n",
    "scaled = prefactor*np.array(my_sample_var)\n",
    "bins = np.arange(0,stats.chi2.ppf(0.999, sample_size -1)+1, stats.chi2.ppf(0.999, sample_size -1)/15)\n",
    "\n",
    "fig, ax = plt.subplots(2, 1)\n",
    "ax[0].hist(scaled,bins=bins);\n",
    "x = np.arange(0,stats.chi2.ppf(0.999, sample_size -1)+1,0.1)\n",
    "ax[1].plot(x, stats.chi2.pdf(x, sample_size-1), '-', ms=4, label='t, n-1 = 3');"
   ]
  },
  {
   "cell_type": "markdown",
   "metadata": {
    "deletable": true,
    "editable": true,
    "slideshow": {
     "slide_type": "subslide"
    }
   },
   "source": [
    "## t distribution\n",
    "\n",
    "The random variable that is the quotient of the random variable $\\bar{X}$, which is approximately normally distributed and the random variable $S^2$ has a distribution from a family referred to as Student's t Distribution.  \n",
    "\n",
    "$$\n",
    "\\frac{\\bar{x} - \\mu}{\\sqrt{S^2}} \\sim \\text{Student's t distribution with parameter }\\nu = n-1 \n",
    "$$\n",
    "\n",
    "the t distribution looks a lot like a normal distribution:"
   ]
  },
  {
   "cell_type": "code",
   "execution_count": 15,
   "metadata": {
    "collapsed": false,
    "deletable": true,
    "editable": true,
    "slideshow": {
     "slide_type": "fragment"
    }
   },
   "outputs": [
    {
     "data": {
      "image/png": "[encoded data removed]",
      "text/plain": [
       "<matplotlib.figure.Figure at 0x7f55d6c92be0>"
      ]
     },
     "metadata": {},
     "output_type": "display_data"
    }
   ],
   "source": [
    "fig, ax = plt.subplots(1, 1)\n",
    "\n",
    "x = np.arange(stats.t.ppf(0.001, 50)-1,stats.t.ppf(0.999, 50)+1,0.1)\n",
    "\n",
    "ax.plot(x, stats.t.pdf(x, 3), '-', ms=4, label='t, n-1 = 3');\n",
    "ax.plot(x, stats.t.pdf(x, 5), '-', ms=4, label='t, n-1 = 5');\n",
    "ax.plot(x, stats.t.pdf(x, 20), '-', ms=4, label='t, n-1 = 25');\n",
    "ax.plot(x, stats.t.pdf(x, 50), '-', ms=4, label='t, n-1 = 100');\n",
    "ax.plot(x, stats.norm.pdf(x), '-+', ms=4, label='normal');\n",
    "\n",
    "ax.legend();"
   ]
  },
  {
   "cell_type": "markdown",
   "metadata": {
    "deletable": true,
    "editable": true,
    "slideshow": {
     "slide_type": "fragment"
    }
   },
   "source": [
    "it is symmetric about the y-axis, bell shaped, but a bit squished. When the parameter (Degrees of Freedom it is often called) is  greater than about 8 it is hard to tell the t-distribution from the normal distribution."
   ]
  },
  {
   "cell_type": "markdown",
   "metadata": {
    "deletable": true,
    "editable": true,
    "slideshow": {
     "slide_type": "fragment"
    }
   },
   "source": [
    "If we want to establish confidence intervals for the mean when the variance is unknown we use the same logic as for the case with known variance, but we use the t distributions instead.\n",
    "\n",
    "$$\n",
    "P\\Bigg(-t_c(\\nu) \\frac{\\sigma}{\\sqrt{n}} \\lt \\bar{x} - \\mu \\lt t_c(\\nu) \\frac{\\sigma}{\\sqrt{n}} \\Bigg) = c\n",
    "$$"
   ]
  },
  {
   "cell_type": "markdown",
   "metadata": {
    "deletable": true,
    "editable": true,
    "slideshow": {
     "slide_type": "subslide"
    }
   },
   "source": [
    "#### Example\n",
    "\n",
    "We have a sample of size 10 from a distribution that we think is at least normal to a reasonable approximation. \n",
    "\n",
    "If the sample mean is 10 and the sample variance 3, what is a 90% confidence interval for the population mean."
   ]
  }
 ],
 "metadata": {
  "celltoolbar": "Slideshow",
  "kernelspec": {
   "display_name": "Python [default]",
   "language": "python",
   "name": "python3"
  },
  "language_info": {
   "codemirror_mode": {
    "name": "ipython",
    "version": 3
   },
   "file_extension": ".py",
   "mimetype": "text/x-python",
   "name": "python",
   "nbconvert_exporter": "python",
   "pygments_lexer": "ipython3",
   "version": "3.5.3"
  }
 },
 "nbformat": 4,
 "nbformat_minor": 0
}
