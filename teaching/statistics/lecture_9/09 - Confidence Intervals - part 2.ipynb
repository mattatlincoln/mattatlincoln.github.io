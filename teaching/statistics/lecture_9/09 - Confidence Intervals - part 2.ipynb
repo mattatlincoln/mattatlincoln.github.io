{
 "cells": [
  {
   "cell_type": "code",
   "execution_count": 8,
   "metadata": {
    "collapsed": true,
    "deletable": true,
    "editable": true,
    "slideshow": {
     "slide_type": "skip"
    }
   },
   "outputs": [],
   "source": [
    "# Slides for Probability and Statistics module, 2016-2017\n",
    "# Matt Watkins, University of Lincoln"
   ]
  },
  {
   "cell_type": "markdown",
   "metadata": {
    "slideshow": {
     "slide_type": "slide"
    }
   },
   "source": [
    "#### Example\n",
    "\n",
    "We have a sample of size 10 from a distribution that we think is at least normal to a reasonable approximation. \n",
    "\n",
    "If the sample mean is 10 and the sample variance 3, what is a 90% confidence interval for the population mean."
   ]
  },
  {
   "cell_type": "markdown",
   "metadata": {
    "slideshow": {
     "slide_type": "fragment"
    }
   },
   "source": [
    "#### Solution  \n",
    "\n",
    "We need the critical value for a symmetric 90% confidence interval of a $t(9)$ distribution. We can find $t_{0.90} (9) = 1.833$.  \n",
    "\n",
    "```\n",
    "print(stats.t.ppf(0.95,9))\n",
    "1.83311293265\n",
    "```\n",
    "A 90 percent interval for the unknown mean based on a sample of size $n$ is between \n",
    "$\\bar{x} - 1.833\\frac{S}{\\sqrt{n}}$ and $\\bar{x} + 1.8333\\frac{S}{\\sqrt{n}}$ so\n",
    "$$\n",
    "= 10 - 1.8333\\times 3/\\sqrt(10) \\lt \\mu \\lt 10 + 1.8333\\times 3/\\sqrt(10) \\\\\n",
    "= 8.26 \\lt \\mu \\lt 11.74\n",
    "$$.  "
   ]
  },
  {
   "cell_type": "markdown",
   "metadata": {
    "deletable": true,
    "editable": true,
    "slideshow": {
     "slide_type": "slide"
    }
   },
   "source": [
    "## Distribution of samples\n",
    "\n",
    "We've talked about the overal properties of samples, in terms of the statistics $\\bar{X}$ and $S$.\n",
    "\n",
    "The second main theorem of probability theory is the 'central limit theorem'. This can be stated in various ways, but we'll follow Snell and go with\n",
    "\n",
    "#### Central limit Theorem\n",
    "\n",
    "Let $S_n = X_1 + X_2 + X_3 + \\ldots + X_n$ be the sum of $n$ independent continuous random variables with common probability density function $f$ with expectation $mu$ and variance $\\sigma^2$. Let $S_N^* = \\frac{(S_n - n \\mu)}{\\sigma \\sqrt{n}}$. Then we have, for all $a \\lt b$,\n",
    "\n",
    "$$\n",
    "\\lim_{n \\to \\infty} P(a \\lt S_n^* \\lt b) = \\frac{1}{\\sqrt{2 \\pi}} \\int_a^b e^{-\\frac{x^2}{2}} \\text{d}x\n",
    "$$"
   ]
  },
  {
   "cell_type": "markdown",
   "metadata": {
    "deletable": true,
    "editable": true,
    "slideshow": {
     "slide_type": "slide"
    }
   },
   "source": [
    "## Bernoulli trials\n",
    "\n",
    "let's consider a case when we have a set of independent trials with probability of success $p$ for each trial.\n",
    "\n",
    "We let the sequence of random variables $X_i = 1$ or $0$ according as the $i^{th}$ outcome is a success of failure, and define another random variable as their sum $S_n = X_1 + X_2 + \\ldots X_n$\n",
    "\n",
    "Then $S_n$ is the number of successes in $n$ independent trials - this is exactly the setup for a binomial distribution: $S_n$ will be binomially distributed with $n=n$, $p = p$.\n",
    "\n",
    "What happens as we increase $n$?"
   ]
  },
  {
   "cell_type": "code",
   "execution_count": 1,
   "metadata": {
    "collapsed": false,
    "deletable": true,
    "editable": true,
    "slideshow": {
     "slide_type": "subslide"
    }
   },
   "outputs": [
    {
     "data": {
      "image/png": "[encoded data removed]",
      "text/plain": [
       "<matplotlib.figure.Figure at 0x7f08208b0358>"
      ]
     },
     "metadata": {},
     "output_type": "display_data"
    }
   ],
   "source": [
    "import numpy as np\n",
    "import scipy.stats as stats\n",
    "import matplotlib.pyplot as plt\n",
    "%matplotlib inline\n",
    "fig, ax = plt.subplots(1, 1)\n",
    "\n",
    "x = np.arange(0,stats.binom.ppf(0.999, 100, 0.5))\n",
    "\n",
    "n, p = 10, 0.5\n",
    "\n",
    "ax.plot(x, stats.binom.pmf(x, n, p), 'bo', ms=4, label='binom pmf, n = 10');\n",
    "ax.vlines(x, 0, stats.binom.pmf(x, n, p), colors='b', lw=2, alpha=0.5);\n",
    "\n",
    "n, p = 25, 0.5\n",
    "\n",
    "ax.plot(x, stats.binom.pmf(x, n, p), 'go', ms=4, label='binom pmf, n = 25');\n",
    "ax.vlines(x, 0, stats.binom.pmf(x, n, p), colors='g', lw=2, alpha=0.5);\n",
    "\n",
    "n, p = 50, 0.5\n",
    "\n",
    "ax.plot(x, stats.binom.pmf(x, n, p), 'ro', ms=4, label='binom pmf, n = 50');\n",
    "ax.vlines(x, 0, stats.binom.pmf(x, n, p), colors='r', lw=2, alpha=0.5);\n",
    "\n",
    "n, p = 100, 0.5\n",
    "\n",
    "ax.plot(x, stats.binom.pmf(x, n, p), 'bo', ms=4, label='binom pmf, n = 100');\n",
    "ax.vlines(x, 0, stats.binom.pmf(x, n, p), colors='b', lw=2, alpha=0.5);\n",
    "\n",
    "ax.legend();"
   ]
  },
  {
   "cell_type": "markdown",
   "metadata": {
    "deletable": true,
    "editable": true,
    "slideshow": {
     "slide_type": "fragment"
    }
   },
   "source": [
    "The expectation value of a binomial distribution is $np$ - they move to the right as $n$ increases \n",
    "\n",
    "They flatten out - $\\sigma^2 = np(1-p)$, and the sum of the probability mass function must be one.\n",
    "\n",
    "We standardize our plots by taking a new random variable $S^*_n$ given by\n",
    "\n",
    "$$\n",
    "S^*_n = \\frac{S_n - np}{\\sqrt{np(1-p)}}\n",
    "$$"
   ]
  },
  {
   "cell_type": "markdown",
   "metadata": {
    "deletable": true,
    "editable": true,
    "slideshow": {
     "slide_type": "slide"
    }
   },
   "source": [
    "### Standardized\n",
    "\n",
    "lets try plotting $S^*_n$ against a standard normal distribution"
   ]
  },
  {
   "cell_type": "code",
   "execution_count": 3,
   "metadata": {
    "collapsed": false,
    "deletable": true,
    "editable": true,
    "slideshow": {
     "slide_type": "subslide"
    }
   },
   "outputs": [
    {
     "data": {
      "image/png": "[encoded data removed]",
      "text/plain": [
       "<matplotlib.figure.Figure at 0x7fc890e1c748>"
      ]
     },
     "metadata": {},
     "output_type": "display_data"
    }
   ],
   "source": [
    "fig, ax = plt.subplots(1, 1)\n",
    "\n",
    "n, p = 50, 0.5\n",
    "\n",
    "x = np.arange(-10,50)\n",
    "xs = (x - n*p)/np.sqrt(n*p*(1-p))\n",
    "\n",
    "xcont = np.linspace(-10,10)\n",
    "\n",
    "\n",
    "ax.plot(xs, stats.binom.pmf(x, n, p), 'bo', ms=4, label='binom pmf');\n",
    "ax.vlines(xs, 0, stats.binom.pmf(x, n, p), colors='b', lw=2, alpha=0.5);\n",
    "\n",
    "ax.plot(xcont, stats.norm.pdf(xcont), 'r-', label='normal pdf');\n",
    "ax.legend();"
   ]
  },
  {
   "cell_type": "markdown",
   "metadata": {
    "deletable": true,
    "editable": true,
    "slideshow": {
     "slide_type": "subslide"
    }
   },
   "source": [
    "OK the shape looks good, but the heights are clearly off. The heights of the spikes sum to one - as $n$ gets big we can take this to approximate an integral of the area under a curve drawn through the points. \n",
    "\n",
    "This would work for the original $S_n$ as the widths of the small areas would be 1. Here the widths of the small areas are $$ w = \\frac{1}{\\sqrt{np(1-p)}}= \\frac{1}{\\sqrt{npq}}$$\n",
    "\n",
    "we've defined $q = 1-p$ for convenience.\n",
    "\n",
    "So we can multiply by $\\frac{1}{w}$ to get heights comparable to the normal distribution."
   ]
  },
  {
   "cell_type": "code",
   "execution_count": 4,
   "metadata": {
    "collapsed": false,
    "deletable": true,
    "editable": true,
    "slideshow": {
     "slide_type": "subslide"
    }
   },
   "outputs": [
    {
     "data": {
      "image/png": "[encoded data removed]",
      "text/plain": [
       "<matplotlib.figure.Figure at 0x7fc855fc7710>"
      ]
     },
     "metadata": {},
     "output_type": "display_data"
    }
   ],
   "source": [
    "fig, ax = plt.subplots(1, 1)\n",
    "\n",
    "n, p = 50, 0.5\n",
    "\n",
    "x = np.arange(-10,50)\n",
    "\n",
    "# scale to a standard variable\n",
    "xs = (x - n*p)/np.sqrt(n*p*(1-p))\n",
    "\n",
    "# use a finer mesh for the continous function\n",
    "xcont = np.linspace(-10,10)\n",
    "\n",
    "ax.plot(xs, stats.binom.pmf(x, n, p)*np.sqrt(n*p*(1-p)), 'bo', ms=4, label='binom pmf');\n",
    "ax.vlines(xs, 0, stats.binom.pmf(x, n, p)*np.sqrt(n*p*(1-p)), colors='b', lw=2, alpha=0.5);\n",
    "\n",
    "ax.plot(xcont, stats.norm.pdf(xcont), 'r-', label='normal pdf');\n",
    "ax.legend();"
   ]
  },
  {
   "cell_type": "markdown",
   "metadata": {
    "deletable": true,
    "editable": true,
    "slideshow": {
     "slide_type": "fragment"
    }
   },
   "source": [
    "pretty good fit! Note that this is for a symmetric distribtution ($p = 0.5$) for other distributions $n$ needs to be moderately large to get a very good fit"
   ]
  },
  {
   "cell_type": "code",
   "execution_count": 5,
   "metadata": {
    "collapsed": false,
    "deletable": true,
    "editable": true,
    "slideshow": {
     "slide_type": "subslide"
    }
   },
   "outputs": [
    {
     "data": {
      "image/png": "[encoded data removed]",
      "text/plain": [
       "<matplotlib.figure.Figure at 0x7fc8560b11d0>"
      ]
     },
     "metadata": {},
     "output_type": "display_data"
    }
   ],
   "source": [
    "# have two plots this time\n",
    "fig, ax = plt.subplots(2, 1)\n",
    "\n",
    "n, p = 30, 0.1\n",
    "\n",
    "x = np.arange(-6,10)\n",
    "\n",
    "# scale to a standard variable\n",
    "xs = (x - n*p)/np.sqrt(n*p*(1-p))\n",
    "\n",
    "# use a finer mesh for continuous functions\n",
    "xcont = np.linspace(-5,5)\n",
    "\n",
    "ax[0].plot(xs, stats.binom.pmf(x, n, p)*np.sqrt(n*p*(1-p)), 'bo', ms=4, label='binom pmf');\n",
    "ax[0].vlines(xs, 0, stats.binom.pmf(x, n, p)*np.sqrt(n*p*(1-p)), colors='b', lw=2, alpha=0.5);\n",
    "\n",
    "ax[0].plot(xcont, stats.norm.pdf(xcont), 'r-', label='normal pdf');\n",
    "ax[0].set_title(\"asymmetric, p = 0.1\");\n",
    "\n",
    "n, p = 30, 0.5\n",
    "\n",
    "x = np.arange(0,30)\n",
    "xs = (x - n*p)/np.sqrt(n*p*(1-p))\n",
    "\n",
    "ax[1].plot(xs, stats.binom.pmf(x, n, p)*np.sqrt(n*p*(1-p)), 'bo', ms=4, label='binom pmf');\n",
    "ax[1].vlines(xs, 0, stats.binom.pmf(x, n, p)*np.sqrt(n*p*(1-p)), colors='b', lw=2, alpha=0.5);\n",
    "\n",
    "ax[1].plot(xcont, stats.norm.pdf(xcont), 'r-', label='normal pdf');\n",
    "ax[1].set_title(\"symmetric, p = 0.5\");\n",
    "\n",
    "fig.subplots_adjust(hspace=0.4)"
   ]
  },
  {
   "cell_type": "markdown",
   "metadata": {
    "deletable": true,
    "editable": true,
    "slideshow": {
     "slide_type": "slide"
    }
   },
   "source": [
    "This suggests that we can approximate a binomial distribution by a normal one, if $n$ is large enough.\n",
    "\n",
    "What we have done is to say that if we consider some point on the x-axis, $x$, then the nearest spike to it on the binomial distribution would be j, where  $<>$ is the integer closest to the value within the $<>$.   \n",
    "\n",
    "Then we have\n",
    "\n",
    "$$\n",
    "\\lim_{n \\to \\infty} \\sqrt{npq} \\cdot \\text{binom}(<np+x\\sqrt{npq}>, n, p) = n(x)\n",
    "$$\n",
    "\n",
    "this is a version of the central limit theorem specialised to the Binomial distribution."
   ]
  },
  {
   "cell_type": "markdown",
   "metadata": {
    "deletable": true,
    "editable": true,
    "slideshow": {
     "slide_type": "subslide"
    }
   },
   "source": [
    "### Approximating Binomial distributions\n",
    "\n",
    "We can turn the last statement around: If we wish to approximate $b(n,p,j)$, we find the value of $x$ corresponding to $j$\n",
    "\n",
    "$$\n",
    "x = \\frac{j-np}{\\sqrt{npq}}\n",
    "$$\n",
    "\n",
    "Then our last expression shows that\n",
    "\n",
    "$$\n",
    "\\sqrt{npq} \\cdot \\text{binom}(j,n,p) \\approx n(x)\n",
    "$$\n",
    "\n",
    "so\n",
    "\n",
    "$$\n",
    "\\begin{align}\n",
    "\\text{binom}(j,n,p) & \\approx \\frac{n(x)}{\\sqrt{npq}}\\\\\n",
    "         & = \\frac{1}{\\sqrt{npq}} n \\Bigg( \\frac{j - np}{\\sqrt{npq}} \\Bigg)\n",
    "\\end{align}\n",
    "$$"
   ]
  },
  {
   "cell_type": "markdown",
   "metadata": {
    "deletable": true,
    "editable": true,
    "slideshow": {
     "slide_type": "subslide"
    }
   },
   "source": [
    "**example**\n",
    "\n",
    "Estimate the probability of getting exactly 55 heads in 100 tosses of a (fair) coin."
   ]
  },
  {
   "cell_type": "markdown",
   "metadata": {
    "deletable": true,
    "editable": true,
    "slideshow": {
     "slide_type": "fragment"
    }
   },
   "source": [
    "We can approximate the binomial distribution with a normal distribution here. $np = 100 \\cdot 0.5 = 50$ and $\\sqrt{npq} = \\sqrt{100 \\cdot 0.5 \\cdot 0.5} = 5$.\n",
    "\n",
    "The $x$ location of the standard normal distribution that corresponds to $55$ successes in our binomial distibution is \n",
    "\n",
    "$$\n",
    "x = \\frac{55-50)}{5}=1\n",
    "$$\n",
    "\n",
    "and we have \n",
    "\n",
    "$$\n",
    "P(S_{100} = 55) \\approx \\frac{n(1)}{5} = \\frac{1}{5} \\Bigg( \\frac{1}{\\sqrt{2 \\pi}}e^{-\\frac{1}{2}} \\Bigg) \\\\\n",
    "                                        = 0.0484\n",
    "$$\n",
    "\n",
    "and we can check the exact (to machine precision) answer\n",
    "\n",
    "`\n",
    "stats.binom.pmf(55, 100, 0.5)\n",
    "0.048474296626427174\n",
    "`"
   ]
  },
  {
   "cell_type": "markdown",
   "metadata": {
    "deletable": true,
    "editable": true,
    "slideshow": {
     "slide_type": "slide"
    }
   },
   "source": [
    "## Central Limit Theorem for Bernoulli trials processes\n",
    "\n",
    "Collecting together what we've just looked at we have:\n",
    "\n",
    "Let $S_n$ be the number of sucesses in $n$ Bernoulli trials with probability $p$ and let $a$ and $b$ be two fixed real numbers\n",
    "\n",
    "$$\n",
    "\\lim_{n \\to \\infty} P\\Big(a \\le \\frac{S_n-np}{\\sqrt{npq}} \\le  b \\Big) = \\int_a^b n(x)\\text{d}x = N(b) - N(a)\n",
    "$$\n",
    "\n",
    "where $n$ and $N$ are the probability density function and the cumulative distribution function of a standard normal distribution."
   ]
  },
  {
   "cell_type": "markdown",
   "metadata": {
    "deletable": true,
    "editable": true,
    "slideshow": {
     "slide_type": "slide"
    }
   },
   "source": [
    "## Approximating binomial distributions \n",
    "\n",
    "We can use the expression above to approximate a probability of the form \n",
    "$$\n",
    "P(i \\le S_n \\le j)\n",
    "$$\n",
    "\n",
    "where $i$ and $j$ are integers betweeen 0 and $n$, if $n$ is reasonably large. \n",
    "\n",
    "It is generally a good idea to apply a \"continuity correction\", and look for values between $i - 0.5$ and $j+0.5$. Then we can standardize and look for\n",
    "\n",
    "$$\n",
    "P\\Big(\\frac{i-0.5-np}{\\sqrt{npq}} \\le S_{100}^* \\le \\frac{j+0.5-np}{\\sqrt{npq}} \\Big)\n",
    "$$"
   ]
  },
  {
   "cell_type": "markdown",
   "metadata": {
    "deletable": true,
    "editable": true,
    "slideshow": {
     "slide_type": "subslide"
    }
   },
   "source": [
    "**Example**\n",
    "\n",
    "A coin is flipped 100 times. What is the probablity that the number of heads is between 40 and 60?\n",
    "\n"
   ]
  },
  {
   "cell_type": "markdown",
   "metadata": {
    "deletable": true,
    "editable": true,
    "slideshow": {
     "slide_type": "fragment"
    }
   },
   "source": [
    "$S_n$ is our number of successes (heads here). The expected number of heads is $np = 100\\times0.5 = 50$ and the (population) standard deviation is $\\sqrt{npq}=\\sqrt{100 \\cdot 0.5 \\cdot 0.5} = 5$.\n",
    "\n",
    "Then we can use the previous results to estimate\n",
    "\n",
    "$$\n",
    "\\begin{align}\n",
    "P(40 \\le S_n \\le 60) & \\approx P\\big( \\frac{40-0.5-50}{5} \\le S_{100}^* \\le \\frac{60+0.5-50}{5}  \\big) \\\\\n",
    "                     & = P(-2.1 \\le S_{100}^* \\le 2.1) \\\\\n",
    "                     & = N(2.1) - N(-2.1)\n",
    "\\end{align}\n",
    "$$\n",
    "\n",
    "```\n",
    "stats.norm.cdf(2.1) - stats.norm.cdf(-2.1)\n",
    "0.96427115887436687\n",
    "```"
   ]
  },
  {
   "cell_type": "markdown",
   "metadata": {
    "deletable": true,
    "editable": true,
    "slideshow": {
     "slide_type": "fragment"
    }
   },
   "source": [
    "the exact answer is\n",
    "```\n",
    "stats.binom.cdf(60,100,0.5) - stats.binom.cdf(39,100,0.5)\n",
    "0.96479979978229524\n",
    "```"
   ]
  },
  {
   "cell_type": "markdown",
   "metadata": {
    "deletable": true,
    "editable": true,
    "slideshow": {
     "slide_type": "fragment"
    }
   },
   "source": [
    "Note that this is the probability that the number of heads is within two standard deviations of the mean."
   ]
  },
  {
   "cell_type": "markdown",
   "metadata": {
    "deletable": true,
    "editable": true,
    "slideshow": {
     "slide_type": "subslide"
    }
   },
   "source": [
    "We could instead ask what are the values that we are 99% confident that the number of heads will fall between?"
   ]
  },
  {
   "cell_type": "code",
   "execution_count": 2,
   "metadata": {
    "collapsed": false,
    "deletable": true,
    "editable": true,
    "slideshow": {
     "slide_type": "fragment"
    }
   },
   "outputs": [
    {
     "data": {
      "text/plain": [
       "2.5758293035489004"
      ]
     },
     "execution_count": 2,
     "metadata": {},
     "output_type": "execute_result"
    }
   ],
   "source": [
    "stats.norm.ppf(0.995)"
   ]
  },
  {
   "cell_type": "code",
   "execution_count": 3,
   "metadata": {
    "collapsed": false,
    "deletable": true,
    "editable": true,
    "slideshow": {
     "slide_type": "fragment"
    }
   },
   "outputs": [
    {
     "data": {
      "text/plain": [
       "-2.5758293035489008"
      ]
     },
     "execution_count": 3,
     "metadata": {},
     "output_type": "execute_result"
    }
   ],
   "source": [
    "stats.norm.ppf(0.005)"
   ]
  },
  {
   "cell_type": "markdown",
   "metadata": {
    "deletable": true,
    "editable": true,
    "slideshow": {
     "slide_type": "fragment"
    }
   },
   "source": [
    "these are the values of the standardized variables. So we need to reverse our transformation to estimate the integer values.\n",
    "\n",
    "Lower bound is found from \n",
    "\n",
    "$$\n",
    "-2.576 = \\frac{i-0.5-50}{5} \\\\\n",
    "\\implies i =  <-2.576 \\times 5+50.5> \\\\\n",
    "           \\approx 38\n",
    "$$\n",
    "\n",
    "and the upper bound \n",
    "\n",
    "$$\n",
    "2.576 = \\frac{j+0.5-50}{5} \\\\\n",
    "\\implies j =  <2.576 \\times 5 + 49.5> \\\\\n",
    "           \\approx 63\n",
    "$$\n"
   ]
  },
  {
   "cell_type": "markdown",
   "metadata": {
    "deletable": true,
    "editable": true,
    "slideshow": {
     "slide_type": "slide"
    }
   },
   "source": [
    "## Moments of a distribution\n",
    "\n",
    "This is a diversion, but useful and will give us a sketch of how we could go about proving the Central Limit Theorem for general distributions of random variables.\n",
    "\n",
    "Up till now we've concentrated on two properties of a distribution - namely the expectation and variance. But those two values don't fully characterize a distribution. For instance, two random variables $X$ and $Y$ have distributions\n",
    "\n",
    "$$\n",
    "p_X = \\left( \\begin{array}{cccccc}\n",
    "1 & 2 & 3 & 4 & 5 & 6\\\\\n",
    "0 & 1/4 & 1/2 & 0 & 0 & 1/4 \\end{array} \\right)\n",
    "$$\n",
    "\n",
    "$$\n",
    "p_Y = \\left( \\begin{array}{ccc}\n",
    "1 & 2 & 3 & 4 & 5 & 6\\\\\n",
    "1/4 & 0 & 0 & 1/2 & 1/4 & 0 \\end{array} \\right)\n",
    "$$\n",
    "\n",
    "they could be dodgy dice. We have $\\text{E[$X$]} = \\text{E[$Y$]} = 7/2$ and $\\text{var($X$)} = \\text{var($Y$)} = 9/4$. But they are definitely different dice.\n",
    "\n",
    "The moments of a discrete distribution are defined as \n",
    "$$\n",
    "\\mu_k = k^{th} \\text{moment of $X$} \\\\\n",
    "       = \\text{E[$X^k$]} \\\\\n",
    "       = \\sum_{j=1}^{\\infty} (x_j^k)p(x_j)\n",
    "$$\n",
    "\n",
    "We've already met the first moment of a distribution is\n",
    "\n",
    "$$\n",
    "\\mu = \\text{E[X]} = \\mu_1\n",
    "$$\n",
    "\n",
    "and from our usual working definition of the variance $\\text{var}(X) = \\text{E}[X]^2 - \\text{E}[X^2]$ we see that \n",
    "\n",
    "$$\n",
    "\\text{var($X$)} = \\sigma_X^2 = \\mu_2 - \\mu_1^2\n",
    "$$\n"
   ]
  },
  {
   "cell_type": "markdown",
   "metadata": {
    "deletable": true,
    "editable": true,
    "slideshow": {
     "slide_type": "slide"
    }
   },
   "source": [
    "## Moment generating functions\n",
    "\n",
    "there is a convenient way of describing the moments of a distribution. We can define a new function $g(t)$, where $t$ is a new variable as follows:\n",
    "\n",
    "$$\n",
    "\\begin{align}\n",
    "g(t) & = \\text{E[$e^{tX}$]} \\\\\n",
    "     & = \\sum_{k=0}^{\\infty} \\frac{\\mu_k t^k}{k!} \\\\\n",
    "     & = \\text{E[$\\sum_{k=0}^{\\infty} \\frac{X^k t^k}{k!}$]} \\\\\n",
    "     & = \\sum_{j=1}^{\\infty} e^{tx_j}p(x_j)\n",
    "\\end{align}\n",
    "$$\n",
    "\n",
    "the reason to do this is that if we differentiate $g(t)$ $n$ times, then set $t=0$, we get $\\mu_n$\n",
    "\n",
    "$$\n",
    "\\begin{align}\n",
    "\\frac{\\text{d}^n}{\\text{d}t^n} g(t) \\mid_{t=0} & = g^{(n)}(0) \\\\\n",
    "    & = \\sum_{k=n}^{\\infty} \\frac{k! \\mu_k t^{k-n}}{(k-n)!k!} \\Bigg|_{t=0}\\\\\n",
    "    & = \\mu_n\n",
    "\\end{align}\n",
    "$$"
   ]
  },
  {
   "cell_type": "markdown",
   "metadata": {
    "deletable": true,
    "editable": true,
    "slideshow": {
     "slide_type": "slide"
    }
   },
   "source": [
    "**example**\n",
    "\n",
    "let $X$ be a discrete random variable with range $\\{0,1,2,3,\\ldots\\}$ and pmf $p_X (j) = e^{-\\lambda}\\lambda^j/j!$ for all $j$. \n",
    "\n",
    "This is a Poisson distribution with mean $\\lambda$. Then\n",
    "\n",
    "$$\n",
    "\\begin{align}\n",
    "g(t) & = \\sum_{j=0}^{\\infty} e^{tj} \\frac{ e^{-\\lambda} \\lambda^j}{j!} \\\\\n",
    "     & = e^{-\\lambda} \\sum_{j=0}^{\\infty} \\frac{ {(\\lambda e^t)^j}}{j!} \\\\\n",
    "     & = e^{-\\lambda} e^{\\lambda e^t} \\\\\n",
    "     & = e^{\\lambda(e^t-1)}\n",
    "\\end{align}\n",
    "$$\n",
    "\n",
    "we get\n",
    "\n",
    "$$\n",
    "\\begin{align}\n",
    "\\mu_1 & = \\text{E}[X] = g^{(1)}(0)= e^{\\lambda(e^t-1)} \\lambda e^t \\mid_{t=0} = \\lambda\\\\\n",
    "\\mu_2 & = \\text{E}[X^2] = g^{(2)}(0)= e^{\\lambda(e^t-1)} (\\lambda^2 e^{2t} + \\lambda e^t) \\mid_{t=0} = \\lambda^2 + \\lambda\n",
    "\\end{align}\n",
    "$$\n",
    "\n",
    "$\\mu = \\mu_1 =\\lambda$ and $\\sigma^2 = \\mu_2 - \\mu_1^2 = \\lambda$."
   ]
  },
  {
   "cell_type": "markdown",
   "metadata": {
    "slideshow": {
     "slide_type": "slide"
    }
   },
   "source": [
    "#### Example\n",
    "\n",
    "The moment generating function of a standard normal distribution is\n",
    "\n",
    "$$\n",
    "\\begin{align}\n",
    "g(t) & = \\int_{x=-\\infty}^{\\infty} e^{tx} \\frac{1 }{\\sqrt{2 \\pi}}\\exp\\Big\\{ - \\frac{x^2}{2}\\Big\\}dx \\\\\n",
    "     & = \\int_{x=-\\infty}^{\\infty} \\frac{1 }{\\sqrt{2 \\pi}}\\exp\\Big\\{ tx - \\frac{x^2}{2}\\Big\\}dx \\\\\n",
    "     & = \\int_{x=-\\infty}^{\\infty} \\frac{1 }{\\sqrt{2 \\pi}}\\exp\\Big\\{ \\frac{2tx - x^2}{2}\\Big\\}dx \\\\\n",
    "     & = \\int_{x=-\\infty}^{\\infty} \\frac{1 }{\\sqrt{2 \\pi}}\\exp\\Big\\{\\frac{1}{2}(t^2-(t - x)^2)\\Big\\}dx \\\\\n",
    "     & = \\exp\\Big\\{\\frac{1}{2}t^2\\Big\\} \\int_{x=-\\infty}^{\\infty} \\frac{1 }{\\sqrt{2 \\pi}}\\exp\\Big\\{\\frac{-(t - x)^2}{2}\\Big\\}dx \\\\\n",
    "     & = \\exp\\Big\\{\\frac{1}{2}t^2\\Big\\}\n",
    "\\end{align}\n",
    "$$\n",
    "\n",
    "where in the last step we use the fact that the integral is the probability density function of a normal distribution with $\\mu =t$ and $\\sigma = 1$. "
   ]
  },
  {
   "cell_type": "markdown",
   "metadata": {
    "deletable": true,
    "editable": true,
    "slideshow": {
     "slide_type": "slide"
    }
   },
   "source": [
    "### Moments completely determine a distribution\n",
    "\n",
    "for a discrete random variable with finite range we have\n",
    "\n",
    "$$\n",
    "g(t) = \\sum_{j=1}^{\\infty} e^{tx_j}p(x_j)\n",
    "$$\n",
    "\n",
    "if we know $g(t)$, which is the same as knowing all the moments as  $g(t) = \\sum_{k=0}^{\\infty} \\frac{\\mu_k t^k}{k!}$, we can find $x_j$ and $p(x_j)$ .\n",
    "\n",
    "First we order the possible values of $X$ so that $x_1 \\lt x_2 \\ldots \\lt x_n$. We can differentiate $g(t)$ and write down $\\frac{g^{(1)}(t)}{g(t)}$ as\n",
    "\n",
    "$$\n",
    " \\frac{x_1 p(x_1) e^{tx_1} + \\ldots + x_n p(x_n) e^{tx_n}}{ p(x_1) e^{tx_1} + \\ldots + p(x_n) e^{tx_n}}\n",
    "$$\n",
    "\n",
    "if we divide top and bottom by $e^{tx_n}$ we obtain\n",
    "\n",
    "$$\n",
    " \\frac{x_1 p(x_1) e^{t(x_1 - x_n)} + \\ldots + x_n p(x_n)}{ p(x_1) e^{t(x_1 - x_n)} + \\ldots + p(x_n)}\n",
    "$$\n",
    "\n",
    "and since $x_n$ is the largest possible value $X$ can take as $t \\to \\infty$ this ratio approaches $x_n$. So\n",
    "\n",
    "$$\n",
    "x_n = \\lim_{t \\to \\infty }\\frac{g^{(1)}(t)}{g(t)}\n",
    "$$\n",
    "\n",
    "Once we have $x_n$ we can divide $g(t)$ by $e^{t x_n}$ and let $t$ go to $\\infty$ to find $p(x_n)$. \n",
    "\n",
    "Once we have $x_n$ and $p(x_n)$ we can subtract $(x_n)e^{t x_n}$ from $g(t)$ and rinse/repeat to get the other values of $x_j$ and $p(x_j)$."
   ]
  },
  {
   "cell_type": "markdown",
   "metadata": {
    "deletable": true,
    "editable": true,
    "slideshow": {
     "slide_type": "slide"
    }
   },
   "source": [
    "### Moment generating functions have nice properties\n",
    "\n",
    "The most important one for us is, if $X$ and $Y$ are independent, then $e^{tX}$ and $e^{tY}$ are too. Then we have a new random variable $Z = X + Y$ has a generating function \n",
    "\n",
    "$$\n",
    "\\begin{align}\n",
    "g_Z(t) & = \\text{E[$e^{tZ}$]} = \\text{E[$e^{t(X + Y)}$]} \\\\\n",
    "       & = \\text{E[$e^{tX}$]} \\text{E[$e^{tY}$]} \\\\\n",
    "       & = g_X(t) g_Y(t)\n",
    "\\end{align}\n",
    "$$\n",
    "\n",
    "but the probability mass function $Z$ is more complicated (we've not dealt with pmfs pdfs of combined random variables)."
   ]
  },
  {
   "cell_type": "markdown",
   "metadata": {
    "deletable": true,
    "editable": true,
    "slideshow": {
     "slide_type": "slide"
    }
   },
   "source": [
    "## Sketch of general proof of Central Limit Theorem\n",
    "\n",
    "let $X_1, X_2, \\ldots , X_n$ be an independent trials process with each $X_i$ having probability density function $f_X(x)$, expectation value $\\mu = 0$ and variance $\\sigma^2$ . \n",
    "\n",
    "Let $S_n = X_1 + X_2 + \\ldots + X_n $, and $S_n^* = (S_n - n\\mu) / \\sqrt{n \\sigma^2} = S_n / \\sqrt{n}$.\n",
    "\n",
    "Each $X_i$ has a moment generating function $g(t)$. As they are independent we can use the properties of the generating function to write the moment generating function of $S_n$\n",
    "\n",
    "$$\n",
    "g_n(t) = g(t)^n\n",
    "$$\n",
    "\n",
    "and the standardized sum has generating function \n",
    "\n",
    "$$\n",
    "g_n^*(t) = g(t/\\sqrt{n})^n\n",
    "$$"
   ]
  },
  {
   "cell_type": "markdown",
   "metadata": {
    "deletable": true,
    "editable": true,
    "slideshow": {
     "slide_type": "subslide"
    }
   },
   "source": [
    "It is easier to work with the logarithm of the generating function. Let $u(t) = \\log{g(t)}$ and\n",
    "\n",
    "$$\n",
    "\\begin{align}\n",
    "u^*_n(t) & = \\log{g^*_n(t)} \\\\\n",
    "         & = n \\log{g(t/ \\sqrt{n})} \\\\ \n",
    "         & = n u(t/ \\sqrt{n})\n",
    "\\end{align}\n",
    "$$\n",
    "\n",
    "and we want to show that $u^*_n(t) \\to t^2/2$ as  $n \\to \\infty$.\n",
    "\n",
    "First we note that\n",
    "\n",
    "$$\n",
    "\\begin{align}\n",
    "u(0) & = \\log{g(0)} = 0 \\\\\n",
    "u^{(1)}(0) & = \\frac{g^{(1)}(0)}{g(0)} = \\frac{\\mu_1}{1} = 0 \\\\\n",
    "u^{(2)}(0) & = \\frac{g^{(2)}(0) g(0) - g^{(1)}(0)^2}{g(0)^2} = \\frac{\\mu_2 - \\mu_1}{1} = \\sigma^2 = 1\n",
    "\\end{align}\n",
    "$$\n",
    "\n"
   ]
  },
  {
   "cell_type": "markdown",
   "metadata": {
    "deletable": true,
    "editable": true,
    "slideshow": {
     "slide_type": "subslide"
    }
   },
   "source": [
    "Finally we can calculate the limit:\n",
    "\n",
    "$$\n",
    "\\begin{align}\n",
    "\\lim_{n \\to \\infty} u^*_n(t) & = \\lim_{n \\to \\infty} n u(t/ \\sqrt{n}) \\\\\n",
    "\\end{align}\n",
    "$$\n",
    "\n",
    "if we change variables and let $x = 1/\\sqrt(n)$ we get\n",
    " \n",
    "$$\n",
    "\\begin{align}\n",
    "                             & = \\lim_{x \\to 0} \\frac{u(xt)}{x^2} \\\\\n",
    "                             & = \\lim_{x \\to 0} \\frac{u^{(1)}(xt) t}{2 x} & \\hfill \\text{(L'Hôpital's rule)}\\\\\n",
    "                             & = \\lim_{x \\to 0} u^{(2)}(xt) \\cdot \\frac{t^2}{2} & \\hfill \\text{(L'Hôpital's rule)}\\\\\n",
    "                             & = \\sigma^2 \\frac{t^2}{2} \\\\\n",
    "                             & = \\frac{t^2}{2}\n",
    "\\end{align}\n",
    "$$\n",
    "\n",
    "which implies that in the limit, the sum of the variables has the generating function of a standard normal distribution.\n",
    "\n",
    "It is then plausible that for the variable to have this generating function, it must also have the pdf and cdf of a normal distribution."
   ]
  },
  {
   "cell_type": "markdown",
   "metadata": {
    "slideshow": {
     "slide_type": "slide"
    }
   },
   "source": [
    "# Summary\n",
    "\n",
    "\n",
    "<br>\n",
    "<div style=\"background-color:Gold; margin-left: 20px; margin-right: 20px; padding-bottom: 8px; padding-left: 8px; padding-right: 8px; padding-top: 8px; border-radius: 25px;\">\n",
    "\n",
    "<ul>\n",
    "    <li> how to estimate the expected value of the sample mean\n",
    "    <ul>\n",
    "        <li>if the population variance is known - normal distribution</li>\n",
    "        <li> if the population variance is not known - t distribution</li>\n",
    "    </ul>\n",
    "    </li>\n",
    "    <li> how to estimate the expected value of the sample variance</li>\n",
    "    <li> understand the origin of the central limit theorem</li>\n",
    "</ul>\n",
    "</div>"
   ]
  }
 ],
 "metadata": {
  "celltoolbar": "Slideshow",
  "kernelspec": {
   "display_name": "Python [default]",
   "language": "python",
   "name": "python3"
  },
  "language_info": {
   "codemirror_mode": {
    "name": "ipython",
    "version": 3
   },
   "file_extension": ".py",
   "mimetype": "text/x-python",
   "name": "python",
   "nbconvert_exporter": "python",
   "pygments_lexer": "ipython3",
   "version": "3.5.3"
  }
 },
 "nbformat": 4,
 "nbformat_minor": 0
}
