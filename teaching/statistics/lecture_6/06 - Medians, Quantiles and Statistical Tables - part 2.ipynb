{
 "cells": [
  {
   "cell_type": "markdown",
   "metadata": {
    "slideshow": {
     "slide_type": "slide"
    }
   },
   "source": [
    "# 06 - Medians, Quantiles and Statistical Tables\n",
    "\n",
    "We start to examine in more detail the properties of a probability distribution, and hence the distribution of the values of a random variable.\n",
    "\n",
    "Today we've looked at\n",
    "\n",
    "<div style=\"background-color:Gold; margin-left: 20px; margin-right: 20px; padding-bottom: 8px; padding-left: 8px; padding-right: 8px; padding-top: 8px; border-radius: 25px;\">\n",
    "Measures of Central tendency  \n",
    "<br>\n",
    "Medians, Quantiles and Percentiles  \n",
    "<br>\n",
    "\n",
    "</div>\n",
    "\n",
    "Now we'll look at\n",
    "\n",
    "- Measures of variation,\n",
    "\n",
    "as well as a remarkable result about probability distributions called\n",
    "\n",
    "- Chebyshev's Inequality.\n",
    "\n",
    "Which leads to\n",
    "\n",
    "<div style=\"background-color:Gold; margin-left: 20px; margin-right: 20px; padding-bottom: 8px; padding-left: 8px; padding-right: 8px; padding-top: 8px; border-radius: 25px;\">\n",
    "The Weak Law of Large Numbers\n",
    "</div>\n"
   ]
  },
  {
   "cell_type": "markdown",
   "metadata": {
    "slideshow": {
     "slide_type": "slide"
    }
   },
   "source": [
    "## Measures of central tendency - recapitulation\n",
    "\n",
    "Where is the middle of the distribution?\n",
    "\n",
    "- We have looked at the mean, which we saw is also termed the expectation value for a random variable.\n",
    "\n",
    "There are two other common measures of the centre of the distribution\n",
    "- mode, which is the most commonly occuring value in the distribution\n",
    "- median, which is middle value of the distribution if values are listed in order, for an odd number of values. Or the mean of the two central values, for even numbers of data points.\n",
    "\n",
    "These measures are often applied to samples, which may or may not come from some idealised probability distribution.\n"
   ]
  },
  {
   "cell_type": "markdown",
   "metadata": {
    "slideshow": {
     "slide_type": "slide"
    }
   },
   "source": [
    "## Meaning of averages\n",
    "\n",
    "Important point - the average can be a fraction / real number - even for systems when it only makes sense that things come in integers.\n",
    "\n",
    "**examples**\n",
    "\n",
    "Number of alpacas that escape some shearers with their coats intact.\n",
    "\n",
    "Number of spots on a standard die.\n",
    "\n",
    "What is the average number of legs on an animal?"
   ]
  },
  {
   "cell_type": "markdown",
   "metadata": {
    "slideshow": {
     "slide_type": "fragment"
    }
   },
   "source": [
    "- It is fine that the expected number of spots on the die is 3.5.\n",
    "\n",
    "- This does not mean that the most likely roll of a dice will be 3.5!\n",
    "\n",
    "- 0.01 according to QI - mostly neotodes\n",
    "\n",
    "- If we say that 1.2 alpacas, or whatever, are expected to be caught, this doesn't mean the farmer is after them with a chainsaw. Instead, if the experiment was repeated 100 times, 120 alpacas would be expected to be caught.\n",
    "\n",
    "That in the large number limit this number would be equal to the probability of it happening times the number of attempts is what the Laws of Large numbers are about - we will look at one of them later today.\n",
    "\n",
    "It is closely connected to the frequentist viewpoint of probabilities."
   ]
  },
  {
   "cell_type": "markdown",
   "metadata": {
    "slideshow": {
     "slide_type": "slide"
    }
   },
   "source": [
    "## Measures of Variation\n",
    "\n",
    "We have already looked at how to calculate the variance and standard deviation of a random variable. They mesure how much the different values of a random variable differ from the mean of the variable, and how likely the given value is to occur.\n",
    "\n",
    "<div style=\"background-color:Gold; margin-left: 20px; margin-right: 20px; padding-bottom: 8px; padding-left: 8px; padding-right: 8px; padding-top: 8px; border-radius: 25px;\">\n",
    "\n",
    "- variance and standard deviation\n",
    "<br><br>\n",
    "- range, largest value minus the smallest value. \n",
    "<br><br>\n",
    "- inter-quartile distance - the 'distance' between the first quartile and the third quartile\n",
    "</div>\n",
    "\n",
    "These measures are often applied to samples, which may or may not come from some idealised probability distribution.\n",
    "\n",
    "The first two we have covered, or are obvious. What are quartiles?"
   ]
  },
  {
   "cell_type": "markdown",
   "metadata": {
    "slideshow": {
     "slide_type": "slide"
    }
   },
   "source": [
    "## Quantiles\n",
    "\n",
    "Quantiles are cutpoints dividing a set of observations into equal sized groups.\n",
    "\n",
    "Actually, we've already met one - the median. This cuts the set of observations/values of the distribution in 2.\n",
    "\n",
    "For a continuous distribution life is actually easier, the median is just the value at which the cumulative distribution function of a variable reaches $\\frac{1}{2}$.\n",
    "\n",
    "- median of a discrete distribution is middle value of the distribution if values are listed in order, for an odd number of values. Or the mean of the two central values, for even numbers of data points.\n",
    "- median of a continuous distribution is the value of $x$ such that $F(x) = \\frac{1}{2}$.\n",
    "\n"
   ]
  },
  {
   "cell_type": "markdown",
   "metadata": {
    "slideshow": {
     "slide_type": "slide"
    }
   },
   "source": [
    "## Percentiles\n",
    "\n",
    "Of course, there is no reason to restrict ourselve to quartiles. We can do percentiles ... don't know what to call thousentiles ... We just choose the value between 0 and 1 that we set the cumulative distribution function equal to appropriately."
   ]
  },
  {
   "cell_type": "markdown",
   "metadata": {
    "slideshow": {
     "slide_type": "slide"
    }
   },
   "source": [
    "# Statistical tables \n",
    "\n",
    "these give values of these percentiles for various distributions, that is all. Nowadays it is easier to get a computer to calculate them for you.\n",
    "\n",
    "Particularly we will use calls to the python scipy library to generate them."
   ]
  },
  {
   "cell_type": "markdown",
   "metadata": {
    "slideshow": {
     "slide_type": "slide"
    }
   },
   "source": [
    "## Markovs's Inequality\n",
    "\n",
    "Lets actually use all this machinery that we've built up to see if we can say anything general about a distribution.\n",
    "\n",
    "Let $X$ be a continuous random variable with probability density function $f(x)$. \n",
    "\n",
    "We can show that if $X$ only takes on positive values that\n",
    "\n",
    "$$\n",
    "P(X\\geq a) \\leq \\frac{\\text{E}[X]}{a}\n",
    "$$\n",
    "\n",
    "Now\n",
    "\n",
    "$$\n",
    "E[X] = \\int_{-\\infty}^{\\infty} xf(x)\\text{d}x \\\\\n",
    "     = \\int_{-\\infty}^{a} xf(x)\\text{d}x + \\int_{a}^{\\infty} xf(x)\\text{d}x \n",
    "$$\n",
    "\n",
    "Now we use the condition that $X$ is non-negative to set up an inequality\n",
    "\n",
    "$$\n",
    "\\begin{align}\n",
    "\\text{E}[X] & = \\int_{-\\infty}^{a} xf(x)\\text{d}x + \\int_{a}^{\\infty} xf(x)\\text{d}x \\\\\n",
    "            & \\geq \\int_{a}^{\\infty} xf(x)\\text{d}x \\\\\n",
    "            & \\geq \\int_{a}^{\\infty} af(x)\\text{d}x \\\\\n",
    "            & = a \\int_{a}^{\\infty} f(x)\\text{d}x \\\\\n",
    "            & = aP(X\\geq a)\n",
    "\\end{align}\n",
    "$$\n",
    "\n",
    "Which proves our initial statement.\n"
   ]
  },
  {
   "cell_type": "markdown",
   "metadata": {
    "slideshow": {
     "slide_type": "slide"
    }
   },
   "source": [
    "## Chebyshev's Inequality\n",
    "\n",
    "We've proved that\n",
    "\n",
    "$$\n",
    "P(X\\geq a) \\leq \\frac{\\text{E}[X]}{a}\n",
    "$$\n",
    "\n",
    "Take the particular case of $a = k^2$. And consider the expectation value of $g(X)=(X-\\text{E[X]})^2$ we get\n",
    "\n",
    "$$\n",
    "P \\big((X-\\text{E}[X])^2\\geq k^2\\big) \\leq \\frac{\\text{E}[(X-\\text{E}[X])^2]}{k^2} = \\frac{\\sigma_X^2}{k^2}\n",
    "$$\n",
    "\n",
    "As long as the mean of $X$, $\\mu$, and its variance, $\\sigma^2$, are finite then we can equivalently say\n",
    "\n",
    "$$\n",
    "P \\Big(\\big| X-\\text{E}[X] \\big| \\geq k\\Big) \\leq  \\frac{\\sigma^2}{k^2}\n",
    "$$\n",
    "\n",
    "or if we define a new $k'$ in units of the standard deviation, $\\sigma_X$, $k = k'\\sigma_X)$, we get\n",
    "\n",
    "$$\n",
    "P \\Big(\\big|X-\\text{E}[X]\\big| \\geq k'\\sigma_X \\Big) \\leq  \\frac{1}{k'^2}\n",
    "$$\n",
    "\n",
    "this result is known as Chebyshev's Inequality."
   ]
  },
  {
   "cell_type": "markdown",
   "metadata": {
    "slideshow": {
     "slide_type": "slide"
    }
   },
   "source": [
    "### Implication of Chebyshev's Inequality\n",
    "\n",
    "What does \n",
    "\n",
    "$$\n",
    "P \\Big(\\big|X-\\text{E}[X]\\big| \\geq k'\\sigma_X \\Big) \\leq  \\frac{1}{k'^2}\n",
    "$$\n",
    "\n",
    "tell us?\n",
    "\n",
    "Lets take k' = 2 to be concrete. Then\n",
    "\n",
    "$$\n",
    "P \\Big(\\big|X-\\text{E}[X]\\big| \\geq 2\\sigma_X \\Big) \\leq  \\frac{1}{4}\n",
    "$$\n",
    "\n",
    "or put another way, 75% of the probability distribution is within 2 standard deviations of the mean.\n",
    "\n",
    "Only at most 11.1% of the data will be further than 3 standard deviations from the mean.\n",
    "\n",
    "**We have made no assumptions at all about the distribution - it applies to any random variable!**\n",
    "\n",
    "**It is generally a rather loose bound, if we know something about the real distribution we can do (much) better**"
   ]
  },
  {
   "cell_type": "markdown",
   "metadata": {
    "slideshow": {
     "slide_type": "slide"
    }
   },
   "source": [
    "**example**\n",
    "\n",
    "suppose it is known that the number of items produced in a factory during a week is a random variable, $X$, with mean 50.\n",
    "\n",
    "- what can be said about the probability that this week's production exceeds 75?\n",
    "- If the variance of the production is known to equal 25, then can be said about ithe probability that the production this week will be between 40 and 60 items?"
   ]
  },
  {
   "cell_type": "markdown",
   "metadata": {
    "slideshow": {
     "slide_type": "slide"
    }
   },
   "source": [
    "- we can use Markov's inequality\n",
    "$$\n",
    "P(X\\geq a) \\leq \\frac{\\text{E}[X]}{a}\n",
    "$$\n",
    "here we know that ${\\text{E}[X]}$ is 50, and the production is a random variable that does not take on negative values. Plugging in the numbers we have\n",
    "$$\n",
    "P(X \\geq 75) \\leq \\frac{50}{75} = \\frac{2}{3}\n",
    "$$\n",
    "So not very useful in this case."
   ]
  },
  {
   "cell_type": "markdown",
   "metadata": {
    "slideshow": {
     "slide_type": "slide"
    }
   },
   "source": [
    "- By Chebyshevs inequality in the form \n",
    "$$\n",
    "P \\big(| X-\\text{E}[X] | \\geq k\\big) \\leq  \\frac{\\sigma^2}{k^2}\n",
    "$$\n",
    "we can plug in the numbers to get\n",
    "$$\n",
    "P \\big(|X-50| \\geq 10 \\big) \\leq  \\frac{25}{10^2} = \\frac{1}{4}\n",
    "$$\n",
    "so the probability that the production is between 40 and 60 is at least $1 - \\frac{1}{4} = \\frac{3}{4}$."
   ]
  },
  {
   "cell_type": "markdown",
   "metadata": {
    "slideshow": {
     "slide_type": "slide"
    }
   },
   "source": [
    "### Equivalent probabilities\n",
    "\n",
    "In the last expression we manipulated equivalent probabilities\n",
    "\n",
    "$$\n",
    "\\begin{align}\n",
    "P \\big(\\{|X-50| \\geq 10 \\}\\big) & = P(\\{X - 50 > 10 \\cup X - 50 < -10\\}) \\\\\n",
    "                                & = P(\\{X > 60 \\cup X < 40\\}) \\\\\n",
    "                                & = P(\\{40 < X < 60 \\}^C) \\\\\n",
    "                                & = 1 - P(40 < X < 60 )\n",
    "\\end{align}\n",
    "$$\n",
    "\n",
    "If we remember the things in the probabilities are really sets, we can rearrange them to get them into a useful form, and get different statements that define the same sets and hence the same probabilities."
   ]
  },
  {
   "cell_type": "markdown",
   "metadata": {
    "slideshow": {
     "slide_type": "slide"
    }
   },
   "source": [
    "#### Spelling test\n",
    "\n",
    "[Pafnuty Lvovich Chebyshev](https://en.wikipedia.org/wiki/Pafnuty_Chebyshev) (May 16 1821 – December 8 1894) was a Russian mathematician. \n",
    "\n",
    "His name can be alternatively transliterated as Chebychev, Chebysheff, Chebyshov; or Tchebychev, Tchebycheff (French transcriptions); or Tschebyschev, Tschebyschef, Tschebyscheff (German transcriptions)!\n",
    "\n",
    "![](https://upload.wikimedia.org/wikipedia/commons/8/82/Chebyshev.jpg)"
   ]
  },
  {
   "cell_type": "markdown",
   "metadata": {
    "slideshow": {
     "slide_type": "slide"
    }
   },
   "source": [
    "## Weak law of large numbers\n",
    "\n",
    "We're getting a bit ahead of ourselves, but let us go ahead and follow through a remarkable implication of the inequality we've just derived.\n",
    "\n",
    "Let $X_1,X_2, \\ldots,X_n$ be a sequence of independent and identically distributed random variables, each having $\\text{E}[X] = \\mu$. Then for any $\\epsilon \\gt 0$,\n",
    "$$\n",
    "P \\Bigg(\\Bigg|\\frac{X_1+X_2+ \\cdots+X_n}{n} - \\mu\\Bigg| \\gt \\epsilon \\Bigg) \\to 0 \\text{ as $n \\to \\infty$}\n",
    "$$\n"
   ]
  },
  {
   "cell_type": "markdown",
   "metadata": {
    "slideshow": {
     "slide_type": "subslide"
    }
   },
   "source": [
    "**example**\n",
    "\n",
    "If the $X_i$ correspond to consequtive tosses of a coin, and we give them a value 0 if they come up a tail and 1 a head then the weak law of large numbers will say that \n",
    "\n",
    "$$\n",
    "P \\Bigg(\\Bigg|\\frac{X_1+X_2+ \\cdots+X_n}{n} - \\frac{1}{2}\\Bigg| \\gt \\epsilon \\Bigg) \\to 0 \\text{ as $n \\to \\infty$}\n",
    "$$\n",
    "\n",
    "In this case, as $\\text{E}[X_i]=P(\\text{\\{heads\\}})$ we see that the average proportion of the first $n$ flips that differ from the idealised probability $P(E)$ by more than $\\epsilon$ tends to 0 as $n$ tends to $\\infty$.\n",
    "\n",
    "You started to look at this in the computer lab on Tuesday."
   ]
  },
  {
   "cell_type": "code",
   "execution_count": 2,
   "metadata": {
    "collapsed": false,
    "slideshow": {
     "slide_type": "slide"
    }
   },
   "outputs": [
    {
     "data": {
      "image/png": "[encoded data removed]",
      "text/plain": [
       "<matplotlib.figure.Figure at 0x295eec3d240>"
      ]
     },
     "metadata": {},
     "output_type": "display_data"
    }
   ],
   "source": [
    "import numpy as np\n",
    "import matplotlib.pyplot as plt\n",
    "%matplotlib inline\n",
    "\n",
    "def throw_coin(n):\n",
    "    '''\n",
    "    some code that returns a sequence of n random 0s and 1s.\n",
    "    '''\n",
    "    return np.random.randint(0,2,n+1)\n",
    "    \n",
    "running_sum = 0\n",
    "number_throws = 5000\n",
    "\n",
    "my_throws = throw_coin(number_throws) # do the coin flips\n",
    "\n",
    "running_average = []\n",
    "for i in range(0,number_throws):\n",
    "    #calculate the running average\n",
    "    running_average.append(np.sum(my_throws[0:i+1])/(i+1))\n",
    "    \n",
    "# this plots a chart of the value of heads_vs_tails\n",
    "plt.plot(running_average,'-');"
   ]
  },
  {
   "cell_type": "markdown",
   "metadata": {
    "slideshow": {
     "slide_type": "slide"
    }
   },
   "source": [
    "## Proof of the weak law of large numbers\n",
    "\n",
    "If we assume that the variable also have a common variance $\\sigma^2$ we can use our results form last week to show that \n",
    "\n",
    "$$\n",
    "\\text{E}\\Bigg[\\frac{X_1+X_2+ \\cdots+X_n}{n}\\Bigg] = \\mu \n",
    "$$\n",
    "\n",
    "and\n",
    "\n",
    "$$\n",
    "\\text{var}\\Bigg(\\frac{X_1+X_2+ \\cdots+X_n}{n}\\Bigg) = \\frac{\\sigma^2}{n}\n",
    "$$\n",
    "\n",
    "we just plug these into Chebyshev's equality to get\n",
    "\n",
    "$$\n",
    "P \\Bigg(\\Bigg| \\frac{X_1+X_2+ \\cdots+X_n}{n} - \\mu\\Bigg| \\geq \\epsilon\\Bigg) \\leq  \\frac{\\sigma^2}{n\\epsilon^2}\n",
    "$$\n",
    "\n",
    "and the result is proved."
   ]
  },
  {
   "cell_type": "markdown",
   "metadata": {
    "slideshow": {
     "slide_type": "slide"
    }
   },
   "source": [
    "## Summary\n",
    "\n",
    "<br>\n",
    "<div style=\"background-color:Gold; margin-left: 20px; margin-right: 20px; padding-bottom: 8px; padding-left: 8px; padding-right: 8px; padding-top: 8px; border-radius: 25px;\">\n",
    "Measures of Central tendency  \n",
    "<br>\n",
    "Medians, Quantiles and Percentiles  \n",
    "<br>\n",
    "Measures of Variation  \n",
    "\n",
    "</div>\n",
    "\n",
    "as well as a remarkable result about probability distributions called\n",
    "\n",
    "- Chebyshev's Inequality.\n",
    "\n",
    "Which leads to\n",
    "\n",
    "<div style=\"background-color:Gold; margin-left: 20px; margin-right: 20px; padding-bottom: 8px; padding-left: 8px; padding-right: 8px; padding-top: 8px; border-radius: 25px;\">\n",
    "The Weak Law of Large Numbers\n",
    "</div>"
   ]
  }
 ],
 "metadata": {
  "celltoolbar": "Slideshow",
  "kernelspec": {
   "display_name": "Python [default]",
   "language": "python",
   "name": "python3"
  },
  "language_info": {
   "codemirror_mode": {
    "name": "ipython",
    "version": 3
   },
   "file_extension": ".py",
   "mimetype": "text/x-python",
   "name": "python",
   "nbconvert_exporter": "python",
   "pygments_lexer": "ipython3",
   "version": "3.5.2"
  }
 },
 "nbformat": 4,
 "nbformat_minor": 0
}
