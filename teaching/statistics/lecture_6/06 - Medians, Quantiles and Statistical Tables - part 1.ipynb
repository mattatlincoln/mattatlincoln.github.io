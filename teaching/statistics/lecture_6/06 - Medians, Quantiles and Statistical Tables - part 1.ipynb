{
 "cells": [
  {
   "cell_type": "markdown",
   "metadata": {
    "slideshow": {
     "slide_type": "slide"
    }
   },
   "source": [
    "# 06 - Medians, Quantiles and Statistical Tables\n",
    "\n",
    "We start to examine in more detail the properties of a probability distribution, and hence the distribution of the values of a random variable.\n",
    "\n",
    "Today we'll look at\n",
    "\n",
    "<div style=\"background-color:Gold; margin-left: 20px; margin-right: 20px; padding-bottom: 8px; padding-left: 8px; padding-right: 8px; padding-top: 8px; border-radius: 25px;\">\n",
    "Measures of Central tendency  \n",
    "<br>\n",
    "Medians, Quantiles and Percentiles  \n",
    "<br>\n",
    "Measures of Variation  \n",
    "\n",
    "</div>\n",
    "\n",
    "as well as a remarkable result about probability distributions called\n",
    "\n",
    "- Chebyshev's Inequality.\n",
    "\n",
    "Which leads to\n",
    "\n",
    "<div style=\"background-color:Gold; margin-left: 20px; margin-right: 20px; padding-bottom: 8px; padding-left: 8px; padding-right: 8px; padding-top: 8px; border-radius: 25px;\">\n",
    "The Weak Law of Large Numbers\n",
    "</div>"
   ]
  },
  {
   "cell_type": "markdown",
   "metadata": {
    "slideshow": {
     "slide_type": "slide"
    }
   },
   "source": [
    "## Measures of central tendency\n",
    "\n",
    "Where is the middle of the distribution?\n",
    "\n",
    "We have looked at the mean, which we saw is also termed the expectation value for a random variable, of a random variable.\n",
    "\n",
    "There are two other common measures of the centre of the distribution\n",
    "<div style=\"background-color:Gold; margin-left: 20px; margin-right: 20px; padding-bottom: 8px; padding-left: 8px; padding-right: 8px; padding-top: 8px; border-radius: 25px;\">\n",
    "<br>\n",
    "$\\textbf{Mean}$ of data or expectation value of a random variable<br><br>\n",
    "$\\textbf{Mode}$, which is the most commonly occurring value in the distribution  <br><br>\n",
    "$\\textbf{Median}$, which is middle value of the distribution if values are listed in order, for an odd number of values. Or   the mean of the two central values, for even numbers of data points.<br><br>\n",
    "\n",
    "</div>\n",
    "\n",
    "These measures are often applied to samples, which may or may not come from some idealised probability distribution.\n"
   ]
  },
  {
   "cell_type": "markdown",
   "metadata": {
    "slideshow": {
     "slide_type": "slide"
    }
   },
   "source": [
    "### Median for discrete data\n",
    "\n",
    "For a discrete set of data the median is easily defined:\n",
    "\n",
    "- median, which is middle value of the distribution if values are listed in order, for an odd number of values. Or the mean of the two central values, for even numbers of data points.\n",
    "\n",
    "$$\n",
    "(1,2,3,4,5)\n",
    "$$\n",
    "\n",
    "has median 3, the central value.\n",
    "\n",
    "$$\n",
    "(1,2,3,4,5,6)\n",
    "$$\n",
    "\n",
    "has median 3.5 - the mean of 3 and 4.\n",
    "\n",
    "Algorithmically, we sort the list of numbers, check whether there are an odd or even number, then select the central value, or the central two and average.\n",
    "\n",
    "We could also think of this as defining a partition that cuts the data in to two pieces, of equal weight - i.e. with equal numbers of data in each partition."
   ]
  },
  {
   "cell_type": "markdown",
   "metadata": {
    "slideshow": {
     "slide_type": "slide"
    }
   },
   "source": [
    "### Median for a discrete random variable\n",
    "\n",
    "We could also think of this as defining a partition that cuts the data in to two pieces, of equal weight - i.e. with equal numbers of data in each partition. \n",
    "\n",
    "The median is the value where it is likely, i.e. $P /geq 0.5$,  that the variable would take a value greater than or equal, or less than or equal to.\n",
    "\n",
    "Remember that the cumulative distribution function of a discrete random variable $Z$ is given by\n",
    "\n",
    "$$\n",
    "F_Z(a) = P(Z \\leq a) = \\sum_{z \\leq a} p_Z(z)\n",
    "$$\n",
    "\n",
    "If we look back at the list $(1,2,3,4,5)$ and convert it to a random variable - say that each value is equally likely, we get\n",
    "\n",
    "$$\n",
    "p_Z(z) = 1/5, z = 1,2,3,4,5\n",
    "$$\n",
    "\n",
    "now\n",
    "\n",
    "$$\n",
    "F_Z(z) =\n",
    "\\begin{cases} \n",
    "    \\hfill 0 \\hfill , z < 1 \\\\\n",
    "    \\hfill \\frac{1}{5} \\hfill , 1 \\leq z \\lt 2 \\\\\n",
    "    \\hfill \\frac{2}{5} \\hfill , 2 \\leq z \\lt 3 \\\\\n",
    "    \\hfill \\frac{3}{5} \\hfill , 3 \\leq z \\lt 4 \\\\\n",
    "    \\hfill \\frac{4}{5} \\hfill , 4 \\leq z \\lt 5 \\\\\n",
    "    \\hfill 1 \\hfill , z \\geq 5 \\\\\n",
    "\\end{cases}\n",
    "$$\n",
    "\n",
    "We can deduce that the median must be 3:\n",
    "\n",
    "$P(Z \\leq 3) = F(3) = \\frac{3}{5}$. \n",
    "\n",
    "The other equality is a bit more tricky \n",
    "\n",
    "$$\n",
    "P(Z \\geq 3) =  \\sum_{z \\geq 3} p_Z(z) = p_Z(3) + p_Z(4) + p_Z(5) = \\frac{3}{5}\n",
    "$$"
   ]
  },
  {
   "cell_type": "markdown",
   "metadata": {
    "slideshow": {
     "slide_type": "slide"
    }
   },
   "source": [
    "### Median for continuous data\n",
    "\n",
    "The computation of the Median for a continuous random variable is more interesting.\n",
    "\n",
    "Recall cumulative distribution function of a random variable gives the probability that the random variable will take on a value equal to, or smaller than, the argument of the function.\n",
    "\n",
    "For a continuous random variable $X$\n",
    "\n",
    "$$\n",
    "F_X(a) = \\int_{-\\infty}^{a} f(x) dx = P(X \\leq a)\n",
    "$$\n",
    "\n",
    "If we take a value $a$ such that $F_X(a)$ this means that at that value the probability \n",
    "\n",
    "$$\n",
    "P(X \\leq a)  = P(X \\gt a) = \\frac{1}{2}\n",
    "$$\n",
    "\n",
    "If we think about it this would also apply to the discrete case. If we take a random value from our list, half the time it will be smaller than our median, and half the time it will be larger.\n",
    "\n",
    "From this argument, we can say that $a$ is the median of the random variable $X$."
   ]
  },
  {
   "cell_type": "markdown",
   "metadata": {
    "slideshow": {
     "slide_type": "slide"
    }
   },
   "source": [
    "### Summary of calculating the Median\n",
    "\n",
    "<br>\n",
    "\n",
    "<div style=\"background-color:Gold; margin-left: 20px; margin-right: 20px; padding-bottom: 8px; padding-left: 8px; padding-right: 8px; padding-top: 8px; border-radius: 25px;\">\n",
    "<br>\n",
    "<li>median of a discrete set of data is the middle value of the distribution if values are listed in order, for an odd number of values. Or the mean of the two central values, for even numbers of data points.</li>\n",
    "<br>\n",
    "<li> median of a discrete random variable $Z$ is the value $z$ such that $P(Z \\leq z) \\geq 0.5$ and $P(Z \\geq z) \\geq 0.5$.</li>\n",
    "<br>\n",
    "<li> median of a continuous vandom variable $X$ is the value $x$ such that $F(x) = \\frac{1}{2}$.</li>\n",
    "</div>"
   ]
  },
  {
   "cell_type": "markdown",
   "metadata": {
    "slideshow": {
     "slide_type": "slide"
    }
   },
   "source": [
    "## Quantiles\n",
    "\n",
    "Quantiles are cutpoints dividing a set of observations into equal sized groups.\n",
    "\n",
    "Actually, we've already met one - the median. This cuts the set of observations/values of the distribution in 2.\n",
    "\n",
    "For a continuous distribution life is actually easier, the median is just the value at which the cumulative distribution function of a variable reaches $\\frac{1}{2}$.\n",
    "\n",
    "- median of a discrete set of data is the middle value of the distribution if values are listed in order, for an odd number of values. Or the mean of the two central values, for even numbers of data points.\n",
    "- the median of a discrete random variable $Z$ is the value $z$ such that $P(Z \\leq z) \\geq 0.5$ and $P(Z \\geq z) \\geq 0.5$.\n",
    "- median of a continuous vandom variable $X$ is the value $x$ such that $F(x) = \\frac{1}{2}$.\n",
    "\n",
    "For a general quantile we just replace $\\frac{1}{2}$ with $a/n$ where $(n-1)$ is number of cuts we will make in the data, and $0 < a < n$ gives the $a^{th}$ $n$-tile.\n",
    "\n",
    "Some of them have special names."
   ]
  },
  {
   "cell_type": "markdown",
   "metadata": {
    "slideshow": {
     "slide_type": "subslide"
    }
   },
   "source": [
    "### Quartiles\n",
    "\n",
    "If we take $n = 4$, then we would make 3 cuts in the data - we've quartered it.\n",
    "\n",
    "the values at which we make the three cuts are called quartiles:\n",
    "\n",
    "- first quartile, $Q_1$, is defined by $F(Q_1) = \\frac{1}{4}$\n",
    "- second quartile, $Q_2$, is defined by $F(Q_2) = \\frac{2}{4}$\n",
    "- third quartile, $Q_3$, is defined by $F(Q_3) = \\frac{3}{4}$\n",
    "\n",
    "Note again that $Q_2$ is the median."
   ]
  },
  {
   "cell_type": "markdown",
   "metadata": {
    "slideshow": {
     "slide_type": "subslide"
    }
   },
   "source": [
    "**example**\n",
    "\n",
    "consider a probability density function for the random variable $Y$ \n",
    "\n",
    "$$\n",
    "f_Y(y) = \\Bigg \\{ \\begin{array}{ll}\n",
    "2e^{-2y} & \\mbox{y $\\gt$ 0 },\\\\\n",
    "0 & \\mbox{ otherwise}\n",
    "\\end{array} \n",
    "$$\n",
    "\n",
    "The cumulative distribution function is\n",
    "\n",
    "$$\n",
    "F_Y(a) = \\int_0^a f(y) \\text{d}y = 1-e^{-2a}\n",
    "$$\n",
    "\n",
    "we can then calculate any quartile as \n",
    "\n",
    "$$\n",
    "F_Y(Q_n) = \\frac{n}{4} \n",
    "$$\n",
    "\n",
    "This implies, making $F_Y(Q_n)$ explicit, that\n",
    "\n",
    "$$\n",
    "1 - e^{-2 Q_n} = \\frac{n}{4}\n",
    "$$\n",
    "\n",
    "and rearranging we get\n",
    "\n",
    "$$\n",
    "Q_n = -\\frac{\\ln(1-\\frac{n}{4})}{2}\n",
    "$$\n",
    "\n"
   ]
  },
  {
   "cell_type": "markdown",
   "metadata": {
    "slideshow": {
     "slide_type": "subslide"
    }
   },
   "source": [
    "So we have\n",
    "\n",
    "$$\n",
    "\\begin{align}\n",
    "Q_1 = -\\frac{\\ln(1-\\frac{1}{4})}{2} \\approx 0.1438 \\\\\n",
    "Q_2 = -\\frac{\\ln(1-\\frac{2}{4})}{2} \\approx 0.3466 \\\\\n",
    "Q_3 = -\\frac{\\ln(1-\\frac{3}{4})}{2} \\approx 0.6931\n",
    "\\end{align}\n",
    "$$\n",
    "\n",
    "It might be helpful to look at these on a graph:"
   ]
  },
  {
   "cell_type": "code",
   "execution_count": 3,
   "metadata": {
    "collapsed": false,
    "slideshow": {
     "slide_type": "fragment"
    }
   },
   "outputs": [
    {
     "data": {
      "image/png": "[encoded data removed]",
      "text/plain": [
       "<matplotlib.figure.Figure at 0x7fc35bfe64e0>"
      ]
     },
     "metadata": {},
     "output_type": "display_data"
    }
   ],
   "source": [
    "%matplotlib inline\n",
    "import matplotlib.pyplot as plt\n",
    "import numpy as np\n",
    "\n",
    "x = np.linspace(0,2)\n",
    "fx = 2*np.exp(-2*x)\n",
    "Fx = 1 - np.exp(-2*x)\n",
    "\n",
    "plt.xlabel(\"Y\")\n",
    "plt.plot(x,Fx, label=r'$F_Y(y)$');\n",
    "plt.plot(x,fx, label=r'$f_Y(y)$');\n",
    "plt.legend(loc='upper right');\n"
   ]
  },
  {
   "cell_type": "markdown",
   "metadata": {
    "slideshow": {
     "slide_type": "slide"
    }
   },
   "source": [
    "## Percentiles\n",
    "\n",
    "Of course, there is no reason to restrict ourselve to quartiles. \n",
    "\n",
    "We can do percentiles ... \n",
    "\n",
    "don't know what to call thousentiles ... \n",
    "\n",
    "We just choose the value between 0 and 1 that we set the cumulative distribution function equal to appropriately."
   ]
  },
  {
   "cell_type": "markdown",
   "metadata": {
    "slideshow": {
     "slide_type": "slide"
    }
   },
   "source": [
    "**example**\n",
    "\n",
    "consider a probability density function \n",
    "\n",
    "$$\n",
    "f_Y(y) = \\Bigg \\{ \\begin{array}{ll}\n",
    "2e^{-2y} & \\mbox{y $\\gt$ 0 },\\\\\n",
    "0 & \\mbox{ otherwise}\n",
    "\\end{array} \n",
    "$$\n",
    "\n",
    "The cumulative distribution function is\n",
    "\n",
    "$$\n",
    "F_Y(y) = \\int_0^a f_Y(y) \\text{d}y = 1-e^{-2a}\n",
    "$$\n",
    "\n",
    "we can then calculate the $n^{th}$ percentile, $p_n$, as \n",
    "\n",
    "$$\n",
    " F_Y(p_n) = 1 - e^{-2 p_n} = \\frac{n}{100} \n",
    "$$\n",
    "\n",
    "rearranging we get\n",
    "\n",
    "$$\n",
    "p_n = -\\frac{\\ln(1-\\frac{n}{100})}{2}\n",
    "$$\n",
    "\n",
    "So we have\n",
    "\n",
    "$$\n",
    "p_5 = -\\frac{\\ln(1-\\frac{5}{100})}{2} \\approx 0.026 \\\\\n",
    "$$"
   ]
  }
 ],
 "metadata": {
  "celltoolbar": "Slideshow",
  "kernelspec": {
   "display_name": "Python [default]",
   "language": "python",
   "name": "python3"
  },
  "language_info": {
   "codemirror_mode": {
    "name": "ipython",
    "version": 3
   },
   "file_extension": ".py",
   "mimetype": "text/x-python",
   "name": "python",
   "nbconvert_exporter": "python",
   "pygments_lexer": "ipython3",
   "version": "3.5.2"
  }
 },
 "nbformat": 4,
 "nbformat_minor": 0
}
