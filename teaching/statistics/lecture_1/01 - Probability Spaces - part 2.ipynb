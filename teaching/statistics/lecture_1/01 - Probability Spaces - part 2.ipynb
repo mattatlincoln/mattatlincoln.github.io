{
 "cells": [
  {
   "cell_type": "code",
   "execution_count": 3,
   "metadata": {
    "collapsed": true,
    "slideshow": {
     "slide_type": "skip"
    }
   },
   "outputs": [],
   "source": [
    "# Slides for Probability and Statistics module, 2016-2017\n",
    "# Matt Watkins, University of Lincoln"
   ]
  },
  {
   "cell_type": "markdown",
   "metadata": {
    "slideshow": {
     "slide_type": "slide"
    }
   },
   "source": [
    "# Interlude\n",
    "<br>\n",
    "<div style=\"background-color:LightBlue; margin-left: 20px; margin-right: 20px; padding-bottom: 8px; padding-left: \n",
    "8px; padding-right: 8px; padding-top: 8px; border-radius: 25px;\">\n",
    "A die is rolled, and we imagine a sample space $S = \\{1,2,3,4,5,6\\}$.\n",
    "<br><br>\n",
    "For a fair die, each outcome can be argued to be equally likely. We can deduce the probability $p$ of the outcomes as\n",
    "\n",
    "$$1=P(S)=P(\\{1\\})+P(\\{2\\})+⋯+P(\\{6\\})=6p$$\n",
    "\n",
    "which implies that $p = \\frac{1}{6}$, as you'd expect.\n",
    "<br><br>\n",
    "Define two events,\n",
    "<li> $A$, \"the roll is less than 5\", so $A = \\{1,2,3,4\\} $</li>\n",
    "<li> $B$, \"the roll is more than 2\", so $B = \\{3,4,5,6\\} $</li>\n",
    "<br>\n",
    "The number of elements in $A$ is $n(A)=n(b)=4$. \n",
    "<br>\n",
    "So $P(A) = n(A)*p = 4*1/6$ and $P(B) = n(B)*p = 4*1/6$\n",
    "<br><br>\n",
    "What is the probability of $A \\cup B$. In words what is the probability that either \"the dice roll is less than 5\" or \"the die roll is more than 2\"?\n",
    "</div>"
   ]
  },
  {
   "cell_type": "markdown",
   "metadata": {
    "slideshow": {
     "slide_type": "subslide"
    }
   },
   "source": [
    "The answer is not $n(A) + n(B))$ because the two sets have an intersection\n",
    "\n",
    "$A \\cap B = \\{1,2,3,4\\} \\cap  \\{3,4,5,6\\} = \\{3,4\\}$\n",
    "\n",
    "so our third axiom _does not_ apply.\n",
    "\n",
    "One of the basic rules of sets is we don't need to keep duplicate members - so\n",
    "\n",
    "$A \\cup B = \\{1,2,3,4\\} \\cup  \\{3,4,5,6\\} = \\{1,2,3,4,3,4,5,6\\} = \\{1,2,3,4,5,6\\} = S $\n",
    "\n",
    "We see in this case that\n",
    "\n",
    "$$\n",
    "n(A \\cup B) = n(A) + n(B) - n(A \\cap B)\n",
    "$$\n",
    "\n",
    "which for probabilities proportional to number of elements also gives\n",
    "\n",
    "$$\n",
    "P(A \\cup B) = P(A) + P(B) - P(A \\cap B)\n",
    "$$\n"
   ]
  },
  {
   "cell_type": "markdown",
   "metadata": {
    "slideshow": {
     "slide_type": "slide"
    }
   },
   "source": [
    "### Extra useful relationships and definitions:\n",
    "<br>\n",
    "\n",
    "<div style=\"background-color:Gold; margin-left: 20px; margin-right: 20px; padding-bottom: 8px; padding-left: \n",
    "8px; padding-right: 8px; padding-top: 8px; border-radius: 25px;\">\n",
    "**Definition** Complement of an event $E$ (with respect to the sample set $S$) is $P(\\bar{E}) = 1 - P(E)$.\n",
    "<br><br>\n",
    "\n",
    "**Definition:** $E_1$ and $E_2$ are mutually exclusive if $P(E_1 \\cap E_2) = P\\{\\emptyset\\} = 0$\n",
    "<br><br>\n",
    "\n",
    "**Definition** A set of events $E_1, E_2, \\ldots, E_n$ of some experiment are said to be *exhaustive* if $E_1 \\cup E_2 \\cup E_3 \\cup \\ldots \\cup E_n = S$.\n",
    "<br><br>\n",
    "\n",
    "If $E_1$ and $E_2$ are events of the same experiment $P(E_1 \\cup E_2) = P(E_1) + P(E_2) - P(E_1 \\cap E_2)$\n",
    "</div>\n"
   ]
  },
  {
   "cell_type": "markdown",
   "metadata": {
    "slideshow": {
     "slide_type": "slide"
    }
   },
   "source": [
    "\n",
    "### Principles of counting - combinatorials and permutations\n",
    "\n",
    "Suppose two experiments are carried out \n",
    "\n",
    "- experiment 1 can result in any of $m$ outcomes \n",
    "- for each outcome of experiment 1 experiment 2 can have $n$ outcomes \n",
    "- together there are $mn$ outcomes. \n",
    "\n",
    "We can write all possible outcomes as an ordered pair, $(m,n)$.  \n",
    "\n",
    "The $mn$ possible outcomes can be tabulated\n",
    "\n",
    "| | | | |\n",
    "|-|-|-|-|\n",
    "|(1,1)|(1,2) |$\\cdots$|(1,n)|\n",
    "|(2,1)|(2,2) |$\\cdots$|(2,n)|\n",
    "|$\\vdots$|$\\vdots$|$\\vdots$|$\\vdots$|\n",
    "|(m,1)| (m,2) |$\\cdots$|(m,n)|"
   ]
  },
  {
   "cell_type": "markdown",
   "metadata": {
    "slideshow": {
     "slide_type": "subslide"
    }
   },
   "source": [
    "**Example:** 2 balls are randomly drawn from a bowl that contains 6 black and 5 white balls - what is the chance that we draw one black and one white ball?\n",
    "\n",
    "We want to apply\n",
    "$$P(E)=\\frac{\\text{Number of outcomes in } E}{N}$$\n",
    "\n",
    "First calculate $N$ the total number of possible outcomes:\n",
    "\n",
    "- experiment 1, the first ball can be picked in 11 different ways $m = 11$. \n",
    "- experiment 2, for each of the results of experiment 1, we can pick the next ball in one of 10 ways $n$ = 10.\n",
    "- so total number of outcomes possible is $mn$ = 110"
   ]
  },
  {
   "cell_type": "markdown",
   "metadata": {
    "slideshow": {
     "slide_type": "fragment"
    }
   },
   "source": [
    "In set builder notation\n",
    "\n",
    "$B = \\{(x_1,x_2):x_1=1,2...11,x_2=1,2...11,x_2 \\neq x_1\\}$\n",
    "\n",
    "and so if we were to list all the ordered pairs in a table they would be $11*10$\n",
    "\n",
    "$N = n(B) = |B| = 11*10 = 110$"
   ]
  },
  {
   "cell_type": "markdown",
   "metadata": {
    "slideshow": {
     "slide_type": "subslide"
    }
   },
   "source": [
    "Now we have the denominator we need to calculate the number of ways of getting one black and one white ball. Either\n",
    "\n",
    "- the first ball is black, which can occur in 6 ways (m), for each way there are 5 ways the second ball can be white ($n$)\n",
    "- the first ball is white (5 ways,$m$) and the second ball is black (6 ways, $n$)\n",
    "\n",
    "Either of the two ways (or, union of the two events) leads to an event with one black and one white ball so by axiom 3 total number of ways to get one black and one white ball is $5*6 + 6*5 = 60$.\n",
    "\n"
   ]
  },
  {
   "cell_type": "markdown",
   "metadata": {
    "slideshow": {
     "slide_type": "fragment"
    }
   },
   "source": [
    "In set builder notation, we number the balls so that 1 to 6 are white and 7 to 11 are black. The first ball is $x_1$ and second $x_2$\n",
    "\n",
    "$T = \\{(x_1,x_2):x_1 = 1,2,3,4,5,6, x_2 = 7,8,9,10,11\\} \\cup \\{(x_1,x_2):x_1 = 7,8,9,10,11, x_2 = 1,2,3,4,5,6\\}$"
   ]
  },
  {
   "cell_type": "markdown",
   "metadata": {
    "slideshow": {
     "slide_type": "subslide"
    }
   },
   "source": [
    "Therefore\n",
    "\n",
    "$$P(E)=\\frac{\\text{Number of outcomes in } E}{N} = \\frac{5∗6+6∗5}{110}=\\frac{6}{11}$$\n"
   ]
  },
  {
   "cell_type": "markdown",
   "metadata": {
    "slideshow": {
     "slide_type": "fragment"
    }
   },
   "source": [
    "*If there are more than two experiments to be performed then the above rule generalises to $n_1⋅n_2 \\cdot \\cdots \\cdot  n_r$ possible outcomes of r experiments.*\n",
    "\n",
    "So continuing our previous example, how many ways are there to select all the balls from the bowl?\n",
    "\n",
    "In this case there are $11⋅10⋅9 \\cdots 3⋅2⋅1  = 11!$\n",
    "\n",
    "this is known as the factorial function.\n",
    "\n",
    "Lets calculate this just to see how big these numbers get!\n"
   ]
  },
  {
   "cell_type": "code",
   "execution_count": 10,
   "metadata": {
    "collapsed": false,
    "slideshow": {
     "slide_type": "fragment"
    }
   },
   "outputs": [
    {
     "name": "stdout",
     "output_type": "stream",
     "text": [
      "         i      total\n",
      "         1          1\n",
      "         2          2\n",
      "         3          6\n",
      "         4         24\n",
      "         5        120\n",
      "         6        720\n",
      "         7       5040\n",
      "         8      40320\n",
      "         9     362880\n",
      "        10    3628800\n",
      "        11   39916800\n"
     ]
    }
   ],
   "source": [
    "total = 1\n",
    "print(\"{:>10} {:>10}\".format(\"i\",\"total\"))\n",
    "\n",
    "for i in range(1,12):\n",
    "    total = total * i \n",
    "    print(\"{:10d} {:10d}\".format(i,total))"
   ]
  },
  {
   "cell_type": "markdown",
   "metadata": {
    "slideshow": {
     "slide_type": "slide"
    }
   },
   "source": [
    "\n",
    "#### Permutations\n",
    "<br>\n",
    "<div style=\"background-color:Gold; margin-left: 20px; margin-right: 20px; padding-bottom: 8px; padding-left: \n",
    "8px; padding-right: 8px; padding-top: 8px; border-radius: 25px;\">\n",
    "**Fancy Definition:** A permutation is a one-to-one mapping of a set onto itself whilst changing the ordering of the elements. For instance if $A=\\{a,b,c\\}$ a possible permutation would be\n",
    "\n",
    "$$\n",
    "σ=\\left( \n",
    "\\begin{array}{ccc}\n",
    "a & b & c \\\\ \n",
    "c & b & a\n",
    "\\end{array}\n",
    "\\right)\n",
    ".$$\n",
    "Where the permutation sends $a$ to $b$, $b$ to $c$, and $c$ to $a$. \n",
    "\n",
    "\n",
    "</div>\n",
    "\n",
    "<br>\n",
    "\n",
    "<div style=\"background-color:Gold; margin-left: 20px; margin-right: 20px; padding-bottom: 8px; padding-left: \n",
    "8px; padding-right: 8px; padding-top: 8px; border-radius: 25px;\">\n",
    "**Definition:** A full set of permutations is all the ways of arranging some distinguishable objects. Each permutation swaps between two of these ways of arranging them.\n",
    "</div>\n",
    "\n",
    "The number of permutations of $n$ objects can be found from the counting rules to be $n!$, in much the same way as for the ball selection example above.\n"
   ]
  },
  {
   "cell_type": "markdown",
   "metadata": {
    "slideshow": {
     "slide_type": "fragment"
    }
   },
   "source": [
    "#Example\n",
    "\n",
    "Find all permutations of $A = \\{1,2,3\\}$\n",
    "\n",
    "$B = \\{(1,2,3),(1,3,2),(2,1,3),(2,3,1),(3,1,2),(3,2,1)\\}$\n",
    "\n",
    "and\n",
    "\n",
    "$n(B) = 6!$"
   ]
  },
  {
   "cell_type": "markdown",
   "metadata": {
    "slideshow": {
     "slide_type": "slide"
    }
   },
   "source": [
    "#### Combinations\n",
    "\n",
    "<div style=\"background-color:Gold; margin-left: 20px; margin-right: 20px; padding-bottom: 8px; padding-left: \n",
    "8px; padding-right: 8px; padding-top: 8px; border-radius: 25px;\">\n",
    "**Definition:** We define the number of combinations of $r$ objects taken from a set of size $n$, ${n \\choose r}$, for $r≤n$, by\n",
    "$$\n",
    "{n \\choose r}=\\frac{n!}{(n−r)!r!}\n",
    "$$\n",
    "</div>\n",
    "\n",
    "${n \\choose r}$ is the number of combinations of $n$ objects taken $r$ at a time, also referred to as the binomial coefficient. \n",
    "\n",
    "Remember \n",
    "\n",
    "<div style=\"background-color:LightGreen; margin-left: 20px; margin-right: 20px; padding-bottom: 8px; padding-left: \n",
    "8px; padding-right: 8px; padding-top: 8px; border-radius: 25px;\">\n",
    "Binomial theorem\n",
    "\n",
    "$$\n",
    "(x+y)^n = \\Sigma_{i=0}^{n} {n \\choose i} x^iy^{n-i}\n",
    "$$\n",
    "</div>\n",
    "\n",
    "We'll encounter it again several times in the binomial and poisson distributions.\n"
   ]
  },
  {
   "cell_type": "markdown",
   "metadata": {
    "slideshow": {
     "slide_type": "subslide"
    }
   },
   "source": [
    "#### Example:\n",
    "\n",
    "We need to select student representatives for the school - a commitee of 5 people is selected from 8 physicists and 30 mathematicians -\n",
    "\n",
    "a) If we decide we need to have 2 physicists and 3 mathematicians on the commitee, how many possible sets of representatives are there?"
   ]
  },
  {
   "cell_type": "markdown",
   "metadata": {
    "slideshow": {
     "slide_type": "fragment"
    }
   },
   "source": [
    "we have two 'experiments' here \n",
    "\n",
    "- first we choose 2 physicists out of 8 - i.e. ${8 \\choose 2}$ = 28\n",
    "- secondly for each choice of the physicists we can select 3 mathematicians out of 30 - i.e. ${30 \\choose 3}$ = 4060\n",
    "- So in total 28*4060 = 113680 possible commitees of this composition...!\n",
    "\n"
   ]
  },
  {
   "cell_type": "markdown",
   "metadata": {
    "slideshow": {
     "slide_type": "subslide"
    }
   },
   "source": [
    "b) what is the probability of getting a commitee with 4 mathematicians and 1 physicist?\n"
   ]
  },
  {
   "cell_type": "markdown",
   "metadata": {
    "slideshow": {
     "slide_type": "fragment"
    }
   },
   "source": [
    "\n",
    "- The total number of ways of selecting the commitee is ${38 \\choose 5}$ = 501942 \n",
    "- the number of ways of getting 4 mathematicians and 1 physicist is basically the same as part a) above ${30 \\choose 4}⋅{8 \\choose 1}$\n",
    "\n",
    "- So the probability is ${30 \\choose 4}⋅{8 \\choose 1} / {38 \\choose 5} =0.44$."
   ]
  },
  {
   "cell_type": "code",
   "execution_count": 1,
   "metadata": {
    "collapsed": true,
    "slideshow": {
     "slide_type": "slide"
    }
   },
   "outputs": [],
   "source": [
    "# define some useful functions\n",
    "import numpy as np\n",
    "\n",
    "def factorial(n):\n",
    "    '''\n",
    "    calculate n factorial\n",
    "    '''\n",
    "    total = 0\n",
    "    for i in range(0,n+1):\n",
    "        total = total * i \n",
    "        if i == 0 : # 0! is conventionally taken to be 1\n",
    "            total = 1\n",
    "    return total\n",
    "\n",
    "def n_choose_r(n,r):\n",
    "    '''\n",
    "    calculate binomial coefficient\n",
    "    '''\n",
    "    nr = factorial(n)/(factorial(n-r)*factorial(r))\n",
    "    return int(nr)"
   ]
  },
  {
   "cell_type": "code",
   "execution_count": 2,
   "metadata": {
    "collapsed": false,
    "slideshow": {
     "slide_type": "slide"
    }
   },
   "outputs": [
    {
     "name": "stdout",
     "output_type": "stream",
     "text": [
      "28\n",
      "4060\n",
      "113680\n",
      "501942\n",
      "0.437   \n"
     ]
    }
   ],
   "source": [
    "# getting numbers for the example above\n",
    "print(n_choose_r(8,2))\n",
    "print(n_choose_r(30,3))\n",
    "print(28*4060)\n",
    "print(n_choose_r(38,5))\n",
    "print(\"{:<8.3}\".format(float(n_choose_r(30,4))*n_choose_r(8,1)/n_choose_r(38,5)))"
   ]
  },
  {
   "cell_type": "markdown",
   "metadata": {
    "slideshow": {
     "slide_type": "slide"
    }
   },
   "source": [
    "## Infinite, and continous probability spaces\n",
    "\n",
    "everything up to this point deals with probability spaces with a finite sample space. Here we just mention two other cases - when the sample space discrete points, but an infinite number of them (all integers for instance) - or the very common case when the sample space can take on a continous range of values."
   ]
  },
  {
   "cell_type": "markdown",
   "metadata": {
    "slideshow": {
     "slide_type": "slide"
    }
   },
   "source": [
    "### Continous probability spaces\n",
    "\n",
    "Consider a spinner - schematically a circle _of unit circumference_ and a pointer\n",
    "\n",
    "![](../Images/spinner.jpg)\n",
    "\n",
    "this could end up being a model for a [Roulette wheel](https://en.wikipedia.org/wiki/Roulette), for instance. If we give the spinner a whirl, the pointer will be pointing somewhere a distance $x$ along the circumference. It seems reasonable that every value $0 \\leq x \\lt 1$ of the distance between the pointer and the mark on the spinner is equally likely to occur. This means that the sample space is the interval  $S = [0,1)$. We want a probability model where every value of the sample space is equally likely (we'll call the result of a spin $X$ for now, later we'll see that this is a _continuous random variable_).\n",
    "\n",
    "In a similar way to before we must have\n",
    "\n",
    "$$\n",
    "P\\left( 0\\leq X \\lt 1 \\right) = 1.\n",
    "$$\n",
    "\n",
    "It is also the case that we expect the probability of a reading in the top half of the spinner is equal in likelihood to one in the lower half,\n",
    "\n",
    "$$\n",
    "P\\left( 0\\leq X \\lt \\frac{1}{2} \\right) = P\\left( \\frac{1}{2} \\leq X \\lt 1 \\right) = \\frac{1}{2}.\n",
    "$$\n",
    "\n",
    "More generally, if we consider an event, $E = [a,b] $, we'd like\n",
    "\n",
    "$$\n",
    "P\\left( a\\leq X \\lt b \\right) = b - a\n",
    "$$\n",
    "\n",
    "\n",
    "for every $a$ and $b$."
   ]
  },
  {
   "cell_type": "markdown",
   "metadata": {
    "slideshow": {
     "slide_type": "slide"
    }
   },
   "source": [
    "We can satisfy\n",
    "\n",
    "$$\n",
    "P\\left( a\\leq X \\lt b \\right) = b - a\n",
    "$$\n",
    "\n",
    "for every $a$ and $b$ for the event $E = [a,b]$ by a formula of the form\n",
    "\n",
    "$$\n",
    "P(E) = \\int_{E} f(x) \\mathrm{d}x,\n",
    "$$\n",
    "\n",
    "and $f(x)$ is the constant function with value 1. \n",
    "\n",
    "We call $f(x)$ the _density function_ of $X$. \n",
    "\n",
    "This is the generalisation of the discrete case we saw earlier:\n",
    "\n",
    "$$\n",
    "P(E) = \\sum_{i \\in E} P(i).\n",
    "$$"
   ]
  },
  {
   "cell_type": "markdown",
   "metadata": {
    "slideshow": {
     "slide_type": "slide"
    }
   },
   "source": [
    "# Summary\n",
    "\n",
    "- Sample space, outcomes, events and probability distribution.\n",
    "- Axiomatic definition of probability\n",
    "- Set operations for manipulating probabilities\n",
    "- Counting rules\n",
    "- Combinatorials"
   ]
  }
 ],
 "metadata": {
  "anaconda-cloud": {},
  "celltoolbar": "Slideshow",
  "kernelspec": {
   "display_name": "Python [default]",
   "language": "python",
   "name": "python3"
  },
  "language_info": {
   "codemirror_mode": {
    "name": "ipython",
    "version": 3
   },
   "file_extension": ".py",
   "mimetype": "text/x-python",
   "name": "python",
   "nbconvert_exporter": "python",
   "pygments_lexer": "ipython3",
   "version": "3.5.2"
  }
 },
 "nbformat": 4,
 "nbformat_minor": 0
}
