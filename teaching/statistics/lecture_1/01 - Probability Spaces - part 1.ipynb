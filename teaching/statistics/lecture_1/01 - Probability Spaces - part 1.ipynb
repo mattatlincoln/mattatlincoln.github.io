{
 "cells": [
  {
   "cell_type": "code",
   "execution_count": 9,
   "metadata": {
    "collapsed": true,
    "slideshow": {
     "slide_type": "skip"
    }
   },
   "outputs": [],
   "source": [
    "# Slides for Probability and Statistics module, 2015-2016\n",
    "# Matt Watkins, University of Lincoln"
   ]
  },
  {
   "cell_type": "markdown",
   "metadata": {
    "slideshow": {
     "slide_type": "slide"
    }
   },
   "source": [
    "# Probability spaces\n",
    "\n",
    "This introduces the axioms of probability and connects them to counting problems - including combinatorials and permutations.\n",
    "\n",
    "Learning outcomes: \n",
    "\n",
    "<div style=\"background-color:Gold; margin-left: 20px; margin-right: 20px; padding-bottom: 8px; padding-left: \n",
    "8px; padding-right: 8px; padding-top: 8px; border-radius: 25px;\">\n",
    "<li>sample spaces</li>\n",
    "<li>outcomes</li>\n",
    "<li> events</li>\n",
    "<li> frequentist paradigm of probability (but be aware there are others)</li>\n",
    "<li> the axioms of probability</li>\n",
    "<li> calculate the probabilities of events occuring in simple sample spaces with equally likely outcomes.</li>\n",
    "</div>\n",
    "\n"
   ]
  },
  {
   "cell_type": "markdown",
   "metadata": {
    "slideshow": {
     "slide_type": "slide"
    }
   },
   "source": [
    "\n",
    "**What is a probability?**\n",
    "\n",
    "Two main points of view\n",
    "\n",
    "<div style=\"background-color:Gold; margin-left: 20px; margin-right: 20px; padding-bottom: 8px; padding-left: \n",
    "8px; padding-right: 8px; padding-top: 8px; border-radius: 25px;\">\n",
    "\n",
    "Frequentist\n",
    "\n",
    "repeated experiments ($N$ experiments) and counting the number of times something $A$ occurs ($N_A$)\n",
    "\n",
    "$$\n",
    "P(A)=p=\\lim_{N \\to \\infty} \\frac{N_A}{N}\n",
    "$$\n",
    "</div>"
   ]
  },
  {
   "cell_type": "markdown",
   "metadata": {
    "slideshow": {
     "slide_type": "fragment"
    }
   },
   "source": [
    "belief based (Bayseian)\n",
    "\n",
    "<div style=\"background-color:Gold; margin-left: 20px; margin-right: 20px; padding-bottom: 8px; padding-left: \n",
    "8px; padding-right: 8px; padding-top: 8px; border-radius: 25px;\">\n",
    "\n",
    "Many things can be described by a probablility, but it is not possible to repeat the process many times and sample how often the event occurs:\n",
    "<br><br>\n",
    "\"I'm 90% sure that is a bad idea\"\n",
    "<br>\n",
    "\"I'm fairly confident the world won't end today\"\n",
    "</div>"
   ]
  },
  {
   "cell_type": "markdown",
   "metadata": {
    "slideshow": {
     "slide_type": "subslide"
    }
   },
   "source": [
    "[Interpretation can vary](http://mathwithbaddrawings.com/2015/09/23/what-does-probability-mean-in-your-profession/).\n",
    "\n",
    "![](https://mathwithbaddrawings.files.wordpress.com/2015/09/20150921070718_00001.jpg?w=584&h=327)"
   ]
  },
  {
   "cell_type": "markdown",
   "metadata": {
    "slideshow": {
     "slide_type": "subslide"
    }
   },
   "source": [
    "![](https://mathwithbaddrawings.files.wordpress.com/2015/09/20150921070718_00003.jpg?w=584&h=398)"
   ]
  },
  {
   "cell_type": "markdown",
   "metadata": {
    "slideshow": {
     "slide_type": "subslide"
    }
   },
   "source": [
    "![](https://mathwithbaddrawings.files.wordpress.com/2015/09/20150921070718_00002.jpg?w=584&h=370)"
   ]
  },
  {
   "cell_type": "markdown",
   "metadata": {
    "slideshow": {
     "slide_type": "subslide"
    }
   },
   "source": [
    "![](https://mathwithbaddrawings.files.wordpress.com/2015/09/20150921070718_00008.jpg?w=584&h=329)"
   ]
  },
  {
   "cell_type": "markdown",
   "metadata": {
    "slideshow": {
     "slide_type": "fragment"
    }
   },
   "source": [
    "independence of outcomes, and conditional probabilities - next week"
   ]
  },
  {
   "cell_type": "markdown",
   "metadata": {
    "slideshow": {
     "slide_type": "slide"
    }
   },
   "source": [
    "\n",
    "## Properties of probabilities\n",
    "\n",
    "Modern probability theory is based on an ([Kolmogorov](https://en.wikipedia.org/wiki/Andrey_Kolmogorov)) axiomatic description of the properties of probability. \n",
    "\n",
    "<img src=\"https://upload.wikimedia.org/wikipedia/commons/thumb/4/43/Andrej_Nikolajewitsch_Kolmogorov.jpg/220px-Andrej_Nikolajewitsch_Kolmogorov.jpg\">\n",
    "\n",
    "Other definitions have been put forward, but for standard situations, they lead to the same behaviour that we'll discuss now."
   ]
  },
  {
   "cell_type": "markdown",
   "metadata": {
    "slideshow": {
     "slide_type": "slide"
    }
   },
   "source": [
    "### Sample spaces, outcomes and events\n",
    "\n",
    "<div style=\"background-color:Gold; margin-left: 20px; margin-right: 20px; padding-bottom: 8px; padding-left: \n",
    "8px; padding-right: 8px; padding-top: 8px; border-radius: 25px;\">\n",
    "Definition: the sample space is the set containing all possible outcomes of an experiment.\n",
    "</div>\n",
    "\n",
    "Here an experiment is something that we can do in a (fairly) controlled way, doesn't have to be"
   ]
  },
  {
   "cell_type": "markdown",
   "metadata": {
    "slideshow": {
     "slide_type": "fragment"
    }
   },
   "source": [
    "<img src=\"https://encrypted-tbn1.gstatic.com/images?q=tbn:ANd9GcRhqepGNLS9Hm24ETilJ0LBZDw8a42ufarxkieNttpcnbytB5Iy\">\n",
    "\n",
    "**Example** What is the sample space of tossing a coin?"
   ]
  },
  {
   "cell_type": "markdown",
   "metadata": {
    "slideshow": {
     "slide_type": "fragment"
    }
   },
   "source": [
    "We'll express our sample space using set notation\n",
    "\n",
    "$S=\\{ H, T \\}$\n",
    "\n",
    "i.e. there are two possible outcomes - either a Head or a Tail.\n",
    "\n",
    "Note that sample spaces are not unique, sometimes there will be more than one way to break down and list the possible outcomes."
   ]
  },
  {
   "cell_type": "markdown",
   "metadata": {
    "slideshow": {
     "slide_type": "slide"
    }
   },
   "source": [
    "**Example:** An 'experiment' consists of flipping two coins? Give two possible sample spaces."
   ]
  },
  {
   "cell_type": "markdown",
   "metadata": {
    "slideshow": {
     "slide_type": "fragment"
    }
   },
   "source": [
    "Define a single coin flip $F = \\{H, T\\}$.\n",
    "\n",
    "Then we have \n",
    "\n",
    "$S=\\{ F \\times F  \\} = \\{(H,H),(H,T),(T,H),(H,H)\\}$"
   ]
  },
  {
   "cell_type": "markdown",
   "metadata": {
    "slideshow": {
     "slide_type": "fragment"
    }
   },
   "source": [
    "Alternatively, we could have three outcomes - 0 heads come up between the two flips, 1 head or 2 heads\n",
    "\n",
    "$$\n",
    "S = \\{0,1,2\\}\n",
    "$$\n",
    "\n",
    "Now our element $\\{0\\}$ is identical to $\\{T,T\\}$ previously. \n",
    "\n",
    "But $\\{1\\} = \\{(H,T),(T,H)\\}$"
   ]
  },
  {
   "cell_type": "markdown",
   "metadata": {
    "slideshow": {
     "slide_type": "slide"
    }
   },
   "source": [
    "#### Outcomes\n",
    "\n",
    "<div style=\"background-color:Gold; margin-left: 20px; margin-right: 20px; padding-bottom: 8px; padding-left: \n",
    "8px; padding-right: 8px; padding-top: 8px; border-radius: 25px;\">\n",
    "**Definition:** Outcomes are the individual elementary elements of the sample space.\n",
    "</div>\n",
    "    \n",
    "(If the sample space is finite, or countably infinite, it will correspond to a *discrete* random variable.)"
   ]
  },
  {
   "cell_type": "markdown",
   "metadata": {
    "slideshow": {
     "slide_type": "fragment"
    }
   },
   "source": [
    "**Example** A die is rolled once. We let $X$ be the outcome of the experiment. The sample space for the experiment is the 6-element set\n",
    "\n",
    "$$\n",
    "S = \\{1,2,3,4,5,6  \\},\n",
    "$$\n",
    "\n",
    "and each outcome $i$, for $i = 1 \\ldots  6$, corresponds to the number of dots on the face that faces up."
   ]
  },
  {
   "cell_type": "markdown",
   "metadata": {
    "slideshow": {
     "slide_type": "slide"
    }
   },
   "source": [
    "### Events\n",
    "\n",
    "<div style=\"background-color:Gold; margin-left: 20px; margin-right: 20px; padding-bottom: 8px; padding-left: \n",
    "8px; padding-right: 8px; padding-top: 8px; border-radius: 25px;\">\n",
    "**Definition:** an event is any subset, $E$, of the sample space, $S$. $E \\subset A$\n",
    "</div>\n",
    "\n",
    "(Set $A$ is a subset of set $B$, $A \\subseteq B$,  if all of the members of $A$ are also contained in $B$)"
   ]
  },
  {
   "cell_type": "markdown",
   "metadata": {
    "slideshow": {
     "slide_type": "fragment"
    }
   },
   "source": [
    "**Example** what is the event, $E$, corresponding to a die coming up with an even number?"
   ]
  },
  {
   "cell_type": "markdown",
   "metadata": {
    "slideshow": {
     "slide_type": "fragment"
    }
   },
   "source": [
    "$$\n",
    "E = \\{2,4,6\\}\n",
    "$$"
   ]
  },
  {
   "cell_type": "markdown",
   "metadata": {
    "slideshow": {
     "slide_type": "subslide"
    }
   },
   "source": [
    "**Example:** Consider a road race with the runners labelled 1 to 4.\n",
    "\n",
    "What is the event $A$ that runner 1 won the race?"
   ]
  },
  {
   "cell_type": "markdown",
   "metadata": {
    "slideshow": {
     "slide_type": "fragment"
    }
   },
   "source": [
    "$S = \\{\\text{all orderings of (1,2,3,4)} \\} = \\{(x_1,x_2,x_3,x_4:x_i = 1,2,3,4,x_i \\neq x_j)\\}$  \n",
    "\n",
    "$A = {1234, 1243, 1324, 1342, 1423, 1432} = {\\text{all ordering of (1234) beginning with 1}} = \\{(x_1,x_2,x_3,x_4:x_1 = 1, x_i = 2,3,4, x_i \\neq x_j)\\}$  \n",
    "\n",
    "note that $A \\subset S$"
   ]
  },
  {
   "cell_type": "markdown",
   "metadata": {
    "slideshow": {
     "slide_type": "fragment"
    }
   },
   "source": [
    "What is the event $B$ that runner 2 lost the race?\n",
    "\n",
    "\n"
   ]
  },
  {
   "cell_type": "markdown",
   "metadata": {
    "slideshow": {
     "slide_type": "fragment"
    }
   },
   "source": [
    "$B = {1342,1432,3142,3412,4132,4312} = {\\text{all ordering of (1234) ending with 2}} =\\{(x_1,x_2,x_3,x_4:x_4 = 2, x_i = 2,3,4, x_i \\neq x_j)\\}$ \n",
    "\n",
    "note again that $B \\subset S$"
   ]
  },
  {
   "cell_type": "markdown",
   "metadata": {
    "slideshow": {
     "slide_type": "slide"
    }
   },
   "source": [
    "#### Set theory\n",
    "\n",
    "Looking ahead.\n",
    "\n",
    "Our events are sets.\n",
    "\n",
    "We can apply results from set theory. \n",
    "<br>\n",
    "<div style=\"background-color:Gold; margin-left: 20px; margin-right: 20px; padding-bottom: 8px; padding-left: \n",
    "8px; padding-right: 8px; padding-top: 8px; border-radius: 25px;\">\n",
    "The event $E_A$ or $E_B$ has occured is denoted $E_A \\cup E_B$, called the union of $E_A$ and $E_B$, and is composed of the outcomes that are in either $E_A$ or $E_B$.\n",
    "<br><br>\n",
    "The event that $E_A$ and $E_B$ has occured is denoted $E_A \\cap E_B$, called the intersection of $E_A$ and $E_B$, and is composed of the outcomes that are in both $E_A$ and $E_B$.\n",
    "</div>"
   ]
  },
  {
   "cell_type": "markdown",
   "metadata": {
    "slideshow": {
     "slide_type": "fragment"
    }
   },
   "source": [
    "**Example** - Four runners are racing. What is the event, $A$, that runner 1 was first and runner 2 was last?\n",
    "\n",
    "Define $E_1$ the event that the first runner won the race $E_1 = \\{1234, 1243, 1324, 1342, 1423, 1432\\}$ and\n",
    "$E_2$ the event that the second runner lost the race $E_2 = \\{1342,1432,3142,3412,4132,4312\\}$\n",
    "\n",
    "$A$ is given by the intersection of $E_A$ and $E_B$, so outcomes that are in $E_1$ *and* $E_2$\n",
    "\n",
    "\\begin{align}\n",
    "E_1 \\cap E_2 = & \\{1234, 1243, 1324, 1342, 1423, 1432\\} \\cap \\{1342,1432,3142,3412,4132,4312\\} \\\\\n",
    "             = &\\ \\{1342,1432\\} \n",
    "\\end{align}"
   ]
  },
  {
   "cell_type": "markdown",
   "metadata": {
    "slideshow": {
     "slide_type": "slide"
    }
   },
   "source": [
    "\n",
    "### Axioms of Probability\n",
    "\n",
    "The axiomatic definitions of probabilities look like this:\n",
    "\n",
    "We suppose that for each event $E$ of an experiment with sample space $S$ there is a number $P(E)$, which is in accord with the following three axioms:"
   ]
  },
  {
   "cell_type": "markdown",
   "metadata": {
    "slideshow": {
     "slide_type": "fragment"
    }
   },
   "source": [
    "<div style=\"background-color:Gold; margin-left: 20px; margin-right: 20px; padding-bottom: 8px; padding-left: \n",
    "8px; padding-right: 8px; padding-top: 8px; border-radius: 25px;\">\n",
    "Axiom 1 - The probability that an event will come from the sample space is unity\n",
    "$$P(S)=1$$\n",
    "</div>"
   ]
  },
  {
   "cell_type": "markdown",
   "metadata": {
    "slideshow": {
     "slide_type": "fragment"
    }
   },
   "source": [
    "<div style=\"background-color:Gold; margin-left: 20px; margin-right: 20px; padding-bottom: 8px; padding-left: \n",
    "8px; padding-right: 8px; padding-top: 8px; border-radius: 25px;\">\n",
    "Axiom 2 \n",
    "$$P(A) \\geq 1 \\text{  for all  } A \\subset S$$\n",
    "</div>"
   ]
  },
  {
   "cell_type": "markdown",
   "metadata": {
    "slideshow": {
     "slide_type": "fragment"
    }
   },
   "source": [
    "<div style=\"background-color:Gold; margin-left: 20px; margin-right: 20px; padding-bottom: 8px; padding-left: \n",
    "8px; padding-right: 8px; padding-top: 8px; border-radius: 25px;\">\n",
    "Axiom 3\n",
    "$$\n",
    "P(A \\cup B) = P(A) + P(B) \\text{    if    } A \\cap B = \\emptyset\n",
    "$$\n",
    "</div>"
   ]
  },
  {
   "cell_type": "markdown",
   "metadata": {
    "slideshow": {
     "slide_type": "fragment"
    }
   },
   "source": [
    "We call a function $P(A)$ the probability of event $A$ if these axioms hold."
   ]
  },
  {
   "cell_type": "markdown",
   "metadata": {
    "slideshow": {
     "slide_type": "subslide"
    }
   },
   "source": [
    "*Note* we are using 'intuition' or 'physical insight' or some other magic to decide the probabilities of the individual outcomes! There is no general way to do it for a given problem. We use every piece of information available to us, then compare it to reality if we are aiming to represent the real world with the probability distribution."
   ]
  },
  {
   "cell_type": "markdown",
   "metadata": {
    "slideshow": {
     "slide_type": "slide"
    }
   },
   "source": [
    "\n",
    "#### Sample spaces with equally likely outcomes\n",
    "\n",
    "Often we can reasonably assume that each outcome of an experiment is equally likely - rolling a fair die, for instance. Or mathematically if the sample space $S$ is a finite set $S=\\{1,2,...,N\\}$ it is often natural to assume that\n",
    "\n",
    "$$P(\\{1\\})=P(\\{2\\})=⋯=P(\\{N\\})=p$$\n",
    "\n",
    "Now it follows from axioms 2 and 3 that\n",
    "\n",
    "$$1=P(S)=P(\\{1\\})+P(\\{2\\})+⋯+P(\\{N\\})=Np$$\n",
    "\n",
    "It then follows from axiom 3 that for any event $E \\subset S$ its probability will be given by the number of elementary outcomes in $E$\n",
    "\n",
    "$$P(E)=\\frac{\\text{Number of outcomes in } E}{ N}$$\n",
    "\n",
    "This means that to determine probabilities we need to count the number of ways in which a given event can occur."
   ]
  },
  {
   "cell_type": "markdown",
   "metadata": {
    "slideshow": {
     "slide_type": "slide"
    }
   },
   "source": [
    "#### Sample spaces with nonequally likely outcomes\n",
    "\n",
    "In the more general case, we need to assign specific probabilities to the elementary outcomes, $P(\\omega)$, so that\n",
    "\n",
    "$$1=P(S)=P(\\{1\\})+P(\\{2\\})+⋯+P(\\{N\\})$$\n",
    "\n",
    "in order to satify axiom 2.\n",
    "\n",
    "It then follows from axiom 3 that for any event $E \\subset S$ its probability will be given by \n",
    "\n",
    "$$P(E)= \\sum \\limits_{\\omega \\in E} P(\\omega) $$\n",
    "\n",
    "This means that to determine probabilities we need to count the number of ways in which a given event can occur.\n"
   ]
  },
  {
   "cell_type": "markdown",
   "metadata": {
    "slideshow": {
     "slide_type": "fragment"
    }
   },
   "source": [
    "**Example** Experiment consists of throwing a coin twice - as we saw we can assign the sample space in two ways:  \n",
    "\n",
    "either\n",
    "\n",
    "$$\n",
    "S_1 = \\{HH, HT, TH, TT  \\}\n",
    "$$\n",
    "\n",
    "with\n",
    "\n",
    "$$\n",
    "P(HH) = \\frac{1}{4}, P(HT)=\\frac{1}{4}, P(TH)=\\frac{1}{4},P(TT)=\\frac{1}{4}\n",
    "$$\n",
    "\n",
    "or \n",
    "\n",
    "$$\n",
    "S_2 = \\{0,1,2\\}.\n",
    "$$\n",
    "\n",
    "In the later case we take the number of times a head appears as our outcomes. \n",
    "\n",
    "In the case of $S_2$ the probabilities of the individual outcomes are *not* equal - there are twice as many ways of getting the outcome 1 head ($\\{(H,T),(T,H)\\}$) as there are of getting 0 $(\\{(T,T)\\})$ or 2 $(\\{(H,H)\\})$. \n",
    "\n",
    "So, it makes sense to have\n",
    "\n",
    "$$\n",
    "P(0) = \\frac{1}{4}, P(1)=\\frac{1}{2}, P(2)=\\frac{1}{4}\n",
    "$$\n"
   ]
  },
  {
   "cell_type": "markdown",
   "metadata": {
    "slideshow": {
     "slide_type": "slide"
    }
   },
   "source": [
    "# Summary\n",
    "\n",
    "- The probability of any event can be decided once we have the *probability function*, $P(\\omega)$, for our experiment. \n",
    "\n",
    "- The probability function is the function $P(\\omega)$, where the $\\omega$ are the elementary outcomes of the experiment. \n",
    "\n",
    "- It has domain $S$.\n",
    "\n",
    "- It obeys the axioms of probability.\n",
    "\n",
    "- The actual probabilities are assigned based on some model, they are outside the idealised mathematical model.\n",
    "\n",
    "- We will demonstrate that the interpretation of $P(E)$ as the relative frequency of the event $E$ when the experiment is repeated many times is consistent with the axioms. \n",
    "\n",
    "- Belief based interpretations can also satisfy these requirements."
   ]
  },
  {
   "cell_type": "markdown",
   "metadata": {
    "slideshow": {
     "slide_type": "fragment"
    }
   },
   "source": [
    "Warning: notations are not totally standard in probability theory. I'll use what I think is the closest to standard, and should allow you to read most works on probability.\n",
    "\n",
    "[Grinstead and Snell](https://math.dartmouth.edu/~prob/prob/prob.pdf) for instance, has some nice sections. But uses a slightly different notation. They call the sample space $\\Omega$, the individual outcomes $\\omega_i$ and call the probability function $m(\\omega)$."
   ]
  },
  {
   "cell_type": "markdown",
   "metadata": {
    "slideshow": {
     "slide_type": "slide"
    }
   },
   "source": [
    "# Interlude\n",
    "\n",
    "you can have a think about this:\n",
    "<br>\n",
    "<div style=\"background-color:LightBlue; margin-left: 20px; margin-right: 20px; padding-bottom: 8px; padding-left: \n",
    "8px; padding-right: 8px; padding-top: 8px; border-radius: 25px;\">\n",
    "A die is rolled, and we imagine a sample space $S = \\{1,2,3,4,5,6\\}$.\n",
    "<br><br>\n",
    "For a fair die, each outcome can be argued to be equally likely. We can deduce the probability $p$ of the outcomes as\n",
    "\n",
    "$$1=P(S)=P(\\{1\\})+P(\\{2\\})+⋯+P(\\{6\\})=6p$$\n",
    "\n",
    "which implies that $p = \\frac{1}{6}$, as you'd expect.\n",
    "<br><br>\n",
    "Define two events,\n",
    "<li> $A$, \"the roll is less than 5\", so $A = \\{1,2,3,4\\} $</li>\n",
    "<li> $B$, \"the roll is more than 2\", so $B = \\{3,4,5,6\\} $</li>\n",
    "<br>\n",
    "The number of elements in $A$ is $n(A)=n(b)=4$. \n",
    "<br>\n",
    "So $P(A) = n(A)*p = 4*1/6$ and $P(B) = n(B)*p = 4*1/6$\n",
    "<br><br>\n",
    "What is the probability of $A \\cup B$. In words what is the probability that either \"the dice roll is less than 5\" or \"the die roll is more than 2\"?\n",
    "</div>"
   ]
  }
 ],
 "metadata": {
  "anaconda-cloud": {},
  "celltoolbar": "Slideshow",
  "kernelspec": {
   "display_name": "Python 3",
   "language": "python",
   "name": "python3"
  },
  "language_info": {
   "codemirror_mode": {
    "name": "ipython",
    "version": 3
   },
   "file_extension": ".py",
   "mimetype": "text/x-python",
   "name": "python",
   "nbconvert_exporter": "python",
   "pygments_lexer": "ipython3",
   "version": "3.5.3"
  }
 },
 "nbformat": 4,
 "nbformat_minor": 1
}
