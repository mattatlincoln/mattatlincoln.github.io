{
 "cells": [
  {
   "cell_type": "code",
   "execution_count": 1,
   "metadata": {
    "collapsed": true,
    "slideshow": {
     "slide_type": "skip"
    }
   },
   "outputs": [],
   "source": [
    "# Slides for Probability and Statistics module, 2016-2017\n",
    "# Matt Watkins, University of Lincoln"
   ]
  },
  {
   "cell_type": "code",
   "execution_count": 2,
   "metadata": {
    "collapsed": true,
    "slideshow": {
     "slide_type": "skip"
    }
   },
   "outputs": [],
   "source": [
    "from IPython.display import YouTubeVideo\n",
    "from datetime import timedelta\n",
    "from IPython.display import IFrame"
   ]
  },
  {
   "cell_type": "code",
   "execution_count": 3,
   "metadata": {
    "collapsed": true
   },
   "outputs": [],
   "source": [
    "src=\"https://books.google.com/ngrams/interactive_chart?content=Probability%2C+Statistics&case_insensitive=on&year_start=1800&year_end=2000&corpus=15&smoothing=3&share=&direct_url=t4%3B%2CProbability%3B%2Cc0%3B%2Cs0%3B%3Bprobability%3B%2Cc0%3B%3BProbability%3B%2Cc0%3B.t4%3B%2CStatistics%3B%2Cc0%3B%2Cs0%3B%3Bstatistics%3B%2Cc0%3B%3BStatistics%3B%2Cc0%3B%3BSTATISTICS%3B%2Cc0\" "
   ]
  },
  {
   "cell_type": "markdown",
   "metadata": {
    "slideshow": {
     "slide_type": "slide"
    }
   },
   "source": [
    "# Odds and ends\n",
    "\n",
    "\n",
    "What are probabilities?"
   ]
  },
  {
   "cell_type": "markdown",
   "metadata": {
    "slideshow": {
     "slide_type": "subslide"
    }
   },
   "source": [
    "![](../Images/probmean1.jpg)\n"
   ]
  },
  {
   "cell_type": "markdown",
   "metadata": {
    "slideshow": {
     "slide_type": "subslide"
    }
   },
   "source": [
    "![](../Images/probmean2.jpg)\n"
   ]
  },
  {
   "cell_type": "markdown",
   "metadata": {
    "slideshow": {
     "slide_type": "subslide"
    }
   },
   "source": [
    "![](../Images/probmean3.jpg)"
   ]
  },
  {
   "cell_type": "markdown",
   "metadata": {
    "slideshow": {
     "slide_type": "slide"
    }
   },
   "source": [
    "https://boingboing.net/2012/10/31/what-nate-silver-is-actually-t.html  \n",
    "http://www.salon.com/2012/10/31/in_defense_of_nate_silver_and_basic_math/"
   ]
  },
  {
   "cell_type": "markdown",
   "metadata": {
    "slideshow": {
     "slide_type": "slide"
    }
   },
   "source": [
    "# What are statistics?\n",
    "\n",
    "looks a bit like the word state?\n",
    "\n",
    "As in nation state\n",
    "\n",
    "So it was information the government collected to help decide policy etc...\n",
    "\n",
    "[Etymology](https://en.wikipedia.org/wiki/History_of_statistics#Etymology)\n",
    "\n",
    "The Italian word statista translates as \"statesman\" or \"politician\"!\n"
   ]
  },
  {
   "cell_type": "code",
   "execution_count": 4,
   "metadata": {
    "slideshow": {
     "slide_type": "slide"
    }
   },
   "outputs": [
    {
     "data": {
      "text/html": [
       "\n",
       "        <iframe\n",
       "            width=\"600\"\n",
       "            height=\"350\"\n",
       "            src=\"https://books.google.com/ngrams/interactive_chart?content=Probability%2C+Statistics&case_insensitive=on&year_start=1800&year_end=2000&corpus=15&smoothing=3&share=&direct_url=t4%3B%2CProbability%3B%2Cc0%3B%2Cs0%3B%3Bprobability%3B%2Cc0%3B%3BProbability%3B%2Cc0%3B.t4%3B%2CStatistics%3B%2Cc0%3B%2Cs0%3B%3Bstatistics%3B%2Cc0%3B%3BStatistics%3B%2Cc0%3B%3BSTATISTICS%3B%2Cc0\"\n",
       "            frameborder=\"0\"\n",
       "            allowfullscreen\n",
       "        ></iframe>\n",
       "        "
      ],
      "text/plain": [
       "<IPython.lib.display.IFrame at 0x209407814e0>"
      ]
     },
     "execution_count": 4,
     "metadata": {},
     "output_type": "execute_result"
    }
   ],
   "source": [
    "IFrame(src=src, width=600, height=350)"
   ]
  },
  {
   "cell_type": "markdown",
   "metadata": {
    "slideshow": {
     "slide_type": "slide"
    }
   },
   "source": [
    "# Misunderstanding of statistics\n",
    "\n",
    "Abraham Wald worked in the 'Statistical Research Group' or the 'Applied Mathematics Panel' during the Second World War. \n",
    "\n",
    "He'd just arrived in America after having leaving Europe in a hurry.\n",
    "\n",
    "![](https://upload.wikimedia.org/wikipedia/en/thumb/0/05/Abraham_Wald_in_his_youth.jpg/220px-Abraham_Wald_in_his_youth.jpg)\n",
    "\n",
    "Researchers at the Center for Naval Analyses had conducted a study of the damage done to aircraft that had returned from missions.\n",
    "\n",
    "- **Their recommendation was that armor be added to the areas that showed the most damage.**\n"
   ]
  },
  {
   "cell_type": "markdown",
   "metadata": {
    "slideshow": {
     "slide_type": "fragment"
    }
   },
   "source": [
    "\n",
    "![](http://youarenotsosmart.files.wordpress.com/2013/05/bomberhit.gif?w=940)"
   ]
  },
  {
   "cell_type": "markdown",
   "metadata": {
    "slideshow": {
     "slide_type": "subslide"
    }
   },
   "source": [
    "Abraham Wald worked in the 'Statistical Research Group' or the 'Applied Mathematics Panel' during the Second World War. \n",
    "​\n",
    "He'd just arrived in America after having leaving Europe in a hurry.\n",
    "​\n",
    "![](https://upload.wikimedia.org/wikipedia/en/thumb/0/05/Abraham_Wald_in_his_youth.jpg/220px-Abraham_Wald_in_his_youth.jpg)\n",
    "​\n",
    "Researchers at the Center for Naval Analyses had conducted a study of the damage done to aircraft that had returned from missions.\n",
    "​\n",
    "- **Their recommendation was that armor be added to the areas that showed the most damage.**\n",
    "​\n"
   ]
  },
  {
   "cell_type": "markdown",
   "metadata": {
    "slideshow": {
     "slide_type": "subslide"
    }
   },
   "source": [
    ">At the beginning of WWI, the uniform of the British soldiers included a\n",
    "cloth cap, but no helmet. As the war progressed the British War office\n",
    "became alarmed at the number of head injuries. It was decided to replace\n",
    "the cloth headgear with metal helmets.\n",
    "<br><br>\n",
    "However, the War Office was amazed to discover that the incident of head\n",
    "injuries increased. It can be assumed that the intensity of fighting\n",
    "remained the same, so why should the number of recorded head injuries per\n",
    "battalion increase when the men wore helmets instead of cloth caps?\n"
   ]
  },
  {
   "cell_type": "code",
   "execution_count": 5,
   "metadata": {
    "slideshow": {
     "slide_type": "subslide"
    }
   },
   "outputs": [
    {
     "data": {
      "image/jpeg": "[encoded data removed]",
      "text/html": [
       "\n",
       "        <iframe\n",
       "            width=\"400\"\n",
       "            height=\"300\"\n",
       "            src=\"https://www.youtube.com/embed/1IQE0uZUMys?start=147\"\n",
       "            frameborder=\"0\"\n",
       "            allowfullscreen\n",
       "        ></iframe>\n",
       "        "
      ],
      "text/plain": [
       "<IPython.lib.display.YouTubeVideo at 0x209407819b0>"
      ]
     },
     "execution_count": 5,
     "metadata": {},
     "output_type": "execute_result"
    }
   ],
   "source": [
    "start=int(timedelta(hours=0, minutes=2, seconds=27).total_seconds())\n",
    "YouTubeVideo(\"1IQE0uZUMys\",start=start)"
   ]
  },
  {
   "cell_type": "markdown",
   "metadata": {
    "slideshow": {
     "slide_type": "subslide"
    }
   },
   "source": [
    "### Sample spaces, outcomes and events\n",
    "\n",
    "Definition: the sample space is the set containing all possible outcomes of an experiment.\n",
    "\n",
    "Here an experiment is something that we can do in a (fairly) controlled way, doesn't have to be\n",
    "\n",
    "![](../Images/mad-scientist-movie1.jpg)"
   ]
  },
  {
   "cell_type": "markdown",
   "metadata": {
    "slideshow": {
     "slide_type": "subslide"
    }
   },
   "source": [
    "What is the sample space of tossing a coin?\n",
    "\n",
    "S={ H, T }\n",
    "\n",
    "i.e. there are two possible outcomes - either a Head or a Tail."
   ]
  },
  {
   "cell_type": "markdown",
   "metadata": {
    "slideshow": {
     "slide_type": "fragment"
    }
   },
   "source": [
    "What is that curly thing? Set generator."
   ]
  }
 ],
 "metadata": {
  "celltoolbar": "Slideshow",
  "kernelspec": {
   "display_name": "Python 3",
   "language": "python",
   "name": "python3"
  },
  "language_info": {
   "codemirror_mode": {
    "name": "ipython",
    "version": 3
   },
   "file_extension": ".py",
   "mimetype": "text/x-python",
   "name": "python",
   "nbconvert_exporter": "python",
   "pygments_lexer": "ipython3",
   "version": "3.5.3"
  }
 },
 "nbformat": 4,
 "nbformat_minor": 1
}
