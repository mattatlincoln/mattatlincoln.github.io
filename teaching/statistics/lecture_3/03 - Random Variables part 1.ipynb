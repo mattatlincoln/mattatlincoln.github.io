{
 "cells": [
  {
   "cell_type": "code",
   "execution_count": 1,
   "metadata": {
    "collapsed": true,
    "slideshow": {
     "slide_type": "skip"
    }
   },
   "outputs": [],
   "source": [
    "# Slides for Probability and Statistics module, 2016-2017\n",
    "# Matt Watkins, University of Lincoln"
   ]
  },
  {
   "cell_type": "markdown",
   "metadata": {
    "slideshow": {
     "slide_type": "slide"
    }
   },
   "source": [
    "# Random Variables\n",
    "\n",
    "In the next few sessions we will define, discuss and begin to use random variables.\n",
    "\n",
    "<div style=\"background-color:Gold; margin-left: 20px; margin-right: 20px; padding-bottom: 8px; padding-left: 8px; padding-right: 8px; padding-top: 8px; border-radius: 25px;\">\n",
    "Understand the elements of a random variable. Be able to define and use\n",
    "<li> Discrete vs continuous variables </li>\n",
    "<li> Range and domain of the variables </li>\n",
    "<li> Probability (Mass/Density) Function </li>\n",
    "<li> Cumulative Distribution Function </li>\n",
    "<li> Improper integrals </li>\n",
    "</div>\n"
   ]
  },
  {
   "cell_type": "markdown",
   "metadata": {
    "slideshow": {
     "slide_type": "slide"
    }
   },
   "source": [
    "Random variables are a tool that let us work with slightly messy situations, but still use a lot of our ideas of algebra and numerical methods.\n",
    "\n",
    "Unlike a normal variable, it doesn't make sense to say '$x$ = some value'. \n",
    "\n",
    "- How many miles to a gallon does my car do?\n",
    "- How quickly do I run a mile\n",
    "- How long will it take for a website to load\n",
    "- Temperature\n",
    "\n",
    "Random variables inherently can take on a variety of values, and only discussing a statistic distribution of their values makes sense. Every time we tried something (took a measurement) we would get a slightly different answer.\n",
    "\n",
    "Most idealisations of real things would correspond to random variables!\n",
    "\n",
    "We'll see\n",
    "- what random variables are\n",
    "- how they can link abstract probability distributions to *messy* 'reality'"
   ]
  },
  {
   "cell_type": "markdown",
   "metadata": {
    "slideshow": {
     "slide_type": "slide"
    }
   },
   "source": [
    "### String of logic\n",
    "\n",
    "the random variable is a series of 'mappings', from events to probabilities to numerical values. \n",
    "\n",
    "We \n",
    "\n",
    "- split the sample space into events\n",
    "- we assign each event a probability\n",
    "- we assign each event a unique numerical value. \n",
    "\n",
    "the random variable is the whole of that package."
   ]
  },
  {
   "cell_type": "markdown",
   "metadata": {
    "collapsed": true,
    "slideshow": {
     "slide_type": "slide"
    }
   },
   "source": [
    "Lets consider rolling a normal fair six sided die.\n",
    "\n",
    "We want to quantify the number of spots on the topmost face of die after a single roll.\n",
    "\n",
    "If we had an infinite amount of information we could determine which face will come up before the roll was made. But as we don't we can only work out the probabilities of the different faces coming up.\n",
    "\n",
    "With those different faces coming up, and their probabilities we associate numbers.\n",
    "\n",
    "\n",
    "\n"
   ]
  },
  {
   "cell_type": "markdown",
   "metadata": {
    "slideshow": {
     "slide_type": "fragment"
    }
   },
   "source": [
    "These steps can be done in any order, but often it makes sense to assign the values we want to the random variable. \n",
    "\n",
    "We'll call our random variable $Z$.\n",
    "\n",
    "We'll mix up some mathematical notation and common sense\n",
    "\n",
    "$$\n",
    "Z = \n",
    "  \\begin{cases} \n",
    "      \\hfill 1   \\hfill & \\text{if 'the die lands with 1 spot on the top face'} \\\\\n",
    "      \\hfill 2   \\hfill & \\text{if 'the die lands with 2 spots on the top face'} \\\\\n",
    "      \\hfill 3   \\hfill & \\text{if 'the die lands with 3 spots on the top face'} \\\\\n",
    "      \\hfill 4   \\hfill & \\text{if 'the die lands with 4 spots on the top face'} \\\\\n",
    "      \\hfill 5   \\hfill & \\text{if 'the die lands with 5 spots on the top face'} \\\\\n",
    "      \\hfill 6   \\hfill & \\text{if 'the die lands with 6 spots on the top face'}\n",
    "  \\end{cases}\n",
    "$$ \n",
    "\n",
    "the statements if 'the die lands with 1 spot on the top face' hopefully sound a lot like events to you.\n",
    "\n",
    "Lets define our sample space as normal\n",
    "\n"
   ]
  },
  {
   "cell_type": "markdown",
   "metadata": {
    "slideshow": {
     "slide_type": "subslide"
    }
   },
   "source": [
    "\n",
    "$S = \\{1,2,3,4,5,6\\}$, where {1} is the outcome that the die lands with 1 spot on the top face, {2} is the outcome that the die lands with 2 spots up etc.\n",
    "\n"
   ]
  },
  {
   "cell_type": "markdown",
   "metadata": {
    "slideshow": {
     "slide_type": "fragment"
    }
   },
   "source": [
    "So looking again at $Z$\n",
    "\n",
    "$$\n",
    "Z = \n",
    "  \\begin{cases} \n",
    "      \\hfill 1   \\hfill & \\text{if 'the die lands with 1 spot on the top face'} \\\\\n",
    "      \\hfill 2   \\hfill & \\text{if 'the die lands with 2 spots on the top face'} \\\\\n",
    "      \\hfill 3   \\hfill & \\text{if 'the die lands with 3 spots on the top face'} \\\\\n",
    "      \\hfill 4   \\hfill & \\text{if 'the die lands with 4 spots on the top face'} \\\\\n",
    "      \\hfill 5   \\hfill & \\text{if 'the die lands with 5 spots on the top face'} \\\\\n",
    "      \\hfill 6   \\hfill & \\text{if 'the die lands with 6 spots on the top face'}\n",
    "  \\end{cases}\n",
    "$$ \n",
    "\n",
    "we could replace the text 'the die lands with 1 spot on the top face' with {1}, the event that the die lands with 1 spot upwards, and get"
   ]
  },
  {
   "cell_type": "markdown",
   "metadata": {
    "slideshow": {
     "slide_type": "fragment"
    }
   },
   "source": [
    "So looking again at $Z$\n",
    "\n",
    "$$\n",
    "Z = \n",
    "  \\begin{cases} \n",
    "      \\hfill 1   \\hfill & \\text{if {1}} \\\\\n",
    "      \\hfill 2   \\hfill & \\text{if {2}} \\\\\n",
    "      \\hfill 3   \\hfill & \\text{if {3}} \\\\\n",
    "      \\hfill 4   \\hfill & \\text{if {4}} \\\\\n",
    "      \\hfill 5   \\hfill & \\text{if {5}} \\\\\n",
    "      \\hfill 6   \\hfill & \\text{if {6}}\n",
    "  \\end{cases}\n",
    "$$ \n"
   ]
  },
  {
   "cell_type": "markdown",
   "metadata": {
    "slideshow": {
     "slide_type": "subslide"
    }
   },
   "source": [
    "Now what is the probability that we get those different values of $Z$?\n",
    "\n",
    "We get $Z = 1$ if the event {1}, or 'the die lands with 1 spot on the top face' occurs.\n",
    "\n",
    "You should know how to associate a probability to an event occuring. \n",
    "\n",
    "In this case where all the outcomes $\\{1,2,3,4,5,6\\}$ can be argued to be equally likely, the probability of any one of them occuring must be $1 / |S|$, one over the number of elements in the sample space, in this case $\\frac{1}{6}$.\n",
    "\n",
    "So the probability that $Z = 1$, which is that {1} occured is $\\frac{1}{6}$.\n"
   ]
  },
  {
   "cell_type": "markdown",
   "metadata": {
    "slideshow": {
     "slide_type": "fragment"
    }
   },
   "source": [
    "we'll define another function, the probability (mass) function of $Z$.\n",
    "\n",
    "$$\n",
    "p_Z(z) = P(Z=z) = \n",
    "  \\begin{cases} \n",
    "      \\hfill 1/6   \\hfill & \\text{if {1}} \\\\\n",
    "      \\hfill 1/6   \\hfill & \\text{if {2}} \\\\\n",
    "      \\hfill 1/6   \\hfill & \\text{if {3}} \\\\\n",
    "      \\hfill 1/6   \\hfill & \\text{if {4}} \\\\\n",
    "      \\hfill 1/6   \\hfill & \\text{if {5}} \\\\\n",
    "      \\hfill 1/6   \\hfill & \\text{if {6}}\n",
    "  \\end{cases}\n",
    "$$ \n",
    "\n",
    "and our random variable $Z$ is fully defined."
   ]
  },
  {
   "cell_type": "markdown",
   "metadata": {
    "slideshow": {
     "slide_type": "slide"
    }
   },
   "source": [
    "### Ingredients\n",
    "\n",
    "we have our sample space $S = \\{1,2,3,4,5,6\\}$\n",
    "\n",
    "the values of our random variable, and their associated probabilities\n",
    "\n",
    "$$\n",
    "Z = \n",
    "  \\begin{cases} \n",
    "      \\hfill 1   \\hfill & \\text{if {1}} \\\\\n",
    "      \\hfill 2   \\hfill & \\text{if {2}} \\\\\n",
    "      \\hfill 3   \\hfill & \\text{if {3}} \\\\\n",
    "      \\hfill 4   \\hfill & \\text{if {4}} \\\\\n",
    "      \\hfill 5   \\hfill & \\text{if {5}} \\\\\n",
    "      \\hfill 6   \\hfill & \\text{if {6}}\n",
    "  \\end{cases},\n",
    "p_Z(z) = P(Z=z) = \n",
    "  \\begin{cases} \n",
    "      \\hfill 1/6   \\hfill & \\text{if {1}} \\\\\n",
    "      \\hfill 1/6   \\hfill & \\text{if {2}} \\\\\n",
    "      \\hfill 1/6   \\hfill & \\text{if {3}} \\\\\n",
    "      \\hfill 1/6   \\hfill & \\text{if {4}} \\\\\n",
    "      \\hfill 1/6   \\hfill & \\text{if {5}} \\\\\n",
    "      \\hfill 1/6   \\hfill & \\text{if {6}}\n",
    "  \\end{cases}\n",
    "$$ \n",
    "\n",
    "\n",
    "we must have that each possible value of the random variable is unambiguously associated with an event and a probability.\n",
    "\n",
    "It should be clear that this is the case above."
   ]
  },
  {
   "cell_type": "markdown",
   "metadata": {
    "slideshow": {
     "slide_type": "slide"
    }
   },
   "source": [
    "A more compact definition of a discrete random variable is\n",
    "\n",
    "<div style=\"background-color:Gold; margin-left: 20px; margin-right: 20px; padding-bottom: 8px; padding-left: 8px; padding-right: 8px; padding-top: 8px; border-radius: 25px;\">\n",
    "$\\textbf{Definition}$  \n",
    "Let $X$ be a discrete random variable that can take on only the values $x_1,x_2,x_3,\\ldots,x_n$ with respective probabilities $p_X(x_1),p_X(x_2),p_X(x_3),\\ldots,p(x_n)$.  \n",
    "<br>\n",
    "Then, if \n",
    "$$\n",
    "\\sum_{x \\in X} p_X(x) = 1,\n",
    "$$\n",
    "<br>\n",
    "$X$ is a *discrete random variable*.  \n",
    "<br>\n",
    "The function $p(x) = P\\{X = x\\}$ is called the probability (mass) function of the variable $X$.\n",
    "</div>\n",
    "\n",
    "Other notations are sometimes used for the probability (mass) function, $m(i)$ or $p_i$.\n",
    "\n",
    "(Aside: it is conventional that random variables are given a capital letter, and normally are chosen from the end of the alphabet)."
   ]
  },
  {
   "cell_type": "markdown",
   "metadata": {
    "slideshow": {
     "slide_type": "fragment"
    }
   },
   "source": [
    "## Discrete random variables\n",
    "\n",
    "**Definition**\n",
    "Consider an experiment, with outcome set $S$, split into $n$ mutually exclusive and exhaustive events $E_1,E_2,E_3,\\ldots,E_n$. A variable, $X$ say, which can assume exactly $n$ numerical values each of which corresponds to one and only one of the given events is called a random variable.\n",
    "\n",
    "Schematically the mutually exclusive and exhaustive events look like\n",
    "\n",
    "<img src=\"Images/Exclusive_and_exhaustive.jpg\" alt=\"Exhaustive\" height=\"200\" width=\"200\">\n",
    "\n",
    "Remember we did something similar when we looked at Bayes' formula.\n",
    "\n",
    "Here our outcome set is split into 4 mutually exclusive events (no overlap) and exhaustive (all of $S$ is covered by them). So to associate a random variable (call it $X$) with this sample space we could have something like\n",
    "\\begin{align}\n",
    "\\text{$X = 1$, corresponding to event $E_1$}  \\\\ \n",
    "\\text{$X = 2$, corresponding to event $E_2$}  \\\\\n",
    "\\text{$X = 3$, corresponding to event $E_3$}  \\\\\n",
    "\\text{$X = 4$, corresponding to event $E_4$}  \\\\\n",
    "\\end{align}\n",
    "\n",
    "and we know how to calculate the probability of events."
   ]
  },
  {
   "cell_type": "markdown",
   "metadata": {
    "slideshow": {
     "slide_type": "slide"
    }
   },
   "source": [
    "### String of logic\n",
    "\n",
    "the random variable is a series of 'mappings', from events to probabilities to numerical values. \n",
    "\n",
    "We \n",
    "\n",
    "- split the sample space into mutually exclusive events\n",
    "- we assign each event a probability\n",
    "- we assign each event a unique numerical value. \n",
    "\n",
    "the random variable is the whole of that package."
   ]
  },
  {
   "cell_type": "markdown",
   "metadata": {
    "slideshow": {
     "slide_type": "fragment"
    }
   },
   "source": [
    "$\\textbf{Check list}$\n",
    "\n",
    "- is the sample space well defined?\n",
    "- are the events mutually exclusive?\n",
    "- do the events cover all the sample space?\n",
    "- are the probabilities of the events defined\n",
    "- are values of the variable clearly assigned one-to-one to the possible events?"
   ]
  },
  {
   "cell_type": "markdown",
   "metadata": {
    "slideshow": {
     "slide_type": "subslide"
    }
   },
   "source": [
    "$\\textbf{Example}$\n",
    "\n",
    "Define a valid random variable to describe the number of girls in families with 2 children, assuming that the likelihoods of boys or girls is equal and independent. "
   ]
  },
  {
   "cell_type": "markdown",
   "metadata": {
    "slideshow": {
     "slide_type": "fragment"
    }
   },
   "source": [
    "First, we define our sample space \n",
    "$$\n",
    "S = \\{(B,B),(B,G),(G,B),(G,G)\\}\n",
    "$$\n",
    "\n",
    "We define our variable $G$ using the number of girls in the family:\n",
    "\n",
    "$$\n",
    "G = \n",
    "  \\begin{cases} \n",
    "      \\hfill 0   \\hfill & \\text{if } \\{(B,B)\\} \\\\\n",
    "      \\hfill 1 \\hfill & \\text{if } \\{(B,G),(G,B)\\} \\\\\n",
    "      \\hfill 2   \\hfill & \\text{if } \\{(G,G)\\}\n",
    "  \\end{cases}\n",
    "$$ \n",
    "\n",
    "and associate our probability (mass) function\n",
    "\n",
    "$$\n",
    "p_G(x) = \n",
    "  \\begin{cases} \n",
    "      \\hfill p_G(0) = P(G=0) = P(\\{(B,B)\\}) = \\hfill & \\frac{1}{4} \\\\\n",
    "      \\hfill p_G(1) = P(G=1) = P(\\{(B,G),(G,B)\\}) = \\hfill & \\frac{1}{2} \\\\\n",
    "      \\hfill p_G(2) = P(G=2) = P(\\{(G,G)\\}) = \\hfill & \\frac{1}{4} \\\\\n",
    "  \\end{cases}\n",
    "$$ \n",
    "\n",
    "We check that $\\sum_{g \\in G} p_G(g) = 1$.  \n",
    "\n",
    "Here $g$ indicates the possible values of $G$, so\n",
    "$$\n",
    "\\sum_{g \\in G} p_G(g) = p_G(0) + p_G(1) + p_G(2) = 1/4 + 1/2 + 1/4 = 1\n",
    "$$"
   ]
  },
  {
   "cell_type": "markdown",
   "metadata": {
    "slideshow": {
     "slide_type": "slide"
    }
   },
   "source": [
    "### Example\n",
    "\n",
    "Construct a random variable that count the total number of spots upwards when two fair 6 sided dice are thrown.\n",
    "\n",
    "Our sample space can be the 36 elements of\n",
    "$$\n",
    "S = \\{(i,j): i,j = 1,2,3,4,5,6\\}\n",
    "$$\n",
    "where $i$ is the number of spots on the first die, and $j$ the second die.\n",
    "\n",
    "now we need to think of a set of mutually exclusive and exhaustive events that would correspond to the sum of the spots. We could write this in set builder notation\n",
    "$$\n",
    "E_k = \\{(i,j): i+j=k; i,j=1,2,3,4,5,6 \\}\n",
    "$$\n",
    "and we can write these out in full\n",
    "$$\n",
    "\\begin{align}\n",
    "E_2 &= \\{(1,1)\\} \\\\\n",
    "E_3 &= \\{(1,2),(2,1)\\} \\\\\n",
    "E_4 &= \\{(1,3),(2,2),(3,1)\\} \\\\\n",
    "E_5 &= \\{(1,4),(2,3),(3,2),(4,1)\\} \\\\\n",
    "E_6 &= \\{(1,5),(2,4),(3,3),(4,2),(5,1)\\} \\\\\n",
    "E_7 &= \\{(1,6),(2,5),(3,4),(4,3),(5,2),(6,1)\\} \\\\\n",
    "E_8 &= \\{(2,6),(3,5),(4,4),(5,3),(6,2)\\} \\\\\n",
    "E_9 &= \\{(3,6),(4,5),(5,4),(6,3)\\} \\\\\n",
    "E_{10} &= \\{(4,6),(5,5),(6,4)\\} \\\\\n",
    "E_{11} &= \\{(5,6),(6,5)\\} \\\\\n",
    "E_{12} &= \\{(6,6)\\}\n",
    "\\end{align}\n",
    "$$\n",
    "and we assign the value $i+j$ to the random variable $X$ if the event $E_k$ occurs.\n",
    "$$\n",
    "\\begin{align}\n",
    "X = \n",
    "  \\begin{cases} \n",
    "      \\hfill 2  \\hfill & \\text{if } E_2 \\\\\n",
    "      \\hfill 3  \\hfill & \\text{if } E_3 \\\\\n",
    "      \\vdots \\\\\n",
    "      \\hfill 11  \\hfill & \\text{if } E_{11} \\\\\n",
    "      \\hfill 12  \\hfill & \\text{if } E_{12} \\\\\n",
    "  \\end{cases}\n",
    "\\end{align}\n",
    "$$\n",
    "and the probability distribution associated with $X$ is similarly defined\n",
    "$$\n",
    "\\begin{align}\n",
    "p_X(x) = P (X=x) = P(E_x)=\n",
    "  \\begin{cases} \n",
    "      \\hfill 1/36  \\hfill & \\text{ if } X=2 \\\\\n",
    "      \\hfill 2/36  \\hfill & \\text{ if } X=3 \\\\\n",
    "      \\hfill 3/36  \\hfill & \\text{ if } X=4 \\\\\n",
    "      \\hfill 4/36  \\hfill & \\text{ if } X=5 \\\\\n",
    "      \\hfill 5/36  \\hfill & \\text{ if } X=6 \\\\\n",
    "      \\hfill 6/36  \\hfill & \\text{ if } X=7 \\\\\n",
    "      \\hfill 5/36  \\hfill & \\text{ if } X=8 \\\\\n",
    "      \\hfill 4/36  \\hfill & \\text{ if } X=9 \\\\\n",
    "      \\hfill 3/36  \\hfill & \\text{ if } X=10 \\\\\n",
    "      \\hfill 2/36  \\hfill & \\text{ if } X=11 \\\\\n",
    "      \\hfill 1/36  \\hfill & \\text{ if } X=12 \\\\\n",
    "  \\end{cases}\n",
    "\\end{align}\n",
    "$$\n",
    "The lower case $x$ gives particular values of $X$, and that collection is the range of $X$ - the values that $X$ can take on: \n",
    "$$\n",
    "R_X = {2,3,4,...,10,11,12}\n",
    "$$\n",
    "\n",
    "in that language the domain of the variable $X$ is the sample set $S$."
   ]
  },
  {
   "cell_type": "markdown",
   "metadata": {
    "slideshow": {
     "slide_type": "fragment"
    }
   },
   "source": [
    "$\\textbf{Check list}$\n",
    "\n",
    "- is the sample space well defined?\n",
    "- are the events mutually exclusive?\n",
    "- do the events cover all the sample space?\n",
    "- are the probabilities of the events defined\n",
    "- are values of the variable clearly assigned one-to-one to the possible events?"
   ]
  },
  {
   "cell_type": "markdown",
   "metadata": {
    "slideshow": {
     "slide_type": "slide"
    }
   },
   "source": [
    "### (Cumulative) distribution function\n",
    "\n",
    "The cumulative distribution function of a discrete random variable, $X$,  is \n",
    "\n",
    "$$\n",
    "F_X(a) = P\\{X \\leq a\\} = \\sum_{x \\leq a} p_X(x)\n",
    "$$\n",
    "\n",
    "it is an alternative way of describing the probabilities of different events.\n",
    "\n",
    "Sometimes it is more conventient to use $F_X$ than the probability function $p_X$.\n",
    "\n",
    "It provided a convenient way of describing continuous random variables."
   ]
  },
  {
   "cell_type": "markdown",
   "metadata": {
    "slideshow": {
     "slide_type": "slide"
    }
   },
   "source": [
    "### example\n",
    "Let us imagine we have a 4 sided die.\n",
    "\n",
    "What is the cumulative distribution function for the random variable $X = \\textrm{'what result appears when a 4 sided die is thrown once'}$?"
   ]
  },
  {
   "cell_type": "markdown",
   "metadata": {
    "slideshow": {
     "slide_type": "fragment"
    }
   },
   "source": [
    "First we build our random variable.\n",
    "\n",
    "All the probabilities can be assumed equally likely, and we will assign a value of the number of spots to our variable $X$. \n",
    "\n",
    "We have a sample space $S = \\{1,2,3,4\\}$, and \n",
    "\n",
    "$$\n",
    "X = \n",
    "  \\begin{cases} \n",
    "      \\hfill 1  \\hfill & \\text{if } \\{1\\} \\\\\n",
    "      \\hfill 2  \\hfill & \\text{if } \\{2\\} \\\\\n",
    "      \\hfill 3  \\hfill & \\text{if } \\{3\\} \\\\\n",
    "      \\hfill 4  \\hfill & \\text{if } \\{4\\} \\\\\n",
    "  \\end{cases}\n",
    "$$\n",
    "\n",
    "We define our probability function\n",
    "$$\n",
    "\\begin{align} \n",
    "      \\hfill p_X(1) = P(X=1) = P(\\{1\\}) = \\hfill & \\frac{1}{4} \\\\\n",
    "      \\hfill p_X(2) = P(X=2) = P(\\{2\\}) =\\hfill & \\frac{1}{4} \\\\\n",
    "      \\hfill p_X(3) = P(X=3) = P(\\{3\\}) =\\hfill & \\frac{1}{4} \\\\\n",
    "      \\hfill p_X(4) = P(X=4) = P(\\{4\\}) =\\hfill & \\frac{1}{4} \\\\\n",
    "\\end{align}\n",
    "$$\n",
    "or more sensibly $p_X(x) =\\frac{1}{4}: x = 1,2,3,4$.\n",
    "\n",
    "We see that $\\sum_{x \\in X} p_X(x) = 1$. \n",
    "\n",
    "The events that define $X$ are exhaustive and mutually exclusive. \n",
    "\n",
    "There is a one-to-one map between the values of the probability (mass) function.\n",
    "\n",
    "So $X$ is a random variable, with $p_X(x)$ its probability mass function.  \n",
    "\n"
   ]
  },
  {
   "cell_type": "markdown",
   "metadata": {
    "slideshow": {
     "slide_type": "subslide"
    }
   },
   "source": [
    "Using our definition of the cumulative distribution function\n",
    "$$\n",
    "F(a) = P\\{X \\leq a\\} = \\sum_{x \\leq a} p(x)\n",
    "$$\n",
    "we have \n",
    "$$\n",
    "F_X(a) = \n",
    "  \\begin{cases} \n",
    "      \\hfill 0  \\hfill & a < 1 \\\\\n",
    "      \\hfill 1/4 =  \\hfill & 1 \\leq a < 2 \\\\\n",
    "      \\hfill 2/4 = \\hfill & 2 \\leq a <3 \\\\\n",
    "      \\hfill 3/4 =  \\hfill & 3 \\leq a < 4 \\\\\n",
    "      \\hfill 1 = \\hfill & a >= 4\n",
    "  \\end{cases}\n",
    "$$"
   ]
  },
  {
   "cell_type": "markdown",
   "metadata": {
    "slideshow": {
     "slide_type": "slide"
    }
   },
   "source": [
    "<div style=\"background-color:Gold; margin-left: 20px; margin-right: 20px; padding-bottom: 8px; padding-left: 8px; padding-right: 8px; padding-top: 8px; border-radius: 25px;\">\n",
    "$\\textbf{Definition}$\n",
    "$$\n",
    "F_X(a) = P\\{X \\leq a\\} = \\sum_{x \\leq a} p_X(x) \\text{ for} -\\infty < a < \\infty \n",
    "$$\n",
    "</div>\n",
    "\n",
    "if this is true, then because $p_X(x)$ obeys the axioms of probability, the following will hold: \n",
    "\n",
    "$F_X(a)$ must be 0 as $a \\to -\\infty$ and 1 as $a \\to \\infty$  \n",
    "\n",
    "$F_X(a)$ must be monotonically increasing\n",
    "\n",
    "$F_X(a)$ must be [right continuous](https://www.youtube.com/watch?v=fm07adZ_WHo)\n",
    "\n"
   ]
  }
 ],
 "metadata": {
  "celltoolbar": "Slideshow",
  "kernelspec": {
   "display_name": "Python [default]",
   "language": "python",
   "name": "python3"
  },
  "language_info": {
   "codemirror_mode": {
    "name": "ipython",
    "version": 3
   },
   "file_extension": ".py",
   "mimetype": "text/x-python",
   "name": "python",
   "nbconvert_exporter": "python",
   "pygments_lexer": "ipython3",
   "version": "3.5.2"
  }
 },
 "nbformat": 4,
 "nbformat_minor": 0
}
