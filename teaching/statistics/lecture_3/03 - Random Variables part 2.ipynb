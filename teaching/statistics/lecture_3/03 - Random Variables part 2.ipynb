{
 "cells": [
  {
   "cell_type": "code",
   "execution_count": 1,
   "metadata": {
    "collapsed": true,
    "slideshow": {
     "slide_type": "skip"
    }
   },
   "outputs": [],
   "source": [
    "# Slides for Probability and Statistics module, 2016-2017\n",
    "# Matt Watkins, University of Lincoln"
   ]
  },
  {
   "cell_type": "markdown",
   "metadata": {
    "slideshow": {
     "slide_type": "subslide"
    }
   },
   "source": [
    "### Cumulative distribution function for continuous random variables\n",
    "\n",
    "Cumulative distributions provide a good way of describing continuous random variables.\n",
    "\n",
    "The cumulative distribution function of a discrete random variable, $X$,  is \n",
    "\n",
    "$$\n",
    "F_X(a) = P\\{X \\leq a\\} = \\sum_{x \\leq a} p_X(x)\n",
    "$$\n",
    "\n",
    "The definition for a continuous random variable is very similar to the discrete case, but the sum is replaced by the integral, and the thing being integrated (summed in the discrete case) is called the (probability) density function.\n",
    "\n",
    "<div style=\"background-color:Gold; margin-left: 20px; margin-right: 20px; padding-bottom: 8px; padding-left: 8px; padding-right: 8px; padding-top: 8px; border-radius: 25px;\">\n",
    "$\\textbf{Cumulative distribution function for a continuous random variable, $X$}$\n",
    "$$\n",
    "F_X(a) = P\\{X \\leq a\\} = \\int_{-\\infty}^{a}f(x) \\mathrm{d}x,\n",
    "$$\n",
    "\n",
    "note that [conversely the fundamental theorem of calculus](https://en.wikipedia.org/wiki/Fundamental_theorem_of_calculus) implies that\n",
    "$$\n",
    "\\frac{d}{da}F(a) = f(a)\n",
    "$$\n",
    "</div>\n",
    "<br>\n",
    "<div style=\"background-color:Gold; margin-left: 20px; margin-right: 20px; padding-bottom: 8px; padding-left: 8px; padding-right: 8px; padding-top: 8px; border-radius: 25px;\">\n",
    "The following will hold, exactly as for the discrete case: \n",
    "\n",
    "<li>$F_X(a)$ must be 0 as $a \\to -\\infty$ and 1 as $a \\to \\infty$.</li>  \n",
    "<li>$F_X(a)$ must be monotonically increasing.</li>\n",
    "<li>$F_X(a)$ must be [right continuous](https://www.youtube.com/watch?v=fm07adZ_WHo).</li>\n",
    "</div>\n",
    "\n",
    "when these conditions hold, $F_X$ defines a random variable $X$."
   ]
  },
  {
   "cell_type": "markdown",
   "metadata": {
    "slideshow": {
     "slide_type": "fragment"
    }
   },
   "source": [
    "$\\textbf{Example}$\n",
    "\n",
    "$$\n",
    "F_Y(y) = \n",
    "  \\begin{cases} \n",
    "      \\hfill 0   \\hfill & \\text{if } y < 0\\\\\n",
    "      \\hfill  1/4 (y^2 + 3y) \\hfill & \\text{if } 0 \\leq  y \\leq 1\\\\\n",
    "      \\hfill 1   \\hfill & \\text{if } y > 1\n",
    "  \\end{cases}\n",
    "$$ \n",
    "\n",
    "this function fulfils all our requirements:\n",
    "- as $y \\to -\\infty$ we see that $F_Y(y) \\to 0$\n",
    "- as $y \\to \\infty$ we see that $F_Y(y) \\to 1$ \n",
    "- our function is right continuous - the central section is continuous (polyomial), and $F_y(0)$ and $F_y(1)$ are the same when approached from either side."
   ]
  },
  {
   "cell_type": "markdown",
   "metadata": {
    "slideshow": {
     "slide_type": "slide"
    }
   },
   "source": [
    "## Probability density function\n",
    "\n",
    "We can show that the function\n",
    "\n",
    "$$\n",
    "f_Y(y) = \\frac{\\text{d} F_Y(y)}{\\text{d}y}\n",
    "$$\n",
    "\n",
    "is consistent with our previous short discussions of continuous density functions.\n",
    "\n",
    "Instead of our probability mass function we have a probability density function $f(x)$ which when integrated over a valid range of $x$ values gives the probability that the random variable $X$ lies in that range:\n",
    "$$\n",
    "P\\{a \\leq X \\leq b\\} = \\int_{a}^{b}f_X(x) \\mathrm{d}x = F_X(b) - F_X(a)\n",
    "$$\n",
    "the last follow from the fundamental theorem of calculus."
   ]
  },
  {
   "cell_type": "markdown",
   "metadata": {
    "slideshow": {
     "slide_type": "subslide"
    }
   },
   "source": [
    "By definition\n",
    "\n",
    "$$\n",
    "f_Y(y) = \\frac{\\text{d} F_Y(y)}{\\text{d}y} = \\lim\\limits_{\\Delta y \\to 0} \\frac{F_Y(y+\\Delta y) - F_Y(y)}{\\Delta y}\n",
    "$$\n",
    "\n",
    "being a little loose with what should be done with such limits we have\n",
    "\n",
    "$$\n",
    "\\begin{align}\n",
    "F_Y(y+\\Delta y) - F_Y(y) & = f_Y(y) \\Delta y \\\\\n",
    "                         & = P\\{y \\leq Y \\leq y + \\Delta y \\}\n",
    "\\end{align}\n",
    "$$\n",
    "so $f_Y(y)\\Delta y$ is the probability that $y$ is in the small range $y$ to $y + \\Delta y$.\n",
    "\n",
    "Because we multiply $f_Y(y)$ by a value $\\Delta y$ to get something sensible is once explanation of why it is referred to as a density function. "
   ]
  },
  {
   "cell_type": "markdown",
   "metadata": {
    "slideshow": {
     "slide_type": "fragment"
    }
   },
   "source": [
    "**Example**\n",
    "\n",
    "Let the probability density function of a random variable $X$ be \n",
    "$$\n",
    "f(x) =\n",
    "  \\begin{cases} \n",
    "      \\hfill 0   \\hfill & \\text{if } x < 1\\\\\n",
    "      \\hfill  \\frac{2}{5}(4-x) \\hfill & \\text{if } 1 \\leq  x \\leq 2\\\\\n",
    "      \\hfill 0   \\hfill & \\text{if } x > 2\n",
    "  \\end{cases}\n",
    "$$\n",
    "Suppose we want the probability that $X$ is in the interval $\\frac{5}{4}$ to $\\frac{7}{4}$. From our definition we have\n",
    "$$\n",
    "P\\{\\frac{5}{4} \\leq X \\leq \\frac{7}{4}\\} = \\int_{\\frac{5}{4}}^{\\frac{7}{4}} \\frac{2}{5}(4-x) \\text{d}x = \\frac{1}{2}.\n",
    "$$\n",
    "\n",
    "We also note that the total probability, integrating over the non-zero part of $f(x)$, is unity\n",
    "\n",
    "$$\n",
    "P\\{- \\infty \\leq X \\leq \\infty\\} =  \\int_{1}^{2} \\frac{2}{5}(4-x) \\text{d}x= 1.\n",
    "$$\n",
    "\n",
    "This means that our probabilities make sense and obey the axioms of probability.\n",
    " "
   ]
  },
  {
   "cell_type": "markdown",
   "metadata": {
    "slideshow": {
     "slide_type": "slide"
    }
   },
   "source": [
    "#### Technical aside: Improper integrals\n",
    "\n",
    "In the last example we had a strange integral\n",
    "\n",
    "$$\n",
    "P\\{- \\infty \\leq X \\leq \\infty\\} =  \\int_{-\\infty}^{\\infty} f(x)\\text{d}x \n",
    "$$\n",
    "\n",
    "which I quietly claimed was OK because $f(x)$ was only non-zero over a finite domain.\n",
    "\n",
    "$$\n",
    "f(x) =\n",
    "  \\begin{cases} \n",
    "      \\hfill 0   \\hfill & \\text{if } x < 1\\\\\n",
    "      \\hfill  \\frac{2}{5}(4-x) \\hfill & \\text{if } 1 \\leq  x \\leq 2\\\\\n",
    "      \\hfill 0   \\hfill & \\text{if } x > 2\n",
    "  \\end{cases}\n",
    "$$\n",
    "\n",
    "So called improper integrals that we will encounter typically have infinite integration limits. Similarly to in calculus we should interpret these as a limiting process.\n",
    "\n",
    "Typically we will split up the integrals into a proper integral, and an improper integral. Then show that the improper integral has a well defined limit - which we take as its value.\n",
    "\n",
    "\n"
   ]
  },
  {
   "cell_type": "markdown",
   "metadata": {
    "slideshow": {
     "slide_type": "subslide"
    }
   },
   "source": [
    "\n",
    "$$\n",
    "\\int_{-\\infty}^{\\infty} f(x)\\text{d}x  =  \\int_{-\\infty}^{1} 0 \\text{d}x + \\int_{1}^{2} \\frac{2}{5}(4-x) \\text{d}x + \\int_{2}^{\\infty} 0 \\text{d}x \n",
    "$$\n",
    "\n",
    "and we should take $\\int_{-\\infty}^{1} 0 \\text{d}x$ to mean $\\lim\\limits_{a \\to -\\infty} \\int_{a}^{1} 0 \\text{d}x$. As we take $a$ to be a larger and larger negative number, the value of the integral remains 0, so this is its value.\n",
    "\n",
    "For most/all functions we will encounter, e.g. $\\int_{-\\infty}^{\\infty}e^{-x^2}$ a similar procedure yields sensible results.\n",
    "\n",
    "If the function were not to decay towards zero at either end of the real line, then there can be complications."
   ]
  },
  {
   "cell_type": "markdown",
   "metadata": {
    "slideshow": {
     "slide_type": "slide"
    }
   },
   "source": [
    "$\\textbf{Example - uniform random variables}$\n",
    "\n",
    "Let $X$ be a random variable whose (cumulative) distribution function is\n",
    "\n",
    "$$\n",
    "F_X(t) = \n",
    "\\begin{cases}\n",
    "\\hfill 0   \\hfill & t < 0 \\\\\n",
    "\\hfill t   \\hfill & 0 \\leq t \\leq 1 \\\\\n",
    "\\hfill 0   \\hfill & t > 1 \\\\\n",
    "\\end{cases}\n",
    "$$\n",
    "\n",
    "our (probability) density function is the derivative with respect to $t$ of $F_X(t)$\n",
    "\n",
    "$$\n",
    "f_X(t) =  \\frac{\\text{d} F_X(t)}{\\text{d}t} =\n",
    "\\begin{cases}\n",
    "\\hfill 0   \\hfill & t < 0 \\\\\n",
    "\\hfill 1   \\hfill & 0 \\leq t \\leq 1 \\\\\n",
    "\\hfill 0   \\hfill & t > 1 \\\\\n",
    "\\end{cases}\n",
    "$$\n"
   ]
  },
  {
   "cell_type": "markdown",
   "metadata": {
    "slideshow": {
     "slide_type": "fragment"
    }
   },
   "source": [
    "Since the density function of $X$ is equal to 1, the area under the density over any interval between $0$ and $1$ is equal to the length of the interval.\n",
    "\n",
    "Because we have that\n",
    "\n",
    "$$\n",
    "P\\{a \\leq X \\leq b\\} = \\int_{a}^{b}f_X(x) \\mathrm{d}x\n",
    "$$\n",
    "\n",
    "this means that the probability that the observed value for $X$ lies in an interval contained in $(0,1)$ is proportional to the length of the interval."
   ]
  },
  {
   "cell_type": "markdown",
   "metadata": {
    "slideshow": {
     "slide_type": "slide"
    }
   },
   "source": [
    "<div style=\"background-color:Gold; margin-left: 20px; margin-right: 20px; padding-bottom: 8px; padding-left: 8px; padding-right: 8px; padding-top: 8px; border-radius: 25px;\">\n",
    "To be a valid probability density function of a random variable, we must have\n",
    "\n",
    "$$\n",
    "f(t) \\geq 0 \\mbox{,      for all $t$}\n",
    "$$\n",
    "\n",
    "$$\n",
    "\\int_{-\\infty}^{\\infty}f(t) \\text{d}t = 1\n",
    "$$\n",
    "\n",
    "</div>\n"
   ]
  },
  {
   "cell_type": "markdown",
   "metadata": {
    "slideshow": {
     "slide_type": "slide"
    }
   },
   "source": [
    "### Summary\n",
    "<br>\n",
    "<div style=\"background-color:Gold; margin-left: 20px; margin-right: 20px; padding-bottom: 8px; padding-left: 8px; padding-right: 8px; padding-top: 8px; border-radius: 25px;\">\n",
    "Understand the elements of a random variable. Be able to define and use\n",
    "<li> Discrete vs continuous variables </li>\n",
    "<li> Range and domain of the variables </li>\n",
    "<li> Probability (Mass/Density) Function </li>\n",
    "<li> Cumulative Distribution Function </li>\n",
    "<li> Improper integrals </li>\n",
    "</div>"
   ]
  }
 ],
 "metadata": {
  "celltoolbar": "Slideshow",
  "kernelspec": {
   "display_name": "Python [default]",
   "language": "python",
   "name": "python3"
  },
  "language_info": {
   "codemirror_mode": {
    "name": "ipython",
    "version": 3
   },
   "file_extension": ".py",
   "mimetype": "text/x-python",
   "name": "python",
   "nbconvert_exporter": "python",
   "pygments_lexer": "ipython3",
   "version": "3.5.2"
  }
 },
 "nbformat": 4,
 "nbformat_minor": 0
}
