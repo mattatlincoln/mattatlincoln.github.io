{
 "cells": [
  {
   "cell_type": "code",
   "execution_count": 1,
   "metadata": {
    "collapsed": true,
    "slideshow": {
     "slide_type": "skip"
    }
   },
   "outputs": [],
   "source": [
    "# Slides for Probability and Statistics module, 2016-2017\n",
    "# Matt Watkins, University of Lincoln"
   ]
  },
  {
   "cell_type": "code",
   "execution_count": 2,
   "metadata": {
    "collapsed": true,
    "slideshow": {
     "slide_type": "skip"
    }
   },
   "outputs": [],
   "source": [
    "import numpy as np\n",
    "import scipy.stats as stats\n",
    "import matplotlib.pyplot as plt\n",
    "%matplotlib inline"
   ]
  },
  {
   "cell_type": "markdown",
   "metadata": {
    "slideshow": {
     "slide_type": "slide"
    }
   },
   "source": [
    "# Special Distributions\n",
    "\n",
    "Learning objectives\n",
    "\n",
    "<div style=\"background-color:Gold; margin-left: 20px; margin-right: 20px; padding-bottom: 8px; padding-left: 8px; padding-right: 8px; padding-top: 8px; border-radius: 25px;\">\n",
    "Define and use the properties of the major probability distributions:\n",
    "\n",
    "<li> uniform  </li>\n",
    "<li> binomial </li>\n",
    "<li> geometric </li>\n",
    "<li> poisson </li>\n",
    "<li> exponential </li>\n",
    "<li> normal </li>\n",
    "</div>\n",
    "\n",
    "- see examples where these distributions occur."
   ]
  },
  {
   "cell_type": "markdown",
   "metadata": {
    "collapsed": true,
    "slideshow": {
     "slide_type": "slide"
    }
   },
   "source": [
    "## Uniform random variable\n",
    "\n",
    "A continuous random variable $X$ is said to be uniformly distributed over the interval $[a,b]$ if its probability density function is given by\n",
    "\n",
    "$$\n",
    "f(x) = \\Bigg \\{ \\begin{array}{ll}\n",
    "\\frac{1}{b-a} & \\mbox{$a \\le x \\le b$},\\\\\n",
    "0 & \\mbox{ otherwise}\n",
    "\\end{array} \n",
    "$$\n",
    "\n",
    "**example**\n",
    "a uniform random variable between the values of 3 and 7 is shown below. It has a constant value of $\\frac{1}{4}$ over the interval [3,7].\n",
    "\n",
    "![](uni.png)"
   ]
  },
  {
   "cell_type": "code",
   "execution_count": 4,
   "metadata": {
    "collapsed": false,
    "slideshow": {
     "slide_type": "skip"
    }
   },
   "outputs": [
    {
     "data": {
      "image/png": "[encoded data removed]",
      "text/plain": [
       "<matplotlib.figure.Figure at 0x272c08e42b0>"
      ]
     },
     "metadata": {},
     "output_type": "display_data"
    }
   ],
   "source": [
    "x =np.linspace(0,10,100)\n",
    "y = x*0.0\n",
    "y[30:70] = 0.25\n",
    "\n",
    "plt.plot(x,y, linestyle='', marker = 'o', label='uniform pdf');\n",
    "plt.ylim(-0.1,0.5);\n",
    "plt.legend(loc='upper right');\n",
    "plt.savefig('uni.png')"
   ]
  },
  {
   "cell_type": "markdown",
   "metadata": {
    "slideshow": {
     "slide_type": "fragment"
    }
   },
   "source": [
    "### Discrete uniformly distributed random variable\n",
    "\n",
    "A discrete random variable $Y$ would be described as uniformly distributed if all values of its probability mass function are equal over a finite domain.\n",
    "\n",
    "We have used this fairly often in fact - it is used implicitly in all the 'counting problem' types of situations: you assign probabilities by counting up the number of ways something can happen, then dividing by the total number of ways. This assumes a uniform distribution for the individual ways.\n",
    "\n",
    "Examples \n",
    "\n",
    "- spots on a die\n",
    "- students in the UoL School of Maths and Physics"
   ]
  },
  {
   "cell_type": "markdown",
   "metadata": {
    "slideshow": {
     "slide_type": "subslide"
    }
   },
   "source": [
    "### Properties of the uniform distribution\n",
    "\n",
    "We can find the probability that a uniformly distributed random variable has a value in a subinterval $[\\alpha, \\beta]$ of $[a,b]$ using our normal definition:\n",
    "$$\n",
    "\\begin{align}\n",
    "P(\\alpha \\le x \\le \\beta) & = \\int_{\\alpha}^{\\beta} f(x) \\text{d}x \\\\\n",
    "                          & = \\frac{1}{(b-a)} \\int_{\\alpha}^{\\beta} \\text{d}x \\\\\n",
    "                          & = \\frac{(\\beta-\\alpha)}{(b-a)}\n",
    "\\end{align}\n",
    "$$\n",
    "this is just the ratio of the length of the subinterval $[\\alpha,\\beta]$ to that of the interval $[a,b]$ that the variable is defined over.\n"
   ]
  },
  {
   "cell_type": "markdown",
   "metadata": {
    "slideshow": {
     "slide_type": "subslide"
    }
   },
   "source": [
    "This immediately shows that the integral of $f(x)$ over all space gives 1, as a probability density function must.\n",
    "$$\n",
    "\\begin{align}\n",
    "P(- \\infty \\le x \\le \\infty) & = \\int_{-\\infty}^{\\infty} f(x) \\text{d}x \\\\\n",
    "                             & = \\frac{1}{(b-a)} \\int_{a}^{b} \\text{d}x \\\\\n",
    "                             & = \\frac{(b-a)}{(b-a)} \\\\\n",
    "                             & = 1\n",
    "\\end{align}\n",
    "$$\n",
    "\n"
   ]
  },
  {
   "cell_type": "markdown",
   "metadata": {
    "slideshow": {
     "slide_type": "subslide"
    }
   },
   "source": [
    "#### Expectation value\n",
    "\n",
    "The expectation value of a uniformly distributed random variable is calculated as\n",
    "$$\n",
    "\\begin{align}\n",
    "\\text{E}[X] & = \\int_{a}^{b} x f(x) \\text{d}x \\\\\n",
    "            & = \\frac{1}{(b-a)} \\int_{a}^{b} x \\text{d}x \\\\\n",
    "            & = \\frac{b^2 - a^2}{2(b-a)} \\\\\n",
    "            & = \\frac{(b-a)(b+a)}{2(b-a)} \\\\\n",
    "            & = \\frac{a+b}{2}\n",
    "\\end{align}\n",
    "$$\n",
    "So the expected value of the random variable is the midpoint of the interval that it is defined over.\n"
   ]
  },
  {
   "cell_type": "markdown",
   "metadata": {
    "slideshow": {
     "slide_type": "subslide"
    }
   },
   "source": [
    "#### Variance of uniformly distributed random variable\n",
    "\n",
    "We use our second definition of variance \n",
    "$$\n",
    "\\sigma_X^2 = \\text{E}[X^2]-\\text{E}[X]^2\n",
    "$$\n",
    "We have already found $\\text{E}[X]$, we need to calculate $\\text{E}[X^2]$.\n",
    "$$\n",
    "\\begin{align}\n",
    "\\text{E}[X^2] & = \\int_{a}^{b} x^2 f(x) \\text{d}x \\\\\n",
    "              & = \\frac{1}{(b-a)} \\int_{a}^{b} x^2 \\text{d}x \\\\\n",
    "              & = \\frac{b^3 - a^3}{3(b-a)} \\\\\n",
    "              & = \\frac{b^2+ab+a^2}{3}\n",
    "\\end{align}\n",
    "$$\n",
    "and so we get\n",
    "$$\n",
    "\\begin{align}\n",
    "\\sigma_X^2 & = \\text{E}[X^2]-\\text{E}[X]^2 \\\\\n",
    "           & = \\frac{b^2+ab+a^2}{3} - \\big(\\frac{a+b}{2}\\big)^2 \\\\\n",
    "           & = \\frac{(b-a)^2}{12}\n",
    "\\end{align}\n",
    "$$"
   ]
  },
  {
   "cell_type": "markdown",
   "metadata": {
    "slideshow": {
     "slide_type": "subslide"
    }
   },
   "source": [
    "#### Quantiles\n",
    "\n",
    "We can find the quantiles of the uniform distribution very simply.\n",
    "\n",
    "The cumulative probability distribution function of a uniformly distributed continuous random variable defined between $a$ and $b$  is given by \n",
    "\n",
    "$$\n",
    "\\begin{align}\n",
    "F(\\alpha) & = \\int_{-\\infty}^{a} f(x) \\text{d}x \\\\\n",
    "          & = \\frac{1}{(b-a)} \\int_{a}^{\\alpha} \\text{d}x \\\\\n",
    "          & = \\frac{(\\alpha-a)}{(b-a)}\n",
    "\\end{align}\n",
    "$$\n",
    "\n",
    "this is just the ratio of the length of the interval the variable is defined over to that of lower bound of the interval to the value of the variable at which we want to calculate the cumulative distribution function. "
   ]
  },
  {
   "cell_type": "markdown",
   "metadata": {
    "slideshow": {
     "slide_type": "fragment"
    }
   },
   "source": [
    "**Example** \n",
    "\n",
    "find the value of $p_{95}$ such that there is a 95% probability that the random variable $X$ takes a value smaller than $p_{95}$ .\n",
    "$$\n",
    "\\begin{align}\n",
    "P(X < p_{95}) &= F(p_{95}) = 0.95 \\\\ \n",
    "              &= \\frac{(p_{0.95}-a)}{(b-a)} \\\\\n",
    "              &\\implies p_{0.95} = 0.95(b-a) + a\n",
    "\\end{align}\n",
    "$$\n",
    "\n",
    "also implying the median is at the centre of the distribution, like the mean."
   ]
  },
  {
   "cell_type": "markdown",
   "metadata": {
    "slideshow": {
     "slide_type": "subslide"
    }
   },
   "source": [
    "### Random number\n",
    "\n",
    "Probably, the most important use of the uniform distribution is in defining a random number. \n",
    "\n",
    "The value of a uniform [0,1] random variable is called a **random number**.\n",
    "\n",
    "We used computer approximations to this distribution in our simulations.\n",
    "\n",
    "How they can be generated is still a [research question](http://arstechnica.co.uk/science/2016/02/on-chip-random-key-generator-made-using-carbon-nanotubes/)."
   ]
  },
  {
   "cell_type": "markdown",
   "metadata": {
    "slideshow": {
     "slide_type": "slide"
    }
   },
   "source": [
    "## Next\n",
    "\n",
    "We've looked in quite some detail at the uniform distribution. \n",
    "\n",
    "We want to find a similar collection of properties for other distributions that we will encounter. Specifically we'll look at: \n",
    "\n",
    "- binomial, \n",
    "- geometric, \n",
    "- poisson, \n",
    "- exponential,\n",
    "- normal \n",
    "    - and the derived $\\chi^2$ and $t$ distributions)."
   ]
  },
  {
   "cell_type": "markdown",
   "metadata": {
    "slideshow": {
     "slide_type": "slide"
    }
   },
   "source": [
    "## Binomial distribution\n",
    "\n",
    "We've used this fairly often in the first few weeks.  \n",
    "\n",
    "**definition**  \n",
    "It is the discrete distribution that arises when we have an experiment that can be partitioned into two mutually exclusive events ({S}, success and {F}, failure) with a probability of success P({S}) that is known, repeated independently $n$ times.\n",
    "\n",
    "**definition**  \n",
    "A discrete random variable $X$ with a probability mass function of the form:\n",
    "$$\n",
    "P(X=x) = {n \\choose x}p^x(1-p)^{n-x}, (x=0,1,\\ldots,n-1,n)\n",
    "$$\n",
    "is said to have a binomial distribution. Where $n$ is the number of repetitions of the experiment and $p$ is the probability of 'success'.\n",
    "\n"
   ]
  },
  {
   "cell_type": "markdown",
   "metadata": {
    "slideshow": {
     "slide_type": "subslide"
    }
   },
   "source": [
    "#### Check it is a probability mass distribution\n",
    "\n",
    "To be a probability mass distribution we must have $\\sum_{\\text{all $x$}} P(x) = 1$. For the binomial distribution we have\n",
    "\n",
    "$$\n",
    "\\begin{align}\n",
    "\\sum_{\\text{all $x$}} P(x) & = \\sum_{\\text{all $x$}} {n \\choose x}p^x(1-p)^{n-x} \\\\\n",
    "                           & = (p + (1-p))^n \\\\\n",
    "                           & = 1^n = 1\n",
    "\\end{align}\n",
    "$$\n",
    "\n",
    "In the second line we use the binomial expansion \n",
    "$$\n",
    "(a+b)^n = \\sum_{k=0}^n {n \\choose k} a^{n-k} b^k\n",
    "$$\n",
    "\n",
    "So it fits that criteria, and all $p(x)$ are between $0$ and $1$."
   ]
  },
  {
   "cell_type": "markdown",
   "metadata": {
    "slideshow": {
     "slide_type": "subslide"
    }
   },
   "source": [
    "### The mean and the variance\n",
    "\n",
    "We have that the mean (expectation value) of our binomially distributed variable $X$ is\n",
    "\n",
    "$$\n",
    "\\begin{align}\n",
    "\\text{E}[X] & = \\sum_{\\text{all $x$}} xp(x) \\\\\n",
    "            & = \\sum_{\\text{all $x$}} x{n \\choose x}p^x(1-p)^{n-x} \\\\\n",
    "            & = \\sum_{x=0}^n x{n \\choose x}p^x(1-p)^{n-x} \\\\\n",
    "            & = \\sum_{x=1}^n x \\frac{n! p^x(1-p)^{n-x}}{(n-x)!x!} \\text{    ($x=0$ term is zero)} \\\\\n",
    "            & = np \\sum_{x=1}^n x \\frac{(n-1)! p^{x-1} (1-p)^{n-x}}{(n-x)!x!} \\text{     (factorize out $np$)}\\\\           \n",
    "\\end{align}\n",
    "$$\n",
    "\n",
    "we can also use:\n",
    "- $\\frac{x}{x!} = \\frac{1}{(x-1)!}$\n",
    "- $(n-x)!$ can be rewritten as $(n - 1 - (x-1))!$\n",
    "- $(1-p)^{n-x}$ can be written as $(1-p)^{n -1 -(x-1)}$\n",
    "we then get\n",
    "\n",
    "$$\n",
    "\\text{E}[X] = np \\sum_{x=1}^n \\frac{(n-1)! p^{x-1} (1-p)^{n-1-(x-1)}}{(n-1-(x-1))!(x-1)!}\n",
    "$$\n",
    "\n",
    "and, deep breath, we substitue $y = x-1$ and $N=n-1$ to get\n",
    "\n",
    "$$\n",
    "\\text{E}[X] = np \\sum_{y=0}^N \\frac{N! p^{y} (1-p)^{N-y}}{(N-y)!y!} \\\\\n",
    "            = np \\big[ \\sum_{y=0}^N {N \\choose y}p^y(1-p)^{N-y} \\big] \\\\\n",
    "            = np \n",
    "$$\n",
    "where we have used the binomial expansion definition again."
   ]
  },
  {
   "cell_type": "markdown",
   "metadata": {
    "slideshow": {
     "slide_type": "subslide"
    }
   },
   "source": [
    "The variance can be found in a similar manner, but I won't give it all here.\n",
    "$$\n",
    "\\begin{align}\n",
    "\\sigma_X^2 & = \\text{E}[X^2]-\\text{E}[X]^2 \\\\\n",
    "           & = n^2p^2 - np^2 +np - n^2p^2 \\\\\n",
    "           & = np(1-p)\n",
    "\\end{align}\n",
    "$$\n",
    "\n",
    "Note that these proofs are pretty ugly.  \n",
    "\n",
    "There are more sophisticated methods using so called 'generating functions' that we don't have time to look at. \n",
    "\n",
    "Also the summations make life difficult, which we'll see again and again. It eventually becomes much easier to work with continuous distributions and integrals."
   ]
  },
  {
   "cell_type": "markdown",
   "metadata": {
    "slideshow": {
     "slide_type": "slide"
    }
   },
   "source": [
    "#### Summary of expectation and variance of binomial distribution.\n",
    "\n",
    "$$\n",
    "\\text{E}[X] = np \\\\\n",
    "$$\n",
    "\n",
    "$$\n",
    "\\sigma_X^2=E[X^2]−E[X]^2=np(1−p)\n",
    "$$"
   ]
  },
  {
   "cell_type": "markdown",
   "metadata": {
    "slideshow": {
     "slide_type": "subslide"
    }
   },
   "source": [
    "#### Cumulative distribution function\n",
    "\n",
    "for discrete random variables, the cumulative distribution function is often available in tabulated form. To calulate it we need to sum up all the $p(x)$ values where x is less than the value of interest.\n",
    "\n",
    "$$\n",
    "F(y) = \\sum_{x \\le y} p(x)\n",
    "$$\n",
    "\n",
    "this is quite tricky (tedious) for the binomial distribution.\n",
    "\n",
    "We saw how to access the cdf from python earlier this week."
   ]
  },
  {
   "cell_type": "code",
   "execution_count": 81,
   "metadata": {
    "collapsed": false,
    "slideshow": {
     "slide_type": "fragment"
    }
   },
   "outputs": [
    {
     "data": {
      "image/png": "[encoded data removed]",
      "text/plain": [
       "<matplotlib.figure.Figure at 0x7f359a20e5c0>"
      ]
     },
     "metadata": {},
     "output_type": "display_data"
    }
   ],
   "source": [
    "# parameters of binomial distribution\n",
    "n, p = 20, 0.2\n",
    "\n",
    "fig, ax = plt.subplots(1, 1)\n",
    "\n",
    "x = np.linspace(int(stats.binom.ppf(0.001, n, p)),\n",
    "                  int(stats.binom.ppf(0.999, n, p)),\n",
    "                (int(stats.binom.ppf(0.999, n, p) - int(stats.binom.ppf(0.001, n, p))))*10+1)\n",
    "\n",
    "ax.plot(x, stats.binom.pmf(x, n, p), 'bo', ms=8, label='binomial pmf');\n",
    "ax.plot(x, stats.binom.cdf(x, n, p), 'r-', ms=8, label='binomial cdf');\n",
    "ax.legend(loc='center right')\n",
    "\n",
    "# add vertical lines for visualization\n",
    "ax.vlines(x, 0, stats.binom.pmf(x, n, p), colors='b', lw=5, alpha=0.5);"
   ]
  },
  {
   "cell_type": "markdown",
   "metadata": {
    "slideshow": {
     "slide_type": "subslide"
    }
   },
   "source": [
    "we can access the quantiles for the binomial distribution like so\n",
    "\n",
    "`\n",
    "stats.binom.ppf(0.99, n, p)\n",
    "6.0\n",
    "`\n",
    "\n",
    "This says that for our disribution (binomial with parameters $n$ and $p$)  a random value taken from this distribution will have a value less than than 6 99% of the time."
   ]
  }
 ],
 "metadata": {
  "celltoolbar": "Slideshow",
  "kernelspec": {
   "display_name": "Python 3",
   "language": "python",
   "name": "python3"
  },
  "language_info": {
   "codemirror_mode": {
    "name": "ipython",
    "version": 3
   },
   "file_extension": ".py",
   "mimetype": "text/x-python",
   "name": "python",
   "nbconvert_exporter": "python",
   "pygments_lexer": "ipython3",
   "version": "3.5.3"
  }
 },
 "nbformat": 4,
 "nbformat_minor": 0
}
