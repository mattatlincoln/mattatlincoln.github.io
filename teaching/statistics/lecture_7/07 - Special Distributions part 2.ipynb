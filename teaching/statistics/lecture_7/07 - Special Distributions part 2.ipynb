{
 "cells": [
  {
   "cell_type": "code",
   "execution_count": 8,
   "metadata": {
    "collapsed": true,
    "slideshow": {
     "slide_type": "skip"
    }
   },
   "outputs": [],
   "source": [
    "# Slides for Probability and Statistics module, 2016-2017\n",
    "# Matt Watkins, University of Lincoln"
   ]
  },
  {
   "cell_type": "code",
   "execution_count": 4,
   "metadata": {
    "collapsed": true,
    "slideshow": {
     "slide_type": "skip"
    }
   },
   "outputs": [],
   "source": [
    "import numpy as np\n",
    "import scipy.stats as stats\n",
    "import matplotlib.pyplot as plt\n",
    "%matplotlib inline"
   ]
  },
  {
   "cell_type": "markdown",
   "metadata": {
    "slideshow": {
     "slide_type": "slide"
    }
   },
   "source": [
    "# Special Distributions\n",
    "\n",
    "<div style=\"background-color:Gold; margin-left: 20px; margin-right: 20px; padding-bottom: 8px; padding-left: 8px; padding-right: 8px; padding-top: 8px; border-radius: 25px;\">\n",
    "Define and use the properties of the major probability distributions:\n",
    "\n",
    "<li> uniform  </li>\n",
    "<li> binomial </li>\n",
    "<li> geometric </li>\n",
    "<li> poisson </li>\n",
    "<li> exponential </li>\n",
    "<li> normal </li>\n",
    "</div>\n",
    "\n",
    "- see examples where these distributions occur."
   ]
  },
  {
   "cell_type": "markdown",
   "metadata": {
    "slideshow": {
     "slide_type": "slide"
    }
   },
   "source": [
    "## Poisson distribution\n",
    "\n",
    "**definition**\n",
    "a random variable $X$ having a probability mass function of the form:\n",
    "$$\n",
    "p(x) = e^{-\\mu}\\frac{\\mu^x}{x!}, \n",
    "$$\n",
    "for $x = 0,1,2,\\ldots$ and $\\mu$ can take on any positive value, is said to have a Poisson distribution.\n",
    "\n",
    "What does it look like?"
   ]
  },
  {
   "cell_type": "markdown",
   "metadata": {
    "slideshow": {
     "slide_type": "fragment"
    }
   },
   "source": [
    "![](poisson.png)"
   ]
  },
  {
   "cell_type": "markdown",
   "metadata": {
    "slideshow": {
     "slide_type": "subslide"
    }
   },
   "source": [
    "The [Poisson](https://en.wikipedia.org/wiki/Sim%C3%A9on_Denis_Poisson) distribution has a dubious history according to [wikipedia](https://en.wikipedia.org/wiki/Poisson_distribution).\n",
    "\n",
    ">History  \n",
    "The distribution was first introduced by Siméon Denis Poisson (1781–1840) and published, together with his probability theory, in 1837 in his work Recherches sur la probabilité des jugements en matière criminelle et en matière civile (\"Research on the Probability of Judgments in Criminal and Civil Matters\"). The work theorized about the number of wrongful convictions in a given country by focusing on certain random variables N that count, among other things, the number of discrete occurrences (sometimes called \"events\" or \"arrivals\") that take place during a time-interval of given length. The result had been given previously by Abraham de Moivre (1711) in De Mensura Sortis seu; de Probabilitate Eventuum in Ludis a Casu Fortuito Pendentibus in Philosophical Transactions of the Royal Society, p. 219. This makes it an example of [Stigler's law](https://en.wikipedia.org/wiki/Stigler%27s_law_of_eponymy) and it has prompted some authors to argue that the Poisson distribution should bear the name of de Moivre.<br><br>\n",
    "A practical application of this distribution was made by Ladislaus Bortkiewicz in 1898 when he was given the task of investigating the number of soldiers in the Prussian army killed accidentally by horse kicks; this experiment introduced the Poisson distribution to the field of reliability engineering.\n",
    "\n",
    "Or more to the point, like the horse kicks, it describes the number of times an event that occurs infrequently in a given time period will occur.\n",
    "\n",
    "- misprints on a page in a book\n",
    "- errors in my lecture notes\n",
    "- number of wrong telephone numbers dialled in a day\n",
    "- number of $\\alpha$-particles discharged in a fixed period of time from a radiocative nuclei\n",
    "\n",
    "---"
   ]
  },
  {
   "cell_type": "code",
   "execution_count": 7,
   "metadata": {
    "collapsed": false,
    "slideshow": {
     "slide_type": "skip"
    }
   },
   "outputs": [
    {
     "data": {
      "image/png": "[encoded data removed]",
      "text/plain": [
       "<matplotlib.figure.Figure at 0x223b42fbc18>"
      ]
     },
     "metadata": {},
     "output_type": "display_data"
    }
   ],
   "source": [
    "fig, ax = plt.subplots(1, 1)\n",
    "\n",
    "mu = 4\n",
    "fig.suptitle('Poisson probability mass function with $\\mu$ = {}'.format(mu), fontsize=12)\n",
    "\n",
    "x = np.arange(stats.poisson.ppf(0.001, mu),\n",
    "              stats.poisson.ppf(0.999, mu))\n",
    "\n",
    "x = np.linspace(int(stats.poisson.ppf(0.001, mu)),\n",
    "                  int(stats.poisson.ppf(0.999, mu)),\n",
    "                (int(stats.poisson.ppf(0.999, mu) - int(stats.poisson.ppf(0.001, mu))))*10+1)\n",
    "\n",
    "ax.plot(x, stats.poisson.pmf(x, mu), 'bo', ms=8, label='poisson pmf');\n",
    "ax.plot(x, stats.poisson.cdf(x, mu), 'r-', ms=8, label='poisson cdf');\n",
    "ax.vlines(x, 0, stats.poisson.pmf(x, mu), colors='b', lw=5, alpha=0.5);\n",
    "ax.legend(loc='center right');\n",
    "plt.savefig('poisson.png')"
   ]
  },
  {
   "cell_type": "markdown",
   "metadata": {
    "slideshow": {
     "slide_type": "subslide"
    }
   },
   "source": [
    "#### Check it is a valid probability mass function\n",
    "\n",
    "We have that \n",
    "$$\n",
    "\\begin{align}\n",
    "\\sum_{\\text{all $x$}} p(x) & = \\sum_{x=0}^{\\infty} e^{-\\mu}\\frac{\\mu^x}{x!} \\\\\n",
    "                           & = e^{-\\mu} \\sum_{x=0}^{\\infty} \\frac{\\mu^x}{x!} \\\\\n",
    "                           & =e^{-\\mu} e^{\\mu} \\\\\n",
    "                           & = 1\n",
    "\\end{align}\n",
    "$$\n",
    "\n",
    "as required. We use the series definition of the exponential function in the next to last step.\n",
    "\n",
    "We've not dealt with discrete variables with infinite numbers of outcomes - as far as we are concerned, they are OK as long as all properties and probabilities that we need to calculate converge as $x \\to \\infty$."
   ]
  },
  {
   "cell_type": "markdown",
   "metadata": {
    "slideshow": {
     "slide_type": "subslide"
    }
   },
   "source": [
    "### Expectation and variance of a Poisson distributed random variable.\n",
    "\n",
    "If $X$ has $p_X(x) = e^{-\\mu}\\frac{\\mu^x}{x!}$\n",
    "\n",
    "- $\\text{E}[X] = \\mu$\n",
    "- $\\sigma_X^2 = \\mu$\n"
   ]
  },
  {
   "cell_type": "markdown",
   "metadata": {
    "slideshow": {
     "slide_type": "subslide"
    }
   },
   "source": [
    "#### Proof of expectation of Poisson distributed random variable\n",
    "\n",
    "$$\n",
    "\\begin{align}\n",
    "\\text{E}[X] & = \\sum_{x=0}^{\\infty} x e^{-\\mu}\\frac{\\mu^x}{x!} \\\\\n",
    "            & = \\sum_{x=1}^{\\infty} x e^{-\\mu}\\frac{\\mu^x}{x!} \\\\\n",
    "            & = e^{-\\mu} \\sum_{x=1}^{\\infty} \\frac{\\mu^x}{(x-1)!} \\\\\n",
    "            & = \\mu e^{-\\mu} \\sum_{x=1}^{\\infty} \\frac{\\mu^{(x-1)}}{(x-1)!}\n",
    "\\end{align}\n",
    "$$\n",
    "\n",
    "then we substitute $y = x -1$\n",
    "$$\n",
    "\\begin{align}\n",
    "            & = \\mu e^{-\\mu} \\sum_{y=0}^{\\infty} \\frac{\\mu^y}{(y)!} \\\\\n",
    "            & = \\mu e^{-\\mu} e^{\\mu} \\\\\n",
    "            &= \\mu\n",
    "\\end{align}\n",
    "$$"
   ]
  },
  {
   "cell_type": "markdown",
   "metadata": {
    "slideshow": {
     "slide_type": "subslide"
    }
   },
   "source": [
    "#### Proof of variance of Poisson distributed random variable\n",
    "\n",
    "$$\n",
    "\\begin{align}\n",
    "\\text{E}(X^2) & = \\sum_{x=0}^{\\infty} x^2 e^{-\\mu}\\frac{\\mu^x}{x!} \\\\\n",
    "              & = \\sum_{x=1}^{\\infty} (x(x-1)-x) e^{-\\mu}\\frac{\\mu^x}{x!} \\\\\n",
    "              & = \\sum_{x=2}^{\\infty} x(x-1) e^{-\\mu} \\frac{\\mu^x}{x!} + \\sum_{x=1}^{\\infty} x e^{-\\mu} \\frac{\\mu^x}{x!} \\\\\n",
    "              & = \\mu^2 e^{-\\mu} \\sum_{x=2}^{\\infty} \\frac{\\mu^{(x-2)}}{(x-2)!} + \\text{E}[X] \\\\\n",
    "              & = \\mu^2 + \\mu\n",
    "\\end{align}\n",
    "$$\n",
    "\n",
    "where we substitute in $y = x-2$, similarly to the expectation value. \n",
    "\n",
    "Then identify the sum as an exponential function.\n",
    "\n",
    "We then get that\n",
    "$$\n",
    "\\begin{align}\n",
    "\\sigma_X^2 & = \\text{E}[X^2] - \\text{E}[X]^2 \\\\\n",
    "              & = \\mu^2 + \\mu - \\mu^2 \\\\\n",
    "              &= \\mu\n",
    "\\end{align}\n",
    "$$\n"
   ]
  },
  {
   "cell_type": "markdown",
   "metadata": {
    "slideshow": {
     "slide_type": "slide"
    }
   },
   "source": [
    "## When is it used?\n",
    "\n",
    "If an event with a low probability of occurence at any instant is known:\n",
    "- to occur randomly, and\n",
    "- to have a mean number of occurences $\\mu$ in a given time (or space) interval has a Poisson distribution (approximately) with parameter $\\mu$.\n",
    "\n",
    "---"
   ]
  },
  {
   "cell_type": "markdown",
   "metadata": {
    "slideshow": {
     "slide_type": "subslide"
    }
   },
   "source": [
    "**example**\n",
    "\n",
    "Goverment statistic for a certain country show that the average number of major industrial accidents per year for large firms is 1.1 per 5000 employees. Find the probability that there will be at least one major accident per year for  firm with:\n",
    "\n",
    "- 5000 employees\n",
    "- 10000 employees"
   ]
  },
  {
   "cell_type": "markdown",
   "metadata": {
    "slideshow": {
     "slide_type": "fragment"
    }
   },
   "source": [
    "### Solution  \n",
    "\n",
    "Here we have a unit scale of 5000 employees and we are given the average accident rate per year is 1.1 per 5000 employees. \n",
    "\n",
    "This should satisfy our criteria to be Poisson distributed - the accidents are rare and randomness should be a reasonable assumption. \n",
    "\n",
    "Then we have a Poisson distribution with $\\mu = 1.1$ in the interval of interest (1 year). So\n",
    "$$\n",
    "P(X \\ge 1) = 1 - p(0) = 1 - e^{-1.1} \\frac{1.1^0}{0!} = 0.6671\n",
    "$$\n",
    "- Now we have a new scale of 10000 employees. If the accidents are rare, independent and random we'd then expect 2.2 accidents per year in a firm with 10000 employees. So\n",
    "$$\n",
    "P(X \\ge 1) = 1 - p(0) = 1 - e^{-2.2} \\frac{2.2^0}{0!} = 0.8892\n",
    "$$\n",
    "\n",
    "So it is bad to work for a big firm?\n"
   ]
  },
  {
   "cell_type": "markdown",
   "metadata": {
    "slideshow": {
     "slide_type": "slide"
    }
   },
   "source": [
    "## Approximation to binomial distribution\n",
    "\n",
    "One way to see how it can occur is to see how it can approximate a binomial distribution if $n$ is large and $p$ small.  \n",
    "\n",
    "Recall that\n",
    "$$\n",
    "P(X=x) = {n \\choose x}p^x(1-p)^{n-x}, (x=0,1,\\ldots,n-1,n)\n",
    "$$\n",
    "for a binomially distributed random variable.\n",
    "\n",
    "So if $X$ is a binomially distributed random variable with parameters ($n, p$). If we let $\\mu = np$  \n",
    "$$\n",
    "\\begin{align}\n",
    "P(X=x) &= {n \\choose x}p^x(1-p)^{n-x} \\\\\n",
    "       &= \\frac{n! }{(n-x)!x!} p^x(1-p)^{n-x} \\\\\n",
    "       &= \\frac{n! }{(n-x)!x!} \\frac{\\mu}{n}^x \\Big(1-\\frac{\\mu}{n}\\Big)^{n-x} \\\\\n",
    "       &= \\frac{n(n-1)\\cdots(n-x+1)}{n^x}\\frac{\\mu^x}{x!}\\frac{\\Big(1-\\frac{\\mu}{n}\\Big)^n}{\\Big(1-\\frac{\\mu}{n}\\Big)^x}\n",
    "\\end{align}\n",
    "$$\n",
    "Now for large $n$ and small $p$ we can make the approximations\n",
    "$$\n",
    "\\begin{align}\n",
    "\\Big(1-\\frac{\\mu}{n}\\Big)^n & \\approx e^{-\\mu}, \\\\\n",
    "\\frac{n(n-1)\\cdots(n-x+1)}{n^x} & \\approx 1, \\\\\n",
    "\\Big(1-\\frac{\\mu}{n}\\Big)^x & \\approx 1\n",
    "\\end{align}\n",
    "$$\n",
    "Then we get that \n",
    "$$\n",
    "P(X=x) \\approx e^{-\\mu} \\frac{\\mu^x}{x!}\n",
    "$$"
   ]
  },
  {
   "cell_type": "markdown",
   "metadata": {
    "slideshow": {
     "slide_type": "slide"
    }
   },
   "source": [
    "## Geometric Distribution\n",
    "\n",
    "A discrete random variable $X$ with probability mass function $p(x)$ of the form:\n",
    "$$\n",
    "P(X=x) = p(x) = (1-p)^x p \n",
    "$$\n",
    "with $0 \\le p \\le 1$ is said to have a geometric distribution. \n",
    "\n",
    "(This is not dissimilar to Q2 of assignment 1, or problem 6 of problem class 1.)\n",
    "\n",
    "(Aside, The use of $p$ as the probability of success of individual attempts seems quite common, don't confuse it with the probability mass function (which is a function and should have an argument).)\n",
    "\n",
    "You can prove that it is a valid probability mass function by noting that the sum over all $x$ is a geometric progression that can be summed up immediately (see this week's problem class)."
   ]
  },
  {
   "cell_type": "markdown",
   "metadata": {
    "slideshow": {
     "slide_type": "fragment"
    }
   },
   "source": [
    "We just give the expectation and variance here for completeness.\n",
    "\n",
    "---\n",
    "\n",
    "- $\\text{E}[X] = \\frac{1-p}{p}$\n",
    "- $\\text{var}(X) = \\frac{1-p}{p^2}$\n",
    "\n",
    "---\n",
    "\n",
    "This distribution can be a bit ugly because different people define things a little differently: \n",
    "\n",
    "- Some define the variable as the number of experiments until we obtain a success, we get $E(X)=1/p$. \n",
    "- Others talk about the expected number of failures before a success, $E(X) = (1-p)/p$.\n",
    "\n"
   ]
  },
  {
   "cell_type": "markdown",
   "metadata": {
    "slideshow": {
     "slide_type": "subslide"
    }
   },
   "source": [
    "##### **example**\n",
    "\n",
    "What is the expected number of rolls of a fair die to obtain a 1?\n",
    "\n",
    "Here we formulate the question as the total number of experiments until we get a success. So we have $\\text{E}[X]=\\frac{1}{\\frac{1}{6}}=6$.\n",
    "\n",
    "If it had been phrased as the number of rolls before we get the 1 we'd have\n",
    "$\\text{E}[X]=\\frac{1-\\frac{1}{6}} {\\frac{1}{6}} =5$."
   ]
  },
  {
   "cell_type": "markdown",
   "metadata": {
    "slideshow": {
     "slide_type": "slide"
    }
   },
   "source": [
    "## Exponential distribution\n",
    "\n",
    "An exponential random variable is has pdf\n",
    "\n",
    "$$\n",
    "\\begin{align}\n",
    "f_Y(y) & = \\beta e^{-\\beta y}, \\hfill y > 0 \\\\\n",
    "       & = 0 \\text{ otherwise:}\n",
    "\\end{align}\n",
    "$$\n",
    "\n",
    "Lets find the expectation and variance using the moment generating function of $Y$.\n",
    "\n",
    "The moment generating function of $Y$ is \n",
    "$$\n",
    "\\begin{align}\n",
    "m_Y(t) & = \\text{E}[e^{tY}]\\\\\n",
    "       & = \\int_0^{\\infty} e^{ty} \\beta e^{- \\beta y} \\text{d}y\\\\\n",
    "       & = \\int_0^{\\infty} \\beta e^{-y(\\beta-t)} \\text{d}y\\\\\n",
    "       & = \\frac{\\beta}{\\beta-t}\n",
    "\\end{align}\n",
    "$$\n",
    "\n",
    "to find the moments we take the derivative with respect to $t$ then set $t = 0$\n",
    "\n",
    "$$\n",
    "\\mu_Y = m^{(1)}(0) = \\beta ^{-1}\n",
    "$$\n",
    "\n",
    "$$\n",
    "m_2 = m^{(2)}(0) = 2 \\beta^{-2}\n",
    "$$\n",
    "\n",
    "so \n",
    "\n",
    "$$\n",
    "\\sigma_Y^2 = m_2 - \\mu^2 = \\beta^{-2}\n",
    "$$"
   ]
  },
  {
   "cell_type": "markdown",
   "metadata": {
    "slideshow": {
     "slide_type": "slide"
    }
   },
   "source": [
    "# Summary of part 2\n",
    "\n",
    "We've looked at several of the important probability distribution/mass functions that occur in probability and statistics.\n",
    "\n",
    "- Poisson\n",
    "- Geometric\n",
    "- Exponential"
   ]
  }
 ],
 "metadata": {
  "celltoolbar": "Slideshow",
  "kernelspec": {
   "display_name": "Python 3",
   "language": "python",
   "name": "python3"
  },
  "language_info": {
   "codemirror_mode": {
    "name": "ipython",
    "version": 3
   },
   "file_extension": ".py",
   "mimetype": "text/x-python",
   "name": "python",
   "nbconvert_exporter": "python",
   "pygments_lexer": "ipython3",
   "version": "3.5.3"
  }
 },
 "nbformat": 4,
 "nbformat_minor": 0
}
