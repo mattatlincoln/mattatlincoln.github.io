{
 "cells": [
  {
   "cell_type": "code",
   "execution_count": 1,
   "metadata": {
    "collapsed": true,
    "slideshow": {
     "slide_type": "skip"
    }
   },
   "outputs": [],
   "source": [
    "# Slides for Probability and Statistics module, 2015-2016\n",
    "# Matt Watkins, University of Lincoln"
   ]
  },
  {
   "cell_type": "code",
   "execution_count": 2,
   "metadata": {
    "collapsed": true,
    "slideshow": {
     "slide_type": "fragment"
    }
   },
   "outputs": [],
   "source": [
    "import numpy as np\n",
    "import scipy.stats as stats\n",
    "import matplotlib.pyplot as plt\n",
    "%matplotlib inline"
   ]
  },
  {
   "cell_type": "markdown",
   "metadata": {
    "slideshow": {
     "slide_type": "slide"
    }
   },
   "source": [
    "## Big N\n",
    "\n",
    "lets have a look at these distributuions as $N$ gets large\n",
    "\n",
    "First the Binomial distribution\n",
    "\n",
    "$$\n",
    "P(X=x) = {n \\choose x}p^x(1-p)^{n-x}, (x=0,1,\\ldots,n-1,n)\n",
    "$$\n",
    "\n",
    "![](binomial_dists.png)"
   ]
  },
  {
   "cell_type": "markdown",
   "metadata": {
    "slideshow": {
     "slide_type": "slide"
    }
   },
   "source": [
    "# binomial pmf as n increases"
   ]
  },
  {
   "cell_type": "code",
   "execution_count": 3,
   "metadata": {
    "slideshow": {
     "slide_type": "skip"
    }
   },
   "outputs": [
    {
     "data": {
      "image/png": "[encoded data removed]",
      "text/plain": [
       "<matplotlib.figure.Figure at 0x72870a0c7080>"
      ]
     },
     "metadata": {},
     "output_type": "display_data"
    }
   ],
   "source": [
    "fig, ax = plt.subplots(2, 2)\n",
    "\n",
    "n, p = 10, 0.1\n",
    "fig.suptitle('Binomial pmf with $n$ = 10,50,100,1000 and $p$ = {}'.format(p), fontsize=12)\n",
    "x0 = np.arange(stats.binom.ppf(0.001, n, p),\n",
    "              stats.binom.ppf(0.999, n, p))\n",
    "ax[0,0].plot(x0, stats.binom.pmf(x0, n, p), 'bo', ms=8, label='binom pmf');\n",
    "ax[0,0].vlines(x0, 0, stats.binom.pmf(x0, n, p), colors='b', lw=5, alpha=0.5);\n",
    "\n",
    "n, p = 50, 0.1\n",
    "x1 = np.arange(stats.binom.ppf(0.001, n, p),\n",
    "              stats.binom.ppf(0.999, n, p))\n",
    "ax[0,1].plot(x1, stats.binom.pmf(x1, n, p), 'bo', ms=8, label='binom pmf');\n",
    "ax[0,1].vlines(x1, 0, stats.binom.pmf(x1, n, p), colors='b', lw=5, alpha=0.5);\n",
    "\n",
    "n, p = 100, 0.1\n",
    "x2 = np.arange(stats.binom.ppf(0.001, n, p),\n",
    "              stats.binom.ppf(0.999, n, p))\n",
    "ax[1,0].plot(x2, stats.binom.pmf(x2, n, p), 'bo', ms=8, label='binom pmf');\n",
    "ax[1,0].vlines(x2, 0, stats.binom.pmf(x2, n, p), colors='b', lw=5, alpha=0.5);\n",
    "\n",
    "n, p = 1000, 0.1\n",
    "x3 = np.arange(stats.binom.ppf(0.001, n, p),\n",
    "              stats.binom.ppf(0.999, n, p))\n",
    "ax[1,1].plot(x3, stats.binom.pmf(x3, n, p), 'bo', ms=8, label='binom pmf');\n",
    "ax[1,1].vlines(x3, 0, stats.binom.pmf(x3, n, p), colors='b', lw=5, alpha=0.5);\n",
    "\n",
    "plt.savefig('binomial_dists.png')"
   ]
  },
  {
   "cell_type": "markdown",
   "metadata": {
    "slideshow": {
     "slide_type": "slide"
    }
   },
   "source": [
    "And now for the Poisson distribution\n",
    "\n",
    "$$\n",
    "p(x) = e^{-\\mu}\\frac{\\mu^x}{x!}, \n",
    "$$\n",
    "\n",
    "\n",
    "![](poisson_dists.png)"
   ]
  },
  {
   "cell_type": "code",
   "execution_count": 4,
   "metadata": {
    "scrolled": true,
    "slideshow": {
     "slide_type": "skip"
    }
   },
   "outputs": [
    {
     "data": {
      "image/png": "[encoded data removed]",
      "text/plain": [
       "<matplotlib.figure.Figure at 0x7287069b0898>"
      ]
     },
     "metadata": {},
     "output_type": "display_data"
    }
   ],
   "source": [
    "fig, ax = plt.subplots(2, 2)\n",
    "fig.suptitle('Poisson probability mass function with $\\mu$ = 1, 5, 10, 50', fontsize=12)\n",
    "\n",
    "mu = 1\n",
    "\n",
    "x = np.arange(stats.poisson.ppf(0.001, mu),\n",
    "              stats.poisson.ppf(0.999, mu))\n",
    "ax[0,0].plot(x, stats.poisson.pmf(x, mu), 'bo', ms=8, label='poisson pmf');\n",
    "ax[0,0].vlines(x, 0, stats.poisson.pmf(x, mu), colors='b', lw=5, alpha=0.5);\n",
    "\n",
    "mu = 5\n",
    "\n",
    "x1 = np.arange(stats.poisson.ppf(0.001, mu),\n",
    "              stats.poisson.ppf(0.999, mu))\n",
    "ax[0,1].plot(x1, stats.poisson.pmf(x1, mu), 'bo', ms=8, label='poisson pmf');\n",
    "ax[0,1].vlines(x1, 0, stats.poisson.pmf(x1, mu), colors='b', lw=5, alpha=0.5);\n",
    "\n",
    "mu = 10\n",
    "\n",
    "x1 = np.arange(stats.poisson.ppf(0.001, mu),\n",
    "              stats.poisson.ppf(0.999, mu))\n",
    "ax[1,0].plot(x2, stats.poisson.pmf(x2, mu), 'bo', ms=8, label='poisson pmf');\n",
    "ax[1,0].vlines(x2, 0, stats.poisson.pmf(x2, mu), colors='b', lw=5, alpha=0.5);\n",
    "\n",
    "mu = 50\n",
    "\n",
    "x3 = np.arange(stats.poisson.ppf(0.01, mu),\n",
    "              stats.poisson.ppf(0.99, mu))\n",
    "ax[1,1].plot(x3, stats.poisson.pmf(x3, mu), 'bo', ms=8, label='poisson pmf');\n",
    "ax[1,1].vlines(x3, 0, stats.poisson.pmf(x3, mu), colors='b', lw=5, alpha=0.5);\n",
    "\n",
    "plt.savefig('poisson_dists.png')"
   ]
  },
  {
   "cell_type": "markdown",
   "metadata": {
    "slideshow": {
     "slide_type": "slide"
    }
   },
   "source": [
    "We see that both tend towards a bell shaped curve as $n$ increases\n",
    " \n",
    "![](binomial_dists.png)\n",
    "![](poisson_dists.png)\n",
    "\n",
    "(you can also see that the binomial and poisson look quite similar, poisson should be a good approx when $\\mu = np$)"
   ]
  },
  {
   "cell_type": "markdown",
   "metadata": {
    "slideshow": {
     "slide_type": "slide"
    }
   },
   "source": [
    "# Normal Distribution\n",
    "\n",
    "This brings us to the most important distribution in all of probability and statistics, the normal distribution. \n",
    "\n",
    "The name gives it away (though this probably not the reason for the name) - this is the distribution that you normally expect to see: \n",
    "- Peoples' heights, \n",
    "- velocities of atoms ... if there are enough of something, it will be normally distributed.\n",
    "\n",
    "This property, that most distributions tend to the normal distribution as the sample/population gets large, has the big name - [Central Limit Theorem](https://en.wikipedia.org/wiki/Central_limit_theorem).\n",
    "\n",
    "We'll look in detail at the normal distribution and some distributions derived from it now."
   ]
  },
  {
   "cell_type": "code",
   "execution_count": 5,
   "metadata": {
    "slideshow": {
     "slide_type": "skip"
    }
   },
   "outputs": [
    {
     "data": {
      "image/png": "[encoded data removed]",
      "text/plain": [
       "<matplotlib.figure.Figure at 0x728706c38d68>"
      ]
     },
     "metadata": {},
     "output_type": "display_data"
    }
   ],
   "source": [
    "fig, ax = plt.subplots(1, 1)\n",
    "\n",
    "x = np.linspace(int(stats.norm.ppf(0.001)),\n",
    "                  int(stats.norm.ppf(0.999)),\n",
    "                (int(stats.norm.ppf(0.999) - int(stats.norm.ppf(0.001))))*10+1)\n",
    "\n",
    "ax.plot(x, stats.norm.pdf(x), 'b-', ms=8, label='normal pdf');\n",
    "ax.plot(x, stats.norm.cdf(x), 'r-', ms=8, label='normal cdf');\n",
    "ax.plot(x, x*stats.norm.pdf(x), 'g-', ms=8, label=r'$x \\times$ normal pdf');\n",
    "ax.legend(loc='upper left');\n",
    "plt.savefig('stdnorm.png')"
   ]
  },
  {
   "cell_type": "markdown",
   "metadata": {
    "slideshow": {
     "slide_type": "subslide"
    }
   },
   "source": [
    "**definition**\n",
    "\n",
    "We say that $X$ is a normal random variable, or that $X$ is normally distributed, with parameters $\\mu$ and $\\sigma^2$ if the probability density function of $X$ is given by\n",
    "$$\n",
    "f(x) = \\frac{1}{\\sqrt{2 \\pi} \\sigma} e^{-\\frac{(x-\\mu)^2}{2 \\sigma^2}}\n",
    "$$\n",
    "\n",
    "This function is also called a Gaussian function.\n",
    "\n",
    "![](norm_10_5.png)\n",
    "\n",
    "We'll see that the parameters $\\mu$ and $\\sigma$ control the location of the centre of the distribution and its width. $\\mu$ defines the centre of the distribution, and as the distribtuion is symmetric about the centre, its mean and median. \n",
    "\n",
    "We'll also see that $\\sigma$ is the standard deviation of this pdf."
   ]
  },
  {
   "cell_type": "code",
   "execution_count": 6,
   "metadata": {
    "slideshow": {
     "slide_type": "skip"
    }
   },
   "outputs": [
    {
     "data": {
      "image/png": "[encoded data removed]",
      "text/plain": [
       "<matplotlib.figure.Figure at 0x728706cecd30>"
      ]
     },
     "metadata": {},
     "output_type": "display_data"
    }
   ],
   "source": [
    "fig, ax = plt.subplots(1, 1)\n",
    "\n",
    "mu = 10\n",
    "sigma = 5\n",
    "\n",
    "x = np.linspace(int(stats.norm.ppf(0.001,loc = mu, scale = sigma)),\n",
    "                  int(stats.norm.ppf(0.999,loc = mu, scale = sigma)),\n",
    "                (int(stats.norm.ppf(0.999,loc = mu, scale = sigma) - int(stats.norm.ppf(0.001,loc = mu, scale = sigma))))*10+1)\n",
    "\n",
    "ax.plot(x, stats.norm.pdf(x,loc = mu, scale = sigma), 'b-', ms=8, label='normal pdf');\n",
    "ax.plot(x, stats.norm.cdf(x,loc = mu, scale = sigma), 'r-', ms=8, label='normal cdf');\n",
    "ax.legend(loc='center right');\n",
    "plt.savefig('norm_10_5.png')"
   ]
  },
  {
   "cell_type": "markdown",
   "metadata": {
    "slideshow": {
     "slide_type": "slide"
    }
   },
   "source": [
    "## Check it is a valid pdf\n",
    "\n",
    "It is not at all obvious that \n",
    "$$\n",
    "f(x) = \\frac{1}{\\sqrt{2 \\pi} \\sigma} e^{-\\frac{(x-\\mu)^2}{2 \\sigma^2}}\n",
    "$$\n",
    "is a valid probability density function. The integration \n",
    "$$\n",
    "\\int_{-\\infty}^{\\infty} \\frac{1}{\\sqrt{2 \\pi} \\sigma} e^{-\\frac{(x-\\mu)^2}{2 \\sigma^2}} \\rm{d}x \n",
    "$$\n",
    "\n",
    "requires a few tricks. \n",
    "\n",
    "You only need the result, but it is good that you see a sketch of how the integral can be done.\n"
   ]
  },
  {
   "cell_type": "markdown",
   "metadata": {
    "slideshow": {
     "slide_type": "subslide"
    }
   },
   "source": [
    "First we define a new variable $y = \\frac{(x - \\mu)}{\\sigma}$, we then see that\n",
    "$$\n",
    "\\int_{-\\infty}^{\\infty} \\frac{1}{\\sqrt{2 \\pi} \\sigma} e^{-\\frac{(x-\\mu)^2}{2 \\sigma^2}} \\rm{d}x  = \\int_{-\\infty}^{\\infty} \\frac{1}{\\sqrt{2 \\pi}} e^{-\\frac{y^2}{2 }} \\rm{d}y\n",
    "$$\n",
    "So we want to show that\n",
    "$$\n",
    "I = \\int_{-\\infty}^{\\infty} e^{-\\frac{y^2}{2 }} \\rm{d}y = \\sqrt{2 \\pi}\n",
    "$$"
   ]
  },
  {
   "cell_type": "markdown",
   "metadata": {
    "slideshow": {
     "slide_type": "subslide"
    }
   },
   "source": [
    "Now lets instead consider the square of $I$\n",
    "$$\n",
    "I^2 = \\int_{-\\infty}^{\\infty} e^{-\\frac{y^2}{2 }}~\\rm{d}y \\int_{-\\infty}^{\\infty} e^{-\\frac{x^2}{2 }}~\\rm{d}x \n",
    "$$\n",
    "note the two variables are different otherwise it would not be the simple product of the two integrals, which after all are only simple numbers.\n",
    "$$\n",
    "I^2 = \\int_{-\\infty}^{\\infty} \\int_{-\\infty}^{\\infty} e^{-\\frac{x^2 + y^2}{2 }}~\\rm{d}y~\\rm{d}x \n",
    "$$\n",
    "The point of squaring the integral is that we can now change to polar coordinates (remember calculus last term), though this goes beyond what you have yet done with multiple integrals."
   ]
  },
  {
   "cell_type": "markdown",
   "metadata": {
    "slideshow": {
     "slide_type": "subslide"
    }
   },
   "source": [
    "We let $x = r \\cos \\theta$ and $y = r \\sin \\theta$. We also have that $\\rm{d}y \\rm{d}x = r~\\rm{d}\\theta~\\rm{d}r$. Then we find that\n",
    "$$\n",
    "\\begin{align}\n",
    "I^2 & = \\int_{-\\infty}^{\\infty} \\int_{-\\infty}^{\\infty} e^{-\\frac{x^2 + y^2}{2 }}~\\rm{d}y~\\rm{d}x \\\\\n",
    "    & = \\int_{0}^{\\infty} \\int_{0}^{2 \\pi} e^{-\\frac{r^2}{2 }} r~\\rm{d}\\theta~\\rm{d}r \\\\\n",
    "    & = 2 \\pi \\int_{0}^{\\infty}  r e^{-\\frac{r^2}{2 }}~\\rm{d}r \\\\\n",
    "\\end{align}\n",
    "$$\n",
    "Surprisingly this integral is much easier than $I$. We can substitute $s = -r^2$ to carry out the definite integral, leading to\n",
    "$$\n",
    "\\begin{align}\n",
    " I^2  & = 2 \\pi e^{\\frac{s}{2}} \\Big| _{-\\infty}^{0} \\\\\n",
    "      & = 2 \\pi\n",
    "\\end{align}\n",
    "$$\n",
    "Hence $I = \\sqrt{2 \\pi}$ and we have proved that $f(x)$ is a valid probability density function."
   ]
  },
  {
   "cell_type": "markdown",
   "metadata": {
    "slideshow": {
     "slide_type": "slide"
    }
   },
   "source": [
    "## Expectation and variance of the standard normal distribution\n",
    "\n",
    "Find the expectation and variance of a standard normally distributed random variable $Z$ with parameters $\\mu = 0$ and $\\sigma = 1$ \n",
    "\n",
    "![](stdnorm.png)\n",
    "\n",
    "The expectation of $Z$ is given by\n",
    "$$\n",
    "\\begin{align}\n",
    "\\text{E}[Z] & =\\int_{-\\infty}^{\\infty}z f_Z (z)\\rm{d}z \\\\\n",
    "            & =\\frac{1}{\\sqrt{2 \\pi}} \\int_{-\\infty}^{\\infty} z e^{-\\frac{z^2}{2}} \\rm{d}z \\\\\n",
    "            & = 0\n",
    "\\end{align}\n",
    "$$\n",
    "\n",
    "because it is an odd function of $z$."
   ]
  },
  {
   "cell_type": "markdown",
   "metadata": {
    "slideshow": {
     "slide_type": "subslide"
    }
   },
   "source": [
    "The variance is given by (note $\\text{E}[Z]^2  = 0$)\n",
    "\n",
    "$$\n",
    "\\begin{align}\n",
    "\\sigma_Z^2 & = \\text{E}[Z^2] - (\\text{E}[Z])^2 \\\\\n",
    "           & = \\text{E}[Z^2] \\\\\n",
    "           & = \\frac{1}{\\sqrt{2 \\pi}} \\int_{-\\infty}^{\\infty}z^2 e^{-\\frac{z^2}{2}} \\text{d}z\n",
    "\\end{align}\n",
    "$$\n",
    "\n",
    "We can integrate by parts ($u = z$) to obtain"
   ]
  },
  {
   "cell_type": "markdown",
   "metadata": {
    "slideshow": {
     "slide_type": "subslide"
    }
   },
   "source": [
    "$$\n",
    "\\begin{align}\n",
    "\\sigma_Z^2 &  = \\frac{1}{\\sqrt{2 \\pi}} \\int_{-\\infty}^{\\infty}z^2 e^{-\\frac{z^2}{2}} \\text{d}z \\\\\n",
    "            & = \\frac{1}{\\sqrt{2 \\pi}} \\big( -ze^{-\\frac{z^2}{2}} \\Big|_{-\\infty}^{\\infty} + \\int_{-\\infty}^{\\infty}e^{-\\frac{z^2}{2}} \\text{d}z \\big) \\\\\n",
    "            & = \\frac{1}{\\sqrt{2 \\pi}} \\int_{-\\infty}^{\\infty}e^{-\\frac{z^2}{2}} \\text{d}z \\\\\n",
    "            & = 1\n",
    "\\end{align}\n",
    "$$\n",
    "\n",
    "using the property of the normal pdf. \n"
   ]
  },
  {
   "cell_type": "markdown",
   "metadata": {
    "slideshow": {
     "slide_type": "subslide"
    }
   },
   "source": [
    "## Standard normal variable\n",
    "\n",
    "The standard normal variable is a normally distributed random variable with $\\mu = 0$ and $\\sigma = 1$. The reason this is important is that through a change of variables we can map any other normally distributed variable onto the standard case.\n",
    "\n",
    "$\\textbf{Proposition}$:  if $X$ is normally distributed with parameters $\\mu$ and $\\sigma$ then \n",
    "$$\n",
    "X = \\mu + \\sigma Z\n",
    "$$\n",
    "\n",
    "where $Z$ is a variable with the standard normal distribution."
   ]
  },
  {
   "cell_type": "markdown",
   "metadata": {
    "slideshow": {
     "slide_type": "subslide"
    }
   },
   "source": [
    "Now we can use our previous results on the preperties of expectations and variances to show that the expectation and variance of the general normally distributed random variable $X = \\mu + \\sigma Z$ is given by\n",
    "$$\n",
    "\\begin{align}\n",
    "\\text{E}[X] & = \\text{E}[\\mu + \\sigma Z] \\\\\n",
    "            & = \\text{E}[\\mu] + \\text{E}[\\sigma Z] \\\\\n",
    "            & = \\mu + \\sigma \\text{E}[ Z] \\\\\n",
    "            & = \\mu\n",
    "\\end{align}\n",
    "$$\n",
    "\n",
    "and\n",
    "\n",
    "$$\n",
    "\\begin{align}\n",
    "\\text{var}(X) & = \\text{var}(\\mu + \\sigma Z) \\\\\n",
    "              & = \\text{var}(\\sigma Z) \\\\\n",
    "              & = \\sigma^2  \\text{var}( Z) \\\\\n",
    "              & = \\sigma^2\n",
    "\\end{align}\n",
    "$$\n",
    "\n",
    "as promised.\n",
    "\n",
    "The important point is we basically never have to work with a general normally distributed random variable, we just transform to $Z$ and do everything in terms of $Z$ and its distribution. "
   ]
  },
  {
   "cell_type": "markdown",
   "metadata": {
    "slideshow": {
     "slide_type": "slide"
    }
   },
   "source": [
    "### Equivalent probabilities\n",
    "\n",
    "We can go a further and consider the probability density functions of $X$ and $Z$. Consider the probability\n",
    "\n",
    "$$\n",
    "P(a \\leq X \\leq b) = \\int_{a}^{b} f_X(x)dx\n",
    "$$\n",
    "\n",
    "now lets consider the left hand side, but substitute in $X = \\mu + \\sigma Z$, we get\n",
    "\n",
    "$$\n",
    "P(a \\leq X \\leq b) = P(a \\leq \\mu + \\sigma Z \\leq b)\n",
    "$$\n",
    "\n",
    "now we can manipulate this - $\\mu$ is just a number, nd $\\sigma$ must be positive, by definition.\n"
   ]
  },
  {
   "cell_type": "markdown",
   "metadata": {
    "slideshow": {
     "slide_type": "subslide"
    }
   },
   "source": [
    "$$\n",
    "\\begin{align}\n",
    "P(a \\leq X \\leq b) & = P(a \\leq \\mu + \\sigma Z \\leq b) \\\\\n",
    "                   & = P(a - \\mu \\leq \\sigma Z \\leq b - \\mu ) \\\\\n",
    "                   & = P(\\frac{a - \\mu}{\\sigma} \\leq  Z \\leq \\frac{b - \\mu}{\\sigma} ) \\\\\n",
    "\\end{align}\n",
    "$$\n",
    "and as $Z$ is our standard normal distribution\n",
    "\n",
    "$$\n",
    "P(a \\leq X \\leq b) = \\int\\limits_{\\frac{a - \\mu}{\\sigma}}^{\\frac{b - \\mu}{\\sigma}} f_Z(z)dz\n",
    "$$\n",
    "\n",
    "So we can use the standard normal distribution, but we scale the limits of the integral."
   ]
  },
  {
   "cell_type": "markdown",
   "metadata": {
    "slideshow": {
     "slide_type": "subslide"
    }
   },
   "source": [
    "## Cumulative distribution function\n",
    "\n",
    "The cumulative distribution function, $F(x)$, of a normally distributed random variable doesn't have an analytic form. \n",
    "\n",
    "Instead it can be calculated numerically by a variety of methods. Typically its values can be looked up in statistical tables, or calculated on-the-fly with modern computing power.\n",
    "\n",
    "The cumulative distribution function of $Z$ the standard normal variable is conventionally denoted by $\\Phi(z)$, or sometimes $N(z)$.\n",
    "\n",
    "$$\n",
    "\\Phi(a) = \\int_{-\\infty}^{a} e^{-\\frac{z^2}{2}} \\text{d}z\n",
    "$$\n",
    "\n",
    "we can get this function in python in the same way we were doing for binomial or poisson distributions.\n",
    "\n",
    "The inverse of this function gives the percentiles of the standard normal distribution. \n"
   ]
  },
  {
   "cell_type": "markdown",
   "metadata": {
    "slideshow": {
     "slide_type": "subslide"
    }
   },
   "source": [
    "Python refers to it as the percentage point function of the normal distribution.\n",
    "\n",
    "$$\n",
    "\\Phi(0) = 0.5\n",
    "$$\n",
    "\n",
    "or  \n",
    "\n",
    "`\n",
    "stats.norm.cdf(0.0)\n",
    "0.5\n",
    "`\n",
    "\n",
    "and \n",
    "\n",
    "$$\n",
    "\\Phi^{-1}(0.5) = 0\n",
    "$$\n",
    "\n",
    "`\n",
    "stats.norm.ppf(0.5)\n",
    "0.0\n",
    "`"
   ]
  },
  {
   "cell_type": "markdown",
   "metadata": {
    "slideshow": {
     "slide_type": "fragment"
    }
   },
   "source": [
    "To get values of the $\\Phi$ that are below 0.5 we can use the symmetry of the function to obtain\n",
    "$$\n",
    "\\Phi(-z) = 1 - \\Phi(z)\n",
    "$$\n"
   ]
  },
  {
   "cell_type": "markdown",
   "metadata": {
    "slideshow": {
     "slide_type": "slide"
    }
   },
   "source": [
    "# Summary of part 3\n",
    "\n",
    "general properties of the normal distribution\n",
    "\n",
    "    - probability density function\n",
    "    - cumulative distribution function\n",
    "    - standard normal variable\n",
    "    - transformation of general normal variable to the standard form"
   ]
  }
 ],
 "metadata": {
  "celltoolbar": "Slideshow",
  "kernelspec": {
   "display_name": "Python 3",
   "language": "python",
   "name": "python3"
  },
  "language_info": {
   "codemirror_mode": {
    "name": "ipython",
    "version": 3
   },
   "file_extension": ".py",
   "mimetype": "text/x-python",
   "name": "python",
   "nbconvert_exporter": "python",
   "pygments_lexer": "ipython3",
   "version": "3.6.1"
  }
 },
 "nbformat": 4,
 "nbformat_minor": 1
}
