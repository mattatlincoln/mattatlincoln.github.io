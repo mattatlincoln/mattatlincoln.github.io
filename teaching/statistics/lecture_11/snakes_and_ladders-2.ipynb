{
 "cells": [
  {
   "cell_type": "markdown",
   "metadata": {
    "collapsed": false
   },
   "source": [
    "# Snakes and ladders simulator\n",
    "\n",
    "The following code progagates  a Markov Chain. \n",
    "\n",
    "First cell draws a probability density plot showing the likely tiles a player will be on after interations + 1 turns of the game. Change the number of iterations (iterations variable) to see the probability distribution change with with the number of turns.\n",
    "\n",
    "The second cell calculates the entropy of the game as a function of number of steps. We see that the maximum uncertainty in the position of the game is at turn 10."
   ]
  },
  {
   "cell_type": "code",
   "execution_count": 1,
   "metadata": {
    "collapsed": true
   },
   "outputs": [],
   "source": [
    "# Matt Watkins \n",
    "# Adapted from code by\n",
    "# http://www.natalinobusa.com/2013/01/markov-chains-for-ladders-and-snakes.html\n",
    "\n",
    "# Natalino Busa\n",
    "\n",
    "# twitter.com/natalinobusa\n",
    "# linkedin.com/in/natalinobusa\n",
    "# www.natalinobusa.com"
   ]
  },
  {
   "cell_type": "code",
   "execution_count": 9,
   "metadata": {
    "collapsed": false
   },
   "outputs": [
    {
     "data": {
      "image/png": "[encoded data removed]",
      "text/plain": [
       "<matplotlib.figure.Figure at 0x1f020406f98>"
      ]
     },
     "metadata": {},
     "output_type": "display_data"
    }
   ],
   "source": [
    "import numpy as np\n",
    "import matplotlib.pyplot as plt\n",
    "%matplotlib inline\n",
    "\n",
    "def colormap(matrix, max_weight=None, ax=None):\n",
    "    \"\"\"Draw color map for visualizing probability.\"\"\"\n",
    "    ax = ax if ax is not None else plt.gca()\n",
    "\n",
    "    #ax.patch.set_facecolor('gray')\n",
    "    ax.set_aspect('equal', 'box')\n",
    "    ax.xaxis.set_major_locator(plt.NullLocator())\n",
    "    ax.yaxis.set_major_locator(plt.NullLocator())\n",
    "\n",
    "    biggest = np.max(matrix)\n",
    "    size = 1\n",
    "    for (x, y), w in np.ndenumerate(matrix):\n",
    "        \n",
    "        rect = plt.Rectangle([y, x], size, size, alpha = w/biggest)\n",
    "        ax.add_patch(rect)\n",
    "\n",
    "    ax.autoscale_view()\n",
    "    \n",
    "size=100\n",
    "\n",
    "def special(p, pos_start, pos_end):\n",
    "  p[pos_start]= np.zeros(size+1)\n",
    "  p[pos_start][pos_start]=1\n",
    "  \n",
    "  #make sure that p stays row stocastic\n",
    "  #i.e the sum of each row must be always kept to 1\n",
    "  for i in range(size+1):\n",
    "    pp = p[i][pos_start]\n",
    "    p[i][pos_start] = 0\n",
    "    p[i][pos_end]   = p[i][pos_end] + pp\n",
    "\n",
    "def snake(p, pos_start, pos_end=0):\n",
    "  if (pos_end<pos_start):\n",
    "    special(p, pos_start, pos_end)\n",
    "\n",
    "def ladder(p, pos_start, pos_end=size):\n",
    "  if (pos_end>pos_start):\n",
    "    special(p, pos_start, pos_end)\n",
    "\n",
    "def nullgame():\n",
    "  p=np.zeros((size+1,size+1))\n",
    "  \n",
    "  for i in range(size+1):\n",
    "    for j in range(6):\n",
    "      if (i+j<size):\n",
    "        p[i][i+j+1]=1.0/6.0\n",
    "  \n",
    "  p[size][size]=1\n",
    "  \n",
    "  p[size-1][size]=6.0/6.0\n",
    "  p[size-2][size]=5.0/6.0\n",
    "  p[size-3][size]=4.0/6.0\n",
    "  p[size-4][size]=3.0/6.0\n",
    "  p[size-5][size]=2.0/6.0\n",
    "  p[size-6][size]=1.0/6.0\n",
    "  \n",
    "  return p\n",
    "\n",
    "a=np.zeros(size+1)\n",
    "p=nullgame()\n",
    "\n",
    "full_game = True\n",
    "if full_game:\n",
    "\n",
    "    starting = [4,9,17,20,28,40,51,54,62, 64,63,71,93,95,92]\n",
    "    ending  = [14,31,7,38,84,59,67,34,19, 60,81,91,73,75,78]\n",
    "\n",
    "    for i in range(0,len(starting)):\n",
    "        if starting[i] < ending[i]:\n",
    "            ladder(p,starting[i],ending[i])\n",
    "        else:\n",
    "            snake(p,starting[i],ending[i])\n",
    "\n",
    "#initial matrix is p\n",
    "m=p\n",
    "iterations = 10\n",
    "\n",
    "for k in range(1,iterations+1):\n",
    "    \n",
    "  #calculate the stocastic matrix for iteration k+1\n",
    "  m=np.dot(m,p)\n",
    "\n",
    "colormap(np.array(m[0,1:]).reshape(10,10))"
   ]
  },
  {
   "cell_type": "markdown",
   "metadata": {},
   "source": [
    "We can calculate the (Shannon) entropy at step $n$ using\n",
    "$$\n",
    "S^n = -\\sum_{j=0}^{100}(P^{(n)}_{0j} \\text{ln} P^{(n)}_{0j})\n",
    "$$\n",
    "that is we use the probabilities that after $n$ steps the walker has moved from state 0, to state j. The entropy is defined as the sum of these probabilities times the natural log of them."
   ]
  },
  {
   "cell_type": "code",
   "execution_count": 16,
   "metadata": {
    "collapsed": false
   },
   "outputs": [
    {
     "data": {
      "image/png": "[encoded data removed]",
      "text/plain": [
       "<matplotlib.figure.Figure at 0x7f0a5390ae10>"
      ]
     },
     "metadata": {},
     "output_type": "display_data"
    }
   ],
   "source": [
    "iterations = 100\n",
    "entropy=np.zeros(iterations+1)\n",
    "m=p\n",
    "\n",
    "for k in range(1,iterations+1):\n",
    "    \n",
    "  #calculate the stocastic matrix for iteration k+1\n",
    "  m=np.dot(m,p)\n",
    "  for i in range(1,size):\n",
    "      if m[0,i] > 0:\n",
    "          entropy[k] -= m[0,i]*np.log(m[0,i])\n",
    "\n",
    "plt.plot(entropy);"
   ]
  },
  {
   "cell_type": "markdown",
   "metadata": {},
   "source": [
    "We can see that the maximum entropy is at turn 10. If you look at the density plot for this turn you can see why - it is very uncertain (there is not much information) where the walker will be."
   ]
  },
  {
   "cell_type": "code",
   "execution_count": null,
   "metadata": {
    "collapsed": true
   },
   "outputs": [],
   "source": []
  }
 ],
 "metadata": {
  "kernelspec": {
   "display_name": "Python [default]",
   "language": "python",
   "name": "python3"
  },
  "language_info": {
   "codemirror_mode": {
    "name": "ipython",
    "version": 3
   },
   "file_extension": ".py",
   "mimetype": "text/x-python",
   "name": "python",
   "nbconvert_exporter": "python",
   "pygments_lexer": "ipython3",
   "version": "3.5.2"
  }
 },
 "nbformat": 4,
 "nbformat_minor": 0
}
