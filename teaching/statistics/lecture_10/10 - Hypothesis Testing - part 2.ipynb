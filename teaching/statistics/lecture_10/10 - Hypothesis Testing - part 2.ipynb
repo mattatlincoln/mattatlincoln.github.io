{
 "cells": [
  {
   "cell_type": "code",
   "execution_count": 2,
   "metadata": {
    "collapsed": true,
    "slideshow": {
     "slide_type": "skip"
    }
   },
   "outputs": [],
   "source": [
    "# Slides for Probability and Statistics module, 2015-2016\n",
    "# Matt Watkins, University of Lincoln"
   ]
  },
  {
   "cell_type": "code",
   "execution_count": 2,
   "metadata": {
    "collapsed": true,
    "slideshow": {
     "slide_type": "skip"
    }
   },
   "outputs": [],
   "source": [
    "import numpy as np\n",
    "import scipy.stats as stats\n",
    "import matplotlib.pyplot as plt\n",
    "%matplotlib inline"
   ]
  },
  {
   "cell_type": "markdown",
   "metadata": {
    "slideshow": {
     "slide_type": "slide"
    }
   },
   "source": [
    "# Hypothesis Testing\n",
    "\n",
    "This is another part of statistical inference.\n",
    "\n",
    "Before Easter we we estimated or inferred the values of population parameters (mean and variance) from statistical data.\n",
    "\n",
    "Last week we looked at confidence intervals - we estimated or inferred the range of values of population parameters with a certain degree of probability or confidence\n",
    "\n",
    "This week we look at some methods to make decisions based on these estimates."
   ]
  },
  {
   "cell_type": "markdown",
   "metadata": {
    "slideshow": {
     "slide_type": "slide"
    }
   },
   "source": [
    "**Example**\n",
    "\n",
    "Suppose we'd been following some population over a period of time and found it to be normally distributed with mean $\\mu$ and standard deviation $\\sigma$. Now, for some reason we have a suspicion that the the mean has changed in some way. \n",
    "\n",
    "We want to formulate some test that would allow us to make an informed decision whether our suspicions were correct or not. How should we attack this?"
   ]
  },
  {
   "cell_type": "markdown",
   "metadata": {
    "slideshow": {
     "slide_type": "slide"
    }
   },
   "source": [
    "## Summary of procedure to test if the population mean is $\\mu$ and $\\sigma$ is known\n",
    "\n",
    "- define $H_0$ and $H_1$\n",
    "- assume that the population mean is $\\mu$\n",
    "- choose a significance level, $\\alpha \\cdot 100$%, and calculate the corresponding critical values and rejection areas corresponding to the significance level and the hypotheses using a normal distribution.\n",
    "- take a random sample of size $N$ from the population under consideration\n",
    "- calculate the quantity \n",
    "$$\n",
    "\\frac{\\bar{x}-\\mu}{\\sigma/\\sqrt{N}} \\sim N(0,1) \\text{ (if our assumptions are correct)}\n",
    "$$\n",
    "using the sample results\n",
    "- if the calculated quantity is in the rejection areas we reject the idea that the population mean is $\\mu$. We say that there is evidence at the $\\alpha \\cdot 100$% level that the population mean is not $\\mu$. \n",
    "- otherwise we have no evidence that our suggestion that $\\mu$ is not a reasonable proposition\n",
    "\n",
    "All this applies to other population parameters or sample statistics - we just need to use appropriate distributions."
   ]
  },
  {
   "cell_type": "markdown",
   "metadata": {
    "slideshow": {
     "slide_type": "slide"
    }
   },
   "source": [
    "**example**\n",
    "\n",
    "A machine produces components whose lengths should be distributed Normally with mean 0.160 cm and standard deviation 0.012 cm. \n",
    "\n",
    "A sample of 100 is drawn and the sample mean computed as 0.157 cm. \n",
    "\n",
    "- Is there any evidence at the 5% level that the mean of component lengths has changed?"
   ]
  },
  {
   "cell_type": "markdown",
   "metadata": {
    "slideshow": {
     "slide_type": "fragment"
    }
   },
   "source": [
    "We are given that $\\mu=0.160$, $\\sigma=0.012$, $\\bar{x}=0.157$ and $N=100$.\n",
    "\n",
    "- We assume that the component lengths are distributed as $N(0.16,(0.012)^2)$.\n",
    "- A 5% significance level gives us critical $z$ values of $\\pm 1.96$, so the rejection areas are as we just saw.\n",
    "- We calculate our standardized test statistic, here its value is\n",
    "$$\n",
    "\\frac{\\bar{x}-\\mu}{\\sigma/\\sqrt{N}} = \\frac{0.157-0.160}{0.012/\\sqrt{100}} = -2.5\n",
    "$$\n",
    "- The above value lies in our rejection region, and so is significant at the 5% level.\n",
    "- Therefore, the original assumption can be rejected and we have shown that there is evidence at the 5% level that the mean of the component lengths has changed.\n",
    "- Note that $\\bar{x}$ is pretty close to $\\mu$ - but the standard deviation is small, and the sample size is large - both give allow us to resolve smaller differences between the sample and assumed population mean. "
   ]
  },
  {
   "cell_type": "markdown",
   "metadata": {
    "slideshow": {
     "slide_type": "slide"
    }
   },
   "source": [
    "## Disection of the results that we use\n",
    "\n",
    "- $\\bar{X} \\sim N(\\mu, \\sigma^2/N)$"
   ]
  },
  {
   "cell_type": "markdown",
   "metadata": {
    "slideshow": {
     "slide_type": "subslide"
    }
   },
   "source": [
    "how does this come about?\n",
    "\n",
    "$\\bar{X} \\sim N(\\mu, \\sigma^2/N)$\n",
    "\n",
    "If $X_i \\sim N(\\mu,\\sigma^2)$ then we can look at \n",
    "\n",
    "$\\bar{X} = \\frac{1}{N}(X_1 + X_2 + \\ldots + X_n)$\n",
    "\n",
    "We saw last week that standard normal distributed random variables have moment generating functions $e^{t^2/2}$.\n",
    "\n",
    "This is a special case of a normal distribution, $N(\\mu, \\sigma^2)$ having moment generating function $$e^{\\mu t + \\frac{\\sigma^2 t^2}{2 }}$$\n",
    "\n",
    "We also saw that, if $X$ and $Y$ are independent, then $e^{tX}$ and $e^{tY}$ are too. Then we have a new random variable $Z = X + Y$ has a generating function \n",
    "\n",
    "$$\n",
    "\\begin{align}\n",
    "g_Z(t) & = \\text{E[$e^{tZ}$]} = \\text{E[$e^{t(X + Y)}$]} \\\\\n",
    "       & = \\text{E[$e^{tX}$]} \\text{E[$e^{tY}$]} \\\\\n",
    "       & = g_X(t) g_Y(t)\n",
    "\\end{align}\n",
    "$$"
   ]
  },
  {
   "cell_type": "markdown",
   "metadata": {
    "slideshow": {
     "slide_type": "subslide"
    }
   },
   "source": [
    "If $X^* = X/N$\n",
    "\n",
    "$$\n",
    "g_{X^*}(t) = \\text{E[$e^{tX^*}$]} = \\text{E[$e^{\\frac{tX}{N}}$]} = g_{X}(t/N)\n",
    "$$\n",
    "\n",
    "\n",
    "So we expect $\\bar{X} = \\frac{1}{N}(X_1 + \\cdots + X_N)$ to have moment generating function \n",
    "\n",
    "$$\n",
    "\\begin{align}\n",
    "g_{X_1}(t/N) \\cdot g_{X_2}(t/N) \\cdots g_{X_N}(t/N) & = \\big(e^{\\mu t/N + \\frac{\\sigma^2 (t/N)^2}{2 }}\\big) \\cdots \\big( e^{\\mu t + \\frac{\\sigma^2 t^2}{2N }} \\big) \\\\ \n",
    "& = e^{ N\\mu t/N + \\frac{ N \\sigma^2 (t/N)^2}{2 }} \\\\\n",
    "& = e^{ \\mu t + \\frac{ \\sigma^2 t^2}{2N }} \n",
    "\\end{align}\n",
    "$$\n",
    "\n",
    "which is the moment generating function of a normal distribution with mean = $\\mu$ and standard deviation = $\\frac{\\sigma}{\\sqrt{N}}$. \n",
    "\n",
    "As the moment generating function fully defines the random variable, this implies that\n",
    "\n",
    "$$\n",
    "\\bar{X} \\sim N(\\mu, \\frac{\\sigma^2}{N})\n",
    "$$\n"
   ]
  },
  {
   "cell_type": "markdown",
   "metadata": {
    "slideshow": {
     "slide_type": "fragment"
    }
   },
   "source": [
    "If $X_i$ aren't $\\sim N(\\mu, \\sigma^2)$ then we can use the Central Limit Theorem as long as $N$ is biggish ($N$ can be smaller the closer the $X_i$ are to being normally distributed themselves)."
   ]
  },
  {
   "cell_type": "markdown",
   "metadata": {
    "slideshow": {
     "slide_type": "slide"
    }
   },
   "source": [
    "## Disection of the results that we use\n",
    "\n",
    "- $\\bar{X} \\sim N(\\mu, \\sigma^2/N)$\n"
   ]
  },
  {
   "cell_type": "markdown",
   "metadata": {
    "slideshow": {
     "slide_type": "fragment"
    }
   },
   "source": [
    "- If  \n",
    "\n",
    "$$\\bar{X} \\sim N(\\mu, \\sigma^2/N)$$\n",
    "\n",
    "then \n",
    "\n",
    "$$\n",
    "\\frac{\\bar{X} - \\mu}{\\sigma/\\sqrt{N}} \\sim N(0, 1)\n",
    "$$"
   ]
  },
  {
   "cell_type": "markdown",
   "metadata": {
    "slideshow": {
     "slide_type": "subslide"
    }
   },
   "source": [
    "we can use the same moment generating technique to show that this transformation is valid\n",
    "\n",
    "- If  $\\bar{X} \\sim N(\\mu, \\sigma^2/N)$ then  $\\frac{\\bar{X} - \\mu}{\\sigma/\\sqrt{N}} \\sim N(0, 1)$\n",
    "\n",
    "If a random variable $X \\sim N(\\mu,\\sigma^2/N)$ then let us consider a random variable $Z = \\alpha X + \\beta$\n",
    "\n",
    "$Z$ has moment generating function\n",
    "\n",
    "$$\n",
    "\\begin{align}\n",
    "\\text{E[$e^{tZ}$]} & = \\text{E[$e^{t(\\alpha X + \\beta)}$]} \\\\\n",
    "                   & = e^{t\\beta}\\text{E[$e^{t\\alpha X}$]}  \\\\\n",
    "                   & = e^{t\\beta} \\exp\\{\\mu \\alpha t + \\sigma^2 (\\alpha t)^2 /2N\\} \\\\\n",
    "                   & = \\exp\\{ ( \\beta + \\mu \\alpha ) t + \\sigma^2 \\alpha^2 t^2 /2N\\ \\}\n",
    "\\end{align}\n",
    "$$\n",
    "\n",
    "the last expression is the generating function of a normal distribution with mean = $\\beta + \\mu \\alpha$ and variance $\\sigma^2 \\alpha^2 / N$.\n",
    "\n",
    "$\\implies Z \\sim N(\\beta + \\mu \\alpha, \\sigma^2 \\alpha^2)$\n",
    "\n",
    "so if we choose the particular $\\alpha$ and $\\beta$ so that\n",
    "\n",
    "$$\n",
    "Z = \\frac{X - \\mu}{\\sigma / \\sqrt{N}}\n",
    "$$\n",
    "\n",
    "given that $X \\sim N(\\mu,\\sigma^2/N)$, $Z \\sim N(0,1)$, as we want.\n",
    "\n",
    "You can also prove this by a change of variables and fairly standard calculus, but the moment generating function method is easier (to my mind).\n"
   ]
  },
  {
   "cell_type": "markdown",
   "metadata": {
    "slideshow": {
     "slide_type": "slide"
    }
   },
   "source": [
    "## Disection of the results that we use\n",
    "\n",
    "- $\\bar{X} \\sim N(\\mu, \\sigma^2/N)$\n",
    "- If  $\\bar{X} \\sim N(\\mu, \\sigma^2/N)$ then  $\\frac{\\bar{X} - \\mu}{\\sigma/\\sqrt{N}} \\sim N(0, 1)$"
   ]
  },
  {
   "cell_type": "markdown",
   "metadata": {
    "slideshow": {
     "slide_type": "slide"
    }
   },
   "source": [
    "## Test for the mean when the variance is unknown\n",
    "\n",
    "exactly like the confidence interval case, if we do not know the variance we approxiate it with the sample variance. We use the random variable\n",
    "\n",
    "$$\n",
    "\\frac{\\bar{X} - \\mu}{S/\\sqrt{N}}\n",
    "$$\n",
    "\n",
    "and test the test statistic\n",
    "\n",
    "$$\n",
    "\\frac{\\bar{x} - \\mu}{S/\\sqrt{N}}\n",
    "$$\n",
    "\n",
    "against a t distribution with $(N-1)$ degrees of freedom."
   ]
  },
  {
   "cell_type": "markdown",
   "metadata": {
    "slideshow": {
     "slide_type": "slide"
    }
   },
   "source": [
    "## Summary of procedure to test if the population mean is $\\mu$ and $\\sigma$ unknown\n",
    "\n",
    "- define $H_0$ and $H_1$\n",
    "- assume that the population mean is $\\mu$\n",
    "- choose a significance level, $\\alpha \\cdot 100$%, and calculate the corresponding critical values and rejection areas corresponding to the significance level and the hypotheses.\n",
    "- take a random sample of size $N$ from the population under consideration\n",
    "- calculate the quantity \n",
    "$$\n",
    "\\frac{\\bar{x}-\\mu}{S/\\sqrt{N}} \\sim t(N-1) \\text{ (if our assumptions are correct)}\n",
    "$$\n",
    "using the sample results\n",
    "- if the calculated quantity is in the rejection areas we reject the idea that the population mean is $\\mu$. We say that there is evidence at the $\\alpha \\cdot 100$% level that the population mean is not $\\mu$. \n",
    "- otherwise we have no evidence that our suggestion that $\\mu$ is not a reasonable proposition"
   ]
  },
  {
   "cell_type": "markdown",
   "metadata": {
    "slideshow": {
     "slide_type": "slide"
    }
   },
   "source": [
    "## Power of a test\n",
    "\n",
    "Now we've seen practically how the tests work (and filled in the theory behind some of it) it is important to understand a difficulty that arises - false negatives and false positives.\n",
    "\n",
    "These two types of error are\n",
    "\n",
    "- type I, false negative, we reject the null hypothesis when it is in fact true.\n",
    "- type II, false positive, we accept the null hypothesis when the sample actually comes from another distribution\n",
    "\n"
   ]
  },
  {
   "cell_type": "markdown",
   "metadata": {
    "slideshow": {
     "slide_type": "subslide"
    }
   },
   "source": [
    "### Type I errors \n",
    "\n",
    "these are fairly straightforward, and controllable.\n",
    "\n",
    "If we look at our rejection region"
   ]
  },
  {
   "cell_type": "code",
   "execution_count": 4,
   "metadata": {
    "collapsed": false,
    "slideshow": {
     "slide_type": "fragment"
    }
   },
   "outputs": [
    {
     "data": {
      "image/png": "[encoded data removed]",
      "text/plain": [
       "<matplotlib.figure.Figure at 0x7fdf310a9278>"
      ]
     },
     "metadata": {},
     "output_type": "display_data"
    }
   ],
   "source": [
    "fig, ax = plt.subplots(1, 1)\n",
    "\n",
    "x = np.arange(- stats.norm.ppf(0.999),stats.norm.ppf(0.999),0.1)\n",
    "\n",
    "two_sided = True\n",
    "critical_value = 0.95\n",
    "if two_sided:\n",
    "    critical_value = 0.95 + (1-0.95)/2\n",
    "zc =  stats.norm.ppf(critical_value)\n",
    "\n",
    "ax.plot(x, stats.norm.pdf(x), '-', ms=4, label='N(0,1)');\n",
    "\n",
    "section = np.arange(zc, stats.norm.ppf(0.999), 0.1)\n",
    "plt.fill_between(section,stats.norm.pdf(section), color='r');\n",
    "plt.fill_between(-section,stats.norm.pdf(section), color='r');\n",
    "\n",
    "ax.set_title(\"critical regions for two sided test at 5%\");\n",
    "\n",
    "ax.legend();\n",
    "\n"
   ]
  },
  {
   "cell_type": "markdown",
   "metadata": {
    "slideshow": {
     "slide_type": "fragment"
    }
   },
   "source": [
    "we can directly see that the probability of getting a false negative is $\\alpha$, our significance level. This gives the probability of our random sample just happening to give a value within the rejection region.\n",
    "\n",
    "In that case why not just take $\\alpha$ really small?"
   ]
  },
  {
   "cell_type": "markdown",
   "metadata": {
    "slideshow": {
     "slide_type": "subslide"
    }
   },
   "source": [
    "### Type II errors \n",
    "\n",
    "these are much harder, often impossible, to quantify. \n",
    "\n",
    "This is the error that occurs, conventionally with probability $\\beta$, that the null hypothesis is accepted when it should be rejected.\n",
    "\n",
    "In other words our test shows that the test statistic could well have come from the distribution we are testing, but actually comes from another...\n",
    "\n",
    "Lets consider the case where we think that the sample comes from something $\\sim N(20,2)$, but in fact the mean had moved to 25, so really the sample is from $N(25,2)$. When would we make errors?"
   ]
  },
  {
   "cell_type": "code",
   "execution_count": 42,
   "metadata": {
    "collapsed": false,
    "slideshow": {
     "slide_type": "fragment"
    }
   },
   "outputs": [
    {
     "data": {
      "image/png": "[encoded data removed]",
      "text/plain": [
       "<matplotlib.figure.Figure at 0x7fdf30a76668>"
      ]
     },
     "metadata": {},
     "output_type": "display_data"
    }
   ],
   "source": [
    "fig, ax = plt.subplots(1, 1)\n",
    "\n",
    "x = np.arange(0,50,0.1)\n",
    "\n",
    "H0mu = 20\n",
    "H1mu = 25\n",
    "sigma =2.0\n",
    "\n",
    "ax.plot(x, stats.norm.pdf(x,loc=H0mu,scale=sigma), '-', ms=4, label='N(20,2)');\n",
    "\n",
    "alphasection = np.arange(stats.norm.ppf(0.90,loc=20,scale=2.0), 50, 0.1)\n",
    "plt.fill_between(alphasection,stats.norm.pdf(alphasection,loc=20,scale=2.0), color='r', label='type I');\n",
    "\n",
    "ax.plot(x, stats.norm.pdf(x,loc=25,scale=2.0), '-', ms=4, label='N(25,2)');\n",
    "\n",
    "betasection = np.arange(0,stats.norm.ppf(0.90,loc=20,scale=2.0), 0.1)\n",
    "plt.fill_between(betasection,stats.norm.pdf(betasection,loc=25,scale=2.0), color='b', label='type II');\n",
    "\n",
    "ax.set_title(\"Type I and II regions for two sided test at 10%\");\n",
    "ax.set_xbound(10,35)\n",
    "\n",
    "ax.legend();\n"
   ]
  },
  {
   "cell_type": "markdown",
   "metadata": {
    "slideshow": {
     "slide_type": "fragment"
    }
   },
   "source": [
    "the two types or error are coloured red and blue.\n",
    "\n",
    "- type I (red) - this can occur if the sample was really pulled from the distribution of $H_0$, but the random sample happens to produce an unlikely, but not impossible error - if the error chance is less than $\\alpha$\n",
    "- type II (blue) - this occurs if the actual distribution the sample comes from is not that of $H_0$, but instead has a different real  $\\mu$. The probability of the type II error is $\\beta$, and in this case it is a function of the real population mean $\\beta(\\mu)$.\n",
    "\n",
    "To show that $\\beta(\\mu)$ we can plot the same graphs but for different values of $\\mu$"
   ]
  },
  {
   "cell_type": "code",
   "execution_count": 63,
   "metadata": {
    "collapsed": false,
    "slideshow": {
     "slide_type": "fragment"
    }
   },
   "outputs": [
    {
     "data": {
      "image/png": "[encoded data removed]",
      "text/plain": [
       "<matplotlib.figure.Figure at 0x7fdf30aedc88>"
      ]
     },
     "metadata": {},
     "output_type": "display_data"
    }
   ],
   "source": [
    "fig, ax = plt.subplots(6, 1,figsize=(8, 10))\n",
    "\n",
    "x = np.arange(0,50,0.1)\n",
    "\n",
    "H0mu = 20\n",
    "H1mu = 22\n",
    "sigma =2.0\n",
    "\n",
    "for i in range(0,6):\n",
    "    H1mu = H1mu+i/2\n",
    "    ax[i].plot(x, stats.norm.pdf(x,loc=H0mu,scale=sigma), '-', ms=4, label='H2');\n",
    "    alphasection = np.arange(stats.norm.ppf(0.90,loc=H0mu,scale=sigma), 50, 0.1)\n",
    "    ax[i].fill_between(alphasection,stats.norm.pdf(alphasection,loc=H0mu,scale=sigma), color='r', label='type I');\n",
    "\n",
    "    ax[i].plot(x, stats.norm.pdf(x,loc=H1mu,scale=sigma), '-', ms=4, label='H1');\n",
    "\n",
    "    betasection = np.arange(0,stats.norm.ppf(0.90,loc=H0mu,scale=sigma), 0.1)\n",
    "    ax[i].fill_between(betasection,stats.norm.pdf(betasection,loc=H1mu,scale=sigma), color='b', label='type II');\n",
    "    ax[i].set_xbound(10,35)\n",
    "\n",
    "fig.subplots_adjust(hspace=0.4)"
   ]
  },
  {
   "cell_type": "markdown",
   "metadata": {
    "slideshow": {
     "slide_type": "subslide"
    }
   },
   "source": [
    "As we know the true distribution then we can work out $\\beta(\\mu)$ in this case. It can be very complicated in general.\n",
    "\n",
    "**definition**\n",
    "\n",
    "The **power** of a test is $(1-\\beta)$\n",
    "\n",
    "The larger the power the better the test is at distinguishing between the alternative hypotheses.\n",
    "\n",
    "In general, when preparing a test the aim should be to have both alpha and beta small. Increasing $\\alpha$ will decrease $\\beta$, so there is a balance between the risks associated with type I and type II errors."
   ]
  },
  {
   "cell_type": "markdown",
   "metadata": {
    "slideshow": {
     "slide_type": "slide"
    }
   },
   "source": [
    "## Other tests\n",
    "\n",
    "- test for the variance \n",
    "    - we saw in the lectures on confidence limits that the test statistic $\\frac{(N-1)}{\\sigma^2}S^2 \\sim \\chi^2(N-1)$\n",
    "    - we'd calculate rejection regions in the same manner as for the tests of the mean, but using this statistic and the $\\chi^2$ distribution\n",
    "\n",
    "other statistics can also be devised and tested, such as\n",
    "    \n",
    "- test for the correlation coefficient\n",
    "- tests for difference of means of two sets of data"
   ]
  },
  {
   "cell_type": "markdown",
   "metadata": {
    "slideshow": {
     "slide_type": "slide"
    }
   },
   "source": [
    "# Summary\n",
    "\n",
    "### Testing the mean when the variance is known\n",
    "\n",
    "- define $H_0$ and $H_1$\n",
    "- assume that the population mean is $\\mu$\n",
    "- choose a significance level, $\\alpha \\cdot 100$%, and calculate the corresponding critical values and rejection areas corresponding to the significance level and the hypotheses.\n",
    "- take a random sample of size $N$ from the population under consideration\n",
    "- calculate the quantity \n",
    "$$\n",
    "\\frac{\\bar{x}-\\mu}{\\sigma/\\sqrt{N}}\n",
    "$$\n",
    "using the sample results\n",
    "- if the calculated quantity is in the rejection areas we reject the idea that the population mean is $\\mu$. We say that there is evidence at the $\\alpha \\cdot 100$% level that the population mean is not $\\mu$. \n",
    "- otherwise we have no evidence that our suggestion that $\\mu$ is not a reasonable proposition\n",
    "\n",
    "### Testing the mean when the variance is unknown\n",
    "\n",
    "- define $H_0$ and $H_1$\n",
    "- assume that the population mean is $\\mu$\n",
    "- choose a significance level, $\\alpha \\cdot 100$%, and calculate the corresponding critical values and rejection areas corresponding to the significance level and the hypotheses.\n",
    "- take a random sample of size $N$ from the population under consideration\n",
    "- calculate the quantity \n",
    "$$\n",
    "\\frac{\\bar{x}-\\mu}{S/\\sqrt{N}} \\sim t(N-1) \\text{ (if our assumptions are correct)}\n",
    "$$\n",
    "using the sample results\n",
    "- if the calculated quantity is in the rejection areas we reject the idea that the population mean is $\\mu$. We say that there is evidence at the $\\alpha \\cdot 100$% level that the population mean is not $\\mu$. \n",
    "- otherwise we have no evidence that our suggestion that $\\mu$ is not a reasonable proposition\n",
    "\n",
    "### Error types\n",
    "\n",
    "type I, $\\alpha$ reject $H_0$ when it is true\n",
    "type II,$\\beta$ accept $H_0$ whem if is false\n",
    "\n",
    "### Power\n",
    "\n",
    "the power of a test is $(1-\\beta)$\n",
    "\n",
    "All this applies to other population parameters or sample statistics - we just need to use appropriate distributions."
   ]
  }
 ],
 "metadata": {
  "celltoolbar": "Slideshow",
  "kernelspec": {
   "display_name": "Python [default]",
   "language": "python",
   "name": "python3"
  },
  "language_info": {
   "codemirror_mode": {
    "name": "ipython",
    "version": 3
   },
   "file_extension": ".py",
   "mimetype": "text/x-python",
   "name": "python",
   "nbconvert_exporter": "python",
   "pygments_lexer": "ipython3",
   "version": "3.5.2"
  }
 },
 "nbformat": 4,
 "nbformat_minor": 0
}
