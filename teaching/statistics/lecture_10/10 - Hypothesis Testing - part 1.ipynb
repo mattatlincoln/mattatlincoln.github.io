{
 "cells": [
  {
   "cell_type": "code",
   "execution_count": 1,
   "metadata": {
    "collapsed": true,
    "slideshow": {
     "slide_type": "skip"
    }
   },
   "outputs": [],
   "source": [
    "# Slides for Probability and Statistics module, 2016-2017\n",
    "# Matt Watkins, University of Lincoln"
   ]
  },
  {
   "cell_type": "code",
   "execution_count": 2,
   "metadata": {
    "collapsed": true,
    "slideshow": {
     "slide_type": "skip"
    }
   },
   "outputs": [],
   "source": [
    "import numpy as np\n",
    "import scipy.stats as stats\n",
    "import matplotlib.pyplot as plt\n",
    "%matplotlib inline"
   ]
  },
  {
   "cell_type": "markdown",
   "metadata": {
    "slideshow": {
     "slide_type": "slide"
    }
   },
   "source": [
    "# Hypothesis Testing\n",
    "\n",
    "This is another part of statistical inference.\n",
    "\n",
    "Last week we estimated or inferred the values of population parameters (mean and variance) from statistical data.\n",
    "\n",
    "We looked at confidence intervals - we estimated or inferred the range of values of population parameters with a certain degree of probability or confidence\n",
    "\n",
    "This week we look at some methods to make decisions based on these estimates."
   ]
  },
  {
   "cell_type": "markdown",
   "metadata": {
    "slideshow": {
     "slide_type": "slide"
    }
   },
   "source": [
    "**Example**\n",
    "\n",
    "Suppose we'd been following some population over a period of time and found it to be normally distributed with mean $\\mu$ and standard deviation $\\sigma$. Now, for some reason we have a suspicion that the the mean has changed in some way. \n",
    "\n",
    "We want to formulate some test that would allow us to make an informed decision whether our suspicions were correct or not. How should we attack this?"
   ]
  },
  {
   "cell_type": "markdown",
   "metadata": {
    "slideshow": {
     "slide_type": "subslide"
    }
   },
   "source": [
    "At root, we will draw a random sample $X_1, X_2, \\ldots, X_n$ and calculate the value of the sample mean, $\\bar{x}$, for the values we've drawn,$x_1, x_2, \\ldots, x_n$.\n",
    "\n",
    "We then look at the difference between the sample mean $\\bar{x}$ and $\\mu$.\n",
    "\n",
    "- if the difference is large, we could decide that the mean of the population is no longer $\\mu$\n",
    "- if the difference is small, we accept that there is no evidence to support our suspicion and that the mean is still $\\mu$."
   ]
  },
  {
   "cell_type": "markdown",
   "metadata": {
    "slideshow": {
     "slide_type": "fragment"
    }
   },
   "source": [
    "The problem here is what is large and what is small?\n",
    "\n",
    "We'd expect large and small to related to \n",
    "\n",
    "- the spread of the distribution\n",
    "- and the sample size)"
   ]
  },
  {
   "cell_type": "markdown",
   "metadata": {
    "slideshow": {
     "slide_type": "fragment"
    }
   },
   "source": [
    "We can use essentially the same methods we used to construct confidence intervals to try and quantify whether the difference between the sample mean and the presumed population mean is **significant**."
   ]
  },
  {
   "cell_type": "markdown",
   "metadata": {
    "slideshow": {
     "slide_type": "slide"
    }
   },
   "source": [
    "## Schematic of a construction of a test for the mean\n",
    "\n",
    "Let us assume that the population mean is $\\mu$,then we consider the distribution of the sample statistic $\\bar{X}$ under this assumption. \n",
    "\n",
    "Remember we know that historically the population was \n",
    "\n",
    "- normally distributed \n",
    "- with mean $\\mu$ and \n",
    "- standard deviation $\\sigma$, \n",
    "\n",
    "so we are assuming that the random sample is drawn from this distribution. \n",
    "\n",
    "We have shown that $\\bar{X}$ should be an unbiased estimator for $\\text{E}[\\bar{X}] = \\text{E}[X] = \\mu$.\n",
    "\n",
    "As the random sample should be drawn from $N(\\mu, \\sigma)$ the sample mean $\\bar{X}$ should be distributed $N(\\mu, \\sigma/N)$."
   ]
  },
  {
   "cell_type": "markdown",
   "metadata": {
    "slideshow": {
     "slide_type": "fragment"
    }
   },
   "source": [
    "Then we \\textbf{standardize} our variable \n",
    "\n",
    "$$\n",
    "\\frac{\\bar{X}-\\mu}{\\sigma/\\sqrt{N}} \\sim N(0,1)\n",
    "$$\n",
    "where $\\sim$ means is distributed as.\n",
    "\n",
    "When we have taken our particular sample of $X_1, X_2, \\ldots, X_n$ we have $x_1, x_2, \\ldots, x_n$ and can calculate $\\bar{x}$. The particular standardized value\n",
    "$$\n",
    "\\frac{\\bar{x}-\\mu}{\\sigma/\\sqrt{N}}\n",
    "$$\n",
    "should have come from the standard normal distribution.\n"
   ]
  },
  {
   "cell_type": "markdown",
   "metadata": {
    "slideshow": {
     "slide_type": "slide"
    }
   },
   "source": [
    "We could say that we'll not reject our value if it is a value that could be drawn from a standard normal distribution with some probability. So for instance 95% of the time a random value drawn from a standard normal distribution will have a value between -1.96 and 1.96. "
   ]
  },
  {
   "cell_type": "code",
   "execution_count": 4,
   "metadata": {
    "collapsed": false,
    "slideshow": {
     "slide_type": "fragment"
    }
   },
   "outputs": [
    {
     "name": "stdout",
     "output_type": "stream",
     "text": [
      "-1.95996398454 1.95996398454\n"
     ]
    }
   ],
   "source": [
    "zclower = stats.norm.ppf(0.025)\n",
    "zcupper = stats.norm.ppf(0.975)\n",
    "print(zclower, zcupper)"
   ]
  },
  {
   "cell_type": "markdown",
   "metadata": {
    "slideshow": {
     "slide_type": "fragment"
    }
   },
   "source": [
    "In other words we'd reject our idea if the value we got was only 5% likely to have come from our assumed distribution. To get this value we look for the 2.5% quantile at the bottom, and 97.5% quantile at the top of the distribution.\n",
    "\n",
    "Lets look at a plot of the regions that don't satisfy this:"
   ]
  },
  {
   "cell_type": "code",
   "execution_count": 10,
   "metadata": {
    "collapsed": false,
    "slideshow": {
     "slide_type": "subslide"
    }
   },
   "outputs": [
    {
     "data": {
      "image/png": "[encoded data removed]",
      "text/plain": [
       "<matplotlib.figure.Figure at 0x7fe33ded2dd8>"
      ]
     },
     "metadata": {},
     "output_type": "display_data"
    }
   ],
   "source": [
    "fig, ax = plt.subplots(1, 1)\n",
    "\n",
    "x = np.arange(- stats.norm.ppf(0.999),stats.norm.ppf(0.999),0.1)\n",
    "\n",
    "two_sided = True\n",
    "critical_value = 0.95\n",
    "if two_sided:\n",
    "    critical_value = 0.95 + (1-0.95)/2\n",
    "zc =  stats.norm.ppf(critical_value)\n",
    "\n",
    "ax.plot(x, stats.norm.pdf(x), '-', ms=4, label='N(0,1)');\n",
    "\n",
    "section = np.arange(zc, stats.norm.ppf(0.999), 0.1)\n",
    "plt.fill_between(section,stats.norm.pdf(section), color='r');\n",
    "plt.fill_between(-section,stats.norm.pdf(section), color='r');\n",
    "\n",
    "ax.set_title(\"critical regions for two sided test at 5%\");\n",
    "\n",
    "ax.legend();"
   ]
  },
  {
   "cell_type": "markdown",
   "metadata": {
    "slideshow": {
     "slide_type": "slide"
    }
   },
   "source": [
    "## Summary of procedure to test if the population mean is $\\mu$\n",
    "\n",
    "- assume that the population mean is $\\mu$\n",
    "- choose a significance level, $\\alpha \\cdot 100$%, and calculate the corresponding critical values and rejection areas\n",
    "- take a random sample of size $N$ from the population under consideration\n",
    "- calculate the quantity \n",
    "$$\n",
    "\\frac{\\bar{x}-\\mu}{\\sigma/\\sqrt{N}}\n",
    "$$\n",
    "using the sample results\n",
    "- if the calculated quantity is in the rejection areas we reject the idea that the population mean is $\\mu$. We say that there is evidence at the $\\alpha \\cdot 100$% level that the population mean is not $\\mu$. \n",
    "- otherwise we have no evidence that our suggestion that $\\mu$ is not a reasonable proposition\n"
   ]
  },
  {
   "cell_type": "markdown",
   "metadata": {
    "slideshow": {
     "slide_type": "slide"
    }
   },
   "source": [
    "**example**\n",
    "\n",
    "A machine produces components whose lengths should be distributed Normally with mean 0.160 cm and standard deviation 0.012 cm. \n",
    "\n",
    "A sample of 100 is drawn and the sample mean computed as 0.157 cm. \n",
    "\n",
    "- Is there any evidence at the 5% level that the mean of component lengths has changed?"
   ]
  },
  {
   "cell_type": "markdown",
   "metadata": {
    "slideshow": {
     "slide_type": "fragment"
    }
   },
   "source": [
    "We are given that $\\mu=0.160$, $\\sigma=0.012$, $\\bar{x}=0.157$ and $N=100$."
   ]
  },
  {
   "cell_type": "markdown",
   "metadata": {
    "slideshow": {
     "slide_type": "fragment"
    }
   },
   "source": [
    "- We assume that the component lengths are distributed as $N(0.16,(0.012)^2)$.\n"
   ]
  },
  {
   "cell_type": "markdown",
   "metadata": {
    "slideshow": {
     "slide_type": "fragment"
    }
   },
   "source": [
    "- A 5% significance level gives us critical $z$ values of $\\pm 1.96$, so the rejection areas are as we just saw."
   ]
  },
  {
   "cell_type": "markdown",
   "metadata": {
    "slideshow": {
     "slide_type": "fragment"
    }
   },
   "source": [
    "- We calculate our standardized test statistic, here its value is\n",
    "\n",
    "$$\n",
    "\\frac{\\bar{x}-\\mu}{\\sigma/\\sqrt{N}} = \\frac{0.157-0.160}{0.012/\\sqrt{100}} = -2.5\n",
    "$$\n"
   ]
  },
  {
   "cell_type": "markdown",
   "metadata": {
    "slideshow": {
     "slide_type": "fragment"
    }
   },
   "source": [
    "- The above value lies in our rejection region, and so is significant at the 5% level.\n"
   ]
  },
  {
   "cell_type": "markdown",
   "metadata": {
    "slideshow": {
     "slide_type": "fragment"
    }
   },
   "source": [
    "- Therefore, the original assumption can be rejected and we have shown that there is evidence at the 5% level that the mean of the component lengths has changed.\n"
   ]
  },
  {
   "cell_type": "markdown",
   "metadata": {
    "slideshow": {
     "slide_type": "fragment"
    }
   },
   "source": [
    "- Note that $\\bar{x}$ is pretty close to $\\mu$ - but the standard deviation is small, and the sample size is large - both give allow us to resolve smaller differences between the sample and assumed population mean. "
   ]
  },
  {
   "cell_type": "markdown",
   "metadata": {
    "slideshow": {
     "slide_type": "slide"
    }
   },
   "source": [
    "## P-values\n",
    "\n",
    "there is another slightly different procedure that can be followed:  we run the data and give the critical significance level at which we would reject our hypothesis.\n",
    "\n",
    "**example**\n",
    "\n",
    "if we look at our last example again\n",
    "\n",
    "$$\n",
    "\\frac{\\bar{x}-\\mu}{\\sigma/\\sqrt{N}} = \\frac{0.157-0.160}{0.012/\\sqrt{100}} = -2.5\n",
    "$$\n",
    "\n",
    "our test statistic came out at -2.5. The probability of getting this value from a standard normal distribution is $\\Phi(-2.5)$\n"
   ]
  },
  {
   "cell_type": "code",
   "execution_count": 6,
   "metadata": {
    "collapsed": false,
    "slideshow": {
     "slide_type": "fragment"
    }
   },
   "outputs": [
    {
     "data": {
      "text/plain": [
       "0.0062096653257761323"
      ]
     },
     "execution_count": 6,
     "metadata": {},
     "output_type": "execute_result"
    }
   ],
   "source": [
    "stats.norm.cdf(-2.5)"
   ]
  },
  {
   "cell_type": "markdown",
   "metadata": {
    "slideshow": {
     "slide_type": "subslide"
    }
   },
   "source": [
    "so there is only a 0.6% chance of getting a value of -2.5 (or less) from a standard normal distribution.\n",
    "\n",
    "We'd have rejected this if the significance level was set at twice this value (because we are doing a two sided test we have the same amount of probability density at the top as the bottom). \n",
    "\n",
    "So the $P$ value is "
   ]
  },
  {
   "cell_type": "code",
   "execution_count": 7,
   "metadata": {
    "collapsed": false,
    "slideshow": {
     "slide_type": "fragment"
    }
   },
   "outputs": [
    {
     "data": {
      "text/plain": [
       "0.012419330651552265"
      ]
     },
     "execution_count": 7,
     "metadata": {},
     "output_type": "execute_result"
    }
   ],
   "source": [
    "2*stats.norm.cdf(-2.5)"
   ]
  },
  {
   "cell_type": "markdown",
   "metadata": {
    "slideshow": {
     "slide_type": "fragment"
    }
   },
   "source": [
    "We'd reject this value at a 1.2% significance level (but we'd accept at a 1% level)."
   ]
  },
  {
   "cell_type": "markdown",
   "metadata": {
    "slideshow": {
     "slide_type": "slide"
    }
   },
   "source": [
    "### One sided vs two sided\n",
    "\n",
    "We've tended to use a symmetric criteria, or a so called two-sided test (our confidence regions were the same), i.e the value of $\\mid \\bar{x} - \\mu \\mid$ is what we've been examining above.\n",
    "\n",
    "We might have a suspicion that the mean had decreased (the average weight of cakes in our favourite bakery/cafe has decreased for instance)...\n",
    "\n",
    "In this case we would only be interested in whether the standardized value was too small to be likely have come from our hypthesized distribution. "
   ]
  },
  {
   "cell_type": "code",
   "execution_count": 11,
   "metadata": {
    "collapsed": false,
    "slideshow": {
     "slide_type": "subslide"
    }
   },
   "outputs": [
    {
     "data": {
      "image/png": "[encoded data removed]",
      "text/plain": [
       "<matplotlib.figure.Figure at 0x7fe33dc30c88>"
      ]
     },
     "metadata": {},
     "output_type": "display_data"
    }
   ],
   "source": [
    "fig, ax = plt.subplots(2, 1)\n",
    "\n",
    "x = np.arange(- stats.norm.ppf(0.999),stats.norm.ppf(0.999),0.1)\n",
    "\n",
    "# two sided test\n",
    "\n",
    "two_sided = True\n",
    "critical_value = 0.95\n",
    "if two_sided:\n",
    "    critical_value = 0.95 + (1-0.95)/2\n",
    "zc =  stats.norm.ppf(critical_value)\n",
    "\n",
    "ax[0].plot(x, stats.norm.pdf(x), '-', ms=4, label='N(0,1)');\n",
    "section = np.arange(zc, stats.norm.ppf(0.999), 0.1)\n",
    "ax[0].fill_between(section,stats.norm.pdf(section), color='r');\n",
    "ax[0].fill_between(-section,stats.norm.pdf(section), color='r');\n",
    "\n",
    "ax[0].set_title(\"critical regions for two sided test at 5%\");\n",
    "\n",
    "ax[0].legend();\n",
    "\n",
    "# one sided test\n",
    "\n",
    "two_sided = False\n",
    "critical_value = 0.95\n",
    "if two_sided:\n",
    "    critical_value = 0.95 + (1-0.95)/2\n",
    "zc =  stats.norm.ppf(critical_value)\n",
    "\n",
    "ax[1].plot(x, stats.norm.pdf(x), '-', ms=4, label='N(0,1)');\n",
    "section = np.arange(zc, stats.norm.ppf(0.999), 0.1)\n",
    "ax[1].fill_between(-section,stats.norm.pdf(section), color='r');\n",
    "\n",
    "ax[1].set_title(\"critical region for one sided test at 5%\");\n",
    "\n",
    "ax[1].legend();\n",
    "\n",
    "fig.subplots_adjust(hspace=0.4)"
   ]
  },
  {
   "cell_type": "markdown",
   "metadata": {
    "slideshow": {
     "slide_type": "fragment"
    }
   },
   "source": [
    "In both cases there is a total of 5% of the probability density in the critical region, but in the one sided case, we are only interested in the lower range (if cakes have really got bigger, that is fine).\n",
    "\n",
    "We could be interested in an upper bound instead, which would be the same as the lower, but at the top..."
   ]
  },
  {
   "cell_type": "code",
   "execution_count": 9,
   "metadata": {
    "collapsed": false,
    "scrolled": true,
    "slideshow": {
     "slide_type": "subslide"
    }
   },
   "outputs": [
    {
     "data": {
      "image/png": "[encoded data removed]",
      "text/plain": [
       "<matplotlib.figure.Figure at 0x7fe33ff17cc0>"
      ]
     },
     "metadata": {},
     "output_type": "display_data"
    }
   ],
   "source": [
    "fig, ax = plt.subplots(3, 1)\n",
    "\n",
    "x = np.arange(- stats.norm.ppf(0.999),stats.norm.ppf(0.999),0.1)\n",
    "\n",
    "# two sided test\n",
    "\n",
    "two_sided = True\n",
    "critical_value = 0.90\n",
    "if two_sided:\n",
    "    critical_value = critical_value + (1-critical_value)/2\n",
    "zc =  stats.norm.ppf(critical_value)\n",
    "\n",
    "ax[0].plot(x, stats.norm.pdf(x), '-', ms=4, label='N(0,1)');\n",
    "section = np.arange(zc, stats.norm.ppf(0.999), 0.1)\n",
    "ax[0].fill_between(section,stats.norm.pdf(section), color='r');\n",
    "ax[0].fill_between(-section,stats.norm.pdf(section), color='r');\n",
    "\n",
    "ax[0].set_title(\"critical regions for two sided test at 10%\");\n",
    "\n",
    "ax[0].legend();\n",
    "\n",
    "# one sided test lower\n",
    "\n",
    "two_sided = False\n",
    "critical_value = 0.90\n",
    "if two_sided:\n",
    "    critical_value = critical_value + (1-critical_value)/2\n",
    "zc =  stats.norm.ppf(critical_value)\n",
    "\n",
    "ax[1].plot(x, stats.norm.pdf(x), '-', ms=4, label='N(0,1)');\n",
    "section = np.arange(zc, stats.norm.ppf(0.999), 0.1)\n",
    "ax[1].fill_between(-section,stats.norm.pdf(section), color='r');\n",
    "\n",
    "ax[1].set_title(\"critical region for one sided test at 10%\");\n",
    "\n",
    "ax[1].legend();\n",
    "\n",
    "# one sided test upper\n",
    "\n",
    "two_sided = False\n",
    "critical_value = 0.90\n",
    "if two_sided:\n",
    "    critical_value = critical_value + (1-critical_value)/2\n",
    "zc =  stats.norm.ppf(critical_value)\n",
    "\n",
    "ax[2].plot(x, stats.norm.pdf(x), '-', ms=4, label='N(0,1)');\n",
    "section = np.arange(zc, stats.norm.ppf(0.999), 0.1)\n",
    "ax[2].fill_between(section,stats.norm.pdf(section), color='r');\n",
    "\n",
    "ax[2].set_title(\"critical region for one sided test at 10%\");\n",
    "\n",
    "ax[2].legend();\n",
    "\n",
    "fig.subplots_adjust(hspace=0.5)"
   ]
  },
  {
   "cell_type": "markdown",
   "metadata": {
    "slideshow": {
     "slide_type": "slide"
    }
   },
   "source": [
    "**example**\n",
    "\n",
    "A machine produces components whose lengths should be distributed Normally with mean 0.160 cm and standard deviation 0.012 cm. \n",
    "\n",
    "A sample of 100 is drawn and the sample mean computed as 0.157 cm. \n",
    "\n",
    "- Is there any evidence at the 1% level that the mean component length has reduced?\n",
    "- What is the P-value of the test?"
   ]
  },
  {
   "cell_type": "markdown",
   "metadata": {
    "slideshow": {
     "slide_type": "fragment"
    }
   },
   "source": [
    "We are given that $\\mu=0.160$, $\\sigma=0.012$, $\\bar{x}=0.157$ and $N=100$.\n",
    "\n",
    "- We assume that the component lengths are distributed as $N(0.16,(0.012)^2)$.\n",
    "- A 1% significance level gives us critical $z$ value of $-2.33$, for a one-sided test\n"
   ]
  },
  {
   "cell_type": "code",
   "execution_count": 12,
   "metadata": {
    "collapsed": false,
    "slideshow": {
     "slide_type": "fragment"
    }
   },
   "outputs": [
    {
     "data": {
      "text/plain": [
       "-2.3263478740408408"
      ]
     },
     "execution_count": 12,
     "metadata": {},
     "output_type": "execute_result"
    }
   ],
   "source": [
    "stats.norm.ppf(0.01)"
   ]
  },
  {
   "cell_type": "markdown",
   "metadata": {
    "slideshow": {
     "slide_type": "fragment"
    }
   },
   "source": [
    "\n",
    "- We calculate our standardized test statistic, here its value is\n",
    "$$\n",
    "\\frac{\\bar{x}-\\mu}{\\sigma/\\sqrt{N}} = \\frac{0.157-0.160}{0.012/\\sqrt{100}} = -2.5\n",
    "$$\n",
    "- The above value lies in our rejection region, and so is significant at the 1% level.\n",
    "- Therefore, the original assumption can be rejected and we have shown that there is evidence at the 1% level that the mean of the component lengths has reduced.\n",
    "- The P-value is just the significance level at which we'd have rejected the hypothesis. For a one-sided test it is just the value of the cumulative distribution at the test statistic - 0.6% "
   ]
  },
  {
   "cell_type": "code",
   "execution_count": 14,
   "metadata": {
    "collapsed": false,
    "slideshow": {
     "slide_type": "subslide"
    }
   },
   "outputs": [
    {
     "data": {
      "text/plain": [
       "0.0062096653257761323"
      ]
     },
     "execution_count": 14,
     "metadata": {},
     "output_type": "execute_result"
    }
   ],
   "source": [
    "stats.norm.cdf(-2.5)"
   ]
  },
  {
   "cell_type": "markdown",
   "metadata": {
    "slideshow": {
     "slide_type": "slide"
    }
   },
   "source": [
    "## Note on interpretation\n",
    "\n",
    "as is often the case in science, it is relatively easy to prove something is false - in this case if the data fall in the rejection region we can say with a known confidence that it is unlikely to come from our assumed distribution.\n",
    "\n",
    "However, the case where the data is not in the critical region is harder to be certain about: We can not argue that it shows that the data does come from our assumed distribution; Just that it is plausible, or there is no evidence that it doesn't. \n",
    "\n",
    "We don't really accept our hypothesis, we just don't reject it."
   ]
  },
  {
   "cell_type": "markdown",
   "metadata": {
    "slideshow": {
     "slide_type": "slide"
    }
   },
   "source": [
    "## Hypotheses\n",
    "\n",
    "normally the above is put a bit more formally.\n",
    "\n",
    "- we have a null hypothesis - this is the default assumption, and the one we would continue to accept if the evidence doesn't make us change our opinion.\n",
    "- we have an alternative hypothesis, which would be our new default point of view if the evidence calls on us to reject the null hypothesis.\n",
    "\n",
    "These are typically written\n",
    "\n",
    "- $H_0$: mean = $\\mu$ \n",
    "> the null hypothesis is that the mean has value $\\mu$\n",
    "\n",
    "- $H_1$: mean $\\ne$ $\\mu$\n",
    "> the alternative hypothesis is that the mean is not equal to $\\mu$, and we'd use a two sided test\n",
    "\n",
    "or \n",
    "\n",
    "- $H_1$: mean $\\lt$ $\\mu$\n",
    "> the alternative hypothesis is that the mean is less than $\\mu$, and we'd use a one sided test\n",
    "\n",
    "- $H_1$: mean $\\gt$ $\\mu$\n",
    "> the alternative hypothesis is that the mean is more than $\\mu$, and we'd use a one sided test\n",
    "\n"
   ]
  },
  {
   "cell_type": "markdown",
   "metadata": {
    "slideshow": {
     "slide_type": "slide"
    }
   },
   "source": [
    "# Summary\n",
    "\n",
    "Testing the mean when the variance is known\n",
    "\n",
    "- define $H_0$ and $H_1$\n",
    "- assume that the population mean is $\\mu$\n",
    "- choose a significance level, $\\alpha \\cdot 100$%, and calculate the corresponding critical values and rejection areas corresponding to the significance level and the hypotheses.\n",
    "- take a random sample of size $N$ from the population under consideration\n",
    "- calculate the quantity \n",
    "$$\n",
    "\\frac{\\bar{x}-\\mu}{\\sigma/\\sqrt{N}}\n",
    "$$\n",
    "using the sample results\n",
    "- if the calculated quantity is in the rejection areas we reject the idea that the population mean is $\\mu$. We say that there is evidence at the $\\alpha \\cdot 100$% level that the population mean is not $\\mu$. \n",
    "- otherwise we have no evidence that our suggestion that $\\mu$ is not a reasonable proposition\n",
    "\n",
    "All this applies to other population parameters or sample statistics - we just need to use appropriate distributions."
   ]
  }
 ],
 "metadata": {
  "celltoolbar": "Slideshow",
  "kernelspec": {
   "display_name": "Python [default]",
   "language": "python",
   "name": "python3"
  },
  "language_info": {
   "codemirror_mode": {
    "name": "ipython",
    "version": 3
   },
   "file_extension": ".py",
   "mimetype": "text/x-python",
   "name": "python",
   "nbconvert_exporter": "python",
   "pygments_lexer": "ipython3",
   "version": "3.5.2"
  }
 },
 "nbformat": 4,
 "nbformat_minor": 0
}
