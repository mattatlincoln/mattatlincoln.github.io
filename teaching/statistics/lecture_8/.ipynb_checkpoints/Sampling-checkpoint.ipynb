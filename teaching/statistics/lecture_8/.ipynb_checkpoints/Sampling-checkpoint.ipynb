{
 "cells": [
  {
   "cell_type": "markdown",
   "metadata": {},
   "source": [
    "# Sampling from a distribution\n",
    "\n",
    "Import our libraries"
   ]
  },
  {
   "cell_type": "code",
   "execution_count": 2,
   "metadata": {
    "collapsed": true
   },
   "outputs": [],
   "source": [
    "import numpy as np\n",
    "import matplotlib.pyplot as plt\n",
    "%matplotlib inline"
   ]
  },
  {
   "cell_type": "markdown",
   "metadata": {},
   "source": [
    "How many of you still know your height only in feet and inches?\n",
    "\n",
    "Just in case, we make a little function to convert to centimetres."
   ]
  },
  {
   "cell_type": "code",
   "execution_count": 3,
   "metadata": {
    "collapsed": false
   },
   "outputs": [
    {
     "name": "stdout",
     "output_type": "stream",
     "text": [
      "152.5\n"
     ]
    }
   ],
   "source": [
    "def feet_to_metric(feet,inches):\n",
    "    height = feet*12*2.5+inches*2.5\n",
    "    return height\n",
    "\n",
    "print(feet_to_metric(5,1))"
   ]
  },
  {
   "cell_type": "markdown",
   "metadata": {},
   "source": [
    "Now we need to collect your heights. And names, in case you forget your numbers... "
   ]
  },
  {
   "cell_type": "code",
   "execution_count": 22,
   "metadata": {
    "collapsed": false
   },
   "outputs": [
    {
     "name": "stdout",
     "output_type": "stream",
     "text": [
      "26 [ 180.   180.   157.5  175.   180.   187.5  180.   170.   165.   175.\n",
      "  187.5  172.   187.5  182.5  162.5  187.5  150.   160.   180.   175.   180.\n",
      "  187.5  177.5  172.5  152.5  177.5] 174.692307692\n"
     ]
    }
   ],
   "source": [
    "heights = np.array([180,180,157.5,175,180,187.5,180,170,165, 175, 187.5, 172, 187.5, \n",
    "                   182.5, 162.5, 187.5, 150, 160, 180, 175, 180, 187.5, 177.5, 172.5, \n",
    "                   152.5, 177.5])\n",
    "\n",
    "names = [\"jay\",\"glenn\",\"hannah\"]\n",
    "\n",
    "population_size = len(heights)\n",
    "\n",
    "print(population_size,heights, np.mean(heights))"
   ]
  },
  {
   "cell_type": "markdown",
   "metadata": {},
   "source": [
    "Remember that we could generate random integers using the code below. This gives us a random integer between 1 and the population size. We generate 3 of them."
   ]
  },
  {
   "cell_type": "code",
   "execution_count": 5,
   "metadata": {
    "collapsed": false
   },
   "outputs": [
    {
     "data": {
      "text/plain": [
       "array([26, 15, 15])"
      ]
     },
     "execution_count": 5,
     "metadata": {},
     "output_type": "execute_result"
    }
   ],
   "source": [
    "np.random.randint(1,population_size+1,3)"
   ]
  },
  {
   "cell_type": "markdown",
   "metadata": {},
   "source": [
    "Lets make the sample_size a variable to make changing it easier later on."
   ]
  },
  {
   "cell_type": "code",
   "execution_count": 6,
   "metadata": {
    "collapsed": true
   },
   "outputs": [],
   "source": [
    "sample_size = 10"
   ]
  },
  {
   "cell_type": "markdown",
   "metadata": {},
   "source": [
    "Now we can take a random sample from the data. We generate random numbers as before, then access the entries that we stored in arrays earlier. Something like:"
   ]
  },
  {
   "cell_type": "code",
   "execution_count": 7,
   "metadata": {
    "collapsed": false
   },
   "outputs": [
    {
     "name": "stdout",
     "output_type": "stream",
     "text": [
      "15 187.5 \n",
      "\n",
      "20 180.0 \n",
      "\n",
      "23 172.5 \n",
      "\n",
      "6 180.0 \n",
      "\n",
      "24 152.5 \n",
      "\n",
      "7 170.0 \n",
      "\n",
      "20 180.0 \n",
      "\n",
      "25 177.5 \n",
      "\n",
      "6 180.0 \n",
      "\n",
      "4 180.0 \n",
      "\n",
      "sample mean 176.0\n"
     ]
    }
   ],
   "source": [
    "sum = 0\n",
    "for i in np.random.randint(1,population_size+1,sample_size):\n",
    "    sum += heights[i] \n",
    "    print(i,heights[i],\"\\n\")\n",
    "print(\"sample mean\", sum/sample_size)"
   ]
  },
  {
   "cell_type": "markdown",
   "metadata": {},
   "source": [
    "Now lets make the business part of that a function, so we can easily call it as many times as we like."
   ]
  },
  {
   "cell_type": "code",
   "execution_count": 14,
   "metadata": {
    "collapsed": false
   },
   "outputs": [],
   "source": [
    "def sample(sample_size):\n",
    "    sum = 0\n",
    "    for i in np.random.randint(0,population_size,sample_size):\n",
    "        sum += heights[i]\n",
    "    return sum/sample_size"
   ]
  },
  {
   "cell_type": "markdown",
   "metadata": {},
   "source": [
    "we can run it like so - and feed the result into a print function."
   ]
  },
  {
   "cell_type": "code",
   "execution_count": 15,
   "metadata": {
    "collapsed": false
   },
   "outputs": [
    {
     "name": "stdout",
     "output_type": "stream",
     "text": [
      "171.666666667\n"
     ]
    }
   ],
   "source": [
    "print(sample(3))"
   ]
  },
  {
   "cell_type": "markdown",
   "metadata": {},
   "source": [
    "Now we can write a wrapper that will run the sample function as many times as we like."
   ]
  },
  {
   "cell_type": "code",
   "execution_count": 24,
   "metadata": {
    "collapsed": false
   },
   "outputs": [
    {
     "name": "stdout",
     "output_type": "stream",
     "text": [
      "174.664525\n"
     ]
    }
   ],
   "source": [
    "number_of_samples = 10000\n",
    "my_sample_means = []\n",
    "\n",
    "for my_sample in range(1,number_of_samples+1):\n",
    "    my_sample_means.append(sample(sample_size))\n",
    "    \n",
    "print(np.mean(my_sample_means))"
   ]
  },
  {
   "cell_type": "code",
   "execution_count": 18,
   "metadata": {
    "collapsed": false
   },
   "outputs": [
    {
     "data": {
      "image/png": "[encoded data removed]",
      "text/plain": [
       "<matplotlib.figure.Figure at 0x7f752bb185c0>"
      ]
     },
     "metadata": {},
     "output_type": "display_data"
    }
   ],
   "source": [
    "plt.hist(my_sample_means);"
   ]
  }
 ],
 "metadata": {
  "kernelspec": {
   "display_name": "Python 3",
   "language": "python",
   "name": "python3"
  },
  "language_info": {
   "codemirror_mode": {
    "name": "ipython",
    "version": 3
   },
   "file_extension": ".py",
   "mimetype": "text/x-python",
   "name": "python",
   "nbconvert_exporter": "python",
   "pygments_lexer": "ipython3",
   "version": "3.6.0"
  }
 },
 "nbformat": 4,
 "nbformat_minor": 0
}
