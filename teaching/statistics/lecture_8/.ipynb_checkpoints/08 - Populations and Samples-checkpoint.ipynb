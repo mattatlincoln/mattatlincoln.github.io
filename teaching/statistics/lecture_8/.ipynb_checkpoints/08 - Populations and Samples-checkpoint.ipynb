{
 "cells": [
  {
   "cell_type": "code",
   "execution_count": 1,
   "metadata": {
    "collapsed": true,
    "deletable": true,
    "editable": true,
    "slideshow": {
     "slide_type": "skip"
    }
   },
   "outputs": [],
   "source": [
    "# Slides for Probability and Statistics module, 2016-2017\n",
    "# Matt Watkins, University of Lincoln"
   ]
  },
  {
   "cell_type": "code",
   "execution_count": 2,
   "metadata": {
    "collapsed": false,
    "deletable": true,
    "editable": true,
    "slideshow": {
     "slide_type": "skip"
    }
   },
   "outputs": [],
   "source": [
    "import numpy as np\n",
    "import matplotlib.pyplot as plt\n",
    "import scipy.stats as stats\n",
    "%matplotlib inline"
   ]
  },
  {
   "cell_type": "markdown",
   "metadata": {
    "deletable": true,
    "editable": true,
    "slideshow": {
     "slide_type": "slide"
    }
   },
   "source": [
    "# Populations and Samples\n",
    "\n",
    "Learning outcomes\n",
    "\n",
    "<div style=\"background-color:Gold; margin-left: 20px; margin-right: 20px; padding-bottom: 8px; padding-left: 8px; padding-right: 8px; padding-top: 8px; border-radius: 25px;\">\n",
    "<li>what is a population? </li>\n",
    "<li> what is a sample?    </li>\n",
    "<li> how are they related </li>\n",
    "</div>\n",
    "<br>\n",
    "\n",
    "Consider $X_i$, $i=1,2,\\ldots n$, where $X_1, X_2 \\ldots X_n$ are mutually independent and identically distributed as $X$. With $\\text{E}[X] = \\mu_X$ and $\\sigma_X^2 = \\sigma_X^2$.  \n",
    "\n",
    "The sample mean, $\\bar X$, and sample variance, $S^2$, are random variables with \n",
    "\n",
    "<div style=\"background-color:Gold; margin-left: 20px; margin-right: 20px; padding-bottom: 8px; padding-left: 8px; padding-right: 8px; padding-top: 8px; border-radius: 25px;\">\n",
    "<li> $\\bar{X} = \\frac{1}{n} \\sum_{i=1}^n X_i$\n",
    "<li> $\\text{E}[\\bar{X}] = \\mu_X$ </li>\n",
    "<li> $\\text{var}(\\bar{X}) = \\sigma_X^2/n$ </li>\n",
    "<li> $S^2 = \\sum_{i=1}^n \\frac{ (X_i - \\bar{X})^2}{n-1}$</li>\n",
    "<li> $\\text{E}[S^2] = \\sigma_X^2$\n",
    "</div>"
   ]
  },
  {
   "cell_type": "markdown",
   "metadata": {
    "deletable": true,
    "editable": true,
    "slideshow": {
     "slide_type": "subslide"
    }
   },
   "source": [
    "$\\mathbf{definition}$\n",
    "\n",
    "A $\\mathbf{population}$ is a complete set of measurements or counts, either existing or conceptial.\n",
    "\n",
    "- Everything we have done so far has dealt with populations\n",
    "\n",
    "In principle we have all the information available - for instance when we looked at the distribution of the distance of your home town from Lincoln. \n",
    "\n",
    "You are the complete population (those that are here anyway) of students in the School of Mathematics and Physics at the University of Lincoln in 2016-17."
   ]
  },
  {
   "cell_type": "markdown",
   "metadata": {
    "deletable": true,
    "editable": true,
    "slideshow": {
     "slide_type": "subslide"
    }
   },
   "source": [
    "$\\mathbf{definition}$\n",
    "\n",
    "A $\\mathbf{sample}$ is a subset of measurements on a population. \n",
    "\n",
    "For instance we could instead think of the 'students in the School of Mathematics and Physics at the University of Lincoln in 2016-17' as a sample from the population that is 'students starting undergraduate degrees in the UK 2016-17'.\n"
   ]
  },
  {
   "cell_type": "markdown",
   "metadata": {
    "deletable": true,
    "editable": true,
    "slideshow": {
     "slide_type": "fragment"
    }
   },
   "source": [
    "#### If we only have information about the sample,  can we deduce information about the population?"
   ]
  },
  {
   "cell_type": "markdown",
   "metadata": {
    "deletable": true,
    "editable": true,
    "slideshow": {
     "slide_type": "subslide"
    }
   },
   "source": [
    "$\\mathbf{definition}$\n",
    "\n",
    "A $\\mathbf{statistic}$ is a numerical descriptive measure of a sample.\n",
    " \n",
    "A $\\mathbf{parameter}$ is a numerical descriptive measure of a population.\n",
    "  \n",
    "A statistic should be derived only from the observations - there should be no assumptions made about the underlying distribution etc."
   ]
  },
  {
   "cell_type": "markdown",
   "metadata": {
    "deletable": true,
    "editable": true,
    "slideshow": {
     "slide_type": "subslide"
    }
   },
   "source": [
    "$\\mathbf{definition}$\n",
    "\n",
    "A random $\\mathbf{sample}$ of size $n$ taken from some distribution is a set of $n$ random variables $X_1, X_2 \\ldots X_n$, satisfying the following two conditions:\n",
    "\n",
    "(a) Each $X_i$ where $i=1,2,\\ldots n$ has exactly the same distribution.\n",
    "\n",
    "(b) The set $X_1, X_2 \\ldots X_n$ are mutually independent.\n",
    "\n",
    "This is often abbreviated to iid, independent and identitally distributed."
   ]
  },
  {
   "cell_type": "markdown",
   "metadata": {
    "deletable": true,
    "editable": true,
    "slideshow": {
     "slide_type": "subslide"
    }
   },
   "source": [
    "#### Example\n",
    "\n",
    "This is the crux, distringuishing between sample and population. \n",
    "\n",
    "Lets look at your heights.\n",
    "\n",
    "In this case our population is those of you that have turned up this morning.\n",
    "\n",
    "We can take a sample from that population by picking groups of you at random."
   ]
  },
  {
   "cell_type": "markdown",
   "metadata": {
    "deletable": true,
    "editable": true,
    "slideshow": {
     "slide_type": "subslide"
    }
   },
   "source": [
    "$\\mathbf{definition}$\n",
    "\n",
    "Let $X_1, X_2 \\ldots X_n$ be a random sample of size $n$ from some distribution. \n",
    "\n",
    "We define a $\\mathbf{statistic}$ (of the sample!) as any function of the set \n",
    "\n",
    "(a) Each $X_i$ where $i=1,2,\\ldots n$.\n",
    "\n",
    "(b) The set $X_1, X_2 \\ldots X_n$ are mutually independent.\n",
    "\n",
    "This statistic has to be fully defined when the sample is collected."
   ]
  },
  {
   "cell_type": "markdown",
   "metadata": {
    "deletable": true,
    "editable": true,
    "slideshow": {
     "slide_type": "slide"
    }
   },
   "source": [
    "#### Example\n",
    "\n",
    "OK, lets actually do this for your heights.\n",
    "\n"
   ]
  },
  {
   "cell_type": "markdown",
   "metadata": {
    "deletable": true,
    "editable": true,
    "slideshow": {
     "slide_type": "fragment"
    }
   },
   "source": [
    "- in centimeters!"
   ]
  },
  {
   "cell_type": "code",
   "execution_count": 3,
   "metadata": {
    "collapsed": false,
    "deletable": true,
    "editable": true,
    "slideshow": {
     "slide_type": "skip"
    }
   },
   "outputs": [
    {
     "name": "stdout",
     "output_type": "stream",
     "text": [
      "Population size = 25,\n",
      "Population mean = 175.4,\n",
      "Population variance = 79.04\n"
     ]
    },
    {
     "data": {
      "image/png": "[encoded data removed]",
      "text/plain": [
       "<matplotlib.figure.Figure at 0x7f87029923c8>"
      ]
     },
     "metadata": {},
     "output_type": "display_data"
    }
   ],
   "source": [
    "heights = np.array([174, 179, 171, 178, 190, \n",
    "                    182, 168, 163, 168, 168, 182, 185,\n",
    "                       175, 175, 183, 182, 168, 159, 154, 179,\n",
    "                   180, 190, 182, 170, 180])\n",
    "\n",
    "population_size = len(heights)\n",
    "print(\"Population size = {},\\nPopulation mean = {:.5},\\nPopulation variance = {:.5}\".format(\n",
    "        population_size, np.mean(heights), np.var(heights)))\n",
    "\n",
    "plt.hist(heights);"
   ]
  },
  {
   "cell_type": "markdown",
   "metadata": {
    "deletable": true,
    "editable": true,
    "slideshow": {
     "slide_type": "subslide"
    }
   },
   "source": [
    "In this case our population is those of you that have turned up this morning.\n",
    "\n",
    "We can take a sample from that population by picking groups of you at random.\n",
    "\n",
    "Our statistic could be the sample mean\n",
    "\n",
    "<div style=\"background-color:Gold; margin-left: 20px; margin-right: 20px; padding-bottom: 8px; padding-left: 8px; padding-right: 8px; padding-top: 8px; border-radius: 25px;\">\n",
    "$$\n",
    "\\bar{X} = \\frac{1}{n} \\sum_{i=1}^n X_i\n",
    "$$\n",
    "</div>\n",
    "\n",
    "Note that $\\bar{X}$ is a random variable itself, because it is a sum of other random variables. "
   ]
  },
  {
   "cell_type": "code",
   "execution_count": 4,
   "metadata": {
    "collapsed": true,
    "deletable": true,
    "editable": true,
    "slideshow": {
     "slide_type": "skip"
    }
   },
   "outputs": [],
   "source": [
    "def sample(sample_size):\n",
    "    sum = 0\n",
    "    for i in np.random.randint(0,population_size,sample_size):\n",
    "        sum += heights[i]\n",
    "    return sum/sample_size"
   ]
  },
  {
   "cell_type": "code",
   "execution_count": 5,
   "metadata": {
    "collapsed": false,
    "deletable": true,
    "editable": true,
    "slideshow": {
     "slide_type": "skip"
    }
   },
   "outputs": [
    {
     "name": "stdout",
     "output_type": "stream",
     "text": [
      "Population size = 25,\n",
      "Population mean = 175.4,\n",
      "Population variance = 79.04\n",
      "\n",
      "Sample size = 10,\n",
      "Sample mean = 175.41\n",
      "Variance of the sample mean = 7.2959\n"
     ]
    },
    {
     "data": {
      "image/png": "[encoded data removed]",
      "text/plain": [
       "<matplotlib.figure.Figure at 0x7f870026af28>"
      ]
     },
     "metadata": {},
     "output_type": "display_data"
    }
   ],
   "source": [
    "sample_size = 10\n",
    "number_of_samples = 1000\n",
    "my_sample_means = []\n",
    "\n",
    "for my_sample in range(1,number_of_samples+1):\n",
    "    my_sample_means.append(sample(sample_size))\n",
    "    \n",
    "print(\"Population size = {},\\nPopulation mean = {:.5},\\nPopulation variance = {:.5}\\n\".format(\n",
    "        population_size, np.mean(heights), np.var(heights)))\n",
    "\n",
    "print(\"Sample size = {},\\nSample mean = {:.5}\\nVariance of the sample mean = {:.5}\".format(\n",
    "        sample_size, np.mean(my_sample_means),np.var(my_sample_means)))\n",
    "\n",
    "plt.hist(my_sample_means);"
   ]
  },
  {
   "cell_type": "markdown",
   "metadata": {
    "deletable": true,
    "editable": true,
    "slideshow": {
     "slide_type": "slide"
    }
   },
   "source": [
    "## Sample statistics - sample mean, and sample variance\n",
    "\n",
    "Let $X_1, X_2 \\ldots X_n$ be a random sample from the distribution $F$. \n",
    "\n",
    "$F$ has population mean $\\mu$ and population variance $\\sigma^2$.\n",
    "\n",
    "Similarly to the population, the most important sample statistics are the \n",
    "\n",
    "<div style=\"background-color:Gold; margin-left: 20px; margin-right: 20px; padding-bottom: 8px; padding-left: 8px; padding-right: 8px; padding-top: 8px; border-radius: 25px;\">\n",
    "sample mean,\n",
    "$$\n",
    "\\bar{X} = \\sum_{i=1}^n \\frac{ X_i}{n},\n",
    "$$\n",
    "\n",
    "and the sample variance\n",
    "\n",
    "$$\n",
    "S^2 = \\sum_{i=1}^n \\frac{ (X_i - \\bar{X})^2}{n-1} \n",
    "$$\n",
    "</div>"
   ]
  },
  {
   "cell_type": "markdown",
   "metadata": {
    "deletable": true,
    "editable": true,
    "slideshow": {
     "slide_type": "subslide"
    }
   },
   "source": [
    "### Sample mean\n",
    "\n",
    "The sample mean is defined as the arithmetic mean of the sample values. \n",
    "\n",
    "$$\n",
    "\\bar{X} = \\sum_{i=1}^n \\frac{ X_i}{n},\n",
    "$$\n",
    "\n",
    "It is proportional to the sum of $n$ independent random variables, so it is itself a random variable. We can use the results we showed earlier for independent random variables to investigate how the sample mean is distributed (remember it is a random variable)\n",
    "\n"
   ]
  },
  {
   "cell_type": "markdown",
   "metadata": {
    "deletable": true,
    "editable": true,
    "slideshow": {
     "slide_type": "subslide"
    }
   },
   "source": [
    "#### Expectation of the sample mean\n",
    "\n",
    "We have\n",
    "$$\n",
    "\\begin{align}\n",
    "\\text{E}[\\bar{X}] & = \\text{E} \\Bigg[ \\frac{X_1 + X_2 +\\ldots+ X_n}{n} \\Bigg]\\\\\n",
    "                  & = \\frac{1}{n}\\Big(\\text{E}[X_1] + \\text{E}[X_2] +\\ldots+ \\text{E}[X_n]\\Big)\n",
    "\\end{align}\n",
    "$$\n",
    "where we use the fact that the expectation is a linear operator. \n",
    "\n"
   ]
  },
  {
   "cell_type": "markdown",
   "metadata": {
    "deletable": true,
    "editable": true,
    "slideshow": {
     "slide_type": "subslide"
    }
   },
   "source": [
    "Now we have said that each of the sampling random variables is identically distributed according to $F$, which has expectation value of $\\mu$, so each of the expectations is $\\mu$ and we get\n",
    "\n",
    "$$\n",
    "\\begin{align}\n",
    "\\text{E}[\\bar{X}] & = \\frac{1}{n}\\Big(\\text{E}[X_1] + \\text{E}[X_2] +\\ldots+ \\text{E}[X_n]\\Big)\\\\\n",
    "                  & = \\frac{1}{n}(\\mu + \\mu +\\ldots+ \\mu)\\\\\n",
    "                  & = \\frac{1}{n}(n\\mu) \\\\\n",
    "                  & = \\mu\n",
    "\\end{align}\n",
    "$$\n",
    "So the expectation of the sample mean should be the same as the population mean. \n",
    "\n",
    "We saw that this seemed to be the case for the samples we did from your heights."
   ]
  },
  {
   "cell_type": "markdown",
   "metadata": {
    "deletable": true,
    "editable": true,
    "slideshow": {
     "slide_type": "subslide"
    }
   },
   "source": [
    "#### Variance of the sample mean\n",
    "\n",
    "We can do a similar job looking at the variance of the sample mean. We have\n",
    "$$\n",
    "\\begin{align}\n",
    "\\text{var}(\\bar{X}) & = \\text{var} \\Bigg( \\frac{X_1 + X_2 +\\ldots+ X_n}{n} \\Bigg)\\\\\n",
    "                    & = \\frac{1}{n^2} \\Bigg[ \\text{var}(X_1) + \\text{var}(X_2) +\\ldots+ \\text{var}(X_n) \\Bigg]\n",
    "\\end{align}\n",
    "$$\n",
    "where we use the properties of the variance for independent variables that we showed earlier.\n",
    "\n"
   ]
  },
  {
   "cell_type": "markdown",
   "metadata": {
    "deletable": true,
    "editable": true,
    "slideshow": {
     "slide_type": "subslide"
    }
   },
   "source": [
    "Again we use the fact that each of the samples is identically distributed with variance $\\sigma^2$ to get\n",
    "\n",
    "$$\n",
    "\\begin{align}\n",
    "\\text{var}(\\bar{X}) & = \\frac{1}{n^2} \\big[ \\text{var}(X_1) + \\text{var}(X_2) +\\ldots+ \\text{var}(X_n) \\big]\\\\\n",
    "                    & = \\frac{1}{n^2} \\big[ \\sigma^2 + \\sigma^2 +\\ldots+ \\sigma^2 \\big]\\\\\n",
    "                    & = \\frac{1}{n^2} \\big[ n\\sigma^2  \\big]\\\\\n",
    "                    & = \\frac{n\\sigma^2}{n^2} \\\\\n",
    "                    & = \\frac{\\sigma^2}{n}\n",
    "\\end{align}\n",
    "$$\n",
    "We see that the variance of the sample means is expected to be $n$, the sample size, times smaller than the population variance.\n",
    "\n",
    "You can check this for our sampling of your heights by changing the sample size in the code.\n",
    "\n",
    "**Note that the variance of the sample mean is not the sample variance!**"
   ]
  },
  {
   "cell_type": "code",
   "execution_count": 6,
   "metadata": {
    "collapsed": false,
    "deletable": true,
    "editable": true,
    "slideshow": {
     "slide_type": "skip"
    }
   },
   "outputs": [
    {
     "name": "stdout",
     "output_type": "stream",
     "text": [
      "Sample size = 5\n",
      "Sample mean = 175.39\n",
      "Variance of the sample mean = 15.719\n"
     ]
    },
    {
     "data": {
      "image/png": "[encoded data removed]",
      "text/plain": [
       "<matplotlib.figure.Figure at 0x7f87001d4438>"
      ]
     },
     "metadata": {},
     "output_type": "display_data"
    }
   ],
   "source": [
    "sample_size = 5\n",
    "number_of_samples = 10000\n",
    "my_sample_means = []\n",
    "\n",
    "for my_sample in range(1,number_of_samples+1):\n",
    "    my_sample_means.append(sample(sample_size))\n",
    "        \n",
    "print(\"Sample size = {}\\nSample mean = {:.5}\\nVariance of the sample mean = {:.5}\".format(\n",
    "        sample_size, np.mean(my_sample_means),np.var(my_sample_means)))\n",
    "plt.hist(my_sample_means);\n"
   ]
  },
  {
   "cell_type": "code",
   "execution_count": 7,
   "metadata": {
    "collapsed": false,
    "deletable": true,
    "editable": true,
    "slideshow": {
     "slide_type": "skip"
    }
   },
   "outputs": [
    {
     "name": "stdout",
     "output_type": "stream",
     "text": [
      "Population size = 25,\n",
      "Population mean = 175.4,\n",
      "Population variance = 79.04\n"
     ]
    }
   ],
   "source": [
    "print(\"Population size = {},\\nPopulation mean = {:.5},\\nPopulation variance = {:.5}\".format(\n",
    "        population_size, np.mean(heights), np.var(heights)))"
   ]
  },
  {
   "cell_type": "markdown",
   "metadata": {
    "deletable": true,
    "editable": true,
    "slideshow": {
     "slide_type": "subslide"
    }
   },
   "source": [
    "### Unbiased esimator\n",
    "\n",
    "The sample mean is an 'unbiased' estimator of the population mean. \n",
    "\n",
    "If we didn't know the population mean, $\\mu$, it would be natural to take $\\bar{X}$ as an estimate of it. \n",
    "\n",
    "We also see that as the sample size, $n$, increases the sample mean tends precisely to the population mean (law of large numbers). \n",
    "\n",
    "We can see that the variance of the sample mean\n",
    "$$\\text{var}(\\bar{X}) = \\frac{\\sigma^2}{n}$$\n",
    "tends to zero as the sample size increases."
   ]
  },
  {
   "cell_type": "markdown",
   "metadata": {
    "deletable": true,
    "editable": true,
    "slideshow": {
     "slide_type": "slide"
    }
   },
   "source": [
    "## Sample variance\n",
    "\n",
    "The sample variance is defined as\n",
    "\n",
    "$$\n",
    "S^2 = \\sum_{i=1}^n \\frac{ (X_i - \\bar{X})^2}{n-1}\n",
    "$$\n",
    "\n",
    "and $S = \\sqrt(S^2)$ is the sample standard deviation.\n",
    "\n",
    "There are a lot of bad explanations for the $(n-1)$ in the denominator on t'interwebs. I'm going to stick with the following:"
   ]
  },
  {
   "cell_type": "markdown",
   "metadata": {
    "deletable": true,
    "editable": true,
    "slideshow": {
     "slide_type": "subslide"
    }
   },
   "source": [
    "### Expectation of the sample variance\n",
    "\n",
    "First, let's prove a formula similar to the one we tend to use when calculating the population variance:\n",
    "\n",
    "$$\n",
    "\\begin{align}\n",
    "(n-1)S^2 & = \\sum_{i=1}^n (X_i - \\bar{X})^2\\\\\n",
    "         & = \\sum_{i=1}^n (X_i^2 - 2X_i\\bar{X} - \\bar{X}^2) \\text{ (expand the bracket) }\\\\\n",
    "         & = \\sum_{i=1}^n X_i^2 - 2\\bar{X} \\sum_{i=1}^n X_i + \\sum_{i=1}^n\\bar{X}^2\\\\\n",
    "         & = \\sum_{i=1}^n X_i^2 - 2\\bar{X}(n\\bar{X}) + n\\bar{X}^2 \\text{ (because $\\bar{X} = \\sum_{i=1}^n X_i / n$) }\\\\\n",
    "         & = \\sum_{i=1}^n X_i^2 - 2n\\bar{X}^2 + n\\bar{X}^2 \\\\\n",
    "         & = \\sum_{i=1}^n X_i^2 - n\\bar{X}^2\n",
    "\\end{align}\n",
    "$$"
   ]
  },
  {
   "cell_type": "markdown",
   "metadata": {
    "deletable": true,
    "editable": true,
    "slideshow": {
     "slide_type": "subslide"
    }
   },
   "source": [
    "We are still sampling from $F$, so the population variance is $\\sigma^2$, we can use the formula just derived to evaluate the expectation of the sample variance\n",
    "\n",
    "$$\n",
    "\\text{E}\\Big[(n-1)S^2\\Big] = \\text{E}\\Bigg[\\sum_{i=1}^n X_i^2 - n\\bar{X}^2\\Bigg]\n",
    "$$\n",
    "\n",
    "Rearranging the standard formula for the variance of a random variable $U$ to $\\text{E}[U^2] = \\sigma_U^2 + \\text{E}[U]^2 $, we have for the case when $U$ is the sample mean\n",
    "\n",
    "$$\n",
    "\\text{E}[\\bar{X}^2] = \\frac{\\sigma^2}{n} + \\mu^2\n",
    "$$\n",
    "\n",
    "using the results we derived for the expectation and variance of the sample mean. "
   ]
  },
  {
   "cell_type": "markdown",
   "metadata": {
    "deletable": true,
    "editable": true,
    "slideshow": {
     "slide_type": "subslide"
    }
   },
   "source": [
    "The same rearranged formula for the variance gives us\n",
    "\n",
    "$$\n",
    "\\text{E}[X_i^2] = \\sigma^2 + \\mu^2\n",
    "$$\n",
    "\n",
    "We then get \n",
    "\n",
    "$$\n",
    "\\begin{align}\n",
    "\\text{E}\\Big[(n-1)S^2\\Big] & = \\text{E}\\Bigg[\\sum_{i=1}^n X_i^2 - n\\bar{X}^2\\Bigg]\\\\\n",
    "                           & = n (\\sigma^2 + \\mu^2) - n\\Bigg(\\frac{\\sigma^2}{n} + \\mu^2\\Bigg)\\\\\n",
    "                           & = (n-1)\\sigma^2\n",
    "\\end{align}\n",
    "$$\n",
    "\n",
    "and finally\n",
    "\n",
    "$$\n",
    "\\text{E}[S^2] =\\sigma^2\n",
    "$$"
   ]
  },
  {
   "cell_type": "markdown",
   "metadata": {
    "deletable": true,
    "editable": true,
    "slideshow": {
     "slide_type": "subslide"
    }
   },
   "source": [
    "So $S^2$ is an unbiased estimator of the population variance. This is why we define $S^2$ like that.\n",
    "\n",
    "If we defined $S^2$ with $n$ rather than $(n-1)$ in the denominator our estimate of the population variance would be \n",
    "\n",
    "$$\n",
    "\\frac{n-1}{n}\\sigma^2\n",
    "$$\n",
    "\n",
    "instead of $\\sigma^2$ itself. "
   ]
  },
  {
   "cell_type": "code",
   "execution_count": 8,
   "metadata": {
    "collapsed": true,
    "deletable": true,
    "editable": true,
    "slideshow": {
     "slide_type": "skip"
    }
   },
   "outputs": [],
   "source": [
    "def sample_var(sample_size):\n",
    "    sample_items = []\n",
    "    for i in np.random.randint(0,population_size,sample_size):\n",
    "        sample_items.append(heights[i])\n",
    "    return np.var(sample_items)*sample_size/(sample_size-1)"
   ]
  },
  {
   "cell_type": "code",
   "execution_count": 9,
   "metadata": {
    "collapsed": false,
    "deletable": true,
    "editable": true,
    "slideshow": {
     "slide_type": "skip"
    }
   },
   "outputs": [
    {
     "name": "stdout",
     "output_type": "stream",
     "text": [
      "Sample var = 79.686\n",
      "\n",
      "Population size = 25,\n",
      "Population mean = 175.4,\n",
      "Population variance = 79.04\n"
     ]
    },
    {
     "data": {
      "image/png": "[encoded data removed]",
      "text/plain": [
       "<matplotlib.figure.Figure at 0x7f8700034588>"
      ]
     },
     "metadata": {},
     "output_type": "display_data"
    }
   ],
   "source": [
    "sample_size = 10\n",
    "number_of_samples = 10000\n",
    "my_sample_var = []\n",
    "\n",
    "for my_sample in range(1,number_of_samples+1):\n",
    "    my_sample_var.append(sample_var(sample_size))\n",
    "        \n",
    "print(\"Sample var = {:.5}\\n\".format(\n",
    "        np.mean(my_sample_var)))\n",
    "plt.hist(my_sample_var);\n",
    "print(\"Population size = {},\\nPopulation mean = {:.5},\\nPopulation variance = {:.5}\".format(\n",
    "        population_size, np.mean(heights), np.var(heights)))"
   ]
  },
  {
   "cell_type": "markdown",
   "metadata": {
    "deletable": true,
    "editable": true,
    "slideshow": {
     "slide_type": "slide"
    }
   },
   "source": [
    "## Sampling from a finite set\n",
    "\n",
    "I've cheated a little in what we've done, or at least we've only considered an infinite set, or a finite set with replacement. \n",
    "\n",
    "The code for sampling replaces the student each time, so when we average over many samples we include cases where the same student appears multiple times.\n",
    "\n",
    "If we are really sampling from a small finite sample, then things are more complicated (see Ross for details). The various $X_i$ become correlated to some degree (like when we take multiple balls from a container in probability problems).\n",
    "\n",
    "We won't look at this case here."
   ]
  },
  {
   "cell_type": "markdown",
   "metadata": {
    "deletable": true,
    "editable": true,
    "slideshow": {
     "slide_type": "slide"
    }
   },
   "source": [
    "# Distribution of samples\n",
    "\n",
    "We've talked about the overall properties of samples, in terms of the statistics $\\bar{X}$ and $S$.\n",
    "\n",
    "The second main theorem of probability theory is the 'central limit theorem'.\n",
    "\n",
    "** Central limit Theorem**\n",
    "\n",
    "Let $S_n = X_1 + X_2 + X_3 + \\ldots + X_n$ be the sum of $n$ independent continuous random variables with common probability density function $f$, expectation $\\mu$ and variance $\\sigma^2$. \n",
    "\n",
    "Let the standardised variable (meaning it has expectation 0 and variance 1) corresponding to $S_n$ be $S_n^* = \\frac{(S_n - n \\mu)}{\\sigma \\sqrt{n}}$. \n",
    "\n",
    "Then we have, for all $a \\lt b$,\n",
    "\n",
    "$$\n",
    "\\lim_{n \\to \\infty} P(a \\lt S_n^* \\lt b) = \\frac{1}{\\sqrt{2 \\pi}} \\int_a^b e^{-\\frac{x^2}{2}} \\text{d}x\n",
    "$$\n",
    "\n",
    "So, for large $n$, $S_n^*$ is a standard normal random variable. It does not matter what the probability density function $f$ is. "
   ]
  },
  {
   "cell_type": "markdown",
   "metadata": {
    "deletable": true,
    "editable": true,
    "slideshow": {
     "slide_type": "slide"
    }
   },
   "source": [
    "**example**\n",
    "\n",
    "Suppose a  surveyor wants to measure a known distance, say of 1 mile using some triangulation and wotnot. He knows that all his measurements will be slightly in error.\n",
    "\n",
    "OK, he'll take several measurements and take an average to reduce the error. \n",
    "\n",
    "He assumes that his measurements are independent random variables with $\\mu = 1$ and $\\sigma = 0.0002$.\n",
    "\n",
    "- what can he say about the average?\n",
    "- how many measurements should he take to be reasonably sure that his average lies within $0.0001$ of the true value"
   ]
  },
  {
   "cell_type": "markdown",
   "metadata": {
    "deletable": true,
    "editable": true,
    "slideshow": {
     "slide_type": "subslide"
    }
   },
   "source": [
    "What can he say about the average?\n",
    "\n",
    "- He can say that if $n$ is large, the average $S_n/n$ has a probability density function that is approximately normal, with mean $\\mu = 1 $ mile, and standard deviation $\\sigma = \\frac{0.0002}{\\sqrt{n}}$ miles.\n",
    "\n",
    "How many measurements should he take to be reasonably sure that his average lies within 0.0001 of the true value\n",
    "\n",
    "- The Chebychev inequality says that\n",
    "$$\n",
    "P\\Bigg( \\Big| \\frac{S_n}{n} - \\mu \\Big| \\ge 0.0001 \\Bigg) \\le \\frac{(0.0002)^2}{n\\cdot 10^{-8}} = \\frac{4}{n}\n",
    "$$\n",
    "so we need $n \\ge 80$ to be $95\\%$ confident the error is less than $0.0001$.\n"
   ]
  },
  {
   "cell_type": "markdown",
   "metadata": {
    "deletable": true,
    "editable": true,
    "slideshow": {
     "slide_type": "subslide"
    }
   },
   "source": [
    "- The surveyor doesn't fancy repeating things 80x everytime. If the central limit theorem holds then $S_n$ should be approximately normal. If we know the distribution, we can improve our estimate.\n",
    "\n",
    "$$\n",
    "\\begin{align}\n",
    "P\\Bigg( \\Big| \\frac{S_n}{n} - \\mu \\Big| \\le 0.0001\\Bigg)  & = P(-0.0001 \\leq S_n/n - \\mu \\leq +0.0001) \\\\\n",
    "                                                          & = P(-0.0001 n \\leq S_n - n\\mu \\leq +0.0001 n) \\\\\n",
    "                                                          & = P(\\frac{-0.0001 n}{\\sqrt{n}\\sigma} \\leq \\frac{S_n - n\\mu}{\\sigma \\sqrt{n}}\\leq +\\frac{0.0001 n }{ \\sigma\\sqrt{n}}) \\\\\n",
    "                                                          & = P(-0.5 \\sqrt{n} \\leq S_n^* \\leq 0.5 \\sqrt{n}) \\\\\n",
    "                                              & = \\frac{1}{\\sqrt{2 \\pi}} \\int \\limits_{-0.5 \\sqrt{n}}^{0.5 \\sqrt{n}} e^{-\\frac{x^2}{2}} \\text{d}x\n",
    "\\end{align}                                              \n",
    "$$"
   ]
  },
  {
   "cell_type": "markdown",
   "metadata": {
    "deletable": true,
    "editable": true,
    "slideshow": {
     "slide_type": "subslide"
    }
   },
   "source": [
    "By using the values of the cumulative distribution function of the standard normal distribution, we can figure out that this would be $> 0.95$ if $0.5 \\sqrt{n} \\ge 1.96$.  \n",
    "\n",
    "This means 16 measurements would suffice - easy life."
   ]
  },
  {
   "cell_type": "markdown",
   "metadata": {
    "deletable": true,
    "editable": true,
    "slideshow": {
     "slide_type": "slide"
    }
   },
   "source": [
    "We found the value $0.5 \\sqrt{n} \\ge 1.96$ by looking for the quantiles that enclose 95% of the probability distribution."
   ]
  },
  {
   "cell_type": "code",
   "execution_count": 10,
   "metadata": {
    "collapsed": false,
    "deletable": true,
    "editable": true,
    "slideshow": {
     "slide_type": "skip"
    }
   },
   "outputs": [
    {
     "data": {
      "image/png": "[encoded data removed]",
      "text/plain": [
       "<matplotlib.figure.Figure at 0x7f8700188f98>"
      ]
     },
     "metadata": {},
     "output_type": "display_data"
    }
   ],
   "source": [
    "mu = 0\n",
    "sigma = 1\n",
    "\n",
    "x = np.linspace(int(stats.norm.ppf(0.001)),\n",
    "                  int(stats.norm.ppf(0.999)),\n",
    "                (int(stats.norm.ppf(0.999) - int(stats.norm.ppf(0.001))))*10+1)\n",
    "plt.plot(x, stats.norm.pdf(x,loc = mu, scale = sigma), 'k-', label='normal pdf');\n",
    "\n",
    "section = np.arange(stats.norm.ppf(0.025), stats.norm.ppf(0.975), 0.1)\n",
    "plt.fill_between(section,stats.norm.pdf(section), color='b');"
   ]
  },
  {
   "cell_type": "markdown",
   "metadata": {
    "deletable": true,
    "editable": true,
    "slideshow": {
     "slide_type": "subslide"
    }
   },
   "source": [
    "As the normal distribution is symmetric, this means that there should be 2.5% of the density missing at the bottom, and 2.5% missing at the top.\n",
    "\n",
    "Or we want to find the $2.5^{th}$ and the $97.5^{th}$ percentiles."
   ]
  },
  {
   "cell_type": "code",
   "execution_count": 11,
   "metadata": {
    "collapsed": false,
    "deletable": true,
    "editable": true,
    "slideshow": {
     "slide_type": "skip"
    }
   },
   "outputs": [
    {
     "data": {
      "image/png": "[encoded data removed]",
      "text/plain": [
       "<matplotlib.figure.Figure at 0x7f8700234898>"
      ]
     },
     "metadata": {},
     "output_type": "display_data"
    }
   ],
   "source": [
    "plt.plot(x, stats.norm.pdf(x,loc = mu, scale = sigma), 'k-', label='normal pdf');\n",
    "\n",
    "section = np.arange(stats.norm.ppf(0.975), stats.norm.ppf(0.999), 0.1)\n",
    "plt.fill_between(section,stats.norm.pdf(section), color='r');\n",
    "plt.fill_between(-section,stats.norm.pdf(section), color='r');"
   ]
  },
  {
   "cell_type": "code",
   "execution_count": 12,
   "metadata": {
    "collapsed": false,
    "deletable": true,
    "editable": true,
    "slideshow": {
     "slide_type": "skip"
    }
   },
   "outputs": [
    {
     "name": "stdout",
     "output_type": "stream",
     "text": [
      "-1.95996398454 , 1.95996398454\n"
     ]
    }
   ],
   "source": [
    "print(str(stats.norm.ppf(0.025)) + ' , ' + str(stats.norm.ppf(0.975)))"
   ]
  },
  {
   "cell_type": "markdown",
   "metadata": {
    "deletable": true,
    "editable": true,
    "slideshow": {
     "slide_type": "fragment"
    }
   },
   "source": [
    "Note that the estimate based on the central limit theorem is much more informative than the Chebychev inequality.\n",
    "\n",
    "(This example assumes that 16 measurements is sufficient for the Central Limit Theorem to hold, which is rather borderline.)"
   ]
  }
 ],
 "metadata": {
  "celltoolbar": "Slideshow",
  "kernelspec": {
   "display_name": "Python 3",
   "language": "python",
   "name": "python3"
  },
  "language_info": {
   "codemirror_mode": {
    "name": "ipython",
    "version": 3
   },
   "file_extension": ".py",
   "mimetype": "text/x-python",
   "name": "python",
   "nbconvert_exporter": "python",
   "pygments_lexer": "ipython3",
   "version": "3.6.0"
  }
 },
 "nbformat": 4,
 "nbformat_minor": 0
}
