{
 "cells": [
  {
   "cell_type": "markdown",
   "metadata": {
    "slideshow": {
     "slide_type": "slide"
    }
   },
   "source": [
    "# 07 - Phonons and Quasiparticles"
   ]
  },
  {
   "cell_type": "markdown",
   "metadata": {
    "slideshow": {
     "slide_type": "slide"
    }
   },
   "source": [
    "## Polarons\n",
    "\n",
    "Are the interaction of an electron (or hole) with vibrations of the crystal (phonon).\n",
    "\n",
    "This is sometimes talked about as an electron digging itself a potential well.\n",
    "\n",
    "A material where identification of these trapped electrons is of interest is TiO$_\\text{2}$, because of its use in solar cells and photocatalysts.\n",
    "\n",
    "<table>\n",
    "    <tr>\n",
    "        <td>\n",
    "My calculations\n",
    "<img src='https://journals.aps.org/prl/article/10.1103/PhysRevLett.117.116402/figures/3/medium'>\n",
    "        </td>\n",
    "        <td>\n",
    "STM images\n",
    "<img src='https://journals.aps.org/prl/article/10.1103/PhysRevLett.117.116402/figures/1/medium'>\n",
    "        </td>\n",
    "    </tr>\n",
    "</table>\n",
    "\n",
    "\n",
    "\n",
    "\n"
   ]
  },
  {
   "cell_type": "markdown",
   "metadata": {
    "slideshow": {
     "slide_type": "slide"
    }
   },
   "source": [
    "### Aside - Surfaces Scanning Tunnelling microscope\n",
    "\n",
    "This instrument was invented in the mid 80s and revolutionised surface science. It uses the tunnelling current between a biased metal tip and a substrate to create a mock image of the surface, with subatomic detail.\n",
    "\n",
    "Because the tunnelling current drops off exponentially with the separation of the tip and surface (basically a hopping integral), this is an extremely sensitive tool \n",
    "\n",
    "<table>\n",
    "    <tr>\n",
    "        <td>\n",
    "            <img src='http://www.tut.fi/cs/groups/public/@l102/@web/@p/documents/kuva/mdbw/mdex/~edisp/p011505.jpg'>\n",
    "        </td>\n",
    "        <td>\n",
    "            <img src='http://www.ieap.uni-kiel.de/surface/ag-kipp/stm/images/stm.jpg'>\n",
    "    </td>\n",
    "    <td>\n",
    "<img src='https://encrypted-tbn0.gstatic.com/images?q=tbn:ANd9GcRgp9PxK89KMve2FOfCe_PQHJuqcSAKhol2RRAfnB9pXEjLlBH0'>\n",
    "    </td>\n",
    "</tr>\n",
    "</table>\n",
    "\n",
    "\n",
    "\n",
    "\n"
   ]
  },
  {
   "cell_type": "markdown",
   "metadata": {
    "slideshow": {
     "slide_type": "slide"
    }
   },
   "source": [
    "## Optical properties\n",
    "\n",
    "Photons carry a very small amount of momentum compared to that carried by electrons in crystals (why?).\n",
    "\n",
    "This means that the optical spectrum consists of transitions between bands with $\\Delta k = 0$.\n",
    "\n",
    "<table>\n",
    "    <tr>\n",
    "        <td>\n",
    "            <img src='https://image.slidesharecdn.com/freeelectroninmetal-150916165755-lva1-app6891/95/free-electron-inmetal-62-638.jpg?cb=1442422825'>\n",
    "        </td>\n",
    "        <td>\n",
    "            <img src='http://www.yambo-code.org/tutorials/Electron_Phonon/BSE_rim_no_rim.png'>\n",
    "        </td>\n",
    "    </tr>\n",
    "</table>\n",
    "   "
   ]
  },
  {
   "cell_type": "markdown",
   "metadata": {
    "slideshow": {
     "slide_type": "subslide"
    }
   },
   "source": [
    "It is possible to have weaker transitions where $\\Delta k \\neq 0$ and other process occur - such as the creation or annhilation of phonons (vibrations) at the same time. Leads to a temperature dependence of the absorption.\n",
    "\n",
    "<img src='http://www.ioffe.ru/SVA/NSM/Semicond/Si/Figs/143.gif'>"
   ]
  },
  {
   "cell_type": "markdown",
   "metadata": {
    "collapsed": true,
    "slideshow": {
     "slide_type": "slide"
    }
   },
   "source": [
    "## Excitons\n",
    "\n",
    "When an electron is excited, it leaves behind a 'hole', with the 'shape' of the wavefunction of the electron that was excited.\n",
    "\n",
    "Normally, in many materials both the electron and hole are quite delocalised, so there is only a very minor coulomb interaction between them. The energy of interaction is meV, and they are spread out over 10s of nm. Largely, for many purposes they can be ignored.\n",
    "\n",
    "In some materials, like TiO$_\\text{2}$ for instance, it is possible that the electron and hole can be very localised, and there is a strong interaction, leading to the formation of a bound Exciton.\n",
    "\n",
    "The are also partially responsible for the colour of many materials."
   ]
  },
  {
   "cell_type": "markdown",
   "metadata": {
    "slideshow": {
     "slide_type": "slide"
    }
   },
   "source": [
    "## Solar Cells / photocatalysis\n",
    "\n",
    "rely on separating the electrons and holes using solar light.\n",
    "\n",
    "The enemy is recombination, where the electron falls back into a hole.\n",
    "\n",
    "\n",
    "<table>\n",
    "    <tr>\n",
    "        <td>\n",
    "            <img src='https://www.gamry.com/assets/Uploads/_resampled/ResizedImageWzYwMCw0NThd-dye-solar-cell.png'>\n",
    "        </td>\n",
    "        <td>\n",
    "            <img src='http://www.toukimas.jp/english/business/solar/img/img_shikumi.jpg'>\n",
    "        </td>\n",
    "    </tr>\n",
    "</table>\n",
    "   \n",
    "\n",
    "\n",
    "\n",
    "\n"
   ]
  },
  {
   "cell_type": "markdown",
   "metadata": {
    "slideshow": {
     "slide_type": "slide"
    }
   },
   "source": [
    "## Breakdown of band picture\n",
    "\n",
    "Up to now we have assumed that we can calculate the energy levels, then populate them with electrons.\n",
    "\n",
    "This is not really true - the electrons do interact - primarily by the coulomb interaction.\n",
    "\n",
    "This means that the energy levels change as electrons are placed into them."
   ]
  },
  {
   "cell_type": "markdown",
   "metadata": {
    "slideshow": {
     "slide_type": "slide"
    }
   },
   "source": [
    "## Magnetism\n",
    "\n",
    "If we look at the DOS for Iron and Nickel\n",
    "\n",
    "<img src='https://upload.wikimedia.org/wikipedia/commons/thumb/9/93/D-band_filling.png/500px-D-band_filling.png' style='width:400px'>\n",
    "\n",
    "we see that there is an extremely high density of electrons - and they occupy 'd' states.\n",
    "\n"
   ]
  },
  {
   "cell_type": "markdown",
   "metadata": {
    "slideshow": {
     "slide_type": "subslide"
    }
   },
   "source": [
    "<img src='http://www.chemtube3d.com/images/aleximages/td.png' style='width:400px'>\n",
    "\n",
    "These are rather tightly bound to the nuclei, for slightly complicated reasons, and so they have rather lowing hopping integrals. This means that instead of being spread over the whole crystal, it is not a bad idea to start thinking of them as being localised onto individual atoms. Then putting two electrons onto the same site is quite energetically unfavourable.\n",
    "\n",
    "This is just a first approximation, there is still an overlap between the electrons on neighbouring atoms.\n"
   ]
  },
  {
   "cell_type": "markdown",
   "metadata": {
    "slideshow": {
     "slide_type": "subslide"
    }
   },
   "source": [
    "If two electrons have the same spin direction, then they cannot occupy a shared orbital, which in turn means they will tend to be further apart, and have a lower coulomb interaction. This is called the exchange interaction.\n",
    "\n",
    "It is sometimes expressed using the Heisenberg Hamiltonian.\n",
    "\n",
    "$$\n",
    "\\mathbb{H} = - \\frac{1}{2} \\sum_{(i,j)} J_{ij} \\mathbf{S}_i \\cdot \\mathbf{S}_j\n",
    "$$\n",
    "\n",
    "Unpaired electrons have a magnetic moment. As the electrons tend to have the same spin direction the moments align, and the local part of the crystal has a net magnetic moment. In this case $J_{ij}$ is positive. In some materials, NiO for instance, you can get effective antiferromagnetic coupling. \n",
    "\n",
    "More complex are ferrimagnets, where there are several different metals with different magnetic moments in the magnetic unit cell. If they cannot couple completely to remove the magnetic moment this is referred to as ferrimagnetism."
   ]
  },
  {
   "cell_type": "markdown",
   "metadata": {
    "slideshow": {
     "slide_type": "slide"
    }
   },
   "source": [
    "## Grains - grain boundaries\n",
    "\n",
    "Even ferromagnets are not generally magnetic on a macroscopic scale.\n",
    "\n",
    "Crystals are generally not just a single crystal, but a set of smaller ones squished together in some way.\n",
    "\n",
    "The magnetic moments of the different grains is random, and sums to zero.\n",
    "\n",
    "A Magnetic field (like another magnet) can align the electron spins, and induce magnetism in a ferromagnet.\n",
    "\n",
    "![](https://upload.wikimedia.org/wikipedia/commons/0/05/Weiss-Bezirke1.png)"
   ]
  },
  {
   "cell_type": "markdown",
   "metadata": {
    "slideshow": {
     "slide_type": "slide"
    }
   },
   "source": [
    "## Amorphous Materials\n",
    "\n",
    "not all materials are crystalline with order. One large category is glasses, which are intrinsically disordered.\n",
    "\n",
    "Take SiO$_\\text{2}$ quartz,\n",
    "\n",
    "<table>\n",
    "    <tr>\n",
    "        <td>\n",
    "<img src='http://journals.aps.org/prb/article/10.1103/PhysRevB.89.125201/figures/5/medium'>\n",
    "        </td>\n",
    "        <td>\n",
    "<img src='http://journals.aps.org/prb/article/10.1103/PhysRevB.89.125201/figures/6/medium'>\n",
    "        </td>\n",
    "    </tr>\n",
    "</table>\n",
    "\n",
    "\n",
    "\n",
    "\n",
    "This will result in properties intermediate between crystals and molecules.\n",
    "\n",
    "It is also possible to perform diffraction measurements on amorphous materials (or liquids). What is measured is then a distribtution function of the likely distances between atoms."
   ]
  }
 ],
 "metadata": {
  "celltoolbar": "Slideshow",
  "kernelspec": {
   "display_name": "Python 3",
   "language": "python",
   "name": "python3"
  },
  "language_info": {
   "codemirror_mode": {
    "name": "ipython",
    "version": 3
   },
   "file_extension": ".py",
   "mimetype": "text/x-python",
   "name": "python",
   "nbconvert_exporter": "python",
   "pygments_lexer": "ipython3",
   "version": "3.6.1"
  }
 },
 "nbformat": 4,
 "nbformat_minor": 2
}
