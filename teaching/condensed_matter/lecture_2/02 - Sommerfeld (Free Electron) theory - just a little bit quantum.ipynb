{
 "cells": [
  {
   "cell_type": "code",
   "execution_count": 3,
   "metadata": {
    "collapsed": true,
    "slideshow": {
     "slide_type": "skip"
    }
   },
   "outputs": [],
   "source": [
    "import matplotlib.pyplot as plt\n",
    "import numpy as np\n",
    "% matplotlib inline"
   ]
  },
  {
   "cell_type": "markdown",
   "metadata": {
    "slideshow": {
     "slide_type": "slide"
    }
   },
   "source": [
    "# Sommerfeld (Free Electron) theory - just a little bit quantum\n",
    "\n",
    "In 1925 Pauli discovered the exclusion principle - no two electrons can be in the same state.\n",
    "\n",
    "This changes the 'statistics' and Fermi and Dirac together (at least in name, see [Stigler's Law of Eponymy](https://en.wikipedia.org/wiki/Stigler's_law_of_eponymy)) derived Fermi-Dirac statistics.\n",
    "\n",
    "Sommerfeld combined Fermi-Dirac statistics with Drude's theory of metals.\n",
    "\n",
    "Which we'll try and do ..."
   ]
  },
  {
   "cell_type": "markdown",
   "metadata": {
    "slideshow": {
     "slide_type": "slide"
    }
   },
   "source": [
    "## Fermi-Dirac Statistics\n",
    "\n",
    "Given a system of free electrons with chemical potential $\\mu$ the probability of an energy level $E$ being occupied is\n",
    "\n",
    "$$\n",
    "n_F(\\beta(E-\\mu)) = \\frac{1}{e^{\\beta(E-\\mu)} +1}\n",
    "$$\n",
    "\n",
    "where $\\beta = \\frac{1}{k_B T}$ controls how it changes with temperature."
   ]
  },
  {
   "cell_type": "markdown",
   "metadata": {
    "slideshow": {
     "slide_type": "fragment"
    }
   },
   "source": [
    "Fermi-Dirac distribution\n",
    "![](fermi_dirac_300K.png)"
   ]
  },
  {
   "cell_type": "markdown",
   "metadata": {
    "slideshow": {
     "slide_type": "fragment"
    }
   },
   "source": [
    "Bose-Einstein distribution\n",
    "![](bose_einstein_300K.png)"
   ]
  },
  {
   "cell_type": "markdown",
   "metadata": {
    "slideshow": {
     "slide_type": "slide"
    }
   },
   "source": [
    "<div style=\"background-color:LightBlue; margin-left: 20px; margin-right: 20px; padding-bottom: 8px; padding-left: \n",
    "8px; padding-right: 8px; padding-top: 8px;\">\n",
    "<li>What is $k_B T$ at room temperaure (300 K)?</li>\n",
    "<li>Plot the function for room temperature</li>\n",
    "<li>Plot the function at 0K, what is this function known as?</li>\n",
    "<li>What other statistical distributions have you come across?</li>\n",
    "</div>"
   ]
  },
  {
   "cell_type": "code",
   "execution_count": 19,
   "metadata": {
    "slideshow": {
     "slide_type": "skip"
    }
   },
   "outputs": [
    {
     "data": {
      "image/png": "[encoded data removed]",
      "text/plain": [
       "<matplotlib.figure.Figure at 0x7ff091244a90>"
      ]
     },
     "metadata": {},
     "output_type": "display_data"
    }
   ],
   "source": [
    "# fermi-dirac\n",
    "E=np.linspace(0,2,100)\n",
    "kT = 0.025\n",
    "Ef = 1\n",
    "n_F = 1/(np.exp((E-Ef)/kT)+1)\n",
    "plt.plot(E,n_F);\n",
    "plt.ylim(-0.1,1.1)\n",
    "plt.xlabel(\"E / eV\")\n",
    "plt.ylabel(\"n\")\n",
    "plt.savefig(\"fermi_dirac_300K.png\")"
   ]
  },
  {
   "cell_type": "code",
   "execution_count": 15,
   "metadata": {
    "slideshow": {
     "slide_type": "skip"
    }
   },
   "outputs": [
    {
     "data": {
      "image/png": "[encoded data removed]",
      "text/plain": [
       "<matplotlib.figure.Figure at 0x7ff0912d7fd0>"
      ]
     },
     "metadata": {},
     "output_type": "display_data"
    }
   ],
   "source": [
    "#bose-einstein\n",
    "E=np.linspace(0.01,0.1,100)\n",
    "kT = 0.025\n",
    "n_B = 1/(np.exp(E/kT)-1)\n",
    "plt.plot(E,n_B);\n",
    "plt.xlabel(\"E / eV\")\n",
    "plt.ylabel(\"n\")\n",
    "plt.savefig(\"bose_einstein_300K.png\")"
   ]
  },
  {
   "cell_type": "markdown",
   "metadata": {
    "collapsed": true,
    "slideshow": {
     "slide_type": "slide"
    }
   },
   "source": [
    "## Electron gas in a box\n",
    "\n",
    "Lets put our (free) electrons in a box of size $V = L^3$ - the quantum requires them to satisfy the Schroedinger equation\n",
    "\n",
    "$$\n",
    "-\\frac{\\hbar^2}{2m}\\nabla^2 \\psi = \\epsilon \\psi\n",
    "$$\n",
    "\n",
    "We'll use [periodic boundary conditions](https://atari.com/arcade#!/arcade/asteroids/play) (will probably only work on Windows boxes). Mathematically this requires that\n",
    "\n",
    "$$\n",
    "\\psi(x+L,y+L,z+L) = \\psi(x,y,z)\n",
    "$$\n",
    "\n",
    "this is basically the same as the particle in a box you did last year in quantum\n",
    "\n",
    "<div style=\"background-color:LightBlue; margin-left: 20px; margin-right: 20px; padding-bottom: 8px; padding-left: \n",
    "8px; padding-right: 8px; padding-top: 8px;\">\n",
    "<li>Do you recognise that the Shroedinger equation is both a differential equation and an eigenvalue problem?</li>\n",
    "<li>What form will the solutions to the equation take?</li>\n",
    "</div>"
   ]
  },
  {
   "cell_type": "markdown",
   "metadata": {
    "slideshow": {
     "slide_type": "slide"
    }
   },
   "source": [
    "## Plane-waves\n",
    "\n",
    "$$\n",
    "\\psi(x,y,z) = \\frac{1}{\\sqrt{V}}e^{i\\mathbf{k}.\\mathbf{r}}= \\frac{1}{\\sqrt{V}}e^{i(k_x x + k_y y + k_z z)} = \\frac{1}{\\sqrt{V}}e^{ik_x x} e^{ik_y y} e^{ik_z z}\n",
    "$$\n",
    "\n",
    "the $\\frac{1}{\\sqrt{V}}$ ensures that the wavefunctions are normalised and (quantum)\n",
    "\n",
    "$$\n",
    "k_x = \\frac{2 \\pi p}{L}, k_y = \\frac{2 \\pi q}{L}, k_z = \\frac{2 \\pi r}{L}, p,q,r \\in \\mathbb{Z}\n",
    "$$\n",
    "\n",
    "($p,q$ and $r$ taking integer values).\n",
    "\n",
    "<div style=\"background-color:LightBlue; margin-left: 20px; margin-right: 20px; padding-bottom: 8px; padding-left: \n",
    "8px; padding-right: 8px; padding-top: 8px;\">\n",
    "<li>Show that the solutions are normalised</li>\n",
    "<li>Show that the solutions satisfy the Schroedinger equation</li>\n",
    "</div>"
   ]
  },
  {
   "cell_type": "markdown",
   "metadata": {
    "slideshow": {
     "slide_type": "slide"
    }
   },
   "source": [
    "The energy of the electrons is\n",
    "\n",
    "$$\n",
    "\\epsilon = \\frac{\\hbar^2 |\\mathbf{k}|^2}{2m}\n",
    "$$\n",
    "\n",
    "<div style=\"background-color:LightBlue; margin-left: 20px; margin-right: 20px; padding-bottom: 8px; padding-left: \n",
    "8px; padding-right: 8px; padding-top: 8px;\">\n",
    "<li>Show that this is the energy</li>\n",
    "</div>\n",
    "\n",
    "To find the total number of electrons we add up the number of electrons in each state.\n",
    "\n",
    "$$\n",
    "N = 2 \\sum_{\\mathbf{k}}n_F(\\beta(\\epsilon(\\mathbf{k}-\\mu))) = 2 \\frac{V}{2 \\pi}^3 \\int \\mathbf{dk} n_F (\\beta(\\epsilon(\\mathbf{k}-\\mu)))\n",
    "$$\n",
    "\n",
    "the two comes from the number of spin states. \n",
    "\n",
    "**If we know the number of electrons in the system, then this defines our chemical potential.**\n",
    "\n",
    "We'll look at how we go from the sum to the integral in the problem class - it comes up frequently."
   ]
  },
  {
   "cell_type": "markdown",
   "metadata": {
    "slideshow": {
     "slide_type": "slide"
    }
   },
   "source": [
    "**The fermi energy is the chemical potential at T = 0**\n",
    "\n",
    "What does this mean? At T=0 the Fermi function becomes a step function:\n",
    "\n",
    "![](fermi_dirac_lowK.png)"
   ]
  },
  {
   "cell_type": "code",
   "execution_count": 16,
   "metadata": {
    "slideshow": {
     "slide_type": "skip"
    }
   },
   "outputs": [
    {
     "data": {
      "image/png": "[encoded data removed]",
      "text/plain": [
       "<matplotlib.figure.Figure at 0x7ff091814c50>"
      ]
     },
     "metadata": {},
     "output_type": "display_data"
    }
   ],
   "source": [
    "# fermi-dirac\n",
    "E=np.linspace(0,2,1000)\n",
    "kT = 0.005\n",
    "Ef = 1\n",
    "n_F = 1/(np.exp((E-Ef)/kT)+1)\n",
    "plt.plot(E,n_F);\n",
    "plt.ylim(-0.1,1.1)\n",
    "plt.xlabel(\"E / eV\")\n",
    "plt.ylabel(\"n\")\n",
    "plt.savefig(\"fermi_dirac_lowK.png\")"
   ]
  },
  {
   "cell_type": "markdown",
   "metadata": {
    "slideshow": {
     "slide_type": "slide"
    }
   },
   "source": [
    "so our expression for the number of electrons in our periodically repeating box is given by\n",
    "\n",
    "\\begin{align}\n",
    "N  & = &  2 \\sum_{\\mathbf{k}}n_F(\\beta(\\epsilon(\\mathbf{k}-\\mu)))\\\\\n",
    "   & = & 2 \\frac{V}{2 \\pi}^3 \\int \\mathbf{dk} n_F (\\beta(\\epsilon(\\mathbf{k}-\\mu))) \\\\\n",
    "   & = & 2 \\frac{V}{2 \\pi}^3 \\int \\mathbf{dk} \\Theta(E_f -\\epsilon(\\mathbf{k} )) \\\\\n",
    "   & = & 2 \\frac{V}{2 \\pi}^3 \\int_{0}^{|k| < k_F}  \\mathbf{dk}\n",
    "\\end{align}\n",
    "\n",
    "where the fermi wavevector k_F is the wavevector at the Fermi energy\n",
    "\n",
    "$$\n",
    "E_F = \\frac{\\hbar^2 k_F^2}{2m}\n",
    "$$\n",
    "\n",
    "the final integral is over a ball of radius $k_F$, so we get\n",
    "\n",
    "$$\n",
    "N = 2 \\frac{V}{2 \\pi}^3 (\\frac{4}{3}\\pi k_F^3)\n",
    "$$\n",
    "\n",
    "this wavevector, $k_F$, defines a surface, called the Fermi surface that divides filled states from empty states.\n",
    "\n",
    "The electron density is the number of electrons divided by the volume, $n = N/V$ which lead to\n",
    "\n",
    "$$\n",
    "k_F = \\frac{(3 \\pi^2n)^{2/3}}{2m}\n",
    "$$\n",
    "\n",
    "and \n",
    "\n",
    "$$\n",
    "E_F = \\frac{\\hbar^2(3\\pi^2n)^{2/3}}{2m}\n",
    "$$\n",
    "\n",
    "if we can estimate the electron density, we can estimate the Fermi energy and wavelength.\n",
    "\n",
    "<div style=\"background-color:LightBlue; margin-left: 20px; margin-right: 20px; padding-bottom: 8px; padding-left: \n",
    "8px; padding-right: 8px; padding-top: 8px;\">\n",
    "<li>Estimate the Fermi energy for copper</li>\n",
    "<li>What is $k_B T$ at room temperature</li>\n",
    "<li>What does this imply for the accessibility of electrons for mobility?</li>\n",
    "</div>\n"
   ]
  },
  {
   "cell_type": "markdown",
   "metadata": {
    "slideshow": {
     "slide_type": "slide"
    }
   },
   "source": [
    "# Electronic Heat Capacity\n",
    "\n",
    "We can calculate the total energy (expectation value of $E$, given occupation probabilities and energy levels)\n",
    "\n",
    "\\begin{align}\n",
    "E_{total} = & \\frac{2V}{(2 \\pi ^3)} \\int \\mathbf{dk} \\epsilon(\\mathbf{k}) n_F(\\beta (\\epsilon(\\mathbf{k})-\\mu))\\\\\n",
    "          = & \\frac{2V}{(2 \\pi ^3)} \\int_{0}^{\\infty} 4 \\pi k^2 dk \\epsilon(\\mathbf{k}) n_F(\\beta (\\epsilon(\\mathbf{k})-\\mu))\n",
    "\\end{align}\n",
    "\n",
    "and \n",
    "\n",
    "\\begin{align}\n",
    "N = & \\frac{2V}{(2 \\pi ^3)} \\int \\mathbf{dk} n_F(\\beta (\\epsilon(\\mathbf{k})-\\mu))\\\\\n",
    "          = & \\frac{2V}{(2 \\pi ^3)} \\int_{0}^{\\infty} 4 \\pi k^2 dk n_F(\\beta (\\epsilon(\\mathbf{k})-\\mu))\n",
    "\\end{align}\n",
    "\n",
    "now we change variables to those of the energy levels $\\epsilon$\n",
    "\n",
    "$$\n",
    "k = \\sqrt{\\frac{2 \\epsilon m}{\\hbar^2}}\n",
    "$$\n",
    "\n",
    "which implies\n",
    "\n",
    "$$\n",
    "dk = \\sqrt{\\frac{m}{2 \\epsilon \\hbar^2}} d\\epsilon\n",
    "$$\n",
    "\n",
    "and we can rewrite our integrals for $E_{\\rm{total}}$ and $N$ in terms of $d \\epsilon$ as\n",
    "\n",
    "\\begin{align}\n",
    "E_{total} = & V \\int_{0}^{\\infty} d\\epsilon \\epsilon g(\\epsilon) n_F{\\beta(\\epsilon - \\mu)} \\\\\n",
    "N = & V \\int_{0}^{\\infty} d\\epsilon g(\\epsilon) n_F{\\beta(\\epsilon - \\mu)} \\\\\n",
    "\\end{align}\n",
    "\n",
    "where we have defined\n",
    "\n",
    "$$\n",
    "g(\\epsilon)d \\epsilon = \\frac{2}{(2\\pi)^3} 4\\pi k^2 dk = \\frac{(2m)^{3/2}}{2 \\pi^2 \\hbar^3} \\epsilon^{1/3} d \\epsilon\n",
    "$$"
   ]
  },
  {
   "cell_type": "markdown",
   "metadata": {
    "slideshow": {
     "slide_type": "slide"
    }
   },
   "source": [
    "# What is $g(\\epsilon)$?\n",
    "\n",
    "It is called the density of states - it gives the number of energy levels that are present in an energy interval between $\\epsilon$ and $\\epsilon + d \\epsilon$\n",
    "\n",
    "We'll come across analogues of this multiple times - we'll talk about it more in the practical session on Thursday."
   ]
  },
  {
   "cell_type": "markdown",
   "metadata": {
    "slideshow": {
     "slide_type": "slide"
    }
   },
   "source": [
    "# Heat capacity\n",
    "\n",
    "all we need to do is take the derivative of $E_{total}$ with respect to temperature ... but this is non trivial.\n",
    "\n",
    "A back of the envelope calculation goes as follows\n",
    "\n",
    "- Assume that $\\mu$ is $E_F$\n",
    "- Only molecules within $\\approx k_B T$ can be excited, and they are excited by $\\approx k_B T$, then\n",
    "\n",
    "$$\n",
    "E(T) \\approx E(T=0) + (\\text{some constant/2})[V g(E_F)(k_B T)](k_B T) + ...\n",
    "$$\n",
    "\n",
    "then $C_V = \\frac{\\partial E}{\\partial T} \\approx  \\text{some constant})[V g(E_F)(k_B T)](k_B)$\n",
    "\n",
    "and rearranging our expression for the density of states we get\n",
    "\n",
    "$$\n",
    "C_V = (\\text{some constant})(\\frac{3N k_B}{2})\\frac{T}{T_F}\n",
    "$$\n",
    "\n",
    "so the electronic $C_V$ is temperature dependent (linear), and greatly reduced from the classical $C_V = \\frac{3N k_B}{2}$ if $T_F$ is larger than $T$."
   ]
  },
  {
   "cell_type": "markdown",
   "metadata": {
    "slideshow": {
     "slide_type": "slide"
    }
   },
   "source": [
    "## Drude vs Somerfeld\n",
    "\n",
    "Reduced availability of electrons explains several deficiencies in Drude's model, but still some unexplained things:\n",
    "\n",
    "- variable sign of the Hall coefficient\n",
    "- dielectric function much too simple\n"
   ]
  }
 ],
 "metadata": {
  "anaconda-cloud": {},
  "celltoolbar": "Slideshow",
  "kernelspec": {
   "display_name": "Python 3",
   "language": "python",
   "name": "python3"
  },
  "language_info": {
   "codemirror_mode": {
    "name": "ipython",
    "version": 3
   },
   "file_extension": ".py",
   "mimetype": "text/x-python",
   "name": "python",
   "nbconvert_exporter": "python",
   "pygments_lexer": "ipython3",
   "version": "3.5.4"
  }
 },
 "nbformat": 4,
 "nbformat_minor": 1
}
