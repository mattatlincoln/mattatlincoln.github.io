{
 "cells": [
  {
   "cell_type": "markdown",
   "metadata": {
    "slideshow": {
     "slide_type": "slide"
    }
   },
   "source": [
    "# Drude theory of electrons in metals\n",
    "\n",
    "- Chapter 3 - Solid State Basics, Simon\n",
    "- Some of chapter 3.3 of Hook and Hall\n",
    "\n",
    "# Learning outcomes\n",
    "\n",
    "you should have\n",
    "\n",
    "- good knowledge of the classical model of transport by 'electrons'.\n",
    "- feeling for the magnitude of timescales and energy ranges \n",
    "- knowledge of phenomena that demonstrate the failure of the model"
   ]
  },
  {
   "cell_type": "markdown",
   "metadata": {
    "slideshow": {
     "slide_type": "slide"
    }
   },
   "source": [
    "## Classical Electron gas\n",
    "\n",
    "J.J. Thomson discovers electrons in 1896\n",
    "\n",
    "1900 Paul Drude (Drood-a, apparently) applied kinetic theory to electrons\n",
    "\n",
    "- electrons have scattering time $\\tau$\n",
    "- on scattering the eletron returns to momentum $\\mathbf{p}=0$\n",
    "- in between scattering, electrons, with charge *-e* respond to external $\\mathbf{E}$ and $\\mathbf{B}$ fields\n"
   ]
  },
  {
   "cell_type": "markdown",
   "metadata": {
    "slideshow": {
     "slide_type": "subslide"
    }
   },
   "source": [
    "\n",
    "Now consider what happens, on average, between times $t$ and $t + \\Delta t$. Two things can happen - either an electron scatters, or it doesn't: \n",
    "\n",
    "1. probability of scattering is $\\frac{\\Delta t}{\\tau}$\n",
    "2. probabliity of not scattering is $1 - \\frac{\\Delta t}{\\tau}$\n",
    "\n",
    "then\n",
    "\n",
    "$$\n",
    "\\mathbf{p}(t + \\Delta t) = \\big( 1 - \\frac{\\Delta t}{\\tau} \\big)(\\mathbf{p}(t)+ \\mathbf{F} \\Delta t) + \\frac{\\mathbf{0} \\Delta t}{\\tau}\n",
    "$$\n",
    "\n",
    "keeping linear terms and rearranging and taking the limit that $\\delta t \\to 0$, we get\n",
    "\n",
    "$$\n",
    "\\frac{d \\mathbf{p}}{dt} = \\mathbf{F} - \\frac{\\mathbf{p}}{\\tau}\n",
    "$$"
   ]
  },
  {
   "cell_type": "markdown",
   "metadata": {
    "slideshow": {
     "slide_type": "slide"
    }
   },
   "source": [
    "<div style=\"background-color:LightBlue; margin-left: 20px; margin-right: 20px; padding-bottom: 8px; padding-left: \n",
    "8px; padding-right: 8px; padding-top: 8px;\">\n",
    "<li>Fill in the details of the derivation above</li>\n",
    "<li>If there is no external field (i.e. $\\mathbf{F} = 0$), how will the motion of electrons change with time?</li>\n",
    "</div>\n"
   ]
  },
  {
   "cell_type": "markdown",
   "metadata": {
    "slideshow": {
     "slide_type": "slide"
    }
   },
   "source": [
    "## Electrons in Fields"
   ]
  },
  {
   "cell_type": "markdown",
   "metadata": {
    "slideshow": {
     "slide_type": "slide"
    }
   },
   "source": [
    "### DC Electric fields\n",
    "\n",
    "so in our Drude approximation\n",
    "\n",
    "\\begin{align*}\n",
    "\\frac{d \\mathbf{p}}{dt} = \\mathbf{F} - \\frac{\\mathbf{p}}{\\tau} \n",
    "                        = -e\\mathbf{E} - \\frac{\\mathbf{p}}{\\tau}\n",
    "\\end{align*}\n",
    "\n",
    "At steady state we have that the momentum isn't changing\n",
    "\n",
    "$$\n",
    "\\mathbf{p} = m\\mathbf{v} = -e \\tau \\mathbf{E} \n",
    "$$\n",
    "\n"
   ]
  },
  {
   "cell_type": "markdown",
   "metadata": {
    "slideshow": {
     "slide_type": "subslide"
    }
   },
   "source": [
    "if the density of electrons in a metal is $n$ then the electric current is given by\n",
    "\n",
    "$$\n",
    "\\mathbf{j} = -en\\mathbf{v} = \\frac{-e^2 \\tau n}{m} \\mathbf{E} \n",
    "$$\n",
    "\n",
    "and the coefficient in front of the field strength is the conductivity\n",
    "\n",
    "$$\n",
    "\\sigma = \\frac{-e^2 \\tau n}{m}\n",
    "$$\n",
    "\n",
    "So if we measure the conductivity we can determine the product of the electron density and scattering time.\n",
    "\n",
    "The resistivity, $\\rho$ is the inverse of conductivity - or it is the coefficient relating $\\mathbf{j}$ to $\\mathbf{E}$ - i.e. $\\mathbf{E} =  \\rho \\mathbf{j}$."
   ]
  },
  {
   "cell_type": "markdown",
   "metadata": {
    "slideshow": {
     "slide_type": "slide"
    }
   },
   "source": [
    "### Electric and Magnetic fields\n",
    "\n",
    "Now we need the full Lorentz force\n",
    "\n",
    "$$\n",
    "\\mathbf{F} = -e(\\mathbf{E}+ \\mathbf{v} \\times \\mathbf{B})\n",
    "$$\n",
    "\n",
    "so \n",
    "\n",
    "\\begin{align*}\n",
    "\\frac{d \\mathbf{p}}{dt} = \\mathbf{F} - \\frac{\\mathbf{p}}{\\tau} \n",
    "                        = -e (\\mathbf{E}+ \\mathbf{v} \\times \\mathbf{B}) - \\frac{\\mathbf{p}}{\\tau}\n",
    "\\end{align*}\n",
    "\n",
    "For a steady state current, and using $\\mathbf{p} = m \\mathbf{v}$ and $\\mathbf{j} = - ne\\mathbf{v}$ we get\n",
    "\n",
    "$$\n",
    "0 = -e\\mathbf{E} + \\frac{\\mathbf{j} \\times \\mathbf{B}}{n} + \\frac{m}{ne \\tau}\\mathbf{j}\n",
    "$$\n"
   ]
  },
  {
   "cell_type": "markdown",
   "metadata": {
    "slideshow": {
     "slide_type": "subslide"
    }
   },
   "source": [
    "$$\n",
    "0 = -e\\mathbf{E} + \\frac{\\mathbf{j} \\times \\mathbf{B}}{n} + \\frac{m}{ne \\tau}\\mathbf{j}\n",
    "$$\n",
    "\n",
    "and rearranging to find $\\mathbf{E}$\n",
    "\n",
    "$$\n",
    "\\mathbf{E} = \\frac{1}{ne} \\mathbf{j} \\times \\mathbf{B} + \\frac{m}{ne^2 \\tau}\\mathbf{j}\n",
    "$$\n",
    "\n",
    "Now if we look at the connection between E and J we need to define a 3x3 matrix $\\rho$.\n",
    "\n",
    "\\begin{align*}\n",
    "\\mathbf{E} = \n",
    "\\begin{pmatrix}\n",
    "\\rho_{xx} & \\rho_{xy} & \\rho_{xz} \\\\\n",
    "\\rho_{yx} & \\rho_{yy} & \\rho_{yz} \\\\\n",
    "\\rho_{zx} & \\rho_{zy} & \\rho_{zz} \n",
    "\\end{pmatrix}\n",
    "\\mathbf{j}\n",
    "\\end{align*}\n"
   ]
  },
  {
   "cell_type": "markdown",
   "metadata": {
    "slideshow": {
     "slide_type": "slide"
    }
   },
   "source": [
    "<div style=\"background-color:LightBlue; margin-left: 20px; margin-right: 20px; padding-bottom: 8px; padding-left: \n",
    "8px; padding-right: 8px; padding-top: 8px;\">\n",
    "<li>By writing out the cross product terms, what is the full form of the matrix $\\rho$ in the Drude model when a magnetic field $(0, 0, B_z)$ is applied?</li>\n",
    "</div>\n"
   ]
  },
  {
   "cell_type": "markdown",
   "metadata": {
    "slideshow": {
     "slide_type": "slide"
    }
   },
   "source": [
    "## Hall effect and magnetoresistance\n",
    "\n",
    "Filling in the values using our Drude theory and only applying a magnetic field in the $z$ direction, so $\\mathbf{B} = (0,0,B)$, we have:\n",
    "\n",
    "\\begin{align*}\n",
    "\\mathbf{E} = \n",
    "\\begin{pmatrix}\n",
    "\\frac{m}{ne^2\\tau} & \\frac{B}{ne} & 0 \\\\\n",
    "-\\frac{B}{ne} & \\frac{m}{ne^2\\tau} & 0 \\\\\n",
    "0 & 0 & \\frac{m}{ne^2\\tau}\n",
    "\\end{pmatrix}\n",
    "\\mathbf{j}\n",
    "\\end{align*}\n",
    "\n",
    "The Hall coefficient $R_h$ is defined as \n",
    "\n",
    "$$R_H = \\frac{\\rho_{yx}}{|B|} = \\frac{-1}{ne}$$\n",
    "\n",
    "$\\rho_{yx}$ is called the (transverse) magnetoresistance.\n",
    "\n",
    "Notice it only depends on the electron density! So by measurements of the voltage perpendicular to the current and the magnetic field, we can measure the density of electrons in the metal.\n",
    "\n",
    "If we believe the measurements and Drude theory, we can also extract the scattering time by measuring the conductivity too."
   ]
  },
  {
   "cell_type": "markdown",
   "metadata": {
    "slideshow": {
     "slide_type": "slide"
    }
   },
   "source": [
    "<div style=\"background-color:LightBlue; margin-left: 20px; margin-right: 20px; padding-bottom: 8px; padding-left: \n",
    "8px; padding-right: 8px; padding-top: 8px;\">\n",
    "<li>What would happen if the charge on the electrons was opposite (+$e$)</li>\n",
    "<li>The Drude scattering time typically comes out at ~$10^{-13,14}$s, how does this compare to processes you know about?</li>\n",
    "</div>\n"
   ]
  },
  {
   "cell_type": "markdown",
   "metadata": {
    "slideshow": {
     "slide_type": "slide"
    }
   },
   "source": [
    "## AC response to electric field\n",
    "\n",
    "Suppose we apply a time-dependent electric field\n",
    "\n",
    "$$\n",
    "\\mathbf{E}(t) = \\text{Re}(\\mathbf{E}(\\omega)e^{-i\\omega t})\n",
    "$$\n",
    "\n",
    "where Re means the real part of the thing in brackets (so here a cosine term). Our equation of motion for $\\mathbf{p}$ is\n",
    "\n",
    "\\begin{align*}\n",
    "\\frac{d \\mathbf{p}}{dt} =  -e\\mathbf{E} - \\frac{\\mathbf{p}}{\\tau}\n",
    "\\end{align*}\n",
    "\n",
    "We need a steady state solution where the electrons move at the same frequency as the driving field. So\n",
    "\n",
    "$$\n",
    "\\mathbf{p}(t) = \\text{Re}(\\mathbf{p}(\\omega)e^{-i\\omega t})\n",
    "$$\n",
    "\n",
    "plugging in and cancelling the exponential terms leads to \n",
    "\n",
    "$$\n",
    "i \\omega \\mathbf{p}(\\omega) =  -e\\mathbf{E} - \\frac{\\mathbf{p}(\\omega)}{\\tau}\n",
    "$$"
   ]
  },
  {
   "cell_type": "markdown",
   "metadata": {
    "slideshow": {
     "slide_type": "subslide"
    }
   },
   "source": [
    "As the current density, $\\mathbf{j} = -ne \\mathbf{p}/m$ we find\n",
    "\n",
    "$$\n",
    "\\mathbf{j}(\\omega) = -\\frac{ne\\mathbf{p}(\\omega)}{m} = \\frac{(ne^2/m) \\mathbf{E}(\\omega)}{(1/\\tau)-i\\omega}\n",
    "$$\n",
    "\n",
    "Again, taking the proportionality between $\\mathbf{j}$ and $\\mathbf{E}$ as\n",
    "\n",
    "$$\n",
    "\\mathbf{j}(\\omega) = \\sigma(\\omega) \\mathbf{E}(\\omega)\n",
    "$$\n",
    "\n",
    "where\n",
    "\n",
    "$$\n",
    "\\sigma(\\omega) = \\frac{\\sigma_0}{1-i\\omega \\tau}, \\sigma_0 = \\frac{ne^2 \\tau}{m}\n",
    "$$"
   ]
  },
  {
   "cell_type": "markdown",
   "metadata": {
    "slideshow": {
     "slide_type": "slide"
    }
   },
   "source": [
    "### opacity - electrodynamics\n",
    "\n",
    "can a metal transmit an electromagnetic wave?\n",
    "\n",
    "We can use Maxwell's equations and the expression for $\\mathbf{j}$ we just found to explore this in the classical (and long wavelength) limit.\n",
    "\n",
    "Remember from electrodynamics, if no (induced) charge is present\n",
    "\n",
    "<div style=\"background-color:LightGreen; margin-left: 20px; margin-right: 20px; padding-bottom: 8px; padding-left: \n",
    "8px; padding-right: 8px; padding-top: 8px;\">\n",
    "$$\\mathbf{\\nabla} . \\mathbf{E} = 0; \\mathbf{\\nabla} . \\mathbf{B} = 0$$  \n",
    "$$\\mathbf{\\nabla} \\times \\mathbf{E} = -\\frac{\\partial \\mathbf{B}}{\\partial t}$$  \n",
    "$$\\mathbf{\\nabla} \\times \\mathbf{B} = \\mu_0 \\big( \\mathbf{j} + \\epsilon_0 \\frac{\\partial \\mathbf{E}}{\\partial t} \\big)$$  \n",
    "</div>\n",
    "\n",
    "We look for a solution with a time dependence $e^{-i\\omega t}$.\n",
    "\n",
    "Take the curl of both sides of the curl of $\\mathbf{E}$\n",
    "\n",
    "$$\n",
    "\\mathbf{\\nabla} \\times \\mathbf{\\nabla} \\times \\mathbf{E} = - \\mathbf{\\nabla} \\times \\frac{\\partial \\mathbf{B}}{\\partial t}\n",
    "$$\n",
    "\n",
    "\n",
    "Now two pieces of info are needed\n",
    "\n",
    "$$\n",
    "\\mathbf{\\nabla} \\times \\mathbf{\\nabla} \\times \\mathbf{E} = \\mathbf{\\nabla}(\\mathbf{\\nabla}.  \\mathbf{E}) -  \\mathbf{\\nabla}^2 \\mathbf{E} = - \\mathbf{\\nabla}^2 \\mathbf{E}\n",
    "$$\n",
    "\n",
    "and\n",
    "\n",
    "$$\n",
    "- \\mathbf{\\nabla} \\times \\frac{\\partial \\mathbf{B}}{\\partial t} = -  \\frac{\\partial ( \\mathbf{\\nabla} \\times \\mathbf{B}) }{\\partial t}\n",
    "$$\n",
    "\n",
    "(write out the second derivatives and remember from calculus that the order of derivatives shouldn't matter for well behaved functions if you're not convinced).\n",
    "\n",
    "Now plugging in, and using another of the Maxwell equations we get\n",
    "\n",
    "$$\n",
    " - \\mathbf{\\nabla}^2 \\mathbf{E} =  -  \\frac{\\partial  }{\\partial t} \\Big[  \\mu_0 \\big( \\mathbf{j} + \\epsilon_0 \\frac{\\partial \\mathbf{E}}{\\partial t} \\big) \\Big]\n",
    "$$\n",
    "\n",
    "now we substitute in our expression for $\\mathbf{j}$ and perform the time derivatives (which just give us a factor of $i\\omega$) to get\n",
    "\n",
    "\\begin{align}\n",
    " - \\mathbf{\\nabla}^2 \\mathbf{E}(\\omega) e^{-i\\omega t} & = & -  \\mu_0 \\frac{\\partial  }{\\partial t} \\Big[ \\sigma (\\omega) \\mathbf{E}(\\omega) e^{-i\\omega t} + \\epsilon_0 \\frac{\\partial \\mathbf{E}(\\omega)e^{-i\\omega t}}{\\partial t} \\Big] \\\\\n",
    "& = & -  \\mu_0 \\frac{\\partial  }{\\partial t} \\Big[  \\sigma (\\omega) \\mathbf{E}(\\omega) e^{-i\\omega t} - \\epsilon_0 i \\omega \\mathbf{E}(\\omega)e^{-i\\omega t} \\Big] \\\\\n",
    "& = &  i \\omega \\mu_0 \\Big[  \\sigma (\\omega) \\mathbf{E}(\\omega) e^{-i\\omega t} - \\epsilon_0 i \\omega \\mathbf{E}(\\omega)e^{-i\\omega t} \\Big]\n",
    "\\end{align}\n",
    "\n",
    "which implies\n",
    "\n",
    "\\begin{array}\n",
    "- \\mathbf{\\nabla}^2 \\mathbf{E}(\\omega) & = & i \\omega \\mu_0 \\Big[  \\sigma (\\omega) \\mathbf{E}(\\omega) - \\epsilon_0 i \\omega \\mathbf{E}(\\omega) \\Big] \\\\\n",
    "& = & \\omega^2 \\mu_0 \\Big[  \\epsilon_0 +  \\frac{i \\sigma (\\omega)}{\\omega} \\Big] \\mathbf{E}(\\omega) \\\\\n",
    "& = & \\frac{\\omega^2 }{c^2} \\Big[  1 +  \\frac{i \\sigma (\\omega)}{\\epsilon_0 \\omega} \\Big] \\mathbf{E}(\\omega)\n",
    "\\end{array}\n",
    "\n",
    "this is the standard form of a wave equation with a complex dielectric function\n",
    "\n",
    "$$\n",
    "\\epsilon (\\omega) =   1 +  \\frac{i \\sigma (\\omega)}{\\epsilon_0 \\omega}\n",
    "$$\n",
    "\n",
    "where $\\sigma (\\omega)$ is our Drude AC conductivity."
   ]
  },
  {
   "cell_type": "markdown",
   "metadata": {
    "collapsed": true,
    "slideshow": {
     "slide_type": "slide"
    }
   },
   "source": [
    "<div style=\"background-color:LightBlue; margin-left: 20px; margin-right: 20px; padding-bottom: 8px; padding-left: \n",
    "8px; padding-right: 8px; padding-top: 8px;\">\n",
    "<li>Show that if $\\omega \\tau >> 1$ that $\\epsilon (\\omega) = 1 - \\omega_p^2 / \\omega ^2$</li>\n",
    "<li>Give a formula for $\\omega_p$ - this is called the plasma frequency</li>\n",
    "<li>using the wave equation in the large $\\omega \\tau$ limit, can a metal transmit a wave with frequency less than the plasma frequency?</li>\n",
    "</div>\n"
   ]
  },
  {
   "cell_type": "markdown",
   "metadata": {
    "slideshow": {
     "slide_type": "slide"
    }
   },
   "source": [
    "### Plasmons\n",
    "\n",
    "The plasmon was initially proposed in 1952 by David Pines and David Bohm and was shown to arise from a Hamiltonian for the long-range electron-electron correlations.\n",
    "\n",
    "Plasmons are an example of collective behaviour of a system (metal here). We can find a classical description of how they behave in a metal using our expression for the current, the law of conservation of charge and Gauss's law\n",
    "\n",
    "$$\n",
    "\\nabla . \\mathbf{j} = - \\frac{\\partial \\rho}{\\partial t}\n",
    "$$\n",
    "\n",
    "when the density has a oscillatory time dependence we have\n",
    "\n",
    "$$\n",
    "\\nabla . \\mathbf{j}(\\omega) = - i \\omega \\rho (\\omega)\n",
    "$$\n",
    "\n",
    "and using Gauss's law,\n",
    "\n",
    "$$\n",
    "\\nabla . \\mathbf{E}(\\omega) = \\frac{ \\rho(\\omega)}{\\epsilon_0}\n",
    "$$\n",
    "\n"
   ]
  },
  {
   "cell_type": "markdown",
   "metadata": {
    "slideshow": {
     "slide_type": "subslide"
    }
   },
   "source": [
    "and using our relationship between $\\mathbf{E}$ and $\\mathbf{j}$\n",
    "\n",
    "we get\n",
    "\n",
    "$$\n",
    "i \\omega \\rho (\\omega) = \\frac{\\sigma(\\omega) \\rho(\\omega)}{\\epsilon_0}\n",
    "$$\n",
    "\n",
    "which has a solution if\n",
    "\n",
    "$$\n",
    "1 + \\frac{i \\sigma(\\omega)}{\\epsilon_0 \\omega} = 0\n",
    "$$\n",
    "\n",
    "which corresponds to the plasma frequency again.\n",
    "\n",
    "Quantizing these oscillations (so like Photons are quantized oscillations in free space) produces plasmons ..."
   ]
  },
  {
   "cell_type": "markdown",
   "metadata": {
    "slideshow": {
     "slide_type": "slide"
    }
   },
   "source": [
    "### Uses and properties\n",
    "\n",
    "- Metals are shiny! Plasma frequency is often in the UV\n",
    "- Surface Polarons\n",
    "- Surface enhanced Raman spectroscopy\n",
    "- Control the colour of materials\n",
    "- Sensors\n",
    "- Improve Photovoltaics and LEDs\n",
    "- Interact with photons to produce plasmon-polaritons (Light-excitons)"
   ]
  },
  {
   "cell_type": "markdown",
   "metadata": {
    "slideshow": {
     "slide_type": "slide"
    }
   },
   "source": [
    "## Drude model of Thermal Transport\n",
    "\n",
    "Using kinetic theory (basically ideal gas) we can estimate the thermal conductivity $\\kappa$ of free electrons.\n",
    "\n",
    "Kappa is defined by the ratio of heat current density $\\mathbf{j}_q$ to temperature gradient $\\nabla T$\n",
    "\n",
    "$$\n",
    "\\mathbf{j}_q = \\kappa \\nabla T\n",
    "$$\n",
    "\n",
    "Then by considering a flux of electrons that carry an amount of heat $c_v T$ at a velocity $ \\langle v \\rangle$ for a distance $\\lambda$ we get\n",
    "\n",
    "$$\n",
    "\\kappa = \\frac{1}{3}nc_v \\langle v \\rangle \\lambda\n",
    "$$\n",
    "\n",
    "where $c_v$ is the heat capacity per particle (electron), $ \\langle v \\rangle$ is the average thermal velocity and $\\lambda =  \\langle v \\rangle \\tau$ is the scattering length.\n",
    "\n"
   ]
  },
  {
   "cell_type": "markdown",
   "metadata": {
    "slideshow": {
     "slide_type": "subslide"
    }
   },
   "source": [
    "Assuming that electrons behave like a gas (?), we would expect that $c_v = \\frac{3}{2}k_B$ and the average velocity is $ \\langle v \\rangle = \\sqrt{\\frac{8 k_B T}{\\pi m}}$\n",
    "\n",
    "we get\n",
    "\n",
    "$$\n",
    "\\kappa = \\frac{4}{\\pi} \\frac{n \\tau k_B^2 T}{m}\n",
    "$$\n",
    "\n",
    "and if we assume that the $\\tau$ is the same as before we could look at the ratio of thermal to electrical conductivity to get a value for the Lorenz number $L$\n",
    "\n",
    "$$\n",
    "L = \\frac{\\kappa}{T\\sigma} = \\frac{3}{2} \\left( \\frac{(k_B)}{e} \\right)^2 \\approx 0.94 \\times 10^{-8} W \\Omega K^{-2}\n",
    "$$\n",
    "\n",
    "This constant ratio is known as the *Wiedemann-Franz law*. \n",
    "\n",
    "Note there are some slightly different numbers around ($2.44  \\times 10^{-8} W \\Omega K^{-2}$ ) - see wikipedia for instance, but they are due to errors by Drude. On the other hand the model is complete nonsense;) So not to worry about a factor of 2. \n",
    "\n",
    "We will see later that our guess at $c_v$ is way to big (ignoring the quantum) and our $ \\langle v \\rangle$ is way to small. The former is important - no measurements revealed a heat capacity of electrons of this magnitude!"
   ]
  },
  {
   "cell_type": "markdown",
   "metadata": {
    "slideshow": {
     "slide_type": "slide"
    }
   },
   "source": [
    "### Peltier effect\n",
    "\n",
    "We can see more clearly the problems by considering the Peltier effect - if we run an electrical current through a material we should also transport heat. The Peltier coefficient is defined by \n",
    "\n",
    "$$\n",
    "\\mathbf{j}_q = \\Pi \\mathbf{j}\n",
    "$$\n",
    "\n",
    "Using our classical kinetic theory the thermal current is\n",
    "\n",
    "$$\n",
    "\\mathbf{j}_q = \\frac{1}{3} (c_v T) n \\mathbf{v}\n",
    "$$\n",
    "\n",
    "and \n",
    "\n",
    "$$\n",
    "\\mathbf{j} = -ne\\mathbf{v}\n",
    "$$\n",
    "\n",
    "thus giving\n",
    "\n",
    "$$\n",
    "\\Pi = -\\frac{c_v T}{3e} = -\\frac{k_BT}{2e}\n",
    "$$\n",
    "\n",
    "So the ratio $S = \\Pi / T$ (called the Seebeck coeffiecient) should be a constant\n",
    "\n",
    "$$\n",
    "S = \\frac{\\Pi }{T} =  -\\frac{k_B}{2e} = -4.3 \\times 10 ^{-4} V / K\n",
    "$$\n",
    "\n",
    "in Drude theory."
   ]
  },
  {
   "cell_type": "markdown",
   "metadata": {
    "slideshow": {
     "slide_type": "slide"
    }
   },
   "source": [
    "But $S$ of Pt is $\\approx 1.0 \\times 10^{-6} V/K$\n",
    "\n",
    "<table class=\"wikitable\" style=\"text-align:center\">\n",
    "<tr>\n",
    "<th>Material</th>\n",
    "<th>Seebeck coefficient<br />\n",
    "<i>relative to platinum</i> (μV/K)</th>\n",
    "</tr>\n",
    "<tr>\n",
    "<td><a href=\"/wiki/Selenium\" title=\"Selenium\">Selenium</a></td>\n",
    "<td>900</td>\n",
    "</tr>\n",
    "<tr>\n",
    "<td><a href=\"/wiki/Tellurium\" title=\"Tellurium\">Tellurium</a></td>\n",
    "<td>500</td>\n",
    "</tr>\n",
    "<tr>\n",
    "<td><a href=\"/wiki/Silicon\" title=\"Silicon\">Silicon</a></td>\n",
    "<td>440</td>\n",
    "</tr>\n",
    "<tr>\n",
    "<td><a href=\"/wiki/Germanium\" title=\"Germanium\">Germanium</a></td>\n",
    "<td>330</td>\n",
    "</tr>\n",
    "<tr>\n",
    "<td><a href=\"/wiki/Antimony\" title=\"Antimony\">Antimony</a></td>\n",
    "<td>47</td>\n",
    "</tr>\n",
    "<tr>\n",
    "<td><a href=\"/wiki/Nichrome\" title=\"Nichrome\">Nichrome</a></td>\n",
    "<td>25</td>\n",
    "</tr>\n",
    "<tr>\n",
    "<td><a href=\"/wiki/Molybdenum\" title=\"Molybdenum\">Molybdenum</a></td>\n",
    "<td>10</td>\n",
    "</tr>\n",
    "<tr>\n",
    "<td><a href=\"/wiki/Cadmium\" title=\"Cadmium\">Cadmium</a>, <a href=\"/wiki/Tungsten\" title=\"Tungsten\">tungsten</a></td>\n",
    "<td>7.5</td>\n",
    "</tr>\n",
    "<tr>\n",
    "<td><a href=\"/wiki/Gold\" title=\"Gold\">Gold</a>, <a href=\"/wiki/Silver\" title=\"Silver\">silver</a>, <a href=\"/wiki/Copper\" title=\"Copper\">copper</a></td>\n",
    "<td>6.5</td>\n",
    "</tr>\n",
    "<tr>\n",
    "<td><a href=\"/wiki/Rhodium\" title=\"Rhodium\">Rhodium</a></td>\n",
    "<td>6.0</td>\n",
    "</tr>\n",
    "<tr>\n",
    "<td><a href=\"/wiki/Tantalum\" title=\"Tantalum\">Tantalum</a></td>\n",
    "<td>4.5</td>\n",
    "</tr>\n",
    "<tr>\n",
    "<td><a href=\"/wiki/Lead\" title=\"Lead\">Lead</a></td>\n",
    "<td>4.0</td>\n",
    "</tr>\n",
    "<tr>\n",
    "<td><a href=\"/wiki/Aluminium\" title=\"Aluminium\">Aluminium</a></td>\n",
    "<td>3.5</td>\n",
    "</tr>\n",
    "<tr>\n",
    "<td><a href=\"/wiki/Carbon\" title=\"Carbon\">Carbon</a></td>\n",
    "<td>3.0</td>\n",
    "</tr>\n",
    "<tr>\n",
    "<td><a href=\"/wiki/Mercury_(element)\" title=\"Mercury (element)\">Mercury</a></td>\n",
    "<td>0.6</td>\n",
    "</tr>\n",
    "<tr>\n",
    "<td><a href=\"/wiki/Platinum\" title=\"Platinum\">Platinum</a></td>\n",
    "<td>0 (definition)</td>\n",
    "</tr>\n",
    "<tr>\n",
    "<td><a href=\"/wiki/Sodium\" title=\"Sodium\">Sodium</a></td>\n",
    "<td>-2.0</td>\n",
    "</tr>\n",
    "<tr>\n",
    "<td><a href=\"/wiki/Potassium\" title=\"Potassium\">Potassium</a></td>\n",
    "<td>-9.0</td>\n",
    "</tr>\n",
    "<tr>\n",
    "<td><a href=\"/wiki/Nickel\" title=\"Nickel\">Nickel</a></td>\n",
    "<td>-15</td>\n",
    "</tr>\n",
    "<tr>\n",
    "<td><a href=\"/wiki/Constantan\" title=\"Constantan\">Constantan</a></td>\n",
    "<td>-35</td>\n",
    "</tr>\n",
    "<tr>\n",
    "<td><a href=\"/wiki/Bismuth\" title=\"Bismuth\">Bismuth</a></td>\n",
    "<td>-72</td>\n",
    "</tr>\n",
    "</table>"
   ]
  },
  {
   "cell_type": "markdown",
   "metadata": {
    "slideshow": {
     "slide_type": "slide"
    }
   },
   "source": [
    "## Failures of the classical theory\n",
    "\n",
    "- variable sign of the Hall coefficient\n",
    "- dielectric function much too simple\n",
    "- heat capacity of electrons grossly overestimated\n",
    "- infer that the mobility of electrons is grossly underestimated\n",
    "- Thermopower off by factor of ~100"
   ]
  }
 ],
 "metadata": {
  "anaconda-cloud": {},
  "celltoolbar": "Slideshow",
  "kernelspec": {
   "display_name": "Python 3",
   "language": "python",
   "name": "python3"
  },
  "language_info": {
   "codemirror_mode": {
    "name": "ipython",
    "version": 3
   },
   "file_extension": ".py",
   "mimetype": "text/x-python",
   "name": "python",
   "nbconvert_exporter": "python",
   "pygments_lexer": "ipython3",
   "version": "3.5.4"
  }
 },
 "nbformat": 4,
 "nbformat_minor": 1
}
