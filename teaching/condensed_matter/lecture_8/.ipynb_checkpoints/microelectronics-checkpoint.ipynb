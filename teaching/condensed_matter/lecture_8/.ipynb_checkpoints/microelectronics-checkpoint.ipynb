{
 "cells": [
  {
   "cell_type": "markdown",
   "metadata": {
    "slideshow": {
     "slide_type": "slide"
    }
   },
   "source": [
    "# 08 - Microelectronics"
   ]
  },
  {
   "cell_type": "markdown",
   "metadata": {
    "slideshow": {
     "slide_type": "slide"
    }
   },
   "source": [
    "## Metals, Semiconductors, Insulators\n",
    "\n",
    "If there is an energy gap between the highest filled states and the next set of states, then you have an insulator, or if the gap is less than about $5 \\text{eV}$, a semiconductor.\n",
    "\n",
    "If there is no energy gap between empty and filled states, we have a metal.\n",
    "\n",
    "Or in very crude cartoon forms\n",
    "\n",
    "![](http://what-when-how.com/wp-content/uploads/2011/07/tmp6C267_thumb_thumb.jpg)\n",
    "\n",
    "![](https://upload.wikimedia.org/wikipedia/commons/thumb/9/9d/Band_filling_diagram.svg/300px-Band_filling_diagram.svg.png)"
   ]
  },
  {
   "cell_type": "markdown",
   "metadata": {
    "slideshow": {
     "slide_type": "subslide"
    }
   },
   "source": [
    "![](https://upload.wikimedia.org/wikipedia/commons/thumb/9/93/D-band_filling.png/500px-D-band_filling.png)"
   ]
  },
  {
   "cell_type": "markdown",
   "metadata": {
    "slideshow": {
     "slide_type": "slide"
    }
   },
   "source": [
    "## Semiconductor physics\n",
    "\n"
   ]
  },
  {
   "cell_type": "markdown",
   "metadata": {
    "slideshow": {
     "slide_type": "slide"
    }
   },
   "source": [
    "### Electrons and Holes\n",
    "\n",
    "An excitation, photon or thermal, can excite an electron from the valence band, to the conduction band\n",
    "\n",
    "Electron - a (dressed) electron  \n",
    "Hole - a (dressed) lack of an electron\n",
    "\n",
    "<img src=https://www.doitpoms.ac.uk/tlplib/semiconductors/images/para01.jpg alt=\"Smiley face\" height=\"250\" width=\"250\">\n",
    "\n",
    "when an electron is excited a hole is left behind\n",
    "\n",
    "<img src=http://www.nature.com/nmat/journal/v7/n2/images/nmat2107-f1.jpg alt=\"Smiley face\" height=\"250\" width=\"250\">\n"
   ]
  },
  {
   "cell_type": "markdown",
   "metadata": {
    "slideshow": {
     "slide_type": "slide"
    }
   },
   "source": [
    "### Effective Mass of Electrons\n",
    "\n",
    "Assume that near the bottom of the conduction band, which occurs at $\\mathbf{k} = \\mathbf{k}_{min}$\n",
    "\n",
    "$$\n",
    "E = E_{min} + \\alpha|\\mathbf{k} - \\mathbf{k}_{min}|^2 + \\ldots\n",
    "$$\n",
    "\n",
    "We then define the effective mass as\n",
    "\n",
    "$$\n",
    "\\hbar^2/m_e^* = \\frac{\\partial^2E }{\\partial k^2} = 2 \\alpha\n",
    "$$\n",
    "\n",
    "\n",
    "and with corresponding velocity\n",
    "\n",
    "$$\n",
    "\\mathbf{v} = \\nabla_\\mathbf{k} E / \\hbar = \\hbar(\\mathbf{k} - \\mathbf{k}_{min})/m_e^*\n",
    "$$\n",
    "\n",
    "These then correspond to the free electron case, but with $m_e$ replaced by $m^*$"
   ]
  },
  {
   "cell_type": "markdown",
   "metadata": {
    "slideshow": {
     "slide_type": "slide"
    }
   },
   "source": [
    "### Effective Mass of Holes\n",
    "\n",
    "We can do the same for holes.\n",
    "\n",
    "$$\n",
    "E = E_{max} - \\alpha|\\mathbf{k} - \\mathbf{k}_{min}|^2 + \\ldots\n",
    "$$\n",
    "\n",
    "then \n",
    "\n",
    "$$\n",
    "\\hbar^2/m_h^* = \\frac{\\partial^2E }{\\partial k^2} = 2 \\alpha\n",
    "$$\n",
    "\n",
    "and again we get\n",
    "\n",
    "$$\n",
    "E_{hole} = \\text{constant } + \\frac{\\hbar^2|\\mathbf{k} - \\mathbf{k}_{min}|^2}{2 m^*_h}\n",
    "$$\n",
    "\n",
    "note that really we are moving electrons, so that you need to keep track of where the electrons are\n",
    "\n",
    "$$\n",
    "E\\text{(absence of electron in state $\\mathbf{k}$)} = -E\\text{(electron in state $\\mathbf{k}$)}\n",
    "$$"
   ]
  },
  {
   "cell_type": "markdown",
   "metadata": {
    "slideshow": {
     "slide_type": "slide"
    }
   },
   "source": [
    "### Momentum and velocity of holes and electrons\n",
    "\n",
    "The momentum of a hole is defined via $\\mathbf{k}_h = -\\mathbf{k}_e$ to be\n",
    "\n",
    "$$\n",
    "-\\hbar \\mathbf{k}_e\n",
    "$$\n",
    "\n",
    "where $\\mathbf{k}_e$ is the wavevector of the electron removed to form the hole.\n",
    "\n",
    "Then when we use\n",
    "\n",
    "$$\n",
    "\\mathbf{v}_h = \\nabla_{\\mathbf{k}_h} E_h / \\hbar\n",
    "$$\n",
    "\n",
    "we have two negative signs, and get\n",
    "\n",
    "$$\n",
    "\\mathbf{v}_h = \\mathbf{v}_e \n",
    "$$"
   ]
  },
  {
   "cell_type": "markdown",
   "metadata": {
    "slideshow": {
     "slide_type": "slide"
    }
   },
   "source": [
    "### Effective Mass and equations of Motion\n",
    "\n",
    "If we apply a force $\\mathbf{F}$ to an electron it will do work per unit time\n",
    "\n",
    "$$\n",
    "\\frac{dW}{dt} = \\mathbf{F} \\cdot \\mathbf{v} = \\mathbf{F} \\cdot  \\nabla_{\\mathbf{k}_h} E_h / \\hbar\n",
    "$$\n",
    "\n",
    "This must be equal to the change of energy with time\n",
    "\n",
    "$$\n",
    "\\frac{dE}{dt} = \\frac{d\\mathbf{k}}{dt} \\cdot  \\nabla_{\\mathbf{k}_h} E_h / \\hbar\n",
    "$$\n",
    "\n",
    "comparing the two we get\n",
    "\n",
    "$$\n",
    "\\mathbf{F} = \\hbar \\frac{\\mathbf{k}}{dt} = \\frac{d\\mathbf{p}}{dt}\n",
    "$$\n",
    "\n",
    "where $\\mathbf{p} = \\hbar \\mathbf{k}$. When the relation of energy to wavevector is parabolic, we get\n",
    "\n",
    "$$\n",
    "\\mathbf{F} = m^* \\frac{d\\mathbf{v}}{dt}\n",
    "$$\n",
    "\n",
    "so they basically move classically in an applied field.\n",
    "\n",
    "More generally, away from the band extrema, it is possible to use the 2nd derivative of the energy as a generalised effective mass."
   ]
  },
  {
   "cell_type": "markdown",
   "metadata": {
    "slideshow": {
     "slide_type": "slide"
    }
   },
   "source": [
    "### Back to Lecture 1 - Drude model with effective mass\n",
    "\n",
    "Now if we take our original Drude model, and replace the mass of an electron with $m_e^*$ we get\n",
    "\n",
    "$$\n",
    "m_e^* \\frac{d\\mathbf{v}}{dt} = -e(\\mathbf{E} + \\mathbf{v} \\times \\mathbf{B}) - m_e^* \\mathbf{v}/ \\tau\n",
    "$$\n",
    "\n",
    "for electrons, or\n",
    "\n",
    "$$\n",
    "m_h^* \\frac{d\\mathbf{v}}{dt} = e(\\mathbf{E} + \\mathbf{v} \\times \\mathbf{B}) - m_h^* \\mathbf{v}/ \\tau\n",
    "$$\n",
    "\n",
    "for holes. So they move the opposite direction under the influence of an electric field!\n",
    "\n",
    "This can explain the anamolous results of the Hall effect for some materials."
   ]
  },
  {
   "cell_type": "markdown",
   "metadata": {
    "slideshow": {
     "slide_type": "slide"
    }
   },
   "source": [
    "### Doping\n",
    "\n",
    "doping is used to enhance performance, in sports\n"
   ]
  },
  {
   "cell_type": "markdown",
   "metadata": {
    "slideshow": {
     "slide_type": "fragment"
    }
   },
   "source": [
    "![](https://encrypted-tbn3.gstatic.com/images?q=tbn:ANd9GcQganQRc2lvsvR1Y0l5DnMS-ToJ-B_Y2A_mQYiUJUI8SyjeaAbs1Q)\n",
    "\n",
    "and as the basis of semiconductor engineering"
   ]
  },
  {
   "cell_type": "markdown",
   "metadata": {
    "slideshow": {
     "slide_type": "subslide"
    }
   },
   "source": [
    "\n",
    "\n",
    "Defects with energy levels within the band gap of the host effectively reduce the band gap and increase the concentration of electrons and holes.\n",
    "\n",
    "<img src=http://www.globalsino.com/micro/1/images/1micro9974%20Atomic%20models%20of%20Silicon,%20Boron%20and%20Phosphorus2.jpg alt=\"Smiley face\" height=\"250\" width=\"250\">\n",
    "\n",
    "A better way to imagine this for the phosphorus atom - is an added proton and an added electron, or a screened hydrogen atom.\n",
    "\n",
    "- n-type dopants add electrons to the system\n",
    "- p-type dopants add holes to the system"
   ]
  },
  {
   "cell_type": "markdown",
   "metadata": {
    "slideshow": {
     "slide_type": "slide"
    }
   },
   "source": [
    "### Impurity states\n",
    "\n",
    "Considering the phosphorus doping, we can extend the hydrogen atom analogy a little, if we take the formulae for the radius of the first electron 'orbit' in a hydrogen atom and replace $\\epsilon_0$ with $\\epsilon_0 \\epsilon_r$ and the electron mass $m_e$ with the effective electron mass $m_e^*$ we go from a Bohr radius of\n",
    "\n",
    "$$\n",
    "a_0 = \\frac{4 \\pi \\epsilon_0}{me^2} \\approx 0.51 \\times 10^{-10} \\text{ m} \n",
    "$$\n",
    "\n",
    "to\n",
    "\n",
    "$$\n",
    "a_0^{eff} = a_0(\\epsilon_r \\frac{m_e}{m_e^*}) > 30 \\times 10^{-10} \\text{ m} \n",
    "$$\n",
    "\n",
    "where the inequality is for silicon ($\\epsilon_r \\approx 11$) and an effective mass about a third of a free electron.\n",
    "\n"
   ]
  },
  {
   "cell_type": "markdown",
   "metadata": {
    "slideshow": {
     "slide_type": "subslide"
    }
   },
   "source": [
    "This also means that the binding energy of the electron to the additional proton is reduced from \n",
    "\n",
    "$$\n",
    "E_{\\text{e-proton}} = \\frac{me^2}{8 \\epsilon_0^2\\hbar^2} \\approx 13.6 \\text{eV} \n",
    "$$\n",
    "\n",
    "to \n",
    "\n",
    "$$\n",
    "E_{\\text{e-to P in Si}} = \\Bigg(\\frac{me^2}{8 \\epsilon_0^2\\hbar^2}\\Bigg)\\times \\Bigg(\\frac{m_e^*}{m\\epsilon_r^2}\\Bigg) << 0.1 \\text{eV} \n",
    "$$\n",
    "\n",
    "for Silicon. \n",
    "\n",
    "So the impurity energy level is just below the conduction band of Silicon.\n",
    "\n",
    "They can be thermally excited into the conduction band."
   ]
  },
  {
   "cell_type": "markdown",
   "metadata": {
    "slideshow": {
     "slide_type": "slide"
    }
   },
   "source": [
    "### Optical effects of impurities\n",
    "\n",
    "Additional states in the band gap will allow extra optical transitions. If they are in the visible range, and the defect concentration is high enough, they will effect the colour of the material.\n",
    "\n",
    "![](http://diamondsellersguide.com/wp-content/uploads/2014/07/colored-diamonds.gif)"
   ]
  },
  {
   "cell_type": "markdown",
   "metadata": {
    "slideshow": {
     "slide_type": "slide"
    }
   },
   "source": [
    "For instance Sapphire is $\\text{Al$_2$O$_3$}$, or pretty much cement, but ordered and with some defects.\n",
    "\n",
    "Either shiny or\n",
    "\n",
    "<img src='https://upload.wikimedia.org/wikipedia/en/f/f7/Sapphire.png' alt=\"Smiley face\" height=\"250\" width=\"250\">\n",
    "\n",
    "Note these are grown ... and how you grow them effects the colours\n",
    "\n"
   ]
  },
  {
   "cell_type": "markdown",
   "metadata": {
    "slideshow": {
     "slide_type": "subslide"
    }
   },
   "source": [
    "technologically useful\n",
    "\n",
    "<img src=http://www.patentlyapple.com/.a/6a0120a5580826970c01bb07896e86970d-800wi alt=\"Smiley face\" height=\"250\" width=\"250\">\n",
    "\n",
    "http://www.patentlyapple.com/patently-apple/2014/09/apple-invents-a-second-sapphire-glass-strengthening-process.html"
   ]
  },
  {
   "cell_type": "markdown",
   "metadata": {
    "slideshow": {
     "slide_type": "slide"
    }
   },
   "source": [
    "### Thermodynamics\n",
    "\n",
    "the DOS of a free electron gas is given by \n",
    "\n",
    "$$\n",
    "D(E \\gg 0) = \\frac{(2m)^{\\frac{3}{2}}}{2\\pi\\hbar^3}\\sqrt{E}\n",
    "$$\n",
    "\n",
    "as we saw, electrons and holes near the bottom or top of a band obey the same dispersion law, so should have a similar density of states.\n",
    "\n",
    "$$\n",
    "D_e(E \\gg E_{CBM}) = \\frac{(2m_e^*)^{\\frac{3}{2}}}{2\\pi\\hbar^3}\\sqrt{E-E_{CBM}}\n",
    "$$\n",
    "\n",
    "and similarly for holes\n",
    "\n",
    "$$\n",
    "D_h(E \\ll E_{VBM}) = \\frac{(2m_h^*)^{\\frac{3}{2}}}{2\\pi\\hbar^3}\\sqrt{E_{VBM}-E}\n",
    "$$\n",
    "\n",
    "and to get the density of electrons, we convolute our DOS with the Fermi function\n",
    "\n",
    "$$\n",
    "n_e(T) = \\int_{E_{CBM}}^{-\\infty}D_e(E)n_F(\\beta(E-\\mu))dE =  \\int_{E_{CBM}}^{-\\infty} \\frac{D_e(E)}{e^{\\beta(E-\\mu)}+1}dE \n",
    "$$"
   ]
  },
  {
   "cell_type": "markdown",
   "metadata": {
    "slideshow": {
     "slide_type": "subslide"
    }
   },
   "source": [
    "If $\\mu$ is well below the CBM, then $\\beta(E-\\mu) \\gg 1$ and we can approximate\n",
    "\n",
    "$$\n",
    "\\frac{D_e(E)}{e^{\\beta(E-\\mu)}+1} \\approx D_e(E)e^{-\\beta(E-\\mu)}\n",
    "$$\n",
    "\n",
    "the integral is then doable (Simon p192), and we get\n",
    "\n",
    "$$\n",
    "n(T) = \\frac{1}{4}\\Bigg( \\frac{2m_e^* k_B T}{\\pi \\hbar^2} \\Bigg) e^{-\\beta(E_{CBM}-\\mu)}\n",
    "$$\n",
    "\n",
    "Mainly the number of conduction electrons increases exponenentially with temperature (exponential is more important than the linear $T$ term).\n",
    "\n",
    "A similar expression holds for the density of holes\n",
    "\n",
    "$$\n",
    "p(T) = \\frac{1}{4}\\Bigg( \\frac{2m_h^* k_B T}{\\pi \\hbar^2} \\Bigg) e^{-\\beta(\\mu-E_{VBM})}\n",
    "$$"
   ]
  },
  {
   "cell_type": "markdown",
   "metadata": {
    "slideshow": {
     "slide_type": "slide"
    }
   },
   "source": [
    "### Law of Mass Action\n",
    "\n",
    "Combining our last two equations we get \n",
    "\n",
    "$$\n",
    "\\begin{align}\n",
    "n(T)p(T) &= \\frac{1}{2} \\Bigg( \\frac{k_B T}{\\pi \\hbar^2} \\Bigg)^3 (m_e^* m_h^*)^{\\frac{3}{2}} e^{-\\beta(E_{CBM}-E_{VBM})} \\\\\n",
    "         &= \\frac{1}{2} \\Bigg( \\frac{k_B T}{\\pi \\hbar^2} \\Bigg)^3 (m_e^* m_h^*)^{\\frac{3}{2}} e^{-\\beta(E_{gap})}\n",
    "\\end{align}\n",
    "$$\n",
    "where the band gap is $E_{gap} = E_{CBM}-E_{VBM}$"
   ]
  },
  {
   "cell_type": "markdown",
   "metadata": {
    "slideshow": {
     "slide_type": "slide"
    }
   },
   "source": [
    "### Intrinsic semiconductors\n",
    "\n",
    "In an intrinsic semiconductor, $n = p$, we can only make electron hole pairs, as the whole system is electrically neutral.\n",
    "\n",
    "With this restraint we can solve for $n=p$ in the law of mass action\n",
    "\n",
    "$$\n",
    "n_{\\text{intrinsic}} = p_{\\text{intrinsic}} = \\sqrt{np} = \\frac{1}{4} \\Bigg( \\frac{k_B T}{\\pi \\hbar^2} \\Bigg)^{3/2} (m_e^* m_h^*)^{\\frac{3}{4}} e^{-\\beta E_{gap} /2} \n",
    "$$\n",
    "\n",
    "You can also solve for the chemical potential $\\mu$, which turns out to be mid gap."
   ]
  },
  {
   "cell_type": "markdown",
   "metadata": {
    "slideshow": {
     "slide_type": "slide"
    }
   },
   "source": [
    "### Doped (extrinsic) semiconductors\n",
    "\n",
    "if the semiconductor is doped, and assuming the temperature is high enough that all donor or acceptor states are added into the bands\n",
    "\n",
    "$$\n",
    "n-p = \\text{(density of donors)} - \\text{(density of acceptors)}\n",
    "$$\n",
    "\n",
    "and combined with the law of mass action can be solved to obtain $n$ and $p$.\n",
    "\n",
    "If the dopant concentration is larger than the number intrinsic carriers, the chemical potential moves to just below the CBM or just above the VBM."
   ]
  },
  {
   "cell_type": "markdown",
   "metadata": {
    "slideshow": {
     "slide_type": "slide"
    }
   },
   "source": [
    "### Semiconductor Devices\n",
    "\n",
    "It is not immediately obvious that this bit of physics was completely revolutionary.\n",
    "\n",
    "But it was."
   ]
  },
  {
   "cell_type": "markdown",
   "metadata": {
    "collapsed": true,
    "slideshow": {
     "slide_type": "slide"
    }
   },
   "source": [
    "## $p-n$ Junction\n",
    "\n",
    "this is a junction of a p-doped semiconductor and an n-doped semiconductor.  Before they are in contact, they have two separate chemical potentials set by the doping levels of the material\n",
    "\n",
    "![](https://encrypted-tbn1.gstatic.com/images?q=tbn:ANd9GcSx-7S0CyoLisJ8GWXLWNX9Jm_6wfEm4I62YLgLxZNM5h68nIe6)\n",
    "\n",
    "when they are put into contact there is a transfer of electrons / holes to minimise the energy of the system.\n",
    "\n",
    "Electrons will flow into empty hole states, gaining an energy on the order of the band gap.\n",
    "\n",
    "\n"
   ]
  },
  {
   "cell_type": "markdown",
   "metadata": {
    "slideshow": {
     "slide_type": "subslide"
    }
   },
   "source": [
    "But this doesn't continue forever. Instead an opposing voltage builds up as more and more electrons transfer. Eventually an equilibrium is reached with a common fermi level for the whole system:\n",
    "\n",
    "![](https://encrypted-tbn1.gstatic.com/images?q=tbn:ANd9GcSYSAkhFUkEuiHEbFYuVibuHwgsOBwaWNPkwL8w4a5551qNSKJ_)\n",
    "\n",
    "The potential difference due to the charge separation cancels out the change in chemical potential to give a final balanced system."
   ]
  },
  {
   "cell_type": "code",
   "execution_count": 2,
   "metadata": {
    "collapsed": false,
    "slideshow": {
     "slide_type": "skip"
    }
   },
   "outputs": [],
   "source": [
    "#![](http://www.optique-ingenieur.org/en/courses/OPI_ang_M05_C02/res/k_fig_04.jpg)\n"
   ]
  },
  {
   "cell_type": "markdown",
   "metadata": {
    "slideshow": {
     "slide_type": "slide"
    }
   },
   "source": [
    "![](http://iamtechnical.com/sites/default/files/doide-structure-forward-reverse-bias-animation_0.gif)\n",
    "\n",
    "this junction acts as a diode, only conducting in one bias direction.\n",
    "\n",
    "Solar cells act in this way - formed electron-hole pairs are separated by the electric field and can then contribute to current generation."
   ]
  },
  {
   "cell_type": "markdown",
   "metadata": {
    "slideshow": {
     "slide_type": "slide"
    }
   },
   "source": [
    "There are four possible processes allowing conduction:\n",
    "\n",
    "![](https://ecee.colorado.edu/~bart/book/book/chapter4/gif/fig4_2_4.gif)\n",
    "\n",
    "Electrons or holes can be thermally excited across the gap, they then flow rapidly away. The number of  carriers in these regimes will be of the form $e^{-E_{gap}/k_BT}$, independent of applied bias.\n"
   ]
  },
  {
   "cell_type": "markdown",
   "metadata": {
    "slideshow": {
     "slide_type": "subslide"
    }
   },
   "source": [
    "![](https://ecee.colorado.edu/~bart/book/book/chapter4/gif/fig4_2_4.gif)\n",
    "\n",
    "The other two processes require the electrons/holes to climb the potential barrier. As a bias voltage is applied, the barrier height will shift from $E_{gap}$ to $E_{gap + eV}$, and the number of carriers would then be proportional to  $e^{-(E_{gap}+eV)/k_BT}$. Depending on the sign of the bias, the current will be very different.\n",
    "\n",
    "Light Emitting Diodes are essentially the same, though their material properties took a lot of tuning."
   ]
  },
  {
   "cell_type": "markdown",
   "metadata": {
    "slideshow": {
     "slide_type": "slide"
    }
   },
   "source": [
    "### Transistor\n",
    "\n",
    "by forming an $n-p-n$ (or $p-n-p$) sandwich, and adding a 'gate', it is possible to build a very efficient switch.\n",
    "\n",
    "![](https://sub.allaboutcircuits.com/images/03423.png)\n",
    "\n",
    "Real geometries are now very complicated.\n",
    "\n",
    "As transitiors shrink, individual atomic defects can actually dominate, especially in determining the reliability of devices.\n",
    "\n",
    "Much work goes into improving materials for these devices - the atomistic details are fascinating too - these cartoons do not give a real indication of the complexity"
   ]
  },
  {
   "cell_type": "markdown",
   "metadata": {
    "slideshow": {
     "slide_type": "slide"
    }
   },
   "source": [
    "### Photophysics\n",
    "\n",
    "Many devices combine absorbtion or emission of light with semiconductor physics.\n",
    "\n",
    "We've met one - solar cell. Which is basically a photodiode.\n",
    "\n",
    "Also Light Emitting Diodes (kind of reverse of a photodiode), photocathodes (electron sources), artificial photosynthesis, variety of sensors, and many more."
   ]
  },
  {
   "cell_type": "markdown",
   "metadata": {
    "slideshow": {
     "slide_type": "slide"
    }
   },
   "source": [
    "# Summary\n",
    "\n",
    "Semiconductor physics can work with the simple band model, analogy with Drude model and some thermodynamics."
   ]
  }
 ],
 "metadata": {
  "celltoolbar": "Slideshow",
  "kernelspec": {
   "display_name": "Python 3",
   "language": "python",
   "name": "python3"
  },
  "language_info": {
   "codemirror_mode": {
    "name": "ipython",
    "version": 3
   },
   "file_extension": ".py",
   "mimetype": "text/x-python",
   "name": "python",
   "nbconvert_exporter": "python",
   "pygments_lexer": "ipython3",
   "version": "3.6.0"
  }
 },
 "nbformat": 4,
 "nbformat_minor": 2
}
