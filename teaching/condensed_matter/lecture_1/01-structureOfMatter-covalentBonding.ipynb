{
 "cells": [
  {
   "cell_type": "markdown",
   "metadata": {
    "slideshow": {
     "slide_type": "slide"
    }
   },
   "source": [
    "# 02 - structure of matter \n",
    "\n",
    "<div style=\"background-color:Gold; margin-left: 20px; margin-right: 20px; padding-bottom: 8px; padding-left: \n",
    "8px; padding-right: 8px; padding-top: 8px; border-radius: 25px;\">\n",
    "<li>We will derive the matrix form of Quantum Mechanics</li>\n",
    "<li>and use it to explain covalent bonding in the Molecular Orbital picture</li>\n",
    "<li>the same procedure will allow us to use the tight-binding model of crystals</li>\n",
    "</div>\n",
    "\n"
   ]
  },
  {
   "cell_type": "markdown",
   "metadata": {
    "slideshow": {
     "slide_type": "slide"
    }
   },
   "source": [
    "## Covalent bonding\n",
    "\n",
    "is a quantum mechanical phenomenon, where atoms lower their energy by sharing electrons. We'll see below in a approximation called Molecule Orbital theory, that the reduction in energy primarily comes from a reduction in the kinetic energy of the electrons."
   ]
  },
  {
   "cell_type": "markdown",
   "metadata": {
    "slideshow": {
     "slide_type": "slide"
    }
   },
   "source": [
    "## Molecular Orbital, or Tight Binding Theory\n",
    "\n",
    "see Simon section 6.2.2. This is the same, but the notation is a bit different.\n",
    "\n",
    "Lets consider a molecule made up of two nuclei and a single electron. \n",
    "\n",
    "To make life simple, lets assume the nuclei are stationary - after all they are > 1000 times heavier than the electron, so they will move incredibly slowly compared to the electron.\n",
    "<br><br>\n",
    "<div style=\"background-color:Gold; margin-left: 20px; margin-right: 20px; padding-bottom: 8px; padding-left: \n",
    "8px; padding-right: 8px; padding-top: 8px; border-radius: 25px;\">\n",
    "Fixing the nuclei is known as the Born-Oppenheimer approximation.\n",
    "</div>\n",
    "\n"
   ]
  },
  {
   "cell_type": "markdown",
   "metadata": {
    "slideshow": {
     "slide_type": "slide"
    }
   },
   "source": [
    "## Electronic Hamiltonian\n",
    "\n",
    "We write out our classical Hamiltonian\n",
    "\n",
    "$$\n",
    "\\hat{H} = \\hat{T} + \\hat{V_1} + \\hat{V_2}\n",
    "$$\n",
    "\n",
    "where $T = \\mathbf{p}^2/2m$ is the kinetic energy of the electron and\n",
    "\n",
    "$$\n",
    "V_i = \\frac{e^2}{4\\pi \\epsilon_0 |\\mathbf{r-R}_i|}\n",
    "$$\n",
    "\n",
    "is the coulomb interaction between the electron at $\\mathbf{r}$ and the $i$th nucleus at $\\mathbf{R}_i$.\n",
    "\n"
   ]
  },
  {
   "cell_type": "markdown",
   "metadata": {
    "slideshow": {
     "slide_type": "slide"
    }
   },
   "source": [
    "We do exactly what we just did for the non-interacting electron gas. We take a trial wavefunction\n",
    "\n",
    "$$\n",
    "\\psi = c_1 \\phi_1 + c_2 \\phi_2\n",
    "$$\n",
    "\n",
    "and the functions $\\phi$ in the trial wavefunction are \"atomic\" orbitals, that correspond to solutions when the electron is near just one isolated nuclei (i.e. an atom). By this we mean that they satisfy the atomic Schroedinger equations\n",
    "\n",
    "\\begin{align}\n",
    "(\\hat{T} + \\hat{V_1})\\phi_1 = \\epsilon_1 \\phi_1\\\\\n",
    "(\\hat{T} + \\hat{V_2})\\phi_2 = \\epsilon_2 \\phi_2\n",
    "\\end{align}\n",
    "\n",
    "if the nuclei are the same, then the eigenvalues will be the same, so I'll just use $\\epsilon_1$ from now on. \n",
    "\n",
    "We assume that the $\\phi$ are orthogonal\n",
    "$$\n",
    "\\int d^3x \\phi_i^* \\phi_j = \\delta_{ij}\n",
    "$$\n",
    "\n"
   ]
  },
  {
   "cell_type": "markdown",
   "metadata": {
    "slideshow": {
     "slide_type": "slide"
    }
   },
   "source": [
    "now we can build the matrix form of our Hamiltonian\n",
    "\n",
    "\\begin{align}\n",
    "H_{11} = & \\int d^3x \\phi_1 \\hat{H} \\phi_1 = \\int d^3x \\phi_1 (\\hat{T} + \\hat{V_1}) \\phi_1 + \\int d^3x \\phi_1 \\hat{V_2} \\phi_1 = \\epsilon_1 + V_{cross}\\\\\n",
    "H_{22} = & \\int d^3x \\phi_2 \\hat{H} \\phi_2 = \\int d^3x \\phi_2 (\\hat{T} + \\hat{V_1}) \\phi_2 + \\int d^3x \\phi_2 \\hat{V_1} \\phi_2 = \\epsilon_2 + V_{cross}\\\\\n",
    "H_{12} = & \\int d^3x \\phi_1 \\hat{H} \\phi_2 = \\int d^3x \\phi_1 (\\hat{T} + \\hat{V_2}) \\phi_2 + \\int d^3x \\phi_1 \\hat{V_1} \\phi_2 = 0 - t\\\\\n",
    "H_{21} = & \\int d^3x \\phi_2 \\hat{H} \\phi_1 = \\int d^3x \\phi_2 (\\hat{T} + \\hat{V_1}) \\phi_1 + \\int d^3x \\phi_2 \\hat{V_2} \\phi_1 = 0 - t\n",
    "\\end{align}\n",
    "\n",
    "where we have used the atomic Schroedinger equations to simplify the equations, and introduced some notation $t$ and $V_{cross}$ for two new types of matrix elements that do not appear in the atomic problem.  \n",
    "\n",
    "$t$ is called the hopping term, as it lets the electon 'hop' from one orbital to the other (compare the non-interacting electrons when things were diagonal). In a timedependent picture it would give the rate of oscillation between the two orbitals. It will tend to increase as $\\mathbf{R}_{ij}$ decreases, as the orbitals get closer together, so the bonding will become stronger. \n",
    "\n",
    "$V_{cross}$ is the coulomb energy of an electron occupying the orbital on one the nuclei with the other nuclei.\n",
    "\n"
   ]
  },
  {
   "cell_type": "markdown",
   "metadata": {
    "slideshow": {
     "slide_type": "slide"
    }
   },
   "source": [
    "In matrix form we now have\n",
    "\n",
    "$$ \n",
    "\\left( \\begin{array}{cc}\n",
    "\\epsilon_1 + V_{cross} - E & -t \\\\\n",
    "-t & \\epsilon_1 + V_{cross} - E\n",
    "\\end{array} \\right) \n",
    "\\left( \\begin{array}{c}\n",
    "c_1  \\\\\n",
    "c_2\n",
    "\\end{array} \\right) \n",
    "= 0\n",
    "$$\n",
    "\n",
    "The determinant of this matrix can be written $(\\epsilon_1 + V_{cross} - E)^2 + t^2$ and taking $\\pm$ the square roots of the left hand side we get Eigenvalues\n",
    "\n",
    "$$\n",
    "E_{\\pm} = \\epsilon_1 + V_{cross} \\pm t\n",
    "$$\n",
    "\n",
    "and Eigenvectors\n",
    "\n",
    "$$\n",
    "\\psi_{\\pm} = \\frac{1}{\\sqrt{2}}(\\phi_1 \\pm \\phi_2)\n",
    "$$\n",
    "\n"
   ]
  },
  {
   "cell_type": "markdown",
   "metadata": {
    "slideshow": {
     "slide_type": "slide"
    }
   },
   "source": [
    "# Filling the levels\n",
    "\n",
    "just like for atomic systems, where it lead to the periodic table of the elements, we can now feed electrons into the energy levels we have found.\n",
    "\n",
    "Remember, Pauli's exclusion principle states that no two electrons can share the same spin orbital. This means that two electrons can go into each of the MOs we have found. In particular the bonding orbital can accept two electrons."
   ]
  },
  {
   "cell_type": "markdown",
   "metadata": {
    "slideshow": {
     "slide_type": "slide"
    }
   },
   "source": [
    "## Nuclear Hamiltonian\n",
    "\n",
    "really we should indicate that the energies that we get depend on where the nuclei are placed, and a nuclear-nuclear repulsion term should be added.\n",
    "\n",
    "$$\n",
    "E_{\\pm}(;\\mathbf{R}_{i,j}) = \\epsilon_1 + V_{cross} \\pm t + V_{\\mathbf{R}_{ij}}\n",
    "$$\n",
    "\n",
    "the effective nuclear-nuclear interaction in this case would be coulomb-like at reasonable distances, and tend to cancel the $V_{cross}$ term in the energy. \n",
    "\n",
    "For atoms with more electrons things are more complicated, there is a coulomb like term with an effective charge (nuclear charge + charge of tightly bound electrons) + a term that arises from the Pauli repulsion of the tightly bound electrons when the charge clouds start to overlap."
   ]
  },
  {
   "cell_type": "markdown",
   "metadata": {
    "slideshow": {
     "slide_type": "slide"
    }
   },
   "source": [
    "## Binding energy\n",
    "\n",
    "If $t$ is positive, then $E_+$ will be lowest in energy, and tend to be lower in energy than the energy of the isolated atom and nuclei. The lower energy molecular orbital is called a 'bonding' orbital. The other high energy solution is termed 'antibonding'.\n",
    "\n",
    "As the nuclei get too close (our model will breakdown first) nuclear-nuclear repulsion will grow ~exponentially.\n",
    "\n",
    "$t$ is called the hopping term, as it lets the electon 'hop' from one orbital to the other (compare the non-interacting electrons when things were diagonal). In a timedependent picture it would give the rate of oscillation between the two orbitals. It will tend to increase as $\\mathbf{R}_{ij}$ decreases, as the orbitals get closer together, so the bonding will become stronger. In fact if you squeeze things enough they will become metallic.\n",
    "\n",
    "![](https://cdn.arstechnica.net/wp-content/uploads/2017/01/metal-hydrogen-800x450.jpg)\n",
    "\n",
    "[Recent paper describes the observation of metallic hydrogen](http://science.sciencemag.org/content/early/2017/01/25/science.aal1579).\n",
    "\n",
    "The competition between the nuclear-nuclear repulsion and this hopping term, will lead to a 'binding curve' if we plot $E_{\\pm}$ as a function of $\\mathbf{R}_{ij}$\n",
    "\n",
    "A popular approximate form for the shape of the bonding curve is the Morse potential\n",
    "\n",
    "$$\n",
    "V(R_{ij}) = V_0 \\left[ e^{-2 \\kappa (R_{ij}-R_0)} - 2 e^{-\\kappa (R_{ij}-R_0)} \\right]\n",
    "$$"
   ]
  },
  {
   "cell_type": "code",
   "execution_count": 1,
   "metadata": {
    "collapsed": true
   },
   "outputs": [],
   "source": [
    "% matplotlib inline"
   ]
  },
  {
   "cell_type": "code",
   "execution_count": 2,
   "metadata": {
    "collapsed": true
   },
   "outputs": [],
   "source": [
    "import numpy as np\n",
    "import matplotlib.pyplot as plt"
   ]
  },
  {
   "cell_type": "code",
   "execution_count": 5,
   "metadata": {
    "scrolled": true
   },
   "outputs": [
    {
     "data": {
      "image/png": "[encoded data removed]",
      "text/plain": [
       "<matplotlib.figure.Figure at 0x7f24c843ff28>"
      ]
     },
     "metadata": {},
     "output_type": "display_data"
    }
   ],
   "source": [
    "# parameters\n",
    "V_0 = 1\n",
    "kappa = 1\n",
    "R_0 = 1\n",
    "\n",
    "# variables\n",
    "R = np.linspace(0,6)\n",
    "Vp = V_0 * (np.exp(-2*kappa*(R-R_0))-2*np.exp(-kappa*(R-R_0)))\n",
    "Vm = V_0 * (np.exp(-2*kappa*(R-R_0))+2*np.exp(-kappa*(R-R_0)))\n",
    "\n",
    "# plotting stuff\n",
    "plt.rcParams.update({'font.size': 18})\n",
    "plt.grid()\n",
    "plt.xlabel(r'$R_{ij} (\\AA)$')\n",
    "plt.ylabel(r'$E_{\\rm{binding}} (\\rm{eV})$')\n",
    "plt.text(2.5, -1.0, r'$E_+$')\n",
    "plt.text(2.5, 1.2, r'$E_-$')\n",
    "plt.ylim(-2,5)\n",
    "plt.plot(R,Vp,linestyle='-');\n",
    "plt.plot(R,Vm,linestyle='--');\n",
    "plt.savefig('binding_curve.png', bbox_inches='tight', pad_inches = 0.0)"
   ]
  },
  {
   "cell_type": "markdown",
   "metadata": {
    "slideshow": {
     "slide_type": "slide"
    }
   },
   "source": [
    "We can put up to two electrons into a binding orbital (though we have to pay an electron-electron repulsion energy). \n",
    "\n",
    "This gives rise to the simple Molecular orbital picture of why H$_2$ is strongly bound, but He$_2$ is unbound."
   ]
  },
  {
   "cell_type": "markdown",
   "metadata": {
    "slideshow": {
     "slide_type": "slide"
    }
   },
   "source": [
    "## Covalent bonding\n",
    "\n",
    "The molecular orbital picture above gives an approximate description of **covalent bonding**. \n",
    "\n",
    "It is the 'hopping' integral, which results in sharing of electron density between atom centred orbitals that causes covalent binding. \n",
    "\n",
    "This sharing reduces the kinetic energy of the electrons - the binding orbital is more distributed and has no nodes, this makes its curvature, and hence the kinetic energy smaller. \n",
    "\n",
    "A similar explanation in terms of reduction in kinetic energy can be used to explain why metals are stable.\n",
    "\n",
    "This picture also explains the bonding in covalent crystals, like Diamond or silicon. \n",
    "\n",
    "It leads to the tight-binding model of the electronic structure of solids, so understanding this as well as possible is time well spent."
   ]
  }
 ],
 "metadata": {
  "anaconda-cloud": {},
  "celltoolbar": "Slideshow",
  "kernelspec": {
   "display_name": "Python 3",
   "language": "python",
   "name": "python3"
  },
  "language_info": {
   "codemirror_mode": {
    "name": "ipython",
    "version": 3
   },
   "file_extension": ".py",
   "mimetype": "text/x-python",
   "name": "python",
   "nbconvert_exporter": "python",
   "pygments_lexer": "ipython3",
   "version": "3.5.4"
  }
 },
 "nbformat": 4,
 "nbformat_minor": 1
}
