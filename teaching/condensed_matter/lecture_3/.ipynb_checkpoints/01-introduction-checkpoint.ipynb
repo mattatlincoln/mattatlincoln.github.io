{
 "cells": [
  {
   "cell_type": "markdown",
   "metadata": {
    "slideshow": {
     "slide_type": "slide"
    }
   },
   "source": [
    "# Condensed Matter\n",
    "\n",
    "what is condensed matter?\n",
    "\n",
    ">Condensed matter physics is a branch of physics that deals with the physical properties of condensed phases of matter, where particles adhere to each other. Condensed matter physicists seek to understand the behavior of these phases by using physical laws. In particular, they include the laws of quantum mechanics, electromagnetism and statistical mechanics.\n",
    "\n",
    ">The most familiar condensed phases are solids and liquids while more exotic condensed phases include the superconducting phase exhibited by certain materials at low temperature, the ferromagnetic and antiferromagnetic phases of spins on atomic lattices, and the Bose–Einstein condensate found in cold atomic systems. The study of condensed matter physics involves measuring various material properties via experimental probes along with using techniques of theoretical physics to develop mathematical models that help in understanding physical behavior.\n",
    "\n",
    ">The diversity of systems and phenomena available for study makes condensed matter physics the most active field of contemporary physics: one third of all American physicists identify themselves as condensed matter physicists, and the Division of Condensed Matter Physics is the largest division at the American Physical Society. The field overlaps with chemistry, materials science, and nanotechnology, and relates closely to atomic physics and biophysics. Theoretical condensed matter physics shares important concepts and techniques with theoretical particle and nuclear physics.\n",
    "\n",
    "https://en.wikipedia.org/wiki/Condensed_matter_physics\n",
    "\n"
   ]
  },
  {
   "cell_type": "markdown",
   "metadata": {
    "slideshow": {
     "slide_type": "slide"
    }
   },
   "source": [
    "> A variety of topics in physics such as crystallography, metallurgy, elasticity, magnetism, etc., were treated as distinct areas until the 1940s, when they were grouped together as solid state physics. Around the 1960s, the study of physical properties of liquids was added to this list, forming the basis for the new, related specialty of condensed matter physics.[5] According to physicist Philip Warren Anderson, the term was coined by him and Volker Heine, when they changed the name of their group at the Cavendish Laboratories, Cambridge from \"Solid state theory\" to \"Theory of Condensed Matter\" in 1967,[6] as they felt it did not exclude their interests in the study of liquids, nuclear matter and so on.[7] Although Anderson and Heine helped popularize the name \"condensed matter\", it had been present in Europe for some years, most prominently in the form of a journal published in English, French, and German by Springer-Verlag titled Physics of Condensed Matter, which was launched in 1963.[8] The funding environment and Cold War politics of the 1960s and 1970s were also factors that lead some physicists to prefer the name \"condensed matter physics\", which emphasized the commonality of scientific problems encountered by physicists working on solids, liquids, plasmas, and other complex matter, over \"solid state physics\", which was often associated with the industrial applications of metals and semiconductors.[9] The Bell Telephone Laboratories was one of the first institutes to conduct a research program in condensed matter physics.[5]\n",
    "\n",
    "> References to \"condensed\" state can be traced to earlier sources. For example, in the introduction to his 1947 book \"Kinetic Theory of Liquids\",[10] Yakov Frenkel proposed that \"The kinetic theory of liquids must accordingly be developed as a generalization and extension of the kinetic theory of solid bodies. As a matter of fact, it would be more correct to unify them under the title of 'condensed bodies'\".\n",
    "\n",
    "https://en.wikipedia.org/wiki/Condensed_matter_physics\n"
   ]
  },
  {
   "cell_type": "markdown",
   "metadata": {
    "slideshow": {
     "slide_type": "slide"
    }
   },
   "source": [
    "## In a nutshell\n",
    "\n",
    "- *most of the world around us is condensed matter*. \n",
    "    - why are metals shiny, why do they feel cold\n",
    "    - why is glass transparent\n",
    "    - how do solar cells work\n",
    "    - why is rubber soft and stretchy\n",
    "\n",
    "\n",
    "- *it encompasses much of physics*\n",
    "    - advanced experimental techniques\n",
    "    - advanced theoretical techniques to motivate and interpret experiment\n",
    "\n",
    "\n",
    "- *it is incredibly useful*\n",
    "    - microelectronics\n",
    "    - materials engineering\n",
    "\n",
    "\n",
    "- *bridge from microscopic to macroscopic*\n",
    "    - many properties emerge from local behaviour of atoms in materials\n",
    "    - individual atoms can influence the behaviour of macroscopic systems (problems scaling down transistors)"
   ]
  },
  {
   "cell_type": "markdown",
   "metadata": {
    "slideshow": {
     "slide_type": "slide"
    }
   },
   "source": [
    "## Outline Syllabus\n",
    "\n",
    "### SOLID STATE\n",
    "\n",
    "- Crystal structure, reciprocal lattice, Brillouin zones, quasicrystals.\n",
    "- Crystal binding, elastic constants, phonons, thermal properties.\n",
    "- Energy bands, semiconductor crystals, Fermi surfaces.\n",
    "- Plasmons, polaritons, polarons, excitons.\n",
    "- Dielectric and magnetic properties.\n",
    "- Noncrystalline solids, point defects, dislocations, alloys.\n",
    "\n",
    "### SOFT CONDENSED MATTER\n",
    "\n",
    "- Polymers, flexible chains; Gaussian statistics, semi-flexible chains; persistence length. Polymer melts. Polymers in solutions, bad and good solvents, theta-solvent. Polymer dynamics; reptation model.\n",
    "- Liquid crystals. Amphiphiles.\n",
    "- Colloids, colloidal crystals. Proteins."
   ]
  },
  {
   "cell_type": "markdown",
   "metadata": {
    "slideshow": {
     "slide_type": "slide"
    }
   },
   "source": [
    "# Structure of the course\n",
    "\n",
    "1.  Breaking classical physics\n",
    "2.  Structure of matter\n",
    "3.  1D models\n",
    "4.  3D\n",
    "5.  Crystallography & X-ray diffraction\n",
    "6.  Electronic band structure\n",
    "7.  Phonons and quasiparticles\n",
    "8.  Defects, microelectronics\n",
    "9.  Polymers (Bart)\n",
    "10. Liquid Crystals (Martin)\n",
    "11. Colloids (Fabien)\n",
    "12. Proteins (Danilo)\n"
   ]
  },
  {
   "cell_type": "markdown",
   "metadata": {
    "slideshow": {
     "slide_type": "slide"
    }
   },
   "source": [
    "# Portfolio (assessed)\n",
    "\n",
    "1. Coursework 1/31/2017\n",
    "2. Coursework 2/21/2017\n",
    "3. In class test 3/28/2017\n",
    "4. Coursework 4/04/2017"
   ]
  },
  {
   "cell_type": "markdown",
   "metadata": {
    "slideshow": {
     "slide_type": "slide"
    }
   },
   "source": [
    "## Learning, Teaching and Assessment\n",
    "\n",
    "The total student effort for this module is 150 hours on average. \n",
    "\n",
    "This total includes:\n",
    "- Lectures, which introduce and discuss core concept and issues. During the lectures the students will also be directed towards recommended reading material and on-line resources. Research-informed material will be introduced as examples where appropriate. \n",
    "- Problem solving tutorials, where students are encouraged to attempt relevant problems in advance of the session and to be prepared to ask questions relating to the material.\n",
    "- The remaining time is allocated for student-centred learning, the completion of coursework, revision and exam preparation.\n",
    "\n",
    "The module content includes components required by the section \"Core of Physics\" of \"The Physics Degree\" by the Institute of Physics, October 2014.\n"
   ]
  }
 ],
 "metadata": {
  "anaconda-cloud": {},
  "celltoolbar": "Slideshow",
  "kernelspec": {
   "display_name": "Python 3",
   "language": "python",
   "name": "python3"
  },
  "language_info": {
   "codemirror_mode": {
    "name": "ipython",
    "version": 3
   },
   "file_extension": ".py",
   "mimetype": "text/x-python",
   "name": "python",
   "nbconvert_exporter": "python",
   "pygments_lexer": "ipython3",
   "version": "3.5.4"
  }
 },
 "nbformat": 4,
 "nbformat_minor": 1
}
