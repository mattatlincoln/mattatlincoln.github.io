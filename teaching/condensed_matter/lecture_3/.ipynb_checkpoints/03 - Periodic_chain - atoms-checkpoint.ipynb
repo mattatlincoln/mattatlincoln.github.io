{
 "cells": [
  {
   "cell_type": "markdown",
   "metadata": {
    "slideshow": {
     "slide_type": "slide"
    }
   },
   "source": [
    "# 03 - Atomic Vibrations of a 1D Periodic Chain\n",
    "\n",
    "Consider a 1D chain of $N$ identical 'atoms'. \n",
    "\n",
    "Each atom has mass $m$ and is separated from the next by an equilibrium spacing $a$ (lattice constant). \n",
    "\n",
    "The total length of the chain is $Na$. We define the equilibrium position of atom $n$ to be $x_n^{eq} = na$.\n",
    "\n",
    "Atoms can move only in the $x$ direction, and we can describe the instantaneous movement of an atom by the variable $\\delta x_n = x_n - x_n^{eq}$.\n",
    "\n",
    "![](binding_curve.png)"
   ]
  },
  {
   "cell_type": "markdown",
   "metadata": {
    "slideshow": {
     "slide_type": "subslide"
    }
   },
   "source": [
    "We'll approximate our interatomic potential, using a Taylor expansion around the equilibrium postition of the atoms.\n",
    "\n",
    "\n",
    "At low enough temperature, we can just keep the first term in the expansion, to give us \n",
    "\n",
    "<div style=\"background-color:Gold; margin-left: 20px; margin-right: 20px; padding-bottom: 8px; padding-left: 8px; padding-right: 8px; padding-top: 8px; border-radius: 25px;\">\n",
    "<h4>Harmonic approximation\n",
    "</h4>\n",
    "\n",
    "We expand the potential energy due to an atomic displacement in powers of $x - x^{eq}$\n",
    "\\begin{align}\n",
    "V(x) &= V(x^{eq}) + \\frac{\\kappa}{2!}(x - x^{eq})^2 - \\frac{\\kappa_3}{3!}(x-x^{eq})^3 + \\ldots \\\\\n",
    "     &\\approx V(x^{eq}) + \\frac{\\kappa}{2!}(x - x^{eq})^2\n",
    "\\end{align}\n",
    "</div>"
   ]
  },
  {
   "cell_type": "markdown",
   "metadata": {
    "slideshow": {
     "slide_type": "slide"
    }
   },
   "source": [
    "We'll use classical mechanics for now.\n",
    "\n",
    "We have springs, with spring constant $\\kappa$ between our atoms. \n",
    "\n",
    "The extension of the bond will be related to the difference in the instantaneous movements of two neighbouring atoms.  \n",
    "\n",
    "$$\n",
    "V_{tot} = \\sum_i V(x_{i+1}-x_i) = \\sum_i \\frac{\\kappa}{2}(x_{i+1} - x_i - a)^2 = \\sum_i \\frac{\\kappa}{2}(\\delta x_{i+1}\n",
    "- \\delta x_i)^2\n",
    "$$\n",
    "\n"
   ]
  },
  {
   "cell_type": "markdown",
   "metadata": {
    "slideshow": {
     "slide_type": "subslide"
    }
   },
   "source": [
    "The force on the $n^{th}$ atom is then given by\n",
    "\n",
    "$$\n",
    "F_n = - \\frac{\\partial V_{tot}}{\\partial x_n} = \\kappa(\\delta x_{n+1} - \\delta x_n) + \\kappa(\\delta x_{n-1} - \\delta x_n)\n",
    "$$\n",
    "\n",
    "Which gives us Newton's equations of motion for this system\n",
    "\n",
    "$$\n",
    "m\\frac{\\partial ^2 (\\delta x_n)}{\\partial t^2} = \\kappa(\\delta x_{n+1} + \\delta x_{n-1} -  2 \\delta x_n) $$\n",
    "\n",
    "We look for normal modes, and attempt a wavelike solution\n",
    "\n",
    "$$\n",
    "\\delta x_n = Ae^{i \\omega t - ikx_n^{eq}} = Ae^{i \\omega t - ikna}\n",
    "$$\n",
    "\n",
    "where $A$, $\\omega$ and $k$ are the amplitude, frequency and wavevector of the proposed wave. \n",
    "\n",
    "(Note, this is very similar to the solution of the tightbinding electronic model, and of the Drude AC conductivity.)\n"
   ]
  },
  {
   "cell_type": "markdown",
   "metadata": {
    "slideshow": {
     "slide_type": "subslide"
    }
   },
   "source": [
    "If we plug this guess into our equations of motion we get\n",
    "\n",
    "$$\n",
    "-m \\omega^2 Ae^{i \\omega t - ikna} = \\kappa Ae^{i \\omega t } \\left[ e^{- ik(n+1)a} + e^{- ik(n-1)a} - 2 e^{- ikna}  \\right]\n",
    "$$\n",
    "\n",
    "which simplifies to\n",
    "\n",
    "$$\n",
    "m \\omega^2 = 2 \\kappa \\left[1 - \\text{cos}(ka) \\right] = 4 \\kappa \\text{sin}^2(ka/2)\n",
    "$$\n",
    "\n",
    "from which it follows\n",
    "\n",
    "<div style=\"background-color:Gold; margin-left: 20px; margin-right: 20px; padding-bottom: 8px; padding-left: 8px; padding-right: 8px; padding-top: 8px; border-radius: 25px;\">\n",
    "<h4>Dispersion relation for 1D system of identical masses\n",
    "</h4>\n",
    "$$\n",
    "\\omega = 2 \\sqrt {\\frac{\\kappa}{m}} \\mid \\text{sin}(ka/2) \\mid\n",
    "$$\n",
    "</div>\n",
    "\n",
    "which gives us a dispersion relation - a connection between frequency and wavevector."
   ]
  },
  {
   "cell_type": "markdown",
   "metadata": {
    "slideshow": {
     "slide_type": "slide"
    }
   },
   "source": [
    "# Sound waves\n",
    "\n",
    "Sound waves correspond to very long wavelength oscillations - which means very small wave vector. \n",
    "\n",
    "Again we make a small angle expansion to get\n",
    "\n",
    "$$\n",
    "\\omega = 2 \\sqrt {\\frac{\\kappa}{m}} | \\sin(ka/2) | \\approx 2 \\sqrt {\\frac{\\kappa}{m}}|ka/2| = \\sqrt {\\frac{\\kappa}{m}} a |k|\n",
    "$$\n",
    "\n",
    "(and phase velocity, which equals group velocity in this case when the dispersion is linear),\n",
    "\n",
    "$$\n",
    "\\nu = \\omega / |k| = \\sqrt{\\frac{\\kappa}{m}}a\n",
    "$$.\n",
    "\n",
    "This give the speed of sound waves in our 1D crystal."
   ]
  },
  {
   "cell_type": "markdown",
   "metadata": {
    "slideshow": {
     "slide_type": "slide"
    }
   },
   "source": [
    "# Thermal Expansion\n",
    "\n",
    "We took a harmonic model for interaction between our atoms.\n",
    "\n",
    "To understand thermal expansion this is not adequate, to appreciate this we need to look at out potential energy curve, and how it compares to a harmonic one.\n",
    "\n",
    "![](binding_curve.png)\n",
    "\n",
    "The curve is assymmetric. As temperature increases, the atoms will wander further to the right (long distance between atoms) than to the left (where repulsive interaction become very strong, very quickly).\n",
    "\n",
    "This means that the average position of an atom $\\left< x_n \\right>$ will get larger, as temperature increases."
   ]
  },
  {
   "cell_type": "markdown",
   "metadata": {
    "slideshow": {
     "slide_type": "slide"
    }
   },
   "source": [
    "# Reciprocal Lattice\n",
    "\n",
    "Now, because of the periodic symmetry of our system (all the atoms are the same), we can argue that\n",
    "\n",
    "\\begin{align}\n",
    "k \\to k + 2 \\pi / a \n",
    "\\end{align}\n",
    "\n",
    "should give a physically identical system. \n",
    "\n",
    "Further, as we have $N$ sites to get physically identical solutions we require that $k = \\frac{2 \\pi m} { N a }, m = 0, \\pm 1, \\pm 2 \\ldots, \\frac{N}{2}$, as for the tight binding model. \n",
    "\n",
    "This corresponds to choosing a range $-\\pi/a \\lt k \\leq \\pi/a$\n",
    "\n",
    "With this restriction we have $N$ normal modes from our $N$ atoms that each have 1 degree of freedom. "
   ]
  },
  {
   "cell_type": "markdown",
   "metadata": {
    "slideshow": {
     "slide_type": "slide"
    }
   },
   "source": [
    "# Quantum Correspondence Principle\n",
    "\n",
    "Classical normal mode $\\to$ quantum harmonic oscillator.\n",
    "\n",
    "<div style=\"background-color:Gold; margin-left: 20px; margin-right: 20px; padding-bottom: 8px; padding-left: 8px; padding-right: 8px; padding-top: 8px; border-radius: 25px;\">\n",
    "<h4> 1 quantum of vibrational (of a quantum oscillator) in a crystal is called a 'phonon'. \n",
    "</h4>\n",
    "</div>\n",
    "\n",
    "Phonons are bosons, so they behave differently to the electrons we've been discussing. - they tend to accumulate in the ground state. \n",
    "\n",
    "If we have time we can look at this in more detaiil later."
   ]
  },
  {
   "cell_type": "markdown",
   "metadata": {
    "slideshow": {
     "slide_type": "slide"
    }
   },
   "source": [
    "# Alternating chain\n",
    "\n",
    "What would happen if we had two types of atoms that alternated along the chain?\n",
    "\n",
    "For simplicity lets keep the mass the same, but the spring that connects them alternates, with spring constants $\\kappa_1$ and $\\kappa_2$.\n",
    "\n",
    "Now we have a 'unit cell' with two atoms in it. \n",
    "\n",
    "This unit cell is the unit that replicates itself to form the crystal. We'll discuss this much more next week.\n",
    "\n",
    "Let us define a reference point in the same location within each unit cell. If we have a 'lattice constant' $a$, which is the length of the unit cell then\n",
    "\n",
    "$$\n",
    "r_n = an\n",
    "$$\n",
    "\n",
    "lets say that the reference point is in the center of the cell, and the two types of atom are dispaced from it by $\\pm 1/4 a$. We then have the equilibrium positions of our atoms as\n",
    "\n",
    "$$\n",
    "x_n^{eq} = an - 1/4 a\n",
    "$$\n",
    "\n",
    "$$\n",
    "y_n^{eq} = an + 1/4 a\n",
    "$$\n",
    "\n",
    "where we call the positions of atom type one $x_n$ and type two $y_n$. \n",
    "\n"
   ]
  },
  {
   "cell_type": "markdown",
   "metadata": {
    "slideshow": {
     "slide_type": "subslide"
    }
   },
   "source": [
    "Now we can set up our equations of motion pretty much like we did for the monoatomic chain.\n",
    "\n",
    "\\begin{align}\n",
    "m\\frac{\\partial ^2 (\\delta x_n)}{\\partial t^2} = \\kappa_2(\\delta y_n - \\delta x_n) + \\kappa_1(\\delta y_{n-1} - \\delta x_n)) \\\\\n",
    "m\\frac{\\partial ^2 (\\delta y_n)}{\\partial t^2} = \\kappa_1(\\delta x_{n+1} - \\delta y_n) + \\kappa_2(\\delta x_n - \\delta y_n))\n",
    "\\end{align}\n",
    "\n",
    "and we again guess that there will be an envelope of atomic displacements of a running wave form\n",
    "\n",
    "\\begin{align}\n",
    "\\delta x_n = A_x e^{i \\omega t - ikx_n^{eq}} = A_x e^{i \\omega t - ikna} \\\\\n",
    "\\delta y_n = A_y e^{i \\omega t - iky_n^{eq}} = A_y e^{i \\omega t - ikna}\n",
    "\\end{align}\n",
    "\n",
    "proceding as before we get\n",
    "\n",
    "\\begin{align}\n",
    "-m \\omega^2 A_x = \\kappa_2 A_y + \\kappa_1 A_y e^{ ika}  - (\\kappa_1 + \\kappa_2) A_x\\\\\n",
    "-m \\omega^2 A_y =  \\kappa_1 A_x e^{ ika} + \\kappa_2 A_x + - (\\kappa_1 + \\kappa_2) A_y\n",
    "\\end{align}\n"
   ]
  },
  {
   "cell_type": "markdown",
   "metadata": {
    "slideshow": {
     "slide_type": "subslide"
    }
   },
   "source": [
    "collecting this together in matrix form we get\n",
    "\n",
    "\\begin{align}\n",
    "m \\omega^2 \n",
    "\\left( \\begin{array}{c}\n",
    "A_x  \\\\\n",
    "A_y \n",
    "\\end{array}\\right) = \n",
    "\\left( \\begin{array}{c}\n",
    " (\\kappa_1 + \\kappa_2) & - \\kappa_2 - \\kappa_1  e^{ ika} \\\\\n",
    "  - \\kappa_1 - \\kappa_2  e^{ ika} &  (\\kappa_1 + \\kappa_2)\n",
    "\\end{array}\\right) \n",
    "\\left( \\begin{array}{c}\n",
    "A_x  \\\\\n",
    "A_y \n",
    "\\end{array}\\right)\n",
    "\\end{align}\n",
    "\n",
    "which means that will get 2 solutions for each value of $\\omega$.\n",
    "\n",
    "$$\n",
    "\\omega_{\\pm} = \\sqrt{\\frac{\\kappa_1 + \\kappa_2}{m} \\pm \\frac{1}{m}\\sqrt{(\\kappa_1 + \\kappa_2)^2 - 4 \\kappa_1 \\kappa_2 \\text{sin}^2 (ka/2)}}\n",
    "$$\n",
    "\n",
    "we have $N$ values of $k$ as before, and 2 solutions for each $k$, so $2N$ modes, which all adds up.\n",
    "\n",
    "We'll discuss the implications next week and in the problem class."
   ]
  },
  {
   "cell_type": "markdown",
   "metadata": {
    "slideshow": {
     "slide_type": "slide"
    }
   },
   "source": [
    "# Links\n",
    "\n",
    "Steven Simon's lecture\n",
    "\n",
    "https://podcasts.ox.ac.uk/06-microscopic-view-vibrations-solids-one-dimension-i-monatomic-harmonic-chain\n",
    "\n",
    "\n",
    "visualisation of vibrations - you can download a program called CHAINPLOT from Mike Glazer's website. You need to go to the downloads and fill in a request.\n",
    "\n",
    "http://www.amg122.com/programs/chains.html"
   ]
  },
  {
   "cell_type": "markdown",
   "metadata": {
    "slideshow": {
     "slide_type": "slide"
    }
   },
   "source": [
    "# Summary\n",
    "\n",
    "- binding curves lead to effective springs between atoms\n",
    "- our simple model allows us to get a flavour of a wide variety of phenomena (this is the purpose of a model!)\n",
    "- sound waves\n",
    "- optical branch in systems with more than one atom in the unit cell\n",
    "- thermal expansion\n",
    "- phonons - collective excitations, analogous to classical normal modes\n",
    "- unit cell, range of k-points, hints at reciprocal lattice"
   ]
  }
 ],
 "metadata": {
  "anaconda-cloud": {},
  "celltoolbar": "Slideshow",
  "kernelspec": {
   "display_name": "Python 3",
   "language": "python",
   "name": "python3"
  },
  "language_info": {
   "codemirror_mode": {
    "name": "ipython",
    "version": 3
   },
   "file_extension": ".py",
   "mimetype": "text/x-python",
   "name": "python",
   "nbconvert_exporter": "python",
   "pygments_lexer": "ipython3",
   "version": "3.6.1"
  }
 },
 "nbformat": 4,
 "nbformat_minor": 1
}
