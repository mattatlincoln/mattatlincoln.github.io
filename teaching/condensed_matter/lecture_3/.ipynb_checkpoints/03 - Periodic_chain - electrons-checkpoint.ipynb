{
 "cells": [
  {
   "cell_type": "markdown",
   "metadata": {
    "slideshow": {
     "slide_type": "slide"
    }
   },
   "source": [
    "# 03 - Electronic Band Structure of a 1D Periodic Chain\n",
    "\n",
    "Consider a 1D chain of $N$ identical atoms , each with a single atomic orbital $\\phi_i$, which is the solution of the atomic Schrodinger equation for the $i$th atom. \n",
    "\n",
    "The atoms are $a$ apart - also known as the lattice constant. \n",
    "\n",
    "We assume that the orbitals are orthonormal again:\n",
    "\n",
    "\\begin{align}\n",
    "\\int_0^{Na} \\textrm{d}x \\phi_i^* \\phi_j = \\delta_{ij}\n",
    "\\end{align}\n",
    "\n",
    "Now we join the two ends of the chain together. This is called periodic boundary conditions, and means that atom $0$ is a neighbour of atom $(N-1)$.\n",
    "\n"
   ]
  },
  {
   "cell_type": "markdown",
   "metadata": {
    "slideshow": {
     "slide_type": "subslide"
    }
   },
   "source": [
    "Our Hamiltonian is very similar to previous molecular work\n",
    "\n",
    "\\begin{align}\n",
    "\\hat{H} = \\hat{T} + \\sum_{j=0}^{N-1} \\hat{V_j}\n",
    "\\end{align}\n",
    "\n",
    "where $\\hat{T} = -(\\hbar^2/2m) \\frac{\\textrm{d}^2}{\\textrm{d} x^2} $ is the kinetic energy operator and the $\\bar{V}_j$ are the coulomb potential energy operators of an electron with the $j$th nuclei, which on our chain will be at position $ja$, i.e. atom number times the distance between atoms.\n",
    "\n",
    "\\begin{align}\n",
    "V_j(x) = \\frac{-e^2}{4 \\pi \\epsilon_0 |x - ja|}\n",
    "\\end{align}\n",
    "\n",
    "Now we need to figure out our Hamiltonian matrix. The Hamiltonian matrix elements are given by\n",
    "\n",
    "\\begin{align}\n",
    "H_{ij} = \\int_0^{Na} \\textrm{d}x \\phi_i^* \\hat{H}\\phi_j\n",
    "\\end{align}\n",
    "\n",
    "and we should remember that\n",
    "\n",
    "\\begin{align}\n",
    "H_{\\rm{atomic}} \\phi_j = (\\hat{T} + \\hat{V_j}) \\phi_j = \\epsilon_j \\phi_j\n",
    "\\end{align}\n",
    "\n",
    "and, as all the atoms are the same $\\epsilon_j = \\epsilon$ is a single parameter, and atomic orbital $\\phi$.\n",
    "\n"
   ]
  },
  {
   "cell_type": "markdown",
   "metadata": {
    "slideshow": {
     "slide_type": "slide"
    }
   },
   "source": [
    "# Hamiltonian\n",
    "\n",
    "Our matrix form of the Schroedinger equation is \n",
    "\n",
    "\\begin{align}\n",
    "\\sum_j H_{ij} C_j = E C_i\n",
    "\\end{align}\n",
    "\n",
    "If we write out our general matrix element we have\n",
    "\n",
    "\\begin{align}\n",
    "H_{ij} & = \\int_0^{Na} \\textrm{d}x \\phi_i^* \\hat{H}\\phi_j \\\\\n",
    "       & = \\int_0^{Na} \\textrm{d}x \\phi_i^*  (\\hat{T} + \\hat{V_j}) \\phi_j + \\sum_{k \\neq j} \\int_0^{Na} \\textrm{d}x \\phi_i \\hat{V}_k \\phi_j \\\\\n",
    "       & = \\delta_{i,j} \\epsilon + \\sum_{k \\neq j} \\int_0^{Na} \\textrm{d}x\\phi_i \\hat{V}_k \\phi_j\n",
    "\\end{align}\n"
   ]
  },
  {
   "cell_type": "markdown",
   "metadata": {
    "slideshow": {
     "slide_type": "subslide"
    }
   },
   "source": [
    "\\begin{align}\n",
    "H_{ij} & = \\int_0^{Na} \\textrm{d}x \\phi_i^* \\hat{H}\\phi_j \\\\\n",
    "       & = \\int_0^{Na} \\textrm{d}x \\phi_i^*  (\\hat{T} + \\hat{V_j}) \\phi_j + \\sum_{k \\neq j} \\int_0^{Na} \\textrm{d}x \\phi_i \\hat{V}_k \\phi_j \\\\\n",
    "       & = \\delta_{i,j} \\epsilon + \\sum_{k \\neq j} \\int_0^{Na} \\textrm{d}x\\phi_i \\hat{V}_k \\phi_j\n",
    "\\end{align}\n",
    "\n",
    "The sum is a little bit fiddly, but once you figure out what the $V$ integrals are and look carefully at the indices we will end up with\n",
    "\n",
    "\\begin{align}\n",
    "\\sum_{k \\neq j} \\int_0^{Na} \\textrm{d}x \\phi_i V_k \\phi_j = \n",
    "  \\begin{cases} \n",
    "      \\hfill V_0    \\hfill & \\text{ if $i = j$} \\\\\n",
    "      \\hfill t \\hfill & \\text{ if $i = j \\pm 1$} \\\\\n",
    "      \\hfill 0 \\hfill & \\text{ otherwise} \\\\\n",
    "\\end{cases}\n",
    "\\end{align}\n",
    "\n",
    "$V_0$ is the total coulomb energy of the electron at an atomic site with all the other nuclei. \n",
    "\n",
    "When the atoms are neighbours we have a hopping integral, $t$, exactly like the molecular case.\n",
    "\n",
    "If the atoms are separated by more than one site, we have no interaction.\n",
    "\n",
    "\\begin{align}\n",
    "H_{ij} & = \\delta_{i,j} (\\epsilon + V_0) - t(\\delta_{i+1,j} + \\delta_{i-1,j})\n",
    "\\end{align}\n"
   ]
  },
  {
   "cell_type": "markdown",
   "metadata": {
    "slideshow": {
     "slide_type": "subslide"
    }
   },
   "source": [
    "\n",
    "or written out in a matrix\n",
    "\n",
    "\\begin{align}\n",
    "H = \n",
    "\\left( \\begin{array}{ccccccc}\n",
    "(\\epsilon + V_0) & t      & 0      & \\ldots & 0 & 0 & t\\\\\n",
    "t      & (\\epsilon + V_0) & t      & 0 & \\ldots & 0 & 0\\\\\n",
    "0      &    t   & (\\epsilon + V_0) & t & 0 & \\ldots & 0 \\\\\n",
    "\\vdots & \\vdots & \\vdots & \\vdots& \\vdots & \\vdots & \\vdots \\\\\n",
    "0 & \\ldots & 0 & 0 & t &(\\epsilon + V_0) & t      \\\\\n",
    "t & \\ldots & 0 & 0 & 0 & t &(\\epsilon + V_0)      \n",
    "\\end{array}\n",
    "\\right)\n",
    "\\end{align}\n"
   ]
  },
  {
   "cell_type": "markdown",
   "metadata": {
    "slideshow": {
     "slide_type": "slide"
    }
   },
   "source": [
    "# Periodic chain - 1D crystal, computational\n",
    "\n",
    "We'll take a computational approach to solving this problem first.\n",
    "\n",
    "We can build a big matrix <em>in silico</em> and diagonalize it to find the eigenvalues and eigenvectors.\n",
    "\n",
    "`\n",
    "n = 50           # how long the chain should be\n",
    "epsilon = -7.0   # atomic energy (eV)\n",
    "V_0 = -0.5       # coulomb interaction energy with other atoms (eV)\n",
    "t = -3.0         # hopping integral (eV)\n",
    "`"
   ]
  },
  {
   "cell_type": "code",
   "execution_count": 1,
   "metadata": {
    "collapsed": true,
    "slideshow": {
     "slide_type": "skip"
    }
   },
   "outputs": [],
   "source": [
    "import numpy as np\n",
    "import matplotlib.pyplot as plt\n",
    "%matplotlib inline\n",
    "\n",
    "def make_H_n(epsilon, v0, t, n, periodic=False):\n",
    "    diag = np.ones(n) # makes a vector of 1s n long\n",
    "    diag = diag * (epsilon+v0) # multiply all vector elements\n",
    "    hop = np.ones(n-1) # makes a vector of 1s (n-1) long\n",
    "    hop = hop * t # multiply all elements by t\n",
    "    H_n_mol = np.diag(diag) # make a diagonal matrix, with diagonal elements diag\n",
    "    H_n_mol = H_n_mol + np.diag(hop,1) + np.diag(hop,-1) # add off diagonal terms\n",
    "    if (periodic): # if periodic add terms where the ends meet\n",
    "        H_n_mol[0,n-1] = t\n",
    "        H_n_mol[n-1,0] = t\n",
    "    return H_n_mol"
   ]
  },
  {
   "cell_type": "code",
   "execution_count": 2,
   "metadata": {
    "collapsed": true,
    "slideshow": {
     "slide_type": "skip"
    }
   },
   "outputs": [],
   "source": [
    "n = 50           # how long the chain should be\n",
    "epsilon = -7.0 # atomic energy (eV)\n",
    "V_0 = -0.5   # coulomb interaction energy with other atoms\n",
    "t = -3.0         # hopping integral"
   ]
  },
  {
   "cell_type": "code",
   "execution_count": 3,
   "metadata": {
    "slideshow": {
     "slide_type": "skip"
    }
   },
   "outputs": [],
   "source": [
    "H = make_H_n(epsilon,V_0,t,n,periodic=True) # build the Hamiltonian"
   ]
  },
  {
   "cell_type": "code",
   "execution_count": 4,
   "metadata": {
    "slideshow": {
     "slide_type": "subslide"
    }
   },
   "outputs": [
    {
     "data": {
      "text/plain": [
       "array([[-7.5, -3. ,  0. , ...,  0. ,  0. , -3. ],\n",
       "       [-3. , -7.5, -3. , ...,  0. ,  0. ,  0. ],\n",
       "       [ 0. , -3. , -7.5, ...,  0. ,  0. ,  0. ],\n",
       "       ..., \n",
       "       [ 0. ,  0. ,  0. , ..., -7.5, -3. ,  0. ],\n",
       "       [ 0. ,  0. ,  0. , ..., -3. , -7.5, -3. ],\n",
       "       [-3. ,  0. ,  0. , ...,  0. , -3. , -7.5]])"
      ]
     },
     "execution_count": 4,
     "metadata": {},
     "output_type": "execute_result"
    }
   ],
   "source": [
    "H # top and bottom of 50x50 H matrix"
   ]
  },
  {
   "cell_type": "code",
   "execution_count": 5,
   "metadata": {
    "collapsed": true,
    "slideshow": {
     "slide_type": "skip"
    }
   },
   "outputs": [],
   "source": [
    "E, C = np.linalg.eig(H) # solve the eigenproblem, E and C are the eigen values and eigenvectors, respectively"
   ]
  },
  {
   "cell_type": "code",
   "execution_count": 6,
   "metadata": {
    "slideshow": {
     "slide_type": "skip"
    }
   },
   "outputs": [],
   "source": [
    "Esorted, ordering = zip(*sorted(zip(E, range(n)))) # order the Energy values, and remember how we reorded the energies"
   ]
  },
  {
   "cell_type": "code",
   "execution_count": 7,
   "metadata": {
    "slideshow": {
     "slide_type": "skip"
    }
   },
   "outputs": [
    {
     "data": {
      "text/plain": [
       "(-13.499999999999989,\n",
       " -13.452688207886874,\n",
       " -13.452688207886856,\n",
       " -13.311498966771794,\n",
       " -13.311498966771788)"
      ]
     },
     "execution_count": 7,
     "metadata": {},
     "output_type": "execute_result"
    }
   ],
   "source": [
    "Esorted[0:5] # look at the lowest eigenvalues"
   ]
  },
  {
   "cell_type": "code",
   "execution_count": 8,
   "metadata": {
    "slideshow": {
     "slide_type": "skip"
    }
   },
   "outputs": [
    {
     "data": {
      "text/plain": [
       "11.999999999999988"
      ]
     },
     "execution_count": 8,
     "metadata": {},
     "output_type": "execute_result"
    }
   ],
   "source": [
    "Esorted[-1]-Esorted[0] # Total band width"
   ]
  },
  {
   "cell_type": "code",
   "execution_count": 9,
   "metadata": {
    "slideshow": {
     "slide_type": "skip"
    }
   },
   "outputs": [
    {
     "data": {
      "text/plain": [
       "(18, 19, 45, 46, 20)"
      ]
     },
     "execution_count": 9,
     "metadata": {},
     "output_type": "execute_result"
    }
   ],
   "source": [
    "ordering[0:5] # this just shows that we had to reorder them"
   ]
  },
  {
   "cell_type": "markdown",
   "metadata": {
    "slideshow": {
     "slide_type": "subslide"
    }
   },
   "source": [
    "Now we can look at our sorted eigenvalues, and note that there are exactly $N$ of them."
   ]
  },
  {
   "cell_type": "markdown",
   "metadata": {
    "slideshow": {
     "slide_type": "fragment"
    }
   },
   "source": [
    "<img src='energy_levels.jpg'>"
   ]
  },
  {
   "cell_type": "code",
   "execution_count": 10,
   "metadata": {
    "slideshow": {
     "slide_type": "skip"
    }
   },
   "outputs": [
    {
     "data": {
      "image/png": "[encoded data removed]",
      "text/plain": [
       "<matplotlib.figure.Figure at 0x70bcc4308d68>"
      ]
     },
     "metadata": {},
     "output_type": "display_data"
    }
   ],
   "source": [
    "plt.plot(Esorted,marker='x');\n",
    "plt.ylabel(r'$E_n (eV)$');\n",
    "plt.xlabel(r'Energy state number');\n",
    "plt.savefig('energy_levels.jpg')"
   ]
  },
  {
   "cell_type": "markdown",
   "metadata": {
    "slideshow": {
     "slide_type": "fragment"
    }
   },
   "source": [
    "Things to notice \n",
    "\n",
    "- apart from the first and last values, there are two states of the same energy (degenerate states)\n",
    "- the density of states (number of states in an energy range) is larger for lower and higher values\n",
    "- the distribution of values looks like it might be described by a simple rule\n",
    "- the eigenvalues cover an energy range of $4t$."
   ]
  },
  {
   "cell_type": "markdown",
   "metadata": {
    "slideshow": {
     "slide_type": "subslide"
    }
   },
   "source": [
    "Let us take a look at the first few eigenfunctions - I'll only print one of the pairs of degenerate orbitals.\n",
    "\n",
    "What we show is the values of $c_i$ - the coefficients of the atomic orbitals in the states.\n",
    "\n",
    "<img src='eigenvectors.jpg'>"
   ]
  },
  {
   "cell_type": "code",
   "execution_count": 11,
   "metadata": {
    "slideshow": {
     "slide_type": "skip"
    }
   },
   "outputs": [
    {
     "data": {
      "image/png": "[encoded data removed]",
      "text/plain": [
       "<matplotlib.figure.Figure at 0x70bc9d5ec7f0>"
      ]
     },
     "metadata": {},
     "output_type": "display_data"
    }
   ],
   "source": [
    "for i in range(0,10,2):\n",
    "    plt.plot(C[:,ordering[i]],marker='',linestyle='--', label=i); \n",
    "    \n",
    "plt.ylim((-0.3,0.3));\n",
    "plt.ylabel(r'$C_n$')\n",
    "plt.xlabel(r'$n$')\n",
    "plt.legend();\n",
    "plt.savefig('eigenvectors.jpg')"
   ]
  },
  {
   "cell_type": "markdown",
   "metadata": {
    "slideshow": {
     "slide_type": "subslide"
    }
   },
   "source": [
    "These look quite familiar(?)!\n",
    "\n",
    "Lets look at not the lowest state, but the two just above it in energy:"
   ]
  },
  {
   "cell_type": "markdown",
   "metadata": {
    "slideshow": {
     "slide_type": "fragment"
    }
   },
   "source": [
    "<img src='states_2_and_3.jpg'>"
   ]
  },
  {
   "cell_type": "code",
   "execution_count": 12,
   "metadata": {
    "slideshow": {
     "slide_type": "skip"
    }
   },
   "outputs": [
    {
     "data": {
      "image/png": "[encoded data removed]",
      "text/plain": [
       "<matplotlib.figure.Figure at 0x70bc9d5ecc88>"
      ]
     },
     "metadata": {},
     "output_type": "display_data"
    }
   ],
   "source": [
    "for i in range(1,3):\n",
    "    plt.plot(C[:,ordering[i]],marker='x',linestyle='--', label=i); \n",
    "    \n",
    "plt.ylim((-0.3,0.3));\n",
    "plt.ylabel(r'$C_n$')\n",
    "plt.xlabel(r'$n$')\n",
    "plt.legend();\n",
    "plt.savefig('states_1_and_2.jpg')"
   ]
  },
  {
   "cell_type": "markdown",
   "metadata": {
    "slideshow": {
     "slide_type": "subslide"
    }
   },
   "source": [
    "These look like a pair of sine and cosine functions, with with a period of the whole chain.\n",
    "\n",
    "Lets look at the next two states:"
   ]
  },
  {
   "cell_type": "markdown",
   "metadata": {},
   "source": [
    "<img src='states_4_and_5.jpg'>"
   ]
  },
  {
   "cell_type": "code",
   "execution_count": 13,
   "metadata": {
    "slideshow": {
     "slide_type": "skip"
    }
   },
   "outputs": [
    {
     "data": {
      "image/png": "[encoded data removed]",
      "text/plain": [
       "<matplotlib.figure.Figure at 0x70bc9d600828>"
      ]
     },
     "metadata": {},
     "output_type": "display_data"
    }
   ],
   "source": [
    "for i in range(3,5):\n",
    "    plt.plot(C[:,ordering[i]],marker='x',linestyle='--', label=i); \n",
    "    \n",
    "plt.ylim((-0.3,0.3));\n",
    "plt.ylabel(r'$C_n$')\n",
    "plt.xlabel(r'$n$')\n",
    "plt.legend();\n",
    "plt.savefig('states_4_and_5.jpg')"
   ]
  },
  {
   "cell_type": "markdown",
   "metadata": {
    "slideshow": {
     "slide_type": "subslide"
    }
   },
   "source": [
    "Now remember our actual wavefunction is \n",
    "\n",
    "\\begin{align}\n",
    "\\psi(x) = \\sum_i C_i \\phi_i(x)\n",
    "\\end{align}\n",
    "\n",
    "so we have atomic orbitals, whose contribution to the wavefunction is modulated by waves that fit the periodicity of the system."
   ]
  },
  {
   "cell_type": "markdown",
   "metadata": {
    "slideshow": {
     "slide_type": "slide"
    }
   },
   "source": [
    "# Analytical solution\n",
    "\n",
    "Another way of writing pairs of sin and cosine functions is as pairs of complex exponentials.\n",
    "\n",
    "We could try a solution to our set of equations of the form \n",
    "\n",
    "<div style=\"background-color:Gold; margin-left: 20px; margin-right: 20px; padding-bottom: 8px; padding-left: \n",
    "8px; padding-right: 8px; padding-top: 8px; border-radius: 25px;\">\n",
    "\\begin{align}\n",
    "C_{n} = \\frac{e^{-ikna}}{\\sqrt{N}}\n",
    "\\end{align}\n",
    "</div>\n",
    "\n",
    "the $\\sqrt{N}$ is to ensure the probability of an electron that occupies an orbital being 1 over all space (normalisation).\n",
    "\n",
    "We plug our guess solution and matrix form of the Hamiltonian into the LHS of the Schroedinger equation, and using the properties of the Kronecker delta we get: \n",
    "\n",
    "\\begin{align}\n",
    "\\sum_j H_{mj} C_j & = \\sum_j \\delta_{m,j} (\\epsilon + V_0) C_j - \\sum_j t(\\delta_{m+1,j} + \\delta_{m-1,j}) C_j \\\\\n",
    "                  & = (\\epsilon + V_0) \\frac{e^{-ikma}}{\\sqrt{N}} - t \\Bigg(\\frac{e^{-ik(m+1)a}}{\\sqrt{N}} + \\frac{e^{-ik(m-1)a}}{\\sqrt{N}} \\Bigg)\n",
    "\\end{align}\n",
    "\n",
    "and the right hand side is \n",
    "\n",
    "\\begin{align}\n",
    "E \\frac{e^{-ikma}}{\\sqrt{N}}\n",
    "\\end{align}."
   ]
  },
  {
   "cell_type": "markdown",
   "metadata": {
    "slideshow": {
     "slide_type": "subslide"
    }
   },
   "source": [
    "\\begin{align}\n",
    "(\\epsilon + V_0) \\frac{e^{-ikma}}{\\sqrt{N}} - t \\Bigg(\\frac{e^{-ik(m+1)a}}{\\sqrt{N}} + \\frac{e^{-ik(m-1)a}}{\\sqrt{N}} \\Bigg) = E \\frac{e^{-ikma}}{\\sqrt{N}}\n",
    "\\end{align}\n",
    "\n",
    "then dividing both sides by $\\frac{e^{-ikma}}{\\sqrt{N}}$ we get\n",
    "\n",
    "\\begin{align}\n",
    "(\\epsilon + V_0) - t \\Bigg(\\frac{e^{-ika}}{\\sqrt{N}} + \\frac{e^{+ika}}{\\sqrt{N}} \\Bigg) & = E \\\\\n",
    "(\\epsilon + V_0) - 2t \\cos(ka) = E\n",
    "\\end{align}\n",
    "\n",
    "This gives us\n",
    "<div style=\"background-color:Gold; margin-left: 20px; margin-right: 20px; padding-bottom: 8px; padding-left: \n",
    "8px; padding-right: 8px; padding-top: 8px; border-radius: 25px;\">\n",
    "<h4>\n",
    "Electronic 'dispersion' relation (for a 1D chain of s type orbitals)\n",
    "</h4>\n",
    "$$\n",
    "E = (\\epsilon + V_0) - 2t \\cos(ka) \n",
    "$$\n",
    "</div>\n",
    "\n",
    "We have effectively fourier transformed our equations, and this has led to a set of algebraic equations that can be solved."
   ]
  },
  {
   "cell_type": "markdown",
   "metadata": {
    "slideshow": {
     "slide_type": "slide"
    }
   },
   "source": [
    "# Quantisation of $k$\n",
    "\n",
    "Now, because of the periodic symmetry of our system (all the atoms are the same), we can argue that \n",
    "\\begin{align}\n",
    "k \\to k + 2 \\pi / a \n",
    "\\end{align}\n",
    "\n",
    "should give a physically identical system. \n",
    "<img src='https://upload.wikimedia.org/wikipedia/commons/f/f4/Electron_wave_doubling_over.png'>"
   ]
  },
  {
   "cell_type": "markdown",
   "metadata": {
    "slideshow": {
     "slide_type": "subslide"
    }
   },
   "source": [
    "To see this we substitute this into our wavefunctions\n",
    "\n",
    "$$\n",
    "C_{n} = \\frac{e^{-i(k+2\\pi / a) na}}{\\sqrt{N}} = \\frac{e^{-ik na}e^{-i2\\pi n}}{\\sqrt{N}} = \\frac{e^{-ik na}}{\\sqrt{N}} \n",
    "$$\n",
    "\n",
    "And further, as we have $N$ sites to get physically identical solutions we require that $k = \\frac{2 \\pi m} { N a }, m = 0, \\pm 1, \\pm 2 \\ldots, \\frac{N}{2}$, similarly to the free electron case in the Sommerfeld model. \n",
    "\n",
    "This corresponds to choosing a range $-\\pi/a \\lt k \\leq \\pi/a$ with $k$ values separated by $\\frac{2 \\pi} { N a }$.\n",
    "\n",
    "With this restriction (quantization) we have $N$ energy levels from our $N$ initial atomic orbitals, and they are indeed the atomic orbitals modulated by the running waves we guessed at from the computational section. "
   ]
  },
  {
   "cell_type": "code",
   "execution_count": 14,
   "metadata": {
    "slideshow": {
     "slide_type": "skip"
    }
   },
   "outputs": [
    {
     "data": {
      "image/png": "[encoded data removed]",
      "text/plain": [
       "<matplotlib.figure.Figure at 0x70bc9d5142e8>"
      ]
     },
     "metadata": {},
     "output_type": "display_data"
    }
   ],
   "source": [
    "plt.plot(Esorted,marker='x');\n",
    "plt.ylabel(r'$E_n (eV)$');\n",
    "plt.xlabel(r'Energy state number');"
   ]
  },
  {
   "cell_type": "markdown",
   "metadata": {
    "slideshow": {
     "slide_type": "subslide"
    }
   },
   "source": [
    "If we look back at the energy levels we got by computational diagonalisation\n",
    "\n",
    "<img src='energy_levels.jpg'>"
   ]
  },
  {
   "cell_type": "markdown",
   "metadata": {
    "slideshow": {
     "slide_type": "fragment"
    }
   },
   "source": [
    "We can see that our calculated values do describe a cosine function, the bandwidth is $4t$ and the pairs of degenerate values are (combinations) of those for which $k = \\pm m$. \n",
    "\n",
    "On the other hand, the spacing of levels is of the order $\\Delta E = 2t 2 \\pi a / Na$ (using a small angle approx for cos($ka$)) as $N$ tends to a macroscopic size, say Avagadro's Number, this means the level spacing is of the order  $\\Delta E \\approx 2t 2 \\pi a/ Na \\approx 12 t / N \\sim 10^{-22} \\textrm{ eV}$.\n",
    "\n",
    "So even though $k$ is discrete, in practice it behaves as a continous variable, which is why we often (must) replace a sum over $k$ with an integral. "
   ]
  },
  {
   "cell_type": "markdown",
   "metadata": {
    "slideshow": {
     "slide_type": "slide"
    }
   },
   "source": [
    "# Electron filling\n",
    "\n",
    "Now that we have the energy levels, we need to feed electrons into them, until we have the correct number.\n",
    "\n",
    "If we remember our rules that at very low temperature, the occupations the $i^{th}$ orbital with energy $\\epsilon_i$ is given by\n",
    "\n",
    "\\begin{align}\n",
    "N_i = \n",
    "  \\begin{cases} \n",
    "      \\hfill 2   \\hfill & \\text{ if $\\epsilon_i < E_f$} \\\\\n",
    "      \\hfill 1 \\hfill & \\text{ if $\\epsilon_i = E_f$} \\\\\n",
    "      \\hfill 0 \\hfill & \\text{ if $\\epsilon_i > E_f$} \\\\\n",
    "  \\end{cases}\n",
    "\\end{align}\n",
    "\n",
    "this mean that if we have $N$ states and $N$ electrons to feed into them we will half fill the band.\n",
    "\n",
    "The situation will be (rather) similar to the free electron case. \n",
    "\n",
    "At higher $T$s the occupations will be smeared out over a width of $\\approx k_B T$ and only electrons within $\\approx k_B T$ of $E_F$ will be 'active', i.e. will contribute to transport etc.\n",
    "\n",
    "If we had two electrons per atom, all $N$ states would be fully filled. There would be no available states for electrons to thermally excite into, and no transport! \n",
    "\n",
    "Full bands can effectively be ignored for many reasons."
   ]
  },
  {
   "cell_type": "markdown",
   "metadata": {
    "slideshow": {
     "slide_type": "slide"
    }
   },
   "source": [
    "# Effective Mass\n",
    "\n",
    "We now show that near the top and bottom of the band, electrons behave similarly to free-electrons.\n",
    "\n",
    "Taking our dispersion relation\n",
    "\n",
    "$$\n",
    "E = (\\epsilon + V_0) - 2t \\cos(ka) \n",
    "$$\n",
    "\n",
    "and making a small angle expansion of the cosine, ($\\cos x \\approx 1 - x^2/2$) we get\n",
    "\n",
    "$$\n",
    "E = (\\epsilon + V_0) - 2t + ta^2k^2\n",
    "$$\n",
    "\n",
    "if you remember, the dispersion relation for free electrons was similar\n",
    "\n",
    "$$\n",
    "E_{\\rm{free}} = \\frac{\\hbar^2 k^2}{2m_e}\n",
    "$$\n",
    "\n"
   ]
  },
  {
   "cell_type": "markdown",
   "metadata": {
    "slideshow": {
     "slide_type": "subslide"
    }
   },
   "source": [
    "so our tight-binding dispersion relation near the bottom of the band would look similar to the free-electron model if we define an effective mass\n",
    "\n",
    "$$\n",
    "m^* = \\frac{\\hbar^2}{2ta^2}\n",
    "$$\n",
    "\n",
    "then our dispersion relation near the bottom of the band looks like\n",
    "\n",
    "$$\n",
    "E_{\\rm{tight}} = \\frac{\\hbar^2 k^2}{2m^*}\n",
    "$$\n",
    "\n",
    "We can take the top of the band, and expand around $k = \\pi/a$ instead of 0 to get a similar relation at the top of the band.\n",
    "\n",
    "This gives a hint why the free-electron model is still useful - near the top and bottom of bands, electrons behave rather similarly to free electrons in many ways, but with a modified effective mass."
   ]
  },
  {
   "cell_type": "markdown",
   "metadata": {
    "slideshow": {
     "slide_type": "slide"
    }
   },
   "source": [
    "# Multiple orbitals - characterisation of materials\n",
    "\n",
    "In reality atoms have multiple electrons and multiple atomic orbitals.\n",
    "\n",
    "The orbitals will form their own bands, which could overlap (in the 2 or 3D case: technically this can't really happen in 1D) in energy. The pattern of bands will depend on the hopping integrals, and the atomic energies, which will in principle be different for different atoms and different orbitals and orbital pairs in the crystal.<br><br>\n",
    "\n",
    "<div style=\"background-color:Gold; margin-left: 20px; margin-right: 20px; padding-bottom: 8px; padding-left: \n",
    "8px; padding-right: 8px; padding-top: 8px; border-radius: 25px;\">\n",
    "<h4>\n",
    "This gives us an approximate characterisation scheme for materials.\n",
    "</h4>\n",
    "\n",
    "<li> Metals, have a partially filled band(s). This means that electrons around the fermi level are active electrically and thermally.</li><br>\n",
    "<li> Insulators have all bands fully occupied or empty and the energy gap between the highest occupied band state and the lowest unoccupied band state is very large ($5$ eV, well into the UV range).</li><br>\n",
    "<li> Semiconductors are similar to insulators, but the \"bandgap\" is smaller - archetype is Silicon with bandgap $\\approx 1.2$ eV. We'll see later that this means in practice that some electrons will be promoted to the empty band, and some conductivity will appear.</li>\n",
    "</div>"
   ]
  },
  {
   "cell_type": "markdown",
   "metadata": {
    "slideshow": {
     "slide_type": "slide"
    }
   },
   "source": [
    "# Links\n",
    "\n",
    "Steven Simon's lecture\n",
    "\n",
    "https://podcasts.ox.ac.uk/08-microscopic-view-electrons-solids-one-dimension-tight-binding-chain\n",
    "    "
   ]
  },
  {
   "cell_type": "markdown",
   "metadata": {
    "slideshow": {
     "slide_type": "slide"
    }
   },
   "source": [
    "# Summary\n",
    "\n",
    "- we've used a tight binding approach to calculate and examine the wavefunctions and energies of a 1D chain of atoms.\n",
    "- the 'dispersion' of the band is $E = \\epsilon + V_0 + 2t\\cos(ka)$\n",
    "- the bandwidth is $4t$.\n",
    "- there are $N$, where $N$ is the number of atoms (assuming each contributes 1 orbital function).\n",
    "- the states are a product of something that repeats with the period of the atomic constituents ($\\phi_i$) and running waves that extend over the chain which modulate over its entire length."
   ]
  }
 ],
 "metadata": {
  "anaconda-cloud": {},
  "celltoolbar": "Slideshow",
  "kernelspec": {
   "display_name": "Python 3",
   "language": "python",
   "name": "python3"
  },
  "language_info": {
   "codemirror_mode": {
    "name": "ipython",
    "version": 3
   },
   "file_extension": ".py",
   "mimetype": "text/x-python",
   "name": "python",
   "nbconvert_exporter": "python",
   "pygments_lexer": "ipython3",
   "version": "3.6.1"
  }
 },
 "nbformat": 4,
 "nbformat_minor": 1
}
