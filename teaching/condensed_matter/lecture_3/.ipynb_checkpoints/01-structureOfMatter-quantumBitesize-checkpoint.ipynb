{
 "cells": [
  {
   "cell_type": "markdown",
   "metadata": {
    "slideshow": {
     "slide_type": "slide"
    }
   },
   "source": [
    "# 02 - structure of matter \n",
    "\n",
    "<div style=\"background-color:Gold; margin-left: 20px; margin-right: 20px; padding-bottom: 8px; padding-left: \n",
    "8px; padding-right: 8px; padding-top: 8px; border-radius: 25px;\">\n",
    "<li>We will derive the matrix form of Quantum Mechanics</li>\n",
    "<li>and use it to explain covalent bonding in the Molecular Orbital picture</li>\n",
    "<li>the same procedure will allow us to use the tight-binding model of crystals</li>\n",
    "</div>\n",
    "\n"
   ]
  },
  {
   "cell_type": "markdown",
   "metadata": {
    "slideshow": {
     "slide_type": "slide"
    }
   },
   "source": [
    "<div style=\"background-color:Gold; margin-left: 20px; margin-right: 20px; padding-bottom: 8px; padding-left: \n",
    "8px; padding-right: 8px; padding-top: 8px; border-radius: 25px;\">\n",
    "\n",
    "We take as a given the time independent form of the Schroedinger wave equation\n",
    "\n",
    "$$\n",
    "\\hat{H} \\psi = E \\psi\n",
    "$$\n",
    "\n",
    "We make the Hamiltonian (operator) by taking the classical expression for the Hamiltonian (energy), and substituting\n",
    "\n",
    "$$\n",
    "x \\to \\hat{x}, y \\to \\hat{y}, z \\to \\hat{z}\n",
    "$$\n",
    "\n",
    "and for the linear momenta,\n",
    "\n",
    "$$\n",
    "p_x = i\\hbar \\frac{\\partial}{\\partial x}, p_y = i\\hbar \\frac{\\partial}{\\partial y}, p_z = i\\hbar \\frac{\\partial}{\\partial z}\n",
    "$$\n",
    "\n",
    "how do we find solutions to the equation?\n",
    "</div>"
   ]
  },
  {
   "cell_type": "markdown",
   "metadata": {
    "slideshow": {
     "slide_type": "slide"
    }
   },
   "source": [
    "# General matrix formulation\n",
    "\n",
    "We have  a Hamiltonian operator $\\hat H$.\n",
    "\n",
    "We try to find solutions to the Schroedinger equation of the form\n",
    "\n",
    "$$\n",
    "\\psi = \\sum_i c_i \\phi_i\n",
    "$$\n",
    "\n",
    "where the $\\phi_i$ are functions we know - maybe solutions to the atomic problem, for instance, and the $c_i$ are complex coefficients. \n",
    "\n",
    "We assume the $\\phi$ are orthonormal\n",
    "\n",
    "$$\n",
    "\\int d^3x \\phi_i^* \\phi_j = \\delta_{ij}\n",
    "$$\n",
    "\n"
   ]
  },
  {
   "cell_type": "markdown",
   "metadata": {
    "slideshow": {
     "slide_type": "slide"
    }
   },
   "source": [
    "We substitute our guess into the time-independent Schroedinger equation\n",
    "\n",
    "\\begin{align}\n",
    "H \\psi  & = E \\psi \\\\\n",
    "H \\sum_j c_j \\phi_j  & = E \\sum_j c_j \\phi_j \n",
    "\\end{align}\n",
    "\n",
    "now we multiply on the left by $\\psi^*$ and integrate over all space\n",
    "\n",
    "\\begin{align}\n",
    "\\int d^3x\\sum_i c_i^* \\phi_i^* H \\sum_j c_j \\phi_j & = E \\int d^3x \\sum_i c_i^* \\phi_i^* \\sum_j c_j \\phi_j \\\\\n",
    "\\int d^3x\\sum_i \\sum_j c_i^* c_j \\phi_i^* H \\phi_j & = E \\int d^3x \\sum_i \\sum_j c_i^* c_j \\phi_j^* \\phi_j\n",
    "\\end{align}\n",
    "\n",
    "now, because of orthogonality, we have $\\int d^3x \\phi_i^* \\phi_j = \\delta_{ij}$, so we can lose one of the sums and the integral on the right hand side\n",
    "\n",
    "\\begin{align}\n",
    "\\int d^3x \\sum_i \\sum_j c_i^* c_j \\phi_i^* H \\phi_j & = E \\int d^3x \\sum_i \\sum_j c_i^* c_j \\phi_i^* \\phi_j \\\\\n",
    "\\int d^3x \\sum_i \\sum_j c_i^* c_j \\phi_i^* H \\phi_j & = E \\sum_k c_k^* c_k \n",
    "\\end{align}\n",
    "\n"
   ]
  },
  {
   "cell_type": "markdown",
   "metadata": {
    "slideshow": {
     "slide_type": "slide"
    }
   },
   "source": [
    "### Variation of parameters\n",
    "\n",
    "now the trick - we differentiate with respect to $c_i^*$. The only thing that depends upon $c_i^*$ is $c_i^*$ and we dramatically simplify our equations. \n",
    "\n",
    "\\begin{align}\n",
    "\\frac{\\partial}{\\partial c_i^* } \\int d^3x \\sum_i \\sum_j c_i^* c_j \\phi_i^* H \\phi_j & = \\frac{\\partial}{\\partial c_i^* } E  \\sum_k c_k^* c_k  \\\\\n",
    "\\int d^3x \\sum_j c_j \\phi_i^* H \\phi_j & = E c_i \\\\\n",
    "\\sum_j \\int d^3x \\phi_i^* H \\phi_j c_j & = E c_i \\\\\n",
    "\\sum_j H_{ij} c_j & = E c_i \\\\\n",
    "\\implies H C & = E C\n",
    "\\end{align}\n",
    "\n",
    "Now $H$ is a matrix with elements $H_{ij} = \\int d^3x \\phi_i^* H \\phi_j $ and $C$ a column vector with elements $c_i$.\n",
    "\n",
    "Notice that this looks like the Schroedinger equation again - but now we are dealing with matrices and vectors rather than differential equations.\n",
    "\n",
    "In fact it is quite clearly an eigenvalue problem now, and you can use the techniques you learnt last year to solve for $C$ and $E$. \n",
    "\n",
    "The $E$ values give us the energy levels of the system - they are then filled according to Fermi-Dirac statistics."
   ]
  },
  {
   "cell_type": "markdown",
   "metadata": {
    "slideshow": {
     "slide_type": "slide"
    }
   },
   "source": [
    "# Matrix formulation of Quantum Mechanics\n",
    "\n",
    "what we have just done is the way most real quantum mechanical calculations are done. The Schroedinger wave equation itself is almost never used. Now the coeffiecients $C$ effectively describe our wavefunction.\n",
    "\n",
    "Instead we have a matrix fomulation of QM, which is associated with the names Heisenberg and Born.\n",
    "\n",
    "The matrix form of the Hamiltonian has elements that have the elements of our trial wavefunction sandwiching the operator.\n",
    "\n",
    "This form of the matrix equation is the same every time, and the full derivation doesn't need to be done, we can just write down the matrix elements in many cases. \n",
    "\n",
    "Actually, much theoretical work involves building models to explore by assuming forms of the Hamiltonian and values for matrix elements to describe the important physics of a problem."
   ]
  },
  {
   "cell_type": "markdown",
   "metadata": {
    "slideshow": {
     "slide_type": "slide"
    }
   },
   "source": [
    "<div style=\"background-color:Gold; margin-left: 20px; margin-right: 20px; padding-bottom: 8px; padding-left: \n",
    "8px; padding-right: 8px; padding-top: 8px; border-radius: 25px;\">\n",
    "\n",
    "We take as a given the time independent form of the Schroedinger equation\n",
    "\n",
    "$$\n",
    "\\hat{H} \\psi = E \\psi\n",
    "$$\n",
    "\n",
    "We make the Hamiltonian (operator) by taking the classical expression for the Hamiltonian (energy), and substituting\n",
    "\n",
    "$$\n",
    "x \\to \\hat{x}, y \\to \\hat{y}, z \\to \\hat{z}\n",
    "$$\n",
    "\n",
    "and for the linear momenta,\n",
    "\n",
    "$$\n",
    "p_x = i\\hbar \\frac{\\partial}{\\partial x}, p_y = i\\hbar \\frac{\\partial}{\\partial y}, p_z = i\\hbar \\frac{\\partial}{\\partial z}\n",
    "$$\n",
    "</div>\n",
    "\n",
    "\n"
   ]
  },
  {
   "cell_type": "markdown",
   "metadata": {
    "slideshow": {
     "slide_type": "slide"
    }
   },
   "source": [
    "<div style=\"background-color:Gold; margin-left: 20px; margin-right: 20px; padding-bottom: 8px; padding-left: \n",
    "8px; padding-right: 8px; padding-top: 8px; border-radius: 25px;\">\n",
    "\n",
    "\n",
    "We take a trial wavefunction\n",
    "$$\n",
    "\\psi = \\sum_i c_i \\phi_i,\n",
    "$$\n",
    "\n",
    "operate on it with the Hamiltonian operator, then multiply on the left by the complex conjugate of $\\psi$ and integrate over all space. Finally we differentiate with respect to each $c_i^*$ to get a series of equations that read\n",
    "\n",
    "$$\n",
    "\\sum_j H_{ij} c_j = E c_i\n",
    "$$\n",
    "\n",
    "where\n",
    "\n",
    "$$\n",
    "H_{ij} = \\int d^3x \\phi_i \\hat{H} \\phi_j\n",
    "$$\n",
    "\n",
    "where $\\phi_i, \\phi_j$ are all the functions that make up our trial wavefunction. \n",
    "</div>\n",
    "\n",
    "<br><br>\n",
    "\n",
    "<div style=\"background-color:Gold; margin-left: 20px; margin-right: 20px; padding-bottom: 8px; padding-left: \n",
    "8px; padding-right: 8px; padding-top: 8px; border-radius: 25px;\">\n",
    "\n",
    "In matrix notation this reads\n",
    "\n",
    "$$\n",
    "HC = EC\n",
    "$$\n",
    "\n",
    "This has solutions given by solving the characteristic equations (secular equations) given by\n",
    "\n",
    "$$\n",
    "| H_{ij} - \\delta_{ij} E | = 0\n",
    "$$\n",
    "\n",
    "where $| H_{ij} - \\delta_{ij} E |$ is short hand for the determinant of the matrix $H - EI$.\n",
    "<br><br>\n",
    "When we have the energy levels, we fill them according to Fermi-Dirac statistics.\n",
    "</div>"
   ]
  },
  {
   "cell_type": "markdown",
   "metadata": {
    "slideshow": {
     "slide_type": "slide"
    }
   },
   "source": [
    "# Electron gas\n",
    "\n",
    "Let's look at the Sommerfeld model of an electron gas and use it to build an approximate quantum theory:) This is a bit long-winded, but it shows that this is just a special case of our standard QM method.\n",
    "\n",
    "In our case the classical Hamiltonian, the sum of kinetic and potential energy, $T + U$, is just $\\frac{\\mathbf{p}^2}{2m}$ (i.e. $U$ = 0) so we get\n",
    "\n",
    "\\begin{align}\n",
    "\\hat{H} = \\frac{\\mathbf{p}^2}{2m} & = -\\frac{\\hbar^2}{2m} \\left(\\frac{\\partial}{\\partial x}\\mathbf{i} + \\frac{\\partial}{\\partial y}\\mathbf{j} + \\frac{\\partial}{\\partial z}\\mathbf{k} \\right).\\left(\\frac{\\partial}{\\partial x}\\mathbf{i} + \\frac{\\partial}{\\partial y}\\mathbf{j} + \\frac{\\partial}{\\partial z}\\mathbf{k} \\right)\\\\\n",
    "& = -\\frac{\\hbar^2}{2m} \\left(\\frac{\\partial ^2}{\\partial x^2} + \\frac{\\partial ^2}{\\partial y^2} + \\frac{\\partial ^2}{\\partial z^2} \\right)\\\\\n",
    "& = -\\frac{\\hbar^2}{2m} \\nabla^2\n",
    "\\end{align}\n",
    "\n",
    "this only makes sense if it operates on something, which we'll call $\\psi$, our trial wavefunction. \n",
    "\n"
   ]
  },
  {
   "cell_type": "markdown",
   "metadata": {
    "slideshow": {
     "slide_type": "slide"
    }
   },
   "source": [
    "Lets operate on the trial wavefunction\n",
    "\n",
    "$$\n",
    "\\psi = \\sum_\\mathbf{k} c_\\mathbf{k} \\phi_\\mathbf{k},\\text{ where } \\phi_\\mathbf{k}(x,y,z) = \\frac{1}{\\sqrt{V}}e^{i\\mathbf{k}.\\mathbf{r}}= \\frac{1}{\\sqrt{V}}e^{i(k_x x + k_y y + k_z z)} = \\frac{1}{\\sqrt{V}}e^{ik_x x} e^{ik_y y} e^{ik_z z}\n",
    "$$\n",
    "\n",
    "a sum of plane waves. \n",
    "\n",
    "To make the waves fit nicely in our box of dimension $L^3$ we insist that  \n",
    "\n",
    "$$\n",
    "k_x = \\frac{2 \\pi p}{L}, k_y = \\frac{2 \\pi q}{L}, k_z = \\frac{2 \\pi r}{L}, p,q,r \\in \\mathbb{Z}\n",
    "$$\n",
    "\n"
   ]
  },
  {
   "cell_type": "markdown",
   "metadata": {
    "slideshow": {
     "slide_type": "slide"
    }
   },
   "source": [
    "What we get is\n",
    "\n",
    "$$\n",
    "\\hat{H} \\psi =  -\\frac{\\hbar^2}{2m} \\sum_\\mathbf{k} -k^2 c_\\mathbf{k} \\phi_\\mathbf{k} = E \\sum_\\mathbf{k} c_\\mathbf{k} \\phi_\\mathbf{k}\n",
    "$$\n",
    "\n",
    "now the trick - we multiply both sides on the left by $\\psi$ (complex conjugate), and integrate over all space. This gives us\n",
    "\n",
    "$$\n",
    "-\\frac{\\hbar^2}{2m} \\int d^3x \\sum_\\mathbf{k'} c_\\mathbf{k'}^* \\phi_\\mathbf{k'}^* \\sum_\\mathbf{k} -k^2 c_\\mathbf{k} \\phi_\\mathbf{k} = E \\int d^3x \\sum_\\mathbf{k'} c_\\mathbf{k'}^* \\phi_\\mathbf{k'}^* \\sum_\\mathbf{k} c_\\mathbf{k} \\phi_\\mathbf{k}\n",
    "$$\n",
    "\n",
    "don't worry it gets better. "
   ]
  },
  {
   "cell_type": "markdown",
   "metadata": {
    "slideshow": {
     "slide_type": "slide"
    }
   },
   "source": [
    "The reason is that our planewaves are orthogonal to each other\n",
    "\n",
    "$$\n",
    "\\int d^3x \\phi_\\mathbf{k'}^*  \\phi_\\mathbf{k} = 0, \\text{ unless } \\mathbf{k'} = \\mathbf{k}\n",
    "$$\n",
    "\n",
    "If  $\\mathbf{k'} = \\mathbf{k}$, then the integral is equal to 1, i.e. the functions are normalised within the box $L^3$.\n",
    "\n",
    "(note that $0, \\text{ unless } \\mathbf{k'} = \\mathbf{k}$, and 1 if they are equal, is normally written $\\delta_{\\mathbf{k'}\\mathbf{k}}$, the Kronecker delta).\n",
    "\n",
    "This means that we can kill off one of the summations and get\n",
    "\n",
    "$$\n",
    "-\\frac{\\hbar^2}{2m} \\sum_\\mathbf{k}  -k^2 c_\\mathbf{k}^* c_\\mathbf{k} = E \\sum_\\mathbf{k} c_\\mathbf{k}^*  c_\\mathbf{k}\n",
    "$$\n",
    "\n",
    "Which at least looks better!"
   ]
  },
  {
   "cell_type": "markdown",
   "metadata": {
    "slideshow": {
     "slide_type": "slide"
    }
   },
   "source": [
    "## Variation of parameters\n",
    "\n",
    "The last step, is to determine the best values of our expansion coefficients $c_{\\mathbf{k}}$. We do this as you would expect, by differentiating with respect to the coefficents $c_{\\mathbf{k}}^*$.\n",
    "\n",
    "In our system we are left with a series of equations of the form, one for each value of $c_{\\mathbf{k}}^*$ for each value of $c_{\\mathbf{k}}^*$ \n",
    "\n",
    "\\begin{align}\n",
    "-\\frac{\\hbar^2 k^2}{2m} c_\\mathbf{k} = E c_\\mathbf{k} \\\\\n",
    "\\implies (\\frac{\\hbar^2 k^2}{2m} + E)c_\\mathbf{k} = 0\n",
    "\\end{align}\n",
    "\n"
   ]
  },
  {
   "cell_type": "markdown",
   "metadata": {
    "slideshow": {
     "slide_type": "slide"
    }
   },
   "source": [
    "Lets say for arguments sake that we just have 4 plane waves, so $\\mathbf{k} = 2 \\pi / L \\{(0,0,0), (1,0,0), (0,1,0), (0,0,1)\\}$. This is a set of linear equations for $c_\\mathbf{k}$ we can write them out in matrix form\n",
    "\n",
    "$$ \n",
    "\\left( \\begin{array}{cccx}\n",
    "E & 0 & 0 & 0\\\\\n",
    "0 & \\frac{\\hbar^2 4 \\pi^2}{2mL^2} + E & 0 & 0\\\\\n",
    "0 & 0 & \\frac{\\hbar^2 4 \\pi^2}{2mL^2} + E & 0\\\\\n",
    "0 & 0 & 0 & \\frac{\\hbar^2 4 \\pi^2}{2mL^2} + E\n",
    "\\end{array} \\right) \n",
    "\\left( \\begin{array}{c}\n",
    "c_{0,0,0}  \\\\\n",
    "c_{1,0,0}  \\\\\n",
    "c_{0,1,0}  \\\\\n",
    "c_{0,0,1}\n",
    "\\end{array} \\right) \n",
    "= 0\n",
    "$$\n",
    "\n",
    "\n",
    "The standard solution to a set of linear equations like this is that the determinant of the matrix must be zero for a set of non-trivial solutions to exist."
   ]
  },
  {
   "cell_type": "markdown",
   "metadata": {
    "slideshow": {
     "slide_type": "slide"
    }
   },
   "source": [
    "In this case, because the matrix is diagonal, we can just read the energies off that make the determinant equal to zero, in general they will be\n",
    "\n",
    "$$\n",
    " E_\\mathbf{k} = -\\frac{\\hbar^2 k^2}{2m}\n",
    "$$\n",
    "\n",
    "We can see that adding in the extra values of $\\mathbf{k}$ will just make the matrix bigger (infinite in fact, but we'll not worry about that).\n",
    "\n",
    "We were lucky (;)) that our matrix was diagonal - this basically means that we guessed the exact wavefunctions!\n",
    "\n",
    "This may seem very long winded, but it is general - and we will use it to explore bonding in molecules and solids."
   ]
  }
 ],
 "metadata": {
  "anaconda-cloud": {},
  "celltoolbar": "Slideshow",
  "kernelspec": {
   "display_name": "Python 3",
   "language": "python",
   "name": "python3"
  },
  "language_info": {
   "codemirror_mode": {
    "name": "ipython",
    "version": 3
   },
   "file_extension": ".py",
   "mimetype": "text/x-python",
   "name": "python",
   "nbconvert_exporter": "python",
   "pygments_lexer": "ipython3",
   "version": "3.5.4"
  }
 },
 "nbformat": 4,
 "nbformat_minor": 1
}
