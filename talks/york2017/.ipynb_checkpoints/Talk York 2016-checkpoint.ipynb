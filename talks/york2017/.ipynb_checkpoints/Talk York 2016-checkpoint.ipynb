{
 "cells": [
  {
   "cell_type": "code",
   "execution_count": null,
   "metadata": {
    "slideshow": {
     "slide_type": "skip"
    }
   },
   "outputs": [],
   "source": [
    "import nbpresent\n",
    "nbpresent.__version__"
   ]
  },
  {
   "cell_type": "code",
   "execution_count": null,
   "metadata": {
    "collapsed": true,
    "nbpresent": {
     "id": "51979b91-ac98-41d3-a507-8a9b62b14d39"
    },
    "slideshow": {
     "slide_type": "skip"
    }
   },
   "outputs": [],
   "source": [
    "from IPython.display import display, HTML"
   ]
  },
  {
   "cell_type": "code",
   "execution_count": null,
   "metadata": {
    "nbpresent": {
     "id": "0a6a6b18-66f7-491d-ba64-a92875bc9e78"
    },
    "slideshow": {
     "slide_type": "skip"
    }
   },
   "outputs": [],
   "source": [
    "HTML(\"\"\"\n",
    "<style>\n",
    "img {border-radius: 8px;\n",
    "}</style>\n",
    "\"\"\")\n"
   ]
  },
  {
   "cell_type": "markdown",
   "metadata": {
    "nbpresent": {
     "id": "9429035f-84ab-497a-a96c-3b45738c912c"
    },
    "slideshow": {
     "slide_type": "slide"
    }
   },
   "source": [
    "# Using Scanning Probe Microscopes and Computational Spectroscopy to\n",
    "- \n",
    "    # 'see' Polarons on TiO$_2$ and \n",
    "- \n",
    "    # reveal 3D Solvation Structures on CaF$_2$\n",
    "\n",
    "\n",
    "\n",
    "<table cellspacing=\"0\" cellpadding=\"0\">\n",
    "<tr><td><img src='images/caco3.png' width=400></td><td><img src='images/lincoln_crest.png' width=200></td></tr>\n",
    "</table>\n",
    "\n",
    "## Matt Watkins, University of Lincoln\n"
   ]
  },
  {
   "cell_type": "markdown",
   "metadata": {
    "slideshow": {
     "slide_type": "fragment"
    }
   },
   "source": [
    "## Lincoln is here\n",
    "\n",
    "<table>\n",
    "<tr><td><img src='images/lincoln_loc.png' width=200></td><td><img src='images/brayford.png' width=200></td><td><img src='images/lincoln_dep.png' width=200></td></tr>\n",
    "</table>\n"
   ]
  },
  {
   "cell_type": "markdown",
   "metadata": {
    "nbpresent": {
     "id": "053610d7-d278-4462-b26b-5a99ffd8e2b3"
    },
    "slideshow": {
     "slide_type": "slide"
    }
   },
   "source": [
    "# Outline\n",
    "\n",
    "- \n",
    "    ### *Scanning probes and motivation*\n",
    "- \n",
    "    Seeing Polarons on TiO$_2$\n",
    "- \n",
    "    Water density on CaF$_2$\n",
    "\n",
    "<img src=\"images/surface_struc.png\" alt=\"rutile surf\" height=\"200\" width=\"400\">"
   ]
  },
  {
   "cell_type": "markdown",
   "metadata": {
    "slideshow": {
     "slide_type": "slide"
    }
   },
   "source": [
    "# Scanning probes\n",
    "\n",
    "<table><tr><td><img src='images/dyn_an16.gif'></td><td><img src='images/ani_stm.gif'></td></tr></table>\n",
    "\n",
    "Atomic force microscopy and Scanning Tunnelling microscopy"
   ]
  },
  {
   "cell_type": "markdown",
   "metadata": {
    "slideshow": {
     "slide_type": "slide"
    }
   },
   "source": [
    "# Polarons\n",
    "\n",
    "are quasiparticles formed from electrons or holes dressed by phonons. \n",
    "\n",
    "![](https://upload.wikimedia.org/wikipedia/commons/thumb/e/ed/Polaron_scheme1.svg/300px-Polaron_scheme1.svg.png)\n",
    "\n",
    "They come in a variety of forms - large, small with names based on the scientists that popularised Hamiltonians describing their behaviour.\n",
    "\n",
    "Their existence and properties strongly affects a materials conductivity and reactivity.\n",
    "\n",
    "- (Photo)catalysis - charge separation\n",
    "- Microelectronics - charge trapping in gate oxide\n",
    "- energy materials - affect redox potentials and speed of response\n",
    "- optical properties\n",
    "- ...\n"
   ]
  },
  {
   "cell_type": "markdown",
   "metadata": {
    "slideshow": {
     "slide_type": "slide"
    }
   },
   "source": [
    "# Outline\n",
    "\n",
    "- \n",
    "    ### Scanning probes and motivation\n",
    "- \n",
    "    ## *Seeing Polarons on TiO$_2$*\n",
    "- \n",
    "    ### Water density on CaF$_2$\n",
    "\n",
    "<img src=\"images/surface_struc.png\" alt=\"rutile surf\" height=\"200\" width=\"400\">"
   ]
  },
  {
   "cell_type": "markdown",
   "metadata": {
    "nbpresent": {
     "id": "b2b66d90-8743-4bfd-aa04-153d9ab0dc5e"
    },
    "slideshow": {
     "slide_type": "slide"
    }
   },
   "source": [
    "# Structure of rutile TiO$_2$ (110) surface\n",
    "\n",
    "TiO$_2$ is *the* model oxide surface. Involved in many useful materials - solar cells, sun cream, ReRam ...\n",
    "\n",
    "- surface preparation\n",
    "\n",
    "![](images/surface_struc.png)"
   ]
  },
  {
   "cell_type": "markdown",
   "metadata": {
    "nbpresent": {
     "id": "484730b7-0089-4e72-b22b-de3937f29e37"
    },
    "slideshow": {
     "slide_type": "subslide"
    }
   },
   "source": [
    "## Special three-step preparation procedure \n",
    "\n",
    "- Fresh TiO2(110) samples (Pi-Kem) ~ninety Ar+ ion sputtering and annealing cycles up to ~1000 K. \n",
    "- Left in the preparation chamber 2×10-10 mbar, at room temperature. Water from the residual vacuum reacts with Ob-vacs, forming two bridging hydroxyls (OHb) for each Ob-vac.\n",
    "- +3 V STM scans are applied to a part of the surface, removing H from the OHb but leaving in place the Ob-vac \n",
    "\n",
    "\n",
    "<img src=\"images/surface_struc.png\" alt=\"rutile surf\" height=\"200\" width=\"300\">\n",
    "\n",
    "We verified that such +3 V scans do not alter the excess electron distributions around the\n",
    "Ob-vacs by comparing images recorded before and after the +3 V scans. We have tested\n",
    "the behavior of this surface via reaction with water and by scanning tunneling microscopy\n",
    "and spectroscopy. No unusual behavior compared to as-prepared surfaces was observed."
   ]
  },
  {
   "cell_type": "markdown",
   "metadata": {
    "nbpresent": {
     "id": "ce303531-4574-4bb0-a61c-8f46244f9aba"
    },
    "slideshow": {
     "slide_type": "slide"
    }
   },
   "source": [
    "# Temperature dependence of Isolated vacancies\n",
    "\n",
    "Heavily reduced sample allows STM imaging at 4K.\n",
    "\n",
    "![](images/prl_fig1.png)\n",
    "\n",
    "Thermal averaging at ~16K."
   ]
  },
  {
   "cell_type": "markdown",
   "metadata": {
    "nbpresent": {
     "id": "2464908b-8e7b-42cc-a0b4-2c2c7398354a"
    },
    "slideshow": {
     "slide_type": "slide"
    }
   },
   "source": [
    "# Manipulation of isolated vacancies\n",
    "\n",
    "\n",
    "![](images/prl_fig2.png)\n",
    "\n",
    "The oxygen vacancies can be moved with a stongly negatively biased tip."
   ]
  },
  {
   "cell_type": "code",
   "execution_count": 1,
   "metadata": {
    "nbpresent": {
     "id": "ba80c02f-8976-43a5-a8d1-03e90200399c"
    },
    "slideshow": {
     "slide_type": "fragment"
    }
   },
   "outputs": [
    {
     "data": {
      "text/html": [
       "<video width=\"520\" height=\"340\" controls>\n",
       "  <source src=\"images/S1.mp4\" type=\"video/mp4\">\n",
       "</video>"
      ],
      "text/plain": [
       "<IPython.core.display.HTML object>"
      ]
     },
     "metadata": {},
     "output_type": "display_data"
    }
   ],
   "source": [
    "%%HTML\n",
    "<video width=\"520\" height=\"340\" controls>\n",
    "  <source src=\"images/S1.mp4\" type=\"video/mp4\">\n",
    "</video>"
   ]
  },
  {
   "cell_type": "markdown",
   "metadata": {
    "nbpresent": {
     "id": "71708c50-eafc-49c9-b9f8-43df3d0fac51"
    },
    "slideshow": {
     "slide_type": "fragment"
    }
   },
   "source": [
    "Note this is reversible"
   ]
  },
  {
   "cell_type": "markdown",
   "metadata": {
    "nbpresent": {
     "id": "624b09ab-c46c-4905-93e7-cf6304f32750"
    },
    "slideshow": {
     "slide_type": "slide"
    }
   },
   "source": [
    "# DFT images of the vacancies\n",
    "\n",
    "![](images/prl_fig3.png)"
   ]
  },
  {
   "cell_type": "markdown",
   "metadata": {
    "nbpresent": {
     "id": "b1062223-74f1-4754-9036-11700d6175a3"
    },
    "slideshow": {
     "slide_type": "slide"
    }
   },
   "source": [
    "# Multiple Vacancy manipulation\n",
    "\n",
    "it is possible to move not just individual vacancies, but to form / split and move complexes\n",
    "\n",
    "- dimer"
   ]
  },
  {
   "cell_type": "code",
   "execution_count": 1,
   "metadata": {
    "nbpresent": {
     "id": "ff25f33b-b30d-4fbf-a467-855b6f3fd114"
    },
    "slideshow": {
     "slide_type": "fragment"
    }
   },
   "outputs": [
    {
     "data": {
      "text/html": [
       "<video width=\"520\" height=\"340\" controls>\n",
       "  <source src=\"images/S2.mp4\" type=\"video/mp4\">\n",
       "</video>"
      ],
      "text/plain": [
       "<IPython.core.display.HTML object>"
      ]
     },
     "metadata": {},
     "output_type": "display_data"
    }
   ],
   "source": [
    "%%HTML\n",
    "<video width=\"520\" height=\"340\" controls>\n",
    "  <source src=\"images/S2.mp4\" type=\"video/mp4\">\n",
    "</video>"
   ]
  },
  {
   "cell_type": "markdown",
   "metadata": {
    "nbpresent": {
     "id": "ea4b6a27-5c71-4107-8ab6-12b1c58b9f35"
    },
    "slideshow": {
     "slide_type": "subslide"
    }
   },
   "source": [
    "- trimer"
   ]
  },
  {
   "cell_type": "code",
   "execution_count": 2,
   "metadata": {
    "nbpresent": {
     "id": "1cd8745e-a2d4-4b5d-84ca-983053903a74"
    },
    "slideshow": {
     "slide_type": "fragment"
    }
   },
   "outputs": [
    {
     "data": {
      "text/html": [
       "<video width=\"520\" height=\"340\" controls>\n",
       "  <source src=\"images/S3.mp4\" type=\"video/mp4\">\n",
       "</video>"
      ],
      "text/plain": [
       "<IPython.core.display.HTML object>"
      ]
     },
     "metadata": {},
     "output_type": "display_data"
    }
   ],
   "source": [
    "%%HTML\n",
    "<video width=\"520\" height=\"340\" controls>\n",
    "  <source src=\"images/S3.mp4\" type=\"video/mp4\">\n",
    "</video>"
   ]
  },
  {
   "cell_type": "markdown",
   "metadata": {
    "slideshow": {
     "slide_type": "slide"
    }
   },
   "source": [
    "# Conclusions\n",
    "\n",
    "- first systematic method to image TiO$_2$ surface at liquid Helium $T$.\n",
    "- first 'direct' observation of freezing in of polaron thermal motion.\n",
    "- controlled manipulation of vacancy and vacancy complexes\n",
    "    - polarons move with the defect centres\n",
    "- observation of potential variations on the oxide surface"
   ]
  },
  {
   "cell_type": "markdown",
   "metadata": {
    "slideshow": {
     "slide_type": "slide"
    }
   },
   "source": [
    "# Outline\n",
    "\n",
    "- \n",
    "    ### Scanning probes and motivation\n",
    "- \n",
    "    ### Seeing Polarons on TiO$_2$\n",
    "- \n",
    "    ## *Water density on CaF$_2$*\n",
    "\n",
    "<img src=\"images/caco3.png\" alt=\"rutile surf\" height=\"200\" width=\"400\">"
   ]
  },
  {
   "cell_type": "markdown",
   "metadata": {
    "slideshow": {
     "slide_type": "slide"
    }
   },
   "source": [
    "# 3D Solvation Structures on CaF$_2$\n",
    "\n",
    "UHV measurements at 4K are all very well, but some applications require a more *fluid* environment\n",
    "\n",
    "- solar cells\n",
    "- batteries\n",
    "- photocathode / anodes\n",
    "\n",
    "and of course study of material processes like weathering, corrosion, catalysis"
   ]
  },
  {
   "cell_type": "code",
   "execution_count": null,
   "metadata": {
    "collapsed": true,
    "slideshow": {
     "slide_type": "slide"
    }
   },
   "outputs": [],
   "source": []
  },
  {
   "cell_type": "markdown",
   "metadata": {
    "slideshow": {
     "slide_type": "slide"
    }
   },
   "source": [
    "## 2 sided strategy: manipulate both experiment and simulation data for comparison\n",
    "\n",
    "![](images/nanoscale2.gif)"
   ]
  },
  {
   "cell_type": "markdown",
   "metadata": {
    "slideshow": {
     "slide_type": "slide"
    }
   },
   "source": [
    "## Theory: Solvent tip model\n",
    "\n",
    "We don't know the actual tip apex - historical problem with AFM.\n",
    "\n",
    "Hypothesize that there are likely strongly bound water molecules at the tip apex - and take them as the tip\n",
    "\n",
    "They feed force back onto the cantilever.\n",
    "\n",
    "![](images/sta1.png)"
   ]
  },
  {
   "cell_type": "markdown",
   "metadata": {
    "slideshow": {
     "slide_type": "slide"
    }
   },
   "source": [
    "## Experiment: fast AFM\n",
    "\n",
    "3D AFM technique and image processing routines for massive speed up in image collection efficiency.\n",
    "\n",
    "<table cellspacing=\"0\" cellpadding=\"0\">\n",
    "<tr>\n",
    "<td><img src='images/hi-speed_afm.jpg' width=800></td>\n",
    "</tr>\n",
    "<tr>\n",
    "<td><img src='images/fast_afm_image_proc2.png' width=800></td>\n",
    "</tr>\n",
    "</table>\n",
    "\n",
    "- Allows image collection within few minutes of exposure of surface to liquid\n",
    "    - (We also use it on the simulation data)\n",
    "- Enables data collection in pure water.\n",
    "- No longer true atomic resolution"
   ]
  },
  {
   "cell_type": "markdown",
   "metadata": {
    "slideshow": {
     "slide_type": "slide"
    }
   },
   "source": [
    "## Experiment: Macroscopic effects\n",
    "\n",
    "removed empirically by subtracting force from averaged long range scan data over several surface locations\n",
    "\n",
    "<table cellspacing=\"0\" cellpadding=\"0\">\n",
    "<tr><td><img src='images/long_range.png' width=800></td></tr>\n",
    "</table>"
   ]
  },
  {
   "cell_type": "markdown",
   "metadata": {
    "slideshow": {
     "slide_type": "slide"
    }
   },
   "source": [
    "## Qualitative comparison of data\n",
    "\n",
    "<table cellspacing=\"0\" cellpadding=\"0\">\n",
    "<tr><td><img src='images/nanoscale1.gif' width=200></td><td><img src='images/nanoscale3.gif' width=600></td></tr>\n",
    "</table>"
   ]
  },
  {
   "cell_type": "markdown",
   "metadata": {
    "slideshow": {
     "slide_type": "slide"
    }
   },
   "source": [
    "<img src=\"images/nanoscale4.gif\" alt=\"caf2_md\" height=\"200\" width=\"600\">"
   ]
  },
  {
   "cell_type": "markdown",
   "metadata": {},
   "source": [
    "# Conclusions\n",
    "\n",
    "- Evidence suggests here that stable tips are not very invasive – measurement of equilibrium water density\n",
    "- Theory vs experiment: short range forces above Ca. Better agreement between implicit tip model and experiment than explicit MD\n",
    "    - better tip models are needed!\n"
   ]
  }
 ],
 "metadata": {
  "anaconda-cloud": {},
  "celltoolbar": "Slideshow",
  "kernelspec": {
   "display_name": "Python 3",
   "language": "python",
   "name": "python3"
  },
  "language_info": {
   "codemirror_mode": {
    "name": "ipython",
    "version": 3
   },
   "file_extension": ".py",
   "mimetype": "text/x-python",
   "name": "python",
   "nbconvert_exporter": "python",
   "pygments_lexer": "ipython3",
   "version": "3.5.3"
  },
  "nbpresent": {
   "slides": {
    "0ebecd45-b732-48b1-9a61-337601b66c36": {
     "id": "0ebecd45-b732-48b1-9a61-337601b66c36",
     "prev": "49d2905f-ea59-4005-bed6-f033338d0c5b",
     "regions": {
      "8ff90a2f-5a6a-43d1-899d-29598d77b4bf": {
       "attrs": {
        "height": 0.8,
        "width": 0.8,
        "x": 0.1,
        "y": 0.1
       },
       "content": {
        "cell": "b2b66d90-8743-4bfd-aa04-153d9ab0dc5e",
        "part": "whole"
       },
       "id": "8ff90a2f-5a6a-43d1-899d-29598d77b4bf"
      }
     },
     "theme": null
    },
    "156a4649-695e-4632-ac1e-bdf5c6a8eacb": {
     "id": "156a4649-695e-4632-ac1e-bdf5c6a8eacb",
     "prev": "29036003-3ff4-4145-ba3d-8caae0b8c76a",
     "regions": {
      "ab06c11b-82c5-4f8b-b7c3-0ab9b705bbb6": {
       "attrs": {
        "height": 1,
        "width": 1,
        "x": 0,
        "y": 0
       },
       "id": "ab06c11b-82c5-4f8b-b7c3-0ab9b705bbb6"
      }
     }
    },
    "29036003-3ff4-4145-ba3d-8caae0b8c76a": {
     "id": "29036003-3ff4-4145-ba3d-8caae0b8c76a",
     "prev": "430e0a2e-5262-4b28-a051-d9a80ffc0355",
     "regions": {
      "121c9c0a-51ef-4075-b917-bde3d68b051b": {
       "attrs": {
        "height": 0.8,
        "width": 0.8,
        "x": 0.1,
        "y": 0.1
       },
       "content": {
        "cell": "2464908b-8e7b-42cc-a0b4-2c2c7398354a",
        "part": "whole"
       },
       "id": "121c9c0a-51ef-4075-b917-bde3d68b051b"
      },
      "51f1f0c2-5e6f-428a-afa6-080a3917978f": {
       "attrs": {
        "height": 0.4,
        "width": 0.8,
        "x": 0.1,
        "y": 0.5
       },
       "content": {
        "cell": "ba80c02f-8976-43a5-a8d1-03e90200399c",
        "part": "whole"
       },
       "id": "51f1f0c2-5e6f-428a-afa6-080a3917978f"
      },
      "79885bdb-2db9-4f4b-b028-f6fb09f8c745": {
       "attrs": {
        "height": 0.4,
        "width": 0.8,
        "x": 0.1,
        "y": 0.5
       },
       "content": {
        "cell": "71708c50-eafc-49c9-b9f8-43df3d0fac51",
        "part": "whole"
       },
       "id": "79885bdb-2db9-4f4b-b028-f6fb09f8c745"
      }
     }
    },
    "430e0a2e-5262-4b28-a051-d9a80ffc0355": {
     "id": "430e0a2e-5262-4b28-a051-d9a80ffc0355",
     "prev": "cd629fad-2962-4ac6-84ed-46b139d27766",
     "regions": {
      "382058fd-edb3-490a-b804-d3610c318664": {
       "attrs": {
        "height": 0.8,
        "width": 0.8,
        "x": 0.1,
        "y": 0.1
       },
       "content": {
        "cell": "ce303531-4574-4bb0-a61c-8f46244f9aba",
        "part": "whole"
       },
       "id": "382058fd-edb3-490a-b804-d3610c318664"
      }
     }
    },
    "49d2905f-ea59-4005-bed6-f033338d0c5b": {
     "id": "49d2905f-ea59-4005-bed6-f033338d0c5b",
     "layout": "grid",
     "prev": "8b698690-b27e-4111-ac36-846bdc87a1c2",
     "regions": {
      "ea9b1897-127f-4bcd-bce0-77cf63f5a3dd": {
       "attrs": {
        "height": 0.8333333333333334,
        "pad": 0.01,
        "width": 0.8333333333333333,
        "x": 0.08333333333333333,
        "y": 0.08333333333333333
       },
       "content": {
        "cell": "053610d7-d278-4462-b26b-5a99ffd8e2b3",
        "part": "whole"
       },
       "id": "ea9b1897-127f-4bcd-bce0-77cf63f5a3dd"
      }
     }
    },
    "4f880d1e-629f-4dc8-a1b6-8422ec97f207": {
     "id": "4f880d1e-629f-4dc8-a1b6-8422ec97f207",
     "prev": "edcdb233-47f6-4dd1-b1ce-ae3fd095777f",
     "regions": {
      "292cbe74-7643-440e-88e3-fe1de96f65c4": {
       "attrs": {
        "height": 0.4,
        "width": 0.8,
        "x": 0.1,
        "y": 0.5
       },
       "content": {
        "cell": "1cd8745e-a2d4-4b5d-84ca-983053903a74",
        "part": "whole"
       },
       "id": "292cbe74-7643-440e-88e3-fe1de96f65c4"
      },
      "46edce44-58c8-4e4e-ae3f-c6a68552a04c": {
       "attrs": {
        "height": 0.8,
        "width": 0.8,
        "x": 0.1,
        "y": 0.1
       },
       "content": {
        "cell": "ea4b6a27-5c71-4107-8ab6-12b1c58b9f35",
        "part": "whole"
       },
       "id": "46edce44-58c8-4e4e-ae3f-c6a68552a04c"
      },
      "9b3fe64e-56bc-4a1e-a954-2f6bb60db681": {
       "attrs": {
        "height": 0.4,
        "width": 0.8,
        "x": 0.1,
        "y": 0.5
       },
       "content": {
        "cell": "39b75b1e-0962-4592-8151-7e58a1c5fb72",
        "part": "whole"
       },
       "id": "9b3fe64e-56bc-4a1e-a954-2f6bb60db681"
      },
      "d16575d1-ab1a-4a9a-b0b6-9f9775d056af": {
       "attrs": {
        "height": 0.4,
        "width": 0.8,
        "x": 0.1,
        "y": 0.5
       },
       "content": {
        "cell": "ad7216ab-f3d9-4e6c-973a-770d7f93fdbc",
        "part": "whole"
       },
       "id": "d16575d1-ab1a-4a9a-b0b6-9f9775d056af"
      }
     }
    },
    "8b698690-b27e-4111-ac36-846bdc87a1c2": {
     "id": "8b698690-b27e-4111-ac36-846bdc87a1c2",
     "prev": null,
     "regions": {
      "ba7683a5-55ca-4ca0-9700-486c9efe30aa": {
       "attrs": {
        "height": 0.8,
        "width": 0.8,
        "x": 0.1,
        "y": 0.1
       },
       "content": {
        "cell": "9429035f-84ab-497a-a96c-3b45738c912c",
        "part": "whole"
       },
       "id": "ba7683a5-55ca-4ca0-9700-486c9efe30aa"
      }
     }
    },
    "cd629fad-2962-4ac6-84ed-46b139d27766": {
     "id": "cd629fad-2962-4ac6-84ed-46b139d27766",
     "prev": "0ebecd45-b732-48b1-9a61-337601b66c36",
     "regions": {
      "9263b49b-2781-4795-9273-9379ab79526d": {
       "attrs": {
        "height": 0.8,
        "width": 0.8,
        "x": 0.1,
        "y": 0.1
       },
       "content": {
        "cell": "484730b7-0089-4e72-b22b-de3937f29e37",
        "part": "whole"
       },
       "id": "9263b49b-2781-4795-9273-9379ab79526d"
      }
     }
    },
    "edcdb233-47f6-4dd1-b1ce-ae3fd095777f": {
     "id": "edcdb233-47f6-4dd1-b1ce-ae3fd095777f",
     "prev": "156a4649-695e-4632-ac1e-bdf5c6a8eacb",
     "regions": {
      "e90bcb75-f5fe-4391-9dec-e444740ff73e": {
       "attrs": {
        "height": 0.8,
        "width": 0.8,
        "x": 0.1,
        "y": 0.1
       },
       "content": {
        "cell": "b1062223-74f1-4754-9036-11700d6175a3",
        "part": "whole"
       },
       "id": "e90bcb75-f5fe-4391-9dec-e444740ff73e"
      },
      "fa3e7a62-63d4-4f10-b7fc-d90b5544d347": {
       "attrs": {
        "height": 0.4,
        "width": 0.8,
        "x": 0.1,
        "y": 0.5
       },
       "content": {
        "cell": "ff25f33b-b30d-4fbf-a467-855b6f3fd114",
        "part": "source"
       },
       "id": "fa3e7a62-63d4-4f10-b7fc-d90b5544d347"
      }
     }
    }
   },
   "themes": {}
  }
 },
 "nbformat": 4,
 "nbformat_minor": 1
}
