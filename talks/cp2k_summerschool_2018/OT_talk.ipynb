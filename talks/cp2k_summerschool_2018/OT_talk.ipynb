{
 "cells": [
  {
   "cell_type": "code",
   "execution_count": null,
   "metadata": {
    "collapsed": true,
    "slideshow": {
     "slide_type": "skip"
    }
   },
   "outputs": [],
   "source": [
    "# Matt Watkins, University of Lincoln 2018"
   ]
  },
  {
   "cell_type": "markdown",
   "metadata": {
    "slideshow": {
     "slide_type": "slide"
    }
   },
   "source": [
    "# SCF Methods — Diagonalisation & Orbital Transformation\n",
    "\n",
    "### CP2K summer school 2018"
   ]
  },
  {
   "cell_type": "markdown",
   "metadata": {
    "slideshow": {
     "slide_type": "slide"
    }
   },
   "source": [
    "## Self Consistent Field (SCF)\n",
    "\n",
    "<div style='display: flex'>\n",
    "<div>\n",
    "<img src='scf_loop.png' style='max-height:400px'>\n",
    "</div>\n",
    "\n",
    "<div style='min-width:400px margin-top:20px'>\n",
    "<ul>\n",
    "<li> Central to the QuickStep (DFT) calculation is the Self-Consistent-Field cycle\n",
    "\\begin{align}\n",
    "H[\\rho] \\phi_n = E_n \\phi_n\\\\\n",
    "\\rho(\\mathbf{r}) = \\sum_n f_n \\phi^*_n(\\mathbf{r}) \\phi_n(\\mathbf{r})\n",
    "\\end{align}\n",
    "</li>\n",
    "\n",
    "<li> \n",
    "Key to speed and stability of the calculation:\n",
    "<ul>\n",
    "<li>Energy minimisation</li>\n",
    "<li>Charge mixing</li>\n",
    "</ul>\n",
    "</li>\n",
    "</ul>\n",
    "</div>\n",
    "</div>"
   ]
  },
  {
   "cell_type": "markdown",
   "metadata": {
    "slideshow": {
     "slide_type": "slide"
    }
   },
   "source": [
    "## Overview\n",
    "\n",
    "- Common Methods In CP2K\n",
    "    - Eigensolvers (diagonlisation)\n",
    "        - Charge Mixing for Diagonalisation Methods\n",
    "    - Optimisers\n",
    "        - Orbital Transformation (OT)\n",
    "            - Preconditioners\n",
    "    - Comparison of OT and Diagonalization.\n",
    "\n",
    "This talk is only an introductory overview. \n",
    "\n",
    "A <a href='https://www.cp2k.org/_media/events:2016_summer_school:20160824_scf.pdf'>much more detailed version of this talk</a> given by Lianheng Tong at the 2016 summer school."
   ]
  },
  {
   "cell_type": "markdown",
   "metadata": {
    "slideshow": {
     "slide_type": "slide"
    }
   },
   "source": [
    "## Generalised Eigenvalue Problem\n",
    "\n",
    "We converted the Kohn-Sham equations into matrix form by introducing basis functions.\n",
    "\n",
    "\\begin{align}\n",
    "\\mathbf{H C} = \\mathbf{E S C}\\\\\n",
    "\\end{align}\n",
    "\n",
    "Where \n",
    "\n",
    "- $\\mathbf{H}$ is the matrix representation of the Kohn-Sham equations\n",
    "- $\\mathbf{C}$ is the matrix of Molecular Orbital coefficients of the basis functions used \n",
    "- $\\mathbf{S}$ is the overlap matrix showing how the basis functions overlap (are not orthogonal).\n",
    "- $\\mathbf{E}$ is the matrix with the eigenenergies of the MOs.\n"
   ]
  },
  {
   "cell_type": "markdown",
   "metadata": {
    "slideshow": {
     "slide_type": "slide"
    }
   },
   "source": [
    "## Eigenvalue Problem\n",
    "\n",
    "change variables \n",
    "\n",
    "\\begin{align}\n",
    "\\mathbf{H C} & = \\mathbf{E S C}\\\\\n",
    "\\mathbf{H S^{-1/2} S^{1/2} C} & = \\mathbf{E S^{1/2} S^{1/2} C}\\\\\n",
    "\\mathbf{S^{-1/2} H S^{-1/2} S^{1/2} C} & = \\mathbf{S^{-1/2} E S^{1/2} S^{1/2} C}\\\\\n",
    "\\mathbf{S^{-1/2} H S^{-1/2} C'} & = \\mathbf{E S^{-1/2} S^{1/2} C'}\\\\\n",
    "\\mathbf{H' C'} & = \\mathbf{ E C'}\\\\\n",
    "\\end{align}\n",
    "\n",
    "where $\\mathbf{C'} = \\mathbf{S}^{1/2} \\mathbf{C}'$ and $\\mathbf{H}' = \\mathbf{S}^{-1/2} \\mathbf{H} \\mathbf{S}^{-1/2}$, is a standard (non-linear) Eigenvalue problem."
   ]
  },
  {
   "cell_type": "markdown",
   "metadata": {
    "slideshow": {
     "slide_type": "slide"
    }
   },
   "source": [
    "# Diagonalisation\n",
    "\n",
    "we can diagnonalise $\\mathbf{H' C'} = \\mathbf{ E C'}$ to find a new set of MOs given the input Kohn-Sham matrix built from the current density.\n",
    "\n",
    "Standard methods of diagonalising the matrix can be used - termed 'traditional diagonalisation'.\n",
    "\n",
    "The new orbitals are used to build \n",
    "- a new density \n",
    "- a new Kohn-Sham matrix\n",
    "\n",
    "Then the process repeats until (if?) it converges - i.e. MOs in are the same as MOs out."
   ]
  },
  {
   "cell_type": "markdown",
   "metadata": {
    "slideshow": {
     "slide_type": "subslide"
    }
   },
   "source": [
    "### Charge density mixing\n",
    "\n",
    "Instead of using the new set of orbitals directly mix together some older solutions and the new solution.\n",
    "\n",
    "Much more stable that blindly taking only the new density.\n",
    "\n",
    "In the simplest case linearly mix $\\alpha$ of the new density with $1-\\alpha$ of the density in the previous step."
   ]
  },
  {
   "cell_type": "markdown",
   "metadata": {
    "slideshow": {
     "slide_type": "subslide"
    }
   },
   "source": [
    "### Input - linear mixing\n",
    "\n",
    "<pre>\n",
    "&SCF\n",
    "   SCF_GUESS ATOMIC\n",
    "   EPS_SCF 1.0E-06\n",
    "   MAX_SCF 50\n",
    "   &MIXING\n",
    "       ALPHA 0.2 !sensible value, the default 0.4 is very aggressive.\n",
    "   &END MIXING\n",
    "&END SCF\n",
    "</pre>\n",
    "\n",
    "Instead of mixing in a fraction of the new density with the previous step a more sophisticated approach mixes in a history of previous density using some 'recipe'. \n",
    "\n",
    "By default CP2K switches to the DIIS method when the largest change in an element of the density matrix is smaller than `EPS_DIIS`, which is 0.05 by if not set explicitly."
   ]
  },
  {
   "cell_type": "markdown",
   "metadata": {
    "slideshow": {
     "slide_type": "subslide"
    }
   },
   "source": [
    "### Output\n",
    "\n",
    "should look something like this:\n",
    "\n",
    "<pre>\n",
    " Step  Update method          Time   Convergence      Total energy         Change\n",
    " ---------------------------------------------------------------------------------\n",
    " 1     P_Mix/Diag. 0.50E+00    2.1   0.41056021     -2133.4408435676     -2.13E+03\n",
    " 2     P_Mix/Diag. 0.50E+00    3.2   0.20432922     -2132.0776002852      1.36E+00\n",
    " 3     P_Mix/Diag. 0.50E+00    3.2   0.10741372     -2131.3677551799      7.10E-01\n",
    " 4     P_Mix/Diag. 0.50E+00    3.2   0.05420394     -2131.0080867703      3.60E-01\n",
    " 5     DIIS/Diag.  0.39E-03    3.2   0.02722180     -2130.8276990683      1.80E-01\n",
    " 6     DIIS/Diag.  0.19E-03    3.1   0.00062404     -2130.6473761946      1.80E-01\n",
    " 7     DIIS/Diag.  0.84E-04    3.2   0.00050993     -2130.6473778175     -1.62E-06\n",
    "</pre>\n",
    "\n",
    "note the switch to DIIS when Convergence is < 0.05."
   ]
  },
  {
   "cell_type": "markdown",
   "metadata": {
    "slideshow": {
     "slide_type": "slide"
    }
   },
   "source": [
    "### Smearing\n",
    "\n",
    "For metallic systems we generalise how we build the density. Up to now we build the density by filling the $N$ electrons into the $N$ lowest molecular spin orbitals.\n",
    "\n",
    "#### Problem\n",
    "\n",
    "If the system is metallic (or has a very small band-gap) this can lead to 'charge sloshing'. The orbitals around the 'fermi energy' can change their ordering, and different ones are occupied from iteration to iteration.\n",
    "\n",
    "#### Solution\n",
    "\n",
    "Fill the orbitals using a Fermi-Dirac distribution at a fictitious finite temperature - smooths out charge sloshing."
   ]
  },
  {
   "cell_type": "markdown",
   "metadata": {
    "slideshow": {
     "slide_type": "subslide"
    }
   },
   "source": [
    "### Smearing input\n",
    "\n",
    "<pre>\n",
    "&SCF\n",
    "   SCF_GUESS ATOMIC\n",
    "   EPS_SCF 1.0E-6\n",
    "   MAX_SCF 50\n",
    "   ADDED_MOS 200\n",
    "   &SMEAR ON\n",
    "       METHOD FERMI_DIRAC\n",
    "       ELECTRONIC_TEMPERATURE [K] 300\n",
    "   &END SMEAR\n",
    "   &MIXING\n",
    "       METHOD BRYODEN_MIXING\n",
    "       ALPHA 0.2\n",
    "       NBUFFER 5\n",
    "   &END MIXING\n",
    "&END SCF\n",
    "</pre>\n",
    "\n",
    "We also use a different mixing scheme, which is probably optimal for metallic systems.\n",
    "\n",
    "Fermi Temperature is typically between 300 - 3000 K. The larger the value the smoother convergence, but it can affect the physical properties of the system if too large."
   ]
  },
  {
   "cell_type": "markdown",
   "metadata": {
    "slideshow": {
     "slide_type": "slide"
    }
   },
   "source": [
    "## OT \n",
    "\n",
    "why not just directly minimize the energy functional with respect to the MO coefficients?\n",
    "\n",
    "- we need our orbitals to remain orthogonal - Pauli principle\n",
    "\n",
    "So the minimization must be subject to a constraint - on an M dimensional hypersphere!\n",
    "\n",
    "<img src='OT1.svg' style='width:400px'>\n",
    "\n",
    "This is built into diagonalisation, as the new vectors are always eigenfunctions of the (current) Kohn-Sham matrix. "
   ]
  },
  {
   "cell_type": "markdown",
   "metadata": {
    "slideshow": {
     "slide_type": "subslide"
    }
   },
   "source": [
    "### change variables in some clever way that builds in the constraint\n",
    "\n",
    "Work with new variables $\\mathbf{X}$\n",
    "\n",
    "$$\\mathbf{C}(\\mathbf{X}) = \\mathbf{C}_0 \\cos(\\mathbf{U}) + \\mathbf{X U}^{-1} \\sin(\\mathbf{U})$$\n",
    "\n",
    "$$\\mathbf{U} = (\\mathbf{X}^T\\mathbf{SX})^{1/2}$$\n",
    "\n",
    "<img src='OT2.svg' style='width:400px'>\n",
    "\n",
    "Can show that this leads to optimization in an M-1 dimensional linear space."
   ]
  },
  {
   "cell_type": "markdown",
   "metadata": {
    "slideshow": {
     "slide_type": "subslide"
    }
   },
   "source": [
    "### Change variables in some clever way that builds in the constraint.\n",
    "\n",
    "<div style=\"display: flex; width=100%\">\n",
    "\n",
    "<div style='min-width:30%'>\n",
    "    <img src='OT3.svg'>\n",
    "\n",
    "$$\\big< \\mathbf{X}, \\mathbf{C}_0\\big> = \\mathbf{X}^T \\mathbf{SC}_0 = 0\\\\\n",
    "\\mathbf{C} = \\bigg[\\begin{array}{c}\n",
    "\\cos(\\theta)\\\\\n",
    "\\sin(\\theta)\n",
    "\\end{array}\\bigg]\n",
    "= \\mathbf{C}_0 \\cos(\\theta) + \\hat{\\mathbf{X}} \\sin(\\theta)\\\\\n",
    "\\theta = \\frac{|\\mathbf{X}|}{|\\mathbf{C}|} = \\frac{(\\mathbf{X}^T\\mathbf{SX})^{1/2}}{(\\mathbf{C}^T\\mathbf{SC)}^{1/2}} = \\mathbf{U}\\\\\n",
    "\\mathbf{C}(\\mathbf{X}) = \\mathbf{C}_0 \\cos(\\mathbf{U}) + \\mathbf{X U}^{-1} \\sin(\\mathbf{U})\\\\\n",
    "$$\n",
    "    \n",
    "</div>\n",
    "\n",
    "\n",
    "<div style='margin-top:20px; min-width:50%'>\n",
    "New variables $\\mathbf{X}$ are always orthogonal to the initial vector $\\mathbf{C}_0$ by construction. \n",
    "<br><br>\n",
    "We can use standard minimization routines and we never have to diagonalise the Kohn-Sham matrix!\n",
    "<br><br>\n",
    "Far more robust - but requires a band gap - revert to diagonalization and smearing for metallic systems.\n",
    "</div>\n",
    "</div>"
   ]
  },
  {
   "cell_type": "markdown",
   "metadata": {
    "slideshow": {
     "slide_type": "slide"
    }
   },
   "source": [
    "### Preconditioning\n",
    "\n",
    "In minimization problems it is often a good idea change the problem by applying some approximate solution to the problem to make an equivalent set of equations that are\n",
    "\n",
    "- approximately diagonal\n",
    "- with diagonal elements of the same size and of order 1.\n",
    "\n",
    "The OT solver is no exception. There are a variety of preconditioners available, and they can dramatically speed up convergence."
   ]
  },
  {
   "cell_type": "markdown",
   "metadata": {
    "slideshow": {
     "slide_type": "subslide"
    }
   },
   "source": [
    "### OT recipe 1 - small-medium systems\n",
    "\n",
    "<pre>\n",
    "&SCF\n",
    "    SCF_GUESS RESTART\n",
    "    EPS_SCF 1.0E-06\n",
    "    MAX_SCF 20\n",
    "    &OT ON\n",
    "        MINIMIZER DIIS\n",
    "        PRECONDITIONER FULL_ALL\n",
    "        ENERGY_GAP 0.001\n",
    "    &END OT\n",
    "    &OUTER_SCF\n",
    "        MAX_SCF 2\n",
    "    &END OUTER_SCF\n",
    "&END SCF\n",
    "</pre>\n",
    "\n",
    "- This uses the most efficient minimizer, DIIS.  Change to CG for difficult systems.\n",
    "\n",
    "- The most accurate, and expensive to calculate, preconditioner - `FULL_ALL`.\n",
    "\n",
    "- The `OUTER_SCF` restarts the SCF cycle and reapplies a new preconditioner when the original loop finishes."
   ]
  },
  {
   "cell_type": "markdown",
   "metadata": {
    "slideshow": {
     "slide_type": "subslide"
    }
   },
   "source": [
    "### OT recipe 2 - pretty large systems\n",
    "\n",
    "<pre>\n",
    "&SCF\n",
    "    SCF_GUESS RESTART\n",
    "    EPS_SCF 1.0E-06\n",
    "    MAX_SCF 20\n",
    "    &OT ON\n",
    "        MINIMIZER DIIS\n",
    "        PRECONDITIONER FULL_SINGLE_INVERSE\n",
    "        ENERGY_GAP 0.1\n",
    "    &END OT\n",
    "    &OUTER_SCF\n",
    "        MAX_SCF 2\n",
    "    &END OUTER_SCF\n",
    "&END SCF\n",
    "</pre>\n",
    "\n",
    "The `FULL_ALL` preconditioner is expensive to apply to large systems (diagonalization of the approximate Hamiltonian is required). The `FULL_SINGLE_INVERSE` is pretty good, and much cheaper for big systems. "
   ]
  },
  {
   "cell_type": "markdown",
   "metadata": {
    "slideshow": {
     "slide_type": "slide"
    }
   },
   "source": [
    "## Choice of method\n",
    "\n",
    "- Use OT if you can, it is faster and converges more reliably\n",
    "    - disadvantage: requires additional calculations to obtain unoccupied states.\n",
    "- Use Diagonalisation if you need to work with the occupation numbers of orbitals\n",
    "    - Use Diagonalisation (with smearing) for metallic systems\n",
    "\n",
    "The two methods use quite different code paths.  \n",
    "\n",
    "- `EPS_SCF` has different meanings for OT (largest derivative of energy wrt MO coefficients) and TD (largest change in the density matrix).\n",
    "\n",
    "Some options will only work with either OT or TD.\n",
    "\n",
    "- Most common is `MO` section in `PRINT` only works properly with diagonalisation\n",
    "- `MO_CUBES` section in `PRINT` only works properly with OT."
   ]
  },
  {
   "cell_type": "markdown",
   "metadata": {
    "slideshow": {
     "slide_type": "slide"
    }
   },
   "source": [
    "## Summary\n",
    "\n",
    "See <a href='https://www.cp2k.org/_media/events:2016_summer_school:20160824_scf.pdf'>a more detailed version of this talk</a> given by Lianheng Tong at the 2016 summer school, if you want to know (much) more!"
   ]
  }
 ],
 "metadata": {
  "celltoolbar": "Slideshow",
  "kernelspec": {
   "display_name": "Python 3",
   "language": "python",
   "name": "python3"
  },
  "language_info": {
   "codemirror_mode": {
    "name": "ipython",
    "version": 3
   },
   "file_extension": ".py",
   "mimetype": "text/x-python",
   "name": "python",
   "nbconvert_exporter": "python",
   "pygments_lexer": "ipython3",
   "version": "3.6.3"
  }
 },
 "nbformat": 4,
 "nbformat_minor": 2
}
