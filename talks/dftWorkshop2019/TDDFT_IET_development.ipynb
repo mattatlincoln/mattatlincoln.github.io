{
 "cells": [
  {
   "cell_type": "code",
   "execution_count": 1,
   "metadata": {
    "collapsed": true,
    "slideshow": {
     "slide_type": "skip"
    }
   },
   "outputs": [],
   "source": [
    "# Matt Watkins for the MCC conference, 2018"
   ]
  },
  {
   "cell_type": "markdown",
   "metadata": {
    "slideshow": {
     "slide_type": "slide"
    }
   },
   "source": [
    "# Excited states\n",
    "\n",
    "<table>\n",
    "<tr>\n",
    "<td><img src='images/lincoln_loc.png' width=300></td>\n",
    "<td><img src='images/brayford.png' width=300></td>\n",
    "<td><img src='images/lincoln_dep.png' width=300></td>\n",
    "</tr>\n",
    "</table>\n",
    "\n",
    "\n",
    "## Sergey Chulkov, Matt Watkins\n",
    "\n",
    "### School of Mathematics and Physics, University of Lincoln, UK\n",
    "\n",
    "## Jack Strand, Alex Shluger\n",
    "\n",
    "### University College London\n"
   ]
  },
  {
   "cell_type": "markdown",
   "metadata": {
    "slideshow": {
     "slide_type": "slide"
    }
   },
   "source": [
    "## Why are we interested in excited states and optical properties?\n",
    "\n",
    " - Photochemistry / catalysis\n",
    " - Energy conversion \n",
    "     - Solar cells\n",
    " - Spectroscopy"
   ]
  },
  {
   "cell_type": "markdown",
   "metadata": {
    "slideshow": {
     "slide_type": "slide"
    }
   },
   "source": [
    "# TDDFT\n",
    "\n",
    "DFT normally thought of as ground state theory.\n",
    "\n",
    "But, time dependent version actually has quite long history - it didn't really achieve prominence until **Casida's** reformulation caught on with Quantum Chemistry community.\n",
    "\n",
    "[Dynamic polarizabilities and excitation spectra from a molecular implementation of time‐dependent density‐functional response theory: N2 as a case study,\n",
    "Christine Jamorski, Mark E. Casida and Dennis R. Salahub, J. Chem. Phys. 104, 5134 (1996)\n",
    "](http://scitation.aip.org/content/aip/journal/jcp/104/13/10.1063/1.471140)\n",
    "\n",
    "TDDFT maps onto CIS and TDHF methods already well known in QC community, in similar way groundstate DFT -> HF ."
   ]
  },
  {
   "cell_type": "markdown",
   "metadata": {
    "slideshow": {
     "slide_type": "subslide"
    }
   },
   "source": [
    "Two main methods to solve the TDKS equations\n",
    "\n",
    "- Linear-response Time Dependent Density Functional Perturbation Theory\n",
    "- Real time propagation, see [Florian Schiffmann's PhD thesis](https://goo.gl/m8DODn)\n",
    "\n",
    "both methods are available in CP2K. \n",
    "\n",
    "We have been working on the Linear Response implementation."
   ]
  },
  {
   "cell_type": "markdown",
   "metadata": {
    "slideshow": {
     "slide_type": "slide"
    }
   },
   "source": [
    "## Electron hole pairs\n",
    "\n",
    "The *transition density* is a linear combination of $\\color{red}{electron}-\\color{blue}{hole}$ pairs\n",
    "\n",
    "\\begin{gather*}\n",
    "n_{j, \\tau}^{(1)} = \\sum_{j \\in HOMOs} \\left ( \\color{blue}{\\psi_{j,\\sigma}^*} (r) \\color{red}{\\psi_{j,\\sigma}^{(-)}(r)} + \\color{red}{\\psi_{j,\\sigma}^{(-)*}(r)}\\color{blue}{ \\psi_{j,\\sigma}(r)} \\right) \n",
    "\\end{gather*}\n",
    "\n",
    "$$\n",
    "\\color{red}{\\psi_{i, \\sigma}^{(\\pm)}(r)} = \\sum_{k \\in LUMOs} c_{ik, \\sigma}\\psi_{k,\\sigma} (r)\n",
    "$$\n",
    "\n",
    "$\\color{blue}{\\psi_{j,\\sigma} (r) }$ contributes to the hole, $\\color{red}{\\psi_{j,\\sigma}^{(-)}(r)}$ contributes to the electron.\n",
    "\n",
    "- Each of the terms in the sum are single determinant excitation in Quantum Chemical language.\n",
    "- *in the ground state the $\\psi_{j,\\sigma}$ function would be fully occupied, but here density has be transferred to $\\psi_{j,\\sigma}^{(-)}(r)$ .*\n",
    "- The sum over all the HOMOs allows the hole to relax by mixing in other occupied orbitals.\n",
    "- *Typical transitions will be dominated by a single determinant - mixing of others gives orbital relaxation.*"
   ]
  },
  {
   "cell_type": "markdown",
   "metadata": {
    "slideshow": {
     "slide_type": "slide"
    }
   },
   "source": [
    "## Implementation\n",
    "\n",
    "We followed the original implementation of TDDFPT for semi-local functionals within CP2K ([Thomas Chaissang's PhD thesis](http://opac.nebis.ch/F/1V8XHFA2Q5FFGRIN5XIPD6HVDVLK7TU8GQNU8LXFQDRJU9S38H-00179?func=short-0&set_number=016867)). But, ended up with complete rewrite.\n",
    "\n",
    "Currently separate implementation (`TDDFPT2`). Original is probably deprecated - and will be removed in future? \n",
    "\n",
    "- It is activated within the `&PROPERTIES` section of `&FORCE_EVAL` - so can be used within MD or MC or single point calcs etc.\n",
    "\n",
    "- `XC` section is inherited from the ground state calc - needs weak smoothing `SPLINE2_SMOOTH` on the XC gradients.\n",
    "\n",
    "Uses a standard block Davidson algorithm for iterative diagonalization of excited states.\n",
    "\n"
   ]
  },
  {
   "cell_type": "markdown",
   "metadata": {
    "slideshow": {
     "slide_type": "slide"
    }
   },
   "source": [
    "## Gaussians and Plane waves\n",
    "\n",
    "\n",
    "For hybrid functionals we add in an extra term that comes from the response of the exact exchange part of the functional.\n",
    "\n",
    "With hybrid density functionals the original action functional becomes a mixture of the TDDFT outlined above and TDHF. \n",
    "\n",
    "- The coulomb interaction in standard functionals actually becomes an exchange like term, dependent on wavefunction overlap between the electron and hole.\n",
    "\n",
    "\\begin{gather}\n",
    "\\mathbf{K_{\\nu \\mu \\sigma}} = \\big{<} \\phi_{\\nu} \\big{|} \\sum_{\\tau=\\alpha, \\beta} \\big{[} \\color{red}{\\int_{r'} \\text{d}r' \\frac{n_{j, \\tau}^{(1)} (r')}{\\mid r' - r\\mid}} + f_{XC,\\sigma,\\tau} (r,r';\\pm \\omega)) n_{j, \\tau}^{(1)} (r') \\big{]}\n",
    " \\big{|} \\phi_{\\mu} \\big{>}\n",
    "\\end{gather}\n",
    "\n",
    "\\begin{gather*}\n",
    "\\color{red}{\n",
    "n_{j, \\sigma}^{(1)} (r)  = \n",
    "\\sum_{j \\in HOMOs} \\left ( \\psi_{j,\\sigma}^* (r) \\psi_{j,\\sigma}^{(-)} (r)  \\right) + \n",
    "\\left (  + \\psi_{j,\\sigma}^{(-)*}(r) \\psi_{j,\\sigma}(r) \\right) \n",
    "}\n",
    "\\end{gather*}\n",
    "\n",
    "\n",
    "**Semi-local functionals have incorrect long-range behaviour because of this - well known underestimation of charge transfer states.**"
   ]
  },
  {
   "cell_type": "markdown",
   "metadata": {
    "slideshow": {
     "slide_type": "subslide"
    }
   },
   "source": [
    "## Semi-local terms - grids\n",
    "\n",
    "Semi-local DFT terms are calculated on realspace multigrids\n",
    "\n",
    "\\begin{gather}\n",
    "\\mathbf{K_{\\nu \\mu \\sigma}} = \\big{<} \\phi_{\\nu} \\big{|} \\sum_{\\tau=\\alpha, \\beta} \\big{[} \\color{red}{\\int_{r'} \\text{d}r' \\frac{n_{j, \\tau}^{(1)} (r')}{\\mid r' - r\\mid} + f_{XC,\\sigma,\\tau} (r,r';\\pm \\omega)) n_{j, \\tau}^{(1)} (r')} \\big{]}\n",
    " \\big{|} \\phi_{\\mu} \\big{>}\n",
    "\\end{gather}\n",
    "\n",
    "- first red term is a potential that arises from the transition density\n",
    "\n",
    "\\begin{gather*}\n",
    "    n_{j, \\tau}^{(1)} = \\sum_{j \\in HOMOs} \\left ( \\color{blue}{\\psi_{j,\\sigma}^*} (r) \\color{red}{\\psi_{j,\\sigma}^{(-)}(r)} + \\color{red}{\\psi_{j,\\sigma}^{(-)*}(r)}\\color{blue}{ \\psi_{j,\\sigma}(r)} \\right) \n",
    "\\end{gather*}\n",
    "\n",
    "- 2nd term is the 2nd functional derivative of the GGA part of the functional\n",
    "$$\n",
    "\\color{red}{f_{xc}(r,t; r',t') ≈ δ(t − t')\\frac{\\delta^2 E_{xc}^{LSDA/GGA}[n]}{ \\delta n(r,t)\\delta n(r',t')}_{n(r,t)=n^{(0)}(r,t)}}\n",
    "$$\n",
    "\n",
    "For each trial vector this looks like a normal KS build."
   ]
  },
  {
   "cell_type": "markdown",
   "metadata": {
    "slideshow": {
     "slide_type": "subslide"
    }
   },
   "source": [
    "## Hybrid functionals\n",
    "\n",
    "the exact exchange energy term in the ground state functional becomes a coulomb type interaction between the electron and hole density for each excitation. \n",
    "\n",
    "\\begin{gather}\n",
    "\\mathbf{K_{\\nu \\mu \\sigma}} = \\big{<} \\phi_{\\nu} \\big{|} \\sum_{\\tau=\\alpha, \\beta} \\big{[} \\color{green} { c_{HF} \\frac{K(r,r')}{ {\\mid r' - r\\mid}}} + \\color{red}{ \\int_{r'} \\text{d}r' \\frac{n_{j, \\tau}^{(1)} (r')}{\\mid r' - r\\mid}} + \\color{green}{(1-c_{HF})} f_{XC,\\sigma,\\tau} (r,r';\\pm \\omega)) n_{j, \\tau}^{(1)} (r') \\big{]}\n",
    " \\big{|} \\phi_{\\mu} \\big{>}\n",
    "\\end{gather}\n",
    "\n",
    "where the symbolic $\\color{green}{K(r,r')}$ operator exchanges electrons, like in HF theory. In this case operating on an exchange type term, it gives an electron-hole coulomb interaction. Symbollically, terms of the form:\n",
    "\n",
    "$$\n",
    "\\color{green}{\n",
    "\\big<\\psi_{HOMOS} (r) \\psi_{HOMOS} (r) \\big| { \\frac{1}{\\mid r' - r\\mid}} \\big| \\psi_{LUMOS} (r') \\psi_{LUMOS} (r') \\big>\n",
    "}\n",
    "$$\n",
    "\n",
    "**Note this is like a coloumb interaction screened by an effective dielectric function equal to $\\color{green}{c_{HF}^{-1}}$.**"
   ]
  },
  {
   "cell_type": "markdown",
   "metadata": {
    "slideshow": {
     "slide_type": "subslide"
    }
   },
   "source": [
    "## Hybrid terms - gaussians\n",
    "\n",
    "Because of the exchange, it is not possible for the added exact exchange term to be calculated on the grids with iterative diagonalisation: \n",
    "\n",
    "- Hybrid term is calculated analytically using the existing hybrid functional routines in CP2K \n",
    "    - access to fast ADMM approximation (x1000 speed up for some basis sets)\n",
    "    - works for ADMM with no purification\n",
    "    - works for *global* hybrids - tested for B3LYP and PBE0\n",
    "\n",
    "Still looks like standard KS build - no screening on initial $\\mathbf{P}$ though ..."
   ]
  },
  {
   "cell_type": "markdown",
   "metadata": {
    "slideshow": {
     "slide_type": "slide"
    }
   },
   "source": [
    "# Parallelization and optimization\n",
    "\n",
    "- Each KS build for trial vector is independent - parallelize over groups.\n",
    "- But - need to diagonalize approximate H, and orthogonalize guess vectors - limits to few groups.\n",
    "- Reduced PW cutoff - excitations mainly around valence states, much smoother than semi-core"
   ]
  },
  {
   "cell_type": "markdown",
   "metadata": {
    "slideshow": {
     "slide_type": "fragment"
    }
   },
   "source": [
    "## Aside - Tamm-Dancoff approximation\n",
    "\n",
    "only the Tamm-Dancoff approximation to TDDFT is implemented in CP2K at the moment.\n",
    "\n",
    "In this approximation $\\phi^{(+)}_{j\\sigma} (r) = 0$ and the equations simplify and become Hermitian.\n",
    "\n",
    "Hopefully fairly well separated - so full TDDFT can be implemented."
   ]
  },
  {
   "cell_type": "markdown",
   "metadata": {
    "slideshow": {
     "slide_type": "slide"
    }
   },
   "source": [
    "# Oscillator Strengths\n",
    "\n",
    "\n",
    "Oscillator strengths calculated using either \n",
    "- the position operator form of the dipole interaction operator, which is valid for non-periodic systems\n",
    "\n",
    "- the velocity operator form of the dipole interaction operator\n",
    "\n",
    "    - I thought it might be valid in periodic systems \n",
    "    - BUT no, Berry Phase implementation is needed\n",
    "    "
   ]
  },
  {
   "cell_type": "code",
   "execution_count": 1,
   "metadata": {},
   "outputs": [
    {
     "name": "stdout",
     "output_type": "stream",
     "text": [
      "\u001b[0m\u001b[01;35mHOMO-LUMO.png\u001b[0m                                        \u001b[01;35mbrayford.png\u001b[0m\r\n",
      "\u001b[01;35mMgO-bulk-pbe0admm.svg\u001b[0m                                \u001b[01;35mc4ta05149a-f1_hi-res.gif\u001b[0m\r\n",
      "\u001b[01;35mMgO-pbe-cpuh_24states_450Ry_24cpus-per-state.svg\u001b[0m     \u001b[01;35mlincoln_crest.png\u001b[0m\r\n",
      "\u001b[01;35mMgO-pbe-nstates_576atoms_450Ry_24cpus-per-state.svg\u001b[0m  \u001b[01;35mlincoln_dep.png\u001b[0m\r\n",
      "\u001b[01;35mMgO-pbe0admm-cpuh_450Ry.svg\u001b[0m                          \u001b[01;35mlincoln_loc.png\u001b[0m\r\n",
      "\u001b[01;32mMgO_576atoms-box.png\u001b[0m*                                \u001b[01;35mout.png\u001b[0m\r\n",
      "\u001b[01;32mMgO_576atoms.png\u001b[0m*                                    \u001b[01;35mstructure-HOMO.jpg\u001b[0m\r\n",
      "\u001b[01;32mMgO_576atoms_side-box.png\u001b[0m*                           \u001b[01;35mtranseng.png\u001b[0m\r\n",
      "\u001b[01;32mMgO_576atoms_top-box.png\u001b[0m*\r\n"
     ]
    }
   ],
   "source": [
    "ls images"
   ]
  },
  {
   "cell_type": "markdown",
   "metadata": {
    "slideshow": {
     "slide_type": "slide"
    }
   },
   "source": [
    "# MgO benchmarking\n",
    "\n",
    "<table>\n",
    "<tr>\n",
    "<td><img src='images/MgO_576atoms_top-box.png' width=300></td>\n",
    "<td><img src='images/MgO-bulk-pbe0admm.svg' width=300><p>Independent particle adsoprtion spectrum</p></td>\n",
    "<td><img src='images/MgO-pbe-cpuh_24states_450Ry_24cpus-per-state.svg' width=300><p>linear scaling with number of states for full TDDFPT</p></td>\n",
    "</tr>\n",
    "</table>\n",
    "\n",
    "\n"
   ]
  },
  {
   "cell_type": "markdown",
   "metadata": {
    "slideshow": {
     "slide_type": "slide"
    }
   },
   "source": [
    "# MgO benchmarking\n",
    "\n",
    "<table>\n",
    "<tr>\n",
    "<td><img src='images/MgO_576atoms_top-box.png' width=300></td>\n",
    "<td><img src='images/MgO-pbe-nstates_576atoms_450Ry_24cpus-per-state.svg' width=300><h2>PBE</h2>\n",
    "</td>\n",
    "<td><img src='images/MgO-pbe0admm-cpuh_450Ry.svg ' width=300><h2>PBE0</h2></td>\n",
    "</tr>\n",
    "</table>\n",
    "\n",
    "\n"
   ]
  },
  {
   "cell_type": "markdown",
   "metadata": {
    "slideshow": {
     "slide_type": "slide"
    }
   },
   "source": [
    "# Good news! Example - porphyrin derivative on NaCl\n",
    "\n",
    "<table>\n",
    "<tr>\n",
    "<td><img src='images/structure-HOMO.jpg' width=500></td>\n",
    "<td><img src='images/out.png' width=500></td>\n",
    "</tr>\n",
    "</table>\n",
    "\n",
    "\n",
    "- 960 atoms of NaCl\n",
    "- 1031 atoms total\n",
    "- TZV2P basis on molecule\n",
    "- DZVP basis on NaCl\n",
    "- 11790 Cartesian basis functions\n",
    "- 7898 electrons\n",
    "- ~2 hours on 192 cores to converge 10 lowest transition energies (12 iterations)"
   ]
  },
  {
   "cell_type": "markdown",
   "metadata": {
    "slideshow": {
     "slide_type": "subslide"
    }
   },
   "source": [
    "## TDDFPT:\n",
    "  * experimental peaks according to the Philipda Luangprasert's Master Thesis:\n",
    "    2.2 eV (small), 2.95 eV (broad, main), 3.3 eV (small);\n",
    "\n",
    "  * PBE-D3: 2.37/2.40 (medium), 2.60 (medium), 3.22 (small);\n",
    "\n",
    "  * B3LYP-D3 (using PBE-D3 optimal geometry): 2.19 eV (small), 3.23 eV (medium), 3.41 eV (medium), 3.78 (small).\n",
    "    \n",
    "The structure of the UV spectrum is well reproduced, but the last 3 excitation energies are overestimated by approximately 0.4 eV. This shift is probably due to unoptimised molecular structure (it was optimized using the PBE-D3 xc-functional, not B3LYP-D3) and/or the lack of diffuse basis functions.\n"
   ]
  },
  {
   "cell_type": "markdown",
   "metadata": {
    "slideshow": {
     "slide_type": "subslide"
    }
   },
   "source": [
    "### Timings:\n",
    "  * TDDFPT/PBE-D3:\n",
    "    - CPU Time: 956957 s = 265.8 core*hours (4.0 kAU);\n",
    "    - MPI Wait:  45884 s =  12.7 core*hours (0.2 kAU);\n",
    "<br><br>\n",
    "  * TDDFPT/B3LYP-D3/ADMM [Zn] cFIT9, [H,C,N,O] cFIT3, [Na,Cl] cFIT3 with 2 the most diffuse functions removed:\n",
    "    - CPU Time: 1517936 s = 421.6 core*hours (6.3 kAU);\n",
    "    - MPI Wait:  106947 s =  29.7 core*hours (0.4 kAU);\n",
    "<br><br>\n",
    "  * TDDFPT/B3LYP-D3/ADMM [Zn] cFIT9, [H,C,N,O,Na,Cl] cFIT3:\n",
    "    - CPU Time: 3511819 s = 975.5 core*hours (14.6 kAU);\n",
    "    - MPI Wait:  185165 s =  51.4 core*hours ( 0.8 kAU);\n",
    "    \n",
    "maximum deviation in excitation energies with respect to the ones computed using the reduced auxillary basis set: 0.05 eV .\n",
    "        "
   ]
  },
  {
   "cell_type": "markdown",
   "metadata": {
    "slideshow": {
     "slide_type": "slide"
    }
   },
   "source": [
    "# Excited states during MD of TiO$_2$ surface\n",
    "\n",
    "<table>\n",
    "<tr>\n",
    "<td><img src='images/transeng.png' width=300></td>\n",
    "<td><img src='images/HOMO-LUMO.png' width=300></td>\n",
    "</tr>\n",
    "</table>\n",
    "\n",
    "HOMO-LUMO gaps and lowest energy excitation from ~2 ps simulation of Rutile TiO$_2$ bulk and (110 surface)"
   ]
  },
  {
   "cell_type": "markdown",
   "metadata": {
    "slideshow": {
     "slide_type": "slide"
    }
   },
   "source": [
    "## Linear response summary\n",
    "\n",
    " - gives electron transitions and detailed information on the types of transition\n",
    " - cost will depend on system size, but increase linearly with the number of excited states that you want to calculate\n",
    " - supports calculations using hybrid functionals and the ADMM approximation\n",
    " - current implementation is very much in beta, but is being actively developed.\n",
    " - nearly production ready, needs final testing and refining - is available in trunk via sourceforge or github\n",
    " \n",
    "\n",
    "Also delta SCF method (Maximum overlap method implemented)\n"
   ]
  },
  {
   "cell_type": "markdown",
   "metadata": {
    "slideshow": {
     "slide_type": "slide"
    }
   },
   "source": [
    "## Maximum Overlap Method\n",
    "\n",
    "is a delta-SCF method.\n",
    "\n",
    "We project new orbitals onto previous ones\n",
    "$$\n",
    "\\mathbf{O} = \\mathbf{C^{new} S C^{old}}\n",
    "$$\n",
    "\n",
    "we then occupy the orbitals that are most like the previous iterations occupied orbitals.\n",
    "\n",
    "By choosing some intitial set of occupations we can then try to self-consistently converge an excited state.\n",
    "\n",
    "*MOM force and hessians are available.*\n",
    "\n",
    "It doesn't work very well ... method or implementation?\n",
    "\n"
   ]
  },
  {
   "cell_type": "markdown",
   "metadata": {
    "slideshow": {
     "slide_type": "slide"
    }
   },
   "source": [
    "# Transport\n",
    "\n",
    "We are implementing a basic version of NEGF transport inside CP2K.\n",
    "\n",
    "Hopefully Sergey will talk later."
   ]
  },
  {
   "cell_type": "markdown",
   "metadata": {
    "slideshow": {
     "slide_type": "slide"
    }
   },
   "source": [
    "# Thanks To\n",
    "\n",
    "- Lev Kantorovich (King's College London)\n",
    "- Alex Shluger (University College London)\n",
    "- CP2K developers\n",
    "- Iain Bethune, STFC"
   ]
  }
 ],
 "metadata": {
  "anaconda-cloud": {},
  "celltoolbar": "Slideshow",
  "kernelspec": {
   "display_name": "Python 3",
   "language": "python",
   "name": "python3"
  },
  "language_info": {
   "codemirror_mode": {
    "name": "ipython",
    "version": 3
   },
   "file_extension": ".py",
   "mimetype": "text/x-python",
   "name": "python",
   "nbconvert_exporter": "python",
   "pygments_lexer": "ipython3",
   "version": "3.6.3"
  }
 },
 "nbformat": 4,
 "nbformat_minor": 1
}
