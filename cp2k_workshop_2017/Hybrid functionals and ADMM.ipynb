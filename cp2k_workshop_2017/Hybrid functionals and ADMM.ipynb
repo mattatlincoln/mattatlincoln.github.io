{
 "cells": [
  {
   "cell_type": "markdown",
   "metadata": {
    "slideshow": {
     "slide_type": "slide"
    }
   },
   "source": [
    "# Hybrid functionals and ADMM\n",
    "\n",
    "## Matt Watkins\n",
    "\n",
    "## University of Lincoln"
   ]
  },
  {
   "cell_type": "markdown",
   "metadata": {
    "slideshow": {
     "slide_type": "slide"
    }
   },
   "source": [
    "# What are hybrid functionals\n",
    "\n",
    "$$\n",
    "E_{XC} = \\alpha E_X^{HFX}[\\psi_i] + (1 - \\alpha ) E_X^{DFT}[\\rho] + E_C^{DFT}[\\rho]\n",
    "$$\n",
    "\n",
    "## Hybrid functions\n",
    "\n",
    "mixing non-local Hartree-Fock exchange with semi-local DFT exchange"
   ]
  },
  {
   "cell_type": "markdown",
   "metadata": {
    "slideshow": {
     "slide_type": "slide"
    }
   },
   "source": [
    "# Why do we need hybrids?\n",
    "\n",
    "## Practical motivations\n",
    "\n",
    "- Improved description of thermochemistry (e.g. atomizations energies, heats of formation)\n",
    "\n",
    "- Improved description of lattice constants, surface energies, ionization potentials and band gaps\n",
    "\n",
    "- Qualitatively correct description of localized and correlated states\n",
    "\n",
    "## Theoretical motivations\n",
    "\n",
    "- Adiabatic connection\n",
    "\n",
    "- 1-e energy level discontinuity\n"
   ]
  },
  {
   "cell_type": "markdown",
   "metadata": {
    "slideshow": {
     "slide_type": "slide"
    }
   },
   "source": [
    "# Why do we need hybrids?\n",
    "\n",
    "\n",
    "<table style=\"width:80%\">\n",
    "  <tr>\n",
    "    <th>Functional</th>\n",
    "    <th>MAE (G2) / eV</th> \n",
    "  </tr>\n",
    "  <tr>\n",
    "    <td>SVWN</td>\n",
    "    <td>5.2</td> \n",
    "  </tr>\n",
    "  <tr>\n",
    "    <td>LSD (SVWN5)</td>\n",
    "    <td>3.6</td> \n",
    "  </tr>\n",
    "  <tr>\n",
    "    <td>PBE </td>\n",
    "    <td>0.73</td> \n",
    "  </tr>\n",
    "  <tr>\n",
    "    <td>BLYP</td>\n",
    "    <td>0.31</td> \n",
    "  </tr>\n",
    "  <tr>\n",
    "    <td>B3LYP</td>\n",
    "    <td>0.13</td> \n",
    "  </tr>\n",
    "  <tr>\n",
    "    <td>PBE0</td>\n",
    "    <td>0.21</td> \n",
    "  </tr>\n",
    "</table>\n",
    "\n",
    "\n",
    "Mean Absolute errors for atomization energies (eV)\n",
    "\n",
    "Scuseria et al., J. Chem. Phys., 110, 5029 (1999)\n"
   ]
  },
  {
   "cell_type": "markdown",
   "metadata": {
    "slideshow": {
     "slide_type": "slide"
    }
   },
   "source": [
    "# Why do we need hybrids?\n",
    "\n",
    "\n",
    "<table style=\"width:80%\">\n",
    "  <tr>\n",
    "    <th>Statistic</th>\n",
    "    <th>LSDA</th> \n",
    "    <th>PBE</th> \n",
    "    <th>TPSS</th> \n",
    "    <th>HSE</th> \n",
    "  </tr>\n",
    "  <tr>\n",
    "    <td>ME</td>\n",
    "    <td>-1.14</td> \n",
    "    <td>-1.13</td> \n",
    "    <td>-0.98</td> \n",
    "    <td>-0.17</td> \n",
    "  </tr>\n",
    "  <tr>\n",
    "    <td>MAE</td>\n",
    "    <td>1.14</td> \n",
    "    <td>1.13</td> \n",
    "    <td>0.98</td> \n",
    "    <td>0.17</td> \n",
    "  </tr>\n",
    "  <tr>\n",
    "    <td>rms</td>\n",
    "    <td>1.24</td> \n",
    "    <td>1.25</td> \n",
    "    <td>1.12</td> \n",
    "    <td>0.34</td> \n",
    "  </tr>\n",
    "  <tr>\n",
    "    <td>Max (+)</td>\n",
    "    <td> - </td> \n",
    "    <td> - </td> \n",
    "    <td> - </td> \n",
    "    <td>0.32</td> \n",
    "  </tr>\n",
    "  <tr>\n",
    "    <td>Max (-)</td>\n",
    "    <td>-2.30</td> \n",
    "    <td>-2.88</td> \n",
    "    <td>-2.66</td> \n",
    "    <td>-0.72</td> \n",
    "  </tr>\n",
    "</table>\n",
    "\n",
    "\n",
    "Mean Absolute errors for atomization energies (eV)\n",
    "\n",
    "Scuseria et al., J. Chem. Phys., 123, 174101 (2005)\n"
   ]
  },
  {
   "cell_type": "markdown",
   "metadata": {
    "slideshow": {
     "slide_type": "slide"
    }
   },
   "source": [
    "# Hybrid Functionals with CP2K\n",
    "\n",
    " - GGA: total energy functional of the electron density\n",
    "\n",
    "$$\n",
    "E[\\rho] = T_S[\\rho] + J[\\rho] + E_{XC}[\\rho] + \\int v(\\mathbf{r})\\rho(\\mathbf{r})\\text{d}\\mathbf{r}\n",
    "$$\n",
    "\n",
    "- hybrid: functional of density and two particle density matrix (orbitals) \n",
    "\n",
    "$$\n",
    "E_{XC} = \\alpha E_X^{HFX}[\\psi_i] + (1 - \\alpha ) E_X^{DFT}[\\rho] + E_C^{DFT}[\\rho]\n",
    "$$\n",
    "\n",
    "Guidon, Hutter and VandeVondele, J. Chem. Theory Comput., 6, 2348 (2010)"
   ]
  },
  {
   "cell_type": "markdown",
   "metadata": {
    "slideshow": {
     "slide_type": "slide"
    }
   },
   "source": [
    "# Hybrid Functionals with CP2K\n",
    "\n",
    "- Hartree-Fock exchange energy\n",
    "\n",
    "$$\n",
    "E_X^{HFX} [P] = -\\frac{1}{2} \\sum_{\\lambda \\sigma \\mu \\nu} P^{\\mu \\sigma} P^{\\nu \\sigma} (\\mu \\nu | \\lambda \\sigma) \n",
    "$$\n",
    "\n",
    "$$\n",
    "P^{\\mu \\nu} = \\sum_i C^{\\mu i} C^{\\nu i} = CC^T\n",
    "$$\n",
    "\n",
    "$$\n",
    "(\\mu \\nu | \\lambda \\sigma) = \\int \\int \n",
    "\\phi_{\\mu}(\\mathbf{r_1})\\phi_{\\nu}(\\mathbf{r_1})\n",
    "g\\big(|\\mathbf{r_1} - \\mathbf{r_2}|\\big)\n",
    "\\phi_{\\lambda}(\\mathbf{r_2})\\phi_{\\sigma}(\\mathbf{r_2}) \\text{d}\\mathbf{r_1}\\text{d}\\mathbf{r_2}\n",
    "$$\n",
    "\n",
    "Four-centre two-electron integrals (ERIs) in Mulliken motation: naively $O(N^4)$ scaling"
   ]
  },
  {
   "cell_type": "markdown",
   "metadata": {
    "slideshow": {
     "slide_type": "slide"
    }
   },
   "source": [
    "# Hybrid Functionals with CP2K\n",
    "\n",
    "- permutation symmetry of the ERIs \n",
    "\n",
    "$$\n",
    "\\begin{align}\n",
    "(\\mu \\nu | \\lambda \\sigma) = (\\nu \\mu  | \\lambda \\sigma) = (\\nu \\mu | \\sigma \\lambda ) = (\\mu \\nu | \\sigma \\lambda ) \\\\\n",
    "= (\\lambda \\sigma | \\mu \\nu ) = (\\lambda \\sigma | \\nu \\mu ) = (\\sigma \\lambda | \\nu \\mu  ) = (\\sigma \\lambda | \\mu \\nu  ) \\\\\n",
    "\\end{align}\n",
    "$$\n",
    "\n",
    "$O(N^4) \\to \\frac{1}{8}O(N^4)$\n",
    "\n",
    "Guidon et al., J. Chem. Phys., 128, 214104 (2008)\n"
   ]
  },
  {
   "cell_type": "markdown",
   "metadata": {
    "slideshow": {
     "slide_type": "slide"
    }
   },
   "source": [
    "# Hybrid Functionals with CP2K\n",
    "\n",
    "- Integral screening: Schwarz inequality\n",
    "\n",
    "$$\n",
    "|(\\mu \\nu | \\lambda \\sigma)| \\leq |(\\mu \\nu | \\mu \\nu)|^{1/2}|(\\lambda \\sigma) | \\lambda \\sigma)|^{1/2}\n",
    "$$\n",
    "\n",
    "$\\frac{1}{8}O(N^4) \\to O(N^2)$\n",
    "\n",
    "Ahlrichs et al., J. Comput. Chem., 10, 104 (1989)\n",
    "\n",
    "(see [EPS_SCHWARZ](https://manual.cp2k.org/trunk/CP2K_INPUT/FORCE_EVAL/DFT/XC/HF/SCREENING.html#list_EPS_SCHWARZ) keyword in [&SCREENING](https://manual.cp2k.org/trunk/CP2K_INPUT/FORCE_EVAL/DFT/XC/HF/SCREENING.html) subsection)\n",
    "\n",
    "Guidon et al., J. Chem. Phys., 128, 214104 (2008)\n",
    "\n",
    "There is a limit for the largest possible contribution to the Fock matrix; one can avoid calculating interactions whose contributions are smaller than a given threshold; pre-compute all the two-index quantities; Schwarz inequality equation takes advantage of the exponential decay of the charge distributions $uv$ with respect to the distance between Gaussian centres $u$ and $v$\n"
   ]
  },
  {
   "cell_type": "markdown",
   "metadata": {
    "slideshow": {
     "slide_type": "slide"
    }
   },
   "source": [
    "# Hybrid Functionals with CP2K\n",
    "\n",
    "- Density matrix screening\n",
    "\n",
    "$$\n",
    "P_{\\text{max}} \\times |(\\mu \\nu | \\mu \\nu)|^{1/2}|(\\lambda \\sigma | \\lambda \\sigma)|^{1/2} \\leq \\epsilon_{\\text{Schwarz}}\n",
    "$$\n",
    "\n",
    "where \n",
    "\n",
    "$$\n",
    "P_{\\text{max}} = \\text{max}\\{|P_{\\mu \\lambda}|, |P_{\\mu \\sigma}|, |P_{\\nu \\lambda}|, |P_{\\nu \\sigma}|\\}\n",
    "$$\n",
    "\n",
    "finally linear scaling\n",
    "\n",
    "$$\n",
    "O(N^2) \\to O(N)\n",
    "$$\n",
    "\n",
    "(see [SCREEN_ON_INITIAL_P](SCREEN_ON_INITIAL_P) keyword in [&SCREENING](https://manual.cp2k.org/trunk/CP2K_INPUT/FORCE_EVAL/DFT/XC/HF/SCREENING.html) subsection)\n",
    "\n",
    "Guidon et al., J. Chem. Phys., 128, 214104 (2008)\n",
    "\n",
    "$P_{max}$: largest density matrix element; usually, the density matrix from the previous SCF iteration is used for the screening in the next iteration, use pre-converged GGA density matrix; very useful for DFT molecular dynamics simulations using hybrid functionals"
   ]
  },
  {
   "cell_type": "markdown",
   "metadata": {
    "slideshow": {
     "slide_type": "slide"
    }
   },
   "source": [
    "# Interaction Potential\n",
    "\n",
    "$$\n",
    "(\\mu \\nu | \\lambda \\sigma) = \\int \\int \n",
    "\\phi_{\\mu}(\\mathbf{r_1})\\phi_{\\nu}(\\mathbf{r_1})\n",
    "g\\big(|\\mathbf{r_1} - \\mathbf{r_2}|\\big)\n",
    "\\phi_{\\lambda}(\\mathbf{r_2})\\phi_{\\sigma}(\\mathbf{r_2}) \\text{d}\\mathbf{r_1}\\text{d}\\mathbf{r_2}\n",
    "$$\n",
    "\n",
    "- Standard Coulomb potential gives a global hybrid\n",
    "\n",
    "$$\n",
    "g(r) = \\frac{1}{r}\n",
    "$$\n",
    "\n",
    "(see [POTENTIAL_TYPE](https://manual.cp2k.org/trunk/CP2K_INPUT/FORCE_EVAL/DFT/XC/HF/INTERACTION_POTENTIAL.html#POTENTIAL_TYPE) keyword in [&INTERACTION_POTENTIAL](https://manual.cp2k.org/trunk/CP2K_INPUT/FORCE_EVAL/DFT/XC/HF/INTERACTION_POTENTIAL.html) subsection)\n",
    "\n",
    "Guidon et al., J. Chem. Phys., 128, 214104 (2008)\n",
    "\n",
    "For gas-phase, this energy is easy to evaluate; for periodic boundary conditions, it suffers from the integratable singularity, different approaches have been developed to obtain good convergence with respect to the $k$-point sum.\n"
   ]
  },
  {
   "cell_type": "markdown",
   "metadata": {
    "slideshow": {
     "slide_type": "slide"
    }
   },
   "source": [
    "# Interaction Potential\n",
    "\n",
    "$$\n",
    "(\\mu \\nu | \\lambda \\sigma) = \\int \\int \n",
    "\\phi_{\\mu}(\\mathbf{r_1})\\phi_{\\nu}(\\mathbf{r_1})\n",
    "g\\big(|\\mathbf{r_1} - \\mathbf{r_2}|\\big)\n",
    "\\phi_{\\lambda}(\\mathbf{r_2})\\phi_{\\sigma}(\\mathbf{r_2}) \\text{d}\\mathbf{r_1}\\text{d}\\mathbf{r_2}\n",
    "$$\n",
    "\n",
    "- Range-separated Coulomb potential gives a range-separated hybrid\n",
    "\n",
    "$$\n",
    "g(r) = \\frac{\\text{erfc}(\\omega r)}{r} + \\frac{\\text{erf}(\\omega r)}{r}\n",
    "$$\n",
    "\n",
    "used in HSE06 etc.\n",
    "\n",
    "(see [POTENTIAL_TYPE](https://manual.cp2k.org/trunk/CP2K_INPUT/FORCE_EVAL/DFT/XC/HF/INTERACTION_POTENTIAL.html#POTENTIAL_TYPE) keyword in [&INTERACTION_POTENTIAL](https://manual.cp2k.org/trunk/CP2K_INPUT/FORCE_EVAL/DFT/XC/HF/INTERACTION_POTENTIAL.html) subsection)\n",
    "\n",
    "Guidon et al., J. Chem. Phys., 128, 214104 (2008)\n",
    "\n",
    "If omega is not large enough very large cells might be needed for HSE calculations at the $\\Gamma$ point. Cost are very different from plane-wave implementions - HSE is not typically cheaper than PBE0 - see next slide."
   ]
  },
  {
   "cell_type": "markdown",
   "metadata": {
    "slideshow": {
     "slide_type": "slide"
    }
   },
   "source": [
    "# Interaction Potential\n",
    "\n",
    "$$\n",
    "(\\mu \\nu | \\lambda \\sigma) = \\int \\int \n",
    "\\phi_{\\mu}(\\mathbf{r_1})\\phi_{\\nu}(\\mathbf{r_1})\n",
    "g\\big(|\\mathbf{r_1} - \\mathbf{r_2}|\\big)\n",
    "\\phi_{\\lambda}(\\mathbf{r_2})\\phi_{\\sigma}(\\mathbf{r_2}) \\text{d}\\mathbf{r_1}\\text{d}\\mathbf{r_2}\n",
    "$$\n",
    "\n",
    "- truncated Coulomb potential gives a global hybrid\n",
    "\n",
    "$$\n",
    "g(r_{12}) = \n",
    "\\begin{cases}\n",
    "\\frac{1}{r_{12}} & \\text{if } r_{12} \\leq R_c \\\\\n",
    "0 & \\text{otherwise}\n",
    "\\end{cases}\n",
    "$$\n",
    "\n",
    "used in the snappily titles PBE0-TC family of functionals.\n",
    "\n",
    "$R_C$ is specified by the [CUTOFF_RADIUS](https://manual.cp2k.org/trunk/CP2K_INPUT/FORCE_EVAL/DFT/XC/HF/INTERACTION_POTENTIAL.html#list_CUTOFF_RADIUS) keyword.\n",
    "\n",
    "(see [POTENTIAL_TYPE](https://manual.cp2k.org/trunk/CP2K_INPUT/FORCE_EVAL/DFT/XC/HF/INTERACTION_POTENTIAL.html#POTENTIAL_TYPE) keyword in [&INTERACTION_POTENTIAL](https://manual.cp2k.org/trunk/CP2K_INPUT/FORCE_EVAL/DFT/XC/HF/INTERACTION_POTENTIAL.html) subsection)\n",
    "\n",
    "Guidon et al., J. Chem. Phys., 128, 214104 (2008)\n",
    "\n",
    "Truncation is mainly for solid-state environments and avoids numerical problems with $\\Gamma$ point global hybrid calculations.\n",
    "\n",
    "$R_C$ must be smaller than half the smallest cell dimension.\n",
    "\n",
    "Requires a `T_C_G_DATA` file - by default in /cp2k/data and a modern installation should just find it."
   ]
  },
  {
   "cell_type": "markdown",
   "metadata": {
    "slideshow": {
     "slide_type": "slide"
    }
   },
   "source": [
    "# Interaction Potential\n",
    "\n",
    "$$\n",
    "(\\mu \\nu | \\lambda \\sigma) = \\int \\int \n",
    "\\phi_{\\mu}(\\mathbf{r_1})\\phi_{\\nu}(\\mathbf{r_1})\n",
    "g\\big(|\\mathbf{r_1} - \\mathbf{r_2}|\\big)\n",
    "\\phi_{\\lambda}(\\mathbf{r_2})\\phi_{\\sigma}(\\mathbf{r_2}) \\text{d}\\mathbf{r_1}\\text{d}\\mathbf{r_2}\n",
    "$$\n",
    "\n",
    "- truncated Coulomb potential gives a global hybrid\n",
    "\n",
    "$$\n",
    "g(r_{12}) = \n",
    "\\begin{cases}\n",
    "\\frac{1}{r_{12}} & \\text{if } r_{12} \\leq R_c \\\\\n",
    "0 & \\text{otherwise}\n",
    "\\end{cases}\n",
    "$$\n",
    "\n",
    "\n",
    "We can add in a long range correction, to replace the exchange energy lost by truncation.\n",
    "\n",
    "See the [&PBE_HOLE_T_C_LR](https://manual.cp2k.org/trunk/CP2K_INPUT/FORCE_EVAL/DFT/XC/XC_FUNCTIONAL/PBE_HOLE_T_C_LR.html) subsection in the [&XC_FUNCTIONAL](https://manual.cp2k.org/trunk/CP2K_INPUT/FORCE_EVAL/DFT/XC/XC_FUNCTIONAL.html) section.\n",
    "\n",
    "This gives the even more snappily titled PBE0-TC-LRC family of functionals.\n",
    "\n",
    "Guidon et al., J. Chem. Theory Comput., 5, 3010 (2008)"
   ]
  },
  {
   "cell_type": "code",
   "execution_count": null,
   "metadata": {
    "collapsed": true
   },
   "outputs": [],
   "source": []
  }
 ],
 "metadata": {
  "celltoolbar": "Slideshow",
  "kernelspec": {
   "display_name": "Python 3",
   "language": "python",
   "name": "python3"
  },
  "language_info": {
   "codemirror_mode": {
    "name": "ipython",
    "version": 3
   },
   "file_extension": ".py",
   "mimetype": "text/x-python",
   "name": "python",
   "nbconvert_exporter": "python",
   "pygments_lexer": "ipython3",
   "version": "3.5.3"
  }
 },
 "nbformat": 4,
 "nbformat_minor": 2
}
