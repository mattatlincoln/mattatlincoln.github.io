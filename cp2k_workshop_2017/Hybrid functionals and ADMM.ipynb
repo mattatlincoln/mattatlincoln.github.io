{
 "cells": [
  {
   "cell_type": "markdown",
   "metadata": {
    "slideshow": {
     "slide_type": "slide"
    }
   },
   "source": [
    "# Hybrid functionals and ADMM\n",
    "\n",
    "<table cellspacing=\"0\" cellpadding=\"0\">\n",
    "<tr>\n",
    "<td><img src='../images/MgO-Ag_island.png' width=400></td>\n",
    "<td><img src='../images/cp2k_logo_500.png' width=200></td>\n",
    "<td><img src='../images/lincoln_crest.png' width=200></td>\n",
    "</tr>\n",
    "</table>\n",
    "\n",
    "## Matt Watkins\n",
    "\n",
    "### School of Mathematics and Physics, University of Lincoln, UK \n",
    "\n"
   ]
  },
  {
   "cell_type": "markdown",
   "metadata": {
    "slideshow": {
     "slide_type": "slide"
    }
   },
   "source": [
    "# What are hybrid functionals\n",
    "\n",
    "### Global Hybrid functions\n",
    "\n",
    "mixing non-local Hartree-Fock exchange with semi-local DFT exchange\n",
    "\n",
    "$$\n",
    "E_{XC} = \\alpha E_X^{HFX}[\\psi_i] + (1 - \\alpha ) E_X^{DFT}[\\rho] + E_C^{DFT}[\\rho]\n",
    "$$\n"
   ]
  },
  {
   "cell_type": "markdown",
   "metadata": {
    "slideshow": {
     "slide_type": "slide"
    }
   },
   "source": [
    "# Why do we need hybrids?\n",
    "\n",
    "## Practical motivations\n",
    "\n",
    "- Improved description of thermochemistry (e.g. atomizations energies, heats of formation)\n",
    "\n",
    "- Improved description of lattice constants, surface energies, ionization potentials and band gaps\n",
    "\n",
    "- Qualitatively correct description of localized and correlated states\n",
    "\n",
    "## Theoretical motivations\n",
    "\n",
    "- Adiabatic connection\n",
    "\n",
    "- 1-e energy level discontinuity\n"
   ]
  },
  {
   "cell_type": "markdown",
   "metadata": {
    "slideshow": {
     "slide_type": "slide"
    }
   },
   "source": [
    "# Why do we need hybrids?\n",
    "\n",
    "\n",
    "<table style=\"width:80%\">\n",
    "  <tr>\n",
    "    <th>Functional</th>\n",
    "    <th>MAE (G2) / eV</th> \n",
    "  </tr>\n",
    "  <tr>\n",
    "    <td>SVWN</td>\n",
    "    <td>5.2</td> \n",
    "  </tr>\n",
    "  <tr>\n",
    "    <td>LSD (SVWN5)</td>\n",
    "    <td>3.6</td> \n",
    "  </tr>\n",
    "  <tr>\n",
    "    <td>PBE </td>\n",
    "    <td>0.73</td> \n",
    "  </tr>\n",
    "  <tr>\n",
    "    <td>BLYP</td>\n",
    "    <td>0.31</td> \n",
    "  </tr>\n",
    "  <tr>\n",
    "    <td>B3LYP</td>\n",
    "    <td>0.13</td> \n",
    "  </tr>\n",
    "  <tr>\n",
    "    <td>PBE0</td>\n",
    "    <td>0.21</td> \n",
    "  </tr>\n",
    "</table>\n",
    "\n",
    "\n",
    "Mean Absolute errors for atomization energies (eV)\n",
    "\n",
    "Scuseria et al., J. Chem. Phys., 110, 5029 (1999)\n"
   ]
  },
  {
   "cell_type": "markdown",
   "metadata": {
    "slideshow": {
     "slide_type": "slide"
    }
   },
   "source": [
    "# Why do we need hybrids?\n",
    "\n",
    "\n",
    "<table style=\"width:80%\">\n",
    "  <tr>\n",
    "    <th>Statistic</th>\n",
    "    <th>LSDA</th> \n",
    "    <th>PBE</th> \n",
    "    <th>TPSS</th> \n",
    "    <th>HSE</th> \n",
    "  </tr>\n",
    "  <tr>\n",
    "    <td>ME</td>\n",
    "    <td>-1.14</td> \n",
    "    <td>-1.13</td> \n",
    "    <td>-0.98</td> \n",
    "    <td>-0.17</td> \n",
    "  </tr>\n",
    "  <tr>\n",
    "    <td>MAE</td>\n",
    "    <td>1.14</td> \n",
    "    <td>1.13</td> \n",
    "    <td>0.98</td> \n",
    "    <td>0.17</td> \n",
    "  </tr>\n",
    "  <tr>\n",
    "    <td>rms</td>\n",
    "    <td>1.24</td> \n",
    "    <td>1.25</td> \n",
    "    <td>1.12</td> \n",
    "    <td>0.34</td> \n",
    "  </tr>\n",
    "  <tr>\n",
    "    <td>Max (+)</td>\n",
    "    <td> - </td> \n",
    "    <td> - </td> \n",
    "    <td> - </td> \n",
    "    <td>0.32</td> \n",
    "  </tr>\n",
    "  <tr>\n",
    "    <td>Max (-)</td>\n",
    "    <td>-2.30</td> \n",
    "    <td>-2.88</td> \n",
    "    <td>-2.66</td> \n",
    "    <td>-0.72</td> \n",
    "  </tr>\n",
    "</table>\n",
    "\n",
    "\n",
    "Mean Absolute errors for Band Gaps (eV)\n",
    "\n",
    "Scuseria et al., J. Chem. Phys., 123, 174101 (2005)\n"
   ]
  },
  {
   "cell_type": "markdown",
   "metadata": {
    "slideshow": {
     "slide_type": "slide"
    }
   },
   "source": [
    "# Hybrid Functionals with CP2K\n",
    "\n",
    " - GGA: total energy functional of the electron density\n",
    "\n",
    "$$\n",
    "E[\\rho] = T_S[\\rho] + J[\\rho] + E_{XC}[\\rho] + \\int v(\\mathbf{r})\\rho(\\mathbf{r})\\text{d}\\mathbf{r}\n",
    "$$\n",
    "\n",
    "- hybrid: functional of density and two particle density matrix (orbitals) \n",
    "\n",
    "$$\n",
    "E_{XC} = \\alpha E_X^{HFX}[\\psi_i] + (1 - \\alpha ) E_X^{DFT}[\\rho] + E_C^{DFT}[\\rho]\n",
    "$$\n",
    "\n",
    "Guidon, Hutter and VandeVondele, J. Chem. Theory Comput., 6, 2348 (2010)"
   ]
  },
  {
   "cell_type": "markdown",
   "metadata": {
    "slideshow": {
     "slide_type": "slide"
    }
   },
   "source": [
    "# Hybrid Functionals with CP2K\n",
    "\n",
    "- Hartree-Fock exchange energy\n",
    "\n",
    "$$\n",
    "E_X^{HFX} [P] = -\\frac{1}{2} \\sum_{\\lambda \\sigma \\mu \\nu} P^{\\mu \\sigma} P^{\\nu \\sigma} (\\mu \\nu | \\lambda \\sigma) \n",
    "$$\n",
    "\n",
    "$$\n",
    "P^{\\mu \\nu} = \\sum_i C^{\\mu i} C^{\\nu i} = CC^T\n",
    "$$\n",
    "\n",
    "$$\n",
    "(\\mu \\nu | \\lambda \\sigma) = \\int \\int \n",
    "\\phi_{\\mu}(\\mathbf{r_1})\\phi_{\\nu}(\\mathbf{r_1})\n",
    "g\\big(|\\mathbf{r_1} - \\mathbf{r_2}|\\big)\n",
    "\\phi_{\\lambda}(\\mathbf{r_2})\\phi_{\\sigma}(\\mathbf{r_2}) \\text{d}\\mathbf{r_1}\\text{d}\\mathbf{r_2}\n",
    "$$\n",
    "\n",
    "Four-centre two-electron integrals (ERIs) in Mulliken motation: naively $O(N^4)$ scaling"
   ]
  },
  {
   "cell_type": "markdown",
   "metadata": {
    "slideshow": {
     "slide_type": "slide"
    }
   },
   "source": [
    "# Hybrid Functionals with CP2K\n",
    "\n",
    "- permutation symmetry of the ERIs \n",
    "\n",
    "$$\n",
    "\\begin{align}\n",
    "(\\mu \\nu | \\lambda \\sigma) = (\\nu \\mu  | \\lambda \\sigma) = (\\nu \\mu | \\sigma \\lambda ) = (\\mu \\nu | \\sigma \\lambda ) \\\\\n",
    "= (\\lambda \\sigma | \\mu \\nu ) = (\\lambda \\sigma | \\nu \\mu ) = (\\sigma \\lambda | \\nu \\mu  ) = (\\sigma \\lambda | \\mu \\nu  ) \\\\\n",
    "\\end{align}\n",
    "$$\n",
    "\n",
    "$O(N^4) \\to \\frac{1}{8}O(N^4)$\n",
    "\n",
    "Guidon et al., J. Chem. Phys., 128, 214104 (2008)\n"
   ]
  },
  {
   "cell_type": "markdown",
   "metadata": {
    "slideshow": {
     "slide_type": "slide"
    }
   },
   "source": [
    "# Hybrid Functionals with CP2K\n",
    "\n",
    "- Integral screening: Schwarz inequality\n",
    "\n",
    "$$\n",
    "|(\\mu \\nu | \\lambda \\sigma)| \\leq |(\\mu \\nu | \\mu \\nu)|^{1/2}|(\\lambda \\sigma) | \\lambda \\sigma)|^{1/2}\n",
    "$$\n",
    "\n",
    "$\\frac{1}{8}O(N^4) \\to O(N^2)$\n",
    "\n",
    "Ahlrichs et al., J. Comput. Chem., 10, 104 (1989)\n",
    "\n",
    "(see [EPS_SCHWARZ](https://manual.cp2k.org/trunk/CP2K_INPUT/FORCE_EVAL/DFT/XC/HF/SCREENING.html#list_EPS_SCHWARZ) keyword in [&SCREENING](https://manual.cp2k.org/trunk/CP2K_INPUT/FORCE_EVAL/DFT/XC/HF/SCREENING.html) subsection)\n",
    "\n",
    "Guidon et al., J. Chem. Phys., 128, 214104 (2008)"
   ]
  },
  {
   "cell_type": "markdown",
   "metadata": {
    "slideshow": {
     "slide_type": "slide"
    }
   },
   "source": [
    "# Hybrid Functionals with CP2K\n",
    "\n",
    "- Density matrix screening\n",
    "\n",
    "$$\n",
    "P_{\\text{max}} \\times |(\\mu \\nu | \\mu \\nu)|^{1/2}|(\\lambda \\sigma | \\lambda \\sigma)|^{1/2} \\leq \\epsilon_{\\text{Schwarz}}\n",
    "$$\n",
    "\n",
    "where \n",
    "\n",
    "$$\n",
    "P_{\\text{max}} = \\text{max}\\{|P_{\\mu \\lambda}|, |P_{\\mu \\sigma}|, |P_{\\nu \\lambda}|, |P_{\\nu \\sigma}|\\}\n",
    "$$\n",
    "\n",
    "finally linear scaling\n",
    "\n",
    "$$\n",
    "O(N^2) \\to O(N)\n",
    "$$\n",
    "\n",
    "(see [SCREEN_ON_INITIAL_P](SCREEN_ON_INITIAL_P) keyword in [&SCREENING](https://manual.cp2k.org/trunk/CP2K_INPUT/FORCE_EVAL/DFT/XC/HF/SCREENING.html) subsection)\n",
    "\n",
    "Guidon et al., J. Chem. Phys., 128, 214104 (2008)\n",
    "\n",
    "$P_{max}$: largest density matrix element; usually, the density matrix from the previous SCF iteration is used for the screening in the next iteration, use pre-converged GGA density matrix; very useful for DFT molecular dynamics simulations using hybrid functionals"
   ]
  },
  {
   "cell_type": "markdown",
   "metadata": {
    "slideshow": {
     "slide_type": "slide"
    }
   },
   "source": [
    "# Interaction Potential\n",
    "\n",
    "$$\n",
    "(\\mu \\nu | \\lambda \\sigma) = \\int \\int \n",
    "\\phi_{\\mu}(\\mathbf{r_1})\\phi_{\\nu}(\\mathbf{r_1})\n",
    "g\\big(|\\mathbf{r_1} - \\mathbf{r_2}|\\big)\n",
    "\\phi_{\\lambda}(\\mathbf{r_2})\\phi_{\\sigma}(\\mathbf{r_2}) \\text{d}\\mathbf{r_1}\\text{d}\\mathbf{r_2}\n",
    "$$\n",
    "\n",
    "- Standard Coulomb potential gives a global hybrid\n",
    "\n",
    "$$\n",
    "g(r) = \\frac{1}{r}\n",
    "$$\n",
    "\n",
    "(see [POTENTIAL_TYPE](https://manual.cp2k.org/trunk/CP2K_INPUT/FORCE_EVAL/DFT/XC/HF/INTERACTION_POTENTIAL.html#POTENTIAL_TYPE) keyword in [&INTERACTION_POTENTIAL](https://manual.cp2k.org/trunk/CP2K_INPUT/FORCE_EVAL/DFT/XC/HF/INTERACTION_POTENTIAL.html) subsection)\n",
    "\n",
    "Guidon et al., J. Chem. Phys., 128, 214104 (2008)\n",
    "\n",
    "For gas-phase, this energy is easy to evaluate; for periodic boundary conditions, it suffers from the integratable singularity, different approaches have been developed to obtain good convergence with respect to the $k$-point sum.\n"
   ]
  },
  {
   "cell_type": "markdown",
   "metadata": {
    "slideshow": {
     "slide_type": "slide"
    }
   },
   "source": [
    "# Interaction Potential\n",
    "\n",
    "$$\n",
    "(\\mu \\nu | \\lambda \\sigma) = \\int \\int \n",
    "\\phi_{\\mu}(\\mathbf{r_1})\\phi_{\\nu}(\\mathbf{r_1})\n",
    "g\\big(|\\mathbf{r_1} - \\mathbf{r_2}|\\big)\n",
    "\\phi_{\\lambda}(\\mathbf{r_2})\\phi_{\\sigma}(\\mathbf{r_2}) \\text{d}\\mathbf{r_1}\\text{d}\\mathbf{r_2}\n",
    "$$\n",
    "\n",
    "- Range-separated Coulomb potential gives a range-separated hybrid\n",
    "\n",
    "$$\n",
    "g(r) = \\frac{\\text{erfc}(\\omega r)}{r} + \\frac{\\text{erf}(\\omega r)}{r}\n",
    "$$\n",
    "\n",
    "used in HSE06 etc.\n",
    "\n",
    "(see [POTENTIAL_TYPE](https://manual.cp2k.org/trunk/CP2K_INPUT/FORCE_EVAL/DFT/XC/HF/INTERACTION_POTENTIAL.html#POTENTIAL_TYPE) keyword in [&INTERACTION_POTENTIAL](https://manual.cp2k.org/trunk/CP2K_INPUT/FORCE_EVAL/DFT/XC/HF/INTERACTION_POTENTIAL.html) subsection)\n",
    "\n",
    "Guidon et al., J. Chem. Phys., 128, 214104 (2008)\n",
    "\n",
    "If omega is not large enough very large cells might be needed for HSE calculations at the $\\Gamma$ point. \n",
    "\n",
    "Costs are very different from plane-wave implementions - HSE is not typically cheaper than PBE0 - see next slide."
   ]
  },
  {
   "cell_type": "markdown",
   "metadata": {
    "slideshow": {
     "slide_type": "slide"
    }
   },
   "source": [
    "# Interaction Potential\n",
    "\n",
    "$$\n",
    "(\\mu \\nu | \\lambda \\sigma) = \\int \\int \n",
    "\\phi_{\\mu}(\\mathbf{r_1})\\phi_{\\nu}(\\mathbf{r_1})\n",
    "g\\big(|\\mathbf{r_1} - \\mathbf{r_2}|\\big)\n",
    "\\phi_{\\lambda}(\\mathbf{r_2})\\phi_{\\sigma}(\\mathbf{r_2}) \\text{d}\\mathbf{r_1}\\text{d}\\mathbf{r_2}\n",
    "$$\n",
    "\n",
    "- truncated Coulomb potential gives a global hybrid\n",
    "\n",
    "$$\n",
    "g(r_{12}) = \n",
    "\\begin{cases}\n",
    "\\frac{1}{r_{12}} & \\text{if } r_{12} \\leq R_c \\\\\n",
    "0 & \\text{otherwise}\n",
    "\\end{cases}\n",
    "$$\n",
    "\n",
    "used in the snappily titles PBE0-TC family of functionals.\n",
    "\n",
    "$R_C$ is specified by the [CUTOFF_RADIUS](https://manual.cp2k.org/trunk/CP2K_INPUT/FORCE_EVAL/DFT/XC/HF/INTERACTION_POTENTIAL.html#list_CUTOFF_RADIUS) keyword.\n",
    "\n",
    "(see [POTENTIAL_TYPE](https://manual.cp2k.org/trunk/CP2K_INPUT/FORCE_EVAL/DFT/XC/HF/INTERACTION_POTENTIAL.html#POTENTIAL_TYPE) keyword in [&INTERACTION_POTENTIAL](https://manual.cp2k.org/trunk/CP2K_INPUT/FORCE_EVAL/DFT/XC/HF/INTERACTION_POTENTIAL.html) subsection)\n",
    "\n",
    "Guidon et al., J. Chem. Phys., 128, 214104 (2008)\n",
    "\n",
    "Truncation is mainly for solid-state environments and avoids numerical problems with $\\Gamma$ point global hybrid calculations.\n",
    "\n",
    "$R_C$ must be smaller than half the smallest cell dimension.\n",
    "\n",
    "Requires a `T_C_G_DATA` file - by default in `/cp2k/data` and a modern installation should just find it."
   ]
  },
  {
   "cell_type": "markdown",
   "metadata": {
    "slideshow": {
     "slide_type": "slide"
    }
   },
   "source": [
    "# Interaction Potential\n",
    "\n",
    "$$\n",
    "(\\mu \\nu | \\lambda \\sigma) = \\int \\int \n",
    "\\phi_{\\mu}(\\mathbf{r_1})\\phi_{\\nu}(\\mathbf{r_1})\n",
    "g\\big(|\\mathbf{r_1} - \\mathbf{r_2}|\\big)\n",
    "\\phi_{\\lambda}(\\mathbf{r_2})\\phi_{\\sigma}(\\mathbf{r_2}) \\text{d}\\mathbf{r_1}\\text{d}\\mathbf{r_2}\n",
    "$$\n",
    "\n",
    "- truncated Coulomb potential gives a global hybrid\n",
    "\n",
    "$$\n",
    "g(r_{12}) = \n",
    "\\begin{cases}\n",
    "\\frac{1}{r_{12}} & \\text{if } r_{12} \\leq R_c \\\\\n",
    "0 & \\text{otherwise}\n",
    "\\end{cases}\n",
    "$$\n",
    "\n",
    "\n",
    "We can add in a long range correction, to replace the exchange energy lost by truncation.\n",
    "\n",
    "See the [&PBE_HOLE_T_C_LR](https://manual.cp2k.org/trunk/CP2K_INPUT/FORCE_EVAL/DFT/XC/XC_FUNCTIONAL/PBE_HOLE_T_C_LR.html) subsection in the [&XC_FUNCTIONAL](https://manual.cp2k.org/trunk/CP2K_INPUT/FORCE_EVAL/DFT/XC/XC_FUNCTIONAL.html) section.\n",
    "\n",
    "This gives the even more snappily titled PBE0-TC-LRC family of functionals.\n",
    "\n",
    "Guidon et al., J. Chem. Theory Comput., 5, 3010 (2008)"
   ]
  },
  {
   "cell_type": "markdown",
   "metadata": {
    "slideshow": {
     "slide_type": "slide"
    }
   },
   "source": [
    "# Auxiliary Density Matrix Methods (ADMM)\n",
    "\n",
    "$$\n",
    "E[\\rho] = T_S[\\rho] + J[\\rho] + E_{XC}[\\rho, P] + \\int v(\\mathbf{r})\\rho(\\mathbf{r})\\text{d}\\mathbf{r}\n",
    "$$\n",
    "\n",
    "$$\n",
    "E_{XC} = \\alpha E_X^{HFX}[P] + (1 - \\alpha ) E_X^{DFT}[\\rho] + E_C^{DFT}[\\rho]\n",
    "$$\n",
    "\n",
    "$$\n",
    "E_X^{HFX} [P] = -\\frac{1}{2} \\sum_{\\lambda \\sigma \\mu \\nu} P^{\\mu \\sigma} P^{\\nu \\sigma} (\\mu \\nu | \\lambda \\sigma) \n",
    "$$\n",
    "\n",
    "introduce auxiliary density matrix $\\hat{P}\\approx P$ \n",
    "\n",
    "\\begin{align}\n",
    "E_X^{HFX} [P] & = E_X^{HFX}[\\hat{P}] + E_X^{HFX}[P] - E_X^{HFX}[\\hat{P}]\\\\\n",
    "              & \\approx E_X^{HFX}[\\hat{P}] + E_X^{DFT}[P] - E_X^{DFT}[\\hat{P}]\n",
    "\\end{align}\n",
    "\n",
    "\n",
    "Guidon, Hutter and VandeVondele, J. Chem. Theory Comput., 6, 2348 (2010)\n"
   ]
  },
  {
   "cell_type": "markdown",
   "metadata": {
    "slideshow": {
     "slide_type": "slide"
    }
   },
   "source": [
    "# Auxiliary Density Matrix Methods (ADMM)\n",
    "\n",
    "- total energy functional of both $P$ and $\\hat{P}$\n",
    "\n",
    "$$\n",
    "E_{total} = E[P] + \\hat{E}[\\hat{P}]\n",
    "$$\n",
    "\n",
    "- still Kohn-Sham theory with ADMM\n",
    "\n",
    "\\begin{align}\n",
    "K_{total} & = \\frac{\\partial E[P]}{ \\partial P} + \\frac{\\partial \\hat{E}[\\hat{P}]}{ \\partial P} \\\\\n",
    "          & = K + \\frac{\\partial \\hat{E}[\\hat{P}]}{ \\partial \\hat{P}}\\frac{\\partial \\hat{P}}{ \\partial P}\n",
    "\\end{align}\n",
    "\n",
    "using a chain rule and\n",
    "\n",
    "$$\n",
    "K_{total} C = SC\\epsilon\n",
    "$$\n",
    "\n",
    "as the equation to be solved self-consistently. (Simplest case given here, ADMM1)\n",
    "\n",
    "Guidon, Hutter and VandeVondele, J. Chem. Theory Comput., 6, 2348 (2010)"
   ]
  },
  {
   "cell_type": "markdown",
   "metadata": {
    "slideshow": {
     "slide_type": "slide"
    }
   },
   "source": [
    "# Auxiliary Density Matrix Methods (ADMM)\n",
    "\n",
    "- Construction of auxiliary density matrix\n",
    "\n",
    "\n",
    "$$\n",
    "\\hat{\\psi}_i (\\mathbf{r}) = \\sum_\\mu \\hat{C}^{\\mu i}\\hat{\\phi}_\\mu (\\mathbf{r})\n",
    "$$\n",
    "\n",
    "$$\n",
    "\\hat{P}^{\\mu \\nu} = \\sum_i \\hat{C}^{\\mu i} \\hat{C}^{\\nu i} = \\hat{C}\\hat{C}^T\n",
    "$$\n",
    "\n",
    "- we find the $\\hat{C}$ that minimises the difference between occupied wavefunctions in the primary and secondary basis sets:\n",
    "\n",
    "$$\n",
    "\\sum_i \\int \\big(\\psi_j(\\mathbf{r}) - \\hat{\\psi}_j(\\mathbf{r})\\big)^2 \\text{d}\\mathbf{r}\n",
    "$$\n",
    "(see ADMM_PURIFICATION_METHOD=NONE keyword in &AUXILIARY_DENSITY_MATRIX_METHOD subsection)\n",
    "\n",
    "Guidon, Hutter and VandeVondele, J. Chem. Theory Comput., 6, 2348 (2010)\n"
   ]
  },
  {
   "cell_type": "markdown",
   "metadata": {
    "slideshow": {
     "slide_type": "slide"
    }
   },
   "source": [
    "# Auxiliary Density Matrix Methods (ADMM)\n",
    "\n",
    "- Construction of auxiliary density matrix enforcing indempotent auxiliary density matrix\n",
    "\n",
    "$$\n",
    "\\hat{\\psi}_i (\\mathbf{r}) = \\sum_\\mu \\hat{C}^{\\mu i}\\hat{\\phi}_\\mu (\\mathbf{r})\n",
    "$$\n",
    "\n",
    "$$\n",
    "\\hat{P}^{\\mu \\nu} = \\sum_i \\hat{C}^{\\mu i} \\hat{C}^{\\nu i} = \\hat{C}\\hat{C}^T\n",
    "$$\n",
    "\n",
    "- we find the $\\hat{C}$ that minimises the difference between occupied wavefunctions in the primary and secondary basis sets subject to the constraint that the auxiliary wavefunctions are orthonormal:\n",
    "\n",
    "$$\n",
    "\\sum_i \\int  \\big(\\psi_j(\\mathbf{r}) - \\hat{\\psi}_j(\\mathbf{r})\\big)^2 \\text{d}\\mathbf{r} +\n",
    "\\sum_{k,l} \\Lambda_{kl} \\big( \\int \\hat{\\psi}_k(\\mathbf{r}) \\hat{\\psi}_l(\\mathbf{r}) \\text{d}\\mathbf{r} - \\delta_{kl}\\big)\n",
    "$$\n",
    "\n",
    "The $\\Lambda$ matrix contains the Lagrangian multipliers enforcing orthonormality. \n",
    "\n",
    "(see ADMM_PURIFICATION_METHOD=MO_DIAG keyword in &AUXILIARY_DENSITY_MATRIX_METHOD subsection)\n",
    "\n",
    "Guidon, Hutter and VandeVondele, J. Chem. Theory Comput., 6, 2348 (2010)\n"
   ]
  },
  {
   "cell_type": "markdown",
   "metadata": {
    "slideshow": {
     "slide_type": "slide"
    }
   },
   "source": [
    "# Auxiliary Density Matrix Methods (ADMM)\n",
    "\n",
    "- Construction of auxiliary density matrix constraint on total charge\n",
    "\n",
    "$$\n",
    "W_Q = \\sum_i^{\\text{occ}}<(i-\\tilde{i})^2> + \\lambda \\Bigg(\\frac{N}{2} - \\sum_i^{\\text{occ}}<\\tilde{i^2}>\\Bigg)\n",
    "$$\n",
    "\n",
    "(see EXCH_SCALING_MODEL keyword in &AUXILIARY_DENSITY_MATRIX_METHOD subsection)\n",
    "\n",
    "Merlot et al., J. Chem. Phys., 141, 094101 (2014)"
   ]
  },
  {
   "cell_type": "markdown",
   "metadata": {
    "slideshow": {
     "slide_type": "slide"
    }
   },
   "source": [
    "# ADMM forces\n",
    "\n",
    "$$\n",
    "\\frac{dE}{d \\mathbf{R}} = \\frac{dE[P]}{d \\mathbf{R}} + \\frac{d\\hat{E}[\\hat{P}]}{d \\mathbf{R}}\n",
    "$$\n",
    "\n",
    "where $\\hat{P}$ is defined via $\\hat{C} = AC$. Then various chain rules ...\n",
    "\n",
    "$$\n",
    " \\frac{d\\hat{E}[\\hat{P}]}{d \\mathbf{R}} +  \\frac{d\\hat{E}[\\hat{P}]}{d \\hat{C}}\\frac{\\hat{C}}{d \\mathbf{R}} = \\hat{U} \\frac{\\hat{C}}{d \\mathbf{R}}\n",
    "$$\n",
    "\n",
    "$$\n",
    " \\hat{U} = \\frac{d\\hat{E}[\\hat{P}]}{d \\hat{C}} = \\frac{d\\hat{E}[\\hat{P}]}{d \\hat{P}}\\frac{d\\hat{P}}{d \\hat{C}} = \\hat{K} \\hat{C}\n",
    "$$\n",
    "\n",
    "finally\n",
    "\n",
    "$$\n",
    " \\frac{d\\hat{E}[\\hat{P}]}{d \\mathbf{R}} = \\hat{U}_{ab}\\Big[ \\frac{dA}{d \\mathbf{R}} C \\Lambda^{-1/2} \\Big]_{ab} + \\hat{U}_{ab} \\Big[ AC \\frac{d \\Lambda^{-1/2}}{d \\mathbf{R}}\n",
    "\\Big]_{ab}\n",
    "$$\n",
    "\n",
    "Forces for MO_Diag and non-purified ADMM implemented. Linear algebra can get expensive for larger systems (reason for contracted auxiliary basis sets)"
   ]
  },
  {
   "cell_type": "markdown",
   "metadata": {
    "slideshow": {
     "slide_type": "slide"
    }
   },
   "source": [
    "# Auxiliary Density Matrix Methods (ADMM)\n",
    "\n",
    "- several GGA exchange corrections using different functionals\n",
    "\n",
    "\\begin{align}\n",
    "E_X^{HFX} [P] & = E_X^{HFX}[\\hat{P}] + E_X^{HFX}[P] - E_X^{HFX}[\\hat{P}]\\\\\n",
    "              & \\approx E_X^{HFX}[\\hat{P}] + E_X^{DFT}[P] - E_X^{DFT}[\\hat{P}]\n",
    "\\end{align}\n",
    "\n",
    "\n",
    "DFT can be B88, PBE, OPTX, KT3X\n",
    "\n",
    "(see EXCH_CORRECTION_FUNC keyword in &AUXILIARY_DENSITY_MATRIX_METHOD subsection)\n"
   ]
  },
  {
   "cell_type": "markdown",
   "metadata": {
    "slideshow": {
     "slide_type": "slide"
    }
   },
   "source": [
    "# ADMM basis sets\n",
    "\n",
    "Initially available from H to Cl optimized against atomic calculations\n",
    "\n",
    "Choice of auxiliary basis set for ADMM\n",
    "\n",
    "- FIT3: three Gaussian exponents for each valence orbital\n",
    "- cFIT3: a contraction of FIT3\n",
    "- pFIT3: FIT3 + polarization functions\n",
    "- cpFIT3: cFIT3 + polarization functions\n",
    "- aug-FIT3, aug-cFIT3, aug-pFIT3, aug-cpFIT3: augmented with a “diffuse” function\n",
    "\n",
    "(see $CP2K/cp2k/data/BASIS_ADMM)\n",
    "\n",
    "Guidon, Hutter and VandeVondele, J. Chem. Theory Comput., 6, 2348 (2010)\n"
   ]
  },
  {
   "cell_type": "markdown",
   "metadata": {
    "slideshow": {
     "slide_type": "slide"
    }
   },
   "source": [
    "# ADMM basis sets\n",
    "\n",
    "Uncontracted basis sets for transition metals:\n",
    "\n",
    "- FIT10: 4s + 3p + 3d\n",
    "- FIT11: 4s + 3p + 3d + 1f\n",
    "- FIT12: 4s + 3p + 4d + 1f\n",
    "- FIT13: 4s + 4p + 4d + 1f\n",
    "\n",
    "Contracted basis sets (double-$\\zeta$ quality)\n",
    "\n",
    "- cFIT10 / cFIT11 / cFIT12 / cFIT13\n",
    "\n",
    "\n",
    "Names of the ADMM basis sets for main group elements will differ slightly, and usually the first ADMM basis set will not contain polarisation function.\n",
    "\n",
    "(see $CP2K/cp2k/data/BASIS_ADMM_MOLOPT)\n",
    "\n",
    "Ling & Slater, unpublished\n"
   ]
  },
  {
   "cell_type": "markdown",
   "metadata": {
    "slideshow": {
     "slide_type": "slide"
    }
   },
   "source": [
    "# General remarks\n",
    "\n",
    "- Always check the convergence of CUTOFF\n",
    "- Always check the convergence of properties (e.g. lattice parameters, band gaps) with respect to supercell sizes\n",
    "- Always start from pre-converged GGA (e.g. PBE) wavefunction and geometry\n",
    "- Always check the convergence of primary and ADMM basis sets \n",
    "    - start from a small basis and gradually increase the size\n",
    "- ADMM has only been implemented for use with GPW\n",
    "- Only ADMM1 will work with some other functionality (smearing, TDDFPT)\n"
   ]
  },
  {
   "cell_type": "markdown",
   "metadata": {
    "slideshow": {
     "slide_type": "slide"
    }
   },
   "source": [
    "# Example: Diamond band-gap\n",
    "\n",
    "\n",
    "<table style=\"width:100%\">\n",
    "  <tr>\n",
    "    <th>method</th>\n",
    "    <th>number of integrals</th> \n",
    "    <th>gap [eV]</th> \n",
    "  </tr>\n",
    "  <tr>\n",
    "    <td>PBE (PBS)</td>\n",
    "    <td> </td> \n",
    "    <td>4.17</td> \n",
    "  </tr>\n",
    "  <tr>\n",
    "    <td>PBE (ABS)</td>\n",
    "    <td> </td> \n",
    "    <td>4.37</td> \n",
    "  </tr>\n",
    "  <tr>\n",
    "    <td>PBE0 (PBS)</td>\n",
    "    <td>40, 787, 850, 778, 591 </td> \n",
    "    <td>6.07</td> \n",
    "  </tr>\n",
    "  <tr>\n",
    "    <td>PBE0 (ABS)</td>\n",
    "    <td> 23, 561, 509, 497</td> \n",
    "    <td>6.25</td> \n",
    "  </tr>\n",
    "  <tr>\n",
    "    <td>PBE0 ADMM1</td>\n",
    "    <td>24, 816, 897, 009 </td> \n",
    "    <td>6.03</td> \n",
    "  </tr>\n",
    "  <tr>\n",
    "    <td>PBE0 ADMM2</td>\n",
    "    <td> 24, 795, 460, 638</td> \n",
    "    <td>6.02</td> \n",
    "  </tr>\n",
    "</table>\n",
    "\n",
    "\n",
    "\n",
    "Guidon, Hutter and VandeVondele, J. Chem. Theory Comput., 6, 2348 (2010)\n"
   ]
  },
  {
   "cell_type": "markdown",
   "metadata": {
    "slideshow": {
     "slide_type": "slide"
    }
   },
   "source": [
    "# Example: Silicon band-gap\n",
    "\n",
    "<table style=\"width:100%\">\n",
    "  <tr>\n",
    "    <th>Cutoff Radius [nm]</th>\n",
    "    <th>Band gap [eV]</th> \n",
    "    <th># Integrals</th> \n",
    "  </tr>\n",
    "  <tr>\n",
    "    <td>0.2 </td>\n",
    "    <td>1.16 $^a$</td> \n",
    "    <td>77799946176 $^a$</td> \n",
    "  </tr>\n",
    "  <tr>\n",
    "    <td>0.4 </td>\n",
    "    <td>1.54 $^a$</td> \n",
    "    <td>154325979000 $^a$</td> \n",
    "  </tr>\n",
    "  <tr>\n",
    "    <td>0.6 </td>\n",
    "    <td>1.71 $^a$</td> \n",
    "    <td>265868148312 $^a$</td> \n",
    "  </tr>\n",
    "  <tr>\n",
    "    <td>0.8 </td>\n",
    "    <td>1.78 $^a$</td> \n",
    "    <td>422457823080 $^a$</td> \n",
    "  </tr>\n",
    "</table>\n",
    "\n",
    "PBE0-TC-LRC with cFIT3 ADMM basis, 3x3x3 supercell, 216 atoms\n",
    "\n",
    "<table style=\"width:100%\">\n",
    "  <tr>\n",
    "    <th>ADMM basis</th>\n",
    "    <th>Band gap [eV]</th> \n",
    "    <th># Integrals</th> \n",
    "  </tr>\n",
    "  <tr>\n",
    "    <td>cFIT3 </td>\n",
    "    <td>1.16 $^a$ </td> \n",
    "    <td>422457823080 $^a$</td> \n",
    "  </tr>\n",
    "  <tr>\n",
    "    <td>FIT3 </td>\n",
    "    <td>1.80 $^a$ </td> \n",
    "    <td>424426850352 $^a$</td> \n",
    "  </tr>\n",
    "  <tr>\n",
    "    <td>pFIT3 </td>\n",
    "    <td>1.98 $^a$ </td> \n",
    "    <td>1447428361680 $^a$</td> \n",
    "  </tr>\n",
    "  <tr>\n",
    "    <td>Ref. (VASP) </td>\n",
    "    <td>1.93 $^b$</td> \n",
    "    <td></td> \n",
    "  </tr>\n",
    "</table>\n",
    "\n",
    "PBE0-TC-LRC with 8 Å cutoff radius, 3x3x3 supercell, 216 atoms\n",
    "\n",
    "$^a$ Ling & Slater, unpublished; $^b$ Paier et al., J. Chem. Phys. 124, 154709 (2006)"
   ]
  },
  {
   "cell_type": "markdown",
   "metadata": {
    "slideshow": {
     "slide_type": "slide"
    }
   },
   "source": [
    "# Functionals\n",
    "\n",
    "- PBE0-TC-LRC, Long Range Corrected truncated global hybrid\n",
    "\n",
    "\n",
    "$$\n",
    "E_{XC}^{PBE0-TC-LRC} = aE_{X}^{HF,TC}(R_c) + aE_{X}^{PBE,LRC}(R_c) + (1-a)E_{X}^{PBE} + E_C^{PBE}\n",
    "$$\n",
    "\n",
    "Guidon et al., J. Chem. Theory Comput., 5, 3010 (2008)\n",
    "Spencer & Alavi, Phys. Rev. B, 77, 193110 (2008)\n",
    "\n",
    "- HSE, Range separated hybrid\n",
    "\n",
    "$$\n",
    "E_{XC}^{HSE} = aE_{X}^{HF,SR}(\\omega)+ (1-a)E_{X}^{PBE,SR}(\\omega) + E_{X}^{PBE,LR}(\\omega) + E_C^{PBE}\n",
    "$$\n",
    "\n",
    "\n",
    "Scuceria et al., J. Chem. Phys., 125, 224106 (2006)\n",
    "\n",
    "\"Empirical\" parameters: $a, R_c,$ and $\\omega$\n",
    "\n",
    "(note the 0 in PBE0 stands for 0 empirical parameters...)"
   ]
  },
  {
   "cell_type": "markdown",
   "metadata": {
    "slideshow": {
     "slide_type": "slide"
    }
   },
   "source": [
    "# Input structure\n",
    "\n",
    "<code>\n",
    "  &DFT\n",
    "\t…\n",
    "\tBASIS_SET_FILE_NAME ./BASIS_MOLOPT\n",
    "\tBASIS_SET_FILE_NAME ./BASIS_ADMM\n",
    "\tWFN_RESTART_FILE_NAME ${project}-RESTART.wfn\n",
    "\t&SCF\n",
    "\t\tSCF_GUESS RESTART\n",
    "\t\t…\n",
    "\t&END SCF\n",
    "\t&AUXILIARY_DENSITY_MATRIX_METHOD\n",
    "      \t\tMETHOD BASIS_PROJECTION\n",
    "      \t\tADMM_PURIFICATION_METHOD MO_DIAG\n",
    "    \t&END AUXILIARY_DENSITY_MATRIX_METHOD\n",
    "\t…\n",
    "\t&XC\n",
    "\t…\n",
    "\t&END XC\n",
    "  &END DFT\n",
    "  &SUBSYS\n",
    "\t&KIND Si\n",
    "\t\tBASIS_SET DZVP-MOLOPT-SR-GTH\n",
    "\t\tAUX_FIT_BASIS_SET FIT3\n",
    "\t\tPOTENTIAL GTH-PBE-q4\n",
    " \t&END KIND\n",
    "  &END SUBSYS\n",
    "</code>"
   ]
  },
  {
   "cell_type": "markdown",
   "metadata": {
    "slideshow": {
     "slide_type": "slide"
    }
   },
   "source": [
    "<style>\n",
    "* {\n",
    "    box-sizing: border-box;\n",
    "}\n",
    ".column {\n",
    "    float: left;\n",
    "    padding: 10px;\n",
    "    font-size: small;\n",
    "}\n",
    ".clearfix::after {\n",
    "    content: \"\";\n",
    "    clear: both;\n",
    "    display: table;\n",
    "}\n",
    ".content {\n",
    "    width: 50%;\n",
    "}\n",
    "</style>\n",
    "\n",
    "# PBE0 vs HSE\n",
    "\n",
    "Input structure\n",
    "\n",
    "<div class=\"clearfix\">\n",
    "  <div class=\"column content\">\n",
    "    <code>\n",
    "    <font size=2>\n",
    "    &XC\n",
    "      &XC_FUNCTIONAL\n",
    "        &PBE\n",
    "          SCALE_X 0.75\n",
    "          SCALE_C 1.0\n",
    "        &END PBE\n",
    "        &PBE_HOLE_T_C_LR\n",
    "          CUTOFF_RADIUS 2.0\n",
    "          SCALE_X 0.25\n",
    "        &END PBE_HOLE_T_C_LR\n",
    "      &END XC_FUNCTIONAL\n",
    "      &HF\n",
    "        &SCREENING\n",
    "          EPS_SCHWARZ 1.0E-6\n",
    "          SCREEN_ON_INITIAL_P FALSE\n",
    "        &END SCREENING\n",
    "        &INTERACTION_POTENTIAL\n",
    "          POTENTIAL_TYPE TRUNCATED\n",
    "          CUTOFF_RADIUS 2.0\n",
    "          T_C_G_DATA ./t_c_g.dat\n",
    "        &END INTERACTION_POTENTIAL\n",
    "        &MEMORY\n",
    "          MAX_MEMORY 2400\n",
    "          EPS_STORAGE_SCALING 0.1\n",
    "        &END MEMORY\n",
    "        FRACTION 0.25\n",
    "      &END HF\n",
    "    &END XC\n",
    "    </font>\n",
    "    </code>  \n",
    "    </div>\n",
    "\n",
    "  <div class=\"column content\">\n",
    "    <code>\n",
    "    <font size=2>\n",
    " &XC\n",
    "      &XC_FUNCTIONAL\n",
    "       &PBE\n",
    "        SCALE_X 0.0\n",
    "        SCALE_C 1.0\n",
    "       &END PBE\n",
    "       &XWPBE\n",
    "        SCALE_X -0.25\n",
    "        SCALE_X0 1.0\n",
    "        OMEGA 0.11\n",
    "       &END XWPBE\n",
    "      &END XC_FUNCTIONAL\n",
    "      &HF\n",
    "        &SCREENING\n",
    "          EPS_SCHWARZ 1.0E-6\n",
    "          SCREEN_ON_INITIAL_P FALSE\n",
    "        &END SCREENING\n",
    "        &INTERACTION_POTENTIAL\n",
    "          POTENTIAL_TYPE SHORTRANGE\n",
    "          OMEGA 0.11\n",
    "        &END INTERACTION_POTENTIAL\n",
    "        &MEMORY\n",
    "          MAX_MEMORY  2400\n",
    "          EPS_STORAGE_SCALING 0.1\n",
    "        &END MEMORY\n",
    "        FRACTION 0.25\n",
    "      &END HF\n",
    "    &END XC\n",
    "    </font>\n",
    "    </code>\n",
    "    </div>\n",
    "\n",
    "(see examples in $CP2K/cp2k/tests/QS/regtest-admm-1/2/3/4)"
   ]
  },
  {
   "cell_type": "markdown",
   "metadata": {
    "slideshow": {
     "slide_type": "subslide"
    }
   },
   "source": [
    "<div class=\"clearfix\">\n",
    "  <div class=\"column content\">\n",
    "    <code>\n",
    "    &XC\n",
    "      &XC_FUNCTIONAL\n",
    "        &PBE\n",
    "          SCALE_X 0.75\n",
    "          SCALE_C 1.0\n",
    "        &END PBE\n",
    "        &PBE_HOLE_T_C_LR\n",
    "          CUTOFF_RADIUS 2.0\n",
    "          SCALE_X 0.25\n",
    "        &END PBE_HOLE_T_C_LR\n",
    "      &END XC_FUNCTIONAL\n",
    "      ...\n",
    "    &END XC\n",
    "    </font>\n",
    "    </code>  \n",
    "    </div>\n",
    "\n",
    "  <div class=\"column content\">\n",
    "    <code>\n",
    "    &XC\n",
    "      &XC_FUNCTIONAL\n",
    "       &PBE\n",
    "        SCALE_X 0.0\n",
    "        SCALE_C 1.0\n",
    "       &END PBE\n",
    "       &XWPBE\n",
    "        SCALE_X -0.25\n",
    "        SCALE_X0 1.0\n",
    "        OMEGA 0.11\n",
    "       &END XWPBE\n",
    "      &END XC_FUNCTIONAL\n",
    "      ...\n",
    "    &END XC\n",
    "    </font>\n",
    "    </code>\n",
    "    </div>\n"
   ]
  },
  {
   "cell_type": "markdown",
   "metadata": {
    "slideshow": {
     "slide_type": "subslide"
    }
   },
   "source": [
    "<div class=\"clearfix\">\n",
    "  <div class=\"column content\">\n",
    "    <code>    \n",
    "    <font size=3>\n",
    "    &XC\n",
    "      ...\n",
    "      &HF\n",
    "        &SCREENING\n",
    "          EPS_SCHWARZ 1.0E-6\n",
    "          SCREEN_ON_INITIAL_P FALSE\n",
    "        &END SCREENING\n",
    "        &INTERACTION_POTENTIAL\n",
    "          POTENTIAL_TYPE TRUNCATED\n",
    "          CUTOFF_RADIUS 2.0\n",
    "          T_C_G_DATA ./t_c_g.dat\n",
    "        &END INTERACTION_POTENTIAL\n",
    "        &MEMORY\n",
    "          MAX_MEMORY 2400\n",
    "          EPS_STORAGE_SCALING 0.1\n",
    "        &END MEMORY\n",
    "        FRACTION 0.25\n",
    "      &END HF\n",
    "    &END XC\n",
    "    </font>\n",
    "    </code>  \n",
    "    </div>\n",
    "\n",
    "  <div class=\"column content\">\n",
    "    <code>\n",
    "    <font size=3>\n",
    "    &XC\n",
    "      ...\n",
    "      &HF\n",
    "        &SCREENING\n",
    "          EPS_SCHWARZ 1.0E-6\n",
    "          SCREEN_ON_INITIAL_P FALSE\n",
    "        &END SCREENING\n",
    "        &INTERACTION_POTENTIAL\n",
    "          POTENTIAL_TYPE SHORTRANGE\n",
    "          OMEGA 0.11\n",
    "        &END INTERACTION_POTENTIAL\n",
    "        &MEMORY\n",
    "          MAX_MEMORY  2400\n",
    "          EPS_STORAGE_SCALING 0.1\n",
    "        &END MEMORY\n",
    "        FRACTION 0.25\n",
    "      &END HF\n",
    "    &END XC\n",
    "    </font>\n",
    "    </code>\n",
    "    </div>\n"
   ]
  },
  {
   "cell_type": "markdown",
   "metadata": {
    "slideshow": {
     "slide_type": "slide"
    }
   },
   "source": [
    "# Output\n",
    "\n",
    "<font size=3>\n",
    "```\n",
    "  Step     Update method      Time    Convergence         Total energy    Change\n",
    "\n",
    "  HFX_MEM_INFO| Est. max. program size before HFX [MiB]:                     563\n",
    "\n",
    "  *** WARNING in hfx_energy_potential.F:600 :: The Kohn Sham matrix is not  ***\n",
    "  *** 100% occupied. This may result in incorrect Hartree-Fock results. Try ***\n",
    "  *** to decrease EPS_PGF_ORB and EPS_FILTER_MATRIX in the QS section. For  ***\n",
    "  *** more information see FAQ: https://www.cp2k.org/faq:hfx_eps_warning    ***\n",
    "\n",
    "  HFX_MEM_INFO| Number of cart. primitive ERI's calculated:         218851035670\n",
    "  HFX_MEM_INFO| Number of sph. ERI's calculated:                    152193561473\n",
    "  HFX_MEM_INFO| Number of sph. ERI's stored in-core:                 22711518963\n",
    "  HFX_MEM_INFO| Number of sph. ERI's stored on disk:                           0\n",
    "  HFX_MEM_INFO| Number of sph. ERI's calculated on the fly:                    0\n",
    "  HFX_MEM_INFO| Total memory consumption ERI's RAM [MiB]:                  21290\n",
    "  HFX_MEM_INFO| Whereof max-vals [MiB]:                                     1516\n",
    "  HFX_MEM_INFO| Total compression factor ERI's RAM:                         8.14\n",
    "  HFX_MEM_INFO| Total memory consumption ERI's disk [MiB]:                     0\n",
    "  HFX_MEM_INFO| Total compression factor ERI's disk:                        0.00\n",
    "  HFX_MEM_INFO| Size of density/Fock matrix [MiB]:                           764\n",
    "  HFX_MEM_INFO| Size of buffers [MiB]:                                       118\n",
    "  HFX_MEM_INFO| Number of periodic image cells considered:                     7\n",
    "  HFX_MEM_INFO| Est. max. program size after HFX  [MiB]:                    1549\n",
    "\n",
    "     1 OT DIIS     0.80E-01   82.1     0.00000107    -17361.4683416734 -1.74E+04\n",
    "     2 OT DIIS     0.80E-01   43.3     0.00000085    -17361.4683473031 -5.63E-06\n",
    "```\n",
    "\n",
    "`Number of sph. ERI's calculated on the fly:` should be zero - keep in memory."
   ]
  },
  {
   "cell_type": "markdown",
   "metadata": {
    "collapsed": true,
    "slideshow": {
     "slide_type": "slide"
    }
   },
   "source": [
    "# Extra remarks\n",
    "\n",
    "- Libint library is used to calculate ERIs and their analytic derivatives, see $CP2K/cp2k/INSTALL for more details on installation and linking with CP2K\n",
    "\n",
    "- Hybrid DFT calculations of large systems are memory demanding, try to increase MAX_MEMORY or run the job with more MPI processes\n",
    "\n",
    "- For extremely large hybrid DFT calculations, try hybrid MPI/OpenMP binary (i.e. cp2k.psmp)\n"
   ]
  },
  {
   "cell_type": "markdown",
   "metadata": {
    "slideshow": {
     "slide_type": "slide"
    }
   },
   "source": [
    "# Examples\n",
    "\n",
    "TiO$_2$ is everyone's favourite material - hybrid calculations with ~1000 atoms and good basis sets using CP2K\n",
    "\n",
    "<table cellspacing=\"0\" cellpadding=\"0\">\n",
    "<tr>\n",
    "<td><img src='../images/prl_fig3.png' width=300></td>\n",
    "<td><img src='images/struc_multimers.png' width=300></td>\n",
    "</tr>\n",
    "<tr>\n",
    "<td><img src='../images/prl_fig4.png' width=300></td>\n",
    "<td><img src='images/STM_multimers.png' width=300></td>\n",
    "</tr>\n",
    "</table>\n",
    "\n",
    "\n",
    "\n",
    "Yim et al, Phys. Rev. Lett. 117, 116402 (2016) \n"
   ]
  },
  {
   "cell_type": "markdown",
   "metadata": {
    "slideshow": {
     "slide_type": "slide"
    }
   },
   "source": [
    "# Fun and games\n",
    "\n",
    "ADMM is not just an approximation to full hybrid DFT, but can be used in other ways\n",
    "\n",
    "- embedding: smaller basis sets / no basis sets on some atoms\n",
    "\n",
    "<table cellspacing=\"0\" cellpadding=\"0\">\n",
    "<tr><td><img src='../images/MgO-Ag_island.png' width=350>\n",
    "</td><td><img src='images/admm_metals.png' width=250></td>\n",
    "</td><td><img src='images/MgO-Ag_bandgap.png' width=350></td>\n",
    "</tr>\n",
    "</table>\n",
    "\n",
    "\n",
    "Ling et al. \"Effects of oxide roughness at metal oxide interface: MgO on Ag (001).\"  J.  Phys. Chem. C 117.10 (2013): 5075-5083.\n",
    "\n",
    "- flexible +U: only have ADMM basis sets of certain angular momentum, e.g. just set of d-orbitals on Ti atoms.\n"
   ]
  },
  {
   "cell_type": "markdown",
   "metadata": {
    "slideshow": {
     "slide_type": "slide"
    }
   },
   "source": [
    "# Thanks\n",
    "\n",
    "- Sanliang Ling, University College London (these slides are basically his reformatted)\n",
    "- CP2K developers\n",
    "\n",
    "---\n",
    "\n",
    " Exercises [here](https://www.cp2k.org/exercises:2017_uzh_cp2k-tutorial:hybrid)"
   ]
  }
 ],
 "metadata": {
  "celltoolbar": "Slideshow",
  "kernelspec": {
   "display_name": "Python 3",
   "language": "python",
   "name": "python3"
  },
  "language_info": {
   "codemirror_mode": {
    "name": "ipython",
    "version": 3
   },
   "file_extension": ".py",
   "mimetype": "text/x-python",
   "name": "python",
   "nbconvert_exporter": "python",
   "pygments_lexer": "ipython3",
   "version": "3.6.1"
  }
 },
 "nbformat": 4,
 "nbformat_minor": 2
}
