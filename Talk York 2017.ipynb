{
 "cells": [
  {
   "cell_type": "code",
   "execution_count": 1,
   "metadata": {
    "collapsed": false,
    "deletable": true,
    "editable": true,
    "slideshow": {
     "slide_type": "skip"
    }
   },
   "outputs": [
    {
     "data": {
      "text/plain": [
       "'3.0.2'"
      ]
     },
     "execution_count": 1,
     "metadata": {},
     "output_type": "execute_result"
    }
   ],
   "source": [
    "import nbpresent\n",
    "nbpresent.__version__"
   ]
  },
  {
   "cell_type": "code",
   "execution_count": 2,
   "metadata": {
    "collapsed": true,
    "deletable": true,
    "editable": true,
    "nbpresent": {
     "id": "51979b91-ac98-41d3-a507-8a9b62b14d39"
    },
    "slideshow": {
     "slide_type": "skip"
    }
   },
   "outputs": [],
   "source": [
    "from IPython.display import display, HTML"
   ]
  },
  {
   "cell_type": "code",
   "execution_count": 3,
   "metadata": {
    "collapsed": false,
    "deletable": true,
    "editable": true,
    "nbpresent": {
     "id": "0a6a6b18-66f7-491d-ba64-a92875bc9e78"
    },
    "slideshow": {
     "slide_type": "skip"
    }
   },
   "outputs": [
    {
     "data": {
      "text/html": [
       "\n",
       "<style>\n",
       "img {border-radius: 8px;\n",
       "}</style>\n"
      ],
      "text/plain": [
       "<IPython.core.display.HTML object>"
      ]
     },
     "execution_count": 3,
     "metadata": {},
     "output_type": "execute_result"
    }
   ],
   "source": [
    "HTML(\"\"\"\n",
    "<style>\n",
    "img {border-radius: 8px;\n",
    "}</style>\n",
    "\"\"\")\n"
   ]
  },
  {
   "cell_type": "markdown",
   "metadata": {
    "deletable": true,
    "editable": true,
    "nbpresent": {
     "id": "9429035f-84ab-497a-a96c-3b45738c912c"
    },
    "slideshow": {
     "slide_type": "slide"
    }
   },
   "source": [
    "# 3D molecular resolution at solvated Fluorite (111) surface: theory meets experiment\n",
    "\n",
    "<table cellspacing=\"0\" cellpadding=\"0\">\n",
    "<tr><td><img src='images/caco3.png' width=400></td><td><img src='images/lincoln_crest.png' width=200></td></tr>\n",
    "</table>\n",
    "\n",
    "# Matt Watkins, \n",
    "## School of Mathematics and Physics, University of Lincoln, UK\n"
   ]
  },
  {
   "cell_type": "markdown",
   "metadata": {
    "deletable": true,
    "editable": true,
    "slideshow": {
     "slide_type": "slide"
    }
   },
   "source": [
    "# Scanning probes\n",
    "\n",
    "<table><tr><td><img src='images/dyn_an16.gif'></td><td><img src='images/ani_stm.gif'></td></tr></table>\n",
    "\n",
    "Atomic force microscopy and Scanning Tunnelling microscopy.\n",
    "\n",
    "Local measurements.\n",
    "\n",
    "Invasive?\n",
    "\n",
    "Ambient or liquid conditions?"
   ]
  },
  {
   "cell_type": "markdown",
   "metadata": {
    "deletable": true,
    "editable": true,
    "slideshow": {
     "slide_type": "slide"
    }
   },
   "source": [
    "# 3D Solvation Structures on CaF$_2$\n",
    "\n",
    "UHV measurements at 4K are all very well, but some applications require a more *fluid* environment\n",
    "\n",
    "- solar cells\n",
    "- batteries\n",
    "- photocathode / anodes\n",
    "\n",
    "and of course study of material processes like weathering, corrosion, catalysis"
   ]
  },
  {
   "cell_type": "markdown",
   "metadata": {
    "deletable": true,
    "editable": true,
    "slideshow": {
     "slide_type": "slide"
    }
   },
   "source": [
    "# 3D Solvation Structures on CaF$_2$\n",
    "\n",
    "UHV measurements at 4K are all very well, but some applications require a more *fluid* environment\n",
    "\n",
    "- solar cells\n",
    "- batteries\n",
    "- photocathode / anodes\n",
    "\n",
    "and of course study of material processes like weathering, corrosion, catalysis\n",
    "\n",
    "### How do we see water density above a surface?"
   ]
  },
  {
   "cell_type": "markdown",
   "metadata": {
    "deletable": true,
    "editable": true,
    "slideshow": {
     "slide_type": "slide"
    }
   },
   "source": [
    "## How do we see water density above a surface?\n",
    "\n",
    "<img src=\"images/caco3.png\" height=\"200\" width=\"400\">\n",
    "\n",
    "AFM - we'll see that this allows 3D mapping of the interface structure."
   ]
  },
  {
   "cell_type": "markdown",
   "metadata": {
    "deletable": true,
    "editable": true,
    "slideshow": {
     "slide_type": "slide"
    }
   },
   "source": [
    "## 2 sided strategy: manipulate both experiment and simulation data for comparison\n",
    "\n",
    "<img src=\"images/nanoscale2.gif\" height=\"200\" width=\"500\">\n",
    "\n",
    "<font size=\"2\">K Miyazawa, N Kobayashi, MW, AL Shluger, K Amano, T Fukuma, Nanoscale 8, 7334 (2016)</font>"
   ]
  },
  {
   "cell_type": "markdown",
   "metadata": {
    "deletable": true,
    "editable": true,
    "slideshow": {
     "slide_type": "slide"
    }
   },
   "source": [
    "## Theory: Solvent tip model\n",
    "\n",
    "We don't know the actual tip apex - historical problem with AFM.\n",
    "\n",
    "Hypothesize that there are likely strongly bound water molecules at the tip apex - and take them as the tip\n",
    "\n",
    "They feed force back onto the cantilever.\n",
    "\n",
    "![](images/sta1.png)\n",
    "\n",
    "<font size=\"2\">M Watkins, B Reischl, The Journal of chemical physics 138, 154703 (2013)</font>"
   ]
  },
  {
   "cell_type": "markdown",
   "metadata": {
    "deletable": true,
    "editable": true,
    "slideshow": {
     "slide_type": "slide"
    }
   },
   "source": [
    "## Statistical mechanical model\n",
    "\n",
    "pure water model leads to\n",
    "\n",
    "$$\n",
    "\\Delta\\Delta G(\\mathbf{r}) = -k_BT \\ln \\frac{\\rho(\\mathbf{r})}{\\rho_{\\rm{bulk}}}\n",
    "$$\n",
    "\n",
    "for the free energy change of bringing the tip model (water molecule) from the bulk liquid to $\\mathbf{r}$\n",
    "\n",
    "$$\n",
    "F(\\mathbf{r}) = \\frac{\\partial \\Delta\\Delta G(\\mathbf{r})}{\\partial z} = \\frac{k_bT}{\\rho(\\mathbf{r})}\\frac{ \\partial \\rho(\\mathbf{r})}{\\partial z}\n",
    "$$\n",
    "\n",
    "this is the 'short range' force exerted on the tip apex.\n",
    "\n",
    "<font size=\"2\">M Watkins, B Reischl, The Journal of chemical physics 138, 154703 (2013)</font>"
   ]
  },
  {
   "cell_type": "markdown",
   "metadata": {
    "deletable": true,
    "editable": true,
    "slideshow": {
     "slide_type": "slide"
    }
   },
   "source": [
    "## Macro vs Nano\n",
    "\n",
    "<table><tr><td><img src='images/dyn_an16.gif'></td><td><img src=\"images/caco3.png\" height=\"100\" width=\"300\"></td></tr></table>\n",
    "\n",
    "cantilever is macroscopic, tip apex is nanoscopic\n",
    "\n",
    "experiment measures frequency change due to all interactions - macro + nano"
   ]
  },
  {
   "cell_type": "markdown",
   "metadata": {
    "deletable": true,
    "editable": true,
    "slideshow": {
     "slide_type": "slide"
    }
   },
   "source": [
    "## Experiment: Macroscopic effects\n",
    "\n",
    "removed empirically by subtracting force from averaged long range scan data over several surface locations\n",
    "\n",
    "<table cellspacing=\"0\" cellpadding=\"0\">\n",
    "<tr><td><img src='images/long_range.png' width=600></td></tr>\n",
    "</table>\n",
    "\n",
    "<font size=\"2\">K Miyazawa, N Kobayashi, MW, AL Shluger, K Amano, T Fukuma, Nanoscale 8, 7334 (2016)</font>"
   ]
  },
  {
   "cell_type": "markdown",
   "metadata": {
    "deletable": true,
    "editable": true,
    "slideshow": {
     "slide_type": "slide"
    }
   },
   "source": [
    "## Experiment: fast AFM\n",
    "\n",
    "$\\textbf{3D AFM technique}$ and $\\textbf{pattern matching}$ routines for massive speed up in image collection efficiency.\n",
    "\n",
    "<table cellspacing=\"0\" cellpadding=\"0\">\n",
    "<tr>\n",
    "<td><img src='images/hi-speed_afm.jpg' width=600></td>\n",
    "</tr>\n",
    "<tr>\n",
    "<td><img src='images/fast_afm_image_proc2.png' width=600></td>\n",
    "</tr>\n",
    "</table>\n",
    "\n",
    "- Allows image collection within few minutes of exposure of surface to liquid\n",
    "    - (We also use it on the simulation data)\n",
    "\n",
    "- Enables data collection in pure water.\n",
    "\n",
    "- No longer true atomic resolution\n",
    "\n",
    "<font size=\"2\">K Miyazawa, N Kobayashi, MW, AL Shluger, K Amano, T Fukuma, Nanoscale 8, 7334 (2016)</font>"
   ]
  },
  {
   "cell_type": "markdown",
   "metadata": {
    "deletable": true,
    "editable": true,
    "slideshow": {
     "slide_type": "slide"
    }
   },
   "source": [
    "## Qualitative comparison of data\n",
    "\n",
    "<table cellspacing=\"0\" cellpadding=\"0\">\n",
    "<tr><td><img src='images/nanoscale1.gif' width=200></td><td><img src='images/nanoscale3.gif' width=600></td></tr>\n",
    "</table>\n",
    "\n",
    "<font size=\"2\">K Miyazawa, N Kobayashi, MW, AL Shluger, K Amano, T Fukuma, Nanoscale 8, 7334 (2016)</font>"
   ]
  },
  {
   "cell_type": "markdown",
   "metadata": {
    "deletable": true,
    "editable": true,
    "slideshow": {
     "slide_type": "slide"
    }
   },
   "source": [
    "## Can also compare to MD free energy calculation with explicit tips\n",
    "\n",
    "<img src=\"images/nanoscale4.gif\" alt=\"caf2_md\" height=\"200\" width=\"600\">\n",
    "\n",
    "STA does better than an incorrect tip model\n",
    "\n",
    "<font size=\"2\">K Miyazawa, N Kobayashi, MW, AL Shluger, K Amano, T Fukuma, Nanoscale 8, 7334 (2016)</font>"
   ]
  },
  {
   "cell_type": "markdown",
   "metadata": {
    "deletable": true,
    "editable": true,
    "slideshow": {
     "slide_type": "slide"
    }
   },
   "source": [
    "## Realistic environment\n",
    "\n",
    "The above were all obtained in pure water.\n",
    "\n",
    "- requires complicated experimental protocols\n",
    "\n",
    "- not a realistic environment for many of the motivations\n"
   ]
  },
  {
   "cell_type": "markdown",
   "metadata": {
    "deletable": true,
    "editable": true,
    "slideshow": {
     "slide_type": "slide"
    }
   },
   "source": [
    "## Realistic environment\n",
    "\n",
    "The above were all obtained in pure water.\n",
    "\n",
    "- requires complicated experimental protocols\n",
    "\n",
    "- not a realistic environment for many of the motivations\n",
    "\n",
    "### What changes in electrolyte solution?"
   ]
  },
  {
   "cell_type": "markdown",
   "metadata": {
    "deletable": true,
    "editable": true,
    "slideshow": {
     "slide_type": "slide"
    }
   },
   "source": [
    "## Comparison to supersaturated solution\n",
    "\n",
    "- The supersaturated solution ( s = 100 ) was prepared by mixing the same amounts of 38 mM CaCl$_2$ and 76 mM KF solutions\n",
    "\n",
    "<img src=\"images/large_scale_nanotech.png\" alt=\"caf2_large\" height=\"200\" width=\"600\">\n",
    "\n",
    "<font size=\"2\">K Miyazawa, MW, AL Shluger, T Fukuma, Nanotechnology 28, 245701 (2017)</font>"
   ]
  },
  {
   "cell_type": "markdown",
   "metadata": {
    "deletable": true,
    "editable": true,
    "slideshow": {
     "slide_type": "slide"
    }
   },
   "source": [
    "## Adsorbed ions?\n",
    "\n",
    "- we use the same protocol as before\n",
    "\n",
    "<img src=\"images/protocol_nanotech.png\" alt=\"caf2_large\" height=\"200\" width=\"600\">\n",
    "\n",
    "<font size=\"2\">K Miyazawa, MW, AL Shluger, T Fukuma, Nanotechnology 28, 245701 (2017)</font>"
   ]
  },
  {
   "cell_type": "markdown",
   "metadata": {
    "deletable": true,
    "editable": true,
    "slideshow": {
     "slide_type": "slide"
    }
   },
   "source": [
    "## Adsorbed ions?\n",
    "\n",
    "<img src=\"images/force_comp_nanotech.png\" alt=\"caf2_large\" height=\"200\" width=\"600\">\n",
    "\n",
    "Possible specific cation adorption.\n",
    "\n",
    "<font size=\"2\">K Miyazawa, MW, AL Shluger, T Fukuma, Nanotechnology 28, 245701 (2017)</font>"
   ]
  },
  {
   "cell_type": "markdown",
   "metadata": {
    "deletable": true,
    "editable": true,
    "slideshow": {
     "slide_type": "slide"
    }
   },
   "source": [
    "## Challenge for simulation\n",
    "\n",
    "here is a ~20 ns simulation of the supersaturated solution\n",
    "\n",
    "- of the order of 1 CaF$_2$ ion complex per 50 nm$^2$"
   ]
  },
  {
   "cell_type": "code",
   "execution_count": 4,
   "metadata": {
    "collapsed": false,
    "deletable": true,
    "editable": true,
    "slideshow": {
     "slide_type": "fragment"
    }
   },
   "outputs": [
    {
     "data": {
      "text/html": [
       "<video width=\"520\" height=\"500\" controls>\n",
       "  <source src=\"images/F2.mp4\" type=\"video/mp4\">\n",
       "</video>"
      ],
      "text/plain": [
       "<IPython.core.display.HTML object>"
      ]
     },
     "metadata": {},
     "output_type": "display_data"
    }
   ],
   "source": [
    "%%HTML\n",
    "<video width=\"520\" height=\"500\" controls>\n",
    "  <source src=\"images/F2.mp4\" type=\"video/mp4\">\n",
    "</video>"
   ]
  },
  {
   "cell_type": "markdown",
   "metadata": {
    "deletable": true,
    "editable": true,
    "slideshow": {
     "slide_type": "slide"
    }
   },
   "source": [
    "# Conclusions\n",
    "\n",
    "- Evidence suggests here that stable tips are not very invasive – measurement of equilibrium water density\n",
    "- Theory vs experiment: short range forces above Ca. \n",
    "- Better agreement between implicit tip model and experiment than explicit MD\n",
    "    - better tip models are needed!\n",
    "- Towards mapping specific ion adsorption sites and exploring electrolyte solutions\n",
    "    - need to be cleverer than brute force to simulate"
   ]
  },
  {
   "cell_type": "markdown",
   "metadata": {
    "deletable": true,
    "editable": true,
    "slideshow": {
     "slide_type": "slide"
    }
   },
   "source": [
    "## Thanks to\n",
    "\n",
    "- Leverhulme Trust for initial funding\n",
    "- Alex Shluger, University College London\n",
    "- Takeshi Fukuma, Kanazawa University\n",
    "- Adam Foster, Aalto\n",
    "- Bernhard Reichl, Curtin University\n",
    "\n",
    "## Lincoln is here\n",
    "\n",
    "<table>\n",
    "<tr><td><img src='images/lincoln_loc.png' width=200></td><td><img src='images/brayford.png' width=200></td><td><img src='images/lincoln_dep.png' width=200></td></tr>\n",
    "</table>\n"
   ]
  }
 ],
 "metadata": {
  "anaconda-cloud": {},
  "celltoolbar": "Slideshow",
  "kernelspec": {
   "display_name": "Python [default]",
   "language": "python",
   "name": "python3"
  },
  "language_info": {
   "codemirror_mode": {
    "name": "ipython",
    "version": 3
   },
   "file_extension": ".py",
   "mimetype": "text/x-python",
   "name": "python",
   "nbconvert_exporter": "python",
   "pygments_lexer": "ipython3",
   "version": "3.5.3"
  },
  "nbpresent": {
   "slides": {
    "0ebecd45-b732-48b1-9a61-337601b66c36": {
     "id": "0ebecd45-b732-48b1-9a61-337601b66c36",
     "prev": "49d2905f-ea59-4005-bed6-f033338d0c5b",
     "regions": {
      "8ff90a2f-5a6a-43d1-899d-29598d77b4bf": {
       "attrs": {
        "height": 0.8,
        "width": 0.8,
        "x": 0.1,
        "y": 0.1
       },
       "content": {
        "cell": "b2b66d90-8743-4bfd-aa04-153d9ab0dc5e",
        "part": "whole"
       },
       "id": "8ff90a2f-5a6a-43d1-899d-29598d77b4bf"
      }
     },
     "theme": null
    },
    "156a4649-695e-4632-ac1e-bdf5c6a8eacb": {
     "id": "156a4649-695e-4632-ac1e-bdf5c6a8eacb",
     "prev": "29036003-3ff4-4145-ba3d-8caae0b8c76a",
     "regions": {
      "ab06c11b-82c5-4f8b-b7c3-0ab9b705bbb6": {
       "attrs": {
        "height": 1,
        "width": 1,
        "x": 0,
        "y": 0
       },
       "id": "ab06c11b-82c5-4f8b-b7c3-0ab9b705bbb6"
      }
     }
    },
    "29036003-3ff4-4145-ba3d-8caae0b8c76a": {
     "id": "29036003-3ff4-4145-ba3d-8caae0b8c76a",
     "prev": "430e0a2e-5262-4b28-a051-d9a80ffc0355",
     "regions": {
      "121c9c0a-51ef-4075-b917-bde3d68b051b": {
       "attrs": {
        "height": 0.8,
        "width": 0.8,
        "x": 0.1,
        "y": 0.1
       },
       "content": {
        "cell": "2464908b-8e7b-42cc-a0b4-2c2c7398354a",
        "part": "whole"
       },
       "id": "121c9c0a-51ef-4075-b917-bde3d68b051b"
      },
      "51f1f0c2-5e6f-428a-afa6-080a3917978f": {
       "attrs": {
        "height": 0.4,
        "width": 0.8,
        "x": 0.1,
        "y": 0.5
       },
       "content": {
        "cell": "ba80c02f-8976-43a5-a8d1-03e90200399c",
        "part": "whole"
       },
       "id": "51f1f0c2-5e6f-428a-afa6-080a3917978f"
      },
      "79885bdb-2db9-4f4b-b028-f6fb09f8c745": {
       "attrs": {
        "height": 0.4,
        "width": 0.8,
        "x": 0.1,
        "y": 0.5
       },
       "content": {
        "cell": "71708c50-eafc-49c9-b9f8-43df3d0fac51",
        "part": "whole"
       },
       "id": "79885bdb-2db9-4f4b-b028-f6fb09f8c745"
      }
     }
    },
    "430e0a2e-5262-4b28-a051-d9a80ffc0355": {
     "id": "430e0a2e-5262-4b28-a051-d9a80ffc0355",
     "prev": "cd629fad-2962-4ac6-84ed-46b139d27766",
     "regions": {
      "382058fd-edb3-490a-b804-d3610c318664": {
       "attrs": {
        "height": 0.8,
        "width": 0.8,
        "x": 0.1,
        "y": 0.1
       },
       "content": {
        "cell": "ce303531-4574-4bb0-a61c-8f46244f9aba",
        "part": "whole"
       },
       "id": "382058fd-edb3-490a-b804-d3610c318664"
      }
     }
    },
    "49d2905f-ea59-4005-bed6-f033338d0c5b": {
     "id": "49d2905f-ea59-4005-bed6-f033338d0c5b",
     "layout": "grid",
     "prev": "8b698690-b27e-4111-ac36-846bdc87a1c2",
     "regions": {
      "ea9b1897-127f-4bcd-bce0-77cf63f5a3dd": {
       "attrs": {
        "height": 0.8333333333333334,
        "pad": 0.01,
        "width": 0.8333333333333333,
        "x": 0.08333333333333333,
        "y": 0.08333333333333333
       },
       "content": {
        "cell": "053610d7-d278-4462-b26b-5a99ffd8e2b3",
        "part": "whole"
       },
       "id": "ea9b1897-127f-4bcd-bce0-77cf63f5a3dd"
      }
     }
    },
    "4f880d1e-629f-4dc8-a1b6-8422ec97f207": {
     "id": "4f880d1e-629f-4dc8-a1b6-8422ec97f207",
     "prev": "edcdb233-47f6-4dd1-b1ce-ae3fd095777f",
     "regions": {
      "292cbe74-7643-440e-88e3-fe1de96f65c4": {
       "attrs": {
        "height": 0.4,
        "width": 0.8,
        "x": 0.1,
        "y": 0.5
       },
       "content": {
        "cell": "1cd8745e-a2d4-4b5d-84ca-983053903a74",
        "part": "whole"
       },
       "id": "292cbe74-7643-440e-88e3-fe1de96f65c4"
      },
      "46edce44-58c8-4e4e-ae3f-c6a68552a04c": {
       "attrs": {
        "height": 0.8,
        "width": 0.8,
        "x": 0.1,
        "y": 0.1
       },
       "content": {
        "cell": "ea4b6a27-5c71-4107-8ab6-12b1c58b9f35",
        "part": "whole"
       },
       "id": "46edce44-58c8-4e4e-ae3f-c6a68552a04c"
      },
      "9b3fe64e-56bc-4a1e-a954-2f6bb60db681": {
       "attrs": {
        "height": 0.4,
        "width": 0.8,
        "x": 0.1,
        "y": 0.5
       },
       "content": {
        "cell": "39b75b1e-0962-4592-8151-7e58a1c5fb72",
        "part": "whole"
       },
       "id": "9b3fe64e-56bc-4a1e-a954-2f6bb60db681"
      },
      "d16575d1-ab1a-4a9a-b0b6-9f9775d056af": {
       "attrs": {
        "height": 0.4,
        "width": 0.8,
        "x": 0.1,
        "y": 0.5
       },
       "content": {
        "cell": "ad7216ab-f3d9-4e6c-973a-770d7f93fdbc",
        "part": "whole"
       },
       "id": "d16575d1-ab1a-4a9a-b0b6-9f9775d056af"
      }
     }
    },
    "8b698690-b27e-4111-ac36-846bdc87a1c2": {
     "id": "8b698690-b27e-4111-ac36-846bdc87a1c2",
     "prev": null,
     "regions": {
      "ba7683a5-55ca-4ca0-9700-486c9efe30aa": {
       "attrs": {
        "height": 0.8,
        "width": 0.8,
        "x": 0.1,
        "y": 0.1
       },
       "content": {
        "cell": "9429035f-84ab-497a-a96c-3b45738c912c",
        "part": "whole"
       },
       "id": "ba7683a5-55ca-4ca0-9700-486c9efe30aa"
      }
     }
    },
    "cd629fad-2962-4ac6-84ed-46b139d27766": {
     "id": "cd629fad-2962-4ac6-84ed-46b139d27766",
     "prev": "0ebecd45-b732-48b1-9a61-337601b66c36",
     "regions": {
      "9263b49b-2781-4795-9273-9379ab79526d": {
       "attrs": {
        "height": 0.8,
        "width": 0.8,
        "x": 0.1,
        "y": 0.1
       },
       "content": {
        "cell": "484730b7-0089-4e72-b22b-de3937f29e37",
        "part": "whole"
       },
       "id": "9263b49b-2781-4795-9273-9379ab79526d"
      }
     }
    },
    "edcdb233-47f6-4dd1-b1ce-ae3fd095777f": {
     "id": "edcdb233-47f6-4dd1-b1ce-ae3fd095777f",
     "prev": "156a4649-695e-4632-ac1e-bdf5c6a8eacb",
     "regions": {
      "e90bcb75-f5fe-4391-9dec-e444740ff73e": {
       "attrs": {
        "height": 0.8,
        "width": 0.8,
        "x": 0.1,
        "y": 0.1
       },
       "content": {
        "cell": "b1062223-74f1-4754-9036-11700d6175a3",
        "part": "whole"
       },
       "id": "e90bcb75-f5fe-4391-9dec-e444740ff73e"
      },
      "fa3e7a62-63d4-4f10-b7fc-d90b5544d347": {
       "attrs": {
        "height": 0.4,
        "width": 0.8,
        "x": 0.1,
        "y": 0.5
       },
       "content": {
        "cell": "ff25f33b-b30d-4fbf-a467-855b6f3fd114",
        "part": "source"
       },
       "id": "fa3e7a62-63d4-4f10-b7fc-d90b5544d347"
      }
     }
    }
   },
   "themes": {}
  }
 },
 "nbformat": 4,
 "nbformat_minor": 0
}
